{
 "cells": [
  {
   "cell_type": "markdown",
   "metadata": {},
   "source": [
    "# Play"
   ]
  },
  {
   "cell_type": "code",
   "execution_count": 8,
   "metadata": {},
   "outputs": [],
   "source": [
    "def match(agents, render=False, reset=True):\n",
    "    if reset:\n",
    "        obs, is_done = env.reset(), False    \n",
    "    else:\n",
    "        obs, is_done = env.regenerate_obs(), False    \n",
    "    \n",
    "    while not is_done:\n",
    "        if agents[env.current_player] is None:\n",
    "            state = env.get_state()\n",
    "            prediction = calc_correct_output(env.players[env.current_player].hand_cards, env.table_card, env.players[env.current_player].tricks, env.players[1 - env.current_player].tricks)\n",
    "           # print(prediction)\n",
    "            env.set_state(state)\n",
    "            #print(\"1\", prediction, env.players[env.current_player].hand_cards[np.argmax(prediction)].color.name, env.players[env.current_player].hand_cards[np.argmax(prediction)].value.name)\n",
    "            a = env.players[env.current_player].hand_cards[np.argmax(prediction)].id\n",
    "\n",
    "            #break\n",
    "        else:\n",
    "            prediction = agents[env.current_player].predict_single(obs)[0]\n",
    "           # print(\"2\", prediction)\n",
    "            #print(prediction, np.argmax(prediction))\n",
    "            \n",
    "            valid_moves = np.zeros((32,))       \n",
    "            for card in env.players[env.current_player].hand_cards:\n",
    "                valid_moves[card.id] = 1\n",
    "\n",
    "            prediction_valid = np.ma.masked_where(valid_moves == 0, prediction)\n",
    "            a = np.argmax(prediction_valid)            \n",
    "            \n",
    "                    \n",
    "        obs, rew, is_done, _ = env.step(a)\n",
    "        \n",
    "        if render:\n",
    "            env.render('human')\n",
    "            sleep(1)\n",
    "       # if env.lastTrick  is not None:\n",
    "        #    break\n",
    "    return env.current_player\n",
    "\n",
    "def compare(agent1, agent2):\n",
    "    agents = [agent1, agent2]\n",
    "    first_player_wins = 0\n",
    "    \n",
    "    for i in range(10000):\n",
    "        start_player = random.randint(0, 1)\n",
    "        winner = match([agents[start_player], agents[1 - start_player]])\n",
    "        first_player_wins += ((winner == 0) == (start_player == 0))\n",
    "        #print(start_player, winner)\n",
    "    \n",
    "    return first_player_wins / 10000\n",
    "\n",
    "def compare_given_games(agent1, agent2, games):\n",
    "    agents = [agent1, agent2]\n",
    "    first_player_wins = 0\n",
    "    \n",
    "    for game in games:\n",
    "        for start_player in range(2):\n",
    "            set_env(*game)\n",
    "            env.current_player = start_player\n",
    "            winner = match(agents, reset=False)\n",
    "            first_player_wins += (winner == 0)\n",
    "    \n",
    "    return first_player_wins / (len(games) * 2)"
   ]
  },
  {
   "cell_type": "code",
   "execution_count": null,
   "metadata": {},
   "outputs": [],
   "source": []
  },
  {
   "cell_type": "code",
   "execution_count": null,
   "metadata": {},
   "outputs": [],
   "source": []
  }
 ],
 "metadata": {
  "kernelspec": {
   "display_name": "Python 3",
   "language": "python",
   "name": "python3"
  },
  "language_info": {
   "codemirror_mode": {
    "name": "ipython",
    "version": 3
   },
   "file_extension": ".py",
   "mimetype": "text/x-python",
   "name": "python",
   "nbconvert_exporter": "python",
   "pygments_lexer": "ipython3",
   "version": "3.6.3"
  }
 },
 "nbformat": 4,
 "nbformat_minor": 2
}
