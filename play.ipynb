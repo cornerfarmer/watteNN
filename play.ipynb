{
 "cells": [
  {
   "cell_type": "markdown",
   "metadata": {},
   "source": [
    "# Play"
   ]
  },
  {
   "cell_type": "code",
   "execution_count": 202,
   "metadata": {},
   "outputs": [],
   "source": [
    "def match(agents, render=False):\n",
    "    obs, is_done = env.reset(), False    \n",
    "    \n",
    "    while not is_done:\n",
    "        if agents[env.current_player] is None:\n",
    "            state = env.get_state()\n",
    "            prediction = calc_correct_output_sample(env.players[env.current_player].hand_cards, env.table_card, env.players[env.current_player].tricks, env.players[1 - env.current_player].tricks, env.players[1 - env.current_player].hand_cards)\n",
    "           # print(prediction)\n",
    "            env.set_state(state)\n",
    "            #print(\"1\", prediction, env.players[env.current_player].hand_cards[np.argmax(prediction)].color.name, env.players[env.current_player].hand_cards[np.argmax(prediction)].value.name)\n",
    "            a = env.players[env.current_player].hand_cards[np.argmax(prediction)].id\n",
    "\n",
    "            #break\n",
    "        else:\n",
    "            prediction = agents[env.current_player].predict_single(obs)[0]\n",
    "           # print(\"2\", prediction)\n",
    "            #print(prediction, np.argmax(prediction))\n",
    "            valid_moves = np.array([1 if card in env.players[env.current_player].hand_cards else 0 for card in env.cards])       \n",
    "\n",
    "            prediction_valid = np.ma.masked_where(valid_moves == 0, prediction)\n",
    "            a = np.argmax(prediction_valid)\n",
    "            #print(a)\n",
    "            \n",
    "            \n",
    "                    \n",
    "        obs, rew, is_done, _ = env.step(a)\n",
    "        \n",
    "        if render:\n",
    "            env.render('human')\n",
    "            sleep(1)\n",
    "       # if env.lastTrick  is not None:\n",
    "        #    break\n",
    "    return env.current_player\n",
    "\n",
    "def compare(agent1, agent2):\n",
    "    agents = [agent1, agent2]\n",
    "    first_player_wins = 0\n",
    "    \n",
    "    for i in range(1000):\n",
    "        start_player = random.randint(0, 1)\n",
    "        winner = match([agents[start_player], agents[1 - start_player]])\n",
    "        first_player_wins += ((winner == 0) == (start_player == 0))\n",
    "        #print(start_player, winner)\n",
    "    \n",
    "    return first_player_wins / 1000"
   ]
  },
  {
   "cell_type": "code",
   "execution_count": null,
   "metadata": {},
   "outputs": [],
   "source": []
  }
 ],
 "metadata": {
  "kernelspec": {
   "display_name": "Python 3",
   "language": "python",
   "name": "python3"
  },
  "language_info": {
   "codemirror_mode": {
    "name": "ipython",
    "version": 3
   },
   "file_extension": ".py",
   "mimetype": "text/x-python",
   "name": "python",
   "nbconvert_exporter": "python",
   "pygments_lexer": "ipython3",
   "version": "3.6.3"
  }
 },
 "nbformat": 4,
 "nbformat_minor": 2
}
