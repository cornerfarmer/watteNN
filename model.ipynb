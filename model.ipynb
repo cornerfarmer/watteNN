{
 "cells": [
  {
   "cell_type": "markdown",
   "metadata": {
    "heading_collapsed": true
   },
   "source": [
    "# Model"
   ]
  },
  {
   "cell_type": "code",
   "execution_count": 218,
   "metadata": {
    "hidden": true
   },
   "outputs": [],
   "source": [
    "from keras.models import Sequential, clone_model\n",
    "from keras.layers import Dense, Activation, Input, LeakyReLU\n",
    "from keras.layers import Conv2D, MaxPooling2D, Merge, Flatten, BatchNormalization, add\n",
    "from keras.layers.merge import concatenate\n",
    "from keras.models import Model\n",
    "from keras.models import load_model\n",
    "\n",
    "import keras.backend as K\n",
    "from IPython.display import clear_output\n",
    "from keras import optimizers\n",
    "import math"
   ]
  },
  {
   "cell_type": "code",
   "execution_count": 288,
   "metadata": {
    "code_folding": [],
    "hidden": true
   },
   "outputs": [],
   "source": [
    "class ImprovedModel(Model):\n",
    "    def __init__(self, inputs, outputs):\n",
    "        super().__init__(inputs, outputs)\n",
    "\n",
    "    def predict_single(self, inputs):\n",
    "        inputs = [np.expand_dims(input, 0) for input in inputs]\n",
    "        outputs = self.predict(inputs)\n",
    "        return [output[0] for output in outputs]\n",
    "\n",
    "def mean_pred(y_true, y_pred):\n",
    "    return K.mean(K.equal(K.gather(y_true, K.argmax(y_true, axis=-1)), K.gather(y_true, K.argmax(y_pred, axis=-1))))\n",
    "\n",
    "\n",
    "def residual_layer(input_block, filters, kernel_size):\n",
    "\n",
    "    x = conv_layer(input_block, filters, kernel_size)\n",
    "\n",
    "    x = Conv2D(\n",
    "    filters = filters\n",
    "    , kernel_size = kernel_size\n",
    "    , padding = 'same'\n",
    "    , use_bias=False\n",
    "    , activation='linear'\n",
    "    )(x)\n",
    "\n",
    "    #x = BatchNormalization(axis=1)(x)\n",
    "\n",
    "    x = add([input_block, x])\n",
    "\n",
    "    x = LeakyReLU()(x)\n",
    "\n",
    "    return (x)\n",
    "\n",
    "def conv_layer(x, filters, kernel_size):\n",
    "\n",
    "    x = Conv2D(\n",
    "    filters = filters\n",
    "    , kernel_size = kernel_size\n",
    "    , padding = 'same'\n",
    "    , use_bias=False\n",
    "    , activation='linear'\n",
    "    )(x)\n",
    "\n",
    "    #x = BatchNormalization(axis=1)(x)\n",
    "    x = LeakyReLU()(x)\n",
    "\n",
    "    return (x)\n",
    "\n",
    "def build_model():\n",
    "    \n",
    "    input_1 = Input((4,8,2))\n",
    "    convnet = input_1\n",
    "\n",
    "    #convnet = conv_layer(convnet, 75, (3, 3))\n",
    "   # convnet = residual_layer(convnet, 75, (3, 3))\n",
    "   # xonvnet = residual_layer(convnet, 75, (3, 3))\n",
    "   # convnet = residual_layer(convnet, 75, (3, 3))\n",
    "   # convnet = residual_layer(convnet, 75, (3, 3))\n",
    "   # convnet = residual_layer(convnet, 75, (3, 3))\n",
    "   # convnet = conv_layer(convnet, 2, (1, 1))\n",
    "    #convnet = Conv2D(32, (3, 3), activation='relu', padding='same')(convnet)\n",
    "    #convnet = Conv2D(64, (3, 3), activation='relu', padding='same')(convnet)\n",
    "    #convnet = Conv2D(64, (3, 3), activation='relu', padding='same')(convnet)\n",
    "    #convnet = Conv2D(64, (3, 3), activation='relu', padding='same')(convnet)\n",
    "    convnet = Flatten()(convnet)\n",
    "\n",
    "    input_2 = Input((4,))\n",
    "\n",
    "    policy_out = concatenate([convnet, input_2])\n",
    "    #policy_out = Dense(64, activation='relu')(policy_out)\n",
    "    #policy_out = Dense(128, activation='relu')(policy_out)\n",
    "    policy_out = Dense(1024, activation='relu')(policy_out)\n",
    "    policy_out = Dense(32, activation='sigmoid')(policy_out)\n",
    "\n",
    "    value_out = concatenate([convnet, input_2])\n",
    "    #value_out = Dense(64, activation='relu')(value_out)\n",
    "    #value_out = Dense(128, activation='relu')(value_out)\n",
    "    #value_out = Dense(256, activation='relu')(value_out)\n",
    "    value_out = Dense(1, activation='tanh')(value_out)\n",
    "\n",
    "    model = ImprovedModel(inputs=[input_1, input_2], outputs=[policy_out, value_out])\n",
    "\n",
    "    adam = optimizers.Adam()\n",
    "    model.compile(optimizer=adam,\n",
    "                  loss='mean_squared_error',\n",
    "                  metrics=['accuracy'])\n",
    "    return model"
   ]
  },
  {
   "cell_type": "code",
   "execution_count": null,
   "metadata": {},
   "outputs": [],
   "source": []
  }
 ],
 "metadata": {
  "kernelspec": {
   "display_name": "Python 3",
   "language": "python",
   "name": "python3"
  },
  "language_info": {
   "codemirror_mode": {
    "name": "ipython",
    "version": 3
   },
   "file_extension": ".py",
   "mimetype": "text/x-python",
   "name": "python",
   "nbconvert_exporter": "python",
   "pygments_lexer": "ipython3",
   "version": "3.6.3"
  }
 },
 "nbformat": 4,
 "nbformat_minor": 2
}
