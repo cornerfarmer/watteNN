{
 "cells": [
  {
   "cell_type": "code",
   "execution_count": 1,
   "metadata": {},
   "outputs": [
    {
     "name": "stderr",
     "output_type": "stream",
     "text": [
      "/usr/local/lib/python3.6/dist-packages/h5py/__init__.py:36: FutureWarning: Conversion of the second argument of issubdtype from `float` to `np.floating` is deprecated. In future, it will be treated as `np.float64 == np.dtype(float).type`.\n",
      "  from ._conv import register_converters as _register_converters\n",
      "Using TensorFlow backend.\n"
     ]
    }
   ],
   "source": [
    "%matplotlib ipympl\n",
    "%load_ext line_profiler\n",
    "%load_ext Cython\n",
    "%load_ext autoreload\n",
    "%autoreload 2\n",
    "#import gym\n",
    "#import gym_watten\n",
    "#from gym_watten.envs.watten_env import WattenEnv\n",
    "import numpy as np\n",
    "from time import sleep\n",
    "import random\n",
    "from tqdm import tqdm\n",
    "import matplotlib.pyplot as plt\n",
    "import pydot_ng as pydot\n",
    "from io import BytesIO\n",
    "import pickle\n",
    "from src.Storage import Storage\n",
    "from src.MCTS import MCTS\n",
    "from src.LookUp import LookUp\n",
    "from src.KerasModel import KerasModel\n",
    "from src.TinyDnnModel import TinyDnnModel\n",
    "from src.Game import Game\n",
    "from src.ModelRating import ModelRating\n",
    "from gym_watten.envs.watten_env import WattenEnv\n",
    "import sys\n",
    "import tensorflow as tf"
   ]
  },
  {
   "cell_type": "code",
   "execution_count": 2,
   "metadata": {},
   "outputs": [],
   "source": [
    "env = WattenEnv()\n",
    "model = LookUp()\n",
    "best_model = LookUp()\n",
    "storage = Storage()\n",
    "mcts = MCTS()\n",
    "rating = ModelRating(env)\n",
    "game = Game(env)"
   ]
  },
  {
   "cell_type": "code",
   "execution_count": 2,
   "metadata": {},
   "outputs": [],
   "source": [
    "MEMORY_SIZE = 300000\n",
    "SAMPLES_PER_STATE = 1\n",
    "\n",
    "BATCH_SIZE = 256\n",
    "TRAINING_LOOPS = 100\n",
    "EXPLORATION = 1\n",
    "\n",
    "EPSILON = 0.2\n",
    "ALPHA = 0.8"
   ]
  },
  {
   "cell_type": "code",
   "execution_count": 3,
   "metadata": {},
   "outputs": [],
   "source": [
    "%%cython_mainpxd\n",
    "\n",
    "from libcpp cimport bool\n",
    "from libcpp.map cimport map\n",
    "from libcpp.string cimport string\n",
    "from libcpp.vector cimport vector\n",
    "from gym_watten.envs.watten_env cimport Observation, WattenEnv, State\n",
    "\n",
    "\n",
    "cdef enum:\n",
    "    EPISODES = 75\n",
    "    MCTS_SIMS = 20\n",
    "    OBJECTIVE_OPPONENT = False\n",
    "\n",
    "\n",
    "\n",
    "cdef struct MCTSState:\n",
    "    vector[MCTSState] childs\n",
    "    int n\n",
    "    float w\n",
    "    float v\n",
    "    float p\n",
    "    State env_state\n",
    "    float end_v \n",
    "    int current_player\n",
    "    bool is_root\n",
    "    \n",
    "\n",
    "cdef class MCTSInternal:\n",
    "    @staticmethod\n",
    "    cdef mcts_sample(WattenEnv env, MCTSState* state, LookUp model)\n",
    "    @staticmethod\n",
    "    cdef object calc_q(MCTSState* state, int player)"
   ]
  },
  {
   "cell_type": "code",
   "execution_count": null,
   "metadata": {},
   "outputs": [],
   "source": []
  }
 ],
 "metadata": {
  "kernelspec": {
   "display_name": "Python 3",
   "language": "python",
   "name": "python3"
  },
  "language_info": {
   "codemirror_mode": {
    "name": "ipython",
    "version": 3
   },
   "file_extension": ".py",
   "mimetype": "text/x-python",
   "name": "python",
   "nbconvert_exporter": "python",
   "pygments_lexer": "ipython3",
   "version": "3.6.3"
  }
 },
 "nbformat": 4,
 "nbformat_minor": 2
}
