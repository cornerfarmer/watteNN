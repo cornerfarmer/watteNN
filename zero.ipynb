{
 "cells": [
  {
   "cell_type": "code",
   "execution_count": 1,
   "metadata": {},
   "outputs": [],
   "source": [
    "import gym\n",
    "import gym_watten\n",
    "from gym_watten.envs.watten_env import Color, Value\n",
    "import numpy as np\n",
    "from time import sleep\n",
    "import random\n",
    "from tqdm import tqdm"
   ]
  },
  {
   "cell_type": "code",
   "execution_count": 2,
   "metadata": {},
   "outputs": [
    {
     "name": "stdout",
     "output_type": "stream",
     "text": [
      "\u001b[33mWARN: gym.spaces.Box autodetected dtype as <class 'numpy.float32'>. Please provide explicit dtype.\u001b[0m\n",
      "\u001b[33mWARN: gym.spaces.Box autodetected dtype as <class 'numpy.float32'>. Please provide explicit dtype.\u001b[0m\n",
      "\u001b[33mWARN: Environment '<class 'gym_watten.envs.watten_env.WattenEnv'>' has deprecated methods. Compatibility code invoked.\u001b[0m\n"
     ]
    }
   ],
   "source": [
    "env = gym.make(\"Watten-v0\")"
   ]
  },
  {
   "cell_type": "markdown",
   "metadata": {
    "heading_collapsed": true
   },
   "source": [
    "# Search"
   ]
  },
  {
   "cell_type": "code",
   "execution_count": 3,
   "metadata": {
    "hidden": true
   },
   "outputs": [],
   "source": [
    "def search(obs):\n",
    "    global sample_outputs, sample_inputs, next_index\n",
    "    state = env.get_state()\n",
    "    n = len(env.players[env.current_player].hand_cards)   \n",
    "    p = 0\n",
    "    local_index = next_index\n",
    "    next_index += 1\n",
    "    sample_inputs[0][local_index] = np.array(obs[0])\n",
    "    sample_inputs[1][local_index] = np.array(obs[1])\n",
    "    current_player = env.current_player\n",
    "    \n",
    "    for i in range(n):\n",
    "        card_id = env.players[env.current_player].hand_cards[i].id\n",
    "        obs, rew, is_done, _ = env.step(card_id)\n",
    "        \n",
    "        if is_done:\n",
    "            sample_outputs[local_index][card_id] = (rew[0] > 0)\n",
    "        else:\n",
    "            sample_outputs[local_index][card_id] = ((1 - search(obs)) if current_player != env.current_player else search(obs))\n",
    "        env.set_state(state)\n",
    "        p += sample_outputs[local_index][card_id]\n",
    "        \n",
    "    return sample_outputs[local_index].max()"
   ]
  },
  {
   "cell_type": "code",
   "execution_count": 4,
   "metadata": {
    "hidden": true
   },
   "outputs": [],
   "source": [
    "def reset_samples(iterations):\n",
    "    global sample_outputs, sample_inputs, next_index, number_of_samples\n",
    "    sample_outputs = [np.zeros((30000*iterations, 32), dtype=float), np.zeros((30000*iterations, 1), dtype=int)]\n",
    "    sample_inputs = [np.zeros((30000*iterations, 4, 8, 2), dtype=int), np.zeros((30000*iterations, 4), dtype=int)]\n",
    "    next_index = 0\n",
    "    number_of_samples = 0\n",
    "    \n",
    "def postprocess_samples():\n",
    "    global sample_outputs, sample_inputs,next_index\n",
    "    for i in range(len(sample_inputs)):\n",
    "        sample_inputs[i] = sample_inputs[i][:next_index]\n",
    "    for i in range(len(sample_outputs)):\n",
    "        sample_outputs[i] = sample_outputs[i][:next_index]\n",
    "    \n",
    "    #exp = np.exp(sample_outputs)\n",
    "    #exp[np.where(sample_outputs == -1)] = 0\n",
    "    #sample_outputs = exp / np.expand_dims(np.sum(exp, axis=-1), -1)\n",
    "    \n",
    "def generate_training_data(iterations=1):\n",
    "    global sample_outputs, sample_inputs,next_index\n",
    "    reset_samples(iterations)\n",
    "    \n",
    "    for i in range(iterations):\n",
    "        obs = env.reset()\n",
    "        search(obs)    \n",
    "        \n",
    "    postprocess_samples()  \n",
    "    return sample_inputs, sample_outputs"
   ]
  },
  {
   "cell_type": "markdown",
   "metadata": {
    "heading_collapsed": true
   },
   "source": [
    "# MCTS"
   ]
  },
  {
   "cell_type": "code",
   "execution_count": 87,
   "metadata": {
    "code_folding": [],
    "hidden": true
   },
   "outputs": [],
   "source": [
    "class State:\n",
    "    def __init__(self, p, env_state, current_player=0, end_v=0):\n",
    "        self.childs = []\n",
    "        self.n = 0\n",
    "        self.w = 0\n",
    "        self.p = p\n",
    "        self.env_state = env_state\n",
    "        self.end_v = end_v\n",
    "        self.current_player = current_player\n",
    "        \n",
    "    def is_leaf_node(self):\n",
    "        return len(self.childs) == 0\n",
    "    \n",
    "    def size(self):\n",
    "        size = 1\n",
    "        for child in self.childs:\n",
    "            size += child.size()\n",
    "        return size\n",
    "    \n",
    "def mcts_sample(state):\n",
    "    \n",
    "    if state.is_leaf_node():\n",
    "        if state.end_v != 0:\n",
    "            v = state.end_v\n",
    "        else:\n",
    "            env.set_state(state.env_state)\n",
    "\n",
    "            p, v = model.predict_single(env.regenerate_obs())\n",
    "\n",
    "            hand_cards = env.players[env.current_player].hand_cards[:]        \n",
    "            current_player = env.current_player\n",
    "            for card in hand_cards:\n",
    "                obs, rew, is_done, _ = env.step(card.id)\n",
    "\n",
    "                new_state = State(p[card.id], env.get_state(), current_player, 0 if not is_done else (1 if rew[0] > 0 else -1))\n",
    "                state.childs.append(new_state)\n",
    "\n",
    "                env.set_state(state.env_state)\n",
    "\n",
    "            v = v[0]  \n",
    "    else:\n",
    "        n_sum = 0\n",
    "        for child in state.childs:\n",
    "            n_sum += child.n\n",
    "        \n",
    "        max_u = 0\n",
    "        max_child = None\n",
    "        for child in state.childs:\n",
    "            if child.end_v != 0:\n",
    "                u = child.end_v\n",
    "            elif child.n > 0:\n",
    "                u = child.w / child.n \n",
    "            else:\n",
    "                u = 0\n",
    "            \n",
    "            u += child.p * np.sqrt(n_sum) / (1 + child.n)\n",
    "\n",
    "            if max_child is None or u > max_u:\n",
    "                max_u, max_child = u, child\n",
    "\n",
    "        v = mcts_sample(max_child) * (-1 if max_child.current_player != state.current_player else 1)\n",
    "        \n",
    "    state.w += v \n",
    "    state.n += 1\n",
    "    return v\n",
    "\n",
    "def mcts_game_step(root):\n",
    "    for i in range(50):\n",
    "        mcts_sample(root)\n",
    "        \n",
    "    p = [child.n for child in root.childs]\n",
    "    p /= np.sum(p)\n",
    "    return np.random.choice(np.arange(0, len(p)), p=p), p\n",
    "    \n",
    "def mcts_game():\n",
    "    global sample_inputs, sample_outputs, next_index, number_of_samples\n",
    "    obs = env.reset()\n",
    "    root = State(1, env.get_state())\n",
    "    is_done = False\n",
    "    start_index = next_index\n",
    "    \n",
    "    while not is_done:\n",
    "        sample_inputs[0][next_index] = np.array(obs[0])\n",
    "        sample_inputs[1][next_index] = np.array(obs[1])\n",
    "        sample_outputs[1][next_index] = 1 if env.current_player is 0 else -1\n",
    "        \n",
    "        game_state = env.get_state()\n",
    "        a, p = mcts_game_step(root)\n",
    "        env.set_state(game_state)\n",
    "        \n",
    "        for i, card in enumerate(env.players[env.current_player].hand_cards):\n",
    "            sample_outputs[0][next_index][card.id] = p[i]    \n",
    "        \n",
    "        next_index += 1\n",
    "        number_of_samples = max(number_of_samples, next_index)\n",
    "        \n",
    "        last_player = env.current_player\n",
    "        obs, rew, is_done, _ = env.step(env.players[env.current_player].hand_cards[a].id)\n",
    "        root = root.childs[a]\n",
    "                \n",
    "    for i in range(start_index, next_index):\n",
    "        sample_outputs[1][i][0] *= (1 if last_player is 0 else -1) * (1 if rew[0] > 0 else -1)\n",
    "        \n",
    "def mcts_generate():\n",
    "    \n",
    "    for i in tqdm(range(30)):\n",
    "        mcts_game()\n",
    "    #postprocess_samples()\n",
    "\n",
    "def draw_tree(root):\n",
    "    print(\"Root: \" + str(root.end_v if root.n is 0 else root.w / root.n) + \" / \" + str(root.n))\n",
    "    for child in root.childs:\n",
    "        print(\"Root: \" + str(child.end_v if child.n is 0 else child.w / child.n) + \" / \" + str(child.n))\n",
    "\n",
    "def draw_path(root):\n",
    "    state = root\n",
    "    while True:     \n",
    "        print(str(state.current_player) + \": \" + str(state.end_v if state.n is 0 else state.w / state.n) + \" / \" + str(state.n))\n",
    "        \n",
    "        if state.is_leaf_node():\n",
    "            break\n",
    "    \n",
    "        max_u = 0\n",
    "        max_child = None\n",
    "        for child in state.childs:\n",
    "            if child.end_v != 0:\n",
    "                u = child.end_v\n",
    "            elif child.n > 0:\n",
    "                u = child.w / child.n \n",
    "            else:\n",
    "                u = 0\n",
    "                \n",
    "            if max_child is None or u > max_u:\n",
    "                max_u, max_child = u, child\n",
    "        \n",
    "        state = max_child\n"
   ]
  },
  {
   "cell_type": "code",
   "execution_count": null,
   "metadata": {
    "hidden": true
   },
   "outputs": [],
   "source": [
    "obs = env.reset()\n",
    "game_state = env.get_state()"
   ]
  },
  {
   "cell_type": "code",
   "execution_count": null,
   "metadata": {
    "hidden": true
   },
   "outputs": [],
   "source": [
    "env.set_state(game_state)\n",
    "root = State(1, env.get_state())\n",
    "a, p = mcts_game_step(root)\n",
    "print(p)"
   ]
  },
  {
   "cell_type": "markdown",
   "metadata": {},
   "source": [
    "# Play"
   ]
  },
  {
   "cell_type": "code",
   "execution_count": 99,
   "metadata": {},
   "outputs": [],
   "source": [
    "def match(agents, render=False):\n",
    "    obs, is_done = env.reset(), False    \n",
    "    \n",
    "    while not is_done:\n",
    "        prediction = agents[env.current_player].predict_single(obs)[0]\n",
    "        \n",
    "        valid_moves = np.array([1 if card in env.players[env.current_player].hand_cards else 0 for card in env.cards])       \n",
    "        prediction_valid = np.ma.masked_where(valid_moves == 0, prediction)\n",
    "        \n",
    "        obs, rew, is_done, _ = env.step(np.argmax(prediction_valid))\n",
    "        \n",
    "        if render:\n",
    "            env.render('human')\n",
    "            sleep(1)\n",
    "        \n",
    "    return env.current_player\n",
    "\n",
    "def compare(agent1, agent2):\n",
    "    agents = [agent1, agent2]\n",
    "    first_player_wins = 0\n",
    "    \n",
    "    for i in range(1000):\n",
    "        start_player = random.randint(0, 1)\n",
    "        winner = match([agents[start_player], agents[1 - start_player]])\n",
    "        first_player_wins += ((winner == 0) == (start_player == 0))\n",
    "    \n",
    "    return first_player_wins / 1000      "
   ]
  },
  {
   "cell_type": "code",
   "execution_count": 100,
   "metadata": {},
   "outputs": [
    {
     "data": {
      "text/plain": [
       "0.498"
      ]
     },
     "execution_count": 100,
     "metadata": {},
     "output_type": "execute_result"
    }
   ],
   "source": [
    "compare(model, model)"
   ]
  },
  {
   "cell_type": "markdown",
   "metadata": {},
   "source": [
    "# Train"
   ]
  },
  {
   "cell_type": "code",
   "execution_count": 101,
   "metadata": {},
   "outputs": [],
   "source": [
    "from keras.models import Sequential, clone_model\n",
    "from keras.layers import Dense, Activation, Input, LeakyReLU\n",
    "from keras.layers import Conv2D, MaxPooling2D, Merge, Flatten, BatchNormalization, add\n",
    "from keras.layers.merge import concatenate\n",
    "from keras.models import Model\n",
    "\n",
    "import keras.backend as K\n",
    "from IPython.display import clear_output\n",
    "from keras import optimizers\n",
    "import math"
   ]
  },
  {
   "cell_type": "code",
   "execution_count": 102,
   "metadata": {
    "code_folding": [
     4,
     8,
     28
    ]
   },
   "outputs": [],
   "source": [
    "class ImprovedModel(Model):\n",
    "    def __init__(self, inputs, outputs):\n",
    "        super().__init__(inputs, outputs)\n",
    "\n",
    "    def predict_single(self, inputs):\n",
    "        inputs = [np.expand_dims(input, 0) for input in inputs]\n",
    "        outputs = model.predict(inputs)\n",
    "        return [output[0] for output in outputs]\n",
    "\n",
    "def mean_pred(y_true, y_pred):\n",
    "    return K.mean(K.equal(K.gather(y_true, K.argmax(y_true, axis=-1)), K.gather(y_true, K.argmax(y_pred, axis=-1))))\n",
    "\n",
    "\n",
    "def residual_layer(input_block, filters, kernel_size):\n",
    "\n",
    "    x = conv_layer(input_block, filters, kernel_size)\n",
    "\n",
    "    x = Conv2D(\n",
    "    filters = filters\n",
    "    , kernel_size = kernel_size\n",
    "    , padding = 'same'\n",
    "    , use_bias=False\n",
    "    , activation='linear'\n",
    "    )(x)\n",
    "\n",
    "    #x = BatchNormalization(axis=1)(x)\n",
    "\n",
    "    x = add([input_block, x])\n",
    "\n",
    "    x = LeakyReLU()(x)\n",
    "\n",
    "    return (x)\n",
    "\n",
    "def conv_layer(x, filters, kernel_size):\n",
    "\n",
    "    x = Conv2D(\n",
    "    filters = filters\n",
    "    , kernel_size = kernel_size\n",
    "    , padding = 'same'\n",
    "    , use_bias=False\n",
    "    , activation='linear'\n",
    "    )(x)\n",
    "\n",
    "    #x = BatchNormalization(axis=1)(x)\n",
    "    x = LeakyReLU()(x)\n",
    "\n",
    "    return (x)\n",
    "\n",
    "def build_model():\n",
    "    input_1 = Input((4,8,2))\n",
    "    convnet = input_1\n",
    "\n",
    "    convnet = conv_layer(convnet, 32, (3, 3))\n",
    "    convnet = residual_layer(convnet, 32, (3, 3))\n",
    "    convnet = residual_layer(convnet, 32, (3, 3))\n",
    "    convnet = residual_layer(convnet, 32, (3, 3))\n",
    "    convnet = conv_layer(convnet, 2, (1, 1))\n",
    "    #convnet = Conv2D(32, (3, 3), activation='relu', padding='same')(convnet)\n",
    "    #convnet = Conv2D(64, (3, 3), activation='relu', padding='same')(convnet)\n",
    "    #convnet = Conv2D(64, (3, 3), activation='relu', padding='same')(convnet)\n",
    "    #convnet = Conv2D(64, (3, 3), activation='relu', padding='same')(convnet)\n",
    "    convnet = Flatten()(convnet)\n",
    "\n",
    "    input_2 = Input((4,))\n",
    "\n",
    "    policy_out = concatenate([convnet, input_2])\n",
    "    #dense_out = Dense(128, activation='relu')(dense_out)\n",
    "    #dense_out = Dense(256, activation='relu')(dense_out)\n",
    "    #policy_out = Dense(256, activation='relu')(dense_out)\n",
    "    policy_out = Dense(32, activation='sigmoid')(policy_out)\n",
    "\n",
    "    value_out = concatenate([convnet, input_2])\n",
    "    #dense_out = Dense(128, activation='relu')(dense_out)\n",
    "    #dense_out = Dense(256, activation='relu')(dense_out)\n",
    "    value_out = Dense(256, activation='relu')(value_out)\n",
    "    value_out = Dense(1, activation='tanh')(value_out)\n",
    "\n",
    "    model = ImprovedModel(inputs=[input_1, input_2], outputs=[policy_out, value_out])\n",
    "\n",
    "    adam = optimizers.Adam()\n",
    "    model.compile(optimizer=adam,\n",
    "                  loss='mean_squared_error',\n",
    "                  metrics=['accuracy'])\n",
    "    return model"
   ]
  },
  {
   "cell_type": "code",
   "execution_count": 103,
   "metadata": {},
   "outputs": [
    {
     "name": "stdout",
     "output_type": "stream",
     "text": [
      "__________________________________________________________________________________________________\n",
      "Layer (type)                    Output Shape         Param #     Connected to                     \n",
      "==================================================================================================\n",
      "input_7 (InputLayer)            (None, 4, 8, 2)      0                                            \n",
      "__________________________________________________________________________________________________\n",
      "conv2d_25 (Conv2D)              (None, 4, 8, 32)     576         input_7[0][0]                    \n",
      "__________________________________________________________________________________________________\n",
      "leaky_re_lu_25 (LeakyReLU)      (None, 4, 8, 32)     0           conv2d_25[0][0]                  \n",
      "__________________________________________________________________________________________________\n",
      "conv2d_26 (Conv2D)              (None, 4, 8, 32)     9216        leaky_re_lu_25[0][0]             \n",
      "__________________________________________________________________________________________________\n",
      "leaky_re_lu_26 (LeakyReLU)      (None, 4, 8, 32)     0           conv2d_26[0][0]                  \n",
      "__________________________________________________________________________________________________\n",
      "conv2d_27 (Conv2D)              (None, 4, 8, 32)     9216        leaky_re_lu_26[0][0]             \n",
      "__________________________________________________________________________________________________\n",
      "add_10 (Add)                    (None, 4, 8, 32)     0           leaky_re_lu_25[0][0]             \n",
      "                                                                 conv2d_27[0][0]                  \n",
      "__________________________________________________________________________________________________\n",
      "leaky_re_lu_27 (LeakyReLU)      (None, 4, 8, 32)     0           add_10[0][0]                     \n",
      "__________________________________________________________________________________________________\n",
      "conv2d_28 (Conv2D)              (None, 4, 8, 32)     9216        leaky_re_lu_27[0][0]             \n",
      "__________________________________________________________________________________________________\n",
      "leaky_re_lu_28 (LeakyReLU)      (None, 4, 8, 32)     0           conv2d_28[0][0]                  \n",
      "__________________________________________________________________________________________________\n",
      "conv2d_29 (Conv2D)              (None, 4, 8, 32)     9216        leaky_re_lu_28[0][0]             \n",
      "__________________________________________________________________________________________________\n",
      "add_11 (Add)                    (None, 4, 8, 32)     0           leaky_re_lu_27[0][0]             \n",
      "                                                                 conv2d_29[0][0]                  \n",
      "__________________________________________________________________________________________________\n",
      "leaky_re_lu_29 (LeakyReLU)      (None, 4, 8, 32)     0           add_11[0][0]                     \n",
      "__________________________________________________________________________________________________\n",
      "conv2d_30 (Conv2D)              (None, 4, 8, 32)     9216        leaky_re_lu_29[0][0]             \n",
      "__________________________________________________________________________________________________\n",
      "leaky_re_lu_30 (LeakyReLU)      (None, 4, 8, 32)     0           conv2d_30[0][0]                  \n",
      "__________________________________________________________________________________________________\n",
      "conv2d_31 (Conv2D)              (None, 4, 8, 32)     9216        leaky_re_lu_30[0][0]             \n",
      "__________________________________________________________________________________________________\n",
      "add_12 (Add)                    (None, 4, 8, 32)     0           leaky_re_lu_29[0][0]             \n",
      "                                                                 conv2d_31[0][0]                  \n",
      "__________________________________________________________________________________________________\n",
      "leaky_re_lu_31 (LeakyReLU)      (None, 4, 8, 32)     0           add_12[0][0]                     \n",
      "__________________________________________________________________________________________________\n",
      "conv2d_32 (Conv2D)              (None, 4, 8, 2)      64          leaky_re_lu_31[0][0]             \n",
      "__________________________________________________________________________________________________\n",
      "leaky_re_lu_32 (LeakyReLU)      (None, 4, 8, 2)      0           conv2d_32[0][0]                  \n",
      "__________________________________________________________________________________________________\n",
      "flatten_4 (Flatten)             (None, 64)           0           leaky_re_lu_32[0][0]             \n",
      "__________________________________________________________________________________________________\n",
      "input_8 (InputLayer)            (None, 4)            0                                            \n",
      "__________________________________________________________________________________________________\n",
      "concatenate_8 (Concatenate)     (None, 68)           0           flatten_4[0][0]                  \n",
      "                                                                 input_8[0][0]                    \n",
      "__________________________________________________________________________________________________\n",
      "concatenate_7 (Concatenate)     (None, 68)           0           flatten_4[0][0]                  \n",
      "                                                                 input_8[0][0]                    \n",
      "__________________________________________________________________________________________________\n",
      "dense_11 (Dense)                (None, 256)          17664       concatenate_8[0][0]              \n",
      "__________________________________________________________________________________________________\n",
      "dense_10 (Dense)                (None, 32)           2208        concatenate_7[0][0]              \n",
      "__________________________________________________________________________________________________\n",
      "dense_12 (Dense)                (None, 1)            257         dense_11[0][0]                   \n",
      "==================================================================================================\n",
      "Total params: 76,065\n",
      "Trainable params: 76,065\n",
      "Non-trainable params: 0\n",
      "__________________________________________________________________________________________________\n"
     ]
    }
   ],
   "source": [
    "model = build_model()\n",
    "model.summary()"
   ]
  },
  {
   "cell_type": "code",
   "execution_count": 104,
   "metadata": {},
   "outputs": [],
   "source": [
    " reset_samples(1)"
   ]
  },
  {
   "cell_type": "code",
   "execution_count": 106,
   "metadata": {
    "scrolled": false
   },
   "outputs": [
    {
     "name": "stdout",
     "output_type": "stream",
     "text": [
      "Epoch 1/1\n",
      "5062/5062 [==============================] - 3s 518us/step - loss: 0.4542 - dense_10_loss: 0.0179 - dense_12_loss: 0.4363 - dense_10_acc: 0.2647 - dense_12_acc: 0.6855\n",
      "New model wins 50.3%!\n"
     ]
    }
   ],
   "source": [
    "prev_states = []\n",
    "for i in range(10):\n",
    "    prev_states.append(build_model())\n",
    "    prev_states[-1].set_weights(model.get_weights())\n",
    "    #enerate_training_data(100)    \n",
    "    mcts_generate()\n",
    "    clear_output()\n",
    "    p = np.random.permutation(int(number_of_samples))\n",
    "    train_outputs = []\n",
    "    train_inputs = []\n",
    "    for i in range(len(sample_outputs)):\n",
    "        train_outputs.append(sample_outputs[i][p])\n",
    "    for i in range(len(sample_inputs)):\n",
    "        train_inputs.append(sample_inputs[i][p])\n",
    "        \n",
    "    # Train the model, iterating on the data in batches of 32 samples\n",
    "    model.fit(train_inputs, train_outputs, epochs=1, batch_size=64)    \n",
    "    \n",
    "    print(\"New model wins \" + str(compare(model, prev_states[-1]) * 100) + \"%!\")"
   ]
  },
  {
   "cell_type": "code",
   "execution_count": 107,
   "metadata": {},
   "outputs": [
    {
     "data": {
      "text/plain": [
       "0.512"
      ]
     },
     "execution_count": 107,
     "metadata": {},
     "output_type": "execute_result"
    }
   ],
   "source": [
    "compare(model, build_model())"
   ]
  },
  {
   "cell_type": "code",
   "execution_count": null,
   "metadata": {},
   "outputs": [],
   "source": [
    "model.save('model.h5')"
   ]
  },
  {
   "cell_type": "code",
   "execution_count": null,
   "metadata": {},
   "outputs": [],
   "source": [
    "model.load_weights('model.h5')"
   ]
  },
  {
   "cell_type": "markdown",
   "metadata": {
    "heading_collapsed": true
   },
   "source": [
    "# Eval"
   ]
  },
  {
   "cell_type": "code",
   "execution_count": null,
   "metadata": {
    "hidden": true
   },
   "outputs": [],
   "source": [
    "generate_training_data(100)    \n",
    "p = np.random.permutation(len(sample_inputs))\n",
    "sample_inputs, sample_outputs = sample_inputs[p], sample_outputs[p]"
   ]
  },
  {
   "cell_type": "code",
   "execution_count": null,
   "metadata": {
    "hidden": true
   },
   "outputs": [],
   "source": [
    "model.evaluate(sample_inputs, sample_outputs)"
   ]
  },
  {
   "cell_type": "markdown",
   "metadata": {},
   "source": [
    "# Predict"
   ]
  },
  {
   "cell_type": "code",
   "execution_count": 10,
   "metadata": {},
   "outputs": [],
   "source": [
    "def generate_input(hand_cards, table_card=None, own_tricks=0, opponent_tricks=0):\n",
    "    obs = [np.zeros([4, 8, 2]), np.zeros([4])]\n",
    "    \n",
    "    for card in hand_cards:\n",
    "        obs[0][card.color.value][card.value.value][0] = 1\n",
    "        \n",
    "    if table_card is not None:\n",
    "        obs[0][table_card.color.value][table_card.value.value][1] = 1\n",
    "\n",
    "    obs[1][0] = (own_tricks == 1 or own_tricks == 3)\n",
    "    obs[1][1] = (own_tricks == 2 or own_tricks == 3)\n",
    "\n",
    "    obs[1][2] = (opponent_tricks == 1 or opponent_tricks == 3)\n",
    "    obs[1][3] = (opponent_tricks == 2 or opponent_tricks == 3)\n",
    "    \n",
    "    return obs"
   ]
  },
  {
   "cell_type": "code",
   "execution_count": 11,
   "metadata": {},
   "outputs": [],
   "source": [
    "def card(color, value):\n",
    "    for card in env.cards:\n",
    "        if card.value == value and card.color == color:\n",
    "            return card\n",
    "        \n",
    "    return None"
   ]
  },
  {
   "cell_type": "code",
   "execution_count": 76,
   "metadata": {},
   "outputs": [],
   "source": [
    "def calc_correct_output_sample(hand_cards, table_card=None, own_tricks=0, opponent_tricks=0):\n",
    "    global sample_outputs\n",
    "    env.reset()\n",
    "    env.cards_left = env.cards[:]\n",
    "    random.shuffle(env.cards_left)\n",
    "    \n",
    "    for card in hand_cards:\n",
    "        env.cards_left.remove(card)\n",
    "    env.players[0].hand_cards = hand_cards[:]\n",
    "        \n",
    "    env.players[1].hand_cards = []\n",
    "    for i in range(len(hand_cards) - (1 if table_card is not None else 0)):\n",
    "        env.players[1].hand_cards.append(env.cards_left.pop())       \n",
    "    \n",
    "    env.players[0].tricks = own_tricks\n",
    "    env.players[1].tricks = opponent_tricks\n",
    "    env.table_card = table_card\n",
    "    \n",
    "    #obs, rew, is_done, _ = env.step(hand_cards[0].id)\n",
    "   # print(rew, is_done)\n",
    "\n",
    "    env.render('human')\n",
    "    root = State(1, env.get_state())\n",
    "    a, p = mcts_game_step(root)\n",
    "    draw_tree(root.childs[0])\n",
    "    \n",
    "    draw_tree(root.childs[1])\n",
    "    \n",
    "    draw_path(root)\n",
    "    #reset_samples(1)\n",
    "    #search(env.regenerate_obs())\n",
    "    #postprocess_samples()\n",
    "        \n",
    "    return p#sample_outputs[0]"
   ]
  },
  {
   "cell_type": "code",
   "execution_count": null,
   "metadata": {},
   "outputs": [],
   "source": [
    "def calc_correct_output(hand_cards, table_card=None, own_tricks=0, opponent_tricks=0):    \n",
    "    correct_output = None\n",
    "    for i in range(100):\n",
    "        sample_outputs = calc_correct_output_sample(hand_cards, table_card, own_tricks, opponent_tricks)\n",
    "        if correct_output is None:\n",
    "            correct_output = sample_outputs\n",
    "        else:\n",
    "            correct_output += sample_outputs\n",
    "    return correct_output / 100"
   ]
  },
  {
   "cell_type": "code",
   "execution_count": null,
   "metadata": {},
   "outputs": [],
   "source": [
    "def predict(hand_cards, table_card=None, own_tricks=0, opponent_tricks=0):\n",
    "    input = generate_input(hand_cards, table_card, own_tricks, opponent_tricks)\n",
    "    output = model.predict_single(input)[0]\n",
    "    correct_output = output#calc_correct_output(hand_cards, table_card, own_tricks, opponent_tricks)\n",
    "    print(output)\n",
    "    for card in hand_cards:\n",
    "        print(str(card.color) + \" \" + str(card.value) + \" => \" + str(output[card.id]) + \" (\" + str(correct_output[card.id]) + \")\")"
   ]
  },
  {
   "cell_type": "code",
   "execution_count": null,
   "metadata": {},
   "outputs": [],
   "source": [
    "def eval():\n",
    "    correct = 0\n",
    "    for i in range(100):\n",
    "        own_tricks = random.randint(0, 2)\n",
    "        opponent_tricks = random.randint(0, 2)\n",
    "        table_card_enabled = random.randint(0, 1)\n",
    "        hand_cards = random.sample(env.cards, 5 - own_tricks - opponent_tricks + table_card_enabled)\n",
    "        table_card = hand_cards.pop() if table_card_enabled else None\n",
    "\n",
    "        input = generate_input(hand_cards, table_card, own_tricks, opponent_tricks)\n",
    "        output = model.predict_single(input)[0]\n",
    "        correct_output = calc_correct_output(hand_cards, table_card, own_tricks, opponent_tricks)\n",
    "        \n",
    "        #print(output, np.argmax(output)) \n",
    "        #print(correct_output, np.argmax(correct_output))\n",
    "        correct += correct_output[np.argmax(output)] == correct_output[np.argmax(correct_output)]\n",
    "        if correct_output[np.argmax(output)] != correct_output[np.argmax(correct_output)]:\n",
    "            print(correct_output[np.argmax(output)], correct_output[np.argmax(correct_output)])\n",
    "    return correct / 100"
   ]
  },
  {
   "cell_type": "code",
   "execution_count": null,
   "metadata": {},
   "outputs": [],
   "source": [
    "eval()"
   ]
  },
  {
   "cell_type": "code",
   "execution_count": null,
   "metadata": {},
   "outputs": [],
   "source": [
    "calc_correct_output_sample([\n",
    "    card(Color.EICHEL, Value.ACHT), \n",
    "    card(Color.EICHEL, Value.KOENIG),\n",
    "    card(Color.HERZ, Value.SAU)\n",
    "    ], None, 0, 2)\n"
   ]
  },
  {
   "cell_type": "code",
   "execution_count": 93,
   "metadata": {},
   "outputs": [
    {
     "name": "stdout",
     "output_type": "stream",
     "text": [
      "Root: -0.026344962418079376 / 3\n",
      "Root: -0.05577976256608963 / 1\n",
      "Root: -0.039243414998054504 / 1\n",
      "Root: 0.9020694872732599 / 43\n",
      "Root: -0.08350489661097527 / 2\n",
      "Root: 0.9740189146250486 / 40\n",
      "0: 0.7729556537698954 / 50\n",
      "0: 0.9020694872732599 / 43\n",
      "0: 0.9740189146250486 / 40\n",
      "1: -1.0 / 20\n"
     ]
    },
    {
     "data": {
      "text/plain": [
       "array([0.06122449, 0.87755102, 0.06122449])"
      ]
     },
     "execution_count": 93,
     "metadata": {},
     "output_type": "execute_result"
    }
   ],
   "source": [
    "calc_correct_output_sample([\n",
    "    card(Color.EICHEL, Value.SAU), \n",
    "    card(Color.EICHEL, Value.KOENIG),\n",
    "    card(Color.HERZ, Value.SAU)\n",
    "    ],card(Color.EICHEL, Value.ZEHN), 1, 0)"
   ]
  },
  {
   "cell_type": "code",
   "execution_count": 60,
   "metadata": {},
   "outputs": [
    {
     "data": {
      "text/plain": [
       "array([1])"
      ]
     },
     "execution_count": 60,
     "metadata": {},
     "output_type": "execute_result"
    }
   ],
   "source": [
    "sample_outputs[1][0]"
   ]
  },
  {
   "cell_type": "code",
   "execution_count": null,
   "metadata": {},
   "outputs": [],
   "source": []
  }
 ],
 "metadata": {
  "kernelspec": {
   "display_name": "Python 3",
   "language": "python",
   "name": "python3"
  },
  "language_info": {
   "codemirror_mode": {
    "name": "ipython",
    "version": 3
   },
   "file_extension": ".py",
   "mimetype": "text/x-python",
   "name": "python",
   "nbconvert_exporter": "python",
   "pygments_lexer": "ipython3",
   "version": "3.6.3"
  }
 },
 "nbformat": 4,
 "nbformat_minor": 1
}
