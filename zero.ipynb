{
 "cells": [
  {
   "cell_type": "code",
   "execution_count": 1,
   "metadata": {},
   "outputs": [],
   "source": [
    "import gym\n",
    "import gym_watten\n",
    "from gym_watten.envs.watten_env import Color, Value\n",
    "import numpy as np\n",
    "from time import sleep\n",
    "import random\n",
    "from tqdm import tqdm"
   ]
  },
  {
   "cell_type": "code",
   "execution_count": 2,
   "metadata": {},
   "outputs": [
    {
     "name": "stdout",
     "output_type": "stream",
     "text": [
      "\u001b[33mWARN: gym.spaces.Box autodetected dtype as <class 'numpy.float32'>. Please provide explicit dtype.\u001b[0m\n",
      "\u001b[33mWARN: gym.spaces.Box autodetected dtype as <class 'numpy.float32'>. Please provide explicit dtype.\u001b[0m\n",
      "\u001b[33mWARN: Environment '<class 'gym_watten.envs.watten_env.WattenEnv'>' has deprecated methods. Compatibility code invoked.\u001b[0m\n"
     ]
    }
   ],
   "source": [
    "env = gym.make(\"Watten-v0\")"
   ]
  },
  {
   "cell_type": "markdown",
   "metadata": {
    "heading_collapsed": true
   },
   "source": [
    "# Search"
   ]
  },
  {
   "cell_type": "code",
   "execution_count": 3,
   "metadata": {
    "code_folding": [],
    "hidden": true
   },
   "outputs": [],
   "source": [
    "def search(obs):\n",
    "    global sample_outputs, sample_inputs, next_index\n",
    "    state = env.get_state()\n",
    "    n = len(env.players[env.current_player].hand_cards)   \n",
    "    p = 0\n",
    "    local_index = next_index\n",
    "    next_index += 1\n",
    "    sample_inputs[0][local_index] = np.array(obs[0])\n",
    "    sample_inputs[1][local_index] = np.array(obs[1])\n",
    "    current_player = env.current_player\n",
    "    \n",
    "    for i in range(n):\n",
    "        card_id = env.players[env.current_player].hand_cards[i].id\n",
    "        obs, rew, is_done, _ = env.step(card_id)\n",
    "        \n",
    "        if is_done:\n",
    "            sample_outputs[local_index][card_id] = (rew[0] > 0)\n",
    "        else:\n",
    "            sample_outputs[local_index][card_id] = ((1 - search(obs)) if current_player != env.current_player else search(obs))\n",
    "        env.set_state(state)\n",
    "        p += sample_outputs[local_index][card_id]\n",
    "        \n",
    "    return sample_outputs[local_index].max()"
   ]
  },
  {
   "cell_type": "code",
   "execution_count": 4,
   "metadata": {
    "hidden": true
   },
   "outputs": [],
   "source": [
    "def reset_samples(iterations):\n",
    "    global sample_outputs, sample_inputs, next_index, number_of_samples\n",
    "    sample_outputs = [np.zeros((30000*iterations, 32), dtype=float), np.zeros((30000*iterations, 1), dtype=int)]\n",
    "    sample_inputs = [np.zeros((30000*iterations, 4, 8, 2), dtype=int), np.zeros((30000*iterations, 4), dtype=int)]\n",
    "    next_index = 0\n",
    "    number_of_samples = 0\n",
    "    \n",
    "def postprocess_samples():\n",
    "    global sample_outputs, sample_inputs,next_index\n",
    "    for i in range(len(sample_inputs)):\n",
    "        sample_inputs[i] = sample_inputs[i][:next_index]\n",
    "    for i in range(len(sample_outputs)):\n",
    "        sample_outputs[i] = sample_outputs[i][:next_index]\n",
    "    \n",
    "    #exp = np.exp(sample_outputs)\n",
    "    #exp[np.where(sample_outputs == -1)] = 0\n",
    "    #sample_outputs = exp / np.expand_dims(np.sum(exp, axis=-1), -1)\n",
    "    \n",
    "def generate_training_data(iterations=1):\n",
    "    global sample_outputs, sample_inputs,next_index\n",
    "    reset_samples(iterations)\n",
    "    \n",
    "    for i in range(iterations):\n",
    "        obs = env.reset()\n",
    "        search(obs)    \n",
    "        \n",
    "    postprocess_samples()  \n",
    "    return sample_inputs, sample_outputs"
   ]
  },
  {
   "cell_type": "markdown",
   "metadata": {},
   "source": [
    "# MCTS"
   ]
  },
  {
   "cell_type": "code",
   "execution_count": 5,
   "metadata": {
    "code_folding": [
     109,
     114
    ]
   },
   "outputs": [],
   "source": [
    "class State:\n",
    "    def __init__(self, p, env_state, current_player=0, end_v=0):\n",
    "        self.childs = []\n",
    "        self.n = 0\n",
    "        self.w = 0\n",
    "        self.p = p\n",
    "        self.env_state = env_state\n",
    "        self.end_v = end_v\n",
    "        self.current_player = current_player\n",
    "        \n",
    "    def is_leaf_node(self):\n",
    "        return len(self.childs) == 0\n",
    "    \n",
    "    def size(self):\n",
    "        size = 1\n",
    "        for child in self.childs:\n",
    "            size += child.size()\n",
    "        return size\n",
    "    \n",
    "def mcts_sample(state):\n",
    "    \n",
    "    if state.is_leaf_node():\n",
    "        if state.end_v != 0:\n",
    "            v = state.end_v\n",
    "        else:\n",
    "            env.set_state(state.env_state)\n",
    "\n",
    "            p, v = model.predict_single(env.regenerate_obs())\n",
    "\n",
    "            hand_cards = env.players[env.current_player].hand_cards[:]        \n",
    "            current_player = env.current_player\n",
    "            for card in hand_cards:\n",
    "                obs, rew, is_done, _ = env.step(card.id)\n",
    "\n",
    "                new_state = State(p[card.id], env.get_state(), current_player, 0 if not is_done else (1 if rew[0] > 0 else -1))\n",
    "                state.childs.append(new_state)\n",
    "\n",
    "                env.set_state(state.env_state)\n",
    "\n",
    "            v = v[0]  \n",
    "    else:\n",
    "        n_sum = 0\n",
    "        for child in state.childs:\n",
    "            n_sum += child.n\n",
    "        \n",
    "        max_u = 0\n",
    "        max_child = None\n",
    "        for child in state.childs:\n",
    "            if child.end_v != 0:\n",
    "                u = child.end_v\n",
    "            elif child.n > 0:\n",
    "                u = child.w / child.n \n",
    "            else:\n",
    "                u = 0\n",
    "            \n",
    "            u += child.p * np.sqrt(n_sum) / (1 + child.n)\n",
    "\n",
    "            if max_child is None or u > max_u:\n",
    "                max_u, max_child = u, child\n",
    "\n",
    "        v = mcts_sample(max_child) * (-1 if max_child.current_player != state.current_player else 1)\n",
    "        \n",
    "    state.w += v \n",
    "    state.n += 1\n",
    "    return v\n",
    "\n",
    "def mcts_game_step(root):\n",
    "    for i in range(60):\n",
    "        mcts_sample(root)\n",
    "        \n",
    "    p = [child.n for child in root.childs]\n",
    "    p /= np.sum(p)\n",
    "    return np.random.choice(np.arange(0, len(p)), p=p), p\n",
    "    \n",
    "def mcts_game():\n",
    "    global sample_inputs, sample_outputs, next_index, number_of_samples\n",
    "    obs = env.reset()\n",
    "    root = State(1, env.get_state())\n",
    "    is_done = False\n",
    "    start_index = next_index\n",
    "    \n",
    "    while not is_done:\n",
    "        sample_inputs[0][next_index] = np.array(obs[0])\n",
    "        sample_inputs[1][next_index] = np.array(obs[1])\n",
    "        sample_outputs[1][next_index] = 1 if env.current_player is 0 else -1\n",
    "        \n",
    "        game_state = env.get_state()\n",
    "        a, p = mcts_game_step(root)\n",
    "        env.set_state(game_state)\n",
    "        \n",
    "        for i, card in enumerate(env.players[env.current_player].hand_cards):\n",
    "            sample_outputs[0][next_index][card.id] = p[i]    \n",
    "        \n",
    "        next_index += 1\n",
    "        number_of_samples = max(number_of_samples, next_index)\n",
    "        \n",
    "        last_player = env.current_player\n",
    "        obs, rew, is_done, _ = env.step(env.players[env.current_player].hand_cards[a].id)\n",
    "        root = root.childs[a]\n",
    "                \n",
    "    for i in range(start_index, next_index):\n",
    "        sample_outputs[1][i][0] *= (1 if last_player is 0 else -1) * (1 if rew[0] > 0 else -1)\n",
    "        \n",
    "def mcts_generate():\n",
    "    \n",
    "    for i in tqdm(range(30)):\n",
    "        mcts_game()\n",
    "    #postprocess_samples()\n",
    "\n",
    "def draw_tree(root):\n",
    "    print(\"Root: \" + str(root.end_v if root.n is 0 else root.w / root.n) + \" / \" + str(root.n))\n",
    "    for child in root.childs:\n",
    "        print( str(child.end_v if child.n is 0 else child.w / child.n) + \" / \" + str(child.n))\n",
    "\n",
    "def draw_path(root):\n",
    "    state = root\n",
    "    while True:     \n",
    "        print(str(state.current_player) + \": \" + str(state.end_v if state.n is 0 else state.w / state.n) + \" / \" + str(state.n))\n",
    "        \n",
    "        if state.is_leaf_node():\n",
    "            break\n",
    "    \n",
    "        max_u = 0\n",
    "        max_child = None\n",
    "        for child in state.childs:\n",
    "            if child.end_v != 0:\n",
    "                u = child.end_v\n",
    "            elif child.n > 0:\n",
    "                u = child.w / child.n \n",
    "            else:\n",
    "                u = 0\n",
    "                \n",
    "            if max_child is None or u > max_u:\n",
    "                max_u, max_child = u, child\n",
    "        \n",
    "        state = max_child\n"
   ]
  },
  {
   "cell_type": "markdown",
   "metadata": {
    "heading_collapsed": true
   },
   "source": [
    "# Play"
   ]
  },
  {
   "cell_type": "code",
   "execution_count": 6,
   "metadata": {
    "hidden": true
   },
   "outputs": [],
   "source": [
    "def match(agents, render=False):\n",
    "    obs, is_done = env.reset(), False    \n",
    "    \n",
    "    while not is_done:\n",
    "        prediction = agents[env.current_player].predict_single(obs)[0]\n",
    "        #print(prediction)\n",
    "        \n",
    "        valid_moves = np.array([1 if card in env.players[env.current_player].hand_cards else 0 for card in env.cards])       \n",
    "\n",
    "        prediction_valid = np.ma.masked_where(valid_moves == 0, prediction)\n",
    "        \n",
    "        obs, rew, is_done, _ = env.step(np.argmax(prediction_valid))\n",
    "        \n",
    "        if render:\n",
    "            env.render('human')\n",
    "            sleep(1)\n",
    "        \n",
    "    return env.current_player\n",
    "\n",
    "def compare(agent1, agent2):\n",
    "    agents = [agent1, agent2]\n",
    "    first_player_wins = 0\n",
    "    \n",
    "    for i in range(1000):\n",
    "        start_player = random.randint(0, 1)\n",
    "        winner = match([agents[start_player], agents[1 - start_player]])\n",
    "        first_player_wins += ((winner == 0) == (start_player == 0))\n",
    "    \n",
    "    return first_player_wins / 1000      "
   ]
  },
  {
   "cell_type": "markdown",
   "metadata": {},
   "source": [
    "# Train"
   ]
  },
  {
   "cell_type": "code",
   "execution_count": 7,
   "metadata": {},
   "outputs": [
    {
     "name": "stderr",
     "output_type": "stream",
     "text": [
      "/usr/local/lib/python3.6/dist-packages/h5py/__init__.py:36: FutureWarning: Conversion of the second argument of issubdtype from `float` to `np.floating` is deprecated. In future, it will be treated as `np.float64 == np.dtype(float).type`.\n",
      "  from ._conv import register_converters as _register_converters\n",
      "Using TensorFlow backend.\n"
     ]
    }
   ],
   "source": [
    "from keras.models import Sequential, clone_model\n",
    "from keras.layers import Dense, Activation, Input, LeakyReLU\n",
    "from keras.layers import Conv2D, MaxPooling2D, Merge, Flatten, BatchNormalization, add\n",
    "from keras.layers.merge import concatenate\n",
    "from keras.models import Model\n",
    "\n",
    "import keras.backend as K\n",
    "from IPython.display import clear_output\n",
    "from keras import optimizers\n",
    "import math"
   ]
  },
  {
   "cell_type": "code",
   "execution_count": 8,
   "metadata": {
    "code_folding": []
   },
   "outputs": [],
   "source": [
    "class ImprovedModel(Model):\n",
    "    def __init__(self, inputs, outputs):\n",
    "        super().__init__(inputs, outputs)\n",
    "\n",
    "    def predict_single(self, inputs):\n",
    "        inputs = [np.expand_dims(input, 0) for input in inputs]\n",
    "        outputs = self.predict(inputs)\n",
    "        return [output[0] for output in outputs]\n",
    "\n",
    "def mean_pred(y_true, y_pred):\n",
    "    return K.mean(K.equal(K.gather(y_true, K.argmax(y_true, axis=-1)), K.gather(y_true, K.argmax(y_pred, axis=-1))))\n",
    "\n",
    "\n",
    "def residual_layer(input_block, filters, kernel_size):\n",
    "\n",
    "    x = conv_layer(input_block, filters, kernel_size)\n",
    "\n",
    "    x = Conv2D(\n",
    "    filters = filters\n",
    "    , kernel_size = kernel_size\n",
    "    , padding = 'same'\n",
    "    , use_bias=False\n",
    "    , activation='linear'\n",
    "    )(x)\n",
    "\n",
    "    #x = BatchNormalization(axis=1)(x)\n",
    "\n",
    "    x = add([input_block, x])\n",
    "\n",
    "    x = LeakyReLU()(x)\n",
    "\n",
    "    return (x)\n",
    "\n",
    "def conv_layer(x, filters, kernel_size):\n",
    "\n",
    "    x = Conv2D(\n",
    "    filters = filters\n",
    "    , kernel_size = kernel_size\n",
    "    , padding = 'same'\n",
    "    , use_bias=False\n",
    "    , activation='linear'\n",
    "    )(x)\n",
    "\n",
    "    #x = BatchNormalization(axis=1)(x)\n",
    "    x = LeakyReLU()(x)\n",
    "\n",
    "    return (x)\n",
    "\n",
    "def build_model():\n",
    "    \n",
    "    input_1 = Input((4,8,2))\n",
    "    convnet = input_1\n",
    "\n",
    "    convnet = conv_layer(convnet, 32, (3, 3))\n",
    "    convnet = residual_layer(convnet, 32, (3, 3))\n",
    "    convnet = residual_layer(convnet, 32, (3, 3))\n",
    "    convnet = residual_layer(convnet, 32, (3, 3))\n",
    "    #convnet = conv_layer(convnet, 2, (1, 1))\n",
    "    #convnet = Conv2D(32, (3, 3), activation='relu', padding='same')(convnet)\n",
    "    #convnet = Conv2D(64, (3, 3), activation='relu', padding='same')(convnet)\n",
    "    #convnet = Conv2D(64, (3, 3), activation='relu', padding='same')(convnet)\n",
    "    #convnet = Conv2D(64, (3, 3), activation='relu', padding='same')(convnet)\n",
    "    convnet = Flatten()(convnet)\n",
    "\n",
    "    input_2 = Input((4,))\n",
    "\n",
    "    policy_out = concatenate([convnet, input_2])\n",
    "    #dense_out = Dense(128, activation='relu')(dense_out)\n",
    "    #dense_out = Dense(256, activation='relu')(dense_out)\n",
    "    #policy_out = Dense(256, activation='relu')(dense_out)\n",
    "    policy_out = Dense(32, activation='sigmoid')(policy_out)\n",
    "\n",
    "    value_out = concatenate([convnet, input_2])\n",
    "    #dense_out = Dense(128, activation='relu')(dense_out)\n",
    "    #dense_out = Dense(256, activation='relu')(dense_out)\n",
    "    value_out = Dense(256, activation='relu')(value_out)\n",
    "    value_out = Dense(1, activation='tanh')(value_out)\n",
    "\n",
    "    model = ImprovedModel(inputs=[input_1, input_2], outputs=[policy_out, value_out])\n",
    "\n",
    "    adam = optimizers.Adam()\n",
    "    model.compile(optimizer=adam,\n",
    "                  loss='mean_squared_error',\n",
    "                  metrics=['accuracy'])\n",
    "    return model"
   ]
  },
  {
   "cell_type": "code",
   "execution_count": 9,
   "metadata": {},
   "outputs": [],
   "source": [
    "model = build_model()\n",
    "#model.summary()"
   ]
  },
  {
   "cell_type": "code",
   "execution_count": 10,
   "metadata": {},
   "outputs": [],
   "source": [
    " reset_samples(1)"
   ]
  },
  {
   "cell_type": "code",
   "execution_count": 11,
   "metadata": {
    "scrolled": true
   },
   "outputs": [
    {
     "name": "stdout",
     "output_type": "stream",
     "text": [
      "Epoch 1/1\n",
      "21142/21142 [==============================] - 14s 665us/step - loss: 0.2329 - dense_1_loss: 0.0059 - dense_3_loss: 0.2270 - dense_1_acc: 0.6747 - dense_3_acc: 0.8649\n"
     ]
    },
    {
     "ename": "KeyboardInterrupt",
     "evalue": "",
     "output_type": "error",
     "traceback": [
      "\u001b[0;31m---------------------------------------------------------------------------\u001b[0m",
      "\u001b[0;31mKeyboardInterrupt\u001b[0m                         Traceback (most recent call last)",
      "\u001b[0;32m<ipython-input-11-773a4e3bf7b5>\u001b[0m in \u001b[0;36m<module>\u001b[0;34m()\u001b[0m\n\u001b[1;32m     16\u001b[0m     \u001b[0mmodel\u001b[0m\u001b[0;34m.\u001b[0m\u001b[0mfit\u001b[0m\u001b[0;34m(\u001b[0m\u001b[0mtrain_inputs\u001b[0m\u001b[0;34m,\u001b[0m \u001b[0mtrain_outputs\u001b[0m\u001b[0;34m,\u001b[0m \u001b[0mepochs\u001b[0m\u001b[0;34m=\u001b[0m\u001b[0;36m1\u001b[0m\u001b[0;34m,\u001b[0m \u001b[0mbatch_size\u001b[0m\u001b[0;34m=\u001b[0m\u001b[0;36m64\u001b[0m\u001b[0;34m)\u001b[0m\u001b[0;34m\u001b[0m\u001b[0m\n\u001b[1;32m     17\u001b[0m \u001b[0;34m\u001b[0m\u001b[0m\n\u001b[0;32m---> 18\u001b[0;31m     \u001b[0mprint\u001b[0m\u001b[0;34m(\u001b[0m\u001b[0;34m\"New model wins \"\u001b[0m \u001b[0;34m+\u001b[0m \u001b[0mstr\u001b[0m\u001b[0;34m(\u001b[0m\u001b[0mcompare\u001b[0m\u001b[0;34m(\u001b[0m\u001b[0mmodel\u001b[0m\u001b[0;34m,\u001b[0m \u001b[0mrandom_model\u001b[0m\u001b[0;34m)\u001b[0m \u001b[0;34m*\u001b[0m \u001b[0;36m100\u001b[0m\u001b[0;34m)\u001b[0m \u001b[0;34m+\u001b[0m \u001b[0;34m\"%!\"\u001b[0m\u001b[0;34m)\u001b[0m\u001b[0;34m\u001b[0m\u001b[0m\n\u001b[0m",
      "\u001b[0;32m<ipython-input-6-c42854a17e7a>\u001b[0m in \u001b[0;36mcompare\u001b[0;34m(agent1, agent2)\u001b[0m\n\u001b[1;32m     24\u001b[0m     \u001b[0;32mfor\u001b[0m \u001b[0mi\u001b[0m \u001b[0;32min\u001b[0m \u001b[0mrange\u001b[0m\u001b[0;34m(\u001b[0m\u001b[0;36m1000\u001b[0m\u001b[0;34m)\u001b[0m\u001b[0;34m:\u001b[0m\u001b[0;34m\u001b[0m\u001b[0m\n\u001b[1;32m     25\u001b[0m         \u001b[0mstart_player\u001b[0m \u001b[0;34m=\u001b[0m \u001b[0mrandom\u001b[0m\u001b[0;34m.\u001b[0m\u001b[0mrandint\u001b[0m\u001b[0;34m(\u001b[0m\u001b[0;36m0\u001b[0m\u001b[0;34m,\u001b[0m \u001b[0;36m1\u001b[0m\u001b[0;34m)\u001b[0m\u001b[0;34m\u001b[0m\u001b[0m\n\u001b[0;32m---> 26\u001b[0;31m         \u001b[0mwinner\u001b[0m \u001b[0;34m=\u001b[0m \u001b[0mmatch\u001b[0m\u001b[0;34m(\u001b[0m\u001b[0;34m[\u001b[0m\u001b[0magents\u001b[0m\u001b[0;34m[\u001b[0m\u001b[0mstart_player\u001b[0m\u001b[0;34m]\u001b[0m\u001b[0;34m,\u001b[0m \u001b[0magents\u001b[0m\u001b[0;34m[\u001b[0m\u001b[0;36m1\u001b[0m \u001b[0;34m-\u001b[0m \u001b[0mstart_player\u001b[0m\u001b[0;34m]\u001b[0m\u001b[0;34m]\u001b[0m\u001b[0;34m)\u001b[0m\u001b[0;34m\u001b[0m\u001b[0m\n\u001b[0m\u001b[1;32m     27\u001b[0m         \u001b[0mfirst_player_wins\u001b[0m \u001b[0;34m+=\u001b[0m \u001b[0;34m(\u001b[0m\u001b[0;34m(\u001b[0m\u001b[0mwinner\u001b[0m \u001b[0;34m==\u001b[0m \u001b[0;36m0\u001b[0m\u001b[0;34m)\u001b[0m \u001b[0;34m==\u001b[0m \u001b[0;34m(\u001b[0m\u001b[0mstart_player\u001b[0m \u001b[0;34m==\u001b[0m \u001b[0;36m0\u001b[0m\u001b[0;34m)\u001b[0m\u001b[0;34m)\u001b[0m\u001b[0;34m\u001b[0m\u001b[0m\n\u001b[1;32m     28\u001b[0m \u001b[0;34m\u001b[0m\u001b[0m\n",
      "\u001b[0;32m<ipython-input-6-c42854a17e7a>\u001b[0m in \u001b[0;36mmatch\u001b[0;34m(agents, render)\u001b[0m\n\u001b[1;32m      3\u001b[0m \u001b[0;34m\u001b[0m\u001b[0m\n\u001b[1;32m      4\u001b[0m     \u001b[0;32mwhile\u001b[0m \u001b[0;32mnot\u001b[0m \u001b[0mis_done\u001b[0m\u001b[0;34m:\u001b[0m\u001b[0;34m\u001b[0m\u001b[0m\n\u001b[0;32m----> 5\u001b[0;31m         \u001b[0mprediction\u001b[0m \u001b[0;34m=\u001b[0m \u001b[0magents\u001b[0m\u001b[0;34m[\u001b[0m\u001b[0menv\u001b[0m\u001b[0;34m.\u001b[0m\u001b[0mcurrent_player\u001b[0m\u001b[0;34m]\u001b[0m\u001b[0;34m.\u001b[0m\u001b[0mpredict_single\u001b[0m\u001b[0;34m(\u001b[0m\u001b[0mobs\u001b[0m\u001b[0;34m)\u001b[0m\u001b[0;34m[\u001b[0m\u001b[0;36m0\u001b[0m\u001b[0;34m]\u001b[0m\u001b[0;34m\u001b[0m\u001b[0m\n\u001b[0m\u001b[1;32m      6\u001b[0m         \u001b[0;31m#print(prediction)\u001b[0m\u001b[0;34m\u001b[0m\u001b[0;34m\u001b[0m\u001b[0m\n\u001b[1;32m      7\u001b[0m \u001b[0;34m\u001b[0m\u001b[0m\n",
      "\u001b[0;32m<ipython-input-8-cbcc5885edca>\u001b[0m in \u001b[0;36mpredict_single\u001b[0;34m(self, inputs)\u001b[0m\n\u001b[1;32m      5\u001b[0m     \u001b[0;32mdef\u001b[0m \u001b[0mpredict_single\u001b[0m\u001b[0;34m(\u001b[0m\u001b[0mself\u001b[0m\u001b[0;34m,\u001b[0m \u001b[0minputs\u001b[0m\u001b[0;34m)\u001b[0m\u001b[0;34m:\u001b[0m\u001b[0;34m\u001b[0m\u001b[0m\n\u001b[1;32m      6\u001b[0m         \u001b[0minputs\u001b[0m \u001b[0;34m=\u001b[0m \u001b[0;34m[\u001b[0m\u001b[0mnp\u001b[0m\u001b[0;34m.\u001b[0m\u001b[0mexpand_dims\u001b[0m\u001b[0;34m(\u001b[0m\u001b[0minput\u001b[0m\u001b[0;34m,\u001b[0m \u001b[0;36m0\u001b[0m\u001b[0;34m)\u001b[0m \u001b[0;32mfor\u001b[0m \u001b[0minput\u001b[0m \u001b[0;32min\u001b[0m \u001b[0minputs\u001b[0m\u001b[0;34m]\u001b[0m\u001b[0;34m\u001b[0m\u001b[0m\n\u001b[0;32m----> 7\u001b[0;31m         \u001b[0moutputs\u001b[0m \u001b[0;34m=\u001b[0m \u001b[0mself\u001b[0m\u001b[0;34m.\u001b[0m\u001b[0mpredict\u001b[0m\u001b[0;34m(\u001b[0m\u001b[0minputs\u001b[0m\u001b[0;34m)\u001b[0m\u001b[0;34m\u001b[0m\u001b[0m\n\u001b[0m\u001b[1;32m      8\u001b[0m         \u001b[0;32mreturn\u001b[0m \u001b[0;34m[\u001b[0m\u001b[0moutput\u001b[0m\u001b[0;34m[\u001b[0m\u001b[0;36m0\u001b[0m\u001b[0;34m]\u001b[0m \u001b[0;32mfor\u001b[0m \u001b[0moutput\u001b[0m \u001b[0;32min\u001b[0m \u001b[0moutputs\u001b[0m\u001b[0;34m]\u001b[0m\u001b[0;34m\u001b[0m\u001b[0m\n\u001b[1;32m      9\u001b[0m \u001b[0;34m\u001b[0m\u001b[0m\n",
      "\u001b[0;32m/usr/local/lib/python3.6/dist-packages/keras/engine/training.py\u001b[0m in \u001b[0;36mpredict\u001b[0;34m(self, x, batch_size, verbose, steps)\u001b[0m\n\u001b[1;32m   1798\u001b[0m         \u001b[0mf\u001b[0m \u001b[0;34m=\u001b[0m \u001b[0mself\u001b[0m\u001b[0;34m.\u001b[0m\u001b[0mpredict_function\u001b[0m\u001b[0;34m\u001b[0m\u001b[0m\n\u001b[1;32m   1799\u001b[0m         return self._predict_loop(f, ins, batch_size=batch_size,\n\u001b[0;32m-> 1800\u001b[0;31m                                   verbose=verbose, steps=steps)\n\u001b[0m\u001b[1;32m   1801\u001b[0m \u001b[0;34m\u001b[0m\u001b[0m\n\u001b[1;32m   1802\u001b[0m     def train_on_batch(self, x, y,\n",
      "\u001b[0;32m/usr/local/lib/python3.6/dist-packages/keras/engine/training.py\u001b[0m in \u001b[0;36m_predict_loop\u001b[0;34m(self, f, ins, batch_size, verbose, steps)\u001b[0m\n\u001b[1;32m   1299\u001b[0m                     \u001b[0mins_batch\u001b[0m\u001b[0;34m[\u001b[0m\u001b[0mi\u001b[0m\u001b[0;34m]\u001b[0m \u001b[0;34m=\u001b[0m \u001b[0mins_batch\u001b[0m\u001b[0;34m[\u001b[0m\u001b[0mi\u001b[0m\u001b[0;34m]\u001b[0m\u001b[0;34m.\u001b[0m\u001b[0mtoarray\u001b[0m\u001b[0;34m(\u001b[0m\u001b[0;34m)\u001b[0m\u001b[0;34m\u001b[0m\u001b[0m\n\u001b[1;32m   1300\u001b[0m \u001b[0;34m\u001b[0m\u001b[0m\n\u001b[0;32m-> 1301\u001b[0;31m                 \u001b[0mbatch_outs\u001b[0m \u001b[0;34m=\u001b[0m \u001b[0mf\u001b[0m\u001b[0;34m(\u001b[0m\u001b[0mins_batch\u001b[0m\u001b[0;34m)\u001b[0m\u001b[0;34m\u001b[0m\u001b[0m\n\u001b[0m\u001b[1;32m   1302\u001b[0m                 \u001b[0;32mif\u001b[0m \u001b[0;32mnot\u001b[0m \u001b[0misinstance\u001b[0m\u001b[0;34m(\u001b[0m\u001b[0mbatch_outs\u001b[0m\u001b[0;34m,\u001b[0m \u001b[0mlist\u001b[0m\u001b[0;34m)\u001b[0m\u001b[0;34m:\u001b[0m\u001b[0;34m\u001b[0m\u001b[0m\n\u001b[1;32m   1303\u001b[0m                     \u001b[0mbatch_outs\u001b[0m \u001b[0;34m=\u001b[0m \u001b[0;34m[\u001b[0m\u001b[0mbatch_outs\u001b[0m\u001b[0;34m]\u001b[0m\u001b[0;34m\u001b[0m\u001b[0m\n",
      "\u001b[0;32m/usr/local/lib/python3.6/dist-packages/keras/backend/tensorflow_backend.py\u001b[0m in \u001b[0;36m__call__\u001b[0;34m(self, inputs)\u001b[0m\n\u001b[1;32m   2473\u001b[0m         \u001b[0msession\u001b[0m \u001b[0;34m=\u001b[0m \u001b[0mget_session\u001b[0m\u001b[0;34m(\u001b[0m\u001b[0;34m)\u001b[0m\u001b[0;34m\u001b[0m\u001b[0m\n\u001b[1;32m   2474\u001b[0m         updated = session.run(fetches=fetches, feed_dict=feed_dict,\n\u001b[0;32m-> 2475\u001b[0;31m                               **self.session_kwargs)\n\u001b[0m\u001b[1;32m   2476\u001b[0m         \u001b[0;32mreturn\u001b[0m \u001b[0mupdated\u001b[0m\u001b[0;34m[\u001b[0m\u001b[0;34m:\u001b[0m\u001b[0mlen\u001b[0m\u001b[0;34m(\u001b[0m\u001b[0mself\u001b[0m\u001b[0;34m.\u001b[0m\u001b[0moutputs\u001b[0m\u001b[0;34m)\u001b[0m\u001b[0;34m]\u001b[0m\u001b[0;34m\u001b[0m\u001b[0m\n\u001b[1;32m   2477\u001b[0m \u001b[0;34m\u001b[0m\u001b[0m\n",
      "\u001b[0;32m/usr/local/lib/python3.6/dist-packages/tensorflow/python/client/session.py\u001b[0m in \u001b[0;36mrun\u001b[0;34m(self, fetches, feed_dict, options, run_metadata)\u001b[0m\n\u001b[1;32m    893\u001b[0m     \u001b[0;32mtry\u001b[0m\u001b[0;34m:\u001b[0m\u001b[0;34m\u001b[0m\u001b[0m\n\u001b[1;32m    894\u001b[0m       result = self._run(None, fetches, feed_dict, options_ptr,\n\u001b[0;32m--> 895\u001b[0;31m                          run_metadata_ptr)\n\u001b[0m\u001b[1;32m    896\u001b[0m       \u001b[0;32mif\u001b[0m \u001b[0mrun_metadata\u001b[0m\u001b[0;34m:\u001b[0m\u001b[0;34m\u001b[0m\u001b[0m\n\u001b[1;32m    897\u001b[0m         \u001b[0mproto_data\u001b[0m \u001b[0;34m=\u001b[0m \u001b[0mtf_session\u001b[0m\u001b[0;34m.\u001b[0m\u001b[0mTF_GetBuffer\u001b[0m\u001b[0;34m(\u001b[0m\u001b[0mrun_metadata_ptr\u001b[0m\u001b[0;34m)\u001b[0m\u001b[0;34m\u001b[0m\u001b[0m\n",
      "\u001b[0;32m/usr/local/lib/python3.6/dist-packages/tensorflow/python/client/session.py\u001b[0m in \u001b[0;36m_run\u001b[0;34m(self, handle, fetches, feed_dict, options, run_metadata)\u001b[0m\n\u001b[1;32m   1126\u001b[0m     \u001b[0;32mif\u001b[0m \u001b[0mfinal_fetches\u001b[0m \u001b[0;32mor\u001b[0m \u001b[0mfinal_targets\u001b[0m \u001b[0;32mor\u001b[0m \u001b[0;34m(\u001b[0m\u001b[0mhandle\u001b[0m \u001b[0;32mand\u001b[0m \u001b[0mfeed_dict_tensor\u001b[0m\u001b[0;34m)\u001b[0m\u001b[0;34m:\u001b[0m\u001b[0;34m\u001b[0m\u001b[0m\n\u001b[1;32m   1127\u001b[0m       results = self._do_run(handle, final_targets, final_fetches,\n\u001b[0;32m-> 1128\u001b[0;31m                              feed_dict_tensor, options, run_metadata)\n\u001b[0m\u001b[1;32m   1129\u001b[0m     \u001b[0;32melse\u001b[0m\u001b[0;34m:\u001b[0m\u001b[0;34m\u001b[0m\u001b[0m\n\u001b[1;32m   1130\u001b[0m       \u001b[0mresults\u001b[0m \u001b[0;34m=\u001b[0m \u001b[0;34m[\u001b[0m\u001b[0;34m]\u001b[0m\u001b[0;34m\u001b[0m\u001b[0m\n",
      "\u001b[0;32m/usr/local/lib/python3.6/dist-packages/tensorflow/python/client/session.py\u001b[0m in \u001b[0;36m_do_run\u001b[0;34m(self, handle, target_list, fetch_list, feed_dict, options, run_metadata)\u001b[0m\n\u001b[1;32m   1342\u001b[0m     \u001b[0;32mif\u001b[0m \u001b[0mhandle\u001b[0m \u001b[0;32mis\u001b[0m \u001b[0;32mNone\u001b[0m\u001b[0;34m:\u001b[0m\u001b[0;34m\u001b[0m\u001b[0m\n\u001b[1;32m   1343\u001b[0m       return self._do_call(_run_fn, self._session, feeds, fetches, targets,\n\u001b[0;32m-> 1344\u001b[0;31m                            options, run_metadata)\n\u001b[0m\u001b[1;32m   1345\u001b[0m     \u001b[0;32melse\u001b[0m\u001b[0;34m:\u001b[0m\u001b[0;34m\u001b[0m\u001b[0m\n\u001b[1;32m   1346\u001b[0m       \u001b[0;32mreturn\u001b[0m \u001b[0mself\u001b[0m\u001b[0;34m.\u001b[0m\u001b[0m_do_call\u001b[0m\u001b[0;34m(\u001b[0m\u001b[0m_prun_fn\u001b[0m\u001b[0;34m,\u001b[0m \u001b[0mself\u001b[0m\u001b[0;34m.\u001b[0m\u001b[0m_session\u001b[0m\u001b[0;34m,\u001b[0m \u001b[0mhandle\u001b[0m\u001b[0;34m,\u001b[0m \u001b[0mfeeds\u001b[0m\u001b[0;34m,\u001b[0m \u001b[0mfetches\u001b[0m\u001b[0;34m)\u001b[0m\u001b[0;34m\u001b[0m\u001b[0m\n",
      "\u001b[0;32m/usr/local/lib/python3.6/dist-packages/tensorflow/python/client/session.py\u001b[0m in \u001b[0;36m_do_call\u001b[0;34m(self, fn, *args)\u001b[0m\n\u001b[1;32m   1348\u001b[0m   \u001b[0;32mdef\u001b[0m \u001b[0m_do_call\u001b[0m\u001b[0;34m(\u001b[0m\u001b[0mself\u001b[0m\u001b[0;34m,\u001b[0m \u001b[0mfn\u001b[0m\u001b[0;34m,\u001b[0m \u001b[0;34m*\u001b[0m\u001b[0margs\u001b[0m\u001b[0;34m)\u001b[0m\u001b[0;34m:\u001b[0m\u001b[0;34m\u001b[0m\u001b[0m\n\u001b[1;32m   1349\u001b[0m     \u001b[0;32mtry\u001b[0m\u001b[0;34m:\u001b[0m\u001b[0;34m\u001b[0m\u001b[0m\n\u001b[0;32m-> 1350\u001b[0;31m       \u001b[0;32mreturn\u001b[0m \u001b[0mfn\u001b[0m\u001b[0;34m(\u001b[0m\u001b[0;34m*\u001b[0m\u001b[0margs\u001b[0m\u001b[0;34m)\u001b[0m\u001b[0;34m\u001b[0m\u001b[0m\n\u001b[0m\u001b[1;32m   1351\u001b[0m     \u001b[0;32mexcept\u001b[0m \u001b[0merrors\u001b[0m\u001b[0;34m.\u001b[0m\u001b[0mOpError\u001b[0m \u001b[0;32mas\u001b[0m \u001b[0me\u001b[0m\u001b[0;34m:\u001b[0m\u001b[0;34m\u001b[0m\u001b[0m\n\u001b[1;32m   1352\u001b[0m       \u001b[0mmessage\u001b[0m \u001b[0;34m=\u001b[0m \u001b[0mcompat\u001b[0m\u001b[0;34m.\u001b[0m\u001b[0mas_text\u001b[0m\u001b[0;34m(\u001b[0m\u001b[0me\u001b[0m\u001b[0;34m.\u001b[0m\u001b[0mmessage\u001b[0m\u001b[0;34m)\u001b[0m\u001b[0;34m\u001b[0m\u001b[0m\n",
      "\u001b[0;32m/usr/local/lib/python3.6/dist-packages/tensorflow/python/client/session.py\u001b[0m in \u001b[0;36m_run_fn\u001b[0;34m(session, feed_dict, fetch_list, target_list, options, run_metadata)\u001b[0m\n\u001b[1;32m   1327\u001b[0m           return tf_session.TF_Run(session, options,\n\u001b[1;32m   1328\u001b[0m                                    \u001b[0mfeed_dict\u001b[0m\u001b[0;34m,\u001b[0m \u001b[0mfetch_list\u001b[0m\u001b[0;34m,\u001b[0m \u001b[0mtarget_list\u001b[0m\u001b[0;34m,\u001b[0m\u001b[0;34m\u001b[0m\u001b[0m\n\u001b[0;32m-> 1329\u001b[0;31m                                    status, run_metadata)\n\u001b[0m\u001b[1;32m   1330\u001b[0m \u001b[0;34m\u001b[0m\u001b[0m\n\u001b[1;32m   1331\u001b[0m     \u001b[0;32mdef\u001b[0m \u001b[0m_prun_fn\u001b[0m\u001b[0;34m(\u001b[0m\u001b[0msession\u001b[0m\u001b[0;34m,\u001b[0m \u001b[0mhandle\u001b[0m\u001b[0;34m,\u001b[0m \u001b[0mfeed_dict\u001b[0m\u001b[0;34m,\u001b[0m \u001b[0mfetch_list\u001b[0m\u001b[0;34m)\u001b[0m\u001b[0;34m:\u001b[0m\u001b[0;34m\u001b[0m\u001b[0m\n",
      "\u001b[0;31mKeyboardInterrupt\u001b[0m: "
     ]
    }
   ],
   "source": [
    "prev_states = []\n",
    "random_model = build_model()\n",
    "for i in range(100):\n",
    "    #enerate_training_data(100)    \n",
    "    mcts_generate()\n",
    "    clear_output()\n",
    "    p = np.random.permutation(int(number_of_samples))\n",
    "    train_outputs = []\n",
    "    train_inputs = []\n",
    "    for i in range(len(sample_outputs)):\n",
    "        train_outputs.append(sample_outputs[i][p])\n",
    "    for i in range(len(sample_inputs)):\n",
    "        train_inputs.append(sample_inputs[i][p])\n",
    "        \n",
    "    # Train the model, iterating on the data in batches of 32 samples\n",
    "    model.fit(train_inputs, train_outputs, epochs=1, batch_size=64)    \n",
    "    \n",
    "    print(\"New model wins \" + str(compare(model, random_model) * 100) + \"%!\")"
   ]
  },
  {
   "cell_type": "code",
   "execution_count": null,
   "metadata": {},
   "outputs": [],
   "source": [
    "model.save('model.h5')"
   ]
  },
  {
   "cell_type": "code",
   "execution_count": null,
   "metadata": {},
   "outputs": [],
   "source": [
    "model.load_weights('model.h5')"
   ]
  },
  {
   "cell_type": "markdown",
   "metadata": {
    "heading_collapsed": true
   },
   "source": [
    "# Eval"
   ]
  },
  {
   "cell_type": "code",
   "execution_count": null,
   "metadata": {
    "hidden": true
   },
   "outputs": [],
   "source": [
    "generate_training_data(100)    \n",
    "p = np.random.permutation(len(sample_inputs))\n",
    "sample_inputs, sample_outputs = sample_inputs[p], sample_outputs[p]"
   ]
  },
  {
   "cell_type": "code",
   "execution_count": null,
   "metadata": {
    "hidden": true
   },
   "outputs": [],
   "source": [
    "model.evaluate(sample_inputs, sample_outputs)"
   ]
  },
  {
   "cell_type": "markdown",
   "metadata": {},
   "source": [
    "# Predict"
   ]
  },
  {
   "cell_type": "code",
   "execution_count": 13,
   "metadata": {},
   "outputs": [],
   "source": [
    "def generate_input(hand_cards, table_card=None, own_tricks=0, opponent_tricks=0):\n",
    "    obs = [np.zeros([4, 8, 2]), np.zeros([4])]\n",
    "    \n",
    "    for card in hand_cards:\n",
    "        obs[0][card.color.value][card.value.value][0] = 1\n",
    "        \n",
    "    if table_card is not None:\n",
    "        obs[0][table_card.color.value][table_card.value.value][1] = 1\n",
    "\n",
    "    obs[1][0] = (own_tricks == 1 or own_tricks == 3)\n",
    "    obs[1][1] = (own_tricks == 2 or own_tricks == 3)\n",
    "\n",
    "    obs[1][2] = (opponent_tricks == 1 or opponent_tricks == 3)\n",
    "    obs[1][3] = (opponent_tricks == 2 or opponent_tricks == 3)\n",
    "    \n",
    "    return obs"
   ]
  },
  {
   "cell_type": "code",
   "execution_count": 14,
   "metadata": {},
   "outputs": [],
   "source": [
    "def card(color, value):\n",
    "    for card in env.cards:\n",
    "        if card.value == value and card.color == color:\n",
    "            return card\n",
    "        \n",
    "    return None"
   ]
  },
  {
   "cell_type": "code",
   "execution_count": 38,
   "metadata": {},
   "outputs": [],
   "source": [
    "def calc_correct_output_sample(hand_cards, table_card=None, own_tricks=0, opponent_tricks=0):\n",
    "    global sample_outputs\n",
    "    env.reset()\n",
    "    env.cards_left = env.cards[:]\n",
    "    random.shuffle(env.cards_left)\n",
    "    \n",
    "    for card in hand_cards:\n",
    "        env.cards_left.remove(card)\n",
    "    env.players[0].hand_cards = hand_cards[:]\n",
    "        \n",
    "    env.players[1].hand_cards = []\n",
    "    for i in range(len(hand_cards) - (1 if table_card is not None else 0)):\n",
    "        env.players[1].hand_cards.append(env.cards_left.pop())       \n",
    "    \n",
    "    env.players[0].tricks = own_tricks\n",
    "    env.players[1].tricks = opponent_tricks\n",
    "    env.table_card = table_card\n",
    "    \n",
    "    #obs, rew, is_done, _ = env.step(hand_cards[0].id)\n",
    "   # print(rew, is_done)\n",
    "\n",
    "    #env.render('human')\n",
    "    root = State(1, env.get_state())\n",
    "    a, p = mcts_game_step(root)\n",
    "    #draw_tree(root)\n",
    "    #print(\"\")\n",
    "    #draw_tree(root.childs[0])\n",
    "    \n",
    "    #draw_path(root)\n",
    "    #reset_samples(1)\n",
    "    #search(env.regenerate_obs())\n",
    "    #postprocess_samples()\n",
    "        \n",
    "    return p#sample_outputs[0]"
   ]
  },
  {
   "cell_type": "code",
   "execution_count": 39,
   "metadata": {},
   "outputs": [],
   "source": [
    "def calc_correct_output(hand_cards, table_card=None, own_tricks=0, opponent_tricks=0):    \n",
    "    correct_output = None\n",
    "    for i in range(100):\n",
    "        sample_outputs = calc_correct_output_sample(hand_cards, table_card, own_tricks, opponent_tricks)\n",
    "        if correct_output is None:\n",
    "            correct_output = sample_outputs\n",
    "        else:\n",
    "            correct_output += sample_outputs\n",
    "    return correct_output / 100"
   ]
  },
  {
   "cell_type": "code",
   "execution_count": 40,
   "metadata": {},
   "outputs": [],
   "source": [
    "def predict(hand_cards, table_card=None, own_tricks=0, opponent_tricks=0):\n",
    "    input = generate_input(hand_cards, table_card, own_tricks, opponent_tricks)\n",
    "    output = model.predict_single(input)[0]\n",
    "    correct_output = calc_correct_output_sample(hand_cards, table_card, own_tricks, opponent_tricks)\n",
    "    print(output)\n",
    "    id = 0\n",
    "    for card in hand_cards:\n",
    "        print(str(card.color) + \" \" + str(card.value) + \" => \" + str(output[card.id]) + \" (\" + str(correct_output[id]) + \")\")\n",
    "        id += 1"
   ]
  },
  {
   "cell_type": "code",
   "execution_count": 41,
   "metadata": {
    "code_folding": []
   },
   "outputs": [],
   "source": [
    "def eval():\n",
    "    correct = 0\n",
    "    for i in range(100):\n",
    "        own_tricks = random.randint(0, 2)\n",
    "        opponent_tricks = random.randint(0, 2)\n",
    "        table_card_enabled = random.randint(0, 1)\n",
    "        hand_cards = random.sample(env.cards, 5 - own_tricks - opponent_tricks + table_card_enabled)\n",
    "        table_card = hand_cards.pop() if table_card_enabled else None\n",
    "\n",
    "        input = generate_input(hand_cards, table_card, own_tricks, opponent_tricks)\n",
    "        output_per_card = model.predict_single(input)[0]\n",
    "        correct_output = calc_correct_output(hand_cards, table_card, own_tricks, opponent_tricks)\n",
    "        output = []\n",
    "        for card in hand_cards: \n",
    "            output.append(output_per_card[card.id])\n",
    "        \n",
    "       # print(output, np.argmax(output)) \n",
    "       # print(correct_output, np.argmax(correct_output))\n",
    "        correct += correct_output[np.argmax(output)] == correct_output[np.argmax(correct_output)]\n",
    "        if correct_output[np.argmax(output)] != correct_output[np.argmax(correct_output)]:\n",
    "            print(correct_output[np.argmax(output)], correct_output[np.argmax(correct_output)])\n",
    "    return correct / 100"
   ]
  },
  {
   "cell_type": "code",
   "execution_count": 43,
   "metadata": {},
   "outputs": [
    {
     "name": "stdout",
     "output_type": "stream",
     "text": [
      "0.2922033898305084 0.42101694915254234\n",
      "0.2110169491525425 0.7889830508474573\n",
      "0.34694915254237296 0.46169491525423756\n",
      "0.018305084745762683 0.5067796610169493\n",
      "0.41576271186440644 0.5842372881355942\n",
      "0.12135593220338983 0.4605084745762715\n",
      "0.2661016949152543 0.27711864406779674\n",
      "0.26542372881355936 0.5920338983050848\n",
      "0.1838983050847459 0.8161016949152544\n",
      "0.025932203389830467 0.6859322033898297\n",
      "0.26508474576271185 0.582372881355932\n",
      "0.3810169491525425 0.38372881355932215\n"
     ]
    },
    {
     "data": {
      "text/plain": [
       "0.88"
      ]
     },
     "execution_count": 43,
     "metadata": {},
     "output_type": "execute_result"
    }
   ],
   "source": [
    "eval()"
   ]
  },
  {
   "cell_type": "code",
   "execution_count": 22,
   "metadata": {},
   "outputs": [
    {
     "name": "stdout",
     "output_type": "stream",
     "text": [
      "Root: -0.6174579821527004 / 60\n",
      "-0.7027028501033783 / 6\n",
      "-0.6818890356355243 / 18\n",
      "-0.5986008580241885 / 35\n",
      "\n",
      "Root: -0.7027028501033783 / 6\n",
      "1.0 / 3\n",
      "0 / 0\n",
      "1.0 / 2\n",
      "0: -0.6174579821527004 / 60\n",
      "0: -0.5986008580241885 / 35\n",
      "1: 0.7583473280072213 / 30\n",
      "0: -0.7514027108748754 / 18\n",
      "1: 1.0 / 15\n",
      "[1.3552429e-03 4.5358184e-01 4.6454603e-03 6.4368802e-04 4.6525458e-03\n",
      " 3.9433949e-03 1.5112920e-01 3.0173792e-04 1.2520696e-03 1.0854086e-03\n",
      " 1.7174638e-03 1.7721410e-04 1.8285712e-02 2.9316519e-03 6.9040695e-04\n",
      " 1.1141861e-03 4.1364837e-01 4.2039421e-04 2.3993296e-03 5.7367404e-04\n",
      " 6.7652315e-03 2.2710238e-03 3.9055911e-03 2.6075791e-03 1.8998339e-03\n",
      " 1.4971480e-03 2.8953989e-04 2.9743905e-03 1.0059150e-03 8.4979401e-04\n",
      " 6.7597942e-04 4.0198429e-03]\n",
      "Color.EICHEL Value.ACHT => 0.1511292 (0.1016949152542373)\n",
      "Color.EICHEL Value.KOENIG => 0.45358184 (0.3050847457627119)\n",
      "Color.HERZ Value.SAU => 0.41364837 (0.5932203389830508)\n"
     ]
    }
   ],
   "source": [
    "predict([\n",
    "    card(Color.EICHEL, Value.ACHT), \n",
    "    card(Color.EICHEL, Value.KOENIG),\n",
    "    card(Color.HERZ, Value.SAU)\n",
    "    ], None, 0, 2)\n"
   ]
  },
  {
   "cell_type": "code",
   "execution_count": 21,
   "metadata": {
    "scrolled": false
   },
   "outputs": [
    {
     "name": "stdout",
     "output_type": "stream",
     "text": [
      "Root: 0.922048752506574 / 60\n",
      "-0.3561715930700302 / 2\n",
      "0.08824940025806427 / 2\n",
      "1.0 / 55\n",
      "\n",
      "Root: -0.3561715930700302 / 2\n",
      "0.9810134172439575 / 1\n",
      "0 / 0\n",
      "0: 0.922048752506574 / 60\n",
      "0: 1.0 / 55\n",
      "[2.79548466e-01 1.02158934e-02 1.49550848e-02 1.53444484e-02\n",
      " 2.73694303e-02 4.44142474e-03 1.07401265e-02 4.23629856e-04\n",
      " 1.34261074e-02 2.09725965e-02 1.11253897e-03 2.15848342e-01\n",
      " 4.34122561e-03 5.09347804e-02 2.66604661e-03 4.06425633e-03\n",
      " 5.03227353e-01 2.34259735e-03 8.95122124e-04 4.56180453e-04\n",
      " 2.89558689e-03 1.57537477e-04 1.47987949e-03 1.49612466e-03\n",
      " 8.16153921e-03 5.08763408e-03 1.66656240e-03 6.87878486e-03\n",
      " 2.16777856e-03 5.41643752e-03 5.11949882e-03 3.48475180e-03]\n",
      "Color.EICHEL Value.SAU => 0.27954847 (0.03389830508474576)\n",
      "Color.GRUEN Value.UNTER => 0.21584834 (0.03389830508474576)\n",
      "Color.HERZ Value.SAU => 0.50322735 (0.9322033898305084)\n"
     ]
    }
   ],
   "source": [
    "predict([\n",
    "    card(Color.EICHEL, Value.SAU), \n",
    "    card(Color.GRUEN, Value.UNTER),\n",
    "    card(Color.HERZ, Value.SAU)\n",
    "    ],card(Color.SCHELLN, Value.ZEHN), 2, 0)"
   ]
  },
  {
   "cell_type": "code",
   "execution_count": null,
   "metadata": {},
   "outputs": [],
   "source": [
    "test = build_model()"
   ]
  },
  {
   "cell_type": "code",
   "execution_count": null,
   "metadata": {},
   "outputs": [],
   "source": [
    "build_model().predict_single([np.zeros((4, 8, 2)), np.zeros((4,))])"
   ]
  },
  {
   "cell_type": "code",
   "execution_count": null,
   "metadata": {},
   "outputs": [],
   "source": [
    "model.predict_single([np.zeros((4, 8, 2)), np.zeros((4,))])"
   ]
  },
  {
   "cell_type": "code",
   "execution_count": null,
   "metadata": {},
   "outputs": [],
   "source": []
  }
 ],
 "metadata": {
  "kernelspec": {
   "display_name": "Python 3",
   "language": "python",
   "name": "python3"
  },
  "language_info": {
   "codemirror_mode": {
    "name": "ipython",
    "version": 3
   },
   "file_extension": ".py",
   "mimetype": "text/x-python",
   "name": "python",
   "nbconvert_exporter": "python",
   "pygments_lexer": "ipython3",
   "version": "3.6.3"
  }
 },
 "nbformat": 4,
 "nbformat_minor": 1
}
