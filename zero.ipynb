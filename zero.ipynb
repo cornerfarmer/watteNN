{
 "cells": [
  {
   "cell_type": "code",
   "execution_count": 1,
   "metadata": {},
   "outputs": [],
   "source": [
    "import gym\n",
    "import gym_watten\n",
    "from gym_watten.envs.watten_env import Color, Value\n",
    "import numpy as np\n",
    "from time import sleep\n",
    "import random"
   ]
  },
  {
   "cell_type": "code",
   "execution_count": 2,
   "metadata": {},
   "outputs": [
    {
     "name": "stdout",
     "output_type": "stream",
     "text": [
      "\u001b[33mWARN: gym.spaces.Box autodetected dtype as <class 'numpy.float32'>. Please provide explicit dtype.\u001b[0m\n",
      "\u001b[33mWARN: gym.spaces.Box autodetected dtype as <class 'numpy.float32'>. Please provide explicit dtype.\u001b[0m\n",
      "\u001b[33mWARN: Environment '<class 'gym_watten.envs.watten_env.WattenEnv'>' has deprecated methods. Compatibility code invoked.\u001b[0m\n"
     ]
    }
   ],
   "source": [
    "env = gym.make(\"Watten-v0\")"
   ]
  },
  {
   "cell_type": "markdown",
   "metadata": {},
   "source": [
    "# Search"
   ]
  },
  {
   "cell_type": "code",
   "execution_count": 3,
   "metadata": {},
   "outputs": [],
   "source": [
    "def search(obs):\n",
    "    global sample_outputs, sample_inputs, next_index\n",
    "    state = env.get_state()\n",
    "    n = len(env.players[env.current_player].hand_cards)   \n",
    "    p = 0\n",
    "    local_index = next_index\n",
    "    next_index += 1\n",
    "    sample_inputs[0][local_index] = np.array(obs[0])\n",
    "    sample_inputs[1][local_index] = np.array(obs[1])\n",
    "    current_player = env.current_player\n",
    "    \n",
    "    for i in range(n):\n",
    "        card_id = env.players[env.current_player].hand_cards[i].id\n",
    "        obs, rew, is_done, _ = env.step(card_id)\n",
    "        \n",
    "        if is_done:\n",
    "            sample_outputs[local_index][card_id] = (rew[0] > 0)\n",
    "        else:\n",
    "            sample_outputs[local_index][card_id] = ((1 - search(obs)) if current_player != env.current_player else search(obs))\n",
    "        env.set_state(state)\n",
    "        p += sample_outputs[local_index][card_id]\n",
    "        \n",
    "    return sample_outputs[local_index].max()"
   ]
  },
  {
   "cell_type": "code",
   "execution_count": 4,
   "metadata": {},
   "outputs": [],
   "source": [
    "def reset_samples(iterations):\n",
    "    global sample_outputs, sample_inputs,next_index\n",
    "    sample_outputs = np.full((30000*iterations, 32), 0, dtype=float)\n",
    "    sample_inputs = [np.zeros((30000*iterations, 4, 8, 2), dtype=int), np.zeros((30000*iterations, 4), dtype=int)]\n",
    "    next_index = 0\n",
    "    \n",
    "def postprocess_samples():\n",
    "    global sample_outputs, sample_inputs,next_index\n",
    "    sample_inputs = sample_inputs[:next_index]\n",
    "    sample_outputs = sample_outputs[:next_index]\n",
    "    \n",
    "    #exp = np.exp(sample_outputs)\n",
    "    #exp[np.where(sample_outputs == -1)] = 0\n",
    "    #sample_outputs = exp / np.expand_dims(np.sum(exp, axis=-1), -1)\n",
    "    \n",
    "def generate_training_data(iterations=1):\n",
    "    global sample_outputs, sample_inputs,next_index\n",
    "    reset_samples(iterations)\n",
    "    \n",
    "    for i in range(iterations):\n",
    "        obs = env.reset()\n",
    "        search(obs)    \n",
    "        \n",
    "    postprocess_samples()  \n",
    "    return sample_inputs, sample_outputs"
   ]
  },
  {
   "cell_type": "markdown",
   "metadata": {},
   "source": [
    "# Play"
   ]
  },
  {
   "cell_type": "code",
   "execution_count": 5,
   "metadata": {},
   "outputs": [],
   "source": [
    "def match(agents, render=False):\n",
    "    obs, is_done = env.reset(), False    \n",
    "    \n",
    "    while not is_done:\n",
    "        input = [np.expand_dims(obs[0], 0), np.expand_dims(obs[1], 0)]\n",
    "        prediction = agents[env.current_player].predict(input)[0]\n",
    "        \n",
    "        valid_moves = np.array([1 if card in env.players[env.current_player].hand_cards else 0 for card in env.cards])       \n",
    "        prediction_valid = np.ma.masked_where(valid_moves == 0, prediction)\n",
    "        \n",
    "        obs, rew, is_done, _ = env.step(np.argmax(prediction_valid))\n",
    "        \n",
    "        if render:\n",
    "            env.render('human')\n",
    "            sleep(1)\n",
    "        \n",
    "    return env.current_player\n",
    "\n",
    "def compare(agent1, agent2):\n",
    "    agents = [agent1, agent2]\n",
    "    first_player_wins = 0\n",
    "    \n",
    "    for i in range(1000):\n",
    "        start_player = random.randint(0, 1)\n",
    "        winner = match([agents[start_player], agents[1 - start_player]])\n",
    "        first_player_wins += ((winner == 0) == (start_player == 0))\n",
    "    \n",
    "    return first_player_wins / 1000      "
   ]
  },
  {
   "cell_type": "markdown",
   "metadata": {},
   "source": [
    "# Train"
   ]
  },
  {
   "cell_type": "code",
   "execution_count": 7,
   "metadata": {},
   "outputs": [
    {
     "name": "stderr",
     "output_type": "stream",
     "text": [
      "/usr/local/lib/python3.6/dist-packages/h5py/__init__.py:36: FutureWarning: Conversion of the second argument of issubdtype from `float` to `np.floating` is deprecated. In future, it will be treated as `np.float64 == np.dtype(float).type`.\n",
      "  from ._conv import register_converters as _register_converters\n",
      "Using TensorFlow backend.\n"
     ]
    }
   ],
   "source": [
    "from keras.models import Sequential, clone_model\n",
    "from keras.layers import Dense, Activation, Input, LeakyReLU\n",
    "from keras.layers import Conv2D, MaxPooling2D, Merge, Flatten, BatchNormalization, add\n",
    "from keras.layers.merge import concatenate\n",
    "from keras.models import Model\n",
    "\n",
    "import keras.backend as K\n",
    "from IPython.display import clear_output\n",
    "from keras import optimizers\n",
    "import math"
   ]
  },
  {
   "cell_type": "code",
   "execution_count": 8,
   "metadata": {},
   "outputs": [],
   "source": [
    "# For a single-input model with 2 classes (binary classification):\n",
    "def mean_pred(y_true, y_pred):\n",
    "    return K.mean(K.equal(K.gather(y_true, K.argmax(y_true, axis=-1)), K.gather(y_true, K.argmax(y_pred, axis=-1))))\n",
    "\n",
    "def acc(y_true, y_pred):\n",
    "    return K.mean(K.equal(K.argmax(y_true, axis=-1), K.argmax(y_pred, axis=-1)))\n",
    "\n",
    "def residual_layer(input_block, filters, kernel_size):\n",
    "\n",
    "    x = conv_layer(input_block, filters, kernel_size)\n",
    "\n",
    "    x = Conv2D(\n",
    "    filters = filters\n",
    "    , kernel_size = kernel_size\n",
    "    , padding = 'same'\n",
    "    , use_bias=False\n",
    "    , activation='linear'\n",
    "    )(x)\n",
    "\n",
    "    #x = BatchNormalization(axis=1)(x)\n",
    "\n",
    "    x = add([input_block, x])\n",
    "\n",
    "    x = LeakyReLU()(x)\n",
    "\n",
    "    return (x)\n",
    "\n",
    "def conv_layer(x, filters, kernel_size):\n",
    "\n",
    "    x = Conv2D(\n",
    "    filters = filters\n",
    "    , kernel_size = kernel_size\n",
    "    , padding = 'same'\n",
    "    , use_bias=False\n",
    "    , activation='linear'\n",
    "    )(x)\n",
    "\n",
    "    #x = BatchNormalization(axis=1)(x)\n",
    "    x = LeakyReLU()(x)\n",
    "\n",
    "    return (x)\n",
    "    \n",
    "input_1 = Input((4,8,2))\n",
    "convnet = input_1\n",
    "     \n",
    "convnet = conv_layer(convnet, 32, (3, 3))\n",
    "convnet = residual_layer(convnet, 32, (3, 3))\n",
    "#convnet = Conv2D(32, (3, 3), activation='relu', padding='same')(convnet)\n",
    "#convnet = Conv2D(64, (3, 3), activation='relu', padding='same')(convnet)\n",
    "#convnet = Conv2D(64, (3, 3), activation='relu', padding='same')(convnet)\n",
    "#convnet = Conv2D(64, (3, 3), activation='relu', padding='same')(convnet)\n",
    "convnet = Flatten()(convnet)\n",
    "\n",
    "input_2 = Input((4,))\n",
    "\n",
    "dense_out = concatenate([convnet, input_2])\n",
    "#dense_out = Dense(128, activation='relu')(dense_out)\n",
    "#dense_out = Dense(256, activation='relu')(dense_out)\n",
    "dense_out = Dense(256, activation='relu')(dense_out)\n",
    "dense_out = Dense(32, activation='sigmoid')(dense_out)\n",
    "\n",
    "model = Model(inputs=[input_1, input_2], outputs=[dense_out])\n",
    "\n",
    "adam = optimizers.Adam()\n",
    "model.compile(optimizer=adam,\n",
    "              loss='mean_squared_error',\n",
    "              metrics=['accuracy', acc])\n"
   ]
  },
  {
   "cell_type": "code",
   "execution_count": 9,
   "metadata": {},
   "outputs": [
    {
     "name": "stdout",
     "output_type": "stream",
     "text": [
      "__________________________________________________________________________________________________\n",
      "Layer (type)                    Output Shape         Param #     Connected to                     \n",
      "==================================================================================================\n",
      "input_1 (InputLayer)            (None, 4, 8, 2)      0                                            \n",
      "__________________________________________________________________________________________________\n",
      "conv2d_1 (Conv2D)               (None, 4, 8, 32)     576         input_1[0][0]                    \n",
      "__________________________________________________________________________________________________\n",
      "leaky_re_lu_1 (LeakyReLU)       (None, 4, 8, 32)     0           conv2d_1[0][0]                   \n",
      "__________________________________________________________________________________________________\n",
      "conv2d_2 (Conv2D)               (None, 4, 8, 32)     9216        leaky_re_lu_1[0][0]              \n",
      "__________________________________________________________________________________________________\n",
      "leaky_re_lu_2 (LeakyReLU)       (None, 4, 8, 32)     0           conv2d_2[0][0]                   \n",
      "__________________________________________________________________________________________________\n",
      "conv2d_3 (Conv2D)               (None, 4, 8, 32)     9216        leaky_re_lu_2[0][0]              \n",
      "__________________________________________________________________________________________________\n",
      "add_1 (Add)                     (None, 4, 8, 32)     0           leaky_re_lu_1[0][0]              \n",
      "                                                                 conv2d_3[0][0]                   \n",
      "__________________________________________________________________________________________________\n",
      "leaky_re_lu_3 (LeakyReLU)       (None, 4, 8, 32)     0           add_1[0][0]                      \n",
      "__________________________________________________________________________________________________\n",
      "flatten_1 (Flatten)             (None, 1024)         0           leaky_re_lu_3[0][0]              \n",
      "__________________________________________________________________________________________________\n",
      "input_2 (InputLayer)            (None, 4)            0                                            \n",
      "__________________________________________________________________________________________________\n",
      "concatenate_1 (Concatenate)     (None, 1028)         0           flatten_1[0][0]                  \n",
      "                                                                 input_2[0][0]                    \n",
      "__________________________________________________________________________________________________\n",
      "dense_1 (Dense)                 (None, 256)          263424      concatenate_1[0][0]              \n",
      "__________________________________________________________________________________________________\n",
      "dense_2 (Dense)                 (None, 32)           8224        dense_1[0][0]                    \n",
      "==================================================================================================\n",
      "Total params: 290,656\n",
      "Trainable params: 290,656\n",
      "Non-trainable params: 0\n",
      "__________________________________________________________________________________________________\n"
     ]
    }
   ],
   "source": [
    "model.summary()"
   ]
  },
  {
   "cell_type": "code",
   "execution_count": 26,
   "metadata": {
    "scrolled": false
   },
   "outputs": [
    {
     "name": "stdout",
     "output_type": "stream",
     "text": [
      "Epoch 1/1\n",
      "75692/75692 [==============================] - 19s 245us/step - loss: 0.0041 - acc_1: 0.4389 - acc_2: 0.4389\n",
      "New model wins [48.3]%!\n",
      "Epoch 1/1\n",
      "73942/73942 [==============================] - 18s 242us/step - loss: 0.0045 - acc_1: 0.4313 - acc_2: 0.4313\n",
      "New model wins [51.5, 53.400000000000006]%!\n",
      "Epoch 1/1\n",
      "75869/75869 [==============================] - 19s 246us/step - loss: 0.0043 - acc_1: 0.4404 - acc_2: 0.4404\n",
      "New model wins [50.4, 53.7, 49.3]%!\n",
      "Epoch 1/1\n",
      "77969/77969 [==============================] - 19s 246us/step - loss: 0.0045 - acc_1: 0.4424 - acc_2: 0.4424\n",
      "New model wins [47.099999999999994, 50.9, 48.5, 50.1]%!\n",
      "Epoch 1/1\n",
      "78731/78731 [==============================] - 20s 253us/step - loss: 0.0046 - acc_1: 0.4495 - acc_2: 0.4495\n",
      "New model wins [53.2, 51.5, 50.2, 51.6, 51.9]%!\n",
      "Epoch 1/1\n",
      "80174/80174 [==============================] - 20s 247us/step - loss: 0.0043 - acc_1: 0.4409 - acc_2: 0.4409\n",
      "New model wins [49.6, 56.39999999999999, 50.0, 49.3, 52.1, 47.199999999999996]%!\n",
      "Epoch 1/1\n",
      "75485/75485 [==============================] - 19s 253us/step - loss: 0.0027 - acc_1: 0.3789 - acc_2: 0.3789\n",
      "New model wins [43.8, 46.400000000000006, 43.9, 45.7, 48.6, 41.199999999999996, 47.9]%!\n",
      "Epoch 1/1\n",
      "75353/75353 [==============================] - 19s 252us/step - loss: 0.0050 - acc_1: 0.4379 - acc_2: 0.4379\n",
      "New model wins [53.0, 55.800000000000004, 53.2, 53.300000000000004, 53.6, 51.1, 51.7, 55.7]%!\n",
      "Epoch 1/1\n",
      "77612/77612 [==============================] - 20s 257us/step - loss: 0.0043 - acc_1: 0.4224 - acc_2: 0.4224\n",
      "New model wins [50.9, 52.900000000000006, 49.7, 51.7, 51.9, 49.2, 53.6, 55.900000000000006, 47.4]%!\n",
      "Epoch 1/1\n",
      "75975/75975 [==============================] - 20s 257us/step - loss: 0.0045 - acc_1: 0.4302 - acc_2: 0.4302\n",
      "New model wins [51.0, 53.400000000000006, 50.2, 50.0, 52.2, 52.7, 51.300000000000004, 54.900000000000006, 45.9, 52.400000000000006]%!\n"
     ]
    }
   ],
   "source": [
    "prev_states = []\n",
    "for i in range(10):\n",
    "    prev_states.append(clone_model(model))\n",
    "    prev_states[-1].set_weights(model.get_weights())\n",
    "    generate_training_data(100)    \n",
    "    p = np.random.permutation(int(len(sample_outputs) * 0.05))\n",
    "    sample_inputs, sample_outputs = [sample_inputs[0][p], sample_inputs[1][p]], sample_outputs[p]\n",
    "    \n",
    "    # Train the model, iterating on the data in batches of 32 samples\n",
    "    model.fit(sample_inputs, sample_outputs, epochs=1, batch_size=64)    \n",
    "    \n",
    "    print(\"New model wins \" + str([compare(model, prev_state) * 100 for prev_state in prev_states]) + \"%!\")"
   ]
  },
  {
   "cell_type": "code",
   "execution_count": 30,
   "metadata": {},
   "outputs": [],
   "source": [
    "model.save('model.h5')"
   ]
  },
  {
   "cell_type": "code",
   "execution_count": null,
   "metadata": {},
   "outputs": [],
   "source": [
    "model.load_weights('model.h5')"
   ]
  },
  {
   "cell_type": "markdown",
   "metadata": {
    "heading_collapsed": true
   },
   "source": [
    "# Eval"
   ]
  },
  {
   "cell_type": "code",
   "execution_count": null,
   "metadata": {
    "hidden": true
   },
   "outputs": [],
   "source": [
    "generate_training_data(100)    \n",
    "p = np.random.permutation(len(sample_inputs))\n",
    "sample_inputs, sample_outputs = sample_inputs[p], sample_outputs[p]"
   ]
  },
  {
   "cell_type": "code",
   "execution_count": null,
   "metadata": {
    "hidden": true
   },
   "outputs": [],
   "source": [
    "model.evaluate(sample_inputs, sample_outputs)"
   ]
  },
  {
   "cell_type": "markdown",
   "metadata": {},
   "source": [
    "# Predict"
   ]
  },
  {
   "cell_type": "code",
   "execution_count": 12,
   "metadata": {},
   "outputs": [],
   "source": [
    "def generate_input(hand_cards, table_card=None, own_tricks=0, opponent_tricks=0):\n",
    "    obs = [np.zeros([4, 8, 2]), np.zeros([4])]\n",
    "    \n",
    "    for card in hand_cards:\n",
    "        obs[0][card.color.value][card.value.value][0] = 1\n",
    "        \n",
    "    if table_card is not None:\n",
    "        obs[0][table_card.color.value][table_card.value.value][1] = 1\n",
    "\n",
    "    obs[1][0] = (own_tricks == 1 or own_tricks == 3)\n",
    "    obs[1][1] = (own_tricks == 2 or own_tricks == 3)\n",
    "\n",
    "    obs[1][2] = (opponent_tricks == 1 or opponent_tricks == 3)\n",
    "    obs[1][3] = (opponent_tricks == 2 or opponent_tricks == 3)\n",
    "    \n",
    "    return [np.expand_dims(obs[0], 0), np.expand_dims(obs[1], 0)]"
   ]
  },
  {
   "cell_type": "code",
   "execution_count": 13,
   "metadata": {},
   "outputs": [],
   "source": [
    "def card(color, value):\n",
    "    for card in env.cards:\n",
    "        if card.value == value and card.color == color:\n",
    "            return card\n",
    "        \n",
    "    return None"
   ]
  },
  {
   "cell_type": "code",
   "execution_count": 14,
   "metadata": {},
   "outputs": [],
   "source": [
    "def calc_correct_output_sample(hand_cards, table_card=None, own_tricks=0, opponent_tricks=0):\n",
    "    global sample_outputs\n",
    "    env.reset()\n",
    "    env.cards_left = env.cards[:]\n",
    "    random.shuffle(env.cards_left)\n",
    "    \n",
    "    for card in hand_cards:\n",
    "        env.cards_left.remove(card)\n",
    "    env.players[0].hand_cards = hand_cards[:]\n",
    "        \n",
    "    env.players[1].hand_cards = []\n",
    "    for i in range(len(hand_cards) - (1 if table_card is not None else 0)):\n",
    "        env.players[1].hand_cards.append(env.cards_left.pop())       \n",
    "    \n",
    "    env.players[0].tricks = own_tricks\n",
    "    env.players[1].tricks = opponent_tricks\n",
    "    env.table_card = table_card\n",
    "    \n",
    "    #obs, rew, is_done, _ = env.step(hand_cards[0].id)\n",
    "   # print(rew, is_done)\n",
    "\n",
    "    #env.render('human')\n",
    "    reset_samples(1)\n",
    "    search(env.regenerate_obs())\n",
    "    postprocess_samples()\n",
    "        \n",
    "    return sample_outputs[0]"
   ]
  },
  {
   "cell_type": "code",
   "execution_count": 15,
   "metadata": {},
   "outputs": [],
   "source": [
    "def calc_correct_output(hand_cards, table_card=None, own_tricks=0, opponent_tricks=0):    \n",
    "    correct_output = None\n",
    "    for i in range(100):\n",
    "        sample_outputs = calc_correct_output_sample(hand_cards, table_card, own_tricks, opponent_tricks)\n",
    "        if correct_output is None:\n",
    "            correct_output = sample_outputs\n",
    "        else:\n",
    "            correct_output += sample_outputs\n",
    "    return correct_output / 100"
   ]
  },
  {
   "cell_type": "code",
   "execution_count": 16,
   "metadata": {},
   "outputs": [],
   "source": [
    "def predict(hand_cards, table_card=None, own_tricks=0, opponent_tricks=0):\n",
    "    input = generate_input(hand_cards, table_card, own_tricks, opponent_tricks)\n",
    "    output = model.predict(input)[0]\n",
    "    correct_output = calc_correct_output(hand_cards, table_card, own_tricks, opponent_tricks)\n",
    "    print(output)\n",
    "    for card in hand_cards:\n",
    "        print(str(card.color) + \" \" + str(card.value) + \" => \" + str(output[card.id]) + \" (\" + str(correct_output[card.id]) + \")\")"
   ]
  },
  {
   "cell_type": "code",
   "execution_count": 17,
   "metadata": {},
   "outputs": [],
   "source": [
    "def eval():\n",
    "    correct = 0\n",
    "    for i in range(100):\n",
    "        own_tricks = random.randint(0, 2)\n",
    "        opponent_tricks = random.randint(0, 2)\n",
    "        table_card_enabled = random.randint(0, 1)\n",
    "        hand_cards = random.sample(env.cards, 5 - own_tricks - opponent_tricks + table_card_enabled)\n",
    "        table_card = hand_cards.pop() if table_card_enabled else None\n",
    "\n",
    "        input = generate_input(hand_cards, table_card, own_tricks, opponent_tricks)\n",
    "        output = model.predict(input)[0]\n",
    "        correct_output = calc_correct_output(hand_cards, table_card, own_tricks, opponent_tricks)\n",
    "        \n",
    "        #print(output, np.argmax(output)) \n",
    "        #print(correct_output, np.argmax(correct_output))\n",
    "        correct += correct_output[np.argmax(output)] == correct_output[np.argmax(correct_output)]\n",
    "        if correct_output[np.argmax(output)] != correct_output[np.argmax(correct_output)]:\n",
    "            print(correct_output[np.argmax(output)], correct_output[np.argmax(correct_output)])\n",
    "    return correct / 100"
   ]
  },
  {
   "cell_type": "code",
   "execution_count": 29,
   "metadata": {},
   "outputs": [
    {
     "name": "stdout",
     "output_type": "stream",
     "text": [
      "0.87 0.9\n",
      "0.58 0.64\n",
      "0.52 0.57\n",
      "0.84 1.0\n",
      "0.13 0.21\n",
      "0.06 0.18\n",
      "0.85 0.88\n",
      "0.13 0.19\n",
      "0.97 0.98\n",
      "0.57 0.63\n",
      "0.97 1.0\n",
      "0.66 0.68\n",
      "0.97 0.99\n",
      "0.13 0.35\n",
      "0.26 0.29\n",
      "0.05 0.1\n",
      "0.76 0.78\n",
      "0.08 0.11\n",
      "0.43 0.45\n",
      "0.39 0.66\n",
      "0.05 0.06\n",
      "0.0 0.02\n"
     ]
    },
    {
     "data": {
      "text/plain": [
       "0.78"
      ]
     },
     "execution_count": 29,
     "metadata": {},
     "output_type": "execute_result"
    }
   ],
   "source": [
    "eval()"
   ]
  },
  {
   "cell_type": "code",
   "execution_count": 27,
   "metadata": {},
   "outputs": [
    {
     "name": "stdout",
     "output_type": "stream",
     "text": [
      "[1.01765745e-05 1.99414581e-01 5.17120352e-04 9.99587974e-06\n",
      " 8.74017496e-06 2.65750714e-04 1.74934380e-02 1.68104947e-04\n",
      " 9.42155384e-06 1.30696004e-04 1.34896909e-04 1.01882215e-04\n",
      " 1.54784120e-05 1.21838075e-05 9.30142323e-06 2.24108662e-04\n",
      " 3.77140075e-01 2.42678634e-05 1.59662217e-04 2.49872304e-04\n",
      " 9.87240201e-05 8.54951853e-04 3.50388815e-04 5.82039502e-05\n",
      " 2.86130380e-05 2.00224404e-05 4.72779975e-05 6.15803699e-04\n",
      " 9.47697299e-06 2.31899539e-05 1.30007887e-04 1.57487171e-04]\n",
      "Color.EICHEL Value.ACHT => 0.017493438 (0.06)\n",
      "Color.EICHEL Value.KOENIG => 0.19941458 (0.06)\n",
      "Color.HERZ Value.SAU => 0.37714007 (0.06)\n"
     ]
    }
   ],
   "source": [
    "predict([\n",
    "    card(Color.EICHEL, Value.ACHT), \n",
    "    card(Color.EICHEL, Value.KOENIG),\n",
    "    card(Color.HERZ, Value.SAU)\n",
    "    ], None, 0, 2)\n"
   ]
  },
  {
   "cell_type": "code",
   "execution_count": 28,
   "metadata": {},
   "outputs": [
    {
     "name": "stdout",
     "output_type": "stream",
     "text": [
      "[9.4750643e-01 9.9227762e-01 5.7221134e-04 3.8952279e-05 5.9414690e-04\n",
      " 9.4874878e-04 2.0263714e-03 3.9270180e-03 4.2662266e-04 9.7591466e-05\n",
      " 5.6672929e-05 1.8299887e-03 2.3957381e-03 1.9789851e-04 2.9081915e-04\n",
      " 5.8614719e-04 8.3646917e-01 1.7605552e-03 2.9425157e-04 2.6143081e-03\n",
      " 1.5922552e-01 5.3230335e-04 1.0656477e-03 1.3089181e-04 1.8379923e-03\n",
      " 1.3541707e-03 1.6923452e-03 2.1982193e-04 6.7404872e-05 2.1093113e-03\n",
      " 8.5485539e-05 2.2106292e-03]\n",
      "Color.EICHEL Value.SAU => 0.9475064 (0.95)\n",
      "Color.EICHEL Value.KOENIG => 0.9922776 (0.95)\n",
      "Color.HERZ Value.SAU => 0.8364692 (0.6)\n"
     ]
    }
   ],
   "source": [
    "predict([\n",
    "    card(Color.EICHEL, Value.SAU), \n",
    "    card(Color.EICHEL, Value.KOENIG),\n",
    "    card(Color.HERZ, Value.SAU)\n",
    "    ],card(Color.EICHEL, Value.ZEHN), 1, 0)"
   ]
  },
  {
   "cell_type": "code",
   "execution_count": null,
   "metadata": {},
   "outputs": [],
   "source": []
  }
 ],
 "metadata": {
  "kernelspec": {
   "display_name": "Python 3",
   "language": "python",
   "name": "python3"
  },
  "language_info": {
   "codemirror_mode": {
    "name": "ipython",
    "version": 3
   },
   "file_extension": ".py",
   "mimetype": "text/x-python",
   "name": "python",
   "nbconvert_exporter": "python",
   "pygments_lexer": "ipython3",
   "version": "3.6.3"
  }
 },
 "nbformat": 4,
 "nbformat_minor": 1
}
