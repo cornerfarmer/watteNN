{
 "cells": [
  {
   "cell_type": "code",
   "execution_count": 1,
   "metadata": {},
   "outputs": [],
   "source": [
    "import gym\n",
    "import gym_watten\n",
    "from gym_watten.envs.watten_env import Color, Value\n",
    "import numpy as np\n",
    "from time import sleep\n",
    "import random"
   ]
  },
  {
   "cell_type": "code",
   "execution_count": 2,
   "metadata": {},
   "outputs": [
    {
     "name": "stdout",
     "output_type": "stream",
     "text": [
      "\u001b[33mWARN: gym.spaces.Box autodetected dtype as <class 'numpy.float32'>. Please provide explicit dtype.\u001b[0m\n",
      "\u001b[33mWARN: Environment '<class 'gym_watten.envs.watten_env.WattenEnv'>' has deprecated methods. Compatibility code invoked.\u001b[0m\n"
     ]
    }
   ],
   "source": [
    "env = gym.make(\"Watten-v0\")"
   ]
  },
  {
   "cell_type": "markdown",
   "metadata": {},
   "source": [
    "# Search"
   ]
  },
  {
   "cell_type": "code",
   "execution_count": 3,
   "metadata": {},
   "outputs": [],
   "source": [
    "def search(obs):\n",
    "    global sample_outputs, sample_inputs, next_index\n",
    "    state = env.get_state()\n",
    "    n = len(env.players[env.current_player].hand_cards)   \n",
    "    p = 0\n",
    "    local_index = next_index\n",
    "    next_index += 1\n",
    "    sample_inputs[local_index] = np.array(obs)\n",
    "    current_player = env.current_player\n",
    "    \n",
    "    for i in range(n):\n",
    "        card_id = env.players[env.current_player].hand_cards[i].id\n",
    "        obs, rew, is_done, _ = env.step(card_id)\n",
    "        \n",
    "        if is_done:\n",
    "            sample_outputs[local_index][card_id] = (rew[0] > 0)\n",
    "        else:\n",
    "            sample_outputs[local_index][card_id] = ((1 - search(obs)) if current_player != env.current_player else search(obs))\n",
    "        env.set_state(state)\n",
    "        p += sample_outputs[local_index][card_id]\n",
    "        \n",
    "    return sample_outputs[local_index].max()"
   ]
  },
  {
   "cell_type": "code",
   "execution_count": 4,
   "metadata": {},
   "outputs": [],
   "source": [
    "def reset_samples(iterations):\n",
    "    global sample_outputs, sample_inputs,next_index\n",
    "    sample_outputs = np.full((30000*iterations, 32), 0, dtype=float)\n",
    "    sample_inputs = np.zeros((30000*iterations, 32 * 2 + 4), dtype=int)\n",
    "    next_index = 0\n",
    "    \n",
    "def postprocess_samples():\n",
    "    global sample_outputs, sample_inputs,next_index\n",
    "    sample_inputs = sample_inputs[:next_index]\n",
    "    sample_outputs = sample_outputs[:next_index]\n",
    "    \n",
    "    #exp = np.exp(sample_outputs)\n",
    "    #exp[np.where(sample_outputs == -1)] = 0\n",
    "    #sample_outputs = exp / np.expand_dims(np.sum(exp, axis=-1), -1)\n",
    "    \n",
    "def generate_training_data(iterations=1):\n",
    "    global sample_outputs, sample_inputs,next_index\n",
    "    reset_samples(iterations)\n",
    "    \n",
    "    for i in range(iterations):\n",
    "        obs = env.reset()\n",
    "        search(obs)    \n",
    "        \n",
    "    postprocess_samples()  \n",
    "    return sample_inputs, sample_outputs"
   ]
  },
  {
   "cell_type": "markdown",
   "metadata": {},
   "source": [
    "# Play"
   ]
  },
  {
   "cell_type": "code",
   "execution_count": 108,
   "metadata": {},
   "outputs": [],
   "source": [
    "def match(agents, render=False):\n",
    "    obs, is_done = env.reset(), False    \n",
    "    \n",
    "    while not is_done:\n",
    "        prediction = agents[env.current_player].predict(np.expand_dims(obs, 0))[0]\n",
    "        prediction_valid = np.ma.masked_where(obs[:32] == 0, prediction)\n",
    "        obs, rew, is_done, _ = env.step(np.argmax(prediction_valid))\n",
    "        \n",
    "        if render:\n",
    "            env.render('human')\n",
    "            sleep(1)\n",
    "        \n",
    "    return env.current_player\n",
    "\n",
    "def compare(agent1, agent2):\n",
    "    agents = [agent1, agent2]\n",
    "    first_player_wins = 0\n",
    "    \n",
    "    for i in range(1000):\n",
    "        start_player = random.randint(0, 1)\n",
    "        winner = match([agents[start_player], agents[1 - start_player]])\n",
    "        first_player_wins += ((winner == 0) == (start_player == 0))\n",
    "    \n",
    "    return first_player_wins / 1000      "
   ]
  },
  {
   "cell_type": "code",
   "execution_count": 118,
   "metadata": {},
   "outputs": [
    {
     "data": {
      "text/plain": [
       "1"
      ]
     },
     "execution_count": 118,
     "metadata": {},
     "output_type": "execute_result"
    }
   ],
   "source": [
    "match([model, model], True)"
   ]
  },
  {
   "cell_type": "code",
   "execution_count": 119,
   "metadata": {},
   "outputs": [
    {
     "data": {
      "text/plain": [
       "0.498"
      ]
     },
     "execution_count": 119,
     "metadata": {},
     "output_type": "execute_result"
    }
   ],
   "source": [
    "compare(model, model)"
   ]
  },
  {
   "cell_type": "markdown",
   "metadata": {},
   "source": [
    "# Train"
   ]
  },
  {
   "cell_type": "code",
   "execution_count": 52,
   "metadata": {},
   "outputs": [],
   "source": [
    "from keras.models import Sequential, clone_model\n",
    "from keras.layers import Dense, Activation\n",
    "import keras.backend as K\n",
    "from IPython.display import clear_output\n",
    "from keras import optimizers\n",
    "import math"
   ]
  },
  {
   "cell_type": "code",
   "execution_count": 113,
   "metadata": {},
   "outputs": [],
   "source": [
    "# For a single-input model with 2 classes (binary classification):\n",
    "def mean_pred(y_true, y_pred):\n",
    "    return K.mean(K.equal(K.gather(y_true, K.argmax(y_true, axis=-1)), K.gather(y_true, K.argmax(y_pred, axis=-1))))\n",
    "\n",
    "def acc(y_true, y_pred):\n",
    "    return K.mean(K.equal(K.argmax(y_true, axis=-1), K.argmax(y_pred, axis=-1)))\n",
    "\n",
    "model = Sequential()\n",
    "model.add(Dense(128, activation='relu', input_dim=68))\n",
    "model.add(Dense(256, activation='relu'))\n",
    "model.add(Dense(512, activation='relu'))\n",
    "model.add(Dense(32, activation='sigmoid'))\n",
    "adam = optimizers.Adam()\n",
    "model.compile(optimizer=adam,\n",
    "              loss='mean_squared_error',\n",
    "              metrics=['accuracy', acc])\n"
   ]
  },
  {
   "cell_type": "code",
   "execution_count": 114,
   "metadata": {
    "scrolled": false
   },
   "outputs": [
    {
     "name": "stdout",
     "output_type": "stream",
     "text": [
      "Epoch 1/1\n",
      "946242/946242 [==============================] - 76s 80us/step - loss: 0.0071 - acc_1: 0.3462 - acc_2: 0.3462\n",
      "New model wins 71.89999999999999%!\n",
      "Epoch 1/1\n",
      "1005218/1005218 [==============================] - 82s 81us/step - loss: 0.0041 - acc_1: 0.4035 - acc_2: 0.4035\n",
      "New model wins 72.3%!\n",
      "Epoch 1/1\n",
      "1044664/1044664 [==============================] - 88s 85us/step - loss: 0.0041 - acc_1: 0.4104 - acc_2: 0.4104\n",
      "New model wins 68.0%!\n",
      "Epoch 1/1\n",
      "1016108/1016108 [==============================] - 91s 90us/step - loss: 0.0043 - acc_1: 0.4283 - acc_2: 0.4283\n",
      "New model wins 71.3%!\n",
      "Epoch 1/1\n",
      "972886/972886 [==============================] - 85s 87us/step - loss: 0.0041 - acc_1: 0.4514 - acc_2: 0.4514\n",
      "New model wins 71.2%!\n",
      "Epoch 1/1\n",
      "991804/991804 [==============================] - 86s 87us/step - loss: 0.0042 - acc_1: 0.4242 - acc_2: 0.4242\n",
      "New model wins 65.10000000000001%!\n",
      "Epoch 1/1\n",
      "970084/970084 [==============================] - 85s 88us/step - loss: 0.0042 - acc_1: 0.4106 - acc_2: 0.4106\n",
      "New model wins 70.5%!\n",
      "Epoch 1/1\n",
      "968066/968066 [==============================] - 84s 87us/step - loss: 0.0038 - acc_1: 0.4280 - acc_2: 0.4280\n",
      "New model wins 72.3%!\n",
      "Epoch 1/1\n",
      "972824/972824 [==============================] - 86s 88us/step - loss: 0.0043 - acc_1: 0.4483 - acc_2: 0.4483\n",
      "New model wins 72.39999999999999%!\n",
      "Epoch 1/1\n",
      "993296/993296 [==============================] - 89s 90us/step - loss: 0.0043 - acc_1: 0.4285 - acc_2: 0.4285\n",
      "New model wins 70.8%!\n"
     ]
    }
   ],
   "source": [
    "for i in range(10):\n",
    "    prev_state = clone_model(model)\n",
    "    generate_training_data(100)    \n",
    "    p = np.random.permutation(len(sample_inputs))\n",
    "    sample_inputs, sample_outputs = sample_inputs[p], sample_outputs[p]\n",
    "    \n",
    "    # Train the model, iterating on the data in batches of 32 samples\n",
    "    model.fit(sample_inputs, sample_outputs, epochs=1, batch_size=64)\n",
    "    \n",
    "    print(\"New model wins \" + str(compare(model, prev_state) * 100) + \"%!\")"
   ]
  },
  {
   "cell_type": "code",
   "execution_count": 115,
   "metadata": {},
   "outputs": [],
   "source": [
    "model.save('model.h5')"
   ]
  },
  {
   "cell_type": "code",
   "execution_count": 7,
   "metadata": {},
   "outputs": [],
   "source": [
    "model.load_weights('model.h5')"
   ]
  },
  {
   "cell_type": "markdown",
   "metadata": {
    "heading_collapsed": true
   },
   "source": [
    "# Eval"
   ]
  },
  {
   "cell_type": "code",
   "execution_count": null,
   "metadata": {
    "hidden": true
   },
   "outputs": [],
   "source": [
    "generate_training_data(100)    \n",
    "p = np.random.permutation(len(sample_inputs))\n",
    "sample_inputs, sample_outputs = sample_inputs[p], sample_outputs[p]"
   ]
  },
  {
   "cell_type": "code",
   "execution_count": 310,
   "metadata": {
    "hidden": true
   },
   "outputs": [
    {
     "name": "stdout",
     "output_type": "stream",
     "text": [
      "1054558/1054558 [==============================] - 45s 43us/step\n"
     ]
    },
    {
     "data": {
      "text/plain": [
       "[0.004186552935140255, 0.3855330858996649, 0.3855330858996649]"
      ]
     },
     "execution_count": 310,
     "metadata": {},
     "output_type": "execute_result"
    }
   ],
   "source": [
    "model.evaluate(sample_inputs, sample_outputs)"
   ]
  },
  {
   "cell_type": "markdown",
   "metadata": {
    "heading_collapsed": true
   },
   "source": [
    "# Predict"
   ]
  },
  {
   "cell_type": "code",
   "execution_count": 8,
   "metadata": {
    "hidden": true
   },
   "outputs": [],
   "source": [
    "def generate_input(hand_cards, table_card=None, own_tricks=0, opponent_tricks=0):\n",
    "    obs = np.zeros((len(env.cards) * 2 + 4,))\n",
    "    \n",
    "    for card in hand_cards:\n",
    "        obs[card.id] = 1\n",
    "        \n",
    "    if table_card is not None:\n",
    "        obs[32 + table_card.id] = 1\n",
    "\n",
    "    obs[-4] = (own_tricks == 1 or own_tricks == 3)\n",
    "    obs[-3] = (own_tricks == 2 or own_tricks == 3)\n",
    "\n",
    "    obs[-2] = (opponent_tricks == 1 or opponent_tricks == 3)\n",
    "    obs[-1] = (opponent_tricks == 2 or opponent_tricks == 3)\n",
    "    \n",
    "    return obs"
   ]
  },
  {
   "cell_type": "code",
   "execution_count": 9,
   "metadata": {
    "hidden": true
   },
   "outputs": [],
   "source": [
    "def card(color, value):\n",
    "    for card in env.cards:\n",
    "        if card.value == value and card.color == color:\n",
    "            return card\n",
    "        \n",
    "    return None"
   ]
  },
  {
   "cell_type": "code",
   "execution_count": 10,
   "metadata": {
    "hidden": true
   },
   "outputs": [],
   "source": [
    "def calc_correct_output_sample(hand_cards, table_card=None, own_tricks=0, opponent_tricks=0):\n",
    "    global sample_outputs\n",
    "    env.reset()\n",
    "    env.cards_left = env.cards[:]\n",
    "    random.shuffle(env.cards_left)\n",
    "    \n",
    "    for card in hand_cards:\n",
    "        env.cards_left.remove(card)\n",
    "    env.players[0].hand_cards = hand_cards[:]\n",
    "        \n",
    "    env.players[1].hand_cards = []\n",
    "    for i in range(len(hand_cards) - (1 if table_card is not None else 0)):\n",
    "        env.players[1].hand_cards.append(env.cards_left.pop())       \n",
    "    \n",
    "    env.players[0].tricks = own_tricks\n",
    "    env.players[1].tricks = opponent_tricks\n",
    "    env.table_card = table_card\n",
    "    \n",
    "    #obs, rew, is_done, _ = env.step(hand_cards[0].id)\n",
    "   # print(rew, is_done)\n",
    "\n",
    "    env.render('human')\n",
    "    reset_samples(1)\n",
    "    search(env.regenerate_obs())\n",
    "    postprocess_samples()\n",
    "        \n",
    "    return sample_outputs[0]"
   ]
  },
  {
   "cell_type": "code",
   "execution_count": 11,
   "metadata": {
    "hidden": true
   },
   "outputs": [],
   "source": [
    "def calc_correct_output(hand_cards, table_card=None, own_tricks=0, opponent_tricks=0):    \n",
    "    correct_output = None\n",
    "    for i in range(100):\n",
    "        sample_outputs = calc_correct_output_sample(hand_cards, table_card, own_tricks, opponent_tricks)\n",
    "        if correct_output is None:\n",
    "            correct_output = sample_outputs\n",
    "        else:\n",
    "            correct_output += sample_outputs\n",
    "    return correct_output / 100"
   ]
  },
  {
   "cell_type": "code",
   "execution_count": 12,
   "metadata": {
    "hidden": true
   },
   "outputs": [],
   "source": [
    "def predict(hand_cards, table_card=None, own_tricks=0, opponent_tricks=0):\n",
    "    input = generate_input(hand_cards, table_card, own_tricks, opponent_tricks)\n",
    "    output = model.predict(np.expand_dims(input, 0))[0]\n",
    "    correct_output = calc_correct_output(hand_cards, table_card, own_tricks, opponent_tricks)\n",
    "    print(output)\n",
    "    for card in hand_cards:\n",
    "        print(str(card.color) + \" \" + str(card.value) + \" => \" + str(output[card.id]) + \" (\" + str(correct_output[card.id]) + \")\")"
   ]
  },
  {
   "cell_type": "code",
   "execution_count": 13,
   "metadata": {
    "hidden": true
   },
   "outputs": [
    {
     "name": "stdout",
     "output_type": "stream",
     "text": [
      "[5.75959403e-03 1.43175423e-01 5.59249427e-03 6.49866939e-04\n",
      " 2.35658512e-02 9.19388514e-03 2.35199124e-01 1.05343026e-03\n",
      " 1.97753645e-02 1.78710464e-03 1.46320984e-02 2.28701229e-03\n",
      " 5.81715394e-05 3.54093849e-03 1.10634025e-02 4.99059772e-03\n",
      " 2.45558605e-01 5.44387614e-03 9.99814365e-03 1.42739655e-03\n",
      " 3.20930092e-04 2.36787274e-03 1.98115688e-03 9.53817507e-04\n",
      " 9.92957852e-04 6.92562433e-04 3.14851701e-02 9.90882167e-04\n",
      " 2.34370306e-03 7.74050690e-03 1.19732879e-02 4.65586130e-03]\n",
      "Color.EICHEL Value.ACHT => 0.23519912 (0.38)\n",
      "Color.EICHEL Value.KOENIG => 0.14317542 (0.38)\n",
      "Color.HERZ Value.SAU => 0.2455586 (0.38)\n"
     ]
    }
   ],
   "source": [
    "predict([\n",
    "    card(Color.EICHEL, Value.ACHT), \n",
    "    card(Color.EICHEL, Value.KOENIG),\n",
    "    card(Color.HERZ, Value.SAU)\n",
    "    ], None, 0, 2)\n"
   ]
  },
  {
   "cell_type": "code",
   "execution_count": 14,
   "metadata": {
    "hidden": true
   },
   "outputs": [
    {
     "name": "stdout",
     "output_type": "stream",
     "text": [
      "[9.9907184e-01 9.8913771e-01 7.2538495e-09 3.3113597e-08 1.5161502e-05\n",
      " 7.3705126e-09 5.1551261e-08 6.5132488e-05 9.8717465e-11 1.3444364e-05\n",
      " 7.2913321e-07 2.0023890e-05 3.7138326e-09 4.8235627e-08 3.2651492e-08\n",
      " 5.0104722e-05 1.1817461e-04 6.5148895e-05 6.6525336e-09 6.1969800e-08\n",
      " 1.4236014e-05 2.0350743e-09 2.5213609e-02 6.2516587e-09 1.0997270e-06\n",
      " 5.9662301e-07 2.6357413e-10 8.3598701e-09 1.4469356e-06 9.2596401e-06\n",
      " 1.2046009e-10 4.0401463e-04]\n",
      "Color.EICHEL Value.SAU => 0.99907184 (0.84)\n",
      "Color.EICHEL Value.KOENIG => 0.9891377 (0.84)\n",
      "Color.HERZ Value.SAU => 0.00011817461 (0.11)\n",
      "Color.HERZ Value.ACHT => 0.025213609 (0.26)\n"
     ]
    }
   ],
   "source": [
    "predict([\n",
    "    card(Color.EICHEL, Value.SAU), \n",
    "    card(Color.EICHEL, Value.KOENIG),\n",
    "    card(Color.HERZ, Value.SAU),\n",
    "    card(Color.HERZ, Value.ACHT)\n",
    "    ],card(Color.EICHEL, Value.ZEHN), 1, 0)"
   ]
  }
 ],
 "metadata": {
  "kernelspec": {
   "display_name": "Python 3",
   "language": "python",
   "name": "python3"
  },
  "language_info": {
   "codemirror_mode": {
    "name": "ipython",
    "version": 3
   },
   "file_extension": ".py",
   "mimetype": "text/x-python",
   "name": "python",
   "nbconvert_exporter": "python",
   "pygments_lexer": "ipython3",
   "version": "3.6.3"
  }
 },
 "nbformat": 4,
 "nbformat_minor": 1
}
