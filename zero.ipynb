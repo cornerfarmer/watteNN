{
 "cells": [
  {
   "cell_type": "code",
   "execution_count": 1,
   "metadata": {},
   "outputs": [],
   "source": [
    "import gym\n",
    "import gym_watten\n",
    "import numpy as np\n",
    "from time import sleep\n"
   ]
  },
  {
   "cell_type": "code",
   "execution_count": 2,
   "metadata": {},
   "outputs": [],
   "source": [
    "%load_ext line_profiler"
   ]
  },
  {
   "cell_type": "code",
   "execution_count": 3,
   "metadata": {},
   "outputs": [
    {
     "name": "stdout",
     "output_type": "stream",
     "text": [
      "\u001b[33mWARN: gym.spaces.Box autodetected dtype as <class 'numpy.float32'>. Please provide explicit dtype.\u001b[0m\n",
      "\u001b[33mWARN: Environment '<class 'gym_watten.envs.watten_env.WattenEnv'>' has deprecated methods. Compatibility code invoked.\u001b[0m\n"
     ]
    }
   ],
   "source": [
    "env = gym.make(\"Watten-v0\")"
   ]
  },
  {
   "cell_type": "code",
   "execution_count": 6,
   "metadata": {},
   "outputs": [],
   "source": [
    "obs, is_done = env.reset(), False"
   ]
  },
  {
   "cell_type": "code",
   "execution_count": null,
   "metadata": {},
   "outputs": [],
   "source": [
    "state = env.get_state()\n",
    "org_obs = obs"
   ]
  },
  {
   "cell_type": "code",
   "execution_count": 5,
   "metadata": {},
   "outputs": [
    {
     "name": "stdout",
     "output_type": "stream",
     "text": [
      "[] False 5\n",
      "[0, 1] False 12\n",
      "[] False 18\n",
      "[0, 1] False 15\n",
      "[] False 21\n",
      "[0, 6] True 25\n"
     ]
    }
   ],
   "source": [
    "while not is_done:\n",
    "    env.render('human')    \n",
    "    obs, rew, is_done, _ = env.step(np.argmax(obs))\n",
    "    print(rew)\n",
    "    sleep(1)"
   ]
  },
  {
   "cell_type": "code",
   "execution_count": null,
   "metadata": {},
   "outputs": [],
   "source": [
    "[card.id for card in env.cards]"
   ]
  },
  {
   "cell_type": "code",
   "execution_count": null,
   "metadata": {},
   "outputs": [],
   "source": [
    "env.set_state(state)\n",
    "is_done = False\n",
    "obs = org_obs\n"
   ]
  },
  {
   "cell_type": "code",
   "execution_count": 86,
   "metadata": {},
   "outputs": [],
   "source": [
    "sample_outputs = np.zeros((11959, 5))\n",
    "sample_inputs = np.zeros((11959, 8), dtype=int)\n",
    "next_index = 0"
   ]
  },
  {
   "cell_type": "code",
   "execution_count": 87,
   "metadata": {},
   "outputs": [],
   "source": [
    "def search(obs):\n",
    "    global sample_outputs, sample_inputs, next_index\n",
    "    state = env.get_state()\n",
    "    n = len(env.players[env.current_player].hand_cards)   \n",
    "    p = 0\n",
    "    local_index = next_index\n",
    "    next_index += 1\n",
    "    \n",
    "    for i in range(n):\n",
    "        sample_inputs[local_index][i] = env.players[env.current_player].hand_cards[i].id\n",
    "        obs, rew, is_done, _ = env.step(sample_inputs[local_index][i])\n",
    "        if is_done:\n",
    "            sample_outputs[local_index][i] = (rew[0] > 0) / n\n",
    "        else:\n",
    "            sample_outputs[local_index][i] = (1 - search(obs)) / n\n",
    "        env.set_state(state)\n",
    "        p += sample_outputs[local_index][i]\n",
    "        \n",
    "    if env.table_card is not None:\n",
    "        sample_inputs[local_index][5] = env.table_card.id\n",
    "    sample_inputs[local_index][6] = env.players[env.current_player].tricks\n",
    "    sample_inputs[local_index][7] = env.players[1 - env.current_player].tricks\n",
    "    return p "
   ]
  },
  {
   "cell_type": "code",
   "execution_count": 88,
   "metadata": {},
   "outputs": [
    {
     "data": {
      "text/plain": [
       "8685"
      ]
     },
     "execution_count": 88,
     "metadata": {},
     "output_type": "execute_result"
    }
   ],
   "source": [
    "for i in range(1):\n",
    "    obs = env.reset()\n",
    "    search(obs)\n",
    "next_index"
   ]
  },
  {
   "cell_type": "code",
   "execution_count": 89,
   "metadata": {},
   "outputs": [
    {
     "data": {
      "text/plain": [
       "array([[11,  9, 27, ...,  0,  0,  0],\n",
       "       [19, 22,  4, ..., 11,  0,  0],\n",
       "       [ 9, 27, 23, ...,  0,  1,  0],\n",
       "       ...,\n",
       "       [ 0,  0,  0, ...,  0,  0,  0],\n",
       "       [ 0,  0,  0, ...,  0,  0,  0],\n",
       "       [ 0,  0,  0, ...,  0,  0,  0]])"
      ]
     },
     "execution_count": 89,
     "metadata": {},
     "output_type": "execute_result"
    }
   ],
   "source": [
    "sample_inputs"
   ]
  },
  {
   "cell_type": "code",
   "execution_count": 95,
   "metadata": {},
   "outputs": [
    {
     "data": {
      "text/plain": [
       "1.0"
      ]
     },
     "execution_count": 95,
     "metadata": {},
     "output_type": "execute_result"
    }
   ],
   "source": [
    "sample_outputs"
   ]
  },
  {
   "cell_type": "code",
   "execution_count": null,
   "metadata": {},
   "outputs": [],
   "source": [
    "env.render('human')    "
   ]
  },
  {
   "cell_type": "code",
   "execution_count": null,
   "metadata": {},
   "outputs": [],
   "source": [
    "obs, rew, is_done, _ = env.step(2)"
   ]
  },
  {
   "cell_type": "code",
   "execution_count": 78,
   "metadata": {},
   "outputs": [],
   "source": [
    "%lprun -f search search(obs)"
   ]
  },
  {
   "cell_type": "code",
   "execution_count": null,
   "metadata": {},
   "outputs": [],
   "source": []
  }
 ],
 "metadata": {
  "kernelspec": {
   "display_name": "Python 3",
   "language": "python",
   "name": "python3"
  },
  "language_info": {
   "codemirror_mode": {
    "name": "ipython",
    "version": 3
   },
   "file_extension": ".py",
   "mimetype": "text/x-python",
   "name": "python",
   "nbconvert_exporter": "python",
   "pygments_lexer": "ipython3",
   "version": "3.6.3"
  }
 },
 "nbformat": 4,
 "nbformat_minor": 1
}
