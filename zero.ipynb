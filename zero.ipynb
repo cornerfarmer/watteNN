{
 "cells": [
  {
   "cell_type": "code",
   "execution_count": 2,
   "metadata": {},
   "outputs": [],
   "source": [
    "import gym\n",
    "import gym_watten\n",
    "from gym_watten.envs.watten_env import Color, Value\n",
    "import numpy as np\n",
    "from time import sleep\n",
    "import random\n",
    "from tqdm import tqdm"
   ]
  },
  {
   "cell_type": "code",
   "execution_count": 3,
   "metadata": {},
   "outputs": [
    {
     "name": "stdout",
     "output_type": "stream",
     "text": [
      "\u001b[33mWARN: gym.spaces.Box autodetected dtype as <class 'numpy.float32'>. Please provide explicit dtype.\u001b[0m\n",
      "\u001b[33mWARN: gym.spaces.Box autodetected dtype as <class 'numpy.float32'>. Please provide explicit dtype.\u001b[0m\n",
      "\u001b[33mWARN: Environment '<class 'gym_watten.envs.watten_env.WattenEnv'>' has deprecated methods. Compatibility code invoked.\u001b[0m\n"
     ]
    }
   ],
   "source": [
    "env = gym.make(\"Watten-v0\")"
   ]
  },
  {
   "cell_type": "markdown",
   "metadata": {},
   "source": [
    "# Search"
   ]
  },
  {
   "cell_type": "code",
   "execution_count": 4,
   "metadata": {},
   "outputs": [],
   "source": [
    "def search(obs):\n",
    "    global sample_outputs, sample_inputs, next_index\n",
    "    state = env.get_state()\n",
    "    n = len(env.players[env.current_player].hand_cards)   \n",
    "    p = 0\n",
    "    local_index = next_index\n",
    "    next_index += 1\n",
    "    sample_inputs[0][local_index] = np.array(obs[0])\n",
    "    sample_inputs[1][local_index] = np.array(obs[1])\n",
    "    current_player = env.current_player\n",
    "    \n",
    "    for i in range(n):\n",
    "        card_id = env.players[env.current_player].hand_cards[i].id\n",
    "        obs, rew, is_done, _ = env.step(card_id)\n",
    "        \n",
    "        if is_done:\n",
    "            sample_outputs[local_index][card_id] = (rew[0] > 0)\n",
    "        else:\n",
    "            sample_outputs[local_index][card_id] = ((1 - search(obs)) if current_player != env.current_player else search(obs))\n",
    "        env.set_state(state)\n",
    "        p += sample_outputs[local_index][card_id]\n",
    "        \n",
    "    return sample_outputs[local_index].max()"
   ]
  },
  {
   "cell_type": "code",
   "execution_count": 5,
   "metadata": {},
   "outputs": [],
   "source": [
    "def reset_samples(iterations):\n",
    "    global sample_outputs, sample_inputs,next_index\n",
    "    sample_outputs = [np.zeros((30000*iterations, 32), dtype=float), np.zeros((30000*iterations, 1), dtype=int)]\n",
    "    sample_inputs = [np.zeros((30000*iterations, 4, 8, 2), dtype=int), np.zeros((30000*iterations, 4), dtype=int)]\n",
    "    next_index = 0\n",
    "    \n",
    "def postprocess_samples():\n",
    "    global sample_outputs, sample_inputs,next_index\n",
    "    for i in range(len(sample_inputs)):\n",
    "        sample_inputs[i] = sample_inputs[i][:next_index]\n",
    "    for i in range(len(sample_outputs)):\n",
    "        sample_outputs[i] = sample_outputs[i][:next_index]\n",
    "    \n",
    "    #exp = np.exp(sample_outputs)\n",
    "    #exp[np.where(sample_outputs == -1)] = 0\n",
    "    #sample_outputs = exp / np.expand_dims(np.sum(exp, axis=-1), -1)\n",
    "    \n",
    "def generate_training_data(iterations=1):\n",
    "    global sample_outputs, sample_inputs,next_index\n",
    "    reset_samples(iterations)\n",
    "    \n",
    "    for i in range(iterations):\n",
    "        obs = env.reset()\n",
    "        search(obs)    \n",
    "        \n",
    "    postprocess_samples()  \n",
    "    return sample_inputs, sample_outputs"
   ]
  },
  {
   "cell_type": "markdown",
   "metadata": {},
   "source": [
    "# MCTS"
   ]
  },
  {
   "cell_type": "code",
   "execution_count": 11,
   "metadata": {
    "code_folding": []
   },
   "outputs": [],
   "source": [
    "class State:\n",
    "    def __init__(self, p, env_state, end_v=0):\n",
    "        self.childs = []\n",
    "        self.n = 0\n",
    "        self.w = 0\n",
    "        self.p = p\n",
    "        self.env_state = env_state\n",
    "        self.end_v = end_v\n",
    "    \n",
    "    def is_leaf_node(self):\n",
    "        return len(self.childs) == 0\n",
    "    \n",
    "    def size(self):\n",
    "        size = 1\n",
    "        for child in self.childs:\n",
    "            size += child.size()\n",
    "        return size\n",
    "    \n",
    "def mcts_sample(state, model):\n",
    "    \n",
    "    if state.is_leaf_node():\n",
    "        if state.end_v != 0:\n",
    "            return state.end_v\n",
    "        else:\n",
    "            env.set_state(state.env_state)\n",
    "\n",
    "            p, v = model.predict_single(env.regenerate_obs())\n",
    "\n",
    "            hand_cards = env.players[env.current_player].hand_cards[:]        \n",
    "            for card in hand_cards:\n",
    "                obs, rew, is_done, _ = env.step(card.id)\n",
    "\n",
    "                new_state = State(p[card.id], env.get_state(), 0 if not is_done else (1 if rew[0] > 0 else -1))\n",
    "                state.childs.append(new_state)\n",
    "\n",
    "                env.set_state(state.env_state)\n",
    "\n",
    "            return v[0]  \n",
    "    else:\n",
    "        n_sum = 0\n",
    "        for child in state.childs:\n",
    "            n_sum += child.n\n",
    "        \n",
    "        max_u = 0\n",
    "        max_child = None\n",
    "        for child in state.childs:\n",
    "            if child.n > 0:\n",
    "                u = child.w / child.n \n",
    "            else:\n",
    "                u = 0\n",
    "            \n",
    "            u += child.p * np.sqrt(n_sum) / (1 + child.n)\n",
    "\n",
    "            if max_child is None or u > max_u:\n",
    "                max_u, max_child = u, child\n",
    "\n",
    "        v = mcts_sample(max_child, model)\n",
    "        max_child.w += v\n",
    "        max_child.n += 1\n",
    "        return v\n",
    "\n",
    "def mcts_game_step(root):\n",
    "    for i in range(50):\n",
    "        mcts_sample(root, model)\n",
    "        \n",
    "    p = [child.n for child in root.childs]\n",
    "    p /= np.sum(p)\n",
    "    return np.random.choice(np.arange(0, len(p)), p=p), p\n",
    "    \n",
    "def mcts_game():\n",
    "    global sample_inputs, sample_outputs, next_index\n",
    "    obs = env.reset()\n",
    "    root = State(1, env.get_state())\n",
    "    is_done = False\n",
    "    start_index = next_index\n",
    "    \n",
    "    while not is_done:\n",
    "        game_state = env.get_state()\n",
    "        a, p = mcts_game_step(root)\n",
    "        env.set_state(game_state)\n",
    "        \n",
    "        sample_inputs[0][next_index] = np.array(obs[0])\n",
    "        sample_inputs[1][next_index] = np.array(obs[1])\n",
    "        for i, card in enumerate(env.players[env.current_player].hand_cards):\n",
    "            sample_outputs[0][next_index][card.id] = p[i]    \n",
    "        sample_outputs[1][next_index] = 1 if env.current_player is 0 else -1\n",
    "        \n",
    "        next_index += 1\n",
    "        \n",
    "        obs, rew, is_done, _ = env.step(env.players[env.current_player].hand_cards[a].id)\n",
    "        root = root.childs[a]\n",
    "        \n",
    "    for i in range(start_index, next_index):\n",
    "        sample_outputs[1][i][0] *= (1 if env.current_player is 0 else -1) * (1 if rew[0] > 0 else -1)\n",
    "        \n",
    "def mcts_generate():\n",
    "    reset_samples(1)\n",
    "    for i in tqdm(range(30)):\n",
    "        mcts_game()\n",
    "    postprocess_samples()"
   ]
  },
  {
   "cell_type": "code",
   "execution_count": 12,
   "metadata": {},
   "outputs": [
    {
     "name": "stderr",
     "output_type": "stream",
     "text": [
      "100%|██████████| 30/30 [00:05<00:00,  5.39it/s]\n"
     ]
    }
   ],
   "source": [
    "mcts_generate()"
   ]
  },
  {
   "cell_type": "code",
   "execution_count": 13,
   "metadata": {},
   "outputs": [
    {
     "data": {
      "text/plain": [
       "252"
      ]
     },
     "execution_count": 13,
     "metadata": {},
     "output_type": "execute_result"
    }
   ],
   "source": [
    "next_index"
   ]
  },
  {
   "cell_type": "code",
   "execution_count": 143,
   "metadata": {},
   "outputs": [
    {
     "data": {
      "text/plain": [
       "[10, 11, 12, 13, 14, 15, 16, 17, 18, 19]"
      ]
     },
     "execution_count": 143,
     "metadata": {},
     "output_type": "execute_result"
    }
   ],
   "source": [
    "[i for i in range(10, 20)]"
   ]
  },
  {
   "cell_type": "code",
   "execution_count": 92,
   "metadata": {},
   "outputs": [
    {
     "name": "stdout",
     "output_type": "stream",
     "text": [
      "[311, 277, 351, 362, 298]\n",
      "[11.83459559478797, 7.551910203765146, 15.525370486284373, 17.178428841376444, 8.31264715976431]\n"
     ]
    },
    {
     "data": {
      "text/plain": [
       "4845"
      ]
     },
     "execution_count": 92,
     "metadata": {},
     "output_type": "execute_result"
    }
   ],
   "source": [
    "env.set_state(state_org)\n",
    "\n",
    "print([state.n for state in root.childs])\n",
    "print([state.w for state in root.childs])\n",
    "root.size()"
   ]
  },
  {
   "cell_type": "markdown",
   "metadata": {},
   "source": [
    "# Play"
   ]
  },
  {
   "cell_type": "code",
   "execution_count": 17,
   "metadata": {},
   "outputs": [],
   "source": [
    "def match(agents, render=False):\n",
    "    obs, is_done = env.reset(), False    \n",
    "    \n",
    "    while not is_done:\n",
    "        prediction = agents[env.current_player].predict_single(obs)[0]\n",
    "        \n",
    "        valid_moves = np.array([1 if card in env.players[env.current_player].hand_cards else 0 for card in env.cards])       \n",
    "        prediction_valid = np.ma.masked_where(valid_moves == 0, prediction)\n",
    "        \n",
    "        obs, rew, is_done, _ = env.step(np.argmax(prediction_valid))\n",
    "        \n",
    "        if render:\n",
    "            env.render('human')\n",
    "            sleep(1)\n",
    "        \n",
    "    return env.current_player\n",
    "\n",
    "def compare(agent1, agent2):\n",
    "    agents = [agent1, agent2]\n",
    "    first_player_wins = 0\n",
    "    \n",
    "    for i in range(1000):\n",
    "        start_player = random.randint(0, 1)\n",
    "        winner = match([agents[start_player], agents[1 - start_player]])\n",
    "        first_player_wins += ((winner == 0) == (start_player == 0))\n",
    "    \n",
    "    return first_player_wins / 1000      "
   ]
  },
  {
   "cell_type": "code",
   "execution_count": 19,
   "metadata": {},
   "outputs": [
    {
     "data": {
      "text/plain": [
       "0.512"
      ]
     },
     "execution_count": 19,
     "metadata": {},
     "output_type": "execute_result"
    }
   ],
   "source": [
    "compare(model, model)"
   ]
  },
  {
   "cell_type": "markdown",
   "metadata": {},
   "source": [
    "# Train"
   ]
  },
  {
   "cell_type": "code",
   "execution_count": 8,
   "metadata": {},
   "outputs": [
    {
     "name": "stderr",
     "output_type": "stream",
     "text": [
      "/usr/local/lib/python3.6/dist-packages/h5py/__init__.py:36: FutureWarning: Conversion of the second argument of issubdtype from `float` to `np.floating` is deprecated. In future, it will be treated as `np.float64 == np.dtype(float).type`.\n",
      "  from ._conv import register_converters as _register_converters\n",
      "Using TensorFlow backend.\n"
     ]
    }
   ],
   "source": [
    "from keras.models import Sequential, clone_model\n",
    "from keras.layers import Dense, Activation, Input, LeakyReLU\n",
    "from keras.layers import Conv2D, MaxPooling2D, Merge, Flatten, BatchNormalization, add\n",
    "from keras.layers.merge import concatenate\n",
    "from keras.models import Model\n",
    "\n",
    "import keras.backend as K\n",
    "from IPython.display import clear_output\n",
    "from keras import optimizers\n",
    "import math"
   ]
  },
  {
   "cell_type": "code",
   "execution_count": 23,
   "metadata": {
    "code_folding": [
     4,
     8,
     28
    ]
   },
   "outputs": [],
   "source": [
    "class ImprovedModel(Model):\n",
    "    def __init__(self, inputs, outputs):\n",
    "        super().__init__(inputs, outputs)\n",
    "\n",
    "    def predict_single(self, inputs):\n",
    "        inputs = [np.expand_dims(input, 0) for input in inputs]\n",
    "        outputs = model.predict(inputs)\n",
    "        return [output[0] for output in outputs]\n",
    "\n",
    "def mean_pred(y_true, y_pred):\n",
    "    return K.mean(K.equal(K.gather(y_true, K.argmax(y_true, axis=-1)), K.gather(y_true, K.argmax(y_pred, axis=-1))))\n",
    "\n",
    "\n",
    "def residual_layer(input_block, filters, kernel_size):\n",
    "\n",
    "    x = conv_layer(input_block, filters, kernel_size)\n",
    "\n",
    "    x = Conv2D(\n",
    "    filters = filters\n",
    "    , kernel_size = kernel_size\n",
    "    , padding = 'same'\n",
    "    , use_bias=False\n",
    "    , activation='linear'\n",
    "    )(x)\n",
    "\n",
    "    #x = BatchNormalization(axis=1)(x)\n",
    "\n",
    "    x = add([input_block, x])\n",
    "\n",
    "    x = LeakyReLU()(x)\n",
    "\n",
    "    return (x)\n",
    "\n",
    "def conv_layer(x, filters, kernel_size):\n",
    "\n",
    "    x = Conv2D(\n",
    "    filters = filters\n",
    "    , kernel_size = kernel_size\n",
    "    , padding = 'same'\n",
    "    , use_bias=False\n",
    "    , activation='linear'\n",
    "    )(x)\n",
    "\n",
    "    #x = BatchNormalization(axis=1)(x)\n",
    "    x = LeakyReLU()(x)\n",
    "\n",
    "    return (x)\n",
    "\n",
    "def build_model():\n",
    "    input_1 = Input((4,8,2))\n",
    "    convnet = input_1\n",
    "\n",
    "    convnet = conv_layer(convnet, 32, (3, 3))\n",
    "    convnet = residual_layer(convnet, 32, (3, 3))\n",
    "    convnet = residual_layer(convnet, 32, (3, 3))\n",
    "    convnet = residual_layer(convnet, 32, (3, 3))\n",
    "    convnet = conv_layer(convnet, 2, (1, 1))\n",
    "    #convnet = Conv2D(32, (3, 3), activation='relu', padding='same')(convnet)\n",
    "    #convnet = Conv2D(64, (3, 3), activation='relu', padding='same')(convnet)\n",
    "    #convnet = Conv2D(64, (3, 3), activation='relu', padding='same')(convnet)\n",
    "    #convnet = Conv2D(64, (3, 3), activation='relu', padding='same')(convnet)\n",
    "    convnet = Flatten()(convnet)\n",
    "\n",
    "    input_2 = Input((4,))\n",
    "\n",
    "    policy_out = concatenate([convnet, input_2])\n",
    "    #dense_out = Dense(128, activation='relu')(dense_out)\n",
    "    #dense_out = Dense(256, activation='relu')(dense_out)\n",
    "    #policy_out = Dense(256, activation='relu')(dense_out)\n",
    "    policy_out = Dense(32, activation='sigmoid')(policy_out)\n",
    "\n",
    "    value_out = concatenate([convnet, input_2])\n",
    "    #dense_out = Dense(128, activation='relu')(dense_out)\n",
    "    #dense_out = Dense(256, activation='relu')(dense_out)\n",
    "    value_out = Dense(256, activation='relu')(value_out)\n",
    "    value_out = Dense(1, activation='tanh')(value_out)\n",
    "\n",
    "    model = ImprovedModel(inputs=[input_1, input_2], outputs=[policy_out, value_out])\n",
    "\n",
    "    adam = optimizers.Adam()\n",
    "    model.compile(optimizer=adam,\n",
    "                  loss='mean_squared_error',\n",
    "                  metrics=['accuracy'])\n",
    "    return model"
   ]
  },
  {
   "cell_type": "code",
   "execution_count": 24,
   "metadata": {},
   "outputs": [
    {
     "name": "stdout",
     "output_type": "stream",
     "text": [
      "__________________________________________________________________________________________________\n",
      "Layer (type)                    Output Shape         Param #     Connected to                     \n",
      "==================================================================================================\n",
      "input_3 (InputLayer)            (None, 4, 8, 2)      0                                            \n",
      "__________________________________________________________________________________________________\n",
      "conv2d_9 (Conv2D)               (None, 4, 8, 32)     576         input_3[0][0]                    \n",
      "__________________________________________________________________________________________________\n",
      "leaky_re_lu_9 (LeakyReLU)       (None, 4, 8, 32)     0           conv2d_9[0][0]                   \n",
      "__________________________________________________________________________________________________\n",
      "conv2d_10 (Conv2D)              (None, 4, 8, 32)     9216        leaky_re_lu_9[0][0]              \n",
      "__________________________________________________________________________________________________\n",
      "leaky_re_lu_10 (LeakyReLU)      (None, 4, 8, 32)     0           conv2d_10[0][0]                  \n",
      "__________________________________________________________________________________________________\n",
      "conv2d_11 (Conv2D)              (None, 4, 8, 32)     9216        leaky_re_lu_10[0][0]             \n",
      "__________________________________________________________________________________________________\n",
      "add_4 (Add)                     (None, 4, 8, 32)     0           leaky_re_lu_9[0][0]              \n",
      "                                                                 conv2d_11[0][0]                  \n",
      "__________________________________________________________________________________________________\n",
      "leaky_re_lu_11 (LeakyReLU)      (None, 4, 8, 32)     0           add_4[0][0]                      \n",
      "__________________________________________________________________________________________________\n",
      "conv2d_12 (Conv2D)              (None, 4, 8, 32)     9216        leaky_re_lu_11[0][0]             \n",
      "__________________________________________________________________________________________________\n",
      "leaky_re_lu_12 (LeakyReLU)      (None, 4, 8, 32)     0           conv2d_12[0][0]                  \n",
      "__________________________________________________________________________________________________\n",
      "conv2d_13 (Conv2D)              (None, 4, 8, 32)     9216        leaky_re_lu_12[0][0]             \n",
      "__________________________________________________________________________________________________\n",
      "add_5 (Add)                     (None, 4, 8, 32)     0           leaky_re_lu_11[0][0]             \n",
      "                                                                 conv2d_13[0][0]                  \n",
      "__________________________________________________________________________________________________\n",
      "leaky_re_lu_13 (LeakyReLU)      (None, 4, 8, 32)     0           add_5[0][0]                      \n",
      "__________________________________________________________________________________________________\n",
      "conv2d_14 (Conv2D)              (None, 4, 8, 32)     9216        leaky_re_lu_13[0][0]             \n",
      "__________________________________________________________________________________________________\n",
      "leaky_re_lu_14 (LeakyReLU)      (None, 4, 8, 32)     0           conv2d_14[0][0]                  \n",
      "__________________________________________________________________________________________________\n",
      "conv2d_15 (Conv2D)              (None, 4, 8, 32)     9216        leaky_re_lu_14[0][0]             \n",
      "__________________________________________________________________________________________________\n",
      "add_6 (Add)                     (None, 4, 8, 32)     0           leaky_re_lu_13[0][0]             \n",
      "                                                                 conv2d_15[0][0]                  \n",
      "__________________________________________________________________________________________________\n",
      "leaky_re_lu_15 (LeakyReLU)      (None, 4, 8, 32)     0           add_6[0][0]                      \n",
      "__________________________________________________________________________________________________\n",
      "conv2d_16 (Conv2D)              (None, 4, 8, 2)      64          leaky_re_lu_15[0][0]             \n",
      "__________________________________________________________________________________________________\n",
      "leaky_re_lu_16 (LeakyReLU)      (None, 4, 8, 2)      0           conv2d_16[0][0]                  \n",
      "__________________________________________________________________________________________________\n",
      "flatten_2 (Flatten)             (None, 64)           0           leaky_re_lu_16[0][0]             \n",
      "__________________________________________________________________________________________________\n",
      "input_4 (InputLayer)            (None, 4)            0                                            \n",
      "__________________________________________________________________________________________________\n",
      "concatenate_4 (Concatenate)     (None, 68)           0           flatten_2[0][0]                  \n",
      "                                                                 input_4[0][0]                    \n",
      "__________________________________________________________________________________________________\n",
      "concatenate_3 (Concatenate)     (None, 68)           0           flatten_2[0][0]                  \n",
      "                                                                 input_4[0][0]                    \n",
      "__________________________________________________________________________________________________\n",
      "dense_5 (Dense)                 (None, 256)          17664       concatenate_4[0][0]              \n",
      "__________________________________________________________________________________________________\n",
      "dense_4 (Dense)                 (None, 32)           2208        concatenate_3[0][0]              \n",
      "__________________________________________________________________________________________________\n",
      "dense_6 (Dense)                 (None, 1)            257         dense_5[0][0]                    \n",
      "==================================================================================================\n",
      "Total params: 76,065\n",
      "Trainable params: 76,065\n",
      "Non-trainable params: 0\n",
      "__________________________________________________________________________________________________\n"
     ]
    }
   ],
   "source": [
    "model = build_model()\n",
    "model.summary()"
   ]
  },
  {
   "cell_type": "code",
   "execution_count": 27,
   "metadata": {
    "scrolled": false
   },
   "outputs": [
    {
     "name": "stderr",
     "output_type": "stream",
     "text": [
      "100%|██████████| 30/30 [00:05<00:00,  5.09it/s]"
     ]
    },
    {
     "name": "stdout",
     "output_type": "stream",
     "text": [
      "Epoch 1/1\n",
      "\r",
      "13/13 [==============================] - 0s 873us/step - loss: 1.2021 - dense_4_loss: 0.2286 - dense_6_loss: 0.9735 - dense_4_acc: 0.0769 - dense_6_acc: 0.0000e+00\n"
     ]
    },
    {
     "name": "stderr",
     "output_type": "stream",
     "text": [
      "\n"
     ]
    },
    {
     "name": "stdout",
     "output_type": "stream",
     "text": [
      "New model wins [47.4]%!\n"
     ]
    },
    {
     "name": "stderr",
     "output_type": "stream",
     "text": [
      "100%|██████████| 30/30 [00:05<00:00,  5.08it/s]"
     ]
    },
    {
     "name": "stdout",
     "output_type": "stream",
     "text": [
      "Epoch 1/1\n",
      "\r",
      "13/13 [==============================] - 0s 821us/step - loss: 1.2485 - dense_4_loss: 0.2331 - dense_6_loss: 1.0154 - dense_4_acc: 0.0769 - dense_6_acc: 0.0000e+00\n"
     ]
    },
    {
     "name": "stderr",
     "output_type": "stream",
     "text": [
      "\n"
     ]
    },
    {
     "name": "stdout",
     "output_type": "stream",
     "text": [
      "New model wins [50.2, 50.1]%!\n"
     ]
    },
    {
     "name": "stderr",
     "output_type": "stream",
     "text": [
      "100%|██████████| 30/30 [00:06<00:00,  4.85it/s]\n"
     ]
    },
    {
     "name": "stdout",
     "output_type": "stream",
     "text": [
      "Epoch 1/1\n",
      "13/13 [==============================] - 0s 1ms/step - loss: 1.2207 - dense_4_loss: 0.2263 - dense_6_loss: 0.9945 - dense_4_acc: 0.0769 - dense_6_acc: 0.0000e+00\n",
      "New model wins [50.8, 51.0, 49.0]%!\n"
     ]
    },
    {
     "name": "stderr",
     "output_type": "stream",
     "text": [
      "100%|██████████| 30/30 [00:05<00:00,  5.10it/s]"
     ]
    },
    {
     "name": "stdout",
     "output_type": "stream",
     "text": [
      "Epoch 1/1\n",
      "\r",
      "12/12 [==============================] - 0s 1ms/step - loss: 1.2390 - dense_4_loss: 0.2298 - dense_6_loss: 1.0092 - dense_4_acc: 0.0833 - dense_6_acc: 0.0000e+00\n"
     ]
    },
    {
     "name": "stderr",
     "output_type": "stream",
     "text": [
      "\n"
     ]
    },
    {
     "name": "stdout",
     "output_type": "stream",
     "text": [
      "New model wins [52.6, 51.300000000000004, 50.8, 51.1]%!\n"
     ]
    },
    {
     "name": "stderr",
     "output_type": "stream",
     "text": [
      "100%|██████████| 30/30 [00:06<00:00,  4.66it/s]"
     ]
    },
    {
     "name": "stdout",
     "output_type": "stream",
     "text": [
      "Epoch 1/1\n",
      "\r",
      "13/13 [==============================] - 0s 1ms/step - loss: 1.2791 - dense_4_loss: 0.2246 - dense_6_loss: 1.0545 - dense_4_acc: 0.0769 - dense_6_acc: 0.0000e+00\n"
     ]
    },
    {
     "name": "stderr",
     "output_type": "stream",
     "text": [
      "\n"
     ]
    },
    {
     "name": "stdout",
     "output_type": "stream",
     "text": [
      "New model wins [52.6, 50.3, 50.8, 51.4, 52.400000000000006]%!\n"
     ]
    },
    {
     "name": "stderr",
     "output_type": "stream",
     "text": [
      "100%|██████████| 30/30 [00:06<00:00,  4.93it/s]"
     ]
    },
    {
     "name": "stdout",
     "output_type": "stream",
     "text": [
      "Epoch 1/1\n",
      "\r",
      "12/12 [==============================] - 0s 963us/step - loss: 1.1999 - dense_4_loss: 0.2247 - dense_6_loss: 0.9752 - dense_4_acc: 0.3333 - dense_6_acc: 0.0000e+00\n"
     ]
    },
    {
     "name": "stderr",
     "output_type": "stream",
     "text": [
      "\n"
     ]
    },
    {
     "name": "stdout",
     "output_type": "stream",
     "text": [
      "New model wins [49.1, 50.4, 49.3, 46.7, 48.0, 52.300000000000004]%!\n"
     ]
    },
    {
     "name": "stderr",
     "output_type": "stream",
     "text": [
      "100%|██████████| 30/30 [00:08<00:00,  3.56it/s]"
     ]
    },
    {
     "name": "stdout",
     "output_type": "stream",
     "text": [
      "Epoch 1/1\n",
      "\r",
      "12/12 [==============================] - 0s 2ms/step - loss: 1.1825 - dense_4_loss: 0.2286 - dense_6_loss: 0.9539 - dense_4_acc: 0.0000e+00 - dense_6_acc: 0.0000e+00\n"
     ]
    },
    {
     "name": "stderr",
     "output_type": "stream",
     "text": [
      "\n"
     ]
    },
    {
     "name": "stdout",
     "output_type": "stream",
     "text": [
      "New model wins [48.0, 50.1, 52.2, 51.4, 49.2, 51.4, 50.5]%!\n"
     ]
    },
    {
     "name": "stderr",
     "output_type": "stream",
     "text": [
      "100%|██████████| 30/30 [00:07<00:00,  4.29it/s]"
     ]
    },
    {
     "name": "stdout",
     "output_type": "stream",
     "text": [
      "Epoch 1/1\n",
      "\r",
      "13/13 [==============================] - 0s 1ms/step - loss: 1.2045 - dense_4_loss: 0.2263 - dense_6_loss: 0.9782 - dense_4_acc: 0.1538 - dense_6_acc: 0.0000e+00\n"
     ]
    },
    {
     "name": "stderr",
     "output_type": "stream",
     "text": [
      "\n"
     ]
    },
    {
     "name": "stdout",
     "output_type": "stream",
     "text": [
      "New model wins [51.1, 48.3, 51.800000000000004, 49.9, 48.699999999999996, 51.0, 50.1, 50.5]%!\n"
     ]
    },
    {
     "name": "stderr",
     "output_type": "stream",
     "text": [
      "100%|██████████| 30/30 [00:08<00:00,  3.45it/s]"
     ]
    },
    {
     "name": "stdout",
     "output_type": "stream",
     "text": [
      "Epoch 1/1\n",
      "\r",
      "13/13 [==============================] - 0s 1ms/step - loss: 1.2686 - dense_4_loss: 0.2231 - dense_6_loss: 1.0455 - dense_4_acc: 0.0769 - dense_6_acc: 0.0000e+00\n"
     ]
    },
    {
     "name": "stderr",
     "output_type": "stream",
     "text": [
      "\n"
     ]
    },
    {
     "name": "stdout",
     "output_type": "stream",
     "text": [
      "New model wins [53.800000000000004, 50.0, 49.5, 48.699999999999996, 48.1, 49.4, 52.2, 48.5, 49.0]%!\n"
     ]
    },
    {
     "name": "stderr",
     "output_type": "stream",
     "text": [
      "100%|██████████| 30/30 [00:07<00:00,  3.85it/s]"
     ]
    },
    {
     "name": "stdout",
     "output_type": "stream",
     "text": [
      "Epoch 1/1\n",
      "\r",
      "13/13 [==============================] - 0s 1ms/step - loss: 1.1975 - dense_4_loss: 0.2272 - dense_6_loss: 0.9703 - dense_4_acc: 0.0000e+00 - dense_6_acc: 0.0000e+00\n"
     ]
    },
    {
     "name": "stderr",
     "output_type": "stream",
     "text": [
      "\n"
     ]
    },
    {
     "name": "stdout",
     "output_type": "stream",
     "text": [
      "New model wins [50.5, 49.0, 50.0, 48.199999999999996, 47.8, 48.199999999999996, 50.1, 51.2, 50.4, 49.7]%!\n"
     ]
    }
   ],
   "source": [
    "prev_states = []\n",
    "for i in range(10):\n",
    "    prev_states.append(build_model())\n",
    "    prev_states[-1].set_weights(model.get_weights())\n",
    "    #enerate_training_data(100)    \n",
    "    mcts_generate()\n",
    "    p = np.random.permutation(int(len(sample_outputs[0]) * 0.05))\n",
    "    for i in range(len(sample_outputs)):\n",
    "        sample_outputs[i] = sample_outputs[i][p]\n",
    "    for i in range(len(sample_inputs)):\n",
    "        sample_inputs[i] = sample_inputs[i][p]\n",
    "        \n",
    "    # Train the model, iterating on the data in batches of 32 samples\n",
    "    model.fit(sample_inputs, sample_outputs, epochs=1, batch_size=64)    \n",
    "    \n",
    "    print(\"New model wins \" + str([compare(model, prev_state) * 100 for prev_state in prev_states]) + \"%!\")"
   ]
  },
  {
   "cell_type": "code",
   "execution_count": 30,
   "metadata": {},
   "outputs": [],
   "source": [
    "model.save('model.h5')"
   ]
  },
  {
   "cell_type": "code",
   "execution_count": null,
   "metadata": {},
   "outputs": [],
   "source": [
    "model.load_weights('model.h5')"
   ]
  },
  {
   "cell_type": "markdown",
   "metadata": {
    "heading_collapsed": true
   },
   "source": [
    "# Eval"
   ]
  },
  {
   "cell_type": "code",
   "execution_count": null,
   "metadata": {
    "hidden": true
   },
   "outputs": [],
   "source": [
    "generate_training_data(100)    \n",
    "p = np.random.permutation(len(sample_inputs))\n",
    "sample_inputs, sample_outputs = sample_inputs[p], sample_outputs[p]"
   ]
  },
  {
   "cell_type": "code",
   "execution_count": null,
   "metadata": {
    "hidden": true
   },
   "outputs": [],
   "source": [
    "model.evaluate(sample_inputs, sample_outputs)"
   ]
  },
  {
   "cell_type": "markdown",
   "metadata": {},
   "source": [
    "# Predict"
   ]
  },
  {
   "cell_type": "code",
   "execution_count": 12,
   "metadata": {},
   "outputs": [],
   "source": [
    "def generate_input(hand_cards, table_card=None, own_tricks=0, opponent_tricks=0):\n",
    "    obs = [np.zeros([4, 8, 2]), np.zeros([4])]\n",
    "    \n",
    "    for card in hand_cards:\n",
    "        obs[0][card.color.value][card.value.value][0] = 1\n",
    "        \n",
    "    if table_card is not None:\n",
    "        obs[0][table_card.color.value][table_card.value.value][1] = 1\n",
    "\n",
    "    obs[1][0] = (own_tricks == 1 or own_tricks == 3)\n",
    "    obs[1][1] = (own_tricks == 2 or own_tricks == 3)\n",
    "\n",
    "    obs[1][2] = (opponent_tricks == 1 or opponent_tricks == 3)\n",
    "    obs[1][3] = (opponent_tricks == 2 or opponent_tricks == 3)\n",
    "    \n",
    "    return [np.expand_dims(obs[0], 0), np.expand_dims(obs[1], 0)]"
   ]
  },
  {
   "cell_type": "code",
   "execution_count": 13,
   "metadata": {},
   "outputs": [],
   "source": [
    "def card(color, value):\n",
    "    for card in env.cards:\n",
    "        if card.value == value and card.color == color:\n",
    "            return card\n",
    "        \n",
    "    return None"
   ]
  },
  {
   "cell_type": "code",
   "execution_count": 14,
   "metadata": {},
   "outputs": [],
   "source": [
    "def calc_correct_output_sample(hand_cards, table_card=None, own_tricks=0, opponent_tricks=0):\n",
    "    global sample_outputs\n",
    "    env.reset()\n",
    "    env.cards_left = env.cards[:]\n",
    "    random.shuffle(env.cards_left)\n",
    "    \n",
    "    for card in hand_cards:\n",
    "        env.cards_left.remove(card)\n",
    "    env.players[0].hand_cards = hand_cards[:]\n",
    "        \n",
    "    env.players[1].hand_cards = []\n",
    "    for i in range(len(hand_cards) - (1 if table_card is not None else 0)):\n",
    "        env.players[1].hand_cards.append(env.cards_left.pop())       \n",
    "    \n",
    "    env.players[0].tricks = own_tricks\n",
    "    env.players[1].tricks = opponent_tricks\n",
    "    env.table_card = table_card\n",
    "    \n",
    "    #obs, rew, is_done, _ = env.step(hand_cards[0].id)\n",
    "   # print(rew, is_done)\n",
    "\n",
    "    #env.render('human')\n",
    "    reset_samples(1)\n",
    "    search(env.regenerate_obs())\n",
    "    postprocess_samples()\n",
    "        \n",
    "    return sample_outputs[0]"
   ]
  },
  {
   "cell_type": "code",
   "execution_count": 15,
   "metadata": {},
   "outputs": [],
   "source": [
    "def calc_correct_output(hand_cards, table_card=None, own_tricks=0, opponent_tricks=0):    \n",
    "    correct_output = None\n",
    "    for i in range(100):\n",
    "        sample_outputs = calc_correct_output_sample(hand_cards, table_card, own_tricks, opponent_tricks)\n",
    "        if correct_output is None:\n",
    "            correct_output = sample_outputs\n",
    "        else:\n",
    "            correct_output += sample_outputs\n",
    "    return correct_output / 100"
   ]
  },
  {
   "cell_type": "code",
   "execution_count": 16,
   "metadata": {},
   "outputs": [],
   "source": [
    "def predict(hand_cards, table_card=None, own_tricks=0, opponent_tricks=0):\n",
    "    input = generate_input(hand_cards, table_card, own_tricks, opponent_tricks)\n",
    "    output = model.predict(input)[0]\n",
    "    correct_output = calc_correct_output(hand_cards, table_card, own_tricks, opponent_tricks)\n",
    "    print(output)\n",
    "    for card in hand_cards:\n",
    "        print(str(card.color) + \" \" + str(card.value) + \" => \" + str(output[card.id]) + \" (\" + str(correct_output[card.id]) + \")\")"
   ]
  },
  {
   "cell_type": "code",
   "execution_count": 17,
   "metadata": {},
   "outputs": [],
   "source": [
    "def eval():\n",
    "    correct = 0\n",
    "    for i in range(100):\n",
    "        own_tricks = random.randint(0, 2)\n",
    "        opponent_tricks = random.randint(0, 2)\n",
    "        table_card_enabled = random.randint(0, 1)\n",
    "        hand_cards = random.sample(env.cards, 5 - own_tricks - opponent_tricks + table_card_enabled)\n",
    "        table_card = hand_cards.pop() if table_card_enabled else None\n",
    "\n",
    "        input = generate_input(hand_cards, table_card, own_tricks, opponent_tricks)\n",
    "        output = model.predict(input)[0]\n",
    "        correct_output = calc_correct_output(hand_cards, table_card, own_tricks, opponent_tricks)\n",
    "        \n",
    "        #print(output, np.argmax(output)) \n",
    "        #print(correct_output, np.argmax(correct_output))\n",
    "        correct += correct_output[np.argmax(output)] == correct_output[np.argmax(correct_output)]\n",
    "        if correct_output[np.argmax(output)] != correct_output[np.argmax(correct_output)]:\n",
    "            print(correct_output[np.argmax(output)], correct_output[np.argmax(correct_output)])\n",
    "    return correct / 100"
   ]
  },
  {
   "cell_type": "code",
   "execution_count": null,
   "metadata": {},
   "outputs": [],
   "source": [
    "eval()"
   ]
  },
  {
   "cell_type": "code",
   "execution_count": 39,
   "metadata": {},
   "outputs": [
    {
     "name": "stdout",
     "output_type": "stream",
     "text": [
      "[1.38462798e-04 1.04060797e-02 5.30510169e-06 8.09911853e-06\n",
      " 1.11277751e-03 2.58240470e-04 1.98464707e-01 5.46842566e-05\n",
      " 1.13082235e-04 6.16233214e-04 2.23065595e-04 6.11462610e-06\n",
      " 4.77710346e-05 5.13106759e-04 2.47087708e-04 3.29982169e-04\n",
      " 5.98560274e-01 6.36516870e-06 3.55967604e-05 2.20201309e-06\n",
      " 6.82708696e-06 4.63786448e-04 3.89412162e-06 6.65397791e-04\n",
      " 1.52922337e-06 3.25583853e-04 3.94351773e-05 1.06607535e-04\n",
      " 1.63332428e-04 1.17983063e-05 1.69128471e-04 1.86277484e-05]\n",
      "Color.EICHEL Value.ACHT => 0.1984647 (0.16)\n",
      "Color.EICHEL Value.KOENIG => 0.01040608 (0.16)\n",
      "Color.HERZ Value.SAU => 0.5985603 (0.16)\n"
     ]
    }
   ],
   "source": [
    "predict([\n",
    "    card(Color.EICHEL, Value.ACHT), \n",
    "    card(Color.EICHEL, Value.KOENIG),\n",
    "    card(Color.HERZ, Value.SAU)\n",
    "    ], None, 0, 2)\n"
   ]
  },
  {
   "cell_type": "code",
   "execution_count": 40,
   "metadata": {},
   "outputs": [
    {
     "name": "stdout",
     "output_type": "stream",
     "text": [
      "[8.5775316e-02 1.3446440e-01 3.0592244e-05 5.1846814e-06 6.2620740e-05\n",
      " 3.8401669e-04 1.3691410e-04 8.2836683e-05 7.3889018e-06 1.3270145e-05\n",
      " 4.0721407e-05 1.3476485e-06 5.4208715e-05 1.9332780e-05 4.7947484e-05\n",
      " 5.3705394e-06 9.5115882e-01 1.5323345e-05 4.7273261e-05 1.3709297e-06\n",
      " 3.6681984e-05 6.0819509e-04 4.7694807e-04 4.3128894e-05 3.2106681e-07\n",
      " 1.6626344e-03 3.0777740e-04 2.0046342e-05 2.0370177e-05 4.6278772e-04\n",
      " 4.4946846e-06 6.6884668e-06]\n",
      "Color.EICHEL Value.SAU => 0.085775316 (0.98)\n",
      "Color.EICHEL Value.KOENIG => 0.1344644 (0.98)\n",
      "Color.HERZ Value.SAU => 0.9511588 (0.57)\n"
     ]
    }
   ],
   "source": [
    "predict([\n",
    "    card(Color.EICHEL, Value.SAU), \n",
    "    card(Color.EICHEL, Value.KOENIG),\n",
    "    card(Color.HERZ, Value.SAU)\n",
    "    ],card(Color.EICHEL, Value.ZEHN), 1, 0)"
   ]
  },
  {
   "cell_type": "code",
   "execution_count": null,
   "metadata": {},
   "outputs": [],
   "source": []
  }
 ],
 "metadata": {
  "kernelspec": {
   "display_name": "Python 3",
   "language": "python",
   "name": "python3"
  },
  "language_info": {
   "codemirror_mode": {
    "name": "ipython",
    "version": 3
   },
   "file_extension": ".py",
   "mimetype": "text/x-python",
   "name": "python",
   "nbconvert_exporter": "python",
   "pygments_lexer": "ipython3",
   "version": "3.6.3"
  }
 },
 "nbformat": 4,
 "nbformat_minor": 1
}
