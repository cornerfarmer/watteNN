{
 "cells": [
  {
   "cell_type": "code",
   "execution_count": 157,
   "metadata": {},
   "outputs": [],
   "source": [
    "def analyse_exploration():\n",
    "    global EXPLORATION\n",
    "    input_samples = []\n",
    "    output_samples = []\n",
    "    games = []\n",
    "    for i in range(100):\n",
    "        game = generate_random_game()\n",
    "        games.append(game)\n",
    "        input_samples.append(generate_input(*game))\n",
    "        output_samples.append(calc_correct_output_sample(*game))        \n",
    "    \n",
    "    prev_exp = EXPLORATION\n",
    "    for i in range(1, 20):   \n",
    "        EXPLORATION = i    \n",
    "        correct = []\n",
    "\n",
    "        for s in range(100, 500, 100):\n",
    "            correct.append(0)\n",
    "            for g in range(len(games)): \n",
    "                set_env(*games[g])\n",
    "                root = State(1, env.get_state(), env.current_player)\n",
    "                _, output = mcts_game_step(root, s)\n",
    "\n",
    "                correct_output = output_samples[g]\n",
    "                correct[-1] += correct_output[np.argmax(output)] == correct_output[np.argmax(correct_output)]\n",
    "        print(i, np.array(correct) / len(games))\n",
    "\n",
    "\n",
    "    EXPLORATION = prev_exp"
   ]
  },
  {
   "cell_type": "code",
   "execution_count": 315,
   "metadata": {},
   "outputs": [],
   "source": [
    "def eval_mcts(model, eval_cache_input, eval_cache_output):\n",
    "    \n",
    "    for s in range(1, 20, 2):\n",
    "        correct = 0\n",
    "        for i in range(len(eval_cache_input)):\n",
    "\n",
    "            outputs = np.zeros((s, 32))\n",
    "            for g in range(s):\n",
    "                game = generate_game_from_obs(eval_cache_input[i])\n",
    "                set_env(*game)\n",
    "                root = State(1, env.get_state(), env.current_player)\n",
    "                _, p = mcts_game_step(root)\n",
    "\n",
    "                set_env(*game)\n",
    "                for n, card in enumerate(env.players[env.current_player].hand_cards):\n",
    "                    outputs[g][card.id] = p[n]\n",
    "\n",
    "            outputs = np.mean(outputs, axis=0)\n",
    "            correct_output = eval_cache_output[i]\n",
    "\n",
    "            correct += correct_output[np.argmax(outputs)] == correct_output[np.argmax(correct_output)]\n",
    "            #if correct_output[np.argmax(output)] != correct_output[np.argmax(correct_output)]:\n",
    "             #   print(i, correct_output[np.argmax(output)], correct_output[np.argmax(correct_output)])\n",
    "\n",
    "        print(s, correct / len(eval_cache_input))\n"
   ]
  },
  {
   "cell_type": "code",
   "execution_count": 264,
   "metadata": {},
   "outputs": [
    {
     "data": {
      "text/plain": [
       "<Value.SAU: 7>"
      ]
     },
     "execution_count": 264,
     "metadata": {},
     "output_type": "execute_result"
    }
   ],
   "source": [
    "generate_game_from_obs(eval_cache_input[0])[0][1].value"
   ]
  },
  {
   "cell_type": "code",
   "execution_count": null,
   "metadata": {},
   "outputs": [
    {
     "name": "stdout",
     "output_type": "stream",
     "text": [
      "1 0.79\n",
      "3 0.75\n",
      "5 0.78\n",
      "7 0.78\n"
     ]
    }
   ],
   "source": [
    "eval_mcts(model, eval_cache_input, eval_cache_output)"
   ]
  },
  {
   "cell_type": "code",
   "execution_count": 166,
   "metadata": {},
   "outputs": [
    {
     "data": {
      "application/vnd.jupyter.widget-view+json": {
       "model_id": "5aa95fe0a9344e2e81a2d84c77a5c1c0",
       "version_major": 2,
       "version_minor": 0
      },
      "text/html": [
       "<p>Failed to display Jupyter Widget of type <code>FigureCanvasNbAgg</code>.</p>\n",
       "<p>\n",
       "  If you're reading this message in the Jupyter Notebook or JupyterLab Notebook, it may mean\n",
       "  that the widgets JavaScript is still loading. If this message persists, it\n",
       "  likely means that the widgets JavaScript library is either not installed or\n",
       "  not enabled. See the <a href=\"https://ipywidgets.readthedocs.io/en/stable/user_install.html\">Jupyter\n",
       "  Widgets Documentation</a> for setup instructions.\n",
       "</p>\n",
       "<p>\n",
       "  If you're reading this message in another frontend (for example, a static\n",
       "  rendering on GitHub or <a href=\"https://nbviewer.jupyter.org/\">NBViewer</a>),\n",
       "  it may mean that your frontend doesn't currently support widgets.\n",
       "</p>\n"
      ],
      "text/plain": [
       "FigureCanvasNbAgg()"
      ]
     },
     "metadata": {},
     "output_type": "display_data"
    },
    {
     "data": {
      "text/plain": [
       "array([0.09027824, 0.25778008, 0.30616403, 0.17416755, 0.1716101 ])"
      ]
     },
     "execution_count": 166,
     "metadata": {},
     "output_type": "execute_result"
    }
   ],
   "source": [
    "show_mcts([\n",
    "    card(Color.HERZ, Value.ZEHN),\n",
    "    card(Color.GRUEN, Value.SAU),\n",
    "    card(Color.SCHELLN, Value.SIEBEN),\n",
    "    card(Color.SCHELLN, Value.NEUN),\n",
    "    card(Color.EICHEL, Value.UNTER)\n",
    "], None, 0, 0, [\n",
    "    card(Color.EICHEL, Value.ZEHN),\n",
    "    card(Color.HERZ, Value.SAU),\n",
    "    card(Color.SCHELLN, Value.OBER),\n",
    "    card(Color.SCHELLN, Value.KOENIG),\n",
    "    card(Color.EICHEL, Value.KOENIG)\n",
    "])"
   ]
  },
  {
   "cell_type": "code",
   "execution_count": 185,
   "metadata": {},
   "outputs": [
    {
     "data": {
      "text/plain": [
       "Timer unit: 1e-06 s\n",
       "\n",
       "Total time: 0.438474 s\n",
       "File: <ipython-input-133-7f0ddb0fbb17>\n",
       "Function: mcts_sample at line 39\n",
       "\n",
       "Line #      Hits         Time  Per Hit   % Time  Line Contents\n",
       "==============================================================\n",
       "    39                                           def mcts_sample(state, use_model=True):\n",
       "    40                                               \n",
       "    41       385        850.0      2.2      0.2      if state.is_leaf_node():\n",
       "    42       100        106.0      1.1      0.0          if state.end_v != 0:\n",
       "    43                                                       v = state.end_v\n",
       "    44                                                       player = -1\n",
       "    45                                                   else:\n",
       "    46       100        743.0      7.4      0.2              env.set_state(state.env_state)\n",
       "    47                                           \n",
       "    48       100        101.0      1.0      0.0              if use_model:\n",
       "    49       100     357269.0   3572.7     81.5                  p, v = model.predict_single(env.regenerate_obs())\n",
       "    50                                                       else:\n",
       "    51                                                           p, v = [1] *32, [0]\n",
       "    52                                                           \n",
       "    53       100        400.0      4.0      0.1              hand_cards = env.players[env.current_player].hand_cards[:]        \n",
       "    54       100        108.0      1.1      0.0              current_player = env.current_player\n",
       "    55       483        495.0      1.0      0.1              for card in hand_cards:\n",
       "    56       383      18178.0     47.5      4.1                  obs, rew, is_done, _ = env.step(card.id)\n",
       "    57                                                           \n",
       "    58       383       3408.0      8.9      0.8                  new_state = State(p[card.id], env.get_state(), env.current_player, 0 if not is_done else (1 if rew[0] > 0 else -1) * (-1 if current_player is 1 else 1), False)\n",
       "    59       383        549.0      1.4      0.1                  state.childs.append(new_state)\n",
       "    60                                           \n",
       "    61       383       2338.0      6.1      0.5                  env.set_state(state.env_state)\n",
       "    62                                           \n",
       "    63       100        157.0      1.6      0.0              v = v[0]  \n",
       "    64       100        104.0      1.0      0.0              state.v = v\n",
       "    65       100        102.0      1.0      0.0              player = state.current_player\n",
       "    66                                               else:\n",
       "    67       285        268.0      0.9      0.1          n_sum = 0\n",
       "    68      1618       1513.0      0.9      0.3          for child in state.childs:\n",
       "    69      1333       1322.0      1.0      0.3              n_sum += child.n\n",
       "    70                                                       \n",
       "    71       285        273.0      1.0      0.1          if state.is_root:\n",
       "    72        99        101.0      1.0      0.0              epsilon = EPSILON\n",
       "    73        99       4992.0     50.4      1.1              nu = np.random.dirichlet([ALPHA] * len(state.childs))\n",
       "    74                                                     #  print(\"\")\n",
       "    75                                                   else:\n",
       "    76       186        152.0      0.8      0.0              epsilon = 0\n",
       "    77       186        272.0      1.5      0.1              nu = [0] * len(state.childs)\n",
       "    78                                           \n",
       "    79       285        318.0      1.1      0.1          max_u = 0\n",
       "    80       285        232.0      0.8      0.1          max_child = None\n",
       "    81       285        241.0      0.8      0.1          i = 0\n",
       "    82      1618       1581.0      1.0      0.4          for child in state.childs:\n",
       "    83      1333      17483.0     13.1      4.0              q_sum, n = calc_q(child, state.current_player)            \n",
       "    84      1333       1661.0      1.2      0.4              u = 0 if n is 0 else q_sum / n\n",
       "    85                                                       \n",
       "    86      1333      15403.0     11.6      3.5              u += EXPLORATION * ((1 - epsilon) * child.p + epsilon * nu[i]) * np.sqrt(n_sum) / (1 + child.n)\n",
       "    87                                                       #if state.is_root:\n",
       "    88                                                       #    print(0 if n is 0 else q_sum / n, ((1 - epsilon) * child.p + epsilon * nu[i]) * np.sqrt(n_sum) / (1 + child.n))\n",
       "    89                                                       \n",
       "    90      1333       1813.0      1.4      0.4              if max_child is None or u > max_u:\n",
       "    91       664        635.0      1.0      0.1                  max_u, max_child = u, child\n",
       "    92      1333       1299.0      1.0      0.3              i += 1\n",
       "    93                                                       \n",
       "    94       285        357.0      1.3      0.1          v, player = mcts_sample(max_child, use_model)\n",
       "    95                                                \n",
       "    96       385        511.0      1.3      0.1      if player == state.current_player:        \n",
       "    97       217       2325.0     10.7      0.5          state.w += v \n",
       "    98       217        312.0      1.4      0.1          state.n += 1\n",
       "    99       168        150.0      0.9      0.0      elif player == -1:       \n",
       "   100                                                   state.w += v * (-1 if state.current_player == 1 else 1)\n",
       "   101                                                   state.n += 1        \n",
       "   102       385        352.0      0.9      0.1      return v, player"
      ]
     },
     "metadata": {},
     "output_type": "display_data"
    }
   ],
   "source": [
    "%lprun -f mcts_sample show_mcts([card(Color.HERZ, Value.ZEHN),card(Color.GRUEN, Value.SAU),card(Color.SCHELLN, Value.SIEBEN),card(Color.SCHELLN, Value.NEUN),card(Color.EICHEL, Value.UNTER)])\n"
   ]
  },
  {
   "cell_type": "code",
   "execution_count": 144,
   "metadata": {},
   "outputs": [
    {
     "data": {
      "text/plain": [
       "[array([0.00846176, 0.00365888, 0.00696691, 0.32488713, 0.00436447,\n",
       "        0.00803394, 0.00630486, 0.00651327, 0.25214696, 0.00646617,\n",
       "        0.0053455 , 0.00681768, 0.00575565, 0.00709505, 0.00533196,\n",
       "        0.00393214, 0.00878035, 0.00780082, 0.00432327, 0.00539902,\n",
       "        0.2030162 , 0.00293943, 0.00468038, 0.01278391, 0.01050032,\n",
       "        0.00696515, 0.00696844, 0.01051198, 0.008347  , 0.3725077 ,\n",
       "        0.00666502, 0.00507753], dtype=float32),\n",
       " array([0.7587035], dtype=float32)]"
      ]
     },
     "execution_count": 144,
     "metadata": {},
     "output_type": "execute_result"
    }
   ],
   "source": [
    "model.predict_single(generate_input([\n",
    "    card(Color.HERZ, Value.ZEHN),\n",
    "    card(Color.GRUEN, Value.SAU),\n",
    "    card(Color.SCHELLN, Value.NEUN),\n",
    "    card(Color.EICHEL, Value.UNTER)\n",
    "], None, 1, 0, [\n",
    "    card(Color.HERZ, Value.SAU),\n",
    "    card(Color.SCHELLN, Value.OBER),\n",
    "    card(Color.SCHELLN, Value.KOENIG),\n",
    "    card(Color.EICHEL, Value.KOENIG)\n",
    "]))"
   ]
  },
  {
   "cell_type": "code",
   "execution_count": null,
   "metadata": {},
   "outputs": [],
   "source": []
  }
 ],
 "metadata": {
  "kernelspec": {
   "display_name": "Python 3",
   "language": "python",
   "name": "python3"
  },
  "language_info": {
   "codemirror_mode": {
    "name": "ipython",
    "version": 3
   },
   "file_extension": ".py",
   "mimetype": "text/x-python",
   "name": "python",
   "nbconvert_exporter": "python",
   "pygments_lexer": "ipython3",
   "version": "3.6.3"
  }
 },
 "nbformat": 4,
 "nbformat_minor": 2
}
