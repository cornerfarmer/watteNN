{
 "cells": [
  {
   "cell_type": "code",
   "execution_count": 140,
   "metadata": {},
   "outputs": [],
   "source": [
    "def analyse_exploration():\n",
    "    global EXPLORATION\n",
    "    input_samples = []\n",
    "    output_samples = []\n",
    "    games = []\n",
    "    for i in range(10000):\n",
    "        game = generate_random_game()\n",
    "        games.append(game)\n",
    "        input_samples.append(generate_input(*game))\n",
    "        output_samples.append(calc_correct_output_sample(*game))        \n",
    "    \n",
    "    prev_exp = EXPLORATION\n",
    "    for i in range(1, 2):   \n",
    "        EXPLORATION = i    \n",
    "        correct = []\n",
    "\n",
    "        for s in range(100, 101, 100):\n",
    "            correct.append(0)\n",
    "            for g in range(len(games)): \n",
    "                set_env(*games[g])\n",
    "                root = State(1, env.get_state(), env.current_player)\n",
    "                _, output = mcts_game_step(root, s)\n",
    "\n",
    "                correct_output = output_samples[g]\n",
    "                correct[-1] += correct_output[np.argmax(output)] == correct_output[np.argmax(correct_output)]\n",
    "        print(i, np.array(correct) / len(games))\n",
    "\n",
    "\n",
    "    EXPLORATION = prev_exp"
   ]
  },
  {
   "cell_type": "code",
   "execution_count": 141,
   "metadata": {},
   "outputs": [
    {
     "name": "stdout",
     "output_type": "stream",
     "text": [
      "1 [0.9547]\n"
     ]
    }
   ],
   "source": [
    "analyse_exploration()"
   ]
  },
  {
   "cell_type": "code",
   "execution_count": 144,
   "metadata": {},
   "outputs": [],
   "source": [
    "def eval_mcts(model, eval_cache_input, eval_cache_output):\n",
    "    \n",
    "    for s in range(5, 11, 2):\n",
    "        correct = 0\n",
    "        wrong = []\n",
    "        for i in tqdm(range(len(eval_cache_input))):\n",
    "\n",
    "            outputs = np.zeros((s, 32))\n",
    "            for g in range(s):\n",
    "                game = generate_game_from_obs(eval_cache_input[i])\n",
    "                set_env(*game)\n",
    "                root = State(1, env.get_state(), env.current_player)\n",
    "                _, p = mcts_game_step(root, 1000, use_model=False)\n",
    "\n",
    "                set_env(*game)\n",
    "                for n, card in enumerate(env.players[env.current_player].hand_cards):\n",
    "                    outputs[g][card.id] = p[n]\n",
    "\n",
    "            outputs = np.mean(outputs, axis=0)\n",
    "            correct_output = eval_cache_output[i]\n",
    "\n",
    "            if correct_output[np.argmax(outputs)] == correct_output[np.argmax(correct_output)]:\n",
    "                correct += 1\n",
    "            else:\n",
    "                wrong.append(i)\n",
    "            \n",
    "            #if correct_output[np.argmax(outputs)] != correct_output[np.argmax(correct_output)]:\n",
    "            #   print(i, correct_output[np.argmax(outputs)], correct_output[np.argmax(correct_output)])\n",
    "\n",
    "        print(s, correct / len(eval_cache_input), wrong)\n"
   ]
  },
  {
   "cell_type": "code",
   "execution_count": null,
   "metadata": {},
   "outputs": [
    {
     "name": "stderr",
     "output_type": "stream",
     "text": [
      "100%|██████████| 1000/1000 [08:14<00:00,  2.02it/s]\n",
      "  0%|          | 0/1000 [00:00<?, ?it/s]"
     ]
    },
    {
     "name": "stdout",
     "output_type": "stream",
     "text": [
      "5 0.76 [3, 11, 12, 14, 19, 20, 21, 26, 27, 31, 32, 37, 58, 61, 85, 87, 92, 104, 107, 110, 113, 114, 124, 129, 135, 140, 142, 150, 152, 160, 161, 171, 176, 177, 179, 181, 189, 191, 192, 193, 196, 197, 205, 206, 218, 220, 222, 225, 226, 227, 228, 230, 232, 233, 235, 237, 243, 244, 247, 248, 250, 254, 255, 257, 266, 268, 269, 272, 284, 289, 293, 297, 305, 309, 312, 314, 318, 321, 322, 323, 324, 330, 343, 346, 347, 350, 354, 355, 358, 363, 365, 369, 372, 376, 380, 383, 386, 387, 389, 396, 397, 402, 403, 414, 421, 422, 425, 436, 437, 441, 442, 446, 447, 448, 455, 456, 460, 462, 472, 474, 478, 484, 486, 489, 495, 497, 500, 501, 503, 505, 507, 513, 515, 527, 529, 534, 539, 543, 545, 548, 553, 554, 557, 565, 568, 569, 573, 578, 579, 580, 583, 594, 603, 605, 609, 618, 621, 622, 624, 626, 630, 631, 639, 640, 642, 646, 653, 657, 658, 660, 663, 667, 672, 679, 680, 690, 691, 695, 697, 716, 720, 726, 728, 729, 734, 735, 736, 747, 752, 766, 773, 775, 776, 782, 786, 790, 793, 796, 798, 803, 806, 812, 818, 824, 829, 830, 831, 840, 845, 847, 852, 862, 873, 874, 876, 877, 883, 892, 893, 894, 913, 917, 920, 924, 926, 929, 932, 935, 940, 953, 960, 965, 976, 977, 978, 982, 988, 994, 995, 999]\n"
     ]
    },
    {
     "name": "stderr",
     "output_type": "stream",
     "text": [
      " 93%|█████████▎| 927/1000 [10:46<00:50,  1.43it/s]"
     ]
    }
   ],
   "source": [
    "eval_mcts(model, eval_cache_input, eval_cache_output)"
   ]
  },
  {
   "cell_type": "code",
   "execution_count": 291,
   "metadata": {},
   "outputs": [],
   "source": [
    "def analyse_samples():\n",
    "    correct = 0\n",
    "    wrong = []\n",
    "    for i in tqdm(range(number_of_samples)):\n",
    "        p = calc_correct_output_sample(*generate_game_from_obs([sample_inputs[0][i], sample_inputs[1][i]]))\n",
    "        \n",
    "        correct_output = np.zeros((32,))\n",
    "        for n, card in enumerate(env.players[env.current_player].hand_cards):\n",
    "            correct_output[card.id] = p[n]\n",
    "            \n",
    "        if correct_output[np.argmax(sample_outputs[0][i])] == correct_output[np.argmax(correct_output)]:\n",
    "            correct += 1\n",
    "        else:\n",
    "            wrong.append(i)\n",
    "            \n",
    "    print(correct / number_of_samples, wrong)"
   ]
  },
  {
   "cell_type": "code",
   "execution_count": 292,
   "metadata": {},
   "outputs": [
    {
     "name": "stderr",
     "output_type": "stream",
     "text": [
      "100%|██████████| 7504/7504 [05:32<00:00, 22.59it/s]"
     ]
    },
    {
     "name": "stdout",
     "output_type": "stream",
     "text": [
      "0.9381663113006397 [0, 5, 22, 25, 47, 55, 60, 65, 130, 136, 137, 141, 150, 172, 179, 185, 193, 195, 227, 241, 247, 251, 262, 266, 292, 310, 347, 407, 421, 426, 438, 458, 459, 467, 510, 513, 526, 528, 552, 566, 568, 580, 618, 625, 627, 642, 666, 673, 697, 711, 753, 772, 794, 797, 798, 811, 817, 830, 850, 851, 861, 875, 891, 903, 929, 945, 946, 958, 961, 976, 984, 1053, 1059, 1109, 1134, 1139, 1148, 1150, 1177, 1186, 1189, 1190, 1203, 1210, 1212, 1214, 1257, 1263, 1265, 1279, 1285, 1293, 1295, 1299, 1305, 1321, 1322, 1331, 1342, 1390, 1394, 1418, 1421, 1448, 1461, 1488, 1510, 1512, 1519, 1532, 1554, 1557, 1560, 1563, 1564, 1586, 1590, 1594, 1612, 1613, 1624, 1631, 1632, 1654, 1656, 1719, 1738, 1743, 1773, 1795, 1797, 1811, 1820, 1823, 1828, 1829, 1843, 1854, 1859, 1884, 1892, 1906, 1926, 1930, 1959, 2033, 2058, 2064, 2112, 2113, 2132, 2144, 2170, 2174, 2178, 2199, 2201, 2202, 2209, 2220, 2223, 2239, 2256, 2260, 2261, 2295, 2306, 2314, 2324, 2325, 2344, 2366, 2378, 2439, 2450, 2476, 2615, 2620, 2641, 2643, 2646, 2658, 2664, 2681, 2708, 2735, 2742, 2758, 2778, 2811, 2827, 2839, 2842, 2845, 2892, 2898, 2904, 2912, 2915, 2923, 2954, 2993, 3001, 3014, 3028, 3034, 3052, 3077, 3079, 3089, 3099, 3101, 3104, 3185, 3200, 3224, 3226, 3247, 3256, 3270, 3295, 3341, 3384, 3401, 3413, 3415, 3416, 3430, 3432, 3433, 3437, 3451, 3471, 3485, 3549, 3597, 3622, 3640, 3648, 3654, 3655, 3663, 3678, 3683, 3687, 3694, 3753, 3756, 3778, 3796, 3797, 3811, 3840, 3865, 3876, 3891, 3912, 3924, 3935, 3960, 3965, 4005, 4019, 4022, 4039, 4053, 4058, 4068, 4113, 4122, 4128, 4130, 4144, 4181, 4190, 4207, 4307, 4326, 4332, 4337, 4352, 4367, 4386, 4397, 4431, 4461, 4480, 4484, 4498, 4503, 4519, 4552, 4559, 4573, 4667, 4670, 4679, 4682, 4693, 4694, 4706, 4728, 4750, 4794, 4829, 4843, 4846, 4858, 4859, 4878, 4916, 4926, 4934, 4949, 4977, 4980, 4994, 5007, 5068, 5070, 5080, 5116, 5126, 5149, 5166, 5170, 5187, 5188, 5195, 5206, 5219, 5221, 5226, 5262, 5268, 5271, 5289, 5311, 5312, 5319, 5321, 5327, 5328, 5342, 5356, 5360, 5361, 5378, 5413, 5452, 5477, 5479, 5497, 5531, 5570, 5579, 5580, 5582, 5588, 5595, 5609, 5642, 5659, 5664, 5693, 5696, 5726, 5737, 5797, 5814, 5819, 5842, 5863, 5880, 5906, 5919, 5931, 5991, 6000, 6007, 6023, 6030, 6040, 6062, 6150, 6178, 6197, 6202, 6206, 6236, 6244, 6289, 6306, 6308, 6332, 6336, 6373, 6409, 6433, 6448, 6470, 6502, 6503, 6522, 6557, 6560, 6565, 6570, 6575, 6586, 6601, 6608, 6650, 6653, 6674, 6685, 6752, 6754, 6756, 6758, 6772, 6774, 6784, 6785, 6791, 6804, 6805, 6830, 6839, 6855, 6856, 6876, 6882, 6899, 6902, 6904, 6917, 6960, 6965, 6977, 7072, 7091, 7092, 7098, 7114, 7115, 7139, 7149, 7196, 7209, 7235, 7264, 7289, 7293, 7357, 7403, 7415, 7447, 7450, 7454, 7462, 7484, 7487, 7488]\n"
     ]
    },
    {
     "name": "stderr",
     "output_type": "stream",
     "text": [
      "\n"
     ]
    }
   ],
   "source": [
    "analyse_samples()"
   ]
  },
  {
   "cell_type": "code",
   "execution_count": 264,
   "metadata": {},
   "outputs": [
    {
     "data": {
      "text/plain": [
       "<Value.SAU: 7>"
      ]
     },
     "execution_count": 264,
     "metadata": {},
     "output_type": "execute_result"
    }
   ],
   "source": [
    "generate_game_from_obs(eval_cache_input[0])[0][1].value"
   ]
  },
  {
   "cell_type": "code",
   "execution_count": 151,
   "metadata": {},
   "outputs": [
    {
     "name": "stderr",
     "output_type": "stream",
     "text": [
      "100%|██████████| 1000/1000 [04:55<00:00,  3.39it/s]"
     ]
    },
    {
     "name": "stdout",
     "output_type": "stream",
     "text": [
      "3 0.743 [1, 18, 25, 28, 31, 37, 46, 48, 51, 52, 55, 57, 60, 62, 63, 67, 76, 81, 88, 89, 96, 99, 100, 102, 104, 106, 112, 114, 115, 116, 118, 122, 125, 129, 132, 133, 136, 139, 140, 142, 144, 145, 146, 151, 154, 162, 164, 167, 169, 175, 184, 194, 197, 200, 202, 209, 212, 214, 216, 219, 220, 222, 227, 232, 235, 236, 237, 240, 242, 243, 251, 255, 256, 263, 267, 275, 276, 280, 282, 284, 286, 289, 295, 300, 306, 307, 308, 311, 314, 316, 318, 322, 325, 328, 332, 338, 348, 354, 356, 359, 360, 370, 371, 377, 378, 379, 380, 383, 384, 392, 393, 394, 396, 402, 403, 408, 414, 427, 429, 433, 445, 450, 452, 455, 464, 467, 471, 475, 479, 481, 483, 485, 486, 490, 495, 496, 502, 503, 509, 516, 517, 519, 522, 525, 530, 538, 541, 543, 548, 551, 552, 559, 567, 571, 580, 593, 599, 601, 609, 617, 619, 620, 628, 630, 635, 636, 643, 651, 653, 656, 660, 664, 671, 672, 674, 676, 680, 687, 690, 697, 699, 700, 703, 707, 708, 711, 712, 713, 714, 717, 721, 726, 733, 739, 741, 742, 743, 747, 749, 758, 763, 771, 772, 776, 779, 784, 786, 788, 800, 801, 805, 809, 814, 826, 830, 835, 838, 842, 846, 849, 850, 857, 859, 861, 863, 864, 866, 872, 873, 876, 877, 879, 885, 890, 892, 895, 900, 901, 904, 908, 913, 945, 946, 948, 949, 950, 956, 958, 965, 967, 969, 971, 974, 989, 991, 993, 996]\n"
     ]
    },
    {
     "name": "stderr",
     "output_type": "stream",
     "text": [
      "\n"
     ]
    }
   ],
   "source": [
    "eval_mcts(model, eval_cache_input, eval_cache_output)"
   ]
  },
  {
   "cell_type": "code",
   "execution_count": 88,
   "metadata": {},
   "outputs": [
    {
     "name": "stdout",
     "output_type": "stream",
     "text": [
      "21 0.86 [3, 8, 18, 24, 27, 28, 52, 54, 62, 75, 77, 87, 88, 97]\n",
      "23 0.83 [3, 8, 11, 14, 24, 27, 28, 37, 54, 66, 75, 77, 86, 87, 88, 95, 97]\n",
      "25 0.84 [1, 3, 4, 8, 24, 27, 28, 37, 54, 74, 75, 77, 87, 88, 95, 97]\n",
      "27 0.86 [3, 8, 24, 28, 37, 40, 54, 66, 74, 75, 77, 87, 88, 97]\n",
      "29 0.84 [1, 3, 8, 11, 14, 24, 27, 28, 37, 54, 74, 75, 77, 87, 88, 97]\n"
     ]
    }
   ],
   "source": [
    "eval_mcts(model, eval_cache_input, eval_cache_output)\n"
   ]
  },
  {
   "cell_type": "code",
   "execution_count": 143,
   "metadata": {},
   "outputs": [
    {
     "name": "stdout",
     "output_type": "stream",
     "text": [
      "100 0.85 [3, 16, 24, 27, 28, 62, 74, 75, 81, 86, 87, 88, 95, 97, 98]\n"
     ]
    }
   ],
   "source": [
    "eval_mcts(model, eval_cache_input, eval_cache_output)"
   ]
  },
  {
   "cell_type": "code",
   "execution_count": 106,
   "metadata": {},
   "outputs": [
    {
     "data": {
      "text/plain": [
       "array([0.989, 0.973, 0.691])"
      ]
     },
     "execution_count": 106,
     "metadata": {},
     "output_type": "execute_result"
    }
   ],
   "source": [
    "val = []\n",
    "for i in range(1000):\n",
    "    set_env(*generate_game_from_obs(eval_cache_input[77]))\n",
    "    val.append(search(env.regenerate_obs())[1])\n",
    "np.mean(val, 0)"
   ]
  },
  {
   "cell_type": "code",
   "execution_count": 166,
   "metadata": {},
   "outputs": [
    {
     "data": {
      "application/vnd.jupyter.widget-view+json": {
       "model_id": "5aa95fe0a9344e2e81a2d84c77a5c1c0",
       "version_major": 2,
       "version_minor": 0
      },
      "text/html": [
       "<p>Failed to display Jupyter Widget of type <code>FigureCanvasNbAgg</code>.</p>\n",
       "<p>\n",
       "  If you're reading this message in the Jupyter Notebook or JupyterLab Notebook, it may mean\n",
       "  that the widgets JavaScript is still loading. If this message persists, it\n",
       "  likely means that the widgets JavaScript library is either not installed or\n",
       "  not enabled. See the <a href=\"https://ipywidgets.readthedocs.io/en/stable/user_install.html\">Jupyter\n",
       "  Widgets Documentation</a> for setup instructions.\n",
       "</p>\n",
       "<p>\n",
       "  If you're reading this message in another frontend (for example, a static\n",
       "  rendering on GitHub or <a href=\"https://nbviewer.jupyter.org/\">NBViewer</a>),\n",
       "  it may mean that your frontend doesn't currently support widgets.\n",
       "</p>\n"
      ],
      "text/plain": [
       "FigureCanvasNbAgg()"
      ]
     },
     "metadata": {},
     "output_type": "display_data"
    },
    {
     "data": {
      "text/plain": [
       "array([0.09027824, 0.25778008, 0.30616403, 0.17416755, 0.1716101 ])"
      ]
     },
     "execution_count": 166,
     "metadata": {},
     "output_type": "execute_result"
    }
   ],
   "source": [
    "show_mcts([\n",
    "    card(Color.HERZ, Value.ZEHN),\n",
    "    card(Color.GRUEN, Value.SAU),\n",
    "    card(Color.SCHELLN, Value.SIEBEN),\n",
    "    card(Color.SCHELLN, Value.NEUN),\n",
    "    card(Color.EICHEL, Value.UNTER)\n",
    "], None, 0, 0, [\n",
    "    card(Color.EICHEL, Value.ZEHN),\n",
    "    card(Color.HERZ, Value.SAU),\n",
    "    card(Color.SCHELLN, Value.OBER),\n",
    "    card(Color.SCHELLN, Value.KOENIG),\n",
    "    card(Color.EICHEL, Value.KOENIG)\n",
    "])"
   ]
  },
  {
   "cell_type": "code",
   "execution_count": 185,
   "metadata": {},
   "outputs": [
    {
     "data": {
      "text/plain": [
       "Timer unit: 1e-06 s\n",
       "\n",
       "Total time: 0.438474 s\n",
       "File: <ipython-input-133-7f0ddb0fbb17>\n",
       "Function: mcts_sample at line 39\n",
       "\n",
       "Line #      Hits         Time  Per Hit   % Time  Line Contents\n",
       "==============================================================\n",
       "    39                                           def mcts_sample(state, use_model=True):\n",
       "    40                                               \n",
       "    41       385        850.0      2.2      0.2      if state.is_leaf_node():\n",
       "    42       100        106.0      1.1      0.0          if state.end_v != 0:\n",
       "    43                                                       v = state.end_v\n",
       "    44                                                       player = -1\n",
       "    45                                                   else:\n",
       "    46       100        743.0      7.4      0.2              env.set_state(state.env_state)\n",
       "    47                                           \n",
       "    48       100        101.0      1.0      0.0              if use_model:\n",
       "    49       100     357269.0   3572.7     81.5                  p, v = model.predict_single(env.regenerate_obs())\n",
       "    50                                                       else:\n",
       "    51                                                           p, v = [1] *32, [0]\n",
       "    52                                                           \n",
       "    53       100        400.0      4.0      0.1              hand_cards = env.players[env.current_player].hand_cards[:]        \n",
       "    54       100        108.0      1.1      0.0              current_player = env.current_player\n",
       "    55       483        495.0      1.0      0.1              for card in hand_cards:\n",
       "    56       383      18178.0     47.5      4.1                  obs, rew, is_done, _ = env.step(card.id)\n",
       "    57                                                           \n",
       "    58       383       3408.0      8.9      0.8                  new_state = State(p[card.id], env.get_state(), env.current_player, 0 if not is_done else (1 if rew[0] > 0 else -1) * (-1 if current_player is 1 else 1), False)\n",
       "    59       383        549.0      1.4      0.1                  state.childs.append(new_state)\n",
       "    60                                           \n",
       "    61       383       2338.0      6.1      0.5                  env.set_state(state.env_state)\n",
       "    62                                           \n",
       "    63       100        157.0      1.6      0.0              v = v[0]  \n",
       "    64       100        104.0      1.0      0.0              state.v = v\n",
       "    65       100        102.0      1.0      0.0              player = state.current_player\n",
       "    66                                               else:\n",
       "    67       285        268.0      0.9      0.1          n_sum = 0\n",
       "    68      1618       1513.0      0.9      0.3          for child in state.childs:\n",
       "    69      1333       1322.0      1.0      0.3              n_sum += child.n\n",
       "    70                                                       \n",
       "    71       285        273.0      1.0      0.1          if state.is_root:\n",
       "    72        99        101.0      1.0      0.0              epsilon = EPSILON\n",
       "    73        99       4992.0     50.4      1.1              nu = np.random.dirichlet([ALPHA] * len(state.childs))\n",
       "    74                                                     #  print(\"\")\n",
       "    75                                                   else:\n",
       "    76       186        152.0      0.8      0.0              epsilon = 0\n",
       "    77       186        272.0      1.5      0.1              nu = [0] * len(state.childs)\n",
       "    78                                           \n",
       "    79       285        318.0      1.1      0.1          max_u = 0\n",
       "    80       285        232.0      0.8      0.1          max_child = None\n",
       "    81       285        241.0      0.8      0.1          i = 0\n",
       "    82      1618       1581.0      1.0      0.4          for child in state.childs:\n",
       "    83      1333      17483.0     13.1      4.0              q_sum, n = calc_q(child, state.current_player)            \n",
       "    84      1333       1661.0      1.2      0.4              u = 0 if n is 0 else q_sum / n\n",
       "    85                                                       \n",
       "    86      1333      15403.0     11.6      3.5              u += EXPLORATION * ((1 - epsilon) * child.p + epsilon * nu[i]) * np.sqrt(n_sum) / (1 + child.n)\n",
       "    87                                                       #if state.is_root:\n",
       "    88                                                       #    print(0 if n is 0 else q_sum / n, ((1 - epsilon) * child.p + epsilon * nu[i]) * np.sqrt(n_sum) / (1 + child.n))\n",
       "    89                                                       \n",
       "    90      1333       1813.0      1.4      0.4              if max_child is None or u > max_u:\n",
       "    91       664        635.0      1.0      0.1                  max_u, max_child = u, child\n",
       "    92      1333       1299.0      1.0      0.3              i += 1\n",
       "    93                                                       \n",
       "    94       285        357.0      1.3      0.1          v, player = mcts_sample(max_child, use_model)\n",
       "    95                                                \n",
       "    96       385        511.0      1.3      0.1      if player == state.current_player:        \n",
       "    97       217       2325.0     10.7      0.5          state.w += v \n",
       "    98       217        312.0      1.4      0.1          state.n += 1\n",
       "    99       168        150.0      0.9      0.0      elif player == -1:       \n",
       "   100                                                   state.w += v * (-1 if state.current_player == 1 else 1)\n",
       "   101                                                   state.n += 1        \n",
       "   102       385        352.0      0.9      0.1      return v, player"
      ]
     },
     "metadata": {},
     "output_type": "display_data"
    }
   ],
   "source": [
    "%lprun -f mcts_sample show_mcts([card(Color.HERZ, Value.ZEHN),card(Color.GRUEN, Value.SAU),card(Color.SCHELLN, Value.SIEBEN),card(Color.SCHELLN, Value.NEUN),card(Color.EICHEL, Value.UNTER)])\n"
   ]
  },
  {
   "cell_type": "code",
   "execution_count": 144,
   "metadata": {},
   "outputs": [
    {
     "data": {
      "text/plain": [
       "[array([0.00846176, 0.00365888, 0.00696691, 0.32488713, 0.00436447,\n",
       "        0.00803394, 0.00630486, 0.00651327, 0.25214696, 0.00646617,\n",
       "        0.0053455 , 0.00681768, 0.00575565, 0.00709505, 0.00533196,\n",
       "        0.00393214, 0.00878035, 0.00780082, 0.00432327, 0.00539902,\n",
       "        0.2030162 , 0.00293943, 0.00468038, 0.01278391, 0.01050032,\n",
       "        0.00696515, 0.00696844, 0.01051198, 0.008347  , 0.3725077 ,\n",
       "        0.00666502, 0.00507753], dtype=float32),\n",
       " array([0.7587035], dtype=float32)]"
      ]
     },
     "execution_count": 144,
     "metadata": {},
     "output_type": "execute_result"
    }
   ],
   "source": [
    "model.predict_single(generate_input([\n",
    "    card(Color.HERZ, Value.ZEHN),\n",
    "    card(Color.GRUEN, Value.SAU),\n",
    "    card(Color.SCHELLN, Value.NEUN),\n",
    "    card(Color.EICHEL, Value.UNTER)\n",
    "], None, 1, 0, [\n",
    "    card(Color.HERZ, Value.SAU),\n",
    "    card(Color.SCHELLN, Value.OBER),\n",
    "    card(Color.SCHELLN, Value.KOENIG),\n",
    "    card(Color.EICHEL, Value.KOENIG)\n",
    "]))"
   ]
  },
  {
   "cell_type": "code",
   "execution_count": null,
   "metadata": {},
   "outputs": [],
   "source": []
  }
 ],
 "metadata": {
  "kernelspec": {
   "display_name": "Python 3",
   "language": "python",
   "name": "python3"
  },
  "language_info": {
   "codemirror_mode": {
    "name": "ipython",
    "version": 3
   },
   "file_extension": ".py",
   "mimetype": "text/x-python",
   "name": "python",
   "nbconvert_exporter": "python",
   "pygments_lexer": "ipython3",
   "version": "3.6.3"
  }
 },
 "nbformat": 4,
 "nbformat_minor": 2
}
