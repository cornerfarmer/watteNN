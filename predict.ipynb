{
 "cells": [
  {
   "cell_type": "markdown",
   "metadata": {},
   "source": [
    "# Predict"
   ]
  },
  {
   "cell_type": "code",
   "execution_count": 9,
   "metadata": {
    "slideshow": {
     "slide_type": "skip"
    }
   },
   "outputs": [],
   "source": [
    "def generate_input(hand_cards, table_card=None, own_tricks=0, opponent_tricks=0, opponent_hand_cards=None):\n",
    "    obs = [np.zeros([4, 8, 2]), np.zeros([4])]\n",
    "    \n",
    "    for card in hand_cards:\n",
    "        obs[0][card.color.value][card.value.value][0] = 1\n",
    "        \n",
    "    if table_card is not None:\n",
    "        obs[0][table_card.color.value][table_card.value.value][1] = 1\n",
    "\n",
    "    obs[1][0] = (own_tricks == 1 or own_tricks == 3)\n",
    "    obs[1][1] = (own_tricks == 2 or own_tricks == 3)\n",
    "\n",
    "    obs[1][2] = (opponent_tricks == 1 or opponent_tricks == 3)\n",
    "    obs[1][3] = (opponent_tricks == 2 or opponent_tricks == 3)\n",
    "    \n",
    "    return obs"
   ]
  },
  {
   "cell_type": "code",
   "execution_count": 10,
   "metadata": {
    "slideshow": {
     "slide_type": "slide"
    }
   },
   "outputs": [],
   "source": [
    "def card(color, value):\n",
    "    for card in env.cards:\n",
    "        if card.value == value and card.color == color:\n",
    "            return card \n",
    "        \n",
    "    return None"
   ]
  },
  {
   "cell_type": "code",
   "execution_count": 39,
   "metadata": {},
   "outputs": [],
   "source": [
    "import itertools\n",
    "calc_correct_output_sample_cache = {}"
   ]
  },
  {
   "cell_type": "code",
   "execution_count": 49,
   "metadata": {},
   "outputs": [],
   "source": [
    "def set_env(hand_cards, table_card=None, own_tricks=0, opponent_tricks=0, opponent_hand_cards=None):\n",
    "    env.reset()\n",
    "    env.cards_left = env.cards[:]\n",
    "    random.shuffle(env.cards_left)\n",
    "    \n",
    "    for card in hand_cards:\n",
    "        env.cards_left.remove(card)\n",
    "    env.players[0].hand_cards = hand_cards[:]\n",
    "        \n",
    "    if opponent_hand_cards is None:\n",
    "        env.players[1].hand_cards = []\n",
    "        for i in range(len(hand_cards) - (1 if table_card is not None else 0)):\n",
    "            env.players[1].hand_cards.append(env.cards_left.pop())      \n",
    "    else:        \n",
    "        for card in opponent_hand_cards:\n",
    "            env.cards_left.remove(card)\n",
    "        env.players[1].hand_cards = opponent_hand_cards[:]\n",
    "    \n",
    "    env.players[0].tricks = own_tricks\n",
    "    env.players[1].tricks = opponent_tricks\n",
    "    env.table_card = table_card\n",
    "    \n",
    "        \n",
    "def generate_hand_cards_key(hand_cards):\n",
    "    card_ids = []\n",
    "    for card in hand_cards:\n",
    "        card_ids.append(card.id)\n",
    "    card_ids.sort()\n",
    "    return str(card_ids)\n",
    "\n",
    "def generate_cache_key(hand_cards, opponent_hand_cards, table_card=None, own_tricks=0, opponent_tricks=0):\n",
    "    return generate_hand_cards_key(hand_cards) + \"-\" + generate_hand_cards_key(opponent_hand_cards) + \"-\" + (str(table_card.id) if table_card is not None else \"\") + \"-\" + str(own_tricks) + \"-\" + str(opponent_tricks)\n",
    "    \n",
    "def calc_correct_output_sample(hand_cards, table_card=None, own_tricks=0, opponent_tricks=0, opponent_hand_cards=None):\n",
    "   \n",
    "    cache_key = generate_cache_key(hand_cards, opponent_hand_cards, table_card, own_tricks, opponent_tricks)\n",
    "    if not cache_key in calc_correct_output_sample_cache:\n",
    "    \n",
    "        set_env(hand_cards, table_card, own_tricks, opponent_tricks, opponent_hand_cards)\n",
    "\n",
    "        #root = State(1, env.get_state(), env.current_player)\n",
    "        #a, p = mcts_game_step(root, 100)\n",
    "       # env.set_state(root.env_state)\n",
    "       # print(p)\n",
    "        #draw_tree(root)\n",
    "        #print(\"\")\n",
    "        #draw_path(root)\n",
    "        #obs, rew, is_done, _ = env.step(hand_cards[0].id)\n",
    "       # print(rew, is_done)\n",
    "\n",
    "        #env.render('human')\n",
    "        #root = State(1, env.get_state())\n",
    "        #a, p = mcts_game_step(root, 1000, False)\n",
    "        #draw_tree(root)\n",
    "        #print(\"\")\n",
    "        #draw_tree(root.childs[0])\n",
    "\n",
    "        #draw_path(root)\n",
    "        #reset_samples(1)\n",
    "        correct_output = search(env.regenerate_obs())[1]\n",
    "        #postprocess_samples()\n",
    "        \n",
    "        \n",
    "        calc_correct_output_sample_cache[cache_key] = {}\n",
    "        i = 0\n",
    "        for card in hand_cards:\n",
    "            calc_correct_output_sample_cache[cache_key][card.id] = correct_output[i]\n",
    "            i += 1\n",
    "            \n",
    "    output = np.zeros((len(hand_cards,)))\n",
    "    i = 0\n",
    "    for card in hand_cards:\n",
    "        output[i] = calc_correct_output_sample_cache[cache_key][card.id]\n",
    "        i += 1\n",
    "        \n",
    "    return output#sample_outputs[0]\n",
    "\n",
    "def show_mcts(hand_cards, table_card=None, own_tricks=0, opponent_tricks=0, opponent_hand_cards=None, tree_depth=5, tree_path=[], steps=100, debug=False, use_model=True):\n",
    "    set_env(hand_cards, table_card, own_tricks, opponent_tricks, opponent_hand_cards)\n",
    "    if debug:\n",
    "        env.render('human')\n",
    "    root = State(1, env.get_state(), env.current_player)\n",
    "    a, p = mcts_game_step(root, steps, use_model=use_model)\n",
    "    env.set_state(root.env_state)\n",
    "    if debug:\n",
    "        draw_tree(root, tree_depth, tree_path)\n",
    "    return p"
   ]
  },
  {
   "cell_type": "code",
   "execution_count": 43,
   "metadata": {
    "code_folding": [
     0
    ]
   },
   "outputs": [],
   "source": [
    "\n",
    "def calc_correct_output(hand_cards, table_card=None, own_tricks=0, opponent_tricks=0, possible_hand_cards=[]):    \n",
    "\n",
    "    correct_output = None    \n",
    "    n = 0\n",
    "    for opposite_hand_cards in possible_hand_cards:\n",
    "        sample_outputs = calc_correct_output_sample(hand_cards, table_card, own_tricks, opponent_tricks, list(opposite_hand_cards))\n",
    "\n",
    "        if correct_output is None:\n",
    "            correct_output = sample_outputs\n",
    "        else:\n",
    "            correct_output += sample_outputs \n",
    "\n",
    "        n += 1\n",
    "\n",
    "    return correct_output / n"
   ]
  },
  {
   "cell_type": "code",
   "execution_count": 14,
   "metadata": {
    "code_folding": [
     0
    ]
   },
   "outputs": [],
   "source": [
    "def predict(hand_cards, table_card=None, own_tricks=0, opponent_tricks=0):\n",
    "    input = generate_input(hand_cards, table_card, own_tricks, opponent_tricks)\n",
    "    output = model.predict_single(input)[0]\n",
    "    correct_output = calc_correct_output_sample(hand_cards, table_card, own_tricks, opponent_tricks)\n",
    "    print(output,correct_output)\n",
    "    id = 0\n",
    "    for card in hand_cards:\n",
    "        print(str(card.color) + \" \" + str(card.value) + \" => \" + str(output[card.id]) + \" (\" + str(correct_output[id]) + \")\")\n",
    "        id += 1"
   ]
  },
  {
   "cell_type": "code",
   "execution_count": 15,
   "metadata": {
    "code_folding": [
     0,
     21
    ]
   },
   "outputs": [],
   "source": [
    "def generate_random_game(only_initial_state=False):\n",
    "    if only_initial_state:\n",
    "        own_tricks = 0\n",
    "        opponent_tricks = 0\n",
    "        table_card_enabled = 0\n",
    "    else:\n",
    "        own_tricks = random.randint(0, 1)\n",
    "        opponent_tricks = random.randint(0, 1)\n",
    "        if opponent_tricks == 0 and own_tricks == 1:\n",
    "            table_card_enabled = 0\n",
    "        elif opponent_tricks == 1 and own_tricks == 0:\n",
    "            table_card_enabled = 1\n",
    "        else:        \n",
    "            table_card_enabled = random.randint(0, 1)\n",
    "        \n",
    "    hand_cards = random.sample(env.cards, (3 - own_tricks - opponent_tricks) * 2)\n",
    "    table_card = hand_cards.pop() if table_card_enabled else None\n",
    "    \n",
    "    opponent_hand_cards = []\n",
    "    for i in range(len(hand_cards) // 2):\n",
    "        opponent_hand_cards.append(hand_cards.pop())\n",
    "        \n",
    "    return hand_cards, table_card, own_tricks, opponent_tricks, opponent_hand_cards\n",
    "\n",
    "def generate_game_from_obs(obs):\n",
    "    own_tricks = 0\n",
    "    if obs[1][0]:\n",
    "        own_tricks += 1\n",
    "    if obs[1][1]:\n",
    "        own_tricks += 2   \n",
    "        \n",
    "    opponent_tricks = 0\n",
    "    if obs[1][2]:\n",
    "        opponent_tricks += 1\n",
    "    if obs[1][3]:\n",
    "        opponent_tricks += 2    \n",
    "        \n",
    "    cards_left = env.cards[:]\n",
    "    random.shuffle(cards_left)\n",
    "    hand_cards = []\n",
    "    table_card = None\n",
    "    for c in Color:\n",
    "        for v in Value: \n",
    "            if obs[0][c.value][v.value][0]:\n",
    "                hand_cards.append(card(c, v))\n",
    "                cards_left.remove(hand_cards[-1])\n",
    "            if obs[0][c.value][v.value][1]:\n",
    "                table_card = card(c, v)\n",
    "                cards_left.remove(table_card)\n",
    "    \n",
    "    opponent_hand_cards = []\n",
    "    for i in range(3 - own_tricks - opponent_tricks - (1 if table_card is not None else 0)):\n",
    "        opponent_hand_cards.append(cards_left.pop())\n",
    "        \n",
    "    return hand_cards, table_card, own_tricks, opponent_tricks, opponent_hand_cards\n",
    "\n",
    "def create_eval_cache():\n",
    "    eval_cache_input = []\n",
    "    eval_cache_output = []\n",
    "    eval_cache_initial_states = []\n",
    "    for i in range(200):\n",
    "        game = generate_random_game(True)\n",
    "        set_env(*game)\n",
    "        obs, is_done = env.regenerate_obs(), False\n",
    "        eval_cache_initial_states.append(len(eval_cache_input))\n",
    "        while not is_done:\n",
    "            game = generate_game_from_obs(obs)\n",
    "            hand_cards = game[0]\n",
    "            eval_cache_input.append([np.array(obs[0]), np.array(obs[1])])\n",
    "            state = env.get_state()\n",
    "            output = calc_correct_output(*game[:4])\n",
    "            env.set_state(state)\n",
    "\n",
    "            outputs_per_card = np.zeros((32,))\n",
    "            for i in range(len(hand_cards)):\n",
    "                outputs_per_card[hand_cards[i].id] = output[i]\n",
    "\n",
    "            eval_cache_output.append(outputs_per_card)\n",
    "            \n",
    "            obs, _, is_done, _ = env.step(np.argmax(outputs_per_card))\n",
    "        \n",
    "    return eval_cache_input, eval_cache_output, eval_cache_initial_states\n",
    "        \n",
    "def eval2(model, eval_cache_input, eval_cache_output, debug=False):\n",
    "    correct = 0\n",
    "    for i in range(len(eval_cache_input)):\n",
    "\n",
    "        output = model.predict_single(eval_cache_input[i])[0]\n",
    "        correct_output = eval_cache_output[i]\n",
    "                    \n",
    "        correct += correct_output[np.argmax(output)] == correct_output[np.argmax(correct_output)]\n",
    "        if debug and correct_output[np.argmax(output)] != correct_output[np.argmax(correct_output)]:\n",
    "            key = model.generate_key(eval_cache_input[i])\n",
    "            print(i, correct_output[np.argmax(output)], correct_output[np.argmax(correct_output)],  model.table[key][2] if key in model.table else 0)\n",
    "\n",
    "    return correct / len(eval_cache_input)\n",
    "\n",
    "def eval_game(model):    \n",
    "    current_player = env.current_player\n",
    "    if env.current_player == 1:\n",
    "        state = env.get_state()\n",
    "        n = len(env.players[env.current_player].hand_cards)   \n",
    "        p = 0\n",
    "        distr = np.zeros((n,))\n",
    "\n",
    "        for i in range(n):\n",
    "            card_id = env.players[env.current_player].hand_cards[i].id\n",
    "            obs, rew, is_done, _ = env.step(card_id)\n",
    "\n",
    "            if is_done:\n",
    "                distr[i] = (rew[0] > 0)\n",
    "            else:\n",
    "                distr[i] = ((1 - eval_game(model)) if current_player != env.current_player else eval_game(model))\n",
    "            env.set_state(state)\n",
    "\n",
    "        return distr.mean()\n",
    "    else:\n",
    "        if model is None:\n",
    "            state = env.get_state()\n",
    "            p = calc_correct_output_sample(env.players[env.current_player].hand_cards, env.table_card, env.players[env.current_player].tricks, env.players[1 - env.current_player].tricks, env.players[1 - env.current_player].hand_cards)\n",
    "            env.set_state(state)\n",
    "            step = env.players[env.current_player].hand_cards[np.argmax(p)].id\n",
    "        else:\n",
    "            p, v = model.predict_single(env.regenerate_obs())            \n",
    "  \n",
    "            valid_moves = np.zeros((32,))       \n",
    "            for card in env.players[env.current_player].hand_cards:\n",
    "                valid_moves[card.id] = 1\n",
    "\n",
    "            prediction_valid = np.ma.masked_where(valid_moves == 0, p)\n",
    "            step = np.argmax(prediction_valid)      \n",
    "\n",
    "        obs, rew, is_done, _ = env.step(step)\n",
    "        if is_done:\n",
    "            return (rew[0] > 0)\n",
    "        else:\n",
    "            return ((1 - eval_game(model)) if current_player != env.current_player else eval_game(model))\n",
    "\n",
    "def define_eval_games():\n",
    "    eval_games = []\n",
    "    hand_card_combinations = itertools.combinations(env.cards[:], 3)\n",
    "    for hand_cards in hand_card_combinations:\n",
    "        cards_left = env.cards[:]\n",
    "        for card in hand_cards:\n",
    "            cards_left.remove(card)\n",
    "            \n",
    "        other_hand_card_combinations = itertools.combinations(cards_left, 3)\n",
    "        for other_hand_cards in other_hand_card_combinations:\n",
    "            eval_games.append((list(hand_cards), None, 0, 0, list(other_hand_cards)))\n",
    "        \n",
    "    return eval_games\n",
    "        \n",
    "def eval(model, eval_games):\n",
    "    correct = 0\n",
    "    for game in eval_games:\n",
    "        for start_player in range(2):\n",
    "            set_env(*game)\n",
    "            env.current_player = start_player\n",
    "            correct += ((1 - eval_game(model)) if start_player == 1 else eval_game(model))  \n",
    "\n",
    "    return correct / (len(eval_games) * 2)"
   ]
  },
  {
   "cell_type": "code",
   "execution_count": 54,
   "metadata": {},
   "outputs": [],
   "source": [
    "def calc_exploitability_in_game(model, possible_hand_cards):\n",
    "    current_player = env.current_player\n",
    "    if env.current_player == 1:\n",
    "        state = env.get_state()\n",
    "        p = calc_correct_output(env.players[env.current_player].hand_cards, env.table_card, env.players[env.current_player].tricks, env.players[1 - env.current_player].tricks, possible_hand_cards)\n",
    "        env.set_state(state)\n",
    "        step = env.players[env.current_player].hand_cards[np.argmax(p)].id\n",
    "    else:\n",
    "        p, v = model.predict_single(env.regenerate_obs())            \n",
    "\n",
    "        valid_moves = np.zeros((32,))       \n",
    "        for card in env.players[env.current_player].hand_cards:\n",
    "            valid_moves[card.id] = 1\n",
    "\n",
    "        prediction_valid = np.ma.masked_where(valid_moves == 0, p)\n",
    "        step = np.argmax(prediction_valid)      \n",
    "        \n",
    "        possible_next_hand_cards = []\n",
    "        for hand_cards in possible_hand_cards:\n",
    "            p, v = model.predict_single(generate_input(hand_cards, env.table_card, env.players[env.current_player].tricks, env.players[1 - env.current_player].tricks))\n",
    "            \n",
    "            valid_moves = np.zeros((32,))       \n",
    "            for card in hand_cards:\n",
    "                valid_moves[card.id] = 1\n",
    "\n",
    "            prediction_valid = np.ma.masked_where(valid_moves == 0, p)\n",
    "            theoretical_step = np.argmax(prediction_valid)      \n",
    "            if step == theoretical_step:\n",
    "                possible_next_hand_cards.append(hand_cards[:])\n",
    "                possible_next_hand_cards[-1].remove(env.cards[step])\n",
    "        possible_hand_cards = possible_next_hand_cards\n",
    "\n",
    "    obs, rew, is_done, _ = env.step(step)\n",
    "    if is_done:\n",
    "        return (rew[0] > 0)\n",
    "    else:\n",
    "        return ((1 - calc_exploitability_in_game(model, possible_hand_cards)) if current_player != env.current_player else calc_exploitability_in_game(model, possible_hand_cards))\n",
    "    \n",
    "def calc_exploitability(model, eval_games):\n",
    "    global calc_correct_output_sample_cache\n",
    "    exploitability = 0\n",
    "    calc_correct_output_sample_cache = {}\n",
    "    for game in eval_games:\n",
    "        for start_player in range(2):\n",
    "            set_env(*game)\n",
    "            env.current_player = start_player\n",
    "\n",
    "            possible_opposite_cards = env.cards[:]\n",
    "            for card in env.players[1].hand_cards:\n",
    "                possible_opposite_cards.remove(card)\n",
    "                \n",
    "            opposite_hand_card_combinations = itertools.combinations(possible_opposite_cards, len(env.players[0].hand_cards))\n",
    "            opposite_hand_card_combinations = [list(hand_cards) for hand_cards in opposite_hand_card_combinations]\n",
    "            \n",
    "            winner = ((1 - calc_exploitability_in_game(model, opposite_hand_card_combinations)) if start_player == 1 else calc_exploitability_in_game(model, opposite_hand_card_combinations))  \n",
    "            exploitability += (-1 if winner == 1 else 1)\n",
    "\n",
    "    return exploitability / (len(eval_games) * 2)"
   ]
  },
  {
   "cell_type": "code",
   "execution_count": 30,
   "metadata": {},
   "outputs": [],
   "source": [
    "eval_cache_input, eval_cache_output, eval_cache_initial_states = create_eval_cache()"
   ]
  },
  {
   "cell_type": "code",
   "execution_count": 73,
   "metadata": {},
   "outputs": [
    {
     "data": {
      "text/plain": [
       "596"
      ]
     },
     "execution_count": 73,
     "metadata": {},
     "output_type": "execute_result"
    }
   ],
   "source": [
    "len(calc_correct_output_cache)"
   ]
  },
  {
   "cell_type": "code",
   "execution_count": 82,
   "metadata": {},
   "outputs": [
    {
     "data": {
      "text/plain": [
       "0.4964"
      ]
     },
     "execution_count": 82,
     "metadata": {},
     "output_type": "execute_result"
    }
   ],
   "source": [
    "compare(None, None)"
   ]
  },
  {
   "cell_type": "code",
   "execution_count": 166,
   "metadata": {},
   "outputs": [],
   "source": [
    "with open('eval_cache_2s3k', 'wb') as fp:\n",
    "    pickle.dump([eval_cache_input, eval_cache_output], fp)"
   ]
  },
  {
   "cell_type": "code",
   "execution_count": 21,
   "metadata": {},
   "outputs": [],
   "source": [
    "with open ('eval_cache_2s3k', 'rb') as fp:\n",
    "    eval_cache_input, eval_cache_output = pickle.load(fp)"
   ]
  },
  {
   "cell_type": "code",
   "execution_count": 17,
   "metadata": {},
   "outputs": [
    {
     "data": {
      "text/plain": [
       "560"
      ]
     },
     "execution_count": 17,
     "metadata": {},
     "output_type": "execute_result"
    }
   ],
   "source": [
    "eval_games = define_eval_games()\n",
    "len(eval_games)"
   ]
  },
  {
   "cell_type": "code",
   "execution_count": 100,
   "metadata": {},
   "outputs": [
    {
     "data": {
      "text/plain": [
       "0.019642857142857142"
      ]
     },
     "execution_count": 100,
     "metadata": {},
     "output_type": "execute_result"
    }
   ],
   "source": [
    "calc_exploitability(best_model, eval_games)"
   ]
  },
  {
   "cell_type": "code",
   "execution_count": 355,
   "metadata": {},
   "outputs": [],
   "source": [
    "env.reset()\n",
    "env.render('human')\n",
    "state = env.get_state()"
   ]
  },
  {
   "cell_type": "code",
   "execution_count": 377,
   "metadata": {},
   "outputs": [
    {
     "data": {
      "text/plain": [
       "0.0"
      ]
     },
     "execution_count": 377,
     "metadata": {},
     "output_type": "execute_result"
    }
   ],
   "source": [
    "env.set_state(state)\n",
    "eval_game(None)"
   ]
  },
  {
   "cell_type": "code",
   "execution_count": 423,
   "metadata": {},
   "outputs": [
    {
     "data": {
      "text/plain": [
       "1.0"
      ]
     },
     "execution_count": 423,
     "metadata": {},
     "output_type": "execute_result"
    }
   ],
   "source": [
    "set_env(*eval_games[0])\n",
    "eval_game(model)"
   ]
  },
  {
   "cell_type": "code",
   "execution_count": 116,
   "metadata": {},
   "outputs": [
    {
     "name": "stdout",
     "output_type": "stream",
     "text": [
      "0 0.5 0.5\n",
      "1 0.5 0.5\n",
      "2 0.5 0.5\n",
      "3 0.4499999999999999 0.4499999999999999\n",
      "4 0.5 0.5\n",
      "5 0.5 0.5\n",
      "6 0.4 0.4\n",
      "7 0.5 0.5\n",
      "8 0.4499999999999999 0.4499999999999999\n",
      "9 0.39999999999999997 0.4333333333333334\n",
      "10 0.3500000000000001 0.4\n",
      "11 0.5 0.5\n",
      "12 0.4333333333333333 0.4000000000000001\n",
      "13 0.36666666666666664 0.36666666666666664\n",
      "14 0.30000000000000004 0.30000000000000004\n",
      "15 0.5 0.5\n",
      "16 0.5 0.5\n",
      "17 0.5 0.5\n",
      "18 0.5 0.5\n",
      "19 0.45 0.45\n",
      "20 0.39999999999999997 0.39999999999999997\n",
      "21 0.3 0.3\n",
      "22 0.5 0.5\n",
      "23 0.4166666666666667 0.4083333333333333\n",
      "24 0.35833333333333334 0.35833333333333334\n",
      "25 0.3 0.3\n",
      "26 0.45 0.45\n",
      "27 0.3583333333333334 0.36666666666666664\n",
      "28 0.2833333333333333 0.29166666666666663\n",
      "29 0.22500000000000003 0.22500000000000003\n",
      "30 0.45 0.5\n",
      "31 0.425 0.4666666666666667\n",
      "32 0.4 0.4333333333333334\n",
      "33 0.4083333333333334 0.4166666666666667\n",
      "34 0.3583333333333334 0.35833333333333334\n",
      "35 0.3166666666666667 0.3166666666666667\n",
      "36 0.4 0.4\n",
      "37 0.3166666666666667 0.3166666666666667\n",
      "38 0.2166666666666667 0.23333333333333334\n",
      "39 0.15000000000000002 0.15000000000000002\n",
      "40 0.5 0.5\n",
      "41 0.4333333333333334 0.4333333333333334\n",
      "42 0.36666666666666664 0.36666666666666664\n",
      "43 0.3583333333333333 0.3583333333333333\n",
      "44 0.2666666666666667 0.2916666666666667\n",
      "45 0.23333333333333334 0.21666666666666673\n",
      "46 0.5 0.5\n",
      "47 0.275 0.4000000000000001\n",
      "48 0.20000000000000004 0.20000000000000004\n",
      "49 0.29999999999999993 0.29999999999999993\n",
      "50 0.17500000000000002 0.225\n",
      "51 0.15000000000000005 0.15000000000000005\n",
      "52 0.5 0.5\n",
      "53 0.5 0.5\n",
      "54 0.4000000000000001 0.4000000000000001\n",
      "55 0.29999999999999993 0.29999999999999993\n"
     ]
    }
   ],
   "source": [
    "for i in range(56):\n",
    "    print(i, eval(None, eval_games[i * 10:(i+1) * 10]), eval(model, eval_games[i * 10:(i+1) * 10]))"
   ]
  },
  {
   "cell_type": "code",
   "execution_count": 172,
   "metadata": {},
   "outputs": [
    {
     "data": {
      "text/plain": [
       "0.6874999999999999"
      ]
     },
     "execution_count": 172,
     "metadata": {},
     "output_type": "execute_result"
    }
   ],
   "source": [
    "eval(model, eval_games)"
   ]
  },
  {
   "cell_type": "code",
   "execution_count": 213,
   "metadata": {},
   "outputs": [
    {
     "data": {
      "text/plain": [
       "0.7303571428571419"
      ]
     },
     "execution_count": 213,
     "metadata": {},
     "output_type": "execute_result"
    }
   ],
   "source": [
    "eval(None, eval_games)"
   ]
  },
  {
   "cell_type": "code",
   "execution_count": 443,
   "metadata": {},
   "outputs": [
    {
     "ename": "TypeError",
     "evalue": "eval() got an unexpected keyword argument 'debug'",
     "output_type": "error",
     "traceback": [
      "\u001b[0;31m---------------------------------------------------------------------------\u001b[0m",
      "\u001b[0;31mTypeError\u001b[0m                                 Traceback (most recent call last)",
      "\u001b[0;32m<ipython-input-443-f7c0f3c5732c>\u001b[0m in \u001b[0;36m<module>\u001b[0;34m()\u001b[0m\n\u001b[0;32m----> 1\u001b[0;31m \u001b[0meval\u001b[0m\u001b[0;34m(\u001b[0m\u001b[0mmodel\u001b[0m\u001b[0;34m,\u001b[0m \u001b[0meval_cache_input\u001b[0m\u001b[0;34m,\u001b[0m \u001b[0meval_cache_output\u001b[0m\u001b[0;34m,\u001b[0m \u001b[0mdebug\u001b[0m\u001b[0;34m=\u001b[0m\u001b[0;32mTrue\u001b[0m\u001b[0;34m)\u001b[0m\u001b[0;34m\u001b[0m\u001b[0m\n\u001b[0m",
      "\u001b[0;31mTypeError\u001b[0m: eval() got an unexpected keyword argument 'debug'"
     ]
    }
   ],
   "source": [
    "eval(model, eval_cache_input, eval_cache_output, debug=True)"
   ]
  },
  {
   "cell_type": "code",
   "execution_count": 211,
   "metadata": {},
   "outputs": [
    {
     "data": {
      "text/plain": [
       "[array([[[0., 0.],\n",
       "         [0., 0.],\n",
       "         [0., 0.],\n",
       "         [0., 0.],\n",
       "         [1., 0.],\n",
       "         [0., 0.],\n",
       "         [0., 0.],\n",
       "         [1., 0.]],\n",
       " \n",
       "        [[0., 0.],\n",
       "         [0., 0.],\n",
       "         [0., 0.],\n",
       "         [0., 0.],\n",
       "         [1., 0.],\n",
       "         [0., 0.],\n",
       "         [0., 0.],\n",
       "         [0., 0.]],\n",
       " \n",
       "        [[0., 0.],\n",
       "         [0., 0.],\n",
       "         [0., 0.],\n",
       "         [0., 0.],\n",
       "         [0., 0.],\n",
       "         [0., 0.],\n",
       "         [0., 0.],\n",
       "         [0., 0.]],\n",
       " \n",
       "        [[0., 0.],\n",
       "         [0., 0.],\n",
       "         [0., 0.],\n",
       "         [0., 0.],\n",
       "         [0., 0.],\n",
       "         [0., 0.],\n",
       "         [0., 0.],\n",
       "         [0., 0.]]]), array([0., 0., 0., 0.])]"
      ]
     },
     "execution_count": 211,
     "metadata": {},
     "output_type": "execute_result"
    }
   ],
   "source": [
    "eval_cache_input[212]"
   ]
  },
  {
   "cell_type": "code",
   "execution_count": 212,
   "metadata": {},
   "outputs": [
    {
     "data": {
      "text/plain": [
       "[array([266.77957282,   0.        ,   0.        , 261.46378714,\n",
       "          0.        ,   0.        ,   0.        , 272.75664004,\n",
       "          0.        ,   0.        ,   0.        ,   0.        ,\n",
       "          0.        ,   0.        ,   0.        ,   0.        ,\n",
       "          0.        ,   0.        ,   0.        ,   0.        ,\n",
       "          0.        ,   0.        ,   0.        ,   0.        ,\n",
       "          0.        ,   0.        ,   0.        ,   0.        ,\n",
       "          0.        ,   0.        ,   0.        ,   0.        ]),\n",
       " array([-275.]),\n",
       " 801]"
      ]
     },
     "execution_count": 212,
     "metadata": {},
     "output_type": "execute_result"
    }
   ],
   "source": [
    "model.table[model.generate_key(eval_cache_input[212])]"
   ]
  },
  {
   "cell_type": "code",
   "execution_count": 213,
   "metadata": {},
   "outputs": [
    {
     "data": {
      "text/plain": [
       "array([0.1, 0. , 0. , 0.1, 0. , 0. , 0. , 0. , 0. , 0. , 0. , 0. , 0. ,\n",
       "       0. , 0. , 0. , 0. , 0. , 0. , 0. , 0. , 0. , 0. , 0. , 0. , 0. ,\n",
       "       0. , 0. , 0. , 0. , 0. , 0. ])"
      ]
     },
     "execution_count": 213,
     "metadata": {},
     "output_type": "execute_result"
    }
   ],
   "source": [
    "eval_cache_output[212]"
   ]
  },
  {
   "cell_type": "code",
   "execution_count": 180,
   "metadata": {},
   "outputs": [
    {
     "name": "stdout",
     "output_type": "stream",
     "text": [
      "[0.         0.25238272 0.25316138 0.         0.4944559  0.\n",
      " 0.         0.         0.         0.         0.         0.\n",
      " 0.         0.         0.         0.         0.         0.\n",
      " 0.         0.         0.         0.         0.         0.\n",
      " 0.         0.         0.         0.         0.         0.\n",
      " 0.         0.        ] [1. 1. 1.]\n",
      "Color.EICHEL Value.KOENIG => 0.25238271995816913 (1.0)\n",
      "Color.EICHEL Value.OBER => 0.2531613804182263 (1.0)\n",
      "Color.GRUEN Value.SAU => 0.4944558996236046 (1.0)\n"
     ]
    }
   ],
   "source": [
    "predict(*generate_game_from_obs(eval_cache_input[354])[:4])"
   ]
  },
  {
   "cell_type": "code",
   "execution_count": 181,
   "metadata": {},
   "outputs": [
    {
     "data": {
      "text/plain": [
       "array([1. , 1. , 0.4])"
      ]
     },
     "execution_count": 181,
     "metadata": {},
     "output_type": "execute_result"
    }
   ],
   "source": [
    "calc_correct_output(*generate_game_from_obs(eval_cache_input[354])[:4])"
   ]
  },
  {
   "cell_type": "code",
   "execution_count": 262,
   "metadata": {},
   "outputs": [
    {
     "data": {
      "text/plain": [
       "array([0.66666667, 0.66666667, 0.33333333])"
      ]
     },
     "execution_count": 262,
     "metadata": {},
     "output_type": "execute_result"
    }
   ],
   "source": [
    "game = generate_game_from_obs([sample_inputs[0][100],sample_inputs[1][100]])\n",
    "#game = (game[0], game[1], game[2], game[3], [card(Color.HERZ, Value.NEUN), card(Color.SCHELLN, Value.SIEBEN), card(Color.HERZ, Value.UNTER), card(Color.GRUEN, Value.KOENIG), card(Color.GRUEN, Value.SAU)])\n",
    "calc_correct_output_sample(*game)"
   ]
  },
  {
   "cell_type": "code",
   "execution_count": 263,
   "metadata": {},
   "outputs": [
    {
     "data": {
      "application/vnd.jupyter.widget-view+json": {
       "model_id": "607d26472d6445a1a7cca9e7c2fd8aa6",
       "version_major": 2,
       "version_minor": 0
      },
      "text/html": [
       "<p>Failed to display Jupyter Widget of type <code>FigureCanvasNbAgg</code>.</p>\n",
       "<p>\n",
       "  If you're reading this message in the Jupyter Notebook or JupyterLab Notebook, it may mean\n",
       "  that the widgets JavaScript is still loading. If this message persists, it\n",
       "  likely means that the widgets JavaScript library is either not installed or\n",
       "  not enabled. See the <a href=\"https://ipywidgets.readthedocs.io/en/stable/user_install.html\">Jupyter\n",
       "  Widgets Documentation</a> for setup instructions.\n",
       "</p>\n",
       "<p>\n",
       "  If you're reading this message in another frontend (for example, a static\n",
       "  rendering on GitHub or <a href=\"https://nbviewer.jupyter.org/\">NBViewer</a>),\n",
       "  it may mean that your frontend doesn't currently support widgets.\n",
       "</p>\n"
      ],
      "text/plain": [
       "FigureCanvasNbAgg()"
      ]
     },
     "metadata": {},
     "output_type": "display_data"
    },
    {
     "data": {
      "text/plain": [
       "array([0.21937792, 0.54154378, 0.2390783 ])"
      ]
     },
     "execution_count": 263,
     "metadata": {},
     "output_type": "execute_result"
    }
   ],
   "source": [
    "show_mcts(*game, debug=True, steps=20, use_model=True, tree_path=[], tree_depth=3)"
   ]
  },
  {
   "cell_type": "code",
   "execution_count": 171,
   "metadata": {},
   "outputs": [
    {
     "data": {
      "text/plain": [
       "[array([0.        , 0.        , 1.34194389, 0.        , 0.        ,\n",
       "        0.        , 0.        , 0.        , 0.        , 0.        ,\n",
       "        0.        , 0.        , 0.        , 0.        , 0.83304733,\n",
       "        0.        , 0.        , 0.        , 0.        , 0.        ,\n",
       "        0.82500878, 0.        , 0.        , 0.        , 0.        ,\n",
       "        0.        , 0.        , 0.        , 0.        , 0.        ,\n",
       "        0.        , 0.        ]), array([1.]), 3]"
      ]
     },
     "execution_count": 171,
     "metadata": {},
     "output_type": "execute_result"
    }
   ],
   "source": [
    "k = model.generate_key(generate_input([card(Color.HERZ, Value.ZEHN), card(Color.GRUEN, Value.ACHT), card(Color.EICHEL, Value.OBER)], card(Color.EICHEL, Value.NEUN), 0, 0))\n",
    "model.table[k]"
   ]
  },
  {
   "cell_type": "code",
   "execution_count": 218,
   "metadata": {},
   "outputs": [
    {
     "data": {
      "text/plain": [
       "array([0.3374612, 0.3250058, 0.337533 ])"
      ]
     },
     "execution_count": 218,
     "metadata": {},
     "output_type": "execute_result"
    }
   ],
   "source": [
    "val = []\n",
    "for i in range(1000):\n",
    "    val.append(show_mcts(*generate_game_from_obs(eval_cache_input[212]), steps=20, use_model=True))\n",
    "np.mean(val, 0)\n"
   ]
  },
  {
   "cell_type": "code",
   "execution_count": 113,
   "metadata": {},
   "outputs": [
    {
     "data": {
      "text/plain": [
       "[array([4.5539989e-04, 6.4499147e-04, 6.2959566e-04, 5.4278685e-04,\n",
       "        1.4150019e-03, 4.5420015e-01, 1.5384635e-03, 9.1649400e-04,\n",
       "        1.7755200e-03, 1.5444498e-03, 8.8261435e-04, 7.3095079e-04,\n",
       "        5.2650593e-04, 9.9580095e-04, 1.1090455e-03, 6.0478464e-04,\n",
       "        8.7860849e-04, 2.2552728e-03, 1.6426475e-03, 1.5226839e-03,\n",
       "        5.6466490e-01, 2.0387939e-03, 2.4349622e-03, 1.9592713e-03,\n",
       "        1.3109865e-03, 4.4825173e-04, 5.8681599e-04, 3.4538191e-04,\n",
       "        1.2316451e-03, 8.4385881e-04, 1.8078578e-03, 1.2765919e-03],\n",
       "       dtype=float32), array([0.46111563], dtype=float32)]"
      ]
     },
     "execution_count": 113,
     "metadata": {},
     "output_type": "execute_result"
    }
   ],
   "source": [
    "model.predict_single(generate_input([card(Color.EICHEL, Value.NEUN), card(Color.HERZ, Value.ZEHN)], card(Color.GRUEN, Value.OBER), 2, 1))"
   ]
  },
  {
   "cell_type": "code",
   "execution_count": 285,
   "metadata": {},
   "outputs": [
    {
     "name": "stdout",
     "output_type": "stream",
     "text": [
      "[0.23458585 0.21142988 0.55398427]\n"
     ]
    },
    {
     "name": "stderr",
     "output_type": "stream",
     "text": [
      "/usr/local/lib/python3.6/dist-packages/matplotlib/pyplot.py:528: RuntimeWarning: More than 20 figures have been opened. Figures created through the pyplot interface (`matplotlib.pyplot.figure`) are retained until explicitly closed and may consume too much memory. (To control this warning, see the rcParam `figure.max_open_warning`).\n",
      "  max_open_warning, RuntimeWarning)\n"
     ]
    },
    {
     "data": {
      "application/vnd.jupyter.widget-view+json": {
       "model_id": "65b3d3bcb8ba4c91aac93c2b6afa8aff",
       "version_major": 2,
       "version_minor": 0
      },
      "text/html": [
       "<p>Failed to display Jupyter Widget of type <code>FigureCanvasNbAgg</code>.</p>\n",
       "<p>\n",
       "  If you're reading this message in the Jupyter Notebook or JupyterLab Notebook, it may mean\n",
       "  that the widgets JavaScript is still loading. If this message persists, it\n",
       "  likely means that the widgets JavaScript library is either not installed or\n",
       "  not enabled. See the <a href=\"https://ipywidgets.readthedocs.io/en/stable/user_install.html\">Jupyter\n",
       "  Widgets Documentation</a> for setup instructions.\n",
       "</p>\n",
       "<p>\n",
       "  If you're reading this message in another frontend (for example, a static\n",
       "  rendering on GitHub or <a href=\"https://nbviewer.jupyter.org/\">NBViewer</a>),\n",
       "  it may mean that your frontend doesn't currently support widgets.\n",
       "</p>\n"
      ],
      "text/plain": [
       "FigureCanvasNbAgg()"
      ]
     },
     "metadata": {},
     "output_type": "display_data"
    },
    {
     "data": {
      "text/plain": [
       "array([0., 0., 1.])"
      ]
     },
     "execution_count": 285,
     "metadata": {},
     "output_type": "execute_result"
    }
   ],
   "source": [
    "calc_correct_output_sample([\n",
    "            card(Color.GRUEN, Value.SIEBEN), \n",
    "            card(Color.GRUEN, Value.OBER), \n",
    "            card(Color.SCHELLN, Value.NEUN)\n",
    "        ], None, 2, 0)"
   ]
  },
  {
   "cell_type": "code",
   "execution_count": 255,
   "metadata": {},
   "outputs": [
    {
     "name": "stdout",
     "output_type": "stream",
     "text": [
      "[0.39571235 0.33549584 0.26879181]\n"
     ]
    },
    {
     "name": "stderr",
     "output_type": "stream",
     "text": [
      "/usr/local/lib/python3.6/dist-packages/matplotlib/pyplot.py:528: RuntimeWarning: More than 20 figures have been opened. Figures created through the pyplot interface (`matplotlib.pyplot.figure`) are retained until explicitly closed and may consume too much memory. (To control this warning, see the rcParam `figure.max_open_warning`).\n",
      "  max_open_warning, RuntimeWarning)\n"
     ]
    },
    {
     "data": {
      "application/vnd.jupyter.widget-view+json": {
       "model_id": "5c25950c878f4bcdb66c09a724db89d1",
       "version_major": 2,
       "version_minor": 0
      },
      "text/html": [
       "<p>Failed to display Jupyter Widget of type <code>FigureCanvasNbAgg</code>.</p>\n",
       "<p>\n",
       "  If you're reading this message in the Jupyter Notebook or JupyterLab Notebook, it may mean\n",
       "  that the widgets JavaScript is still loading. If this message persists, it\n",
       "  likely means that the widgets JavaScript library is either not installed or\n",
       "  not enabled. See the <a href=\"https://ipywidgets.readthedocs.io/en/stable/user_install.html\">Jupyter\n",
       "  Widgets Documentation</a> for setup instructions.\n",
       "</p>\n",
       "<p>\n",
       "  If you're reading this message in another frontend (for example, a static\n",
       "  rendering on GitHub or <a href=\"https://nbviewer.jupyter.org/\">NBViewer</a>),\n",
       "  it may mean that your frontend doesn't currently support widgets.\n",
       "</p>\n"
      ],
      "text/plain": [
       "FigureCanvasNbAgg()"
      ]
     },
     "metadata": {},
     "output_type": "display_data"
    },
    {
     "name": "stdout",
     "output_type": "stream",
     "text": [
      "[0.00219368 0.00295891 0.00492629 0.00228125 0.00067742 0.0019176\n",
      " 0.00160495 0.00306738 0.00170262 0.2736106  0.00104753 0.00065809\n",
      " 0.00124946 0.00122479 0.00083221 0.34336203 0.00157421 0.35396522\n",
      " 0.0022292  0.00107221 0.0017584  0.00199055 0.0022874  0.00158446\n",
      " 0.00120892 0.00238398 0.00235519 0.00170699 0.0021641  0.00231255\n",
      " 0.00093804 0.00114301] [0. 0. 0.]\n",
      "Color.GRUEN Value.SIEBEN => 0.34336203 (0.0)\n",
      "Color.GRUEN Value.KOENIG => 0.2736106 (0.0)\n",
      "Color.HERZ Value.KOENIG => 0.35396522 (0.0)\n"
     ]
    }
   ],
   "source": [
    "predict([\n",
    "            card(Color.GRUEN, Value.SIEBEN), \n",
    "            card(Color.GRUEN, Value.KOENIG),\n",
    "            card(Color.HERZ, Value.KOENIG)\n",
    "        ], card(Color.EICHEL, Value.ZEHN), 1, 1)"
   ]
  },
  {
   "cell_type": "code",
   "execution_count": 257,
   "metadata": {
    "scrolled": false
   },
   "outputs": [
    {
     "name": "stdout",
     "output_type": "stream",
     "text": [
      "[0.16209546 0.29126847 0.14643211 0.25181529 0.14838867]\n"
     ]
    },
    {
     "name": "stderr",
     "output_type": "stream",
     "text": [
      "/usr/local/lib/python3.6/dist-packages/matplotlib/pyplot.py:528: RuntimeWarning: More than 20 figures have been opened. Figures created through the pyplot interface (`matplotlib.pyplot.figure`) are retained until explicitly closed and may consume too much memory. (To control this warning, see the rcParam `figure.max_open_warning`).\n",
      "  max_open_warning, RuntimeWarning)\n"
     ]
    },
    {
     "data": {
      "application/vnd.jupyter.widget-view+json": {
       "model_id": "e0fadc46a24e47d9b027a940dafbc2ac",
       "version_major": 2,
       "version_minor": 0
      },
      "text/html": [
       "<p>Failed to display Jupyter Widget of type <code>FigureCanvasNbAgg</code>.</p>\n",
       "<p>\n",
       "  If you're reading this message in the Jupyter Notebook or JupyterLab Notebook, it may mean\n",
       "  that the widgets JavaScript is still loading. If this message persists, it\n",
       "  likely means that the widgets JavaScript library is either not installed or\n",
       "  not enabled. See the <a href=\"https://ipywidgets.readthedocs.io/en/stable/user_install.html\">Jupyter\n",
       "  Widgets Documentation</a> for setup instructions.\n",
       "</p>\n",
       "<p>\n",
       "  If you're reading this message in another frontend (for example, a static\n",
       "  rendering on GitHub or <a href=\"https://nbviewer.jupyter.org/\">NBViewer</a>),\n",
       "  it may mean that your frontend doesn't currently support widgets.\n",
       "</p>\n"
      ],
      "text/plain": [
       "FigureCanvasNbAgg()"
      ]
     },
     "metadata": {},
     "output_type": "display_data"
    },
    {
     "name": "stdout",
     "output_type": "stream",
     "text": [
      "[0.00225554 0.12882802 0.00333104 0.16498454 0.00407682 0.00374047\n",
      " 0.00184983 0.01050379 0.00643561 0.36693758 0.00278587 0.00835195\n",
      " 0.22336954 0.00493929 0.00303816 0.00170397 0.00097518 0.0054345\n",
      " 0.00415214 0.00438484 0.00151944 0.00706366 0.00218979 0.21273391\n",
      " 0.0010833  0.00248363 0.00400397 0.00299505 0.00209963 0.00448016\n",
      " 0.00377667 0.00315689] [0. 1. 0. 1. 1.]\n",
      "Color.EICHEL Value.UNTER => 0.16498454 (0.0)\n",
      "Color.GRUEN Value.KOENIG => 0.36693758 (1.0)\n",
      "Color.EICHEL Value.KOENIG => 0.12882802 (0.0)\n",
      "Color.HERZ Value.SIEBEN => 0.21273391 (1.0)\n",
      "Color.GRUEN Value.ZEHN => 0.22336954 (1.0)\n"
     ]
    }
   ],
   "source": [
    "predict([\n",
    "    card(Color.EICHEL, Value.UNTER), \n",
    "    card(Color.GRUEN, Value.KOENIG),\n",
    "    card(Color.EICHEL, Value.KOENIG),\n",
    "    card(Color.HERZ, Value.SIEBEN),\n",
    "    card(Color.GRUEN, Value.ZEHN),\n",
    "    ],card(Color.GRUEN, Value.OBER), 0, 0)"
   ]
  },
  {
   "cell_type": "code",
   "execution_count": 261,
   "metadata": {},
   "outputs": [
    {
     "name": "stdout",
     "output_type": "stream",
     "text": [
      "[0.28631919 0.15695597 0.25385176 0.14562401 0.15724907]\n"
     ]
    },
    {
     "name": "stderr",
     "output_type": "stream",
     "text": [
      "/usr/local/lib/python3.6/dist-packages/matplotlib/pyplot.py:528: RuntimeWarning: More than 20 figures have been opened. Figures created through the pyplot interface (`matplotlib.pyplot.figure`) are retained until explicitly closed and may consume too much memory. (To control this warning, see the rcParam `figure.max_open_warning`).\n",
      "  max_open_warning, RuntimeWarning)\n"
     ]
    },
    {
     "data": {
      "application/vnd.jupyter.widget-view+json": {
       "model_id": "4a5c8e7ee194479d8d7689e6013e33cc",
       "version_major": 2,
       "version_minor": 0
      },
      "text/html": [
       "<p>Failed to display Jupyter Widget of type <code>FigureCanvasNbAgg</code>.</p>\n",
       "<p>\n",
       "  If you're reading this message in the Jupyter Notebook or JupyterLab Notebook, it may mean\n",
       "  that the widgets JavaScript is still loading. If this message persists, it\n",
       "  likely means that the widgets JavaScript library is either not installed or\n",
       "  not enabled. See the <a href=\"https://ipywidgets.readthedocs.io/en/stable/user_install.html\">Jupyter\n",
       "  Widgets Documentation</a> for setup instructions.\n",
       "</p>\n",
       "<p>\n",
       "  If you're reading this message in another frontend (for example, a static\n",
       "  rendering on GitHub or <a href=\"https://nbviewer.jupyter.org/\">NBViewer</a>),\n",
       "  it may mean that your frontend doesn't currently support widgets.\n",
       "</p>\n"
      ],
      "text/plain": [
       "FigureCanvasNbAgg()"
      ]
     },
     "metadata": {},
     "output_type": "display_data"
    },
    {
     "name": "stdout",
     "output_type": "stream",
     "text": [
      "[0.21805565 0.00234719 0.00126939 0.00292074 0.00098915 0.00168285\n",
      " 0.00176553 0.00741228 0.00306193 0.20693102 0.00235981 0.17444488\n",
      " 0.00192268 0.00234325 0.00263577 0.00079589 0.00064911 0.00227424\n",
      " 0.00357403 0.00439737 0.00371622 0.00286246 0.19036686 0.19911051\n",
      " 0.00340857 0.0075426  0.0011064  0.00157739 0.00197756 0.00082587\n",
      " 0.00150106 0.00150635] [0. 0. 0. 0. 0.]\n",
      "Color.HERZ Value.SIEBEN => 0.19911051 (0.0)\n",
      "Color.GRUEN Value.KOENIG => 0.20693102 (0.0)\n",
      "Color.HERZ Value.ACHT => 0.19036686 (0.0)\n",
      "Color.EICHEL Value.SAU => 0.21805565 (0.0)\n",
      "Color.GRUEN Value.UNTER => 0.17444488 (0.0)\n"
     ]
    }
   ],
   "source": [
    "predict([\n",
    "    card(Color.HERZ, Value.SIEBEN), \n",
    "    card(Color.GRUEN, Value.KOENIG),\n",
    "    card(Color.HERZ, Value.ACHT),\n",
    "    card(Color.EICHEL, Value.SAU),\n",
    "    card(Color.GRUEN, Value.UNTER),\n",
    "    ],card(Color.SCHELLN, Value.OBER), 0, 0)"
   ]
  },
  {
   "cell_type": "code",
   "execution_count": 395,
   "metadata": {},
   "outputs": [
    {
     "data": {
      "text/plain": [
       "[array([3.2768894e-03, 1.9878964e-01, 1.3820220e-02, 4.6424335e-01,\n",
       "        7.1053780e-03, 2.9274071e-02, 8.1222923e-03, 5.4989127e-04,\n",
       "        8.0019347e-03, 4.3923180e-03, 4.0565468e-03, 3.2476720e-03,\n",
       "        2.0850727e-01, 4.3509626e-03, 5.9748022e-03, 6.1062318e-03,\n",
       "        1.3822509e-03, 2.1725877e-04, 1.3098384e-03, 7.1340741e-04,\n",
       "        2.0487478e-03, 3.3812402e-03, 1.0878793e-04, 7.3019944e-02,\n",
       "        3.4260689e-03, 2.7179192e-03, 1.3691070e-03, 6.1381124e-03,\n",
       "        4.5132274e-03, 4.4453251e-03, 2.2470709e-03, 4.3023235e-04],\n",
       "       dtype=float32), array([0.5526783], dtype=float32)]"
      ]
     },
     "execution_count": 395,
     "metadata": {},
     "output_type": "execute_result"
    }
   ],
   "source": [
    "hard_input = generate_input([\n",
    "    card(Color.EICHEL, Value.UNTER), \n",
    "    #card(Color.GRUEN, Value.KOENIG),\n",
    "    card(Color.EICHEL, Value.KOENIG),\n",
    "    card(Color.HERZ, Value.SIEBEN),\n",
    "    card(Color.GRUEN, Value.ZEHN),\n",
    "    ],None, 1, 0)\n",
    "model.predict_single(hard_input)"
   ]
  },
  {
   "cell_type": "code",
   "execution_count": null,
   "metadata": {},
   "outputs": [],
   "source": [
    "for sample_input in sample_inputs[0]:\n",
    "    if np.array_equal(sample_input,hard_input[0]):\n",
    "        print(\"test\")"
   ]
  },
  {
   "cell_type": "code",
   "execution_count": 80,
   "metadata": {},
   "outputs": [
    {
     "data": {
      "text/plain": [
       "0.48"
      ]
     },
     "execution_count": 80,
     "metadata": {},
     "output_type": "execute_result"
    }
   ],
   "source": [
    "compare(model, None)"
   ]
  },
  {
   "cell_type": "code",
   "execution_count": 72,
   "metadata": {},
   "outputs": [
    {
     "name": "stdout",
     "output_type": "stream",
     "text": [
      "[0. 0. 1. 0. 0.]\n",
      "[1. 1. 0. 1.]\n",
      "[1. 1. 0.]\n",
      "[1. 0.]\n",
      "[1.]\n"
     ]
    },
    {
     "data": {
      "text/plain": [
       "1"
      ]
     },
     "execution_count": 72,
     "metadata": {},
     "output_type": "execute_result"
    }
   ],
   "source": [
    "match([model, None], True)"
   ]
  },
  {
   "cell_type": "code",
   "execution_count": null,
   "metadata": {},
   "outputs": [],
   "source": []
  }
 ],
 "metadata": {
  "kernelspec": {
   "display_name": "Python 3",
   "language": "python",
   "name": "python3"
  },
  "language_info": {
   "codemirror_mode": {
    "name": "ipython",
    "version": 3
   },
   "file_extension": ".py",
   "mimetype": "text/x-python",
   "name": "python",
   "nbconvert_exporter": "python",
   "pygments_lexer": "ipython3",
   "version": "3.6.3"
  }
 },
 "nbformat": 4,
 "nbformat_minor": 2
}
