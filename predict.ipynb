{
 "cells": [
  {
   "cell_type": "markdown",
   "metadata": {},
   "source": [
    "# Predict"
   ]
  },
  {
   "cell_type": "code",
   "execution_count": 10,
   "metadata": {
    "slideshow": {
     "slide_type": "skip"
    }
   },
   "outputs": [],
   "source": [
    "def generate_input(hand_cards, table_card=None, own_tricks=0, opponent_tricks=0, opponent_hand_cards=None):\n",
    "    obs = [np.zeros([4, 8, 2]), np.zeros([4])]\n",
    "    \n",
    "    for card in hand_cards:\n",
    "        obs[0][card.color.value][card.value.value][0] = 1\n",
    "        \n",
    "    if table_card is not None:\n",
    "        obs[0][table_card.color.value][table_card.value.value][1] = 1\n",
    "\n",
    "    obs[1][0] = (own_tricks == 1 or own_tricks == 3)\n",
    "    obs[1][1] = (own_tricks == 2 or own_tricks == 3)\n",
    "\n",
    "    obs[1][2] = (opponent_tricks == 1 or opponent_tricks == 3)\n",
    "    obs[1][3] = (opponent_tricks == 2 or opponent_tricks == 3)\n",
    "    \n",
    "    return obs"
   ]
  },
  {
   "cell_type": "code",
   "execution_count": 11,
   "metadata": {
    "slideshow": {
     "slide_type": "slide"
    }
   },
   "outputs": [],
   "source": [
    "def card(color, value):\n",
    "    for card in env.cards:\n",
    "        if card.value == value and card.color == color:\n",
    "            return card \n",
    "        \n",
    "    return None"
   ]
  },
  {
   "cell_type": "code",
   "execution_count": 12,
   "metadata": {},
   "outputs": [],
   "source": [
    "def set_env(hand_cards, table_card=None, own_tricks=0, opponent_tricks=0, opponent_hand_cards=None):\n",
    "    env.reset()\n",
    "    env.cards_left = env.cards[:]\n",
    "    random.shuffle(env.cards_left)\n",
    "    \n",
    "    for card in hand_cards:\n",
    "        env.cards_left.remove(card)\n",
    "    env.players[0].hand_cards = hand_cards[:]\n",
    "        \n",
    "    if opponent_hand_cards is None:\n",
    "        env.players[1].hand_cards = []\n",
    "        for i in range(len(hand_cards) - (1 if table_card is not None else 0)):\n",
    "            env.players[1].hand_cards.append(env.cards_left.pop())      \n",
    "    else:        \n",
    "        for card in opponent_hand_cards:\n",
    "            env.cards_left.remove(card)\n",
    "        env.players[1].hand_cards = opponent_hand_cards[:]\n",
    "    \n",
    "    env.players[0].tricks = own_tricks\n",
    "    env.players[1].tricks = opponent_tricks\n",
    "    env.table_card = table_card\n",
    "    \n",
    "\n",
    "def calc_correct_output_sample(hand_cards, table_card=None, own_tricks=0, opponent_tricks=0, opponent_hand_cards=None):\n",
    "    global sample_outputs\n",
    "    \n",
    "    set_env(hand_cards, table_card, own_tricks, opponent_tricks, opponent_hand_cards)\n",
    "    \n",
    "    #root = State(1, env.get_state(), env.current_player)\n",
    "    #a, p = mcts_game_step(root, 100)\n",
    "   # env.set_state(root.env_state)\n",
    "   # print(p)\n",
    "    #draw_tree(root)\n",
    "    #print(\"\")\n",
    "    #draw_path(root)\n",
    "    #obs, rew, is_done, _ = env.step(hand_cards[0].id)\n",
    "   # print(rew, is_done)\n",
    "\n",
    "    #env.render('human')\n",
    "    #root = State(1, env.get_state())\n",
    "    #a, p = mcts_game_step(root, 1000, False)\n",
    "    #draw_tree(root)\n",
    "    #print(\"\")\n",
    "    #draw_tree(root.childs[0])\n",
    "    \n",
    "    #draw_path(root)\n",
    "    #reset_samples(1)\n",
    "    p = search(env.regenerate_obs())[1]\n",
    "    #postprocess_samples()\n",
    "        \n",
    "    return p#sample_outputs[0]\n",
    "\n",
    "def show_mcts(hand_cards, table_card=None, own_tricks=0, opponent_tricks=0, opponent_hand_cards=None, tree_depth=5, tree_path=[], steps=100, debug=False, use_model=True):\n",
    "    set_env(hand_cards, table_card, own_tricks, opponent_tricks, opponent_hand_cards)\n",
    "    if debug:\n",
    "        env.render('human')\n",
    "    root = State(1, env.get_state(), env.current_player)\n",
    "    a, p = mcts_game_step(root, steps, use_model=use_model)\n",
    "    env.set_state(root.env_state)\n",
    "    if debug:\n",
    "        draw_tree(root, tree_depth, tree_path)\n",
    "    return p"
   ]
  },
  {
   "cell_type": "code",
   "execution_count": 13,
   "metadata": {
    "code_folding": [
     0
    ]
   },
   "outputs": [],
   "source": [
    "def calc_correct_output(hand_cards, table_card=None, own_tricks=0, opponent_tricks=0):    \n",
    "    correct_output = None\n",
    "    for i in range(100):\n",
    "        sample_outputs = calc_correct_output_sample(hand_cards, table_card, own_tricks, opponent_tricks)\n",
    "        if correct_output is None:\n",
    "            correct_output = sample_outputs\n",
    "        else:\n",
    "            correct_output += sample_outputs\n",
    "    return correct_output / 100"
   ]
  },
  {
   "cell_type": "code",
   "execution_count": 14,
   "metadata": {
    "code_folding": [
     0
    ]
   },
   "outputs": [],
   "source": [
    "def predict(hand_cards, table_card=None, own_tricks=0, opponent_tricks=0):\n",
    "    input = generate_input(hand_cards, table_card, own_tricks, opponent_tricks)\n",
    "    output = model.predict_single(input)[0]\n",
    "    correct_output = calc_correct_output_sample(hand_cards, table_card, own_tricks, opponent_tricks)\n",
    "    print(output,correct_output)\n",
    "    id = 0\n",
    "    for card in hand_cards:\n",
    "        print(str(card.color) + \" \" + str(card.value) + \" => \" + str(output[card.id]) + \" (\" + str(correct_output[id]) + \")\")\n",
    "        id += 1"
   ]
  },
  {
   "cell_type": "code",
   "execution_count": 82,
   "metadata": {
    "code_folding": [
     0,
     21
    ]
   },
   "outputs": [],
   "source": [
    "def generate_random_game():\n",
    "    own_tricks = random.randint(0, 1)\n",
    "    opponent_tricks = random.randint(0, 1)\n",
    "    if opponent_tricks == 0 and own_tricks == 1:\n",
    "        table_card_enabled = 0\n",
    "    elif opponent_tricks == 1 and own_tricks == 0:\n",
    "        table_card_enabled = 1\n",
    "    else:        \n",
    "        table_card_enabled = random.randint(0, 1)\n",
    "        \n",
    "    hand_cards = random.sample(env.cards, (5 - own_tricks - opponent_tricks) * 2)\n",
    "    table_card = hand_cards.pop() if table_card_enabled else None\n",
    "    \n",
    "    opponent_hand_cards = []\n",
    "    for i in range(len(hand_cards) // 2):\n",
    "        opponent_hand_cards.append(hand_cards.pop())\n",
    "        \n",
    "    return hand_cards, table_card, own_tricks, opponent_tricks, opponent_hand_cards\n",
    "\n",
    "def generate_game_from_obs(obs):\n",
    "    own_tricks = 0\n",
    "    if obs[1][0]:\n",
    "        own_tricks += 1\n",
    "    if obs[1][1]:\n",
    "        own_tricks += 2   \n",
    "        \n",
    "    opponent_tricks = 0\n",
    "    if obs[1][2]:\n",
    "        opponent_tricks += 1\n",
    "    if obs[1][3]:\n",
    "        opponent_tricks += 2    \n",
    "        \n",
    "    cards_left = env.cards[:]\n",
    "    random.shuffle(cards_left)\n",
    "    hand_cards = []\n",
    "    table_card = None\n",
    "    for c in Color:\n",
    "        for v in Value: \n",
    "            if obs[0][c.value][v.value][0]:\n",
    "                hand_cards.append(card(c, v))\n",
    "                cards_left.remove(hand_cards[-1])\n",
    "            if obs[0][c.value][v.value][1]:\n",
    "                table_card = card(c, v)\n",
    "                cards_left.remove(table_card)\n",
    "    \n",
    "    opponent_hand_cards = []\n",
    "    for i in range(5 - own_tricks - opponent_tricks - (1 if table_card is not None else 0)):\n",
    "        opponent_hand_cards.append(cards_left.pop())\n",
    "        \n",
    "    return hand_cards, table_card, own_tricks, opponent_tricks, opponent_hand_cards\n",
    "\n",
    "def create_eval_cache():\n",
    "    eval_cache_input = []\n",
    "    eval_cache_output = []\n",
    "    for i in range(1000):\n",
    "        game = generate_random_game()\n",
    "        hand_cards = game[0]\n",
    "        eval_cache_input.append(generate_input(*game))\n",
    "        output = calc_correct_output(*game[:4])\n",
    "        \n",
    "        outputs_per_card = np.zeros((32,))\n",
    "        for i in range(len(hand_cards)):\n",
    "            outputs_per_card[hand_cards[i].id] = output[i]\n",
    "            \n",
    "        eval_cache_output.append(outputs_per_card)\n",
    "        \n",
    "    return eval_cache_input, eval_cache_output\n",
    "        \n",
    "def eval(model, eval_cache_input, eval_cache_output, debug=False):\n",
    "    correct = 0\n",
    "    for i in range(len(eval_cache_input)):\n",
    "\n",
    "        output = model.predict_single(eval_cache_input[i])[0]\n",
    "        correct_output = eval_cache_output[i]\n",
    "                    \n",
    "        correct += correct_output[np.argmax(output)] == correct_output[np.argmax(correct_output)]\n",
    "        if debug and correct_output[np.argmax(output)] != correct_output[np.argmax(correct_output)]:\n",
    "            print(i, correct_output[np.argmax(output)], correct_output[np.argmax(correct_output)])\n",
    "            \n",
    "    return correct / len(eval_cache_input)\n"
   ]
  },
  {
   "cell_type": "code",
   "execution_count": 35,
   "metadata": {},
   "outputs": [],
   "source": [
    "eval_cache_input, eval_cache_output = create_eval_cache()"
   ]
  },
  {
   "cell_type": "code",
   "execution_count": 20,
   "metadata": {},
   "outputs": [],
   "source": [
    "with open('eval_cache_2s', 'wb') as fp:\n",
    "    pickle.dump([eval_cache_input, eval_cache_output], fp)"
   ]
  },
  {
   "cell_type": "code",
   "execution_count": 16,
   "metadata": {},
   "outputs": [],
   "source": [
    "with open ('eval_cache_2s', 'rb') as fp:\n",
    "    eval_cache_input, eval_cache_output = pickle.load(fp)"
   ]
  },
  {
   "cell_type": "code",
   "execution_count": 95,
   "metadata": {},
   "outputs": [
    {
     "name": "stdout",
     "output_type": "stream",
     "text": [
      "3 0.9599999999999999 0.9616666666666666\n",
      "12 0.8708333333333339 0.8741666666666673\n",
      "15 0.9591666666666667 0.9708333333333333\n",
      "19 0.8583333333333333 0.9316666666666665\n",
      "20 0.986 0.9991666666666668\n",
      "26 0.9741666666666668 0.9956666666666668\n",
      "31 0.921166666666667 0.9433333333333337\n",
      "36 0.7914999999999998 0.8590000000000003\n",
      "37 0.9341666666666667 0.9558333333333334\n",
      "45 0.9756666666666668 0.9781666666666665\n",
      "59 0.6841666666666667 0.7408333333333331\n",
      "61 0.9275000000000001 0.9366666666666668\n",
      "72 0.5006666666666668 0.5809999999999998\n",
      "92 0.9575000000000002 0.9641666666666668\n",
      "96 0.9000000000000001 0.9366666666666669\n",
      "107 0.9266666666666665 0.9508333333333335\n",
      "122 0.9216666666666665 0.935\n",
      "124 0.5941666666666665 0.6083333333333332\n",
      "126 0.5866666666666663 0.6366666666666664\n",
      "131 0.5933333333333333 0.5999999999999998\n",
      "132 0.9966666666666667 0.9975\n",
      "135 0.9763333333333335 0.987\n",
      "150 0.8973333333333333 0.9023333333333332\n",
      "160 0.9358333333333334 0.9741666666666668\n",
      "161 0.4803333333333332 0.4803333333333334\n",
      "176 0.7108333333333335 0.7233333333333334\n",
      "179 0.9824999999999998 0.9924999999999998\n",
      "181 0.9766666666666667 0.9850000000000001\n",
      "189 0.9301666666666668 0.9783333333333336\n",
      "190 0.89 0.9200000000000002\n",
      "191 0.650666666666667 0.8133333333333335\n",
      "193 0.8555000000000001 0.8726666666666669\n",
      "199 0.665 0.7133333333333333\n",
      "214 0.995 0.9975000000000002\n",
      "218 0.9358333333333332 0.9741666666666668\n",
      "225 0.5575 0.5766666666666668\n",
      "226 0.9366666666666669 0.9499999999999996\n",
      "227 0.5566666666666665 0.5874999999999999\n",
      "229 0.4553333333333333 0.4755000000000001\n",
      "230 0.975 0.9841666666666669\n",
      "233 0.24083333333333326 0.25749999999999995\n",
      "235 0.7716666666666666 0.7749999999999999\n",
      "243 0.7485000000000003 0.7948333333333337\n",
      "248 0.6946666666666669 0.7211666666666667\n",
      "250 0.9745000000000001 0.9976666666666667\n",
      "255 0.6766666666666665 0.6899999999999998\n",
      "258 0.7958333333333334 0.9058333333333332\n",
      "259 0.6600000000000001 0.7366666666666668\n",
      "261 0.11000000000000004 0.15666666666666665\n",
      "262 0.995 0.9975\n",
      "266 0.9641666666666666 0.9900000000000001\n",
      "268 0.8374999999999996 0.9433333333333337\n",
      "269 0.9875 0.9950000000000001\n",
      "272 0.8683333333333333 0.934166666666667\n",
      "284 0.8983333333333331 0.8991666666666664\n",
      "293 0.7713333333333335 0.7865000000000002\n",
      "297 0.8666666666666668 0.8668333333333333\n",
      "309 0.9341666666666666 0.9633333333333336\n",
      "318 0.9558333333333331 0.9700000000000002\n",
      "320 0.6433333333333331 0.74\n",
      "321 0.7921666666666667 0.8186666666666669\n",
      "323 0.828333333333333 0.9100000000000005\n",
      "324 0.8441666666666666 0.9450000000000002\n",
      "345 0.9283333333333331 0.9586666666666668\n",
      "350 0.8975 0.9333333333333331\n",
      "354 0.6891666666666666 0.7041666666666666\n",
      "369 0.6783333333333332 0.6908333333333333\n",
      "376 0.5253333333333335 0.525666666666667\n",
      "383 0.842833333333333 0.8456666666666667\n",
      "387 0.7566666666666666 0.8908333333333331\n",
      "388 0.7468333333333338 0.7765000000000003\n",
      "389 0.7155000000000002 0.7496666666666669\n",
      "390 0.6391666666666664 0.6850000000000002\n",
      "391 0.7008333333333334 0.7316666666666667\n",
      "396 0.8716666666666667 0.9308333333333334\n",
      "397 0.67 0.7108333333333333\n",
      "403 0.4935000000000002 0.494666666666667\n",
      "417 0.9816666666666667 0.9825000000000002\n",
      "419 0.8386666666666671 0.8528333333333336\n",
      "421 0.9675 0.9899999999999999\n",
      "425 0.9788333333333332 0.9843333333333334\n",
      "428 0.4266666666666666 0.5033333333333335\n",
      "431 0.7990000000000004 0.8295\n",
      "437 0.6830000000000002 0.7543333333333335\n",
      "442 0.8818333333333335 0.9076666666666665\n",
      "446 0.67 0.7275000000000001\n",
      "455 0.7325 0.8141666666666667\n",
      "456 0.9666666666666666 0.99\n",
      "460 0.5466666666666665 0.5866666666666664\n",
      "463 0.5391666666666669 0.6874999999999999\n",
      "472 0.9341666666666665 0.9566666666666669\n",
      "474 0.9449999999999998 0.9666666666666669\n",
      "484 0.802666666666667 0.8048333333333336\n",
      "493 0.39166666666666666 0.40416666666666673\n",
      "495 0.9113333333333332 0.9328333333333332\n",
      "497 0.49599999999999994 0.7084999999999999\n",
      "500 0.6616666666666664 0.7383333333333333\n",
      "502 0.9966666666666667 1.0\n",
      "507 0.97 0.9700000000000002\n",
      "512 0.9725000000000003 0.9816666666666669\n",
      "515 0.9383333333333335 0.9633333333333334\n",
      "527 0.7541666666666668 0.7608333333333331\n",
      "529 0.5499999999999998 0.5766666666666667\n",
      "532 0.6358333333333333 0.775\n",
      "545 0.8768333333333338 0.8805000000000005\n",
      "548 0.5658333333333332 0.6683333333333331\n",
      "553 0.8928333333333336 0.9036666666666665\n",
      "557 0.9816666666666666 0.9908333333333335\n",
      "565 0.5571666666666669 0.5748333333333335\n",
      "569 0.9566666666666666 0.9666666666666667\n",
      "571 0.7408333333333332 0.7891666666666667\n",
      "572 0.76 0.7900000000000001\n",
      "573 0.9866666666666667 0.9908333333333335\n",
      "578 0.8215000000000002 0.8305000000000003\n",
      "599 0.6366666666666664 0.8133333333333336\n",
      "603 0.9298333333333335 0.9473333333333338\n",
      "605 0.9526666666666672 0.9670000000000001\n",
      "618 0.9580000000000005 0.9973333333333333\n",
      "622 0.9516666666666667 0.9616666666666664\n",
      "624 0.9416666666666668 0.9583333333333335\n",
      "625 0.8316666666666669 0.8615000000000002\n",
      "640 0.9913333333333334 0.9996666666666667\n",
      "646 0.9375000000000001 0.9608333333333334\n",
      "647 0.913333333333333 0.9258333333333333\n",
      "653 0.9649999999999999 0.9891666666666669\n",
      "657 0.9575000000000001 0.9708333333333335\n",
      "663 0.99 0.9941666666666665\n",
      "666 0.3326666666666668 0.41916666666666663\n",
      "669 0.8900000000000001 0.9474999999999997\n",
      "670 0.5333333333333332 0.655\n",
      "672 0.673333333333333 0.7266666666666667\n",
      "679 0.9711666666666667 0.9916666666666668\n",
      "688 0.8724999999999998 0.8816666666666664\n",
      "716 0.854166666666667 0.8568333333333333\n",
      "729 0.8051666666666669 0.8083333333333337\n",
      "747 0.9799999999999999 0.9900000000000001\n",
      "756 0.8316666666666669 0.9316666666666665\n",
      "757 0.995 0.9975\n",
      "766 0.8458333333333337 0.9333333333333339\n",
      "773 0.8733333333333334 0.9366666666666669\n",
      "775 0.9841666666666667 0.99\n",
      "782 0.9915000000000002 0.9993333333333334\n",
      "786 0.9558333333333334 0.9666666666666669\n",
      "790 0.8550000000000001 0.884166666666667\n",
      "793 0.8111666666666671 0.8158333333333337\n",
      "796 0.9383333333333331 0.9608333333333333\n",
      "797 0.7941666666666667 0.8874999999999997\n",
      "798 0.9658333333333333 0.9725000000000001\n",
      "800 0.752166666666667 0.7851666666666669\n",
      "807 0.7933333333333333 0.856666666666667\n",
      "818 0.5128333333333333 0.5148333333333333\n",
      "829 0.8375000000000002 0.9058333333333338\n",
      "830 0.9675 0.9716666666666669\n",
      "845 0.53 0.6066666666666664\n",
      "847 0.9058333333333334 0.9383333333333331\n",
      "848 0.7191666666666667 0.7416666666666667\n",
      "857 0.6966666666666665 0.8033333333333335\n",
      "862 0.885 0.9425\n",
      "863 0.9910000000000001 0.9961666666666668\n",
      "866 0.774 0.8630000000000002\n",
      "873 0.8266666666666664 0.9341666666666667\n",
      "875 0.9733333333333334 1.0\n",
      "876 0.7525 0.8650000000000004\n",
      "894 0.965 0.9825000000000002\n",
      "906 0.8930000000000003 0.9030000000000006\n",
      "915 0.917 0.9686666666666669\n",
      "916 0.8826666666666668 0.9208333333333334\n",
      "924 0.8441666666666666 0.924166666666667\n",
      "926 0.9449999999999997 0.9783333333333337\n",
      "929 0.8366666666666667 0.8539999999999999\n",
      "930 0.8858333333333335 0.9343333333333331\n",
      "932 0.3838333333333334 0.4016666666666668\n",
      "940 0.9641666666666664 0.9699999999999998\n",
      "957 0.9124999999999999 0.9433333333333335\n",
      "965 0.7626666666666669 0.7880000000000004\n",
      "973 0.9966666666666667 0.9983333333333333\n",
      "978 0.8128333333333339 0.8400000000000002\n",
      "988 0.9755000000000001 0.9776666666666667\n",
      "995 0.833166666666667 0.8526666666666669\n"
     ]
    },
    {
     "data": {
      "text/plain": [
       "0.821"
      ]
     },
     "execution_count": 95,
     "metadata": {},
     "output_type": "execute_result"
    }
   ],
   "source": [
    "eval(model, eval_cache_input, eval_cache_output, debug=True)"
   ]
  },
  {
   "cell_type": "code",
   "execution_count": 96,
   "metadata": {},
   "outputs": [
    {
     "data": {
      "text/plain": [
       "[array([[[0., 0.],\n",
       "         [0., 0.],\n",
       "         [0., 0.],\n",
       "         [0., 0.],\n",
       "         [1., 0.],\n",
       "         [0., 0.],\n",
       "         [0., 0.],\n",
       "         [1., 0.]],\n",
       " \n",
       "        [[0., 0.],\n",
       "         [0., 0.],\n",
       "         [0., 0.],\n",
       "         [0., 0.],\n",
       "         [0., 0.],\n",
       "         [0., 0.],\n",
       "         [0., 0.],\n",
       "         [0., 0.]],\n",
       " \n",
       "        [[0., 0.],\n",
       "         [0., 0.],\n",
       "         [0., 0.],\n",
       "         [0., 0.],\n",
       "         [0., 0.],\n",
       "         [0., 0.],\n",
       "         [0., 0.],\n",
       "         [1., 0.]],\n",
       " \n",
       "        [[0., 0.],\n",
       "         [0., 0.],\n",
       "         [0., 0.],\n",
       "         [1., 0.],\n",
       "         [0., 0.],\n",
       "         [0., 0.],\n",
       "         [0., 0.],\n",
       "         [1., 0.]]]), array([0., 0., 0., 0.])]"
      ]
     },
     "execution_count": 96,
     "metadata": {},
     "output_type": "execute_result"
    }
   ],
   "source": [
    "eval_cache_input[995]"
   ]
  },
  {
   "cell_type": "code",
   "execution_count": 97,
   "metadata": {},
   "outputs": [
    {
     "data": {
      "text/plain": [
       "[array([0.22402522, 0.0067271 , 0.00588513, 0.23101246, 0.00764476,\n",
       "        0.00781489, 0.00870331, 0.00399972, 0.00556417, 0.00516969,\n",
       "        0.00590348, 0.00587669, 0.00616483, 0.00776212, 0.00712784,\n",
       "        0.00712098, 0.21772477, 0.00313235, 0.00379594, 0.00397062,\n",
       "        0.00410782, 0.00333176, 0.00395578, 0.00436028, 0.19952099,\n",
       "        0.00726247, 0.00593026, 0.00756442, 0.21469815, 0.00780109,\n",
       "        0.00720089, 0.00416963], dtype=float32),\n",
       " array([-0.06573161], dtype=float32)]"
      ]
     },
     "execution_count": 97,
     "metadata": {},
     "output_type": "execute_result"
    }
   ],
   "source": [
    "model.predict_single(eval_cache_input[995])"
   ]
  },
  {
   "cell_type": "code",
   "execution_count": 98,
   "metadata": {},
   "outputs": [
    {
     "data": {
      "text/plain": [
       "array([0.85266667, 0.        , 0.        , 0.83316667, 0.        ,\n",
       "       0.        , 0.        , 0.        , 0.        , 0.        ,\n",
       "       0.        , 0.        , 0.        , 0.        , 0.        ,\n",
       "       0.        , 0.71466667, 0.        , 0.        , 0.        ,\n",
       "       0.        , 0.        , 0.        , 0.        , 0.84983333,\n",
       "       0.        , 0.        , 0.        , 0.82733333, 0.        ,\n",
       "       0.        , 0.        ])"
      ]
     },
     "execution_count": 98,
     "metadata": {},
     "output_type": "execute_result"
    }
   ],
   "source": [
    "eval_cache_output[995]"
   ]
  },
  {
   "cell_type": "code",
   "execution_count": 111,
   "metadata": {},
   "outputs": [
    {
     "name": "stdout",
     "output_type": "stream",
     "text": [
      "[0.22402522 0.0067271  0.00588513 0.23101246 0.00764476 0.00781489\n",
      " 0.00870331 0.00399972 0.00556417 0.00516969 0.00590348 0.00587669\n",
      " 0.00616483 0.00776212 0.00712784 0.00712098 0.21772477 0.00313235\n",
      " 0.00379594 0.00397062 0.00410782 0.00333176 0.00395578 0.00436028\n",
      " 0.19952099 0.00726247 0.00593026 0.00756442 0.21469815 0.00780109\n",
      " 0.00720089 0.00416963] [0.81666667 0.81666667 0.56666667 0.81666667 0.81666667]\n",
      "Color.EICHEL Value.SAU => 0.22402522 (0.8166666666666667)\n",
      "Color.EICHEL Value.UNTER => 0.23101246 (0.8166666666666667)\n",
      "Color.HERZ Value.SAU => 0.21772477 (0.5666666666666668)\n",
      "Color.SCHELLN Value.SAU => 0.19952099 (0.8166666666666667)\n",
      "Color.SCHELLN Value.ZEHN => 0.21469815 (0.8166666666666667)\n"
     ]
    }
   ],
   "source": [
    "predict(*generate_game_from_obs(eval_cache_input[995])[:4])"
   ]
  },
  {
   "cell_type": "code",
   "execution_count": 107,
   "metadata": {},
   "outputs": [
    {
     "data": {
      "text/plain": [
       "array([0.9045    , 0.88683333, 0.7825    , 0.901     , 0.875     ])"
      ]
     },
     "execution_count": 107,
     "metadata": {},
     "output_type": "execute_result"
    }
   ],
   "source": [
    "calc_correct_output(*generate_game_from_obs(eval_cache_input[995])[:4])"
   ]
  },
  {
   "cell_type": "code",
   "execution_count": 109,
   "metadata": {},
   "outputs": [
    {
     "data": {
      "text/plain": [
       "array([0.90183333, 0.88916667, 0.7625    , 0.89566667, 0.8745    ])"
      ]
     },
     "execution_count": 109,
     "metadata": {},
     "output_type": "execute_result"
    }
   ],
   "source": [
    "game = generate_game_from_obs(eval_cache_input[995])\n",
    "#game = (game[0], game[1], game[2], game[3], [card(Color.HERZ, Value.NEUN), card(Color.SCHELLN, Value.SIEBEN), card(Color.HERZ, Value.UNTER), card(Color.GRUEN, Value.KOENIG), card(Color.GRUEN, Value.SAU)])\n",
    "calc_correct_output(*game[:4])"
   ]
  },
  {
   "cell_type": "code",
   "execution_count": 138,
   "metadata": {},
   "outputs": [
    {
     "data": {
      "application/vnd.jupyter.widget-view+json": {
       "model_id": "d0725a4429f34118a091960a89168241",
       "version_major": 2,
       "version_minor": 0
      },
      "text/html": [
       "<p>Failed to display Jupyter Widget of type <code>FigureCanvasNbAgg</code>.</p>\n",
       "<p>\n",
       "  If you're reading this message in the Jupyter Notebook or JupyterLab Notebook, it may mean\n",
       "  that the widgets JavaScript is still loading. If this message persists, it\n",
       "  likely means that the widgets JavaScript library is either not installed or\n",
       "  not enabled. See the <a href=\"https://ipywidgets.readthedocs.io/en/stable/user_install.html\">Jupyter\n",
       "  Widgets Documentation</a> for setup instructions.\n",
       "</p>\n",
       "<p>\n",
       "  If you're reading this message in another frontend (for example, a static\n",
       "  rendering on GitHub or <a href=\"https://nbviewer.jupyter.org/\">NBViewer</a>),\n",
       "  it may mean that your frontend doesn't currently support widgets.\n",
       "</p>\n"
      ],
      "text/plain": [
       "FigureCanvasNbAgg()"
      ]
     },
     "metadata": {},
     "output_type": "display_data"
    },
    {
     "data": {
      "text/plain": [
       "array([0.20411219, 0.21127141, 0.17394216, 0.19787739, 0.21279685])"
      ]
     },
     "execution_count": 138,
     "metadata": {},
     "output_type": "execute_result"
    }
   ],
   "source": [
    "show_mcts(*game, debug=True, steps=100, use_model=True, tree_path=[[1,2]], tree_depth=5)"
   ]
  },
  {
   "cell_type": "code",
   "execution_count": 113,
   "metadata": {},
   "outputs": [
    {
     "data": {
      "application/vnd.jupyter.widget-view+json": {
       "model_id": "db0eefc9eb0d468dbac010f0d1a9f01e",
       "version_major": 2,
       "version_minor": 0
      },
      "text/html": [
       "<p>Failed to display Jupyter Widget of type <code>FigureCanvasNbAgg</code>.</p>\n",
       "<p>\n",
       "  If you're reading this message in the Jupyter Notebook or JupyterLab Notebook, it may mean\n",
       "  that the widgets JavaScript is still loading. If this message persists, it\n",
       "  likely means that the widgets JavaScript library is either not installed or\n",
       "  not enabled. See the <a href=\"https://ipywidgets.readthedocs.io/en/stable/user_install.html\">Jupyter\n",
       "  Widgets Documentation</a> for setup instructions.\n",
       "</p>\n",
       "<p>\n",
       "  If you're reading this message in another frontend (for example, a static\n",
       "  rendering on GitHub or <a href=\"https://nbviewer.jupyter.org/\">NBViewer</a>),\n",
       "  it may mean that your frontend doesn't currently support widgets.\n",
       "</p>\n"
      ],
      "text/plain": [
       "FigureCanvasNbAgg()"
      ]
     },
     "metadata": {},
     "output_type": "display_data"
    },
    {
     "data": {
      "text/plain": [
       "array([0.24546589, 0.24546589, 0.25405576, 0.25501246])"
      ]
     },
     "execution_count": 113,
     "metadata": {},
     "output_type": "execute_result"
    }
   ],
   "source": [
    "show_mcts(*generate_game_from_obs(eval_cache_input[0])[:4], debug=True)"
   ]
  },
  {
   "cell_type": "code",
   "execution_count": 139,
   "metadata": {},
   "outputs": [
    {
     "data": {
      "text/plain": [
       "array([0.20183223, 0.1934792 , 0.21676911, 0.19624142, 0.19167803])"
      ]
     },
     "execution_count": 139,
     "metadata": {},
     "output_type": "execute_result"
    }
   ],
   "source": [
    "val = []\n",
    "for i in range(100):\n",
    "    val.append(show_mcts(*generate_game_from_obs(eval_cache_input[995]), steps=100, use_model=True))\n",
    "np.mean(val, 0)\n"
   ]
  },
  {
   "cell_type": "code",
   "execution_count": 113,
   "metadata": {},
   "outputs": [
    {
     "data": {
      "text/plain": [
       "[array([4.5539989e-04, 6.4499147e-04, 6.2959566e-04, 5.4278685e-04,\n",
       "        1.4150019e-03, 4.5420015e-01, 1.5384635e-03, 9.1649400e-04,\n",
       "        1.7755200e-03, 1.5444498e-03, 8.8261435e-04, 7.3095079e-04,\n",
       "        5.2650593e-04, 9.9580095e-04, 1.1090455e-03, 6.0478464e-04,\n",
       "        8.7860849e-04, 2.2552728e-03, 1.6426475e-03, 1.5226839e-03,\n",
       "        5.6466490e-01, 2.0387939e-03, 2.4349622e-03, 1.9592713e-03,\n",
       "        1.3109865e-03, 4.4825173e-04, 5.8681599e-04, 3.4538191e-04,\n",
       "        1.2316451e-03, 8.4385881e-04, 1.8078578e-03, 1.2765919e-03],\n",
       "       dtype=float32), array([0.46111563], dtype=float32)]"
      ]
     },
     "execution_count": 113,
     "metadata": {},
     "output_type": "execute_result"
    }
   ],
   "source": [
    "model.predict_single(generate_input([card(Color.EICHEL, Value.NEUN), card(Color.HERZ, Value.ZEHN)], card(Color.GRUEN, Value.OBER), 2, 1))"
   ]
  },
  {
   "cell_type": "code",
   "execution_count": 285,
   "metadata": {},
   "outputs": [
    {
     "name": "stdout",
     "output_type": "stream",
     "text": [
      "[0.23458585 0.21142988 0.55398427]\n"
     ]
    },
    {
     "name": "stderr",
     "output_type": "stream",
     "text": [
      "/usr/local/lib/python3.6/dist-packages/matplotlib/pyplot.py:528: RuntimeWarning: More than 20 figures have been opened. Figures created through the pyplot interface (`matplotlib.pyplot.figure`) are retained until explicitly closed and may consume too much memory. (To control this warning, see the rcParam `figure.max_open_warning`).\n",
      "  max_open_warning, RuntimeWarning)\n"
     ]
    },
    {
     "data": {
      "application/vnd.jupyter.widget-view+json": {
       "model_id": "65b3d3bcb8ba4c91aac93c2b6afa8aff",
       "version_major": 2,
       "version_minor": 0
      },
      "text/html": [
       "<p>Failed to display Jupyter Widget of type <code>FigureCanvasNbAgg</code>.</p>\n",
       "<p>\n",
       "  If you're reading this message in the Jupyter Notebook or JupyterLab Notebook, it may mean\n",
       "  that the widgets JavaScript is still loading. If this message persists, it\n",
       "  likely means that the widgets JavaScript library is either not installed or\n",
       "  not enabled. See the <a href=\"https://ipywidgets.readthedocs.io/en/stable/user_install.html\">Jupyter\n",
       "  Widgets Documentation</a> for setup instructions.\n",
       "</p>\n",
       "<p>\n",
       "  If you're reading this message in another frontend (for example, a static\n",
       "  rendering on GitHub or <a href=\"https://nbviewer.jupyter.org/\">NBViewer</a>),\n",
       "  it may mean that your frontend doesn't currently support widgets.\n",
       "</p>\n"
      ],
      "text/plain": [
       "FigureCanvasNbAgg()"
      ]
     },
     "metadata": {},
     "output_type": "display_data"
    },
    {
     "data": {
      "text/plain": [
       "array([0., 0., 1.])"
      ]
     },
     "execution_count": 285,
     "metadata": {},
     "output_type": "execute_result"
    }
   ],
   "source": [
    "calc_correct_output_sample([\n",
    "            card(Color.GRUEN, Value.SIEBEN), \n",
    "            card(Color.GRUEN, Value.OBER), \n",
    "            card(Color.SCHELLN, Value.NEUN)\n",
    "        ], None, 2, 0)"
   ]
  },
  {
   "cell_type": "code",
   "execution_count": 255,
   "metadata": {},
   "outputs": [
    {
     "name": "stdout",
     "output_type": "stream",
     "text": [
      "[0.39571235 0.33549584 0.26879181]\n"
     ]
    },
    {
     "name": "stderr",
     "output_type": "stream",
     "text": [
      "/usr/local/lib/python3.6/dist-packages/matplotlib/pyplot.py:528: RuntimeWarning: More than 20 figures have been opened. Figures created through the pyplot interface (`matplotlib.pyplot.figure`) are retained until explicitly closed and may consume too much memory. (To control this warning, see the rcParam `figure.max_open_warning`).\n",
      "  max_open_warning, RuntimeWarning)\n"
     ]
    },
    {
     "data": {
      "application/vnd.jupyter.widget-view+json": {
       "model_id": "5c25950c878f4bcdb66c09a724db89d1",
       "version_major": 2,
       "version_minor": 0
      },
      "text/html": [
       "<p>Failed to display Jupyter Widget of type <code>FigureCanvasNbAgg</code>.</p>\n",
       "<p>\n",
       "  If you're reading this message in the Jupyter Notebook or JupyterLab Notebook, it may mean\n",
       "  that the widgets JavaScript is still loading. If this message persists, it\n",
       "  likely means that the widgets JavaScript library is either not installed or\n",
       "  not enabled. See the <a href=\"https://ipywidgets.readthedocs.io/en/stable/user_install.html\">Jupyter\n",
       "  Widgets Documentation</a> for setup instructions.\n",
       "</p>\n",
       "<p>\n",
       "  If you're reading this message in another frontend (for example, a static\n",
       "  rendering on GitHub or <a href=\"https://nbviewer.jupyter.org/\">NBViewer</a>),\n",
       "  it may mean that your frontend doesn't currently support widgets.\n",
       "</p>\n"
      ],
      "text/plain": [
       "FigureCanvasNbAgg()"
      ]
     },
     "metadata": {},
     "output_type": "display_data"
    },
    {
     "name": "stdout",
     "output_type": "stream",
     "text": [
      "[0.00219368 0.00295891 0.00492629 0.00228125 0.00067742 0.0019176\n",
      " 0.00160495 0.00306738 0.00170262 0.2736106  0.00104753 0.00065809\n",
      " 0.00124946 0.00122479 0.00083221 0.34336203 0.00157421 0.35396522\n",
      " 0.0022292  0.00107221 0.0017584  0.00199055 0.0022874  0.00158446\n",
      " 0.00120892 0.00238398 0.00235519 0.00170699 0.0021641  0.00231255\n",
      " 0.00093804 0.00114301] [0. 0. 0.]\n",
      "Color.GRUEN Value.SIEBEN => 0.34336203 (0.0)\n",
      "Color.GRUEN Value.KOENIG => 0.2736106 (0.0)\n",
      "Color.HERZ Value.KOENIG => 0.35396522 (0.0)\n"
     ]
    }
   ],
   "source": [
    "predict([\n",
    "            card(Color.GRUEN, Value.SIEBEN), \n",
    "            card(Color.GRUEN, Value.KOENIG),\n",
    "            card(Color.HERZ, Value.KOENIG)\n",
    "        ], card(Color.EICHEL, Value.ZEHN), 1, 1)"
   ]
  },
  {
   "cell_type": "code",
   "execution_count": 257,
   "metadata": {
    "scrolled": false
   },
   "outputs": [
    {
     "name": "stdout",
     "output_type": "stream",
     "text": [
      "[0.16209546 0.29126847 0.14643211 0.25181529 0.14838867]\n"
     ]
    },
    {
     "name": "stderr",
     "output_type": "stream",
     "text": [
      "/usr/local/lib/python3.6/dist-packages/matplotlib/pyplot.py:528: RuntimeWarning: More than 20 figures have been opened. Figures created through the pyplot interface (`matplotlib.pyplot.figure`) are retained until explicitly closed and may consume too much memory. (To control this warning, see the rcParam `figure.max_open_warning`).\n",
      "  max_open_warning, RuntimeWarning)\n"
     ]
    },
    {
     "data": {
      "application/vnd.jupyter.widget-view+json": {
       "model_id": "e0fadc46a24e47d9b027a940dafbc2ac",
       "version_major": 2,
       "version_minor": 0
      },
      "text/html": [
       "<p>Failed to display Jupyter Widget of type <code>FigureCanvasNbAgg</code>.</p>\n",
       "<p>\n",
       "  If you're reading this message in the Jupyter Notebook or JupyterLab Notebook, it may mean\n",
       "  that the widgets JavaScript is still loading. If this message persists, it\n",
       "  likely means that the widgets JavaScript library is either not installed or\n",
       "  not enabled. See the <a href=\"https://ipywidgets.readthedocs.io/en/stable/user_install.html\">Jupyter\n",
       "  Widgets Documentation</a> for setup instructions.\n",
       "</p>\n",
       "<p>\n",
       "  If you're reading this message in another frontend (for example, a static\n",
       "  rendering on GitHub or <a href=\"https://nbviewer.jupyter.org/\">NBViewer</a>),\n",
       "  it may mean that your frontend doesn't currently support widgets.\n",
       "</p>\n"
      ],
      "text/plain": [
       "FigureCanvasNbAgg()"
      ]
     },
     "metadata": {},
     "output_type": "display_data"
    },
    {
     "name": "stdout",
     "output_type": "stream",
     "text": [
      "[0.00225554 0.12882802 0.00333104 0.16498454 0.00407682 0.00374047\n",
      " 0.00184983 0.01050379 0.00643561 0.36693758 0.00278587 0.00835195\n",
      " 0.22336954 0.00493929 0.00303816 0.00170397 0.00097518 0.0054345\n",
      " 0.00415214 0.00438484 0.00151944 0.00706366 0.00218979 0.21273391\n",
      " 0.0010833  0.00248363 0.00400397 0.00299505 0.00209963 0.00448016\n",
      " 0.00377667 0.00315689] [0. 1. 0. 1. 1.]\n",
      "Color.EICHEL Value.UNTER => 0.16498454 (0.0)\n",
      "Color.GRUEN Value.KOENIG => 0.36693758 (1.0)\n",
      "Color.EICHEL Value.KOENIG => 0.12882802 (0.0)\n",
      "Color.HERZ Value.SIEBEN => 0.21273391 (1.0)\n",
      "Color.GRUEN Value.ZEHN => 0.22336954 (1.0)\n"
     ]
    }
   ],
   "source": [
    "predict([\n",
    "    card(Color.EICHEL, Value.UNTER), \n",
    "    card(Color.GRUEN, Value.KOENIG),\n",
    "    card(Color.EICHEL, Value.KOENIG),\n",
    "    card(Color.HERZ, Value.SIEBEN),\n",
    "    card(Color.GRUEN, Value.ZEHN),\n",
    "    ],card(Color.GRUEN, Value.OBER), 0, 0)"
   ]
  },
  {
   "cell_type": "code",
   "execution_count": 261,
   "metadata": {},
   "outputs": [
    {
     "name": "stdout",
     "output_type": "stream",
     "text": [
      "[0.28631919 0.15695597 0.25385176 0.14562401 0.15724907]\n"
     ]
    },
    {
     "name": "stderr",
     "output_type": "stream",
     "text": [
      "/usr/local/lib/python3.6/dist-packages/matplotlib/pyplot.py:528: RuntimeWarning: More than 20 figures have been opened. Figures created through the pyplot interface (`matplotlib.pyplot.figure`) are retained until explicitly closed and may consume too much memory. (To control this warning, see the rcParam `figure.max_open_warning`).\n",
      "  max_open_warning, RuntimeWarning)\n"
     ]
    },
    {
     "data": {
      "application/vnd.jupyter.widget-view+json": {
       "model_id": "4a5c8e7ee194479d8d7689e6013e33cc",
       "version_major": 2,
       "version_minor": 0
      },
      "text/html": [
       "<p>Failed to display Jupyter Widget of type <code>FigureCanvasNbAgg</code>.</p>\n",
       "<p>\n",
       "  If you're reading this message in the Jupyter Notebook or JupyterLab Notebook, it may mean\n",
       "  that the widgets JavaScript is still loading. If this message persists, it\n",
       "  likely means that the widgets JavaScript library is either not installed or\n",
       "  not enabled. See the <a href=\"https://ipywidgets.readthedocs.io/en/stable/user_install.html\">Jupyter\n",
       "  Widgets Documentation</a> for setup instructions.\n",
       "</p>\n",
       "<p>\n",
       "  If you're reading this message in another frontend (for example, a static\n",
       "  rendering on GitHub or <a href=\"https://nbviewer.jupyter.org/\">NBViewer</a>),\n",
       "  it may mean that your frontend doesn't currently support widgets.\n",
       "</p>\n"
      ],
      "text/plain": [
       "FigureCanvasNbAgg()"
      ]
     },
     "metadata": {},
     "output_type": "display_data"
    },
    {
     "name": "stdout",
     "output_type": "stream",
     "text": [
      "[0.21805565 0.00234719 0.00126939 0.00292074 0.00098915 0.00168285\n",
      " 0.00176553 0.00741228 0.00306193 0.20693102 0.00235981 0.17444488\n",
      " 0.00192268 0.00234325 0.00263577 0.00079589 0.00064911 0.00227424\n",
      " 0.00357403 0.00439737 0.00371622 0.00286246 0.19036686 0.19911051\n",
      " 0.00340857 0.0075426  0.0011064  0.00157739 0.00197756 0.00082587\n",
      " 0.00150106 0.00150635] [0. 0. 0. 0. 0.]\n",
      "Color.HERZ Value.SIEBEN => 0.19911051 (0.0)\n",
      "Color.GRUEN Value.KOENIG => 0.20693102 (0.0)\n",
      "Color.HERZ Value.ACHT => 0.19036686 (0.0)\n",
      "Color.EICHEL Value.SAU => 0.21805565 (0.0)\n",
      "Color.GRUEN Value.UNTER => 0.17444488 (0.0)\n"
     ]
    }
   ],
   "source": [
    "predict([\n",
    "    card(Color.HERZ, Value.SIEBEN), \n",
    "    card(Color.GRUEN, Value.KOENIG),\n",
    "    card(Color.HERZ, Value.ACHT),\n",
    "    card(Color.EICHEL, Value.SAU),\n",
    "    card(Color.GRUEN, Value.UNTER),\n",
    "    ],card(Color.SCHELLN, Value.OBER), 0, 0)"
   ]
  },
  {
   "cell_type": "code",
   "execution_count": 395,
   "metadata": {},
   "outputs": [
    {
     "data": {
      "text/plain": [
       "[array([3.2768894e-03, 1.9878964e-01, 1.3820220e-02, 4.6424335e-01,\n",
       "        7.1053780e-03, 2.9274071e-02, 8.1222923e-03, 5.4989127e-04,\n",
       "        8.0019347e-03, 4.3923180e-03, 4.0565468e-03, 3.2476720e-03,\n",
       "        2.0850727e-01, 4.3509626e-03, 5.9748022e-03, 6.1062318e-03,\n",
       "        1.3822509e-03, 2.1725877e-04, 1.3098384e-03, 7.1340741e-04,\n",
       "        2.0487478e-03, 3.3812402e-03, 1.0878793e-04, 7.3019944e-02,\n",
       "        3.4260689e-03, 2.7179192e-03, 1.3691070e-03, 6.1381124e-03,\n",
       "        4.5132274e-03, 4.4453251e-03, 2.2470709e-03, 4.3023235e-04],\n",
       "       dtype=float32), array([0.5526783], dtype=float32)]"
      ]
     },
     "execution_count": 395,
     "metadata": {},
     "output_type": "execute_result"
    }
   ],
   "source": [
    "hard_input = generate_input([\n",
    "    card(Color.EICHEL, Value.UNTER), \n",
    "    #card(Color.GRUEN, Value.KOENIG),\n",
    "    card(Color.EICHEL, Value.KOENIG),\n",
    "    card(Color.HERZ, Value.SIEBEN),\n",
    "    card(Color.GRUEN, Value.ZEHN),\n",
    "    ],None, 1, 0)\n",
    "model.predict_single(hard_input)"
   ]
  },
  {
   "cell_type": "code",
   "execution_count": null,
   "metadata": {},
   "outputs": [],
   "source": [
    "for sample_input in sample_inputs[0]:\n",
    "    if np.array_equal(sample_input,hard_input[0]):\n",
    "        print(\"test\")"
   ]
  },
  {
   "cell_type": "code",
   "execution_count": 80,
   "metadata": {},
   "outputs": [
    {
     "data": {
      "text/plain": [
       "0.48"
      ]
     },
     "execution_count": 80,
     "metadata": {},
     "output_type": "execute_result"
    }
   ],
   "source": [
    "compare(model, None)"
   ]
  },
  {
   "cell_type": "code",
   "execution_count": 72,
   "metadata": {},
   "outputs": [
    {
     "name": "stdout",
     "output_type": "stream",
     "text": [
      "[0. 0. 1. 0. 0.]\n",
      "[1. 1. 0. 1.]\n",
      "[1. 1. 0.]\n",
      "[1. 0.]\n",
      "[1.]\n"
     ]
    },
    {
     "data": {
      "text/plain": [
       "1"
      ]
     },
     "execution_count": 72,
     "metadata": {},
     "output_type": "execute_result"
    }
   ],
   "source": [
    "match([model, None], True)"
   ]
  },
  {
   "cell_type": "code",
   "execution_count": null,
   "metadata": {},
   "outputs": [],
   "source": []
  }
 ],
 "metadata": {
  "kernelspec": {
   "display_name": "Python 3",
   "language": "python",
   "name": "python3"
  },
  "language_info": {
   "codemirror_mode": {
    "name": "ipython",
    "version": 3
   },
   "file_extension": ".py",
   "mimetype": "text/x-python",
   "name": "python",
   "nbconvert_exporter": "python",
   "pygments_lexer": "ipython3",
   "version": "3.6.3"
  }
 },
 "nbformat": 4,
 "nbformat_minor": 2
}
