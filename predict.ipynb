{
 "cells": [
  {
   "cell_type": "markdown",
   "metadata": {},
   "source": [
    "# Predict"
   ]
  },
  {
   "cell_type": "code",
   "execution_count": 324,
   "metadata": {
    "slideshow": {
     "slide_type": "skip"
    }
   },
   "outputs": [],
   "source": [
    "def generate_input(hand_cards, table_card=None, own_tricks=0, opponent_tricks=0, opponent_hand_cards=None):\n",
    "    obs = [np.zeros([4, 8, 3]), np.zeros([4])]\n",
    "    \n",
    "    for card in hand_cards:\n",
    "        obs[0][card.color.value][card.value.value][0] = 1\n",
    "        \n",
    "    if table_card is not None:\n",
    "        obs[0][table_card.color.value][table_card.value.value][1] = 1\n",
    "        \n",
    "    if opponent_hand_cards is not None:\n",
    "        for card in opponent_hand_cards:\n",
    "            obs[0][card.color.value][card.value.value][2] = 1\n",
    "\n",
    "    obs[1][0] = (own_tricks == 1 or own_tricks == 3)\n",
    "    obs[1][1] = (own_tricks == 2 or own_tricks == 3)\n",
    "\n",
    "    obs[1][2] = (opponent_tricks == 1 or opponent_tricks == 3)\n",
    "    obs[1][3] = (opponent_tricks == 2 or opponent_tricks == 3)\n",
    "    \n",
    "    return obs"
   ]
  },
  {
   "cell_type": "code",
   "execution_count": 325,
   "metadata": {
    "slideshow": {
     "slide_type": "slide"
    }
   },
   "outputs": [],
   "source": [
    "def card(color, value):\n",
    "    for card in env.cards:\n",
    "        if card.value == value and card.color == color:\n",
    "            return card\n",
    "        \n",
    "    return None"
   ]
  },
  {
   "cell_type": "code",
   "execution_count": 326,
   "metadata": {},
   "outputs": [],
   "source": [
    "def calc_correct_output_sample(hand_cards, table_card=None, own_tricks=0, opponent_tricks=0, opponent_hand_cards=None):\n",
    "    global sample_outputs\n",
    "    env.reset()\n",
    "    env.cards_left = env.cards[:]\n",
    "    random.shuffle(env.cards_left)\n",
    "    \n",
    "    for card in hand_cards:\n",
    "        env.cards_left.remove(card)\n",
    "    env.players[0].hand_cards = hand_cards[:]\n",
    "        \n",
    "    if opponent_hand_cards is None:\n",
    "        env.players[1].hand_cards = []\n",
    "        for i in range(len(hand_cards) - (1 if table_card is not None else 0)):\n",
    "            env.players[1].hand_cards.append(env.cards_left.pop())      \n",
    "    else:\n",
    "        env.players[1].hand_cards = opponent_hand_cards[:]\n",
    "    \n",
    "    env.players[0].tricks = own_tricks\n",
    "    env.players[1].tricks = opponent_tricks\n",
    "    env.table_card = table_card\n",
    "    \n",
    "    #root = State(1, env.get_state(), env.current_player)\n",
    "   # a, p = mcts_game_step(root, 100)\n",
    "    #env.set_state(root.env_state)\n",
    "    #print(p)\n",
    "    #draw_tree(root)\n",
    "    #print(\"\")\n",
    "    #draw_path(root)\n",
    "    #obs, rew, is_done, _ = env.step(hand_cards[0].id)\n",
    "   # print(rew, is_done)\n",
    "\n",
    "    #env.render('human')\n",
    "    #root = State(1, env.get_state())\n",
    "    #a, p = mcts_game_step(root, 1000, False)\n",
    "    #draw_tree(root)\n",
    "    #print(\"\")\n",
    "    #draw_tree(root.childs[0])\n",
    "    \n",
    "    #draw_path(root)\n",
    "    #reset_samples(1)\n",
    "    p = search(env.regenerate_obs())[1]\n",
    "    #postprocess_samples()\n",
    "        \n",
    "    return p#sample_outputs[0]"
   ]
  },
  {
   "cell_type": "code",
   "execution_count": 327,
   "metadata": {
    "code_folding": [
     0
    ]
   },
   "outputs": [],
   "source": [
    "def calc_correct_output(hand_cards, table_card=None, own_tricks=0, opponent_tricks=0):    \n",
    "    correct_output = None\n",
    "    for i in range(100):\n",
    "        sample_outputs = calc_correct_output_sample(hand_cards, table_card, own_tricks, opponent_tricks)\n",
    "        if correct_output is None:\n",
    "            correct_output = sample_outputs\n",
    "        else:\n",
    "            correct_output += sample_outputs\n",
    "    return correct_output / 100"
   ]
  },
  {
   "cell_type": "code",
   "execution_count": 328,
   "metadata": {
    "code_folding": [
     0
    ]
   },
   "outputs": [],
   "source": [
    "def predict(hand_cards, table_card=None, own_tricks=0, opponent_tricks=0):\n",
    "    input = generate_input(hand_cards, table_card, own_tricks, opponent_tricks)\n",
    "    output = model.predict_single(input)[0]\n",
    "    correct_output = calc_correct_output_sample(hand_cards, table_card, own_tricks, opponent_tricks)\n",
    "    print(output,correct_output)\n",
    "    id = 0\n",
    "    for card in hand_cards:\n",
    "        print(str(card.color) + \" \" + str(card.value) + \" => \" + str(output[card.id]) + \" (\" + str(correct_output[id]) + \")\")\n",
    "        id += 1"
   ]
  },
  {
   "cell_type": "code",
   "execution_count": 329,
   "metadata": {
    "code_folding": [
     0,
     21
    ]
   },
   "outputs": [],
   "source": [
    "def create_eval_cache():\n",
    "    eval_cache_input = []\n",
    "    eval_cache_output = []\n",
    "    for i in range(1000):\n",
    "        own_tricks = random.randint(0, 2)\n",
    "        opponent_tricks = random.randint(0, 2)\n",
    "        table_card_enabled = random.randint(0, 1)\n",
    "        hand_cards = random.sample(env.cards, (5 - own_tricks - opponent_tricks) * 2 + table_card_enabled)\n",
    "        table_card = hand_cards.pop() if table_card_enabled else None\n",
    "        \n",
    "        opponent_hand_cards = []\n",
    "        for i in range(len(hand_cards) // 2):\n",
    "            opponent_hand_cards.append(hand_cards.pop())\n",
    "\n",
    "        eval_cache_input.append(generate_input(hand_cards, table_card, own_tricks, opponent_tricks, opponent_hand_cards))\n",
    "        output = calc_correct_output_sample(hand_cards, table_card, own_tricks, opponent_tricks, opponent_hand_cards)\n",
    "        \n",
    "        outputs_per_card = np.zeros((32,))\n",
    "        for i in range(len(hand_cards)):\n",
    "            outputs_per_card[hand_cards[i].id] = output[i]\n",
    "            \n",
    "        eval_cache_output.append(outputs_per_card)\n",
    "        \n",
    "    return eval_cache_input, eval_cache_output\n",
    "        \n",
    "def eval(model, eval_cache_input, eval_cache_output):\n",
    "    correct = 0\n",
    "    for i in range(len(eval_cache_input)):\n",
    "\n",
    "        output = model.predict_single(eval_cache_input[i])[0]\n",
    "        correct_output = eval_cache_output[i]\n",
    "                    \n",
    "        correct += correct_output[np.argmax(output)] == correct_output[np.argmax(correct_output)]\n",
    "        #if correct_output[np.argmax(output)] != correct_output[np.argmax(correct_output)]:\n",
    "        #    print(correct_output[np.argmax(output)], correct_output[np.argmax(correct_output)])\n",
    "            \n",
    "    return correct / len(eval_cache_input)\n"
   ]
  },
  {
   "cell_type": "code",
   "execution_count": 42,
   "metadata": {},
   "outputs": [],
   "source": [
    "eval_cache_input, eval_cache_output = create_eval_cache()"
   ]
  },
  {
   "cell_type": "code",
   "execution_count": 18,
   "metadata": {},
   "outputs": [],
   "source": [
    "with open('eval_cache', 'wb') as fp:\n",
    "    pickle.dump([eval_cache_input, eval_cache_output], fp)"
   ]
  },
  {
   "cell_type": "code",
   "execution_count": 330,
   "metadata": {},
   "outputs": [],
   "source": [
    "with open ('eval_cache', 'rb') as fp:\n",
    "    eval_cache_input, eval_cache_output = pickle.load(fp)"
   ]
  },
  {
   "cell_type": "code",
   "execution_count": 43,
   "metadata": {},
   "outputs": [
    {
     "data": {
      "text/plain": [
       "0.979"
      ]
     },
     "execution_count": 43,
     "metadata": {},
     "output_type": "execute_result"
    }
   ],
   "source": [
    "eval(model, eval_cache_input, eval_cache_output)"
   ]
  },
  {
   "cell_type": "code",
   "execution_count": 67,
   "metadata": {},
   "outputs": [
    {
     "name": "stdout",
     "output_type": "stream",
     "text": [
      "[0.29292929 0.29292929 0.41414141]\n"
     ]
    },
    {
     "data": {
      "application/vnd.jupyter.widget-view+json": {
       "model_id": "94ff18ccf27a4fbf813f00d268bb3195",
       "version_major": 2,
       "version_minor": 0
      },
      "text/html": [
       "<p>Failed to display Jupyter Widget of type <code>FigureCanvasNbAgg</code>.</p>\n",
       "<p>\n",
       "  If you're reading this message in the Jupyter Notebook or JupyterLab Notebook, it may mean\n",
       "  that the widgets JavaScript is still loading. If this message persists, it\n",
       "  likely means that the widgets JavaScript library is either not installed or\n",
       "  not enabled. See the <a href=\"https://ipywidgets.readthedocs.io/en/stable/user_install.html\">Jupyter\n",
       "  Widgets Documentation</a> for setup instructions.\n",
       "</p>\n",
       "<p>\n",
       "  If you're reading this message in another frontend (for example, a static\n",
       "  rendering on GitHub or <a href=\"https://nbviewer.jupyter.org/\">NBViewer</a>),\n",
       "  it may mean that your frontend doesn't currently support widgets.\n",
       "</p>\n"
      ],
      "text/plain": [
       "FigureCanvasNbAgg()"
      ]
     },
     "metadata": {},
     "output_type": "display_data"
    },
    {
     "name": "stdout",
     "output_type": "stream",
     "text": [
      "[2.3766297e-03 2.8347185e-01 8.2801534e-03 4.5855572e-03 2.1792692e-03\n",
      " 6.9862767e-03 2.8642794e-01 1.3888585e-03 3.8995058e-03 1.2016824e-03\n",
      " 3.0918578e-03 1.1405852e-03 3.3063155e-03 1.5768711e-03 2.5065003e-03\n",
      " 1.5009379e-03 4.8645613e-01 2.3454806e-04 1.3556489e-03 1.6275608e-03\n",
      " 1.1519113e-03 7.1208691e-04 1.4781591e-04 1.1066282e-03 2.2558696e-03\n",
      " 3.8601116e-03 1.0180498e-02 1.9784123e-03 2.0697922e-03 3.8397033e-03\n",
      " 3.1332180e-03 6.4104568e-04] [0. 0. 0.]\n",
      "Color.EICHEL Value.ACHT => 0.28642794 (0.0)\n",
      "Color.EICHEL Value.KOENIG => 0.28347185 (0.0)\n",
      "Color.HERZ Value.SAU => 0.48645613 (0.0)\n"
     ]
    }
   ],
   "source": [
    "predict([\n",
    "    card(Color.EICHEL, Value.ACHT), \n",
    "    card(Color.EICHEL, Value.KOENIG),\n",
    "    card(Color.HERZ, Value.SAU)\n",
    "    ], None, 0, 2)\n"
   ]
  },
  {
   "cell_type": "code",
   "execution_count": 371,
   "metadata": {
    "scrolled": false
   },
   "outputs": [
    {
     "ename": "ValueError",
     "evalue": "Error when checking : expected input_9 to have shape (4, 8, 2) but got array with shape (4, 8, 3)",
     "output_type": "error",
     "traceback": [
      "\u001b[0;31m---------------------------------------------------------------------------\u001b[0m",
      "\u001b[0;31mValueError\u001b[0m                                Traceback (most recent call last)",
      "\u001b[0;32m<ipython-input-371-55af3cd43e7f>\u001b[0m in \u001b[0;36m<module>\u001b[0;34m()\u001b[0m\n\u001b[1;32m      5\u001b[0m     \u001b[0mcard\u001b[0m\u001b[0;34m(\u001b[0m\u001b[0mColor\u001b[0m\u001b[0;34m.\u001b[0m\u001b[0mHERZ\u001b[0m\u001b[0;34m,\u001b[0m \u001b[0mValue\u001b[0m\u001b[0;34m.\u001b[0m\u001b[0mSIEBEN\u001b[0m\u001b[0;34m)\u001b[0m\u001b[0;34m,\u001b[0m\u001b[0;34m\u001b[0m\u001b[0m\n\u001b[1;32m      6\u001b[0m     \u001b[0mcard\u001b[0m\u001b[0;34m(\u001b[0m\u001b[0mColor\u001b[0m\u001b[0;34m.\u001b[0m\u001b[0mGRUEN\u001b[0m\u001b[0;34m,\u001b[0m \u001b[0mValue\u001b[0m\u001b[0;34m.\u001b[0m\u001b[0mZEHN\u001b[0m\u001b[0;34m)\u001b[0m\u001b[0;34m,\u001b[0m\u001b[0;34m\u001b[0m\u001b[0m\n\u001b[0;32m----> 7\u001b[0;31m     ],card(Color.GRUEN, Value.OBER), 0, 0)\n\u001b[0m",
      "\u001b[0;32m<ipython-input-328-f1a40cdc722f>\u001b[0m in \u001b[0;36mpredict\u001b[0;34m(hand_cards, table_card, own_tricks, opponent_tricks)\u001b[0m\n\u001b[1;32m      1\u001b[0m \u001b[0;32mdef\u001b[0m \u001b[0mpredict\u001b[0m\u001b[0;34m(\u001b[0m\u001b[0mhand_cards\u001b[0m\u001b[0;34m,\u001b[0m \u001b[0mtable_card\u001b[0m\u001b[0;34m=\u001b[0m\u001b[0;32mNone\u001b[0m\u001b[0;34m,\u001b[0m \u001b[0mown_tricks\u001b[0m\u001b[0;34m=\u001b[0m\u001b[0;36m0\u001b[0m\u001b[0;34m,\u001b[0m \u001b[0mopponent_tricks\u001b[0m\u001b[0;34m=\u001b[0m\u001b[0;36m0\u001b[0m\u001b[0;34m)\u001b[0m\u001b[0;34m:\u001b[0m\u001b[0;34m\u001b[0m\u001b[0m\n\u001b[1;32m      2\u001b[0m     \u001b[0minput\u001b[0m \u001b[0;34m=\u001b[0m \u001b[0mgenerate_input\u001b[0m\u001b[0;34m(\u001b[0m\u001b[0mhand_cards\u001b[0m\u001b[0;34m,\u001b[0m \u001b[0mtable_card\u001b[0m\u001b[0;34m,\u001b[0m \u001b[0mown_tricks\u001b[0m\u001b[0;34m,\u001b[0m \u001b[0mopponent_tricks\u001b[0m\u001b[0;34m)\u001b[0m\u001b[0;34m\u001b[0m\u001b[0m\n\u001b[0;32m----> 3\u001b[0;31m     \u001b[0moutput\u001b[0m \u001b[0;34m=\u001b[0m \u001b[0mmodel\u001b[0m\u001b[0;34m.\u001b[0m\u001b[0mpredict_single\u001b[0m\u001b[0;34m(\u001b[0m\u001b[0minput\u001b[0m\u001b[0;34m)\u001b[0m\u001b[0;34m[\u001b[0m\u001b[0;36m0\u001b[0m\u001b[0;34m]\u001b[0m\u001b[0;34m\u001b[0m\u001b[0m\n\u001b[0m\u001b[1;32m      4\u001b[0m     \u001b[0mcorrect_output\u001b[0m \u001b[0;34m=\u001b[0m \u001b[0mcalc_correct_output_sample\u001b[0m\u001b[0;34m(\u001b[0m\u001b[0mhand_cards\u001b[0m\u001b[0;34m,\u001b[0m \u001b[0mtable_card\u001b[0m\u001b[0;34m,\u001b[0m \u001b[0mown_tricks\u001b[0m\u001b[0;34m,\u001b[0m \u001b[0mopponent_tricks\u001b[0m\u001b[0;34m)\u001b[0m\u001b[0;34m\u001b[0m\u001b[0m\n\u001b[1;32m      5\u001b[0m     \u001b[0mprint\u001b[0m\u001b[0;34m(\u001b[0m\u001b[0moutput\u001b[0m\u001b[0;34m,\u001b[0m\u001b[0mcorrect_output\u001b[0m\u001b[0;34m)\u001b[0m\u001b[0;34m\u001b[0m\u001b[0m\n",
      "\u001b[0;32m<ipython-input-11-85a9147b57f8>\u001b[0m in \u001b[0;36mpredict_single\u001b[0;34m(self, inputs)\u001b[0m\n\u001b[1;32m      5\u001b[0m     \u001b[0;32mdef\u001b[0m \u001b[0mpredict_single\u001b[0m\u001b[0;34m(\u001b[0m\u001b[0mself\u001b[0m\u001b[0;34m,\u001b[0m \u001b[0minputs\u001b[0m\u001b[0;34m)\u001b[0m\u001b[0;34m:\u001b[0m\u001b[0;34m\u001b[0m\u001b[0m\n\u001b[1;32m      6\u001b[0m         \u001b[0minputs\u001b[0m \u001b[0;34m=\u001b[0m \u001b[0;34m[\u001b[0m\u001b[0mnp\u001b[0m\u001b[0;34m.\u001b[0m\u001b[0mexpand_dims\u001b[0m\u001b[0;34m(\u001b[0m\u001b[0minput\u001b[0m\u001b[0;34m,\u001b[0m \u001b[0;36m0\u001b[0m\u001b[0;34m)\u001b[0m \u001b[0;32mfor\u001b[0m \u001b[0minput\u001b[0m \u001b[0;32min\u001b[0m \u001b[0minputs\u001b[0m\u001b[0;34m]\u001b[0m\u001b[0;34m\u001b[0m\u001b[0m\n\u001b[0;32m----> 7\u001b[0;31m         \u001b[0moutputs\u001b[0m \u001b[0;34m=\u001b[0m \u001b[0mself\u001b[0m\u001b[0;34m.\u001b[0m\u001b[0mpredict\u001b[0m\u001b[0;34m(\u001b[0m\u001b[0minputs\u001b[0m\u001b[0;34m)\u001b[0m\u001b[0;34m\u001b[0m\u001b[0m\n\u001b[0m\u001b[1;32m      8\u001b[0m         \u001b[0;32mreturn\u001b[0m \u001b[0;34m[\u001b[0m\u001b[0moutput\u001b[0m\u001b[0;34m[\u001b[0m\u001b[0;36m0\u001b[0m\u001b[0;34m]\u001b[0m \u001b[0;32mfor\u001b[0m \u001b[0moutput\u001b[0m \u001b[0;32min\u001b[0m \u001b[0moutputs\u001b[0m\u001b[0;34m]\u001b[0m\u001b[0;34m\u001b[0m\u001b[0m\n\u001b[1;32m      9\u001b[0m \u001b[0;34m\u001b[0m\u001b[0m\n",
      "\u001b[0;32m/usr/local/lib/python3.6/dist-packages/keras/engine/training.py\u001b[0m in \u001b[0;36mpredict\u001b[0;34m(self, x, batch_size, verbose, steps)\u001b[0m\n\u001b[1;32m   1780\u001b[0m         x = _standardize_input_data(x, self._feed_input_names,\n\u001b[1;32m   1781\u001b[0m                                     \u001b[0mself\u001b[0m\u001b[0;34m.\u001b[0m\u001b[0m_feed_input_shapes\u001b[0m\u001b[0;34m,\u001b[0m\u001b[0;34m\u001b[0m\u001b[0m\n\u001b[0;32m-> 1782\u001b[0;31m                                     check_batch_axis=False)\n\u001b[0m\u001b[1;32m   1783\u001b[0m         \u001b[0;32mif\u001b[0m \u001b[0mself\u001b[0m\u001b[0;34m.\u001b[0m\u001b[0mstateful\u001b[0m\u001b[0;34m:\u001b[0m\u001b[0;34m\u001b[0m\u001b[0m\n\u001b[1;32m   1784\u001b[0m             \u001b[0;32mif\u001b[0m \u001b[0mx\u001b[0m\u001b[0;34m[\u001b[0m\u001b[0;36m0\u001b[0m\u001b[0;34m]\u001b[0m\u001b[0;34m.\u001b[0m\u001b[0mshape\u001b[0m\u001b[0;34m[\u001b[0m\u001b[0;36m0\u001b[0m\u001b[0;34m]\u001b[0m \u001b[0;34m>\u001b[0m \u001b[0mbatch_size\u001b[0m \u001b[0;32mand\u001b[0m \u001b[0mx\u001b[0m\u001b[0;34m[\u001b[0m\u001b[0;36m0\u001b[0m\u001b[0;34m]\u001b[0m\u001b[0;34m.\u001b[0m\u001b[0mshape\u001b[0m\u001b[0;34m[\u001b[0m\u001b[0;36m0\u001b[0m\u001b[0;34m]\u001b[0m \u001b[0;34m%\u001b[0m \u001b[0mbatch_size\u001b[0m \u001b[0;34m!=\u001b[0m \u001b[0;36m0\u001b[0m\u001b[0;34m:\u001b[0m\u001b[0;34m\u001b[0m\u001b[0m\n",
      "\u001b[0;32m/usr/local/lib/python3.6/dist-packages/keras/engine/training.py\u001b[0m in \u001b[0;36m_standardize_input_data\u001b[0;34m(data, names, shapes, check_batch_axis, exception_prefix)\u001b[0m\n\u001b[1;32m    118\u001b[0m                             \u001b[0;34m': expected '\u001b[0m \u001b[0;34m+\u001b[0m \u001b[0mnames\u001b[0m\u001b[0;34m[\u001b[0m\u001b[0mi\u001b[0m\u001b[0;34m]\u001b[0m \u001b[0;34m+\u001b[0m \u001b[0;34m' to have shape '\u001b[0m \u001b[0;34m+\u001b[0m\u001b[0;34m\u001b[0m\u001b[0m\n\u001b[1;32m    119\u001b[0m                             \u001b[0mstr\u001b[0m\u001b[0;34m(\u001b[0m\u001b[0mshape\u001b[0m\u001b[0;34m)\u001b[0m \u001b[0;34m+\u001b[0m \u001b[0;34m' but got array with shape '\u001b[0m \u001b[0;34m+\u001b[0m\u001b[0;34m\u001b[0m\u001b[0m\n\u001b[0;32m--> 120\u001b[0;31m                             str(data_shape))\n\u001b[0m\u001b[1;32m    121\u001b[0m     \u001b[0;32mreturn\u001b[0m \u001b[0mdata\u001b[0m\u001b[0;34m\u001b[0m\u001b[0m\n\u001b[1;32m    122\u001b[0m \u001b[0;34m\u001b[0m\u001b[0m\n",
      "\u001b[0;31mValueError\u001b[0m: Error when checking : expected input_9 to have shape (4, 8, 2) but got array with shape (4, 8, 3)"
     ]
    }
   ],
   "source": [
    "predict([\n",
    "    card(Color.EICHEL, Value.UNTER), \n",
    "    card(Color.GRUEN, Value.KOENIG),\n",
    "    card(Color.EICHEL, Value.KOENIG),\n",
    "    card(Color.HERZ, Value.SIEBEN),\n",
    "    card(Color.GRUEN, Value.ZEHN),\n",
    "    ],card(Color.GRUEN, Value.OBER), 0, 0)"
   ]
  },
  {
   "cell_type": "code",
   "execution_count": 68,
   "metadata": {},
   "outputs": [
    {
     "name": "stdout",
     "output_type": "stream",
     "text": [
      "[0.56565657 0.05050505 0.29292929 0.03030303 0.06060606]\n"
     ]
    },
    {
     "data": {
      "application/vnd.jupyter.widget-view+json": {
       "model_id": "e4330b5837b44fc5b1764daafb0c04b8",
       "version_major": 2,
       "version_minor": 0
      },
      "text/html": [
       "<p>Failed to display Jupyter Widget of type <code>FigureCanvasNbAgg</code>.</p>\n",
       "<p>\n",
       "  If you're reading this message in the Jupyter Notebook or JupyterLab Notebook, it may mean\n",
       "  that the widgets JavaScript is still loading. If this message persists, it\n",
       "  likely means that the widgets JavaScript library is either not installed or\n",
       "  not enabled. See the <a href=\"https://ipywidgets.readthedocs.io/en/stable/user_install.html\">Jupyter\n",
       "  Widgets Documentation</a> for setup instructions.\n",
       "</p>\n",
       "<p>\n",
       "  If you're reading this message in another frontend (for example, a static\n",
       "  rendering on GitHub or <a href=\"https://nbviewer.jupyter.org/\">NBViewer</a>),\n",
       "  it may mean that your frontend doesn't currently support widgets.\n",
       "</p>\n"
      ],
      "text/plain": [
       "FigureCanvasNbAgg()"
      ]
     },
     "metadata": {},
     "output_type": "display_data"
    },
    {
     "name": "stdout",
     "output_type": "stream",
     "text": [
      "[1.10929282e-02 1.56451424e-04 9.00905870e-05 1.03208557e-04\n",
      " 4.59249655e-04 6.79244171e-04 5.41189947e-05 5.84263878e-04\n",
      " 1.26359097e-04 5.17860539e-02 4.95364584e-05 3.42544354e-02\n",
      " 2.93370598e-04 1.12345464e-04 1.43227502e-04 1.80945266e-04\n",
      " 2.85971822e-04 1.01780643e-04 5.51378645e-04 1.82552583e-04\n",
      " 2.16027140e-03 5.32464292e-05 5.05821109e-01 6.87462747e-01\n",
      " 3.92161019e-04 1.10231026e-03 8.13166043e-05 5.29427853e-05\n",
      " 1.98504014e-04 5.72398058e-05 1.37993964e-04 2.24768432e-04] [1. 1. 1. 1. 1.]\n",
      "Color.HERZ Value.SIEBEN => 0.68746275 (1.0)\n",
      "Color.GRUEN Value.KOENIG => 0.051786054 (1.0)\n",
      "Color.HERZ Value.ACHT => 0.5058211 (1.0)\n",
      "Color.EICHEL Value.SAU => 0.011092928 (1.0)\n",
      "Color.GRUEN Value.UNTER => 0.034254435 (1.0)\n"
     ]
    }
   ],
   "source": [
    "predict([\n",
    "    card(Color.HERZ, Value.SIEBEN), \n",
    "    card(Color.GRUEN, Value.KOENIG),\n",
    "    card(Color.HERZ, Value.ACHT),\n",
    "    card(Color.EICHEL, Value.SAU),\n",
    "    card(Color.GRUEN, Value.UNTER),\n",
    "    ],card(Color.SCHELLN, Value.OBER), 0, 0)"
   ]
  },
  {
   "cell_type": "code",
   "execution_count": null,
   "metadata": {},
   "outputs": [],
   "source": [
    "hard_input = generate_input([\n",
    "    card(Color.EICHEL, Value.UNTER), \n",
    "    #card(Color.GRUEN, Value.KOENIG),\n",
    "    card(Color.EICHEL, Value.KOENIG),\n",
    "    card(Color.HERZ, Value.SIEBEN),\n",
    "    card(Color.GRUEN, Value.ZEHN),\n",
    "    ],None, 1, 0)\n",
    "model.predict_single(hard_input)"
   ]
  },
  {
   "cell_type": "code",
   "execution_count": null,
   "metadata": {},
   "outputs": [],
   "source": [
    "for sample_input in sample_inputs[0]:\n",
    "    if np.array_equal(sample_input,hard_input[0]):\n",
    "        print(\"test\")"
   ]
  },
  {
   "cell_type": "code",
   "execution_count": 80,
   "metadata": {},
   "outputs": [
    {
     "data": {
      "text/plain": [
       "0.48"
      ]
     },
     "execution_count": 80,
     "metadata": {},
     "output_type": "execute_result"
    }
   ],
   "source": [
    "compare(model, None)"
   ]
  },
  {
   "cell_type": "code",
   "execution_count": 72,
   "metadata": {},
   "outputs": [
    {
     "name": "stdout",
     "output_type": "stream",
     "text": [
      "[0. 0. 1. 0. 0.]\n",
      "[1. 1. 0. 1.]\n",
      "[1. 1. 0.]\n",
      "[1. 0.]\n",
      "[1.]\n"
     ]
    },
    {
     "data": {
      "text/plain": [
       "1"
      ]
     },
     "execution_count": 72,
     "metadata": {},
     "output_type": "execute_result"
    }
   ],
   "source": [
    "match([model, None], True)"
   ]
  },
  {
   "cell_type": "code",
   "execution_count": null,
   "metadata": {},
   "outputs": [],
   "source": []
  }
 ],
 "metadata": {
  "kernelspec": {
   "display_name": "Python 3",
   "language": "python",
   "name": "python3"
  },
  "language_info": {
   "codemirror_mode": {
    "name": "ipython",
    "version": 3
   },
   "file_extension": ".py",
   "mimetype": "text/x-python",
   "name": "python",
   "nbconvert_exporter": "python",
   "pygments_lexer": "ipython3",
   "version": "3.6.3"
  }
 },
 "nbformat": 4,
 "nbformat_minor": 2
}
