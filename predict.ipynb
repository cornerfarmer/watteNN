{
 "cells": [
  {
   "cell_type": "markdown",
   "metadata": {},
   "source": [
    "# Predict"
   ]
  },
  {
   "cell_type": "code",
   "execution_count": 38,
   "metadata": {
    "slideshow": {
     "slide_type": "skip"
    }
   },
   "outputs": [],
   "source": [
    "def generate_input(hand_cards, table_card=None, own_tricks=0, opponent_tricks=0, opponent_hand_cards=None):\n",
    "    obs = [np.zeros([4, 8, 2]), np.zeros([4])]\n",
    "    \n",
    "    for card in hand_cards:\n",
    "        obs[0][card.color.value][card.value.value][0] = 1\n",
    "        \n",
    "    if table_card is not None:\n",
    "        obs[0][table_card.color.value][table_card.value.value][1] = 1\n",
    "\n",
    "    obs[1][0] = (own_tricks == 1 or own_tricks == 3)\n",
    "    obs[1][1] = (own_tricks == 2 or own_tricks == 3)\n",
    "\n",
    "    obs[1][2] = (opponent_tricks == 1 or opponent_tricks == 3)\n",
    "    obs[1][3] = (opponent_tricks == 2 or opponent_tricks == 3)\n",
    "    \n",
    "    return obs"
   ]
  },
  {
   "cell_type": "code",
   "execution_count": 14,
   "metadata": {
    "slideshow": {
     "slide_type": "slide"
    }
   },
   "outputs": [],
   "source": [
    "def card(color, value):\n",
    "    for card in env.cards:\n",
    "        if card.value == value and card.color == color:\n",
    "            return card \n",
    "        \n",
    "    return None"
   ]
  },
  {
   "cell_type": "code",
   "execution_count": 168,
   "metadata": {},
   "outputs": [],
   "source": [
    "def set_env(hand_cards, table_card=None, own_tricks=0, opponent_tricks=0, opponent_hand_cards=None):\n",
    "    env.reset()\n",
    "    env.cards_left = env.cards[:]\n",
    "    random.shuffle(env.cards_left)\n",
    "    \n",
    "    for card in hand_cards:\n",
    "        env.cards_left.remove(card)\n",
    "    env.players[0].hand_cards = hand_cards[:]\n",
    "        \n",
    "    if opponent_hand_cards is None:\n",
    "        env.players[1].hand_cards = []\n",
    "        for i in range(len(hand_cards) - (1 if table_card is not None else 0)):\n",
    "            env.players[1].hand_cards.append(env.cards_left.pop())      \n",
    "    else:        \n",
    "        for card in opponent_hand_cards:\n",
    "            env.cards_left.remove(card)\n",
    "        env.players[1].hand_cards = opponent_hand_cards[:]\n",
    "    \n",
    "    env.players[0].tricks = own_tricks\n",
    "    env.players[1].tricks = opponent_tricks\n",
    "    env.table_card = table_card\n",
    "    \n",
    "\n",
    "def calc_correct_output_sample(hand_cards, table_card=None, own_tricks=0, opponent_tricks=0, opponent_hand_cards=None):\n",
    "    global sample_outputs\n",
    "    \n",
    "    set_env(hand_cards, table_card, own_tricks, opponent_tricks, opponent_hand_cards)\n",
    "    \n",
    "    #root = State(1, env.get_state(), env.current_player)\n",
    "    #a, p = mcts_game_step(root, 100)\n",
    "   # env.set_state(root.env_state)\n",
    "   # print(p)\n",
    "    #draw_tree(root)\n",
    "    #print(\"\")\n",
    "    #draw_path(root)\n",
    "    #obs, rew, is_done, _ = env.step(hand_cards[0].id)\n",
    "   # print(rew, is_done)\n",
    "\n",
    "    #env.render('human')\n",
    "    #root = State(1, env.get_state())\n",
    "    #a, p = mcts_game_step(root, 1000, False)\n",
    "    #draw_tree(root)\n",
    "    #print(\"\")\n",
    "    #draw_tree(root.childs[0])\n",
    "    \n",
    "    #draw_path(root)\n",
    "    #reset_samples(1)\n",
    "    p = search(env.regenerate_obs())[1]\n",
    "    #postprocess_samples()\n",
    "        \n",
    "    return p#sample_outputs[0]\n",
    "\n",
    "def show_mcts(hand_cards, table_card=None, own_tricks=0, opponent_tricks=0, opponent_hand_cards=None, tree_depth=5, steps=100):\n",
    "    set_env(hand_cards, table_card, own_tricks, opponent_tricks, opponent_hand_cards)\n",
    "    root = State(1, env.get_state(), env.current_player)\n",
    "    a, p = mcts_game_step(root, steps)\n",
    "    env.set_state(root.env_state)\n",
    "    #draw_tree(root, tree_depth)\n",
    "    return p"
   ]
  },
  {
   "cell_type": "code",
   "execution_count": 16,
   "metadata": {
    "code_folding": [
     0
    ]
   },
   "outputs": [],
   "source": [
    "def calc_correct_output(hand_cards, table_card=None, own_tricks=0, opponent_tricks=0):    \n",
    "    correct_output = None\n",
    "    for i in range(100):\n",
    "        sample_outputs = calc_correct_output_sample(hand_cards, table_card, own_tricks, opponent_tricks)\n",
    "        if correct_output is None:\n",
    "            correct_output = sample_outputs\n",
    "        else:\n",
    "            correct_output += sample_outputs\n",
    "    return correct_output / 100"
   ]
  },
  {
   "cell_type": "code",
   "execution_count": 17,
   "metadata": {
    "code_folding": [
     0
    ]
   },
   "outputs": [],
   "source": [
    "def predict(hand_cards, table_card=None, own_tricks=0, opponent_tricks=0):\n",
    "    input = generate_input(hand_cards, table_card, own_tricks, opponent_tricks)\n",
    "    output = model.predict_single(input)[0]\n",
    "    correct_output = calc_correct_output_sample(hand_cards, table_card, own_tricks, opponent_tricks)\n",
    "    print(output,correct_output)\n",
    "    id = 0\n",
    "    for card in hand_cards:\n",
    "        print(str(card.color) + \" \" + str(card.value) + \" => \" + str(output[card.id]) + \" (\" + str(correct_output[id]) + \")\")\n",
    "        id += 1"
   ]
  },
  {
   "cell_type": "code",
   "execution_count": 253,
   "metadata": {
    "code_folding": [
     0,
     21
    ]
   },
   "outputs": [],
   "source": [
    "def generate_random_game():\n",
    "    own_tricks = random.randint(0, 2)\n",
    "    opponent_tricks = random.randint(0, 2)\n",
    "    table_card_enabled = random.randint(0, 1)\n",
    "    hand_cards = random.sample(env.cards, (5 - own_tricks - opponent_tricks) * 2)\n",
    "    table_card = hand_cards.pop() if table_card_enabled else None\n",
    "    \n",
    "    opponent_hand_cards = []\n",
    "    for i in range(len(hand_cards) // 2):\n",
    "        opponent_hand_cards.append(hand_cards.pop())\n",
    "        \n",
    "    return hand_cards, table_card, own_tricks, opponent_tricks, opponent_hand_cards\n",
    "\n",
    "def generate_game_from_obs(obs):\n",
    "    own_tricks = 0\n",
    "    if obs[1][0]:\n",
    "        own_tricks += 1\n",
    "    if obs[1][1]:\n",
    "        own_tricks += 2   \n",
    "        \n",
    "    opponent_tricks = 0\n",
    "    if obs[1][2]:\n",
    "        opponent_tricks += 1\n",
    "    if obs[1][3]:\n",
    "        opponent_tricks += 2    \n",
    "        \n",
    "    cards_left = env.cards[:]\n",
    "    random.shuffle(cards_left)\n",
    "    hand_cards = []\n",
    "    table_card = None\n",
    "    for c in Color:\n",
    "        for v in Value: \n",
    "            if obs[0][c.value][v.value][0]:\n",
    "                hand_cards.append(card(c, v))\n",
    "                cards_left.remove(hand_cards[-1])\n",
    "            if obs[0][c.value][v.value][1]:\n",
    "                table_card = card(c, v)\n",
    "                cards_left.remove(table_card)\n",
    "    \n",
    "    opponent_hand_cards = []\n",
    "    for i in range(5 - own_tricks - opponent_tricks - (1 if table_card is not None else 0)):\n",
    "        opponent_hand_cards.append(cards_left.pop())\n",
    "        \n",
    "    return hand_cards, table_card, own_tricks, opponent_tricks, opponent_hand_cards\n",
    "\n",
    "def create_eval_cache():\n",
    "    eval_cache_input = []\n",
    "    eval_cache_output = []\n",
    "    for i in range(1000):\n",
    "        game = generate_random_game()\n",
    "        eval_cache_input.append(generate_input(game))\n",
    "        output = calc_correct_output(game)\n",
    "        \n",
    "        outputs_per_card = np.zeros((32,))\n",
    "        for i in range(len(hand_cards)):\n",
    "            outputs_per_card[hand_cards[i].id] = output[i]\n",
    "            \n",
    "        eval_cache_output.append(outputs_per_card)\n",
    "        \n",
    "    return eval_cache_input, eval_cache_output\n",
    "        \n",
    "def eval(model, eval_cache_input, eval_cache_output):\n",
    "    correct = 0\n",
    "    for i in range(len(eval_cache_input)):\n",
    "\n",
    "        output = model.predict_single(eval_cache_input[i])[0]\n",
    "        correct_output = eval_cache_output[i]\n",
    "                    \n",
    "        correct += correct_output[np.argmax(output)] == correct_output[np.argmax(correct_output)]\n",
    "        #if correct_output[np.argmax(output)] != correct_output[np.argmax(correct_output)]:\n",
    "         #   print(i, correct_output[np.argmax(output)], correct_output[np.argmax(correct_output)])\n",
    "            \n",
    "    return correct / len(eval_cache_input)\n"
   ]
  },
  {
   "cell_type": "code",
   "execution_count": 42,
   "metadata": {},
   "outputs": [],
   "source": [
    "eval_cache_input, eval_cache_output = create_eval_cache()"
   ]
  },
  {
   "cell_type": "code",
   "execution_count": 18,
   "metadata": {},
   "outputs": [],
   "source": [
    "with open('eval_cache', 'wb') as fp:\n",
    "    pickle.dump([eval_cache_input, eval_cache_output], fp)"
   ]
  },
  {
   "cell_type": "code",
   "execution_count": 22,
   "metadata": {},
   "outputs": [],
   "source": [
    "with open ('eval_cache', 'rb') as fp:\n",
    "    eval_cache_input, eval_cache_output = pickle.load(fp)"
   ]
  },
  {
   "cell_type": "code",
   "execution_count": 263,
   "metadata": {},
   "outputs": [
    {
     "name": "stdout",
     "output_type": "stream",
     "text": [
      "3 0.57 0.59\n",
      "13 0.55 0.57\n",
      "14 0.21 0.39\n",
      "27 0.37 0.4\n",
      "28 0.35 0.44\n",
      "54 0.17 0.38\n",
      "97 0.01 0.02\n"
     ]
    },
    {
     "data": {
      "text/plain": [
       "0.93"
      ]
     },
     "execution_count": 263,
     "metadata": {},
     "output_type": "execute_result"
    }
   ],
   "source": [
    "eval(model, eval_cache_input, eval_cache_output)"
   ]
  },
  {
   "cell_type": "code",
   "execution_count": 267,
   "metadata": {},
   "outputs": [
    {
     "data": {
      "text/plain": [
       "[array([[[0., 0.],\n",
       "         [0., 0.],\n",
       "         [0., 0.],\n",
       "         [0., 0.],\n",
       "         [0., 0.],\n",
       "         [0., 0.],\n",
       "         [0., 0.],\n",
       "         [0., 0.]],\n",
       " \n",
       "        [[1., 0.],\n",
       "         [0., 0.],\n",
       "         [0., 0.],\n",
       "         [0., 0.],\n",
       "         [0., 0.],\n",
       "         [1., 0.],\n",
       "         [0., 0.],\n",
       "         [0., 0.]],\n",
       " \n",
       "        [[0., 0.],\n",
       "         [0., 0.],\n",
       "         [0., 0.],\n",
       "         [0., 0.],\n",
       "         [0., 0.],\n",
       "         [0., 0.],\n",
       "         [0., 0.],\n",
       "         [0., 0.]],\n",
       " \n",
       "        [[0., 0.],\n",
       "         [0., 0.],\n",
       "         [1., 0.],\n",
       "         [0., 0.],\n",
       "         [0., 0.],\n",
       "         [0., 0.],\n",
       "         [0., 0.],\n",
       "         [0., 0.]]]), array([0., 1., 0., 0.])]"
      ]
     },
     "execution_count": 267,
     "metadata": {},
     "output_type": "execute_result"
    }
   ],
   "source": [
    "eval_cache_input[14]"
   ]
  },
  {
   "cell_type": "code",
   "execution_count": 265,
   "metadata": {},
   "outputs": [
    {
     "data": {
      "text/plain": [
       "array([0.  , 0.  , 0.  , 0.  , 0.  , 0.  , 0.  , 0.  , 0.  , 0.  , 0.21,\n",
       "       0.  , 0.  , 0.  , 0.  , 0.16, 0.  , 0.  , 0.  , 0.  , 0.  , 0.  ,\n",
       "       0.  , 0.  , 0.  , 0.  , 0.  , 0.  , 0.  , 0.39, 0.  , 0.  ])"
      ]
     },
     "execution_count": 265,
     "metadata": {},
     "output_type": "execute_result"
    }
   ],
   "source": [
    "eval_cache_output[14]"
   ]
  },
  {
   "cell_type": "code",
   "execution_count": 303,
   "metadata": {},
   "outputs": [
    {
     "data": {
      "text/plain": [
       "array([0.29233535, 0.30318181, 0.40448284])"
      ]
     },
     "execution_count": 303,
     "metadata": {},
     "output_type": "execute_result"
    }
   ],
   "source": [
    "val = []\n",
    "for i in range(10):\n",
    "    val.append(calc_correct_output_sample([\n",
    "            card(Color.GRUEN, Value.SIEBEN), \n",
    "            card(Color.GRUEN, Value.OBER), \n",
    "            card(Color.SCHELLN, Value.NEUN)\n",
    "        ], None, 2, 0))\n",
    "np.mean(val, 0)\n"
   ]
  },
  {
   "cell_type": "code",
   "execution_count": 113,
   "metadata": {},
   "outputs": [
    {
     "data": {
      "text/plain": [
       "True"
      ]
     },
     "execution_count": 113,
     "metadata": {},
     "output_type": "execute_result"
    }
   ],
   "source": [
    "env.set_state(my_state)\n",
    "env.render('human')"
   ]
  },
  {
   "cell_type": "code",
   "execution_count": 285,
   "metadata": {},
   "outputs": [
    {
     "name": "stdout",
     "output_type": "stream",
     "text": [
      "[0.23458585 0.21142988 0.55398427]\n"
     ]
    },
    {
     "name": "stderr",
     "output_type": "stream",
     "text": [
      "/usr/local/lib/python3.6/dist-packages/matplotlib/pyplot.py:528: RuntimeWarning: More than 20 figures have been opened. Figures created through the pyplot interface (`matplotlib.pyplot.figure`) are retained until explicitly closed and may consume too much memory. (To control this warning, see the rcParam `figure.max_open_warning`).\n",
      "  max_open_warning, RuntimeWarning)\n"
     ]
    },
    {
     "data": {
      "application/vnd.jupyter.widget-view+json": {
       "model_id": "65b3d3bcb8ba4c91aac93c2b6afa8aff",
       "version_major": 2,
       "version_minor": 0
      },
      "text/html": [
       "<p>Failed to display Jupyter Widget of type <code>FigureCanvasNbAgg</code>.</p>\n",
       "<p>\n",
       "  If you're reading this message in the Jupyter Notebook or JupyterLab Notebook, it may mean\n",
       "  that the widgets JavaScript is still loading. If this message persists, it\n",
       "  likely means that the widgets JavaScript library is either not installed or\n",
       "  not enabled. See the <a href=\"https://ipywidgets.readthedocs.io/en/stable/user_install.html\">Jupyter\n",
       "  Widgets Documentation</a> for setup instructions.\n",
       "</p>\n",
       "<p>\n",
       "  If you're reading this message in another frontend (for example, a static\n",
       "  rendering on GitHub or <a href=\"https://nbviewer.jupyter.org/\">NBViewer</a>),\n",
       "  it may mean that your frontend doesn't currently support widgets.\n",
       "</p>\n"
      ],
      "text/plain": [
       "FigureCanvasNbAgg()"
      ]
     },
     "metadata": {},
     "output_type": "display_data"
    },
    {
     "data": {
      "text/plain": [
       "array([0., 0., 1.])"
      ]
     },
     "execution_count": 285,
     "metadata": {},
     "output_type": "execute_result"
    }
   ],
   "source": [
    "calc_correct_output_sample([\n",
    "            card(Color.GRUEN, Value.SIEBEN), \n",
    "            card(Color.GRUEN, Value.OBER), \n",
    "            card(Color.SCHELLN, Value.NEUN)\n",
    "        ], None, 2, 0)"
   ]
  },
  {
   "cell_type": "code",
   "execution_count": 255,
   "metadata": {},
   "outputs": [
    {
     "name": "stdout",
     "output_type": "stream",
     "text": [
      "[0.39571235 0.33549584 0.26879181]\n"
     ]
    },
    {
     "name": "stderr",
     "output_type": "stream",
     "text": [
      "/usr/local/lib/python3.6/dist-packages/matplotlib/pyplot.py:528: RuntimeWarning: More than 20 figures have been opened. Figures created through the pyplot interface (`matplotlib.pyplot.figure`) are retained until explicitly closed and may consume too much memory. (To control this warning, see the rcParam `figure.max_open_warning`).\n",
      "  max_open_warning, RuntimeWarning)\n"
     ]
    },
    {
     "data": {
      "application/vnd.jupyter.widget-view+json": {
       "model_id": "5c25950c878f4bcdb66c09a724db89d1",
       "version_major": 2,
       "version_minor": 0
      },
      "text/html": [
       "<p>Failed to display Jupyter Widget of type <code>FigureCanvasNbAgg</code>.</p>\n",
       "<p>\n",
       "  If you're reading this message in the Jupyter Notebook or JupyterLab Notebook, it may mean\n",
       "  that the widgets JavaScript is still loading. If this message persists, it\n",
       "  likely means that the widgets JavaScript library is either not installed or\n",
       "  not enabled. See the <a href=\"https://ipywidgets.readthedocs.io/en/stable/user_install.html\">Jupyter\n",
       "  Widgets Documentation</a> for setup instructions.\n",
       "</p>\n",
       "<p>\n",
       "  If you're reading this message in another frontend (for example, a static\n",
       "  rendering on GitHub or <a href=\"https://nbviewer.jupyter.org/\">NBViewer</a>),\n",
       "  it may mean that your frontend doesn't currently support widgets.\n",
       "</p>\n"
      ],
      "text/plain": [
       "FigureCanvasNbAgg()"
      ]
     },
     "metadata": {},
     "output_type": "display_data"
    },
    {
     "name": "stdout",
     "output_type": "stream",
     "text": [
      "[0.00219368 0.00295891 0.00492629 0.00228125 0.00067742 0.0019176\n",
      " 0.00160495 0.00306738 0.00170262 0.2736106  0.00104753 0.00065809\n",
      " 0.00124946 0.00122479 0.00083221 0.34336203 0.00157421 0.35396522\n",
      " 0.0022292  0.00107221 0.0017584  0.00199055 0.0022874  0.00158446\n",
      " 0.00120892 0.00238398 0.00235519 0.00170699 0.0021641  0.00231255\n",
      " 0.00093804 0.00114301] [0. 0. 0.]\n",
      "Color.GRUEN Value.SIEBEN => 0.34336203 (0.0)\n",
      "Color.GRUEN Value.KOENIG => 0.2736106 (0.0)\n",
      "Color.HERZ Value.KOENIG => 0.35396522 (0.0)\n"
     ]
    }
   ],
   "source": [
    "predict([\n",
    "            card(Color.GRUEN, Value.SIEBEN), \n",
    "            card(Color.GRUEN, Value.KOENIG),\n",
    "            card(Color.HERZ, Value.KOENIG)\n",
    "        ], card(Color.EICHEL, Value.ZEHN), 1, 1)"
   ]
  },
  {
   "cell_type": "code",
   "execution_count": 257,
   "metadata": {
    "scrolled": false
   },
   "outputs": [
    {
     "name": "stdout",
     "output_type": "stream",
     "text": [
      "[0.16209546 0.29126847 0.14643211 0.25181529 0.14838867]\n"
     ]
    },
    {
     "name": "stderr",
     "output_type": "stream",
     "text": [
      "/usr/local/lib/python3.6/dist-packages/matplotlib/pyplot.py:528: RuntimeWarning: More than 20 figures have been opened. Figures created through the pyplot interface (`matplotlib.pyplot.figure`) are retained until explicitly closed and may consume too much memory. (To control this warning, see the rcParam `figure.max_open_warning`).\n",
      "  max_open_warning, RuntimeWarning)\n"
     ]
    },
    {
     "data": {
      "application/vnd.jupyter.widget-view+json": {
       "model_id": "e0fadc46a24e47d9b027a940dafbc2ac",
       "version_major": 2,
       "version_minor": 0
      },
      "text/html": [
       "<p>Failed to display Jupyter Widget of type <code>FigureCanvasNbAgg</code>.</p>\n",
       "<p>\n",
       "  If you're reading this message in the Jupyter Notebook or JupyterLab Notebook, it may mean\n",
       "  that the widgets JavaScript is still loading. If this message persists, it\n",
       "  likely means that the widgets JavaScript library is either not installed or\n",
       "  not enabled. See the <a href=\"https://ipywidgets.readthedocs.io/en/stable/user_install.html\">Jupyter\n",
       "  Widgets Documentation</a> for setup instructions.\n",
       "</p>\n",
       "<p>\n",
       "  If you're reading this message in another frontend (for example, a static\n",
       "  rendering on GitHub or <a href=\"https://nbviewer.jupyter.org/\">NBViewer</a>),\n",
       "  it may mean that your frontend doesn't currently support widgets.\n",
       "</p>\n"
      ],
      "text/plain": [
       "FigureCanvasNbAgg()"
      ]
     },
     "metadata": {},
     "output_type": "display_data"
    },
    {
     "name": "stdout",
     "output_type": "stream",
     "text": [
      "[0.00225554 0.12882802 0.00333104 0.16498454 0.00407682 0.00374047\n",
      " 0.00184983 0.01050379 0.00643561 0.36693758 0.00278587 0.00835195\n",
      " 0.22336954 0.00493929 0.00303816 0.00170397 0.00097518 0.0054345\n",
      " 0.00415214 0.00438484 0.00151944 0.00706366 0.00218979 0.21273391\n",
      " 0.0010833  0.00248363 0.00400397 0.00299505 0.00209963 0.00448016\n",
      " 0.00377667 0.00315689] [0. 1. 0. 1. 1.]\n",
      "Color.EICHEL Value.UNTER => 0.16498454 (0.0)\n",
      "Color.GRUEN Value.KOENIG => 0.36693758 (1.0)\n",
      "Color.EICHEL Value.KOENIG => 0.12882802 (0.0)\n",
      "Color.HERZ Value.SIEBEN => 0.21273391 (1.0)\n",
      "Color.GRUEN Value.ZEHN => 0.22336954 (1.0)\n"
     ]
    }
   ],
   "source": [
    "predict([\n",
    "    card(Color.EICHEL, Value.UNTER), \n",
    "    card(Color.GRUEN, Value.KOENIG),\n",
    "    card(Color.EICHEL, Value.KOENIG),\n",
    "    card(Color.HERZ, Value.SIEBEN),\n",
    "    card(Color.GRUEN, Value.ZEHN),\n",
    "    ],card(Color.GRUEN, Value.OBER), 0, 0)"
   ]
  },
  {
   "cell_type": "code",
   "execution_count": 261,
   "metadata": {},
   "outputs": [
    {
     "name": "stdout",
     "output_type": "stream",
     "text": [
      "[0.28631919 0.15695597 0.25385176 0.14562401 0.15724907]\n"
     ]
    },
    {
     "name": "stderr",
     "output_type": "stream",
     "text": [
      "/usr/local/lib/python3.6/dist-packages/matplotlib/pyplot.py:528: RuntimeWarning: More than 20 figures have been opened. Figures created through the pyplot interface (`matplotlib.pyplot.figure`) are retained until explicitly closed and may consume too much memory. (To control this warning, see the rcParam `figure.max_open_warning`).\n",
      "  max_open_warning, RuntimeWarning)\n"
     ]
    },
    {
     "data": {
      "application/vnd.jupyter.widget-view+json": {
       "model_id": "4a5c8e7ee194479d8d7689e6013e33cc",
       "version_major": 2,
       "version_minor": 0
      },
      "text/html": [
       "<p>Failed to display Jupyter Widget of type <code>FigureCanvasNbAgg</code>.</p>\n",
       "<p>\n",
       "  If you're reading this message in the Jupyter Notebook or JupyterLab Notebook, it may mean\n",
       "  that the widgets JavaScript is still loading. If this message persists, it\n",
       "  likely means that the widgets JavaScript library is either not installed or\n",
       "  not enabled. See the <a href=\"https://ipywidgets.readthedocs.io/en/stable/user_install.html\">Jupyter\n",
       "  Widgets Documentation</a> for setup instructions.\n",
       "</p>\n",
       "<p>\n",
       "  If you're reading this message in another frontend (for example, a static\n",
       "  rendering on GitHub or <a href=\"https://nbviewer.jupyter.org/\">NBViewer</a>),\n",
       "  it may mean that your frontend doesn't currently support widgets.\n",
       "</p>\n"
      ],
      "text/plain": [
       "FigureCanvasNbAgg()"
      ]
     },
     "metadata": {},
     "output_type": "display_data"
    },
    {
     "name": "stdout",
     "output_type": "stream",
     "text": [
      "[0.21805565 0.00234719 0.00126939 0.00292074 0.00098915 0.00168285\n",
      " 0.00176553 0.00741228 0.00306193 0.20693102 0.00235981 0.17444488\n",
      " 0.00192268 0.00234325 0.00263577 0.00079589 0.00064911 0.00227424\n",
      " 0.00357403 0.00439737 0.00371622 0.00286246 0.19036686 0.19911051\n",
      " 0.00340857 0.0075426  0.0011064  0.00157739 0.00197756 0.00082587\n",
      " 0.00150106 0.00150635] [0. 0. 0. 0. 0.]\n",
      "Color.HERZ Value.SIEBEN => 0.19911051 (0.0)\n",
      "Color.GRUEN Value.KOENIG => 0.20693102 (0.0)\n",
      "Color.HERZ Value.ACHT => 0.19036686 (0.0)\n",
      "Color.EICHEL Value.SAU => 0.21805565 (0.0)\n",
      "Color.GRUEN Value.UNTER => 0.17444488 (0.0)\n"
     ]
    }
   ],
   "source": [
    "predict([\n",
    "    card(Color.HERZ, Value.SIEBEN), \n",
    "    card(Color.GRUEN, Value.KOENIG),\n",
    "    card(Color.HERZ, Value.ACHT),\n",
    "    card(Color.EICHEL, Value.SAU),\n",
    "    card(Color.GRUEN, Value.UNTER),\n",
    "    ],card(Color.SCHELLN, Value.OBER), 0, 0)"
   ]
  },
  {
   "cell_type": "code",
   "execution_count": 395,
   "metadata": {},
   "outputs": [
    {
     "data": {
      "text/plain": [
       "[array([3.2768894e-03, 1.9878964e-01, 1.3820220e-02, 4.6424335e-01,\n",
       "        7.1053780e-03, 2.9274071e-02, 8.1222923e-03, 5.4989127e-04,\n",
       "        8.0019347e-03, 4.3923180e-03, 4.0565468e-03, 3.2476720e-03,\n",
       "        2.0850727e-01, 4.3509626e-03, 5.9748022e-03, 6.1062318e-03,\n",
       "        1.3822509e-03, 2.1725877e-04, 1.3098384e-03, 7.1340741e-04,\n",
       "        2.0487478e-03, 3.3812402e-03, 1.0878793e-04, 7.3019944e-02,\n",
       "        3.4260689e-03, 2.7179192e-03, 1.3691070e-03, 6.1381124e-03,\n",
       "        4.5132274e-03, 4.4453251e-03, 2.2470709e-03, 4.3023235e-04],\n",
       "       dtype=float32), array([0.5526783], dtype=float32)]"
      ]
     },
     "execution_count": 395,
     "metadata": {},
     "output_type": "execute_result"
    }
   ],
   "source": [
    "hard_input = generate_input([\n",
    "    card(Color.EICHEL, Value.UNTER), \n",
    "    #card(Color.GRUEN, Value.KOENIG),\n",
    "    card(Color.EICHEL, Value.KOENIG),\n",
    "    card(Color.HERZ, Value.SIEBEN),\n",
    "    card(Color.GRUEN, Value.ZEHN),\n",
    "    ],None, 1, 0)\n",
    "model.predict_single(hard_input)"
   ]
  },
  {
   "cell_type": "code",
   "execution_count": null,
   "metadata": {},
   "outputs": [],
   "source": [
    "for sample_input in sample_inputs[0]:\n",
    "    if np.array_equal(sample_input,hard_input[0]):\n",
    "        print(\"test\")"
   ]
  },
  {
   "cell_type": "code",
   "execution_count": 80,
   "metadata": {},
   "outputs": [
    {
     "data": {
      "text/plain": [
       "0.48"
      ]
     },
     "execution_count": 80,
     "metadata": {},
     "output_type": "execute_result"
    }
   ],
   "source": [
    "compare(model, None)"
   ]
  },
  {
   "cell_type": "code",
   "execution_count": 72,
   "metadata": {},
   "outputs": [
    {
     "name": "stdout",
     "output_type": "stream",
     "text": [
      "[0. 0. 1. 0. 0.]\n",
      "[1. 1. 0. 1.]\n",
      "[1. 1. 0.]\n",
      "[1. 0.]\n",
      "[1.]\n"
     ]
    },
    {
     "data": {
      "text/plain": [
       "1"
      ]
     },
     "execution_count": 72,
     "metadata": {},
     "output_type": "execute_result"
    }
   ],
   "source": [
    "match([model, None], True)"
   ]
  },
  {
   "cell_type": "code",
   "execution_count": null,
   "metadata": {},
   "outputs": [],
   "source": []
  }
 ],
 "metadata": {
  "kernelspec": {
   "display_name": "Python 3",
   "language": "python",
   "name": "python3"
  },
  "language_info": {
   "codemirror_mode": {
    "name": "ipython",
    "version": 3
   },
   "file_extension": ".py",
   "mimetype": "text/x-python",
   "name": "python",
   "nbconvert_exporter": "python",
   "pygments_lexer": "ipython3",
   "version": "3.6.3"
  }
 },
 "nbformat": 4,
 "nbformat_minor": 2
}
