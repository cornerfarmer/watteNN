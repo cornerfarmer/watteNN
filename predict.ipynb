{
 "cells": [
  {
   "cell_type": "markdown",
   "metadata": {},
   "source": [
    "# Predict"
   ]
  },
  {
   "cell_type": "code",
   "execution_count": 9,
   "metadata": {
    "slideshow": {
     "slide_type": "skip"
    }
   },
   "outputs": [],
   "source": [
    "def generate_input(hand_cards, table_card=None, own_tricks=0, opponent_tricks=0):\n",
    "    obs = [np.zeros([4, 8, 2]), np.zeros([4])]\n",
    "    \n",
    "    for card in hand_cards:\n",
    "        obs[0][card.color.value][card.value.value][0] = 1\n",
    "        \n",
    "    if table_card is not None:\n",
    "        obs[0][table_card.color.value][table_card.value.value][1] = 1\n",
    "\n",
    "    obs[1][0] = (own_tricks == 1 or own_tricks == 3)\n",
    "    obs[1][1] = (own_tricks == 2 or own_tricks == 3)\n",
    "\n",
    "    obs[1][2] = (opponent_tricks == 1 or opponent_tricks == 3)\n",
    "    obs[1][3] = (opponent_tricks == 2 or opponent_tricks == 3)\n",
    "    \n",
    "    return obs"
   ]
  },
  {
   "cell_type": "code",
   "execution_count": 10,
   "metadata": {
    "slideshow": {
     "slide_type": "slide"
    }
   },
   "outputs": [],
   "source": [
    "def card(color, value):\n",
    "    for card in env.cards:\n",
    "        if card.value == value and card.color == color:\n",
    "            return card\n",
    "        \n",
    "    return None"
   ]
  },
  {
   "cell_type": "code",
   "execution_count": 276,
   "metadata": {},
   "outputs": [],
   "source": [
    "def calc_correct_output_sample(hand_cards, table_card=None, own_tricks=0, opponent_tricks=0):\n",
    "    global sample_outputs, my_state\n",
    "    env.reset()\n",
    "    env.cards_left = env.cards[:]\n",
    "    random.shuffle(env.cards_left)\n",
    "    \n",
    "    for card in hand_cards:\n",
    "        env.cards_left.remove(card)\n",
    "    env.players[0].hand_cards = hand_cards[:]\n",
    "        \n",
    "    env.players[1].hand_cards = []\n",
    "    for i in range(len(hand_cards) - (1 if table_card is not None else 0)):\n",
    "        env.players[1].hand_cards.append(env.cards_left.pop())      \n",
    "    \n",
    "    env.players[0].tricks = own_tricks\n",
    "    env.players[1].tricks = opponent_tricks\n",
    "    env.table_card = table_card\n",
    "    \n",
    "    my_state = env.get_state()\n",
    "    \n",
    "    root = State(1, env.get_state(), env.current_player)\n",
    "    a, p = mcts_game_step(root, 100)\n",
    "    env.set_state(root.env_state)\n",
    "    print(p)\n",
    "    #draw_tree(root)\n",
    "    #print(\"\")\n",
    "    #draw_path(root)\n",
    "    #obs, rew, is_done, _ = env.step(hand_cards[0].id)\n",
    "   # print(rew, is_done)\n",
    "\n",
    "    #env.render('human')\n",
    "    #root = State(1, env.get_state())\n",
    "    #a, p = mcts_game_step(root, 1000, False)\n",
    "    #draw_tree(root)\n",
    "    #print(\"\")\n",
    "    #draw_tree(root.childs[0])\n",
    "    \n",
    "    #draw_path(root)\n",
    "    #reset_samples(1)\n",
    "    p = search(env.regenerate_obs())[1]\n",
    "    #postprocess_samples()\n",
    "        \n",
    "    return p#sample_outputs[0]"
   ]
  },
  {
   "cell_type": "code",
   "execution_count": 12,
   "metadata": {
    "code_folding": [
     0
    ]
   },
   "outputs": [],
   "source": [
    "def calc_correct_output(hand_cards, table_card=None, own_tricks=0, opponent_tricks=0):    \n",
    "    correct_output = None\n",
    "    for i in range(100):\n",
    "        sample_outputs = calc_correct_output_sample(hand_cards, table_card, own_tricks, opponent_tricks)\n",
    "        if correct_output is None:\n",
    "            correct_output = sample_outputs\n",
    "        else:\n",
    "            correct_output += sample_outputs\n",
    "    return correct_output / 100"
   ]
  },
  {
   "cell_type": "code",
   "execution_count": 13,
   "metadata": {
    "code_folding": [
     0
    ]
   },
   "outputs": [],
   "source": [
    "def predict(hand_cards, table_card=None, own_tricks=0, opponent_tricks=0):\n",
    "    input = generate_input(hand_cards, table_card, own_tricks, opponent_tricks)\n",
    "    output = model.predict_single(input)[0]\n",
    "    correct_output = calc_correct_output_sample(hand_cards, table_card, own_tricks, opponent_tricks)\n",
    "    print(output,correct_output)\n",
    "    id = 0\n",
    "    for card in hand_cards:\n",
    "        print(str(card.color) + \" \" + str(card.value) + \" => \" + str(output[card.id]) + \" (\" + str(correct_output[id]) + \")\")\n",
    "        id += 1"
   ]
  },
  {
   "cell_type": "code",
   "execution_count": 339,
   "metadata": {
    "code_folding": [
     0,
     21
    ]
   },
   "outputs": [],
   "source": [
    "def create_eval_cache():\n",
    "    eval_cache_input = []\n",
    "    eval_cache_output = []\n",
    "    for i in range(1000):\n",
    "        own_tricks = random.randint(0, 2)\n",
    "        opponent_tricks = random.randint(0, 2)\n",
    "        table_card_enabled = random.randint(0, 1)\n",
    "        hand_cards = random.sample(env.cards, (5 - own_tricks - opponent_tricks) * 2 + table_card_enabled)\n",
    "        table_card = hand_cards.pop() if table_card_enabled else None\n",
    "        \n",
    "        opponent_hand_cards = []\n",
    "        for i in range(len(hand_cards) // 2):\n",
    "            opponent_hand_cards.append(hand_cards.pop())\n",
    "\n",
    "        eval_cache_input.append(generate_input(hand_cards, table_card, own_tricks, opponent_tricks, opponent_hand_cards))\n",
    "        output = calc_correct_output_sample(hand_cards, table_card, own_tricks, opponent_tricks, opponent_hand_cards)\n",
    "        \n",
    "        outputs_per_card = np.zeros((32,))\n",
    "        for i in range(len(hand_cards)):\n",
    "            outputs_per_card[hand_cards[i].id] = output[i]\n",
    "            \n",
    "        eval_cache_output.append(outputs_per_card)\n",
    "        \n",
    "    return eval_cache_input, eval_cache_output\n",
    "        \n",
    "def eval(model, eval_cache_input, eval_cache_output):\n",
    "    correct = 0\n",
    "    for i in range(len(eval_cache_input)):\n",
    "\n",
    "        output = model.predict_single(eval_cache_input[i])[0]\n",
    "        correct_output = eval_cache_output[i]\n",
    "                    \n",
    "        correct += correct_output[np.argmax(output)] == correct_output[np.argmax(correct_output)]\n",
    "        #if correct_output[np.argmax(output)] != correct_output[np.argmax(correct_output)]:\n",
    "        #    print(i, correct_output[np.argmax(output)], correct_output[np.argmax(correct_output)])\n",
    "            \n",
    "    return correct / len(eval_cache_input)\n"
   ]
  },
  {
   "cell_type": "code",
   "execution_count": 42,
   "metadata": {},
   "outputs": [],
   "source": [
    "eval_cache_input, eval_cache_output = create_eval_cache()"
   ]
  },
  {
   "cell_type": "code",
   "execution_count": 18,
   "metadata": {},
   "outputs": [],
   "source": [
    "with open('eval_cache', 'wb') as fp:\n",
    "    pickle.dump([eval_cache_input, eval_cache_output], fp)"
   ]
  },
  {
   "cell_type": "code",
   "execution_count": 92,
   "metadata": {},
   "outputs": [],
   "source": [
    "with open ('eval_cache', 'rb') as fp:\n",
    "    eval_cache_input, eval_cache_output = pickle.load(fp)"
   ]
  },
  {
   "cell_type": "code",
   "execution_count": 122,
   "metadata": {},
   "outputs": [
    {
     "name": "stdout",
     "output_type": "stream",
     "text": [
      "8 0.05 0.07\n",
      "9 0.65 0.77\n",
      "11 0.9 0.98\n",
      "14 0.21 0.39\n",
      "24 0.4 0.58\n",
      "27 0.37 0.4\n",
      "28 0.17 0.44\n",
      "33 0.21 0.33\n",
      "37 0.79 0.92\n",
      "40 0.33 0.44\n",
      "50 0.05 0.12\n",
      "54 0.17 0.38\n",
      "62 0.19 0.33\n",
      "66 0.1 0.13\n",
      "75 0.3 0.55\n",
      "81 0.7 0.71\n",
      "87 0.8 0.9\n",
      "88 0.92 0.93\n",
      "95 0.76 0.87\n",
      "98 0.61 0.83\n"
     ]
    },
    {
     "data": {
      "text/plain": [
       "0.8"
      ]
     },
     "execution_count": 122,
     "metadata": {},
     "output_type": "execute_result"
    }
   ],
   "source": [
    "eval(model, eval_cache_input, eval_cache_output)"
   ]
  },
  {
   "cell_type": "code",
   "execution_count": 128,
   "metadata": {},
   "outputs": [
    {
     "data": {
      "text/plain": [
       "[array([[[0., 0.],\n",
       "         [0., 0.],\n",
       "         [0., 0.],\n",
       "         [1., 0.],\n",
       "         [0., 0.],\n",
       "         [0., 0.],\n",
       "         [0., 0.],\n",
       "         [0., 0.]],\n",
       " \n",
       "        [[0., 0.],\n",
       "         [0., 0.],\n",
       "         [0., 0.],\n",
       "         [0., 0.],\n",
       "         [0., 0.],\n",
       "         [0., 0.],\n",
       "         [1., 0.],\n",
       "         [0., 0.]],\n",
       " \n",
       "        [[0., 0.],\n",
       "         [0., 0.],\n",
       "         [0., 0.],\n",
       "         [0., 0.],\n",
       "         [0., 1.],\n",
       "         [0., 0.],\n",
       "         [0., 0.],\n",
       "         [0., 0.]],\n",
       " \n",
       "        [[0., 0.],\n",
       "         [0., 0.],\n",
       "         [0., 0.],\n",
       "         [0., 0.],\n",
       "         [0., 0.],\n",
       "         [0., 0.],\n",
       "         [1., 0.],\n",
       "         [0., 0.]]]), array([1., 0., 1., 0.])]"
      ]
     },
     "execution_count": 128,
     "metadata": {},
     "output_type": "execute_result"
    }
   ],
   "source": [
    "eval_cache_input[50]"
   ]
  },
  {
   "cell_type": "code",
   "execution_count": 168,
   "metadata": {},
   "outputs": [
    {
     "data": {
      "text/plain": [
       "array([0.41414141, 0.21818182, 0.36767677])"
      ]
     },
     "execution_count": 168,
     "metadata": {},
     "output_type": "execute_result"
    }
   ],
   "source": [
    "val = []\n",
    "for i in range(5):\n",
    "    val.append(calc_correct_output_sample([\n",
    "            card(Color.EICHEL, Value.ZEHN), \n",
    "            card(Color.GRUEN, Value.KOENIG),\n",
    "            card(Color.SCHELLN, Value.KOENIG)\n",
    "        ], card(Color.HERZ, Value.UNTER), 1, 1))\n",
    "np.mean(val, 0)\n"
   ]
  },
  {
   "cell_type": "code",
   "execution_count": 171,
   "metadata": {},
   "outputs": [
    {
     "data": {
      "text/plain": [
       "True"
      ]
     },
     "execution_count": 171,
     "metadata": {},
     "output_type": "execute_result"
    }
   ],
   "source": [
    "env.set_state(my_state)\n",
    "env.render('human')"
   ]
  },
  {
   "cell_type": "code",
   "execution_count": 161,
   "metadata": {},
   "outputs": [
    {
     "data": {
      "text/plain": [
       "array([0.42666667, 0.29717172, 0.27616162])"
      ]
     },
     "execution_count": 161,
     "metadata": {},
     "output_type": "execute_result"
    }
   ],
   "source": [
    "calc_correct_output([\n",
    "            card(Color.EICHEL, Value.ZEHN), \n",
    "            card(Color.GRUEN, Value.KOENIG),\n",
    "            card(Color.SCHELLN, Value.KOENIG)\n",
    "        ], card(Color.HERZ, Value.UNTER), 1, 1)"
   ]
  },
  {
   "cell_type": "code",
   "execution_count": 118,
   "metadata": {},
   "outputs": [
    {
     "name": "stdout",
     "output_type": "stream",
     "text": [
      "[0.01010101 0.92929293 0.06060606]\n"
     ]
    },
    {
     "data": {
      "application/vnd.jupyter.widget-view+json": {
       "model_id": "9e18e2d25e6345e0a5f8b07eea1f3959",
       "version_major": 2,
       "version_minor": 0
      },
      "text/html": [
       "<p>Failed to display Jupyter Widget of type <code>FigureCanvasNbAgg</code>.</p>\n",
       "<p>\n",
       "  If you're reading this message in the Jupyter Notebook or JupyterLab Notebook, it may mean\n",
       "  that the widgets JavaScript is still loading. If this message persists, it\n",
       "  likely means that the widgets JavaScript library is either not installed or\n",
       "  not enabled. See the <a href=\"https://ipywidgets.readthedocs.io/en/stable/user_install.html\">Jupyter\n",
       "  Widgets Documentation</a> for setup instructions.\n",
       "</p>\n",
       "<p>\n",
       "  If you're reading this message in another frontend (for example, a static\n",
       "  rendering on GitHub or <a href=\"https://nbviewer.jupyter.org/\">NBViewer</a>),\n",
       "  it may mean that your frontend doesn't currently support widgets.\n",
       "</p>\n"
      ],
      "text/plain": [
       "FigureCanvasNbAgg()"
      ]
     },
     "metadata": {},
     "output_type": "display_data"
    },
    {
     "name": "stdout",
     "output_type": "stream",
     "text": [
      "[1.8062188e-04 4.0544182e-01 4.0708482e-04 6.6482770e-04 3.1092277e-04\n",
      " 1.5561111e-04 9.0298660e-02 8.2208670e-04 3.8172072e-04 2.0914595e-04\n",
      " 3.2153123e-04 3.2620661e-05 1.4715923e-03 3.2457788e-04 3.1679973e-04\n",
      " 9.4266092e-05 6.2101352e-01 1.4711650e-04 3.9107932e-04 4.1544883e-04\n",
      " 2.8779832e-04 1.5081355e-04 6.4754960e-05 1.7648176e-04 5.6564109e-04\n",
      " 5.9753237e-04 3.1045036e-04 1.8377563e-04 2.3134120e-04 5.0115038e-04\n",
      " 3.9571812e-04 1.0235918e-03] [1. 1. 0.]\n",
      "Color.EICHEL Value.ACHT => 0.09029866 (1.0)\n",
      "Color.EICHEL Value.KOENIG => 0.40544182 (1.0)\n",
      "Color.HERZ Value.SAU => 0.6210135 (0.0)\n"
     ]
    }
   ],
   "source": [
    "predict([\n",
    "            card(Color.EICHEL, Value.ACHT), \n",
    "            card(Color.EICHEL, Value.KOENIG),\n",
    "            card(Color.HERZ, Value.SAU)\n",
    "        ], None, 2, 0)"
   ]
  },
  {
   "cell_type": "code",
   "execution_count": 117,
   "metadata": {
    "scrolled": false
   },
   "outputs": [
    {
     "name": "stdout",
     "output_type": "stream",
     "text": [
      "[0.01010101 0.68686869 0.         0.29292929 0.01010101]\n"
     ]
    },
    {
     "data": {
      "application/vnd.jupyter.widget-view+json": {
       "model_id": "442cf12f284c4c97b0ecb5e712d393aa",
       "version_major": 2,
       "version_minor": 0
      },
      "text/html": [
       "<p>Failed to display Jupyter Widget of type <code>FigureCanvasNbAgg</code>.</p>\n",
       "<p>\n",
       "  If you're reading this message in the Jupyter Notebook or JupyterLab Notebook, it may mean\n",
       "  that the widgets JavaScript is still loading. If this message persists, it\n",
       "  likely means that the widgets JavaScript library is either not installed or\n",
       "  not enabled. See the <a href=\"https://ipywidgets.readthedocs.io/en/stable/user_install.html\">Jupyter\n",
       "  Widgets Documentation</a> for setup instructions.\n",
       "</p>\n",
       "<p>\n",
       "  If you're reading this message in another frontend (for example, a static\n",
       "  rendering on GitHub or <a href=\"https://nbviewer.jupyter.org/\">NBViewer</a>),\n",
       "  it may mean that your frontend doesn't currently support widgets.\n",
       "</p>\n"
      ],
      "text/plain": [
       "FigureCanvasNbAgg()"
      ]
     },
     "metadata": {},
     "output_type": "display_data"
    },
    {
     "name": "stdout",
     "output_type": "stream",
     "text": [
      "[9.81625817e-06 5.82903810e-03 7.42667107e-05 3.64174023e-02\n",
      " 1.17296346e-04 2.68332824e-05 2.59283097e-05 3.44696346e-05\n",
      " 1.78635796e-03 5.38883269e-01 9.97112002e-05 5.36457628e-06\n",
      " 3.15477559e-03 1.13232323e-04 1.66387217e-05 6.12819131e-05\n",
      " 2.62365138e-05 3.91452977e-06 3.74842530e-05 1.03645489e-05\n",
      " 3.11941199e-04 9.05106208e-06 1.20148726e-03 5.53456485e-01\n",
      " 4.40091981e-06 1.76454669e-05 1.26139221e-05 3.32581258e-05\n",
      " 2.26214470e-05 3.61688785e-06 2.48612650e-05 8.24118615e-06] [1. 1. 1. 1. 1.]\n",
      "Color.EICHEL Value.UNTER => 0.036417402 (1.0)\n",
      "Color.GRUEN Value.KOENIG => 0.53888327 (1.0)\n",
      "Color.EICHEL Value.KOENIG => 0.005829038 (1.0)\n",
      "Color.HERZ Value.SIEBEN => 0.5534565 (1.0)\n",
      "Color.GRUEN Value.ZEHN => 0.0031547756 (1.0)\n"
     ]
    }
   ],
   "source": [
    "predict([\n",
    "    card(Color.EICHEL, Value.UNTER), \n",
    "    card(Color.GRUEN, Value.KOENIG),\n",
    "    card(Color.EICHEL, Value.KOENIG),\n",
    "    card(Color.HERZ, Value.SIEBEN),\n",
    "    card(Color.GRUEN, Value.ZEHN),\n",
    "    ],card(Color.GRUEN, Value.OBER), 0, 0)"
   ]
  },
  {
   "cell_type": "code",
   "execution_count": 41,
   "metadata": {},
   "outputs": [
    {
     "name": "stdout",
     "output_type": "stream",
     "text": [
      "[0.1010101  0.01010101 0.86868687 0.01010101 0.01010101]\n"
     ]
    },
    {
     "data": {
      "application/vnd.jupyter.widget-view+json": {
       "model_id": "83a16525080546afaa1f920d82d2d204",
       "version_major": 2,
       "version_minor": 0
      },
      "text/html": [
       "<p>Failed to display Jupyter Widget of type <code>FigureCanvasNbAgg</code>.</p>\n",
       "<p>\n",
       "  If you're reading this message in the Jupyter Notebook or JupyterLab Notebook, it may mean\n",
       "  that the widgets JavaScript is still loading. If this message persists, it\n",
       "  likely means that the widgets JavaScript library is either not installed or\n",
       "  not enabled. See the <a href=\"https://ipywidgets.readthedocs.io/en/stable/user_install.html\">Jupyter\n",
       "  Widgets Documentation</a> for setup instructions.\n",
       "</p>\n",
       "<p>\n",
       "  If you're reading this message in another frontend (for example, a static\n",
       "  rendering on GitHub or <a href=\"https://nbviewer.jupyter.org/\">NBViewer</a>),\n",
       "  it may mean that your frontend doesn't currently support widgets.\n",
       "</p>\n"
      ],
      "text/plain": [
       "FigureCanvasNbAgg()"
      ]
     },
     "metadata": {},
     "output_type": "display_data"
    },
    {
     "name": "stdout",
     "output_type": "stream",
     "text": [
      "[0.00443341 0.00287482 0.01186269 0.01436252 0.01789274 0.01674011\n",
      " 0.00073267 0.01019018 0.01441486 0.01178858 0.0144674  0.00262282\n",
      " 0.01988386 0.01053054 0.00723378 0.00354249 0.00975365 0.00434553\n",
      " 0.00260457 0.00133964 0.00652008 0.00299097 0.00209025 0.00920635\n",
      " 0.00844523 0.01307761 0.00444526 0.00520805 0.01260752 0.00672432\n",
      " 0.00713151 0.00684194] [0. 0. 0. 0. 0.]\n",
      "Color.HERZ Value.SIEBEN => 0.009206355 (0.0)\n",
      "Color.GRUEN Value.KOENIG => 0.0117885815 (0.0)\n",
      "Color.HERZ Value.ACHT => 0.0020902527 (0.0)\n",
      "Color.EICHEL Value.SAU => 0.0044334056 (0.0)\n",
      "Color.GRUEN Value.UNTER => 0.002622815 (0.0)\n"
     ]
    }
   ],
   "source": [
    "predict([\n",
    "    card(Color.HERZ, Value.SIEBEN), \n",
    "    card(Color.GRUEN, Value.KOENIG),\n",
    "    card(Color.HERZ, Value.ACHT),\n",
    "    card(Color.EICHEL, Value.SAU),\n",
    "    card(Color.GRUEN, Value.UNTER),\n",
    "    ],card(Color.SCHELLN, Value.OBER), 0, 0)"
   ]
  },
  {
   "cell_type": "code",
   "execution_count": 395,
   "metadata": {},
   "outputs": [
    {
     "data": {
      "text/plain": [
       "[array([3.2768894e-03, 1.9878964e-01, 1.3820220e-02, 4.6424335e-01,\n",
       "        7.1053780e-03, 2.9274071e-02, 8.1222923e-03, 5.4989127e-04,\n",
       "        8.0019347e-03, 4.3923180e-03, 4.0565468e-03, 3.2476720e-03,\n",
       "        2.0850727e-01, 4.3509626e-03, 5.9748022e-03, 6.1062318e-03,\n",
       "        1.3822509e-03, 2.1725877e-04, 1.3098384e-03, 7.1340741e-04,\n",
       "        2.0487478e-03, 3.3812402e-03, 1.0878793e-04, 7.3019944e-02,\n",
       "        3.4260689e-03, 2.7179192e-03, 1.3691070e-03, 6.1381124e-03,\n",
       "        4.5132274e-03, 4.4453251e-03, 2.2470709e-03, 4.3023235e-04],\n",
       "       dtype=float32), array([0.5526783], dtype=float32)]"
      ]
     },
     "execution_count": 395,
     "metadata": {},
     "output_type": "execute_result"
    }
   ],
   "source": [
    "hard_input = generate_input([\n",
    "    card(Color.EICHEL, Value.UNTER), \n",
    "    #card(Color.GRUEN, Value.KOENIG),\n",
    "    card(Color.EICHEL, Value.KOENIG),\n",
    "    card(Color.HERZ, Value.SIEBEN),\n",
    "    card(Color.GRUEN, Value.ZEHN),\n",
    "    ],None, 1, 0)\n",
    "model.predict_single(hard_input)"
   ]
  },
  {
   "cell_type": "code",
   "execution_count": null,
   "metadata": {},
   "outputs": [],
   "source": [
    "for sample_input in sample_inputs[0]:\n",
    "    if np.array_equal(sample_input,hard_input[0]):\n",
    "        print(\"test\")"
   ]
  },
  {
   "cell_type": "code",
   "execution_count": 80,
   "metadata": {},
   "outputs": [
    {
     "data": {
      "text/plain": [
       "0.48"
      ]
     },
     "execution_count": 80,
     "metadata": {},
     "output_type": "execute_result"
    }
   ],
   "source": [
    "compare(model, None)"
   ]
  },
  {
   "cell_type": "code",
   "execution_count": 72,
   "metadata": {},
   "outputs": [
    {
     "name": "stdout",
     "output_type": "stream",
     "text": [
      "[0. 0. 1. 0. 0.]\n",
      "[1. 1. 0. 1.]\n",
      "[1. 1. 0.]\n",
      "[1. 0.]\n",
      "[1.]\n"
     ]
    },
    {
     "data": {
      "text/plain": [
       "1"
      ]
     },
     "execution_count": 72,
     "metadata": {},
     "output_type": "execute_result"
    }
   ],
   "source": [
    "match([model, None], True)"
   ]
  },
  {
   "cell_type": "code",
   "execution_count": null,
   "metadata": {},
   "outputs": [],
   "source": []
  }
 ],
 "metadata": {
  "kernelspec": {
   "display_name": "Python 3",
   "language": "python",
   "name": "python3"
  },
  "language_info": {
   "codemirror_mode": {
    "name": "ipython",
    "version": 3
   },
   "file_extension": ".py",
   "mimetype": "text/x-python",
   "name": "python",
   "nbconvert_exporter": "python",
   "pygments_lexer": "ipython3",
   "version": "3.6.3"
  }
 },
 "nbformat": 4,
 "nbformat_minor": 2
}
