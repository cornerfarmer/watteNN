{
 "cells": [
  {
   "cell_type": "markdown",
   "metadata": {},
   "source": [
    "# Train"
   ]
  },
  {
   "cell_type": "code",
   "execution_count": 3,
   "metadata": {},
   "outputs": [
    {
     "data": {
      "application/vnd.jupyter.widget-view+json": {
       "model_id": "a6bc219cbbb14f9fae0e0a746dd94b2e",
       "version_major": 2,
       "version_minor": 0
      },
      "text/html": [
       "<p>Failed to display Jupyter Widget of type <code>FigureCanvasNbAgg</code>.</p>\n",
       "<p>\n",
       "  If you're reading this message in the Jupyter Notebook or JupyterLab Notebook, it may mean\n",
       "  that the widgets JavaScript is still loading. If this message persists, it\n",
       "  likely means that the widgets JavaScript library is either not installed or\n",
       "  not enabled. See the <a href=\"https://ipywidgets.readthedocs.io/en/stable/user_install.html\">Jupyter\n",
       "  Widgets Documentation</a> for setup instructions.\n",
       "</p>\n",
       "<p>\n",
       "  If you're reading this message in another frontend (for example, a static\n",
       "  rendering on GitHub or <a href=\"https://nbviewer.jupyter.org/\">NBViewer</a>),\n",
       "  it may mean that your frontend doesn't currently support widgets.\n",
       "</p>\n"
      ],
      "text/plain": [
       "FigureCanvasNbAgg()"
      ]
     },
     "metadata": {},
     "output_type": "display_data"
    }
   ],
   "source": [
    "fig, ax = plt.subplots()"
   ]
  },
  {
   "cell_type": "code",
   "execution_count": 2,
   "metadata": {
    "scrolled": true
   },
   "outputs": [],
   "source": [
    "%%cython -f -I . -L . -L /home/domin/.local/lib/python3.6/site-packages -I /home/domin/.local/lib/python3.6/site-packages  --cplus \n",
    "\n",
    "from src.Storage cimport Storage\n",
    "from src.MCTS cimport MCTS\n",
    "from src.Model cimport Model\n",
    "from src.ModelRating cimport ModelRating\n",
    "from src.Game cimport Game\n",
    "from gym_watten.envs.watten_env cimport WattenEnv\n",
    "from IPython.display import clear_output\n",
    "from libcpp.vector cimport vector\n",
    "import tensorflow as tf\n",
    "from libcpp cimport bool\n",
    "from libc.stdlib cimport srand\n",
    "from libc.time cimport time\n",
    "import sys\n",
    "\n",
    "cpdef float train(WattenEnv env, Model model, Model trained_model, Model best_model, Storage storage, MCTS mcts, Game game, ModelRating rating, int train_sample_size, object summary_writer, bool is_minimal):\n",
    "    cdef int g\n",
    "    cdef vector[float] eval_scores \n",
    "    cdef float rating_value, exploitability, loss    \n",
    "    \n",
    "    srand(time(NULL))\n",
    "    \n",
    "    for g in range(400):  \n",
    "        mcts.mcts_generate(env, model, storage)\n",
    "    \n",
    "        loss = trained_model.memorize_storage(storage, train_sample_size == 0, 1, train_sample_size)\n",
    "        #clear_output()\n",
    "        \n",
    "        s = tf.Summary(value=[tf.Summary.Value(tag=\"loss\", simple_value=loss)])\n",
    "        summary_writer.add_summary(s, g)\n",
    "        summary_writer.flush()        \n",
    "        \n",
    "        \"\"\"if hasattr(model, 'fit'):\n",
    "            p = np.random.permutation(int(number_of_samples))\n",
    "            if len(p) > BATCH_SIZE * TRAINING_LOOPS:\n",
    "                p = p[:BATCH_SIZE * TRAINING_LOOPS]\n",
    "            train_outputs = []\n",
    "            train_inputs = []\n",
    "            for i in range(len(sample_outputs)):\n",
    "                train_outputs.append(sample_outputs[i][p])\n",
    "            for i in range(len(sample_inputs)):\n",
    "                train_inputs.append(sample_inputs[i][p])\n",
    "\n",
    "            trained_model.fit(train_inputs, train_outputs, epochs=1, batch_size=BATCH_SIZE)   \"\"\"\n",
    "\n",
    "        if g % 1 == 0:\n",
    "            model.copy_weights_from(trained_model)     \n",
    "            if is_minimal:\n",
    "                rating_value = game.compare_given_games(model, best_model, rating)\n",
    "            else:\n",
    "                rating_value = game.compare_rand_games(model, best_model, 500)\n",
    "                \n",
    "                s = tf.Summary(value=[tf.Summary.Value(tag=\"mean_game_length\", simple_value=game.mean_game_length)])\n",
    "                summary_writer.add_summary(s, g)\n",
    "                summary_writer.flush()\n",
    "            \n",
    "            s = tf.Summary(value=[tf.Summary.Value(tag=\"win_rate\", simple_value=rating_value)])\n",
    "            summary_writer.add_summary(s, g)\n",
    "            summary_writer.flush()\n",
    "\n",
    "            print(\"Match: \" + str(rating_value))\n",
    "            sys.stdout.flush()\n",
    "            #print(\"Last scores: \" + str(eval_scores) + \"!\")\n",
    "            if rating_value > 0.5:\n",
    "                best_model.copy_weights_from(model)  \n",
    "                if is_minimal:\n",
    "                    s = tf.Summary(value=[tf.Summary.Value(tag=\"exploitability\", simple_value=rating.calc_exploitability(best_model))])\n",
    "                    summary_writer.add_summary(s, g)\n",
    "                    summary_writer.flush()\n",
    "                #exploitability = rating.calc_exploitability(best_model)\n",
    "                #eval_scores.push_back(exploitability)\n",
    "                #print(\"Model score: \" + str(eval_scores.back()) + \"!\")\n",
    "    \n",
    "    if is_minimal:\n",
    "        s = tf.Summary(value=[tf.Summary.Value(tag=\"exploitability\", simple_value=rating.calc_exploitability(best_model))])\n",
    "        summary_writer.add_summary(s, g)\n",
    "        summary_writer.flush()\n",
    "\n",
    "        return rating.calc_exploitability(best_model)\n",
    "    else:\n",
    "        return 0\n",
    "    #plt.plot(eval_scores, label='6x75')\n",
    "    #ax.legend(shadow=True)\n",
    "    #plt.show()\n"
   ]
  },
  {
   "cell_type": "code",
   "execution_count": null,
   "metadata": {},
   "outputs": [],
   "source": [
    "for i in range(10):\n",
    "    print(train(env, model, best_model, storage, mcts, game, rating))"
   ]
  },
  {
   "cell_type": "code",
   "execution_count": null,
   "metadata": {},
   "outputs": [],
   "source": [
    "summary_writer = tf.summary.FileWriter(\"./results/\" + str(\"test\"))\n",
    "train(env, model, best_model, storage, mcts, game, rating, summary_writer)"
   ]
  },
  {
   "cell_type": "code",
   "execution_count": 18,
   "metadata": {},
   "outputs": [
    {
     "data": {
      "text/plain": [
       "0.03214285895228386"
      ]
     },
     "execution_count": 18,
     "metadata": {},
     "output_type": "execute_result"
    }
   ],
   "source": [
    "rating.calc_exploitability(model)"
   ]
  },
  {
   "cell_type": "code",
   "execution_count": 284,
   "metadata": {},
   "outputs": [
    {
     "data": {
      "text/plain": [
       "0.5"
      ]
     },
     "execution_count": 284,
     "metadata": {},
     "output_type": "execute_result"
    }
   ],
   "source": [
    "game.compare_given_games(model, best_model, rating)"
   ]
  },
  {
   "cell_type": "code",
   "execution_count": 3,
   "metadata": {},
   "outputs": [],
   "source": [
    "import itertools\n",
    "def create_grid_search(variables):\n",
    "    combinations = itertools.product(*variables.values())\n",
    "    labeled_combinations = []\n",
    "    for combination in combinations:\n",
    "        labeled_combinations.append(dict(zip(variables.keys(), combination)))\n",
    "    return labeled_combinations"
   ]
  },
  {
   "cell_type": "code",
   "execution_count": null,
   "metadata": {},
   "outputs": [
    {
     "name": "stderr",
     "output_type": "stream",
     "text": [
      "  0%|          | 0/1 [00:00<?, ?it/s]"
     ]
    },
    {
     "name": "stdout",
     "output_type": "stream",
     "text": [
      "WARNING:tensorflow:From /usr/local/lib/python3.6/dist-packages/keras/backend/tensorflow_backend.py:1264: calling reduce_prod (from tensorflow.python.ops.math_ops) with keep_dims is deprecated and will be removed in a future version.\n",
      "Instructions for updating:\n",
      "keep_dims is deprecated, use keepdims instead\n",
      "WARNING:tensorflow:From /usr/local/lib/python3.6/dist-packages/keras/backend/tensorflow_backend.py:1349: calling reduce_mean (from tensorflow.python.ops.math_ops) with keep_dims is deprecated and will be removed in a future version.\n",
      "Instructions for updating:\n",
      "keep_dims is deprecated, use keepdims instead\n",
      "Epoch 1/1\n",
      "320/320 [==============================] - 1s 2ms/step - loss: 0.9738 - dense_10_loss: 0.1797 - dense_12_loss: 0.7941 - dense_10_acc: 0.0625 - dense_12_acc: 0.5281\n",
      "Match: 0.4819999933242798\n",
      "Epoch 1/1\n",
      "638/638 [==============================] - 1s 2ms/step - loss: 0.7070 - dense_10_loss: 0.0470 - dense_12_loss: 0.6600 - dense_10_acc: 0.0439 - dense_12_acc: 0.6897\n",
      "Match: 0.5019999742507935\n",
      "Epoch 1/1\n",
      "952/952 [==============================] - 2s 2ms/step - loss: 0.6354 - dense_10_loss: 0.0169 - dense_12_loss: 0.6185 - dense_10_acc: 0.0557 - dense_12_acc: 0.6397\n",
      "Match: 0.5059999823570251\n",
      "Epoch 1/1\n",
      "1000/1000 [==============================] - 1s 1ms/step - loss: 0.5690 - dense_10_loss: 0.0150 - dense_12_loss: 0.5540 - dense_10_acc: 0.0900 - dense_12_acc: 0.7120\n",
      "Match: 0.49799999594688416\n",
      "Epoch 1/1\n",
      "1000/1000 [==============================] - 2s 2ms/step - loss: 0.6290 - dense_10_loss: 0.0148 - dense_12_loss: 0.6142 - dense_10_acc: 0.0910 - dense_12_acc: 0.7220\n",
      "Match: 0.5120000243186951\n",
      "Epoch 1/1\n",
      "1000/1000 [==============================] - 2s 2ms/step - loss: 0.6549 - dense_10_loss: 0.0143 - dense_12_loss: 0.6407 - dense_10_acc: 0.0720 - dense_12_acc: 0.7060\n",
      "Match: 0.5019999742507935\n",
      "Epoch 1/1\n",
      "1000/1000 [==============================] - 2s 2ms/step - loss: 0.5802 - dense_10_loss: 0.0143 - dense_12_loss: 0.5659 - dense_10_acc: 0.0910 - dense_12_acc: 0.7410\n",
      "Match: 0.5\n",
      "Epoch 1/1\n",
      "1000/1000 [==============================] - 2s 2ms/step - loss: 0.5169 - dense_10_loss: 0.0146 - dense_12_loss: 0.5023 - dense_10_acc: 0.1080 - dense_12_acc: 0.7490\n",
      "Match: 0.5059999823570251\n",
      "Epoch 1/1\n",
      "1000/1000 [==============================] - 2s 2ms/step - loss: 0.5847 - dense_10_loss: 0.0145 - dense_12_loss: 0.5702 - dense_10_acc: 0.1180 - dense_12_acc: 0.7490\n",
      "Match: 0.5120000243186951\n",
      "Epoch 1/1\n",
      "1000/1000 [==============================] - 2s 2ms/step - loss: 0.5400 - dense_10_loss: 0.0143 - dense_12_loss: 0.5257 - dense_10_acc: 0.1210 - dense_12_acc: 0.7390\n",
      "Match: 0.49000000953674316\n",
      "Epoch 1/1\n",
      "1000/1000 [==============================] - 2s 2ms/step - loss: 0.6213 - dense_10_loss: 0.0145 - dense_12_loss: 0.6068 - dense_10_acc: 0.1540 - dense_12_acc: 0.7270\n",
      "Match: 0.5\n",
      "Epoch 1/1\n",
      "1000/1000 [==============================] - 2s 2ms/step - loss: 0.5389 - dense_10_loss: 0.0144 - dense_12_loss: 0.5245 - dense_10_acc: 0.1620 - dense_12_acc: 0.7470\n",
      "Match: 0.5320000052452087\n",
      "Epoch 1/1\n",
      "1000/1000 [==============================] - 2s 2ms/step - loss: 0.5521 - dense_10_loss: 0.0146 - dense_12_loss: 0.5376 - dense_10_acc: 0.1480 - dense_12_acc: 0.7430\n",
      "Match: 0.4959999918937683\n",
      "Epoch 1/1\n",
      "1000/1000 [==============================] - 2s 2ms/step - loss: 0.6058 - dense_10_loss: 0.0143 - dense_12_loss: 0.5915 - dense_10_acc: 0.1730 - dense_12_acc: 0.7470\n",
      "Match: 0.5059999823570251\n",
      "Epoch 1/1\n",
      "1000/1000 [==============================] - 2s 2ms/step - loss: 0.6530 - dense_10_loss: 0.0142 - dense_12_loss: 0.6387 - dense_10_acc: 0.1840 - dense_12_acc: 0.7500\n",
      "Match: 0.5120000243186951\n",
      "Epoch 1/1\n",
      "1000/1000 [==============================] - 2s 2ms/step - loss: 0.6642 - dense_10_loss: 0.0142 - dense_12_loss: 0.6500 - dense_10_acc: 0.1780 - dense_12_acc: 0.7430\n",
      "Match: 0.4959999918937683\n",
      "Epoch 1/1\n",
      "1000/1000 [==============================] - 2s 2ms/step - loss: 0.6625 - dense_10_loss: 0.0147 - dense_12_loss: 0.6479 - dense_10_acc: 0.1670 - dense_12_acc: 0.7370\n",
      "Match: 0.5260000228881836\n",
      "Epoch 1/1\n",
      "1000/1000 [==============================] - 2s 2ms/step - loss: 0.6152 - dense_10_loss: 0.0145 - dense_12_loss: 0.6007 - dense_10_acc: 0.2000 - dense_12_acc: 0.7830\n",
      "Match: 0.48399999737739563\n",
      "Epoch 1/1\n",
      "1000/1000 [==============================] - 2s 2ms/step - loss: 0.6364 - dense_10_loss: 0.0143 - dense_12_loss: 0.6221 - dense_10_acc: 0.2200 - dense_12_acc: 0.7730\n",
      "Match: 0.5199999809265137\n",
      "Epoch 1/1\n",
      "1000/1000 [==============================] - 2s 2ms/step - loss: 0.6365 - dense_10_loss: 0.0143 - dense_12_loss: 0.6222 - dense_10_acc: 0.2220 - dense_12_acc: 0.7860\n",
      "Match: 0.5059999823570251\n",
      "Epoch 1/1\n",
      "1000/1000 [==============================] - 2s 2ms/step - loss: 0.7499 - dense_10_loss: 0.0143 - dense_12_loss: 0.7355 - dense_10_acc: 0.1810 - dense_12_acc: 0.7490\n",
      "Match: 0.4880000054836273\n",
      "Epoch 1/1\n",
      "1000/1000 [==============================] - 2s 2ms/step - loss: 0.6812 - dense_10_loss: 0.0142 - dense_12_loss: 0.6669 - dense_10_acc: 0.2200 - dense_12_acc: 0.7700\n",
      "Match: 0.492000013589859\n",
      "Epoch 1/1\n",
      "1000/1000 [==============================] - 2s 2ms/step - loss: 0.6015 - dense_10_loss: 0.0142 - dense_12_loss: 0.5872 - dense_10_acc: 0.2440 - dense_12_acc: 0.7850\n",
      "Match: 0.47999998927116394\n",
      "Epoch 1/1\n",
      "1000/1000 [==============================] - 2s 2ms/step - loss: 0.6921 - dense_10_loss: 0.0143 - dense_12_loss: 0.6778 - dense_10_acc: 0.2230 - dense_12_acc: 0.7700\n",
      "Match: 0.45399999618530273\n",
      "Epoch 1/1\n",
      "1000/1000 [==============================] - 2s 2ms/step - loss: 0.8007 - dense_10_loss: 0.0144 - dense_12_loss: 0.7862 - dense_10_acc: 0.2590 - dense_12_acc: 0.7060\n",
      "Match: 0.5180000066757202\n",
      "Epoch 1/1\n",
      "1000/1000 [==============================] - 2s 2ms/step - loss: 0.7336 - dense_10_loss: 0.0143 - dense_12_loss: 0.7193 - dense_10_acc: 0.2630 - dense_12_acc: 0.7190\n",
      "Match: 0.5040000081062317\n",
      "Epoch 1/1\n",
      "1000/1000 [==============================] - 2s 2ms/step - loss: 0.6180 - dense_10_loss: 0.0143 - dense_12_loss: 0.6037 - dense_10_acc: 0.2450 - dense_12_acc: 0.7610\n",
      "Match: 0.5059999823570251\n",
      "Epoch 1/1\n",
      "1000/1000 [==============================] - 2s 2ms/step - loss: 0.6768 - dense_10_loss: 0.0143 - dense_12_loss: 0.6625 - dense_10_acc: 0.2830 - dense_12_acc: 0.7110\n",
      "Match: 0.49000000953674316\n",
      "Epoch 1/1\n",
      "1000/1000 [==============================] - 2s 2ms/step - loss: 0.6888 - dense_10_loss: 0.0140 - dense_12_loss: 0.6748 - dense_10_acc: 0.2660 - dense_12_acc: 0.7110\n",
      "Match: 0.5220000147819519\n",
      "Epoch 1/1\n",
      "1000/1000 [==============================] - 1s 1ms/step - loss: 0.6197 - dense_10_loss: 0.0143 - dense_12_loss: 0.6054 - dense_10_acc: 0.2360 - dense_12_acc: 0.7340\n",
      "Match: 0.4659999907016754\n",
      "Epoch 1/1\n",
      "1000/1000 [==============================] - 2s 2ms/step - loss: 0.5845 - dense_10_loss: 0.0138 - dense_12_loss: 0.5708 - dense_10_acc: 0.2820 - dense_12_acc: 0.7170\n",
      "Match: 0.5080000162124634\n",
      "Epoch 1/1\n",
      "1000/1000 [==============================] - 2s 2ms/step - loss: 0.6628 - dense_10_loss: 0.0137 - dense_12_loss: 0.6492 - dense_10_acc: 0.3070 - dense_12_acc: 0.6820\n",
      "Match: 0.5080000162124634\n",
      "Epoch 1/1\n",
      "1000/1000 [==============================] - 2s 2ms/step - loss: 0.6145 - dense_10_loss: 0.0136 - dense_12_loss: 0.6008 - dense_10_acc: 0.2870 - dense_12_acc: 0.7290\n",
      "Match: 0.4860000014305115\n",
      "Epoch 1/1\n",
      "1000/1000 [==============================] - 2s 2ms/step - loss: 0.6359 - dense_10_loss: 0.0137 - dense_12_loss: 0.6222 - dense_10_acc: 0.3140 - dense_12_acc: 0.7370\n",
      "Match: 0.4880000054836273\n",
      "Epoch 1/1\n",
      "1000/1000 [==============================] - 2s 2ms/step - loss: 0.5992 - dense_10_loss: 0.0140 - dense_12_loss: 0.5852 - dense_10_acc: 0.3270 - dense_12_acc: 0.7300\n",
      "Match: 0.4740000069141388\n",
      "Epoch 1/1\n",
      "1000/1000 [==============================] - 2s 2ms/step - loss: 0.6488 - dense_10_loss: 0.0140 - dense_12_loss: 0.6348 - dense_10_acc: 0.3090 - dense_12_acc: 0.7120\n",
      "Match: 0.44999998807907104\n",
      "Epoch 1/1\n",
      "1000/1000 [==============================] - 2s 2ms/step - loss: 0.6693 - dense_10_loss: 0.0140 - dense_12_loss: 0.6554 - dense_10_acc: 0.3220 - dense_12_acc: 0.6950\n",
      "Match: 0.5080000162124634\n",
      "Epoch 1/1\n",
      "1000/1000 [==============================] - 2s 2ms/step - loss: 0.6203 - dense_10_loss: 0.0134 - dense_12_loss: 0.6069 - dense_10_acc: 0.3240 - dense_12_acc: 0.7020\n",
      "Match: 0.5019999742507935\n",
      "Epoch 1/1\n",
      "1000/1000 [==============================] - 2s 2ms/step - loss: 0.5468 - dense_10_loss: 0.0137 - dense_12_loss: 0.5331 - dense_10_acc: 0.3310 - dense_12_acc: 0.7440\n",
      "Match: 0.527999997138977\n",
      "Epoch 1/1\n",
      "1000/1000 [==============================] - 2s 2ms/step - loss: 0.6055 - dense_10_loss: 0.0137 - dense_12_loss: 0.5918 - dense_10_acc: 0.3300 - dense_12_acc: 0.7280\n",
      "Match: 0.5120000243186951\n",
      "Epoch 1/1\n",
      "1000/1000 [==============================] - 2s 2ms/step - loss: 0.7068 - dense_10_loss: 0.0136 - dense_12_loss: 0.6933 - dense_10_acc: 0.3170 - dense_12_acc: 0.6680\n",
      "Match: 0.5339999794960022\n",
      "Epoch 1/1\n",
      "1000/1000 [==============================] - 2s 2ms/step - loss: 0.5279 - dense_10_loss: 0.0139 - dense_12_loss: 0.5140 - dense_10_acc: 0.3400 - dense_12_acc: 0.7770\n",
      "Match: 0.46799999475479126\n",
      "Epoch 1/1\n",
      "1000/1000 [==============================] - 2s 2ms/step - loss: 0.6109 - dense_10_loss: 0.0132 - dense_12_loss: 0.5977 - dense_10_acc: 0.3260 - dense_12_acc: 0.7310\n",
      "Match: 0.5080000162124634\n",
      "Epoch 1/1\n",
      "1000/1000 [==============================] - 2s 2ms/step - loss: 0.6114 - dense_10_loss: 0.0134 - dense_12_loss: 0.5981 - dense_10_acc: 0.3470 - dense_12_acc: 0.7480\n",
      "Match: 0.5139999985694885\n",
      "Epoch 1/1\n",
      "1000/1000 [==============================] - 2s 2ms/step - loss: 0.6152 - dense_10_loss: 0.0134 - dense_12_loss: 0.6018 - dense_10_acc: 0.3760 - dense_12_acc: 0.7320\n",
      "Match: 0.4740000069141388\n",
      "Epoch 1/1\n",
      "1000/1000 [==============================] - 2s 2ms/step - loss: 0.6501 - dense_10_loss: 0.0133 - dense_12_loss: 0.6368 - dense_10_acc: 0.4080 - dense_12_acc: 0.6950\n",
      "Match: 0.49399998784065247\n",
      "Epoch 1/1\n",
      "1000/1000 [==============================] - 2s 2ms/step - loss: 0.6221 - dense_10_loss: 0.0131 - dense_12_loss: 0.6091 - dense_10_acc: 0.3860 - dense_12_acc: 0.6950\n",
      "Match: 0.492000013589859\n",
      "Epoch 1/1\n",
      "1000/1000 [==============================] - 2s 2ms/step - loss: 0.5652 - dense_10_loss: 0.0127 - dense_12_loss: 0.5525 - dense_10_acc: 0.3740 - dense_12_acc: 0.7540\n",
      "Match: 0.5360000133514404\n",
      "Epoch 1/1\n",
      "1000/1000 [==============================] - 2s 2ms/step - loss: 0.5902 - dense_10_loss: 0.0127 - dense_12_loss: 0.5774 - dense_10_acc: 0.3890 - dense_12_acc: 0.6950\n",
      "Match: 0.4620000123977661\n",
      "Epoch 1/1\n",
      "1000/1000 [==============================] - 2s 2ms/step - loss: 0.5643 - dense_10_loss: 0.0126 - dense_12_loss: 0.5517 - dense_10_acc: 0.3790 - dense_12_acc: 0.7450\n",
      "Match: 0.5019999742507935\n",
      "Epoch 1/1\n",
      "1000/1000 [==============================] - 2s 2ms/step - loss: 0.5688 - dense_10_loss: 0.0123 - dense_12_loss: 0.5565 - dense_10_acc: 0.3760 - dense_12_acc: 0.7570\n",
      "Match: 0.5199999809265137\n",
      "Epoch 1/1\n",
      "1000/1000 [==============================] - 2s 2ms/step - loss: 0.5758 - dense_10_loss: 0.0124 - dense_12_loss: 0.5634 - dense_10_acc: 0.4270 - dense_12_acc: 0.7120\n",
      "Match: 0.527999997138977\n",
      "Epoch 1/1\n",
      "1000/1000 [==============================] - 2s 2ms/step - loss: 0.5362 - dense_10_loss: 0.0126 - dense_12_loss: 0.5237 - dense_10_acc: 0.4030 - dense_12_acc: 0.7570\n",
      "Match: 0.515999972820282\n",
      "Epoch 1/1\n",
      "1000/1000 [==============================] - 2s 2ms/step - loss: 0.5855 - dense_10_loss: 0.0121 - dense_12_loss: 0.5734 - dense_10_acc: 0.4120 - dense_12_acc: 0.7510\n",
      "Match: 0.4959999918937683\n",
      "Epoch 1/1\n",
      "1000/1000 [==============================] - 2s 2ms/step - loss: 0.5704 - dense_10_loss: 0.0121 - dense_12_loss: 0.5583 - dense_10_acc: 0.3680 - dense_12_acc: 0.7510\n",
      "Match: 0.5299999713897705\n",
      "Epoch 1/1\n",
      "1000/1000 [==============================] - 2s 2ms/step - loss: 0.5878 - dense_10_loss: 0.0118 - dense_12_loss: 0.5760 - dense_10_acc: 0.4090 - dense_12_acc: 0.7400\n",
      "Match: 0.46000000834465027\n",
      "Epoch 1/1\n",
      "1000/1000 [==============================] - 2s 2ms/step - loss: 0.5724 - dense_10_loss: 0.0116 - dense_12_loss: 0.5608 - dense_10_acc: 0.4300 - dense_12_acc: 0.7350\n",
      "Match: 0.4860000014305115\n",
      "Epoch 1/1\n",
      "1000/1000 [==============================] - 2s 2ms/step - loss: 0.5431 - dense_10_loss: 0.0114 - dense_12_loss: 0.5317 - dense_10_acc: 0.4040 - dense_12_acc: 0.7580\n",
      "Match: 0.527999997138977\n",
      "Epoch 1/1\n",
      "1000/1000 [==============================] - 2s 2ms/step - loss: 0.5083 - dense_10_loss: 0.0113 - dense_12_loss: 0.4971 - dense_10_acc: 0.4090 - dense_12_acc: 0.7720\n",
      "Match: 0.4659999907016754\n",
      "Epoch 1/1\n",
      "1000/1000 [==============================] - 2s 2ms/step - loss: 0.5728 - dense_10_loss: 0.0108 - dense_12_loss: 0.5619 - dense_10_acc: 0.4050 - dense_12_acc: 0.7340\n",
      "Match: 0.5080000162124634\n",
      "Epoch 1/1\n",
      "1000/1000 [==============================] - 2s 2ms/step - loss: 0.5710 - dense_10_loss: 0.0109 - dense_12_loss: 0.5601 - dense_10_acc: 0.4130 - dense_12_acc: 0.7500\n",
      "Match: 0.5080000162124634\n",
      "Epoch 1/1\n",
      "1000/1000 [==============================] - 2s 2ms/step - loss: 0.5387 - dense_10_loss: 0.0106 - dense_12_loss: 0.5281 - dense_10_acc: 0.4260 - dense_12_acc: 0.7400\n",
      "Match: 0.49000000953674316\n",
      "Epoch 1/1\n",
      "1000/1000 [==============================] - 2s 2ms/step - loss: 0.5313 - dense_10_loss: 0.0108 - dense_12_loss: 0.5205 - dense_10_acc: 0.4230 - dense_12_acc: 0.7510\n",
      "Match: 0.5040000081062317\n",
      "Epoch 1/1\n",
      "1000/1000 [==============================] - 2s 2ms/step - loss: 0.5620 - dense_10_loss: 0.0100 - dense_12_loss: 0.5520 - dense_10_acc: 0.3940 - dense_12_acc: 0.7410\n",
      "Match: 0.492000013589859\n",
      "Epoch 1/1\n",
      "1000/1000 [==============================] - 2s 2ms/step - loss: 0.5320 - dense_10_loss: 0.0099 - dense_12_loss: 0.5221 - dense_10_acc: 0.4200 - dense_12_acc: 0.7390\n",
      "Match: 0.5239999890327454\n",
      "Epoch 1/1\n",
      "1000/1000 [==============================] - 2s 2ms/step - loss: 0.5256 - dense_10_loss: 0.0098 - dense_12_loss: 0.5158 - dense_10_acc: 0.4190 - dense_12_acc: 0.7350\n",
      "Match: 0.4659999907016754\n",
      "Epoch 1/1\n",
      "1000/1000 [==============================] - 2s 2ms/step - loss: 0.4626 - dense_10_loss: 0.0096 - dense_12_loss: 0.4529 - dense_10_acc: 0.4430 - dense_12_acc: 0.8090\n",
      "Match: 0.5019999742507935\n",
      "Epoch 1/1\n",
      "1000/1000 [==============================] - 2s 2ms/step - loss: 0.5071 - dense_10_loss: 0.0091 - dense_12_loss: 0.4980 - dense_10_acc: 0.4250 - dense_12_acc: 0.7810\n",
      "Match: 0.5440000295639038\n",
      "Epoch 1/1\n",
      "1000/1000 [==============================] - 2s 2ms/step - loss: 0.4578 - dense_10_loss: 0.0091 - dense_12_loss: 0.4487 - dense_10_acc: 0.4260 - dense_12_acc: 0.7930\n",
      "Match: 0.5080000162124634\n",
      "Epoch 1/1\n",
      "1000/1000 [==============================] - 2s 2ms/step - loss: 0.5342 - dense_10_loss: 0.0089 - dense_12_loss: 0.5253 - dense_10_acc: 0.4510 - dense_12_acc: 0.7530\n",
      "Match: 0.5059999823570251\n",
      "Epoch 1/1\n",
      "1000/1000 [==============================] - 2s 2ms/step - loss: 0.5590 - dense_10_loss: 0.0087 - dense_12_loss: 0.5503 - dense_10_acc: 0.4080 - dense_12_acc: 0.7330\n",
      "Match: 0.5239999890327454\n",
      "Epoch 1/1\n",
      "1000/1000 [==============================] - 2s 2ms/step - loss: 0.4704 - dense_10_loss: 0.0082 - dense_12_loss: 0.4622 - dense_10_acc: 0.4380 - dense_12_acc: 0.7870\n",
      "Match: 0.5320000052452087\n",
      "Epoch 1/1\n",
      "1000/1000 [==============================] - 2s 2ms/step - loss: 0.6070 - dense_10_loss: 0.0080 - dense_12_loss: 0.5990 - dense_10_acc: 0.4330 - dense_12_acc: 0.7070\n",
      "Match: 0.492000013589859\n",
      "Epoch 1/1\n",
      "1000/1000 [==============================] - 2s 2ms/step - loss: 0.5374 - dense_10_loss: 0.0080 - dense_12_loss: 0.5293 - dense_10_acc: 0.4220 - dense_12_acc: 0.7220\n",
      "Match: 0.4959999918937683\n",
      "Epoch 1/1\n",
      "1000/1000 [==============================] - 2s 2ms/step - loss: 0.5264 - dense_10_loss: 0.0075 - dense_12_loss: 0.5188 - dense_10_acc: 0.4220 - dense_12_acc: 0.7500\n",
      "Match: 0.5180000066757202\n",
      "Epoch 1/1\n",
      "1000/1000 [==============================] - 2s 2ms/step - loss: 0.5146 - dense_10_loss: 0.0077 - dense_12_loss: 0.5070 - dense_10_acc: 0.4310 - dense_12_acc: 0.7570\n",
      "Match: 0.5120000243186951\n",
      "Epoch 1/1\n",
      "1000/1000 [==============================] - 2s 2ms/step - loss: 0.4478 - dense_10_loss: 0.0072 - dense_12_loss: 0.4405 - dense_10_acc: 0.4370 - dense_12_acc: 0.7980\n",
      "Match: 0.515999972820282\n",
      "Epoch 1/1\n",
      "1000/1000 [==============================] - 2s 2ms/step - loss: 0.5105 - dense_10_loss: 0.0069 - dense_12_loss: 0.5036 - dense_10_acc: 0.4350 - dense_12_acc: 0.7600\n",
      "Match: 0.5239999890327454\n",
      "Epoch 1/1\n",
      "1000/1000 [==============================] - 1s 1ms/step - loss: 0.4724 - dense_10_loss: 0.0068 - dense_12_loss: 0.4656 - dense_10_acc: 0.4380 - dense_12_acc: 0.7580\n",
      "Match: 0.5080000162124634\n",
      "Epoch 1/1\n",
      "1000/1000 [==============================] - 1s 1ms/step - loss: 0.4519 - dense_10_loss: 0.0064 - dense_12_loss: 0.4455 - dense_10_acc: 0.4380 - dense_12_acc: 0.7930\n",
      "Match: 0.4819999933242798\n",
      "Epoch 1/1\n",
      "1000/1000 [==============================] - 2s 2ms/step - loss: 0.5099 - dense_10_loss: 0.0064 - dense_12_loss: 0.5036 - dense_10_acc: 0.4600 - dense_12_acc: 0.7530\n",
      "Match: 0.5\n",
      "Epoch 1/1\n",
      "1000/1000 [==============================] - 1s 1ms/step - loss: 0.5172 - dense_10_loss: 0.0062 - dense_12_loss: 0.5109 - dense_10_acc: 0.4420 - dense_12_acc: 0.7610\n",
      "Match: 0.5019999742507935\n",
      "Epoch 1/1\n",
      "1000/1000 [==============================] - 1s 1ms/step - loss: 0.4755 - dense_10_loss: 0.0060 - dense_12_loss: 0.4695 - dense_10_acc: 0.4590 - dense_12_acc: 0.7880\n",
      "Match: 0.4880000054836273\n",
      "Epoch 1/1\n",
      "1000/1000 [==============================] - 1s 1ms/step - loss: 0.5131 - dense_10_loss: 0.0055 - dense_12_loss: 0.5077 - dense_10_acc: 0.4570 - dense_12_acc: 0.7680\n",
      "Match: 0.515999972820282\n",
      "Epoch 1/1\n",
      "1000/1000 [==============================] - 1s 1ms/step - loss: 0.5234 - dense_10_loss: 0.0054 - dense_12_loss: 0.5179 - dense_10_acc: 0.4420 - dense_12_acc: 0.7730\n",
      "Match: 0.4880000054836273\n",
      "Epoch 1/1\n",
      "1000/1000 [==============================] - 1s 1ms/step - loss: 0.5011 - dense_10_loss: 0.0053 - dense_12_loss: 0.4958 - dense_10_acc: 0.4410 - dense_12_acc: 0.7420\n",
      "Match: 0.4860000014305115\n",
      "Epoch 1/1\n",
      "1000/1000 [==============================] - 1s 1ms/step - loss: 0.5238 - dense_10_loss: 0.0052 - dense_12_loss: 0.5186 - dense_10_acc: 0.4550 - dense_12_acc: 0.7670\n",
      "Match: 0.4860000014305115\n",
      "Epoch 1/1\n",
      "1000/1000 [==============================] - 1s 1ms/step - loss: 0.6014 - dense_10_loss: 0.0049 - dense_12_loss: 0.5966 - dense_10_acc: 0.4470 - dense_12_acc: 0.7320\n",
      "Match: 0.492000013589859\n",
      "Epoch 1/1\n",
      "1000/1000 [==============================] - 1s 1ms/step - loss: 0.5169 - dense_10_loss: 0.0048 - dense_12_loss: 0.5121 - dense_10_acc: 0.4570 - dense_12_acc: 0.7910\n",
      "Match: 0.5740000009536743\n",
      "Epoch 1/1\n",
      "1000/1000 [==============================] - 1s 1ms/step - loss: 0.4757 - dense_10_loss: 0.0046 - dense_12_loss: 0.4711 - dense_10_acc: 0.4580 - dense_12_acc: 0.7700\n",
      "Match: 0.46799999475479126\n",
      "Epoch 1/1\n",
      "1000/1000 [==============================] - 1s 1ms/step - loss: 0.5326 - dense_10_loss: 0.0042 - dense_12_loss: 0.5284 - dense_10_acc: 0.4260 - dense_12_acc: 0.7350\n",
      "Match: 0.4580000042915344\n",
      "Epoch 1/1\n",
      "1000/1000 [==============================] - 1s 1ms/step - loss: 0.5261 - dense_10_loss: 0.0043 - dense_12_loss: 0.5218 - dense_10_acc: 0.4380 - dense_12_acc: 0.7400\n",
      "Match: 0.5400000214576721\n",
      "Epoch 1/1\n",
      "1000/1000 [==============================] - 1s 1ms/step - loss: 0.5144 - dense_10_loss: 0.0041 - dense_12_loss: 0.5103 - dense_10_acc: 0.4350 - dense_12_acc: 0.7450\n",
      "Match: 0.49799999594688416\n",
      "Epoch 1/1\n",
      "1000/1000 [==============================] - 1s 1ms/step - loss: 0.5154 - dense_10_loss: 0.0038 - dense_12_loss: 0.5115 - dense_10_acc: 0.4650 - dense_12_acc: 0.7510\n",
      "Match: 0.4860000014305115\n",
      "Epoch 1/1\n",
      "1000/1000 [==============================] - 1s 1ms/step - loss: 0.5396 - dense_10_loss: 0.0038 - dense_12_loss: 0.5359 - dense_10_acc: 0.4290 - dense_12_acc: 0.6930\n",
      "Match: 0.5099999904632568\n",
      "Epoch 1/1\n",
      "1000/1000 [==============================] - 1s 1ms/step - loss: 0.5220 - dense_10_loss: 0.0036 - dense_12_loss: 0.5183 - dense_10_acc: 0.4250 - dense_12_acc: 0.7250\n",
      "Match: 0.4860000014305115\n",
      "Epoch 1/1\n",
      "1000/1000 [==============================] - 1s 1ms/step - loss: 0.5469 - dense_10_loss: 0.0036 - dense_12_loss: 0.5432 - dense_10_acc: 0.4860 - dense_12_acc: 0.7460\n",
      "Match: 0.5379999876022339\n",
      "Epoch 1/1\n",
      "1000/1000 [==============================] - 2s 2ms/step - loss: 0.4777 - dense_10_loss: 0.0035 - dense_12_loss: 0.4742 - dense_10_acc: 0.4790 - dense_12_acc: 0.7830\n",
      "Match: 0.5120000243186951\n",
      "Epoch 1/1\n",
      "1000/1000 [==============================] - 2s 2ms/step - loss: 0.5510 - dense_10_loss: 0.0035 - dense_12_loss: 0.5476 - dense_10_acc: 0.4630 - dense_12_acc: 0.7310\n",
      "Match: 0.5180000066757202\n",
      "Epoch 1/1\n",
      "1000/1000 [==============================] - 1s 1ms/step - loss: 0.5137 - dense_10_loss: 0.0031 - dense_12_loss: 0.5106 - dense_10_acc: 0.4610 - dense_12_acc: 0.7340\n",
      "Match: 0.4779999852180481\n",
      "Epoch 1/1\n",
      "1000/1000 [==============================] - 1s 1ms/step - loss: 0.4305 - dense_10_loss: 0.0031 - dense_12_loss: 0.4274 - dense_10_acc: 0.4520 - dense_12_acc: 0.8020\n",
      "Match: 0.4880000054836273\n",
      "Epoch 1/1\n",
      "1000/1000 [==============================] - 2s 2ms/step - loss: 0.5120 - dense_10_loss: 0.0029 - dense_12_loss: 0.5091 - dense_10_acc: 0.4600 - dense_12_acc: 0.7650\n",
      "Match: 0.5479999780654907\n",
      "Epoch 1/1\n",
      "1000/1000 [==============================] - 1s 1ms/step - loss: 0.4995 - dense_10_loss: 0.0030 - dense_12_loss: 0.4965 - dense_10_acc: 0.4570 - dense_12_acc: 0.7570\n",
      "Match: 0.46799999475479126\n",
      "Epoch 1/1\n",
      "1000/1000 [==============================] - 1s 1ms/step - loss: 0.5539 - dense_10_loss: 0.0030 - dense_12_loss: 0.5509 - dense_10_acc: 0.4610 - dense_12_acc: 0.7050\n",
      "Match: 0.492000013589859\n",
      "Epoch 1/1\n",
      "1000/1000 [==============================] - 1s 1ms/step - loss: 0.4751 - dense_10_loss: 0.0028 - dense_12_loss: 0.4723 - dense_10_acc: 0.4590 - dense_12_acc: 0.7530\n",
      "Match: 0.5139999985694885\n",
      "Epoch 1/1\n",
      "1000/1000 [==============================] - 1s 1ms/step - loss: 0.4582 - dense_10_loss: 0.0028 - dense_12_loss: 0.4554 - dense_10_acc: 0.4530 - dense_12_acc: 0.7970\n",
      "Match: 0.5040000081062317\n",
      "Epoch 1/1\n",
      "1000/1000 [==============================] - 2s 2ms/step - loss: 0.4285 - dense_10_loss: 0.0026 - dense_12_loss: 0.4259 - dense_10_acc: 0.4540 - dense_12_acc: 0.8240\n",
      "Match: 0.5019999742507935\n",
      "Epoch 1/1\n",
      "1000/1000 [==============================] - 2s 2ms/step - loss: 0.5434 - dense_10_loss: 0.0026 - dense_12_loss: 0.5408 - dense_10_acc: 0.4360 - dense_12_acc: 0.7450\n",
      "Match: 0.515999972820282\n",
      "Epoch 1/1\n",
      "1000/1000 [==============================] - 2s 2ms/step - loss: 0.4872 - dense_10_loss: 0.0025 - dense_12_loss: 0.4847 - dense_10_acc: 0.4410 - dense_12_acc: 0.7350\n",
      "Match: 0.4819999933242798\n",
      "Epoch 1/1\n",
      "1000/1000 [==============================] - 2s 2ms/step - loss: 0.4890 - dense_10_loss: 0.0025 - dense_12_loss: 0.4865 - dense_10_acc: 0.4640 - dense_12_acc: 0.7650\n",
      "Match: 0.5080000162124634\n",
      "Epoch 1/1\n",
      "1000/1000 [==============================] - 2s 2ms/step - loss: 0.4967 - dense_10_loss: 0.0025 - dense_12_loss: 0.4942 - dense_10_acc: 0.4430 - dense_12_acc: 0.7680\n",
      "Match: 0.49799999594688416\n",
      "Epoch 1/1\n",
      "1000/1000 [==============================] - 1s 1ms/step - loss: 0.4439 - dense_10_loss: 0.0025 - dense_12_loss: 0.4414 - dense_10_acc: 0.4530 - dense_12_acc: 0.7980\n",
      "Match: 0.5139999985694885\n",
      "Epoch 1/1\n",
      "1000/1000 [==============================] - 1s 1ms/step - loss: 0.4686 - dense_10_loss: 0.0023 - dense_12_loss: 0.4663 - dense_10_acc: 0.4740 - dense_12_acc: 0.7670\n",
      "Match: 0.5400000214576721\n",
      "Epoch 1/1\n",
      "1000/1000 [==============================] - 1s 1ms/step - loss: 0.5183 - dense_10_loss: 0.0024 - dense_12_loss: 0.5160 - dense_10_acc: 0.4380 - dense_12_acc: 0.7510\n",
      "Match: 0.5180000066757202\n",
      "Epoch 1/1\n",
      "1000/1000 [==============================] - 1s 1ms/step - loss: 0.4854 - dense_10_loss: 0.0025 - dense_12_loss: 0.4829 - dense_10_acc: 0.4890 - dense_12_acc: 0.7720\n",
      "Match: 0.5\n",
      "Epoch 1/1\n",
      "1000/1000 [==============================] - 2s 2ms/step - loss: 0.5296 - dense_10_loss: 0.0025 - dense_12_loss: 0.5271 - dense_10_acc: 0.4730 - dense_12_acc: 0.7480\n",
      "Match: 0.44600000977516174\n",
      "Epoch 1/1\n",
      "1000/1000 [==============================] - 1s 1ms/step - loss: 0.5997 - dense_10_loss: 0.0023 - dense_12_loss: 0.5974 - dense_10_acc: 0.4590 - dense_12_acc: 0.7150\n",
      "Match: 0.4959999918937683\n",
      "Epoch 1/1\n",
      "1000/1000 [==============================] - 1s 1ms/step - loss: 0.4757 - dense_10_loss: 0.0022 - dense_12_loss: 0.4735 - dense_10_acc: 0.4680 - dense_12_acc: 0.7360\n",
      "Match: 0.5180000066757202\n",
      "Epoch 1/1\n",
      "1000/1000 [==============================] - 1s 1ms/step - loss: 0.4959 - dense_10_loss: 0.0022 - dense_12_loss: 0.4937 - dense_10_acc: 0.4540 - dense_12_acc: 0.7250\n",
      "Match: 0.5080000162124634\n",
      "Epoch 1/1\n",
      "1000/1000 [==============================] - 2s 2ms/step - loss: 0.5274 - dense_10_loss: 0.0023 - dense_12_loss: 0.5250 - dense_10_acc: 0.4870 - dense_12_acc: 0.7380\n",
      "Match: 0.5299999713897705\n",
      "Epoch 1/1\n",
      "1000/1000 [==============================] - 1s 1ms/step - loss: 0.5253 - dense_10_loss: 0.0022 - dense_12_loss: 0.5230 - dense_10_acc: 0.4820 - dense_12_acc: 0.7370\n",
      "Match: 0.5099999904632568\n",
      "Epoch 1/1\n",
      "1000/1000 [==============================] - 1s 1ms/step - loss: 0.5179 - dense_10_loss: 0.0020 - dense_12_loss: 0.5159 - dense_10_acc: 0.4590 - dense_12_acc: 0.7270\n",
      "Match: 0.5199999809265137\n",
      "Epoch 1/1\n",
      "1000/1000 [==============================] - 2s 2ms/step - loss: 0.5243 - dense_10_loss: 0.0021 - dense_12_loss: 0.5221 - dense_10_acc: 0.4650 - dense_12_acc: 0.7590\n",
      "Match: 0.515999972820282\n",
      "Epoch 1/1\n",
      "1000/1000 [==============================] - 2s 2ms/step - loss: 0.4552 - dense_10_loss: 0.0021 - dense_12_loss: 0.4531 - dense_10_acc: 0.4610 - dense_12_acc: 0.7740\n",
      "Match: 0.5339999794960022\n",
      "Epoch 1/1\n",
      "1000/1000 [==============================] - 1s 1ms/step - loss: 0.5670 - dense_10_loss: 0.0022 - dense_12_loss: 0.5648 - dense_10_acc: 0.4730 - dense_12_acc: 0.7030\n",
      "Match: 0.5\n",
      "Epoch 1/1\n",
      "1000/1000 [==============================] - 1s 1ms/step - loss: 0.5003 - dense_10_loss: 0.0020 - dense_12_loss: 0.4982 - dense_10_acc: 0.4650 - dense_12_acc: 0.6990\n",
      "Match: 0.47600001096725464\n",
      "Epoch 1/1\n",
      "1000/1000 [==============================] - 1s 1ms/step - loss: 0.4966 - dense_10_loss: 0.0020 - dense_12_loss: 0.4946 - dense_10_acc: 0.4620 - dense_12_acc: 0.7520\n",
      "Match: 0.5299999713897705\n",
      "Epoch 1/1\n",
      "1000/1000 [==============================] - 1s 1ms/step - loss: 0.4326 - dense_10_loss: 0.0020 - dense_12_loss: 0.4306 - dense_10_acc: 0.5030 - dense_12_acc: 0.7780\n",
      "Match: 0.5\n",
      "Epoch 1/1\n",
      "1000/1000 [==============================] - 1s 1ms/step - loss: 0.4701 - dense_10_loss: 0.0018 - dense_12_loss: 0.4683 - dense_10_acc: 0.4660 - dense_12_acc: 0.7450\n",
      "Match: 0.5220000147819519\n",
      "Epoch 1/1\n",
      "1000/1000 [==============================] - 1s 1ms/step - loss: 0.4668 - dense_10_loss: 0.0020 - dense_12_loss: 0.4647 - dense_10_acc: 0.4810 - dense_12_acc: 0.7580\n",
      "Match: 0.5139999985694885\n",
      "Epoch 1/1\n",
      "1000/1000 [==============================] - 1s 1ms/step - loss: 0.4987 - dense_10_loss: 0.0020 - dense_12_loss: 0.4967 - dense_10_acc: 0.5120 - dense_12_acc: 0.7490\n",
      "Match: 0.5019999742507935\n",
      "Epoch 1/1\n",
      "1000/1000 [==============================] - 1s 1ms/step - loss: 0.5308 - dense_10_loss: 0.0020 - dense_12_loss: 0.5288 - dense_10_acc: 0.4790 - dense_12_acc: 0.7790\n",
      "Match: 0.4860000014305115\n",
      "Epoch 1/1\n",
      "1000/1000 [==============================] - 1s 1ms/step - loss: 0.5045 - dense_10_loss: 0.0019 - dense_12_loss: 0.5027 - dense_10_acc: 0.5050 - dense_12_acc: 0.7540\n",
      "Match: 0.48399999737739563\n",
      "Epoch 1/1\n",
      "1000/1000 [==============================] - 1s 1ms/step - loss: 0.4964 - dense_10_loss: 0.0019 - dense_12_loss: 0.4945 - dense_10_acc: 0.4680 - dense_12_acc: 0.7600\n",
      "Match: 0.5199999809265137\n",
      "Epoch 1/1\n",
      "1000/1000 [==============================] - 2s 2ms/step - loss: 0.4869 - dense_10_loss: 0.0018 - dense_12_loss: 0.4850 - dense_10_acc: 0.4610 - dense_12_acc: 0.7690\n",
      "Match: 0.4860000014305115\n",
      "Epoch 1/1\n",
      "1000/1000 [==============================] - 1s 1ms/step - loss: 0.4965 - dense_10_loss: 0.0019 - dense_12_loss: 0.4946 - dense_10_acc: 0.4610 - dense_12_acc: 0.7390\n",
      "Match: 0.5059999823570251\n",
      "Epoch 1/1\n",
      "1000/1000 [==============================] - 2s 2ms/step - loss: 0.4511 - dense_10_loss: 0.0019 - dense_12_loss: 0.4492 - dense_10_acc: 0.4820 - dense_12_acc: 0.7980\n",
      "Match: 0.5479999780654907\n",
      "Epoch 1/1\n",
      "1000/1000 [==============================] - 2s 2ms/step - loss: 0.4709 - dense_10_loss: 0.0018 - dense_12_loss: 0.4691 - dense_10_acc: 0.4670 - dense_12_acc: 0.7730\n",
      "Match: 0.4699999988079071\n",
      "Epoch 1/1\n",
      "1000/1000 [==============================] - 2s 2ms/step - loss: 0.5566 - dense_10_loss: 0.0017 - dense_12_loss: 0.5548 - dense_10_acc: 0.4360 - dense_12_acc: 0.7210\n",
      "Match: 0.5180000066757202\n",
      "Epoch 1/1\n",
      "1000/1000 [==============================] - 2s 2ms/step - loss: 0.4593 - dense_10_loss: 0.0016 - dense_12_loss: 0.4577 - dense_10_acc: 0.4520 - dense_12_acc: 0.7800\n",
      "Match: 0.5239999890327454\n",
      "Epoch 1/1\n",
      "1000/1000 [==============================] - 2s 2ms/step - loss: 0.4538 - dense_10_loss: 0.0017 - dense_12_loss: 0.4521 - dense_10_acc: 0.4870 - dense_12_acc: 0.7730\n",
      "Match: 0.47600001096725464\n",
      "Epoch 1/1\n",
      "1000/1000 [==============================] - 2s 2ms/step - loss: 0.5224 - dense_10_loss: 0.0018 - dense_12_loss: 0.5206 - dense_10_acc: 0.4680 - dense_12_acc: 0.7430\n",
      "Match: 0.5339999794960022\n",
      "Epoch 1/1\n",
      "1000/1000 [==============================] - 2s 2ms/step - loss: 0.4849 - dense_10_loss: 0.0017 - dense_12_loss: 0.4832 - dense_10_acc: 0.4610 - dense_12_acc: 0.7660\n",
      "Match: 0.47999998927116394\n",
      "Epoch 1/1\n",
      "1000/1000 [==============================] - 2s 2ms/step - loss: 0.4941 - dense_10_loss: 0.0017 - dense_12_loss: 0.4924 - dense_10_acc: 0.4540 - dense_12_acc: 0.7380\n",
      "Match: 0.47600001096725464\n",
      "Epoch 1/1\n",
      "1000/1000 [==============================] - 2s 2ms/step - loss: 0.4660 - dense_10_loss: 0.0016 - dense_12_loss: 0.4644 - dense_10_acc: 0.4350 - dense_12_acc: 0.7840\n",
      "Match: 0.5360000133514404\n",
      "Epoch 1/1\n",
      "1000/1000 [==============================] - 2s 2ms/step - loss: 0.4681 - dense_10_loss: 0.0016 - dense_12_loss: 0.4664 - dense_10_acc: 0.4650 - dense_12_acc: 0.7740\n",
      "Match: 0.46799999475479126\n",
      "Epoch 1/1\n",
      "1000/1000 [==============================] - 2s 2ms/step - loss: 0.4715 - dense_10_loss: 0.0015 - dense_12_loss: 0.4700 - dense_10_acc: 0.4470 - dense_12_acc: 0.7540\n",
      "Match: 0.5099999904632568\n",
      "Epoch 1/1\n",
      "1000/1000 [==============================] - 2s 2ms/step - loss: 0.4903 - dense_10_loss: 0.0017 - dense_12_loss: 0.4886 - dense_10_acc: 0.4570 - dense_12_acc: 0.7690\n",
      "Match: 0.492000013589859\n",
      "Epoch 1/1\n",
      "1000/1000 [==============================] - 2s 2ms/step - loss: 0.5112 - dense_10_loss: 0.0017 - dense_12_loss: 0.5095 - dense_10_acc: 0.4520 - dense_12_acc: 0.7580\n",
      "Match: 0.47200000286102295\n",
      "Epoch 1/1\n",
      "1000/1000 [==============================] - 2s 2ms/step - loss: 0.5218 - dense_10_loss: 0.0016 - dense_12_loss: 0.5202 - dense_10_acc: 0.4630 - dense_12_acc: 0.7360\n",
      "Match: 0.5379999876022339\n",
      "Epoch 1/1\n",
      "1000/1000 [==============================] - 2s 2ms/step - loss: 0.4512 - dense_10_loss: 0.0014 - dense_12_loss: 0.4498 - dense_10_acc: 0.4410 - dense_12_acc: 0.7770\n",
      "Match: 0.5180000066757202\n",
      "Epoch 1/1\n",
      "1000/1000 [==============================] - 2s 2ms/step - loss: 0.4563 - dense_10_loss: 0.0016 - dense_12_loss: 0.4547 - dense_10_acc: 0.4810 - dense_12_acc: 0.7720\n",
      "Match: 0.5460000038146973\n",
      "Epoch 1/1\n",
      "1000/1000 [==============================] - 2s 2ms/step - loss: 0.4370 - dense_10_loss: 0.0016 - dense_12_loss: 0.4354 - dense_10_acc: 0.4740 - dense_12_acc: 0.7940\n",
      "Match: 0.5479999780654907\n",
      "Epoch 1/1\n",
      "1000/1000 [==============================] - 2s 2ms/step - loss: 0.4573 - dense_10_loss: 0.0017 - dense_12_loss: 0.4555 - dense_10_acc: 0.4890 - dense_12_acc: 0.7990\n",
      "Match: 0.5\n",
      "Epoch 1/1\n",
      "1000/1000 [==============================] - 2s 2ms/step - loss: 0.4516 - dense_10_loss: 0.0017 - dense_12_loss: 0.4499 - dense_10_acc: 0.4670 - dense_12_acc: 0.7740\n",
      "Match: 0.5139999985694885\n",
      "Epoch 1/1\n",
      "1000/1000 [==============================] - 2s 2ms/step - loss: 0.5115 - dense_10_loss: 0.0016 - dense_12_loss: 0.5099 - dense_10_acc: 0.4900 - dense_12_acc: 0.7400\n",
      "Match: 0.4860000014305115\n",
      "Epoch 1/1\n",
      "1000/1000 [==============================] - 2s 2ms/step - loss: 0.4966 - dense_10_loss: 0.0016 - dense_12_loss: 0.4950 - dense_10_acc: 0.4880 - dense_12_acc: 0.7260\n",
      "Match: 0.5199999809265137\n",
      "Epoch 1/1\n",
      "1000/1000 [==============================] - 2s 2ms/step - loss: 0.4578 - dense_10_loss: 0.0014 - dense_12_loss: 0.4563 - dense_10_acc: 0.4820 - dense_12_acc: 0.7300\n",
      "Match: 0.4779999852180481\n",
      "Epoch 1/1\n",
      "1000/1000 [==============================] - 2s 2ms/step - loss: 0.4405 - dense_10_loss: 0.0015 - dense_12_loss: 0.4390 - dense_10_acc: 0.4730 - dense_12_acc: 0.7620\n",
      "Match: 0.49799999594688416\n",
      "Epoch 1/1\n",
      "1000/1000 [==============================] - 2s 2ms/step - loss: 0.4829 - dense_10_loss: 0.0015 - dense_12_loss: 0.4814 - dense_10_acc: 0.4610 - dense_12_acc: 0.7590\n",
      "Match: 0.4880000054836273\n",
      "Epoch 1/1\n",
      "1000/1000 [==============================] - 2s 2ms/step - loss: 0.4321 - dense_10_loss: 0.0015 - dense_12_loss: 0.4306 - dense_10_acc: 0.4910 - dense_12_acc: 0.7890\n",
      "Match: 0.49000000953674316\n",
      "Epoch 1/1\n",
      "1000/1000 [==============================] - 2s 2ms/step - loss: 0.4507 - dense_10_loss: 0.0016 - dense_12_loss: 0.4492 - dense_10_acc: 0.4670 - dense_12_acc: 0.7360\n",
      "Match: 0.4620000123977661\n",
      "Epoch 1/1\n",
      "1000/1000 [==============================] - 2s 2ms/step - loss: 0.5171 - dense_10_loss: 0.0016 - dense_12_loss: 0.5156 - dense_10_acc: 0.4520 - dense_12_acc: 0.7340\n",
      "Match: 0.5080000162124634\n",
      "Epoch 1/1\n",
      "1000/1000 [==============================] - 2s 2ms/step - loss: 0.5069 - dense_10_loss: 0.0015 - dense_12_loss: 0.5054 - dense_10_acc: 0.4790 - dense_12_acc: 0.7290\n",
      "Match: 0.48399999737739563\n",
      "Epoch 1/1\n",
      "1000/1000 [==============================] - 2s 2ms/step - loss: 0.4578 - dense_10_loss: 0.0015 - dense_12_loss: 0.4563 - dense_10_acc: 0.4870 - dense_12_acc: 0.7700\n",
      "Match: 0.5299999713897705\n",
      "Epoch 1/1\n",
      "1000/1000 [==============================] - 2s 2ms/step - loss: 0.4843 - dense_10_loss: 0.0014 - dense_12_loss: 0.4829 - dense_10_acc: 0.4520 - dense_12_acc: 0.7020\n",
      "Match: 0.5040000081062317\n",
      "Epoch 1/1\n",
      "1000/1000 [==============================] - 2s 2ms/step - loss: 0.4255 - dense_10_loss: 0.0015 - dense_12_loss: 0.4240 - dense_10_acc: 0.4920 - dense_12_acc: 0.8060\n",
      "Match: 0.5\n",
      "Epoch 1/1\n",
      "1000/1000 [==============================] - 3s 3ms/step - loss: 0.4970 - dense_10_loss: 0.0014 - dense_12_loss: 0.4955 - dense_10_acc: 0.4800 - dense_12_acc: 0.7530\n",
      "Match: 0.5080000162124634\n",
      "Epoch 1/1\n",
      "1000/1000 [==============================] - 2s 2ms/step - loss: 0.4720 - dense_10_loss: 0.0015 - dense_12_loss: 0.4705 - dense_10_acc: 0.4740 - dense_12_acc: 0.7360\n",
      "Match: 0.5139999985694885\n",
      "Epoch 1/1\n",
      "1000/1000 [==============================] - 2s 2ms/step - loss: 0.4899 - dense_10_loss: 0.0015 - dense_12_loss: 0.4884 - dense_10_acc: 0.4920 - dense_12_acc: 0.7310\n",
      "Match: 0.5019999742507935\n",
      "Epoch 1/1\n",
      "1000/1000 [==============================] - 2s 2ms/step - loss: 0.4113 - dense_10_loss: 0.0014 - dense_12_loss: 0.4100 - dense_10_acc: 0.4480 - dense_12_acc: 0.7540\n",
      "Match: 0.45399999618530273\n",
      "Epoch 1/1\n",
      "1000/1000 [==============================] - 2s 2ms/step - loss: 0.4584 - dense_10_loss: 0.0014 - dense_12_loss: 0.4570 - dense_10_acc: 0.4950 - dense_12_acc: 0.7220\n",
      "Match: 0.48399999737739563\n",
      "Epoch 1/1\n",
      "1000/1000 [==============================] - 2s 2ms/step - loss: 0.4577 - dense_10_loss: 0.0015 - dense_12_loss: 0.4563 - dense_10_acc: 0.5020 - dense_12_acc: 0.7690\n",
      "Match: 0.49000000953674316\n",
      "Epoch 1/1\n",
      "1000/1000 [==============================] - 2s 2ms/step - loss: 0.4707 - dense_10_loss: 0.0015 - dense_12_loss: 0.4693 - dense_10_acc: 0.4860 - dense_12_acc: 0.7430\n",
      "Match: 0.4959999918937683\n",
      "Epoch 1/1\n",
      "1000/1000 [==============================] - 2s 2ms/step - loss: 0.4450 - dense_10_loss: 0.0013 - dense_12_loss: 0.4437 - dense_10_acc: 0.4820 - dense_12_acc: 0.7540\n",
      "Match: 0.5139999985694885\n",
      "Epoch 1/1\n",
      "1000/1000 [==============================] - 2s 2ms/step - loss: 0.4288 - dense_10_loss: 0.0014 - dense_12_loss: 0.4274 - dense_10_acc: 0.4570 - dense_12_acc: 0.7700\n",
      "Match: 0.4959999918937683\n",
      "Epoch 1/1\n",
      "1000/1000 [==============================] - 2s 2ms/step - loss: 0.4889 - dense_10_loss: 0.0014 - dense_12_loss: 0.4875 - dense_10_acc: 0.4680 - dense_12_acc: 0.7230\n",
      "Match: 0.5099999904632568\n",
      "Epoch 1/1\n",
      "1000/1000 [==============================] - 2s 2ms/step - loss: 0.4758 - dense_10_loss: 0.0015 - dense_12_loss: 0.4742 - dense_10_acc: 0.4930 - dense_12_acc: 0.7630\n",
      "Match: 0.48399999737739563\n",
      "Epoch 1/1\n",
      "1000/1000 [==============================] - 2s 2ms/step - loss: 0.4998 - dense_10_loss: 0.0015 - dense_12_loss: 0.4983 - dense_10_acc: 0.4870 - dense_12_acc: 0.7340\n",
      "Match: 0.49799999594688416\n",
      "Epoch 1/1\n",
      "1000/1000 [==============================] - 2s 2ms/step - loss: 0.4701 - dense_10_loss: 0.0013 - dense_12_loss: 0.4687 - dense_10_acc: 0.4730 - dense_12_acc: 0.7490\n",
      "Match: 0.4959999918937683\n",
      "Epoch 1/1\n",
      "1000/1000 [==============================] - 2s 2ms/step - loss: 0.5663 - dense_10_loss: 0.0014 - dense_12_loss: 0.5648 - dense_10_acc: 0.4980 - dense_12_acc: 0.7080\n",
      "Match: 0.5180000066757202\n",
      "Epoch 1/1\n",
      "1000/1000 [==============================] - 2s 2ms/step - loss: 0.5104 - dense_10_loss: 0.0014 - dense_12_loss: 0.5090 - dense_10_acc: 0.5020 - dense_12_acc: 0.7660\n",
      "Match: 0.4620000123977661\n",
      "Epoch 1/1\n",
      "1000/1000 [==============================] - 2s 2ms/step - loss: 0.5417 - dense_10_loss: 0.0014 - dense_12_loss: 0.5403 - dense_10_acc: 0.5000 - dense_12_acc: 0.7240\n",
      "Match: 0.5180000066757202\n",
      "Epoch 1/1\n",
      "1000/1000 [==============================] - 2s 2ms/step - loss: 0.4407 - dense_10_loss: 0.0015 - dense_12_loss: 0.4392 - dense_10_acc: 0.4790 - dense_12_acc: 0.8040\n",
      "Match: 0.5360000133514404\n",
      "Epoch 1/1\n",
      "1000/1000 [==============================] - 2s 2ms/step - loss: 0.4842 - dense_10_loss: 0.0014 - dense_12_loss: 0.4827 - dense_10_acc: 0.4840 - dense_12_acc: 0.7330\n",
      "Match: 0.5180000066757202\n",
      "Epoch 1/1\n",
      "1000/1000 [==============================] - 3s 3ms/step - loss: 0.4928 - dense_10_loss: 0.0015 - dense_12_loss: 0.4914 - dense_10_acc: 0.4940 - dense_12_acc: 0.7600\n",
      "Match: 0.5080000162124634\n",
      "Epoch 1/1\n",
      "1000/1000 [==============================] - 3s 3ms/step - loss: 0.4578 - dense_10_loss: 0.0014 - dense_12_loss: 0.4565 - dense_10_acc: 0.4910 - dense_12_acc: 0.7680\n",
      "Match: 0.4860000014305115\n",
      "Epoch 1/1\n",
      "1000/1000 [==============================] - 2s 2ms/step - loss: 0.4341 - dense_10_loss: 0.0014 - dense_12_loss: 0.4327 - dense_10_acc: 0.4760 - dense_12_acc: 0.8020\n",
      "Match: 0.48399999737739563\n",
      "Epoch 1/1\n",
      "1000/1000 [==============================] - 2s 2ms/step - loss: 0.4965 - dense_10_loss: 0.0014 - dense_12_loss: 0.4951 - dense_10_acc: 0.4810 - dense_12_acc: 0.7730\n",
      "Match: 0.47600001096725464\n",
      "Epoch 1/1\n",
      "1000/1000 [==============================] - 2s 2ms/step - loss: 0.5120 - dense_10_loss: 0.0014 - dense_12_loss: 0.5106 - dense_10_acc: 0.4590 - dense_12_acc: 0.7190\n",
      "Match: 0.4740000069141388\n",
      "Epoch 1/1\n",
      "1000/1000 [==============================] - 2s 2ms/step - loss: 0.4720 - dense_10_loss: 0.0013 - dense_12_loss: 0.4707 - dense_10_acc: 0.4840 - dense_12_acc: 0.7730\n",
      "Match: 0.47200000286102295\n",
      "Epoch 1/1\n",
      "1000/1000 [==============================] - 2s 2ms/step - loss: 0.4960 - dense_10_loss: 0.0013 - dense_12_loss: 0.4947 - dense_10_acc: 0.4900 - dense_12_acc: 0.7470\n",
      "Match: 0.5099999904632568\n",
      "Epoch 1/1\n",
      "1000/1000 [==============================] - 2s 2ms/step - loss: 0.4548 - dense_10_loss: 0.0013 - dense_12_loss: 0.4534 - dense_10_acc: 0.5060 - dense_12_acc: 0.7400\n",
      "Match: 0.5080000162124634\n",
      "Epoch 1/1\n",
      "1000/1000 [==============================] - 2s 2ms/step - loss: 0.4963 - dense_10_loss: 0.0014 - dense_12_loss: 0.4949 - dense_10_acc: 0.5210 - dense_12_acc: 0.7290\n",
      "Match: 0.45399999618530273\n",
      "Epoch 1/1\n",
      "1000/1000 [==============================] - 2s 2ms/step - loss: 0.5081 - dense_10_loss: 0.0014 - dense_12_loss: 0.5067 - dense_10_acc: 0.4920 - dense_12_acc: 0.7230\n",
      "Match: 0.4959999918937683\n",
      "Epoch 1/1\n",
      "1000/1000 [==============================] - 2s 2ms/step - loss: 0.4250 - dense_10_loss: 0.0013 - dense_12_loss: 0.4237 - dense_10_acc: 0.4730 - dense_12_acc: 0.7960\n",
      "Match: 0.49799999594688416\n",
      "Epoch 1/1\n",
      "1000/1000 [==============================] - 2s 2ms/step - loss: 0.4748 - dense_10_loss: 0.0013 - dense_12_loss: 0.4735 - dense_10_acc: 0.5110 - dense_12_acc: 0.7180\n",
      "Match: 0.49399998784065247\n",
      "Epoch 1/1\n",
      "1000/1000 [==============================] - 2s 2ms/step - loss: 0.4816 - dense_10_loss: 0.0014 - dense_12_loss: 0.4802 - dense_10_acc: 0.4820 - dense_12_acc: 0.7520\n",
      "Match: 0.5299999713897705\n",
      "Epoch 1/1\n",
      "1000/1000 [==============================] - 2s 2ms/step - loss: 0.4935 - dense_10_loss: 0.0013 - dense_12_loss: 0.4922 - dense_10_acc: 0.4690 - dense_12_acc: 0.7470\n",
      "Match: 0.48399999737739563\n",
      "Epoch 1/1\n",
      "1000/1000 [==============================] - 2s 2ms/step - loss: 0.4810 - dense_10_loss: 0.0013 - dense_12_loss: 0.4797 - dense_10_acc: 0.5070 - dense_12_acc: 0.7780\n",
      "Match: 0.47999998927116394\n",
      "Epoch 1/1\n",
      "1000/1000 [==============================] - 2s 2ms/step - loss: 0.5033 - dense_10_loss: 0.0012 - dense_12_loss: 0.5021 - dense_10_acc: 0.4700 - dense_12_acc: 0.7520\n",
      "Match: 0.4740000069141388\n",
      "Epoch 1/1\n",
      "1000/1000 [==============================] - 2s 2ms/step - loss: 0.4415 - dense_10_loss: 0.0014 - dense_12_loss: 0.4401 - dense_10_acc: 0.4930 - dense_12_acc: 0.8120\n",
      "Match: 0.5099999904632568\n",
      "Epoch 1/1\n",
      "1000/1000 [==============================] - 2s 2ms/step - loss: 0.4436 - dense_10_loss: 0.0013 - dense_12_loss: 0.4422 - dense_10_acc: 0.4900 - dense_12_acc: 0.7300\n",
      "Match: 0.5019999742507935\n",
      "Epoch 1/1\n",
      "1000/1000 [==============================] - 2s 2ms/step - loss: 0.4513 - dense_10_loss: 0.0013 - dense_12_loss: 0.4500 - dense_10_acc: 0.5140 - dense_12_acc: 0.7640\n",
      "Match: 0.492000013589859\n",
      "Epoch 1/1\n",
      "1000/1000 [==============================] - 2s 2ms/step - loss: 0.4592 - dense_10_loss: 0.0012 - dense_12_loss: 0.4579 - dense_10_acc: 0.5060 - dense_12_acc: 0.7780\n",
      "Match: 0.4880000054836273\n",
      "Epoch 1/1\n",
      "1000/1000 [==============================] - 2s 2ms/step - loss: 0.4413 - dense_10_loss: 0.0013 - dense_12_loss: 0.4400 - dense_10_acc: 0.5140 - dense_12_acc: 0.7750\n",
      "Match: 0.5080000162124634\n",
      "Epoch 1/1\n",
      "1000/1000 [==============================] - 2s 2ms/step - loss: 0.4507 - dense_10_loss: 0.0013 - dense_12_loss: 0.4493 - dense_10_acc: 0.4840 - dense_12_acc: 0.7630\n",
      "Match: 0.5199999809265137\n",
      "Epoch 1/1\n",
      "1000/1000 [==============================] - 2s 2ms/step - loss: 0.5201 - dense_10_loss: 0.0013 - dense_12_loss: 0.5188 - dense_10_acc: 0.5140 - dense_12_acc: 0.7410\n",
      "Match: 0.5\n",
      "Epoch 1/1\n",
      "1000/1000 [==============================] - 2s 2ms/step - loss: 0.4571 - dense_10_loss: 0.0014 - dense_12_loss: 0.4557 - dense_10_acc: 0.4860 - dense_12_acc: 0.8020\n",
      "Match: 0.5099999904632568\n",
      "Epoch 1/1\n",
      "1000/1000 [==============================] - 2s 2ms/step - loss: 0.4624 - dense_10_loss: 0.0012 - dense_12_loss: 0.4612 - dense_10_acc: 0.4700 - dense_12_acc: 0.7570\n",
      "Match: 0.48399999737739563\n",
      "Epoch 1/1\n",
      "1000/1000 [==============================] - 2s 2ms/step - loss: 0.4340 - dense_10_loss: 0.0012 - dense_12_loss: 0.4327 - dense_10_acc: 0.5090 - dense_12_acc: 0.7550\n",
      "Match: 0.5040000081062317\n",
      "Epoch 1/1\n",
      "1000/1000 [==============================] - 2s 2ms/step - loss: 0.4289 - dense_10_loss: 0.0013 - dense_12_loss: 0.4277 - dense_10_acc: 0.5320 - dense_12_acc: 0.7490\n",
      "Match: 0.49399998784065247\n",
      "Epoch 1/1\n",
      "1000/1000 [==============================] - 2s 2ms/step - loss: 0.4747 - dense_10_loss: 0.0012 - dense_12_loss: 0.4735 - dense_10_acc: 0.4910 - dense_12_acc: 0.7840\n",
      "Match: 0.4819999933242798\n",
      "Epoch 1/1\n",
      "1000/1000 [==============================] - 2s 2ms/step - loss: 0.4319 - dense_10_loss: 0.0012 - dense_12_loss: 0.4307 - dense_10_acc: 0.5100 - dense_12_acc: 0.8010\n",
      "Match: 0.5\n",
      "Epoch 1/1\n",
      "1000/1000 [==============================] - 2s 2ms/step - loss: 0.5022 - dense_10_loss: 0.0012 - dense_12_loss: 0.5009 - dense_10_acc: 0.5120 - dense_12_acc: 0.7610\n",
      "Match: 0.5\n",
      "Epoch 1/1\n",
      "1000/1000 [==============================] - 2s 2ms/step - loss: 0.4588 - dense_10_loss: 0.0013 - dense_12_loss: 0.4575 - dense_10_acc: 0.4700 - dense_12_acc: 0.8000\n",
      "Match: 0.5120000243186951\n",
      "Epoch 1/1\n",
      "1000/1000 [==============================] - 2s 2ms/step - loss: 0.4388 - dense_10_loss: 0.0011 - dense_12_loss: 0.4378 - dense_10_acc: 0.4920 - dense_12_acc: 0.7810\n",
      "Match: 0.4860000014305115\n",
      "Epoch 1/1\n",
      "1000/1000 [==============================] - 2s 2ms/step - loss: 0.4772 - dense_10_loss: 0.0012 - dense_12_loss: 0.4760 - dense_10_acc: 0.4930 - dense_12_acc: 0.7600\n",
      "Match: 0.5260000228881836\n",
      "Epoch 1/1\n",
      "1000/1000 [==============================] - 2s 2ms/step - loss: 0.4213 - dense_10_loss: 0.0011 - dense_12_loss: 0.4202 - dense_10_acc: 0.4870 - dense_12_acc: 0.7930\n",
      "Match: 0.5479999780654907\n",
      "Epoch 1/1\n",
      "1000/1000 [==============================] - 2s 2ms/step - loss: 0.4688 - dense_10_loss: 0.0012 - dense_12_loss: 0.4676 - dense_10_acc: 0.5180 - dense_12_acc: 0.8040\n",
      "Match: 0.5460000038146973\n",
      "Epoch 1/1\n",
      "1000/1000 [==============================] - 2s 2ms/step - loss: 0.4162 - dense_10_loss: 0.0012 - dense_12_loss: 0.4150 - dense_10_acc: 0.5070 - dense_12_acc: 0.7950\n",
      "Match: 0.5019999742507935\n",
      "Epoch 1/1\n",
      "1000/1000 [==============================] - 2s 2ms/step - loss: 0.4706 - dense_10_loss: 0.0012 - dense_12_loss: 0.4694 - dense_10_acc: 0.4740 - dense_12_acc: 0.7520\n",
      "Match: 0.5120000243186951\n",
      "Epoch 1/1\n",
      "1000/1000 [==============================] - 2s 2ms/step - loss: 0.4343 - dense_10_loss: 0.0012 - dense_12_loss: 0.4331 - dense_10_acc: 0.4820 - dense_12_acc: 0.7790\n",
      "Match: 0.5180000066757202\n",
      "Epoch 1/1\n",
      "1000/1000 [==============================] - 2s 2ms/step - loss: 0.4000 - dense_10_loss: 0.0012 - dense_12_loss: 0.3988 - dense_10_acc: 0.5110 - dense_12_acc: 0.8510\n",
      "Match: 0.5\n",
      "Epoch 1/1\n",
      "1000/1000 [==============================] - 2s 2ms/step - loss: 0.4049 - dense_10_loss: 0.0011 - dense_12_loss: 0.4038 - dense_10_acc: 0.5090 - dense_12_acc: 0.8040\n",
      "Match: 0.5360000133514404\n",
      "Epoch 1/1\n",
      "1000/1000 [==============================] - 2s 2ms/step - loss: 0.4446 - dense_10_loss: 0.0011 - dense_12_loss: 0.4434 - dense_10_acc: 0.4770 - dense_12_acc: 0.7900\n",
      "Match: 0.5\n",
      "Epoch 1/1\n",
      "1000/1000 [==============================] - 2s 2ms/step - loss: 0.4346 - dense_10_loss: 0.0013 - dense_12_loss: 0.4333 - dense_10_acc: 0.5010 - dense_12_acc: 0.7810\n",
      "Match: 0.5\n",
      "Epoch 1/1\n",
      "1000/1000 [==============================] - 2s 2ms/step - loss: 0.4568 - dense_10_loss: 0.0012 - dense_12_loss: 0.4556 - dense_10_acc: 0.5050 - dense_12_acc: 0.7880\n",
      "Match: 0.5120000243186951\n",
      "Epoch 1/1\n",
      "1000/1000 [==============================] - 2s 2ms/step - loss: 0.4253 - dense_10_loss: 0.0011 - dense_12_loss: 0.4242 - dense_10_acc: 0.4890 - dense_12_acc: 0.7790\n",
      "Match: 0.47999998927116394\n",
      "Epoch 1/1\n",
      "1000/1000 [==============================] - 2s 2ms/step - loss: 0.3983 - dense_10_loss: 0.0012 - dense_12_loss: 0.3971 - dense_10_acc: 0.5020 - dense_12_acc: 0.7990\n",
      "Match: 0.4860000014305115\n",
      "Epoch 1/1\n",
      "1000/1000 [==============================] - 2s 2ms/step - loss: 0.4368 - dense_10_loss: 0.0012 - dense_12_loss: 0.4356 - dense_10_acc: 0.5010 - dense_12_acc: 0.7800\n",
      "Match: 0.5339999794960022\n",
      "Epoch 1/1\n",
      "1000/1000 [==============================] - 2s 2ms/step - loss: 0.4629 - dense_10_loss: 0.0012 - dense_12_loss: 0.4617 - dense_10_acc: 0.4980 - dense_12_acc: 0.8010\n",
      "Match: 0.5120000243186951\n",
      "Epoch 1/1\n",
      "1000/1000 [==============================] - 2s 2ms/step - loss: 0.4476 - dense_10_loss: 0.0012 - dense_12_loss: 0.4464 - dense_10_acc: 0.5060 - dense_12_acc: 0.7760\n",
      "Match: 0.5059999823570251\n",
      "Epoch 1/1\n",
      "1000/1000 [==============================] - 2s 2ms/step - loss: 0.3992 - dense_10_loss: 0.0011 - dense_12_loss: 0.3980 - dense_10_acc: 0.5000 - dense_12_acc: 0.7750\n",
      "Match: 0.5120000243186951\n",
      "Epoch 1/1\n",
      "1000/1000 [==============================] - 2s 2ms/step - loss: 0.4261 - dense_10_loss: 0.0011 - dense_12_loss: 0.4250 - dense_10_acc: 0.4870 - dense_12_acc: 0.7910\n",
      "Match: 0.48399999737739563\n",
      "Epoch 1/1\n",
      "1000/1000 [==============================] - 2s 2ms/step - loss: 0.4855 - dense_10_loss: 0.0011 - dense_12_loss: 0.4844 - dense_10_acc: 0.4810 - dense_12_acc: 0.7710\n",
      "Match: 0.5120000243186951\n",
      "Epoch 1/1\n",
      "1000/1000 [==============================] - 2s 2ms/step - loss: 0.4539 - dense_10_loss: 0.0012 - dense_12_loss: 0.4527 - dense_10_acc: 0.5190 - dense_12_acc: 0.7870\n",
      "Match: 0.5260000228881836\n",
      "Epoch 1/1\n",
      "1000/1000 [==============================] - 2s 2ms/step - loss: 0.5084 - dense_10_loss: 0.0011 - dense_12_loss: 0.5073 - dense_10_acc: 0.4600 - dense_12_acc: 0.7330\n",
      "Match: 0.5239999890327454\n",
      "Epoch 1/1\n",
      "1000/1000 [==============================] - 2s 2ms/step - loss: 0.4585 - dense_10_loss: 0.0011 - dense_12_loss: 0.4574 - dense_10_acc: 0.4810 - dense_12_acc: 0.7410\n",
      "Match: 0.49399998784065247\n",
      "Epoch 1/1\n",
      "1000/1000 [==============================] - 2s 2ms/step - loss: 0.4321 - dense_10_loss: 0.0011 - dense_12_loss: 0.4310 - dense_10_acc: 0.4960 - dense_12_acc: 0.7780\n",
      "Match: 0.49000000953674316\n",
      "Epoch 1/1\n",
      "1000/1000 [==============================] - 2s 2ms/step - loss: 0.5158 - dense_10_loss: 0.0011 - dense_12_loss: 0.5147 - dense_10_acc: 0.4870 - dense_12_acc: 0.7590\n",
      "Match: 0.5199999809265137\n",
      "Epoch 1/1\n",
      "1000/1000 [==============================] - 2s 2ms/step - loss: 0.4026 - dense_10_loss: 0.0011 - dense_12_loss: 0.4015 - dense_10_acc: 0.5230 - dense_12_acc: 0.7830\n",
      "Match: 0.5099999904632568\n",
      "Epoch 1/1\n",
      "1000/1000 [==============================] - 2s 2ms/step - loss: 0.4748 - dense_10_loss: 0.0012 - dense_12_loss: 0.4736 - dense_10_acc: 0.5220 - dense_12_acc: 0.7330\n",
      "Match: 0.49799999594688416\n",
      "Epoch 1/1\n",
      "1000/1000 [==============================] - 2s 2ms/step - loss: 0.4315 - dense_10_loss: 0.0012 - dense_12_loss: 0.4303 - dense_10_acc: 0.5190 - dense_12_acc: 0.7980\n",
      "Match: 0.5139999985694885\n",
      "Epoch 1/1\n",
      "1000/1000 [==============================] - 2s 2ms/step - loss: 0.5143 - dense_10_loss: 0.0012 - dense_12_loss: 0.5131 - dense_10_acc: 0.5110 - dense_12_acc: 0.7200\n",
      "Match: 0.5479999780654907\n",
      "Epoch 1/1\n",
      "1000/1000 [==============================] - 2s 2ms/step - loss: 0.4945 - dense_10_loss: 0.0012 - dense_12_loss: 0.4933 - dense_10_acc: 0.5370 - dense_12_acc: 0.7280\n",
      "Match: 0.492000013589859\n",
      "Epoch 1/1\n",
      "1000/1000 [==============================] - 2s 2ms/step - loss: 0.4589 - dense_10_loss: 0.0011 - dense_12_loss: 0.4578 - dense_10_acc: 0.5000 - dense_12_acc: 0.7280\n",
      "Match: 0.47200000286102295\n",
      "Epoch 1/1\n",
      "1000/1000 [==============================] - 2s 2ms/step - loss: 0.4533 - dense_10_loss: 0.0012 - dense_12_loss: 0.4521 - dense_10_acc: 0.5220 - dense_12_acc: 0.7920\n",
      "Match: 0.4699999988079071\n",
      "Epoch 1/1\n",
      "1000/1000 [==============================] - 2s 2ms/step - loss: 0.4799 - dense_10_loss: 0.0013 - dense_12_loss: 0.4786 - dense_10_acc: 0.5180 - dense_12_acc: 0.7520\n",
      "Match: 0.49399998784065247\n",
      "Epoch 1/1\n",
      "1000/1000 [==============================] - 2s 2ms/step - loss: 0.4806 - dense_10_loss: 0.0011 - dense_12_loss: 0.4795 - dense_10_acc: 0.5210 - dense_12_acc: 0.7390\n",
      "Match: 0.5199999809265137\n",
      "Epoch 1/1\n",
      "1000/1000 [==============================] - 2s 2ms/step - loss: 0.4521 - dense_10_loss: 0.0011 - dense_12_loss: 0.4510 - dense_10_acc: 0.4860 - dense_12_acc: 0.7610\n",
      "Match: 0.4620000123977661\n",
      "Epoch 1/1\n",
      "1000/1000 [==============================] - 2s 2ms/step - loss: 0.4335 - dense_10_loss: 0.0012 - dense_12_loss: 0.4323 - dense_10_acc: 0.5130 - dense_12_acc: 0.7990\n",
      "Match: 0.49399998784065247\n",
      "Epoch 1/1\n",
      "1000/1000 [==============================] - 2s 2ms/step - loss: 0.4187 - dense_10_loss: 0.0012 - dense_12_loss: 0.4175 - dense_10_acc: 0.5360 - dense_12_acc: 0.7660\n",
      "Match: 0.49399998784065247\n",
      "Epoch 1/1\n",
      "1000/1000 [==============================] - 2s 2ms/step - loss: 0.4843 - dense_10_loss: 0.0012 - dense_12_loss: 0.4831 - dense_10_acc: 0.4920 - dense_12_acc: 0.7480\n",
      "Match: 0.48399999737739563\n",
      "Epoch 1/1\n",
      "1000/1000 [==============================] - 1s 1ms/step - loss: 0.4849 - dense_10_loss: 0.0011 - dense_12_loss: 0.4838 - dense_10_acc: 0.4790 - dense_12_acc: 0.7170\n",
      "Match: 0.5379999876022339\n",
      "Epoch 1/1\n",
      "1000/1000 [==============================] - 2s 2ms/step - loss: 0.4127 - dense_10_loss: 0.0011 - dense_12_loss: 0.4115 - dense_10_acc: 0.5100 - dense_12_acc: 0.8030\n",
      "Match: 0.5040000081062317\n",
      "Epoch 1/1\n",
      "1000/1000 [==============================] - 1s 1ms/step - loss: 0.4395 - dense_10_loss: 0.0011 - dense_12_loss: 0.4384 - dense_10_acc: 0.4830 - dense_12_acc: 0.7870\n",
      "Match: 0.5059999823570251\n",
      "Epoch 1/1\n",
      "1000/1000 [==============================] - 1s 1ms/step - loss: 0.4614 - dense_10_loss: 0.0012 - dense_12_loss: 0.4602 - dense_10_acc: 0.4780 - dense_12_acc: 0.7950\n",
      "Match: 0.4659999907016754\n",
      "Epoch 1/1\n",
      "1000/1000 [==============================] - 1s 1ms/step - loss: 0.5280 - dense_10_loss: 0.0012 - dense_12_loss: 0.5268 - dense_10_acc: 0.5090 - dense_12_acc: 0.7410\n",
      "Match: 0.5120000243186951\n",
      "Epoch 1/1\n",
      "1000/1000 [==============================] - 2s 2ms/step - loss: 0.4724 - dense_10_loss: 0.0013 - dense_12_loss: 0.4711 - dense_10_acc: 0.5080 - dense_12_acc: 0.7230\n",
      "Match: 0.49000000953674316\n",
      "Epoch 1/1\n",
      "1000/1000 [==============================] - 2s 2ms/step - loss: 0.4201 - dense_10_loss: 0.0010 - dense_12_loss: 0.4191 - dense_10_acc: 0.5020 - dense_12_acc: 0.7610\n",
      "Match: 0.5019999742507935\n",
      "Epoch 1/1\n",
      "1000/1000 [==============================] - 1s 1ms/step - loss: 0.4445 - dense_10_loss: 0.0011 - dense_12_loss: 0.4435 - dense_10_acc: 0.4920 - dense_12_acc: 0.7500\n",
      "Match: 0.4880000054836273\n",
      "Epoch 1/1\n",
      "1000/1000 [==============================] - 2s 2ms/step - loss: 0.4483 - dense_10_loss: 0.0011 - dense_12_loss: 0.4472 - dense_10_acc: 0.5130 - dense_12_acc: 0.7670\n",
      "Match: 0.5220000147819519\n",
      "Epoch 1/1\n",
      "1000/1000 [==============================] - 1s 1ms/step - loss: 0.4103 - dense_10_loss: 0.0011 - dense_12_loss: 0.4092 - dense_10_acc: 0.4930 - dense_12_acc: 0.7840\n",
      "Match: 0.5059999823570251\n",
      "Epoch 1/1\n",
      "1000/1000 [==============================] - 1s 1ms/step - loss: 0.4515 - dense_10_loss: 0.0010 - dense_12_loss: 0.4505 - dense_10_acc: 0.5180 - dense_12_acc: 0.7550\n",
      "Match: 0.4819999933242798\n",
      "Epoch 1/1\n",
      "1000/1000 [==============================] - 2s 2ms/step - loss: 0.4879 - dense_10_loss: 0.0012 - dense_12_loss: 0.4868 - dense_10_acc: 0.5250 - dense_12_acc: 0.7270\n",
      "Match: 0.5099999904632568\n",
      "Epoch 1/1\n",
      "1000/1000 [==============================] - 2s 2ms/step - loss: 0.5016 - dense_10_loss: 0.0011 - dense_12_loss: 0.5006 - dense_10_acc: 0.5290 - dense_12_acc: 0.7580\n",
      "Match: 0.5260000228881836\n",
      "Epoch 1/1\n",
      "1000/1000 [==============================] - 2s 2ms/step - loss: 0.3848 - dense_10_loss: 0.0010 - dense_12_loss: 0.3838 - dense_10_acc: 0.4950 - dense_12_acc: 0.7940\n",
      "Match: 0.4819999933242798\n",
      "Epoch 1/1\n",
      "1000/1000 [==============================] - 2s 2ms/step - loss: 0.4045 - dense_10_loss: 0.0010 - dense_12_loss: 0.4034 - dense_10_acc: 0.4970 - dense_12_acc: 0.7960\n",
      "Match: 0.5019999742507935\n",
      "Epoch 1/1\n",
      "1000/1000 [==============================] - 2s 2ms/step - loss: 0.4943 - dense_10_loss: 0.0011 - dense_12_loss: 0.4932 - dense_10_acc: 0.5320 - dense_12_acc: 0.7320\n",
      "Match: 0.492000013589859\n",
      "Epoch 1/1\n",
      "1000/1000 [==============================] - 2s 2ms/step - loss: 0.4795 - dense_10_loss: 0.0011 - dense_12_loss: 0.4784 - dense_10_acc: 0.5120 - dense_12_acc: 0.7710\n",
      "Match: 0.5260000228881836\n",
      "Epoch 1/1\n",
      "1000/1000 [==============================] - 2s 2ms/step - loss: 0.4627 - dense_10_loss: 0.0010 - dense_12_loss: 0.4616 - dense_10_acc: 0.4940 - dense_12_acc: 0.7140\n",
      "Match: 0.5139999985694885\n",
      "Epoch 1/1\n",
      "1000/1000 [==============================] - 2s 2ms/step - loss: 0.4307 - dense_10_loss: 0.0010 - dense_12_loss: 0.4297 - dense_10_acc: 0.4800 - dense_12_acc: 0.7570\n",
      "Match: 0.5379999876022339\n",
      "Epoch 1/1\n",
      "1000/1000 [==============================] - 1s 1ms/step - loss: 0.4546 - dense_10_loss: 0.0011 - dense_12_loss: 0.4535 - dense_10_acc: 0.5100 - dense_12_acc: 0.7300\n",
      "Match: 0.4779999852180481\n",
      "Epoch 1/1\n",
      "1000/1000 [==============================] - 2s 2ms/step - loss: 0.3916 - dense_10_loss: 9.1886e-04 - dense_12_loss: 0.3907 - dense_10_acc: 0.4950 - dense_12_acc: 0.7690\n",
      "Match: 0.47200000286102295\n",
      "Epoch 1/1\n",
      "1000/1000 [==============================] - 2s 2ms/step - loss: 0.4412 - dense_10_loss: 0.0011 - dense_12_loss: 0.4402 - dense_10_acc: 0.5320 - dense_12_acc: 0.7360\n",
      "Match: 0.49000000953674316\n",
      "Epoch 1/1\n",
      "1000/1000 [==============================] - 2s 2ms/step - loss: 0.4697 - dense_10_loss: 0.0011 - dense_12_loss: 0.4686 - dense_10_acc: 0.4920 - dense_12_acc: 0.7520\n",
      "Match: 0.4819999933242798\n",
      "Epoch 1/1\n",
      "1000/1000 [==============================] - 2s 2ms/step - loss: 0.4190 - dense_10_loss: 9.7857e-04 - dense_12_loss: 0.4181 - dense_10_acc: 0.5300 - dense_12_acc: 0.7890\n",
      "Match: 0.5019999742507935\n",
      "Epoch 1/1\n",
      "1000/1000 [==============================] - 2s 2ms/step - loss: 0.4897 - dense_10_loss: 9.3180e-04 - dense_12_loss: 0.4888 - dense_10_acc: 0.5190 - dense_12_acc: 0.7610\n",
      "Match: 0.5120000243186951\n",
      "Epoch 1/1\n",
      "1000/1000 [==============================] - 2s 2ms/step - loss: 0.4811 - dense_10_loss: 9.5538e-04 - dense_12_loss: 0.4801 - dense_10_acc: 0.4780 - dense_12_acc: 0.7630\n",
      "Match: 0.527999997138977\n",
      "Epoch 1/1\n",
      "1000/1000 [==============================] - 2s 2ms/step - loss: 0.4364 - dense_10_loss: 0.0011 - dense_12_loss: 0.4353 - dense_10_acc: 0.5060 - dense_12_acc: 0.7960\n",
      "Match: 0.5199999809265137\n",
      "Epoch 1/1\n",
      "1000/1000 [==============================] - 2s 2ms/step - loss: 0.4194 - dense_10_loss: 0.0010 - dense_12_loss: 0.4184 - dense_10_acc: 0.5050 - dense_12_acc: 0.7840\n",
      "Match: 0.5019999742507935\n",
      "Epoch 1/1\n",
      "1000/1000 [==============================] - 2s 2ms/step - loss: 0.4019 - dense_10_loss: 9.8477e-04 - dense_12_loss: 0.4010 - dense_10_acc: 0.4730 - dense_12_acc: 0.7880\n",
      "Match: 0.49799999594688416\n",
      "Epoch 1/1\n",
      "1000/1000 [==============================] - 2s 2ms/step - loss: 0.4355 - dense_10_loss: 9.7686e-04 - dense_12_loss: 0.4345 - dense_10_acc: 0.5070 - dense_12_acc: 0.7820\n",
      "Match: 0.49399998784065247\n",
      "Epoch 1/1\n",
      "1000/1000 [==============================] - 1s 1ms/step - loss: 0.3939 - dense_10_loss: 9.8487e-04 - dense_12_loss: 0.3929 - dense_10_acc: 0.4920 - dense_12_acc: 0.7780\n",
      "Match: 0.5080000162124634\n",
      "Epoch 1/1\n",
      "1000/1000 [==============================] - 1s 1ms/step - loss: 0.4590 - dense_10_loss: 0.0010 - dense_12_loss: 0.4580 - dense_10_acc: 0.5050 - dense_12_acc: 0.7350\n",
      "Match: 0.4620000123977661\n",
      "Epoch 1/1\n",
      "1000/1000 [==============================] - 1s 1ms/step - loss: 0.4027 - dense_10_loss: 0.0010 - dense_12_loss: 0.4017 - dense_10_acc: 0.4980 - dense_12_acc: 0.7770\n",
      "Match: 0.4779999852180481\n",
      "Epoch 1/1\n",
      "1000/1000 [==============================] - 2s 2ms/step - loss: 0.4272 - dense_10_loss: 9.7911e-04 - dense_12_loss: 0.4263 - dense_10_acc: 0.5000 - dense_12_acc: 0.7690\n",
      "Match: 0.4740000069141388\n",
      "Epoch 1/1\n",
      "1000/1000 [==============================] - 1s 1ms/step - loss: 0.4640 - dense_10_loss: 9.6608e-04 - dense_12_loss: 0.4630 - dense_10_acc: 0.5000 - dense_12_acc: 0.7510\n",
      "Match: 0.47200000286102295\n",
      "Epoch 1/1\n",
      "1000/1000 [==============================] - 1s 1ms/step - loss: 0.5048 - dense_10_loss: 9.9580e-04 - dense_12_loss: 0.5038 - dense_10_acc: 0.4760 - dense_12_acc: 0.7260\n",
      "Match: 0.5080000162124634\n",
      "Epoch 1/1\n",
      "1000/1000 [==============================] - 2s 2ms/step - loss: 0.4119 - dense_10_loss: 0.0010 - dense_12_loss: 0.4109 - dense_10_acc: 0.5130 - dense_12_acc: 0.7790\n",
      "Match: 0.5120000243186951\n",
      "Epoch 1/1\n",
      "1000/1000 [==============================] - 2s 2ms/step - loss: 0.4286 - dense_10_loss: 0.0010 - dense_12_loss: 0.4276 - dense_10_acc: 0.4740 - dense_12_acc: 0.7620\n",
      "Match: 0.47200000286102295\n",
      "Epoch 1/1\n",
      "1000/1000 [==============================] - 2s 2ms/step - loss: 0.4479 - dense_10_loss: 0.0010 - dense_12_loss: 0.4469 - dense_10_acc: 0.4970 - dense_12_acc: 0.7770\n",
      "Match: 0.4959999918937683\n",
      "Epoch 1/1\n",
      "1000/1000 [==============================] - 3s 3ms/step - loss: 0.4234 - dense_10_loss: 0.0011 - dense_12_loss: 0.4223 - dense_10_acc: 0.5020 - dense_12_acc: 0.7710\n",
      "Match: 0.48399999737739563\n",
      "Epoch 1/1\n",
      "1000/1000 [==============================] - 2s 2ms/step - loss: 0.4248 - dense_10_loss: 0.0010 - dense_12_loss: 0.4237 - dense_10_acc: 0.5140 - dense_12_acc: 0.7780\n",
      "Match: 0.5019999742507935\n",
      "Epoch 1/1\n",
      "1000/1000 [==============================] - 2s 2ms/step - loss: 0.4159 - dense_10_loss: 9.5452e-04 - dense_12_loss: 0.4149 - dense_10_acc: 0.5050 - dense_12_acc: 0.7790\n",
      "Match: 0.4959999918937683\n",
      "Epoch 1/1\n",
      "1000/1000 [==============================] - 2s 2ms/step - loss: 0.4321 - dense_10_loss: 9.7334e-04 - dense_12_loss: 0.4311 - dense_10_acc: 0.5010 - dense_12_acc: 0.7540\n",
      "Match: 0.5199999809265137\n",
      "Epoch 1/1\n",
      "1000/1000 [==============================] - 2s 2ms/step - loss: 0.4573 - dense_10_loss: 9.9431e-04 - dense_12_loss: 0.4563 - dense_10_acc: 0.4820 - dense_12_acc: 0.7800\n",
      "Match: 0.4880000054836273\n",
      "Epoch 1/1\n",
      "1000/1000 [==============================] - 2s 2ms/step - loss: 0.4534 - dense_10_loss: 0.0010 - dense_12_loss: 0.4524 - dense_10_acc: 0.4740 - dense_12_acc: 0.7600\n",
      "Match: 0.4880000054836273\n",
      "Epoch 1/1\n",
      "1000/1000 [==============================] - 2s 2ms/step - loss: 0.4660 - dense_10_loss: 0.0011 - dense_12_loss: 0.4649 - dense_10_acc: 0.5090 - dense_12_acc: 0.7680\n",
      "Match: 0.5180000066757202\n",
      "Epoch 1/1\n",
      "1000/1000 [==============================] - 2s 2ms/step - loss: 0.4466 - dense_10_loss: 0.0010 - dense_12_loss: 0.4456 - dense_10_acc: 0.5350 - dense_12_acc: 0.8100\n",
      "Match: 0.5059999823570251\n",
      "Epoch 1/1\n",
      "1000/1000 [==============================] - 2s 2ms/step - loss: 0.4527 - dense_10_loss: 0.0011 - dense_12_loss: 0.4517 - dense_10_acc: 0.5120 - dense_12_acc: 0.7610\n",
      "Match: 0.5\n",
      "Epoch 1/1\n",
      "1000/1000 [==============================] - 2s 2ms/step - loss: 0.3934 - dense_10_loss: 9.1850e-04 - dense_12_loss: 0.3925 - dense_10_acc: 0.5140 - dense_12_acc: 0.8040\n",
      "Match: 0.515999972820282\n",
      "Epoch 1/1\n",
      "1000/1000 [==============================] - 2s 2ms/step - loss: 0.4533 - dense_10_loss: 9.1274e-04 - dense_12_loss: 0.4524 - dense_10_acc: 0.4690 - dense_12_acc: 0.7900\n",
      "Match: 0.5040000081062317\n",
      "Epoch 1/1\n",
      "1000/1000 [==============================] - 2s 2ms/step - loss: 0.4697 - dense_10_loss: 9.6677e-04 - dense_12_loss: 0.4688 - dense_10_acc: 0.5060 - dense_12_acc: 0.7550\n",
      "Match: 0.5\n",
      "Epoch 1/1\n",
      "1000/1000 [==============================] - 2s 2ms/step - loss: 0.4263 - dense_10_loss: 0.0010 - dense_12_loss: 0.4253 - dense_10_acc: 0.4840 - dense_12_acc: 0.8150\n",
      "Match: 0.49799999594688416\n",
      "Epoch 1/1\n",
      "1000/1000 [==============================] - 2s 2ms/step - loss: 0.4762 - dense_10_loss: 9.9994e-04 - dense_12_loss: 0.4752 - dense_10_acc: 0.5260 - dense_12_acc: 0.7540\n",
      "Match: 0.5239999890327454\n",
      "Epoch 1/1\n",
      "1000/1000 [==============================] - 2s 2ms/step - loss: 0.4127 - dense_10_loss: 9.8916e-04 - dense_12_loss: 0.4117 - dense_10_acc: 0.5130 - dense_12_acc: 0.8020\n",
      "Match: 0.5139999985694885\n",
      "Epoch 1/1\n",
      "1000/1000 [==============================] - 2s 2ms/step - loss: 0.4324 - dense_10_loss: 9.4257e-04 - dense_12_loss: 0.4314 - dense_10_acc: 0.5050 - dense_12_acc: 0.7980\n",
      "Match: 0.515999972820282\n",
      "Epoch 1/1\n",
      "1000/1000 [==============================] - 2s 2ms/step - loss: 0.4388 - dense_10_loss: 9.8833e-04 - dense_12_loss: 0.4378 - dense_10_acc: 0.5130 - dense_12_acc: 0.8070\n",
      "Match: 0.5120000243186951\n",
      "Epoch 1/1\n",
      "1000/1000 [==============================] - 2s 2ms/step - loss: 0.4317 - dense_10_loss: 0.0010 - dense_12_loss: 0.4307 - dense_10_acc: 0.5110 - dense_12_acc: 0.7560\n",
      "Match: 0.5099999904632568\n",
      "Epoch 1/1\n",
      "1000/1000 [==============================] - 2s 2ms/step - loss: 0.4280 - dense_10_loss: 0.0010 - dense_12_loss: 0.4269 - dense_10_acc: 0.5250 - dense_12_acc: 0.7800\n",
      "Match: 0.4819999933242798\n",
      "Epoch 1/1\n",
      "1000/1000 [==============================] - 2s 2ms/step - loss: 0.3676 - dense_10_loss: 0.0011 - dense_12_loss: 0.3665 - dense_10_acc: 0.4930 - dense_12_acc: 0.8260\n",
      "Match: 0.44999998807907104\n",
      "Epoch 1/1\n",
      "1000/1000 [==============================] - 2s 2ms/step - loss: 0.4374 - dense_10_loss: 9.4174e-04 - dense_12_loss: 0.4365 - dense_10_acc: 0.5200 - dense_12_acc: 0.7550\n",
      "Match: 0.515999972820282\n",
      "Epoch 1/1\n",
      "1000/1000 [==============================] - 2s 2ms/step - loss: 0.4496 - dense_10_loss: 0.0010 - dense_12_loss: 0.4486 - dense_10_acc: 0.5360 - dense_12_acc: 0.7490\n",
      "Match: 0.5199999809265137\n",
      "Epoch 1/1\n",
      "1000/1000 [==============================] - 2s 2ms/step - loss: 0.4724 - dense_10_loss: 9.5685e-04 - dense_12_loss: 0.4715 - dense_10_acc: 0.5310 - dense_12_acc: 0.7270\n",
      "Match: 0.49799999594688416\n",
      "Epoch 1/1\n",
      "1000/1000 [==============================] - 2s 2ms/step - loss: 0.4374 - dense_10_loss: 8.9049e-04 - dense_12_loss: 0.4365 - dense_10_acc: 0.4860 - dense_12_acc: 0.7780\n",
      "Match: 0.5080000162124634\n",
      "Epoch 1/1\n",
      "1000/1000 [==============================] - 2s 2ms/step - loss: 0.4029 - dense_10_loss: 9.3218e-04 - dense_12_loss: 0.4020 - dense_10_acc: 0.5050 - dense_12_acc: 0.7820\n",
      "Match: 0.5299999713897705\n",
      "Epoch 1/1\n",
      "1000/1000 [==============================] - 2s 2ms/step - loss: 0.4264 - dense_10_loss: 9.4391e-04 - dense_12_loss: 0.4254 - dense_10_acc: 0.5030 - dense_12_acc: 0.7570\n",
      "Match: 0.5260000228881836\n",
      "Epoch 1/1\n",
      "1000/1000 [==============================] - 2s 2ms/step - loss: 0.4976 - dense_10_loss: 9.6820e-04 - dense_12_loss: 0.4966 - dense_10_acc: 0.5190 - dense_12_acc: 0.7490\n",
      "Match: 0.5\n",
      "Epoch 1/1\n",
      "1000/1000 [==============================] - 2s 2ms/step - loss: 0.4752 - dense_10_loss: 9.2956e-04 - dense_12_loss: 0.4743 - dense_10_acc: 0.4760 - dense_12_acc: 0.7480\n",
      "Match: 0.5040000081062317\n",
      "Epoch 1/1\n",
      "1000/1000 [==============================] - 2s 2ms/step - loss: 0.4626 - dense_10_loss: 0.0010 - dense_12_loss: 0.4616 - dense_10_acc: 0.4860 - dense_12_acc: 0.7410\n",
      "Match: 0.48399999737739563\n",
      "Epoch 1/1\n",
      "1000/1000 [==============================] - 2s 2ms/step - loss: 0.4206 - dense_10_loss: 9.0574e-04 - dense_12_loss: 0.4197 - dense_10_acc: 0.5020 - dense_12_acc: 0.7580\n",
      "Match: 0.5059999823570251\n",
      "Epoch 1/1\n",
      "1000/1000 [==============================] - 2s 2ms/step - loss: 0.4662 - dense_10_loss: 9.8889e-04 - dense_12_loss: 0.4652 - dense_10_acc: 0.4980 - dense_12_acc: 0.7650\n",
      "Match: 0.48399999737739563\n",
      "Epoch 1/1\n",
      "1000/1000 [==============================] - 2s 2ms/step - loss: 0.4689 - dense_10_loss: 0.0010 - dense_12_loss: 0.4679 - dense_10_acc: 0.5230 - dense_12_acc: 0.7610\n",
      "Match: 0.5299999713897705\n",
      "Epoch 1/1\n",
      "1000/1000 [==============================] - 2s 2ms/step - loss: 0.4381 - dense_10_loss: 9.8270e-04 - dense_12_loss: 0.4371 - dense_10_acc: 0.5010 - dense_12_acc: 0.7800\n",
      "Match: 0.4880000054836273\n",
      "Epoch 1/1\n",
      "1000/1000 [==============================] - 2s 2ms/step - loss: 0.4770 - dense_10_loss: 0.0010 - dense_12_loss: 0.4760 - dense_10_acc: 0.4960 - dense_12_acc: 0.7150\n",
      "Match: 0.47600001096725464\n",
      "Epoch 1/1\n",
      "1000/1000 [==============================] - 2s 2ms/step - loss: 0.4743 - dense_10_loss: 9.2248e-04 - dense_12_loss: 0.4734 - dense_10_acc: 0.5070 - dense_12_acc: 0.7600\n",
      "Match: 0.5339999794960022\n",
      "Epoch 1/1\n",
      "1000/1000 [==============================] - 2s 2ms/step - loss: 0.4161 - dense_10_loss: 8.5958e-04 - dense_12_loss: 0.4152 - dense_10_acc: 0.5060 - dense_12_acc: 0.7670\n",
      "Match: 0.48399999737739563\n",
      "Epoch 1/1\n",
      "1000/1000 [==============================] - 2s 2ms/step - loss: 0.4396 - dense_10_loss: 9.0330e-04 - dense_12_loss: 0.4387 - dense_10_acc: 0.5050 - dense_12_acc: 0.7850\n",
      "Match: 0.527999997138977\n",
      "Epoch 1/1\n",
      "1000/1000 [==============================] - 2s 2ms/step - loss: 0.4886 - dense_10_loss: 8.5733e-04 - dense_12_loss: 0.4878 - dense_10_acc: 0.5150 - dense_12_acc: 0.7570\n",
      "Match: 0.5139999985694885\n",
      "Epoch 1/1\n",
      "1000/1000 [==============================] - 2s 2ms/step - loss: 0.4703 - dense_10_loss: 9.3177e-04 - dense_12_loss: 0.4693 - dense_10_acc: 0.5300 - dense_12_acc: 0.7630\n",
      "Match: 0.49799999594688416\n",
      "Epoch 1/1\n",
      "1000/1000 [==============================] - 2s 2ms/step - loss: 0.4501 - dense_10_loss: 9.6280e-04 - dense_12_loss: 0.4492 - dense_10_acc: 0.4990 - dense_12_acc: 0.7650\n",
      "Match: 0.5040000081062317\n",
      "Epoch 1/1\n",
      "1000/1000 [==============================] - 2s 2ms/step - loss: 0.4559 - dense_10_loss: 8.8879e-04 - dense_12_loss: 0.4550 - dense_10_acc: 0.4840 - dense_12_acc: 0.7830\n",
      "Match: 0.48399999737739563\n",
      "Epoch 1/1\n",
      "1000/1000 [==============================] - 2s 2ms/step - loss: 0.4247 - dense_10_loss: 9.5848e-04 - dense_12_loss: 0.4237 - dense_10_acc: 0.5020 - dense_12_acc: 0.7940\n",
      "Match: 0.5099999904632568\n",
      "Epoch 1/1\n",
      "1000/1000 [==============================] - 2s 2ms/step - loss: 0.4352 - dense_10_loss: 8.7094e-04 - dense_12_loss: 0.4343 - dense_10_acc: 0.5000 - dense_12_acc: 0.7980\n",
      "Match: 0.4819999933242798\n",
      "Epoch 1/1\n",
      "1000/1000 [==============================] - 2s 2ms/step - loss: 0.4398 - dense_10_loss: 0.0010 - dense_12_loss: 0.4388 - dense_10_acc: 0.4850 - dense_12_acc: 0.7610\n",
      "Match: 0.49399998784065247\n",
      "Epoch 1/1\n",
      " 391/1000 [==========>...................] - ETA: 1s - loss: 0.3065 - dense_10_loss: 8.6888e-04 - dense_12_loss: 0.3056 - dense_10_acc: 0.5090 - dense_12_acc: 0.8645"
     ]
    }
   ],
   "source": [
    "variables= {\"episodes\": [75], \"mcts_sims\": [40], \"objective_opponent\": [False], \"storage_size\": [10000], \"sample_size\": [1000], \"hidden_neurons\": [128], \"model\": [\"Keras\"], \"minimal\": [False]}\n",
    "\n",
    "results = []\n",
    "n = 1\n",
    "best_models = []\n",
    "\n",
    "for combination in tqdm(create_grid_search(variables)):\n",
    "    summary_writer = tf.summary.FileWriter(\"./results/sgd-e-2-mom-conti\" + str(combination) + \" (try 0)\")\n",
    "    score = 0\n",
    "    for i in range(n):\n",
    "        env = WattenEnv(combination[\"minimal\"])\n",
    "        if combination[\"model\"] is \"Keras\":\n",
    "            model = KerasModel(combination[\"hidden_neurons\"])#LookUp()\n",
    "            best_model = KerasModel(combination[\"hidden_neurons\"])#LookUp()\n",
    "            train_model = KerasModel(combination[\"hidden_neurons\"])#LookUp()\n",
    "        else:\n",
    "            model = TinyDnnModel(combination[\"hidden_neurons\"])#LookUp()\n",
    "            best_model = TinyDnnModel(combination[\"hidden_neurons\"])#LookUp()\n",
    "            train_model = TinyDnnModel(combination[\"hidden_neurons\"])#LookUp()\n",
    "        train_model.copy_weights_from(model)\n",
    "        best_model.copy_weights_from(model)\n",
    "        storage = Storage(combination[\"storage_size\"])\n",
    "        mcts = MCTS(combination[\"episodes\"], combination[\"mcts_sims\"], combination[\"objective_opponent\"])\n",
    "        rating = ModelRating(env)\n",
    "        game = Game(env)\n",
    "        score += train(env, model, train_model, best_model, storage, mcts, game, rating, combination[\"sample_size\"], summary_writer, combination[\"minimal\"])\n",
    "    results.append([combination, score / n])\n",
    "    best_models.append(best_model)\n",
    "for result in results:\n",
    "    print(result[0], result[1])"
   ]
  },
  {
   "cell_type": "code",
   "execution_count": null,
   "metadata": {},
   "outputs": [],
   "source": []
  },
  {
   "cell_type": "code",
   "execution_count": 14,
   "metadata": {},
   "outputs": [
    {
     "name": "stdout",
     "output_type": "stream",
     "text": [
      "0 4\n",
      "1 1\n",
      "2 8\n",
      "3 13\n",
      "4 9\n",
      "5 20\n",
      "6 10\n",
      "7 17\n",
      "8 1\n",
      "9 1\n",
      "10 11\n",
      "11 10\n",
      "12 11\n",
      "13 19\n",
      "14 12\n",
      "15 19\n",
      "16 0\n",
      "17 5\n",
      "18 12\n",
      "19 17\n",
      "20 12\n",
      "21 21\n",
      "22 6\n",
      "23 23\n"
     ]
    }
   ],
   "source": [
    "for i in range(len(best_models)):\n",
    "    wins = 0\n",
    "    for j in range(len(best_models)):\n",
    "        if game.compare_given_games(best_models[i], best_models[j], rating) > 0.5:\n",
    "            wins += 1\n",
    "    print(i, wins)"
   ]
  },
  {
   "cell_type": "code",
   "execution_count": 8,
   "metadata": {},
   "outputs": [],
   "source": [
    "%%cython -f -I . -L . -L /home/domin/.local/lib/python3.6/site-packages -I /home/domin/.local/lib/python3.6/site-packages  --cplus \n",
    "\n",
    "from src.KerasModel cimport KerasModel\n",
    "\n",
    "cpdef void save(KerasModel m):\n",
    "    m.model.save('modelDenseFinal32.h5')\n",
    "    \n",
    "cpdef void load(KerasModel m):\n",
    "    m.model.load_weights('modelDenseFinal32.h5')"
   ]
  },
  {
   "cell_type": "code",
   "execution_count": 9,
   "metadata": {},
   "outputs": [],
   "source": [
    "prev_model = KerasModel()\n",
    "load(prev_model)"
   ]
  },
  {
   "cell_type": "code",
   "execution_count": 16,
   "metadata": {},
   "outputs": [
    {
     "data": {
      "text/plain": [
       "0.4875999987125397"
      ]
     },
     "execution_count": 16,
     "metadata": {},
     "output_type": "execute_result"
    }
   ],
   "source": [
    "game.compare_rand_games(prev_model, best_models[-1], 10000)"
   ]
  },
  {
   "cell_type": "code",
   "execution_count": 11,
   "metadata": {},
   "outputs": [],
   "source": [
    "%%cython -f -I . -L . -L /home/domin/.local/lib/python3.6/site-packages -I /home/domin/.local/lib/python3.6/site-packages  --cplus \n",
    "\n",
    "from src.MCTS cimport MCTS, Storage, MCTSState\n",
    "from src.LookUp cimport LookUp, ModelOutput\n",
    "from src.ModelRating cimport ModelRating\n",
    "from src.Game cimport Game\n",
    "from gym_watten.envs.watten_env cimport WattenEnv, Observation\n",
    "from IPython.display import clear_output\n",
    "from libcpp.vector cimport vector\n",
    "\n",
    "cpdef void show_flaws(WattenEnv env, LookUp model, LookUp better_model, ModelRating rating, int start=0):\n",
    "    cdef Observation obs\n",
    "    cdef ModelOutput output, better_output\n",
    "    cdef int step, better_step\n",
    "    \n",
    "    for g in range(start, rating.eval_games.size()):  \n",
    "        env.reset()\n",
    "        env.set_state(&rating.eval_games[g])\n",
    "        env.regenerate_obs(&obs)\n",
    "    \n",
    "        model.predict_single(&obs, &output)\n",
    "        step = model.valid_step(output.p, &env.players[env.current_player].hand_cards)\n",
    "        \n",
    "        better_model.predict_single(&obs, &better_output)\n",
    "        better_step = better_model.valid_step(better_output.p, &env.players[env.current_player].hand_cards)\n",
    "        \n",
    "        if better_step != step:\n",
    "            env.render('human')\n",
    "            print(g, step, better_step, output.p, better_output.p)\n",
    "            break\n",
    "            \n",
    "cpdef void analyse(WattenEnv env, LookUp model, MCTS mcts, ModelRating rating, int game_id, draw=True):\n",
    "    env.reset()\n",
    "    env.set_state(&rating.eval_games[game_id])\n",
    "    #env.step(0)\n",
    "    #env.step(4)\n",
    "    #env.step(2)\n",
    "    #env.step(1)\n",
    "    env.render('human')\n",
    "    #print(env.is_done())\n",
    "    mcts.objective_opponent = True\n",
    "    \n",
    "    cdef MCTSState root = mcts.create_root_state(env)\n",
    "    cdef vector[float] p\n",
    "    mcts.mcts_game_step(env, &root, model, &p, 40)\n",
    "    print(p)\n",
    "    \n",
    "    if draw:\n",
    "        mcts.draw_tree(&root, 6)\n",
    "\n",
    "cpdef void run(WattenEnv env, LookUp model, ModelRating rating, int game_id):\n",
    "    cdef Observation obs\n",
    "    cdef ModelOutput output\n",
    "    \n",
    "    env.reset()\n",
    "    env.set_state(&rating.eval_games[game_id])\n",
    "    env.regenerate_obs(&obs)\n",
    "    \n",
    "    model.predict_single(&obs, &output)\n",
    "    print(output.p)"
   ]
  },
  {
   "cell_type": "code",
   "execution_count": 32,
   "metadata": {},
   "outputs": [
    {
     "name": "stdout",
     "output_type": "stream",
     "text": [
      "60 3 2 [0.30431854724884033, 0.0, 0.28242039680480957, 0.41326066851615906, 0.0, 0.0, 0.0, 0.0, 0.0, 0.0, 0.0, 0.0, 0.0, 0.0, 0.0, 0.0, 0.0, 0.0, 0.0, 0.0, 0.0, 0.0, 0.0, 0.0, 0.0, 0.0, 0.0, 0.0, 0.0, 0.0, 0.0, 0.0] [0.302650511264801, 0.0, 0.41321861743927, 0.28413063287734985, 0.0, 0.0, 0.0, 0.0, 0.0, 0.0, 0.0, 0.0, 0.0, 0.0, 0.0, 0.0, 0.0, 0.0, 0.0, 0.0, 0.0, 0.0, 0.0, 0.0, 0.0, 0.0, 0.0, 0.0, 0.0, 0.0, 0.0, 0.0]\n"
     ]
    }
   ],
   "source": [
    "show_flaws(env, best_models[10], best_models[11], rating, 20)"
   ]
  },
  {
   "cell_type": "code",
   "execution_count": 12,
   "metadata": {},
   "outputs": [
    {
     "name": "stdout",
     "output_type": "stream",
     "text": [
      "[0.42824968695640564, 0.32129472494125366, 0.2504556179046631]\n",
      "[0.31789714097976685, 0.37508949637413025, 0.3070133626461029]\n",
      "[0.4029049277305603, 0.2813130021095276, 0.3157820701599121]\n",
      "[0.4055160582065582, 0.3133985996246338, 0.281085342168808]\n",
      "[0.3218088448047638, 0.3863930106163025, 0.29179811477661133]\n",
      "[0.40328505635261536, 0.25039905309677124, 0.3463159203529358]\n",
      "[0.40066438913345337, 0.16118615865707397, 0.43814942240715027]\n",
      "[0.4009774327278137, 0.16110198199748993, 0.43792060017585754]\n",
      "[0.24658171832561493, 0.2084484100341797, 0.5449698567390442]\n",
      "[0.22409316897392273, 0.21404504776000977, 0.5618617534637451]\n"
     ]
    }
   ],
   "source": [
    "for i in range(60, 70):\n",
    "    analyse(env, best_models[2], mcts, rating, i, False)"
   ]
  },
  {
   "cell_type": "code",
   "execution_count": 13,
   "metadata": {},
   "outputs": [
    {
     "name": "stdout",
     "output_type": "stream",
     "text": [
      "[0.2822434902191162, 0.4731760025024414, 0.24458058178424835]\n"
     ]
    },
    {
     "data": {
      "application/vnd.jupyter.widget-view+json": {
       "model_id": "a737ef0f2eea46978bea25c27785e7da",
       "version_major": 2,
       "version_minor": 0
      },
      "text/html": [
       "<p>Failed to display Jupyter Widget of type <code>FigureCanvasNbAgg</code>.</p>\n",
       "<p>\n",
       "  If you're reading this message in the Jupyter Notebook or JupyterLab Notebook, it may mean\n",
       "  that the widgets JavaScript is still loading. If this message persists, it\n",
       "  likely means that the widgets JavaScript library is either not installed or\n",
       "  not enabled. See the <a href=\"https://ipywidgets.readthedocs.io/en/stable/user_install.html\">Jupyter\n",
       "  Widgets Documentation</a> for setup instructions.\n",
       "</p>\n",
       "<p>\n",
       "  If you're reading this message in another frontend (for example, a static\n",
       "  rendering on GitHub or <a href=\"https://nbviewer.jupyter.org/\">NBViewer</a>),\n",
       "  it may mean that your frontend doesn't currently support widgets.\n",
       "</p>\n"
      ],
      "text/plain": [
       "FigureCanvasNbAgg()"
      ]
     },
     "metadata": {},
     "output_type": "display_data"
    }
   ],
   "source": [
    "analyse(env, best_models[2], mcts, rating, 61)"
   ]
  },
  {
   "cell_type": "code",
   "execution_count": 23,
   "metadata": {},
   "outputs": [
    {
     "name": "stdout",
     "output_type": "stream",
     "text": [
      "[0.2860535979270935, 0.0, 0.3563016653060913, 0.35764503479003906, 0.0, 0.0, 0.0, 0.0, 0.0, 0.0, 0.0, 0.0, 0.0, 0.0, 0.0, 0.0, 0.0, 0.0, 0.0, 0.0, 0.0, 0.0, 0.0, 0.0, 0.0, 0.0, 0.0, 0.0, 0.0, 0.0, 0.0, 0.0]\n"
     ]
    }
   ],
   "source": [
    "run(env, best_models[7], rating, 69)"
   ]
  },
  {
   "cell_type": "code",
   "execution_count": null,
   "metadata": {},
   "outputs": [],
   "source": [
    "env = WattenEnv()\n",
    "model = LookUp()\n",
    "best_model = LookUp()\n",
    "storage = Storage()\n",
    "mcts = MCTS()\n",
    "rating = ModelRating(env)\n",
    "game = Game(env)\n",
    "\n",
    "mcts.mcts_generate(env, model, storage)\n",
    "model.memorize_storage(storage)\n",
    "game.compare_given_games(model, best_model, rating)\n",
    "rating.calc_exploitability(model)"
   ]
  },
  {
   "cell_type": "code",
   "execution_count": 4,
   "metadata": {},
   "outputs": [
    {
     "ename": "NameError",
     "evalue": "name 'game' is not defined",
     "output_type": "error",
     "traceback": [
      "\u001b[0;31m---------------------------------------------------------------------------\u001b[0m",
      "\u001b[0;31mNameError\u001b[0m                                 Traceback (most recent call last)",
      "\u001b[0;32m<ipython-input-4-7f934aafac6d>\u001b[0m in \u001b[0;36m<module>\u001b[0;34m()\u001b[0m\n\u001b[1;32m      1\u001b[0m \u001b[0;32mfor\u001b[0m \u001b[0mi\u001b[0m \u001b[0;32min\u001b[0m \u001b[0mrange\u001b[0m\u001b[0;34m(\u001b[0m\u001b[0;36m10\u001b[0m\u001b[0;34m)\u001b[0m\u001b[0;34m:\u001b[0m\u001b[0;34m\u001b[0m\u001b[0m\n\u001b[0;32m----> 2\u001b[0;31m     \u001b[0mprint\u001b[0m\u001b[0;34m(\u001b[0m\u001b[0mgame\u001b[0m\u001b[0;34m.\u001b[0m\u001b[0mcompare_given_games\u001b[0m\u001b[0;34m(\u001b[0m\u001b[0mbest_models\u001b[0m\u001b[0;34m[\u001b[0m\u001b[0;36m0\u001b[0m\u001b[0;34m]\u001b[0m\u001b[0;34m,\u001b[0m \u001b[0mbest_models\u001b[0m\u001b[0;34m[\u001b[0m\u001b[0mi\u001b[0m\u001b[0;34m]\u001b[0m\u001b[0;34m,\u001b[0m \u001b[0mrating\u001b[0m\u001b[0;34m)\u001b[0m\u001b[0;34m)\u001b[0m\u001b[0;34m\u001b[0m\u001b[0m\n\u001b[0m",
      "\u001b[0;31mNameError\u001b[0m: name 'game' is not defined"
     ]
    }
   ],
   "source": [
    "for i in range(10):\n",
    "    print(game.compare_given_games(best_models[0], best_models[i], rating, False))"
   ]
  },
  {
   "cell_type": "code",
   "execution_count": 25,
   "metadata": {},
   "outputs": [
    {
     "data": {
      "text/plain": [
       "0.06607142835855484"
      ]
     },
     "execution_count": 25,
     "metadata": {},
     "output_type": "execute_result"
    }
   ],
   "source": [
    "rating.calc_exploitability(best_model)"
   ]
  },
  {
   "cell_type": "code",
   "execution_count": 4,
   "metadata": {},
   "outputs": [
    {
     "data": {
      "text/plain": [
       "Timer unit: 1e-06 s\n",
       "\n",
       "Total time: 0.020369 s\n",
       "File: src/Game.pyx\n",
       "Function: match at line 16\n",
       "\n",
       "Line #      Hits         Time  Per Hit   % Time  Line Contents\n",
       "==============================================================\n",
       "    16                                               cpdef int match(self, LookUp agent1, LookUp agent2, bool render=False, bool reset=True):\n",
       "    17                                                   cdef Observation obs\n",
       "    18                                                   cdef ModelOutput output\n",
       "    19                                                   cdef int a\n",
       "    20      1120        696.0      0.6      3.4          if reset:\n",
       "    21                                                       self.env.reset(&obs)\n",
       "    22                                                   else:\n",
       "    23      1120        623.0      0.6      3.1              self.env.regenerate_obs(&obs)\n",
       "    24                                           \n",
       "    25      1120        560.0      0.5      2.7          while not self.env.is_done():\n",
       "    26      4720       2263.0      0.5     11.1              if self.env.current_player == 0:\n",
       "    27      2360       3927.0      1.7     19.3                  agent1.predict_single(&obs, &output)\n",
       "    28      2360       1308.0      0.6      6.4                  a = agent1.valid_step(output.p, &self.env.players[self.env.current_player].hand_cards)\n",
       "    29                                                       else:\n",
       "    30      2360       4001.0      1.7     19.6                  agent2.predict_single(&obs, &output)\n",
       "    31      2360       1274.0      0.5      6.3                  a = agent2.valid_step(output.p, &self.env.players[self.env.current_player].hand_cards)\n",
       "    32                                           \n",
       "    33      4720       2872.0      0.6     14.1              self.env.step(a, &obs)\n",
       "    34                                           \n",
       "    35      4720       2306.0      0.5     11.3              if render:\n",
       "    36                                                           self.env.render('human')\n",
       "    37                                                           sleep(2)\n",
       "    38                                                      # if env.lastTrick  is not None:\n",
       "    39                                                       #    break\n",
       "    40                                           \n",
       "    41      1120        539.0      0.5      2.6          return self.env.last_winner\n",
       "    42                                           \n",
       "    43                                               \"\"\"cdef float compare(self, LookUp agent1, LookUp agent2):\n",
       "    44                                                   cdef vector[LookUp] agents\n",
       "    45                                                   agents.push_back(agent1)\n",
       "    46                                                   agents.push_back(agent2)\n",
       "    47                                                   first_player_wins = 0\n",
       "    48                                           \n",
       "    49                                                   for i in range(10000):\n",
       "    50                                                       start_player = rand() % 2\n",
       "    51                                                       winner = self.match([agents[start_player], agents[1 - start_player]])\n",
       "    52                                                       first_player_wins += ((winner == 0) == (start_player == 0))\n",
       "    53                                                       #print(start_player, winner)\n",
       "    54                                           \n",
       "    55                                                   return first_player_wins / 10000\"\"\"\n",
       "    56                                           \n",
       "    57                                               cpdef float compare_given_games(self, LookUp agent1, LookUp agent2, ModelRating rating):\n",
       "    58                                                   cdef int i, first_player_wins, winner, start_player\n",
       "    59                                                   first_player_wins = 0\n",
       "    60                                           \n",
       "    61                                                   for i in range(rating.eval_games.size()):\n",
       "    62                                                       for start_player in range(2):\n",
       "    63                                                           self.env.set_state(&rating.eval_games[i])\n",
       "    64                                                           self.env.current_player = start_player\n",
       "    65                                                           winner = self.match(agent1, agent2, render=False, reset=False)\n",
       "    66                                                           first_player_wins += (winner == 0)\n",
       "    67                                           \n",
       "    68                                                   return <float>first_player_wins / (rating.eval_games.size() * 2)\n",
       "    69                                           \n",
       "    70                                               def test(self):\n",
       "    71                                                   pass"
      ]
     },
     "metadata": {},
     "output_type": "display_data"
    }
   ],
   "source": [
    "%lprun -f game.match game.compare_given_games(model, best_model, rating)"
   ]
  },
  {
   "cell_type": "code",
   "execution_count": 4,
   "metadata": {},
   "outputs": [
    {
     "name": "stdout",
     "output_type": "stream",
     "text": [
      "Sat Mar 24 00:38:45 2018    Profile.prof\n",
      "\n",
      "         4 function calls in 0.007 seconds\n",
      "\n",
      "   Random listing order was used\n",
      "\n",
      "   ncalls  tottime  percall  cumtime  percall filename:lineno(function)\n",
      "        1    0.000    0.000    0.007    0.007 {built-in method builtins.exec}\n",
      "        1    0.007    0.007    0.007    0.007 {method 'compare_given_games' of 'src.Game.Game' objects}\n",
      "        1    0.000    0.000    0.000    0.000 {method 'disable' of '_lsprof.Profiler' objects}\n",
      "        1    0.000    0.000    0.007    0.007 <string>:1(<module>)\n",
      "\n",
      "\n"
     ]
    },
    {
     "data": {
      "text/plain": [
       "<pstats.Stats at 0x7f680c15bc88>"
      ]
     },
     "execution_count": 4,
     "metadata": {},
     "output_type": "execute_result"
    }
   ],
   "source": [
    "import pstats, cProfile\n",
    "\n",
    "cProfile.runctx(\"game.compare_given_games(model, best_model, rating)\", globals(), locals(), \"Profile.prof\")\n",
    "\n",
    "s = pstats.Stats(\"Profile.prof\")\n",
    "s.print_stats()"
   ]
  },
  {
   "cell_type": "code",
   "execution_count": 5,
   "metadata": {},
   "outputs": [
    {
     "name": "stderr",
     "output_type": "stream",
     "text": [
      "/usr/local/lib/python3.6/dist-packages/line_profiler.py:321: UserWarning: Could not extract a code object for the object 'mcts.mcts_sample'\n",
      "  profile = LineProfiler(*funcs)\n"
     ]
    },
    {
     "ename": "NameError",
     "evalue": "name 'train' is not defined",
     "output_type": "error",
     "traceback": [
      "\u001b[0;31m---------------------------------------------------------------------------\u001b[0m",
      "\u001b[0;31mNameError\u001b[0m                                 Traceback (most recent call last)",
      "\u001b[0;32m<ipython-input-5-f70d8ba2d533>\u001b[0m in \u001b[0;36m<module>\u001b[0;34m()\u001b[0m\n\u001b[0;32m----> 1\u001b[0;31m \u001b[0mget_ipython\u001b[0m\u001b[0;34m(\u001b[0m\u001b[0;34m)\u001b[0m\u001b[0;34m.\u001b[0m\u001b[0mrun_line_magic\u001b[0m\u001b[0;34m(\u001b[0m\u001b[0;34m'lprun'\u001b[0m\u001b[0;34m,\u001b[0m \u001b[0;34m'-f \"mcts.mcts_sample\" train(env, model, storage, mcts)'\u001b[0m\u001b[0;34m)\u001b[0m\u001b[0;34m\u001b[0m\u001b[0m\n\u001b[0m",
      "\u001b[0;32m/usr/local/lib/python3.6/dist-packages/IPython/core/interactiveshell.py\u001b[0m in \u001b[0;36mrun_line_magic\u001b[0;34m(self, magic_name, line, _stack_depth)\u001b[0m\n\u001b[1;32m   2093\u001b[0m                 \u001b[0mkwargs\u001b[0m\u001b[0;34m[\u001b[0m\u001b[0;34m'local_ns'\u001b[0m\u001b[0;34m]\u001b[0m \u001b[0;34m=\u001b[0m \u001b[0msys\u001b[0m\u001b[0;34m.\u001b[0m\u001b[0m_getframe\u001b[0m\u001b[0;34m(\u001b[0m\u001b[0mstack_depth\u001b[0m\u001b[0;34m)\u001b[0m\u001b[0;34m.\u001b[0m\u001b[0mf_locals\u001b[0m\u001b[0;34m\u001b[0m\u001b[0m\n\u001b[1;32m   2094\u001b[0m             \u001b[0;32mwith\u001b[0m \u001b[0mself\u001b[0m\u001b[0;34m.\u001b[0m\u001b[0mbuiltin_trap\u001b[0m\u001b[0;34m:\u001b[0m\u001b[0;34m\u001b[0m\u001b[0m\n\u001b[0;32m-> 2095\u001b[0;31m                 \u001b[0mresult\u001b[0m \u001b[0;34m=\u001b[0m \u001b[0mfn\u001b[0m\u001b[0;34m(\u001b[0m\u001b[0;34m*\u001b[0m\u001b[0margs\u001b[0m\u001b[0;34m,\u001b[0m\u001b[0;34m**\u001b[0m\u001b[0mkwargs\u001b[0m\u001b[0;34m)\u001b[0m\u001b[0;34m\u001b[0m\u001b[0m\n\u001b[0m\u001b[1;32m   2096\u001b[0m             \u001b[0;32mreturn\u001b[0m \u001b[0mresult\u001b[0m\u001b[0;34m\u001b[0m\u001b[0m\n\u001b[1;32m   2097\u001b[0m \u001b[0;34m\u001b[0m\u001b[0m\n",
      "\u001b[0;32m<decorator-gen-125>\u001b[0m in \u001b[0;36mlprun\u001b[0;34m(self, parameter_s)\u001b[0m\n",
      "\u001b[0;32m/usr/local/lib/python3.6/dist-packages/IPython/core/magic.py\u001b[0m in \u001b[0;36m<lambda>\u001b[0;34m(f, *a, **k)\u001b[0m\n\u001b[1;32m    185\u001b[0m     \u001b[0;31m# but it's overkill for just that one bit of state.\u001b[0m\u001b[0;34m\u001b[0m\u001b[0;34m\u001b[0m\u001b[0m\n\u001b[1;32m    186\u001b[0m     \u001b[0;32mdef\u001b[0m \u001b[0mmagic_deco\u001b[0m\u001b[0;34m(\u001b[0m\u001b[0marg\u001b[0m\u001b[0;34m)\u001b[0m\u001b[0;34m:\u001b[0m\u001b[0;34m\u001b[0m\u001b[0m\n\u001b[0;32m--> 187\u001b[0;31m         \u001b[0mcall\u001b[0m \u001b[0;34m=\u001b[0m \u001b[0;32mlambda\u001b[0m \u001b[0mf\u001b[0m\u001b[0;34m,\u001b[0m \u001b[0;34m*\u001b[0m\u001b[0ma\u001b[0m\u001b[0;34m,\u001b[0m \u001b[0;34m**\u001b[0m\u001b[0mk\u001b[0m\u001b[0;34m:\u001b[0m \u001b[0mf\u001b[0m\u001b[0;34m(\u001b[0m\u001b[0;34m*\u001b[0m\u001b[0ma\u001b[0m\u001b[0;34m,\u001b[0m \u001b[0;34m**\u001b[0m\u001b[0mk\u001b[0m\u001b[0;34m)\u001b[0m\u001b[0;34m\u001b[0m\u001b[0m\n\u001b[0m\u001b[1;32m    188\u001b[0m \u001b[0;34m\u001b[0m\u001b[0m\n\u001b[1;32m    189\u001b[0m         \u001b[0;32mif\u001b[0m \u001b[0mcallable\u001b[0m\u001b[0;34m(\u001b[0m\u001b[0marg\u001b[0m\u001b[0;34m)\u001b[0m\u001b[0;34m:\u001b[0m\u001b[0;34m\u001b[0m\u001b[0m\n",
      "\u001b[0;32m/usr/local/lib/python3.6/dist-packages/line_profiler.py\u001b[0m in \u001b[0;36mlprun\u001b[0;34m(self, parameter_s)\u001b[0m\n\u001b[1;32m    354\u001b[0m         \u001b[0;32mtry\u001b[0m\u001b[0;34m:\u001b[0m\u001b[0;34m\u001b[0m\u001b[0m\n\u001b[1;32m    355\u001b[0m             \u001b[0;32mtry\u001b[0m\u001b[0;34m:\u001b[0m\u001b[0;34m\u001b[0m\u001b[0m\n\u001b[0;32m--> 356\u001b[0;31m                 \u001b[0mprofile\u001b[0m\u001b[0;34m.\u001b[0m\u001b[0mrunctx\u001b[0m\u001b[0;34m(\u001b[0m\u001b[0marg_str\u001b[0m\u001b[0;34m,\u001b[0m \u001b[0mglobal_ns\u001b[0m\u001b[0;34m,\u001b[0m \u001b[0mlocal_ns\u001b[0m\u001b[0;34m)\u001b[0m\u001b[0;34m\u001b[0m\u001b[0m\n\u001b[0m\u001b[1;32m    357\u001b[0m                 \u001b[0mmessage\u001b[0m \u001b[0;34m=\u001b[0m \u001b[0;34m''\u001b[0m\u001b[0;34m\u001b[0m\u001b[0m\n\u001b[1;32m    358\u001b[0m             \u001b[0;32mexcept\u001b[0m \u001b[0mSystemExit\u001b[0m\u001b[0;34m:\u001b[0m\u001b[0;34m\u001b[0m\u001b[0m\n",
      "\u001b[0;32m/usr/local/lib/python3.6/dist-packages/line_profiler.py\u001b[0m in \u001b[0;36mrunctx\u001b[0;34m(self, cmd, globals, locals)\u001b[0m\n\u001b[1;32m    149\u001b[0m         \u001b[0mself\u001b[0m\u001b[0;34m.\u001b[0m\u001b[0menable_by_count\u001b[0m\u001b[0;34m(\u001b[0m\u001b[0;34m)\u001b[0m\u001b[0;34m\u001b[0m\u001b[0m\n\u001b[1;32m    150\u001b[0m         \u001b[0;32mtry\u001b[0m\u001b[0;34m:\u001b[0m\u001b[0;34m\u001b[0m\u001b[0m\n\u001b[0;32m--> 151\u001b[0;31m             \u001b[0mexec_\u001b[0m\u001b[0;34m(\u001b[0m\u001b[0mcmd\u001b[0m\u001b[0;34m,\u001b[0m \u001b[0mglobals\u001b[0m\u001b[0;34m,\u001b[0m \u001b[0mlocals\u001b[0m\u001b[0;34m)\u001b[0m\u001b[0;34m\u001b[0m\u001b[0m\n\u001b[0m\u001b[1;32m    152\u001b[0m         \u001b[0;32mfinally\u001b[0m\u001b[0;34m:\u001b[0m\u001b[0;34m\u001b[0m\u001b[0m\n\u001b[1;32m    153\u001b[0m             \u001b[0mself\u001b[0m\u001b[0;34m.\u001b[0m\u001b[0mdisable_by_count\u001b[0m\u001b[0;34m(\u001b[0m\u001b[0;34m)\u001b[0m\u001b[0;34m\u001b[0m\u001b[0m\n",
      "\u001b[0;32m<string>\u001b[0m in \u001b[0;36m<module>\u001b[0;34m()\u001b[0m\n",
      "\u001b[0;31mNameError\u001b[0m: name 'train' is not defined"
     ]
    }
   ],
   "source": [
    "%lprun -f \"mcts.mcts_sample\" train(env, model, storage, mcts)"
   ]
  },
  {
   "cell_type": "code",
   "execution_count": 62,
   "metadata": {},
   "outputs": [],
   "source": [
    "model.set_weights(trained_model.get_weights())"
   ]
  },
  {
   "cell_type": "code",
   "execution_count": 92,
   "metadata": {},
   "outputs": [
    {
     "data": {
      "text/plain": [
       "0.690327380952381"
      ]
     },
     "execution_count": 92,
     "metadata": {},
     "output_type": "execute_result"
    }
   ],
   "source": [
    "eval(models[1], eval_games)"
   ]
  },
  {
   "cell_type": "code",
   "execution_count": 272,
   "metadata": {},
   "outputs": [
    {
     "data": {
      "text/plain": [
       "[0.02589285714285713]"
      ]
     },
     "execution_count": 272,
     "metadata": {},
     "output_type": "execute_result"
    }
   ],
   "source": [
    "all_eval_scores"
   ]
  },
  {
   "cell_type": "code",
   "execution_count": 251,
   "metadata": {},
   "outputs": [
    {
     "data": {
      "text/plain": [
       "array([1.])"
      ]
     },
     "execution_count": 251,
     "metadata": {},
     "output_type": "execute_result"
    }
   ],
   "source": [
    "sample_outputs[1][9]"
   ]
  },
  {
   "cell_type": "code",
   "execution_count": 209,
   "metadata": {},
   "outputs": [
    {
     "data": {
      "text/plain": [
       "0.5410714285714285"
      ]
     },
     "execution_count": 209,
     "metadata": {},
     "output_type": "execute_result"
    }
   ],
   "source": [
    "compare_given_games(model, first_model, eval_games)"
   ]
  },
  {
   "cell_type": "code",
   "execution_count": 200,
   "metadata": {},
   "outputs": [
    {
     "ename": "NameError",
     "evalue": "name 'train_inputs' is not defined",
     "output_type": "error",
     "traceback": [
      "\u001b[0;31m---------------------------------------------------------------------------\u001b[0m",
      "\u001b[0;31mNameError\u001b[0m                                 Traceback (most recent call last)",
      "\u001b[0;32m<ipython-input-200-aa729d99c6ca>\u001b[0m in \u001b[0;36m<module>\u001b[0;34m()\u001b[0m\n\u001b[0;32m----> 1\u001b[0;31m \u001b[0mmodel\u001b[0m\u001b[0;34m.\u001b[0m\u001b[0mpredict_single\u001b[0m\u001b[0;34m(\u001b[0m\u001b[0;34m[\u001b[0m\u001b[0mtrain_inputs\u001b[0m\u001b[0;34m[\u001b[0m\u001b[0;36m0\u001b[0m\u001b[0;34m]\u001b[0m\u001b[0;34m[\u001b[0m\u001b[0mnext_index\u001b[0m \u001b[0;34m-\u001b[0m \u001b[0;36m2\u001b[0m\u001b[0;34m]\u001b[0m\u001b[0;34m,\u001b[0m \u001b[0mtrain_inputs\u001b[0m\u001b[0;34m[\u001b[0m\u001b[0;36m1\u001b[0m\u001b[0;34m]\u001b[0m\u001b[0;34m[\u001b[0m\u001b[0mnext_index\u001b[0m \u001b[0;34m-\u001b[0m \u001b[0;36m2\u001b[0m\u001b[0;34m]\u001b[0m\u001b[0;34m]\u001b[0m\u001b[0;34m)\u001b[0m\u001b[0;34m\u001b[0m\u001b[0m\n\u001b[0m",
      "\u001b[0;31mNameError\u001b[0m: name 'train_inputs' is not defined"
     ]
    }
   ],
   "source": [
    "model.predict_single([train_inputs[0][next_index - 2], train_inputs[1][next_index - 2]])"
   ]
  },
  {
   "cell_type": "code",
   "execution_count": 45,
   "metadata": {},
   "outputs": [
    {
     "data": {
      "text/plain": [
       "array([0.258651  , 0.        , 0.        , 0.        , 0.        ,\n",
       "       0.        , 0.        , 0.        , 0.        , 0.        ,\n",
       "       0.        , 0.27687292, 0.        , 0.        , 0.        ,\n",
       "       0.46447608, 0.        , 0.        , 0.        , 0.        ,\n",
       "       0.        , 0.        , 0.        , 0.        , 0.        ,\n",
       "       0.        , 0.        , 0.        , 0.        , 0.        ,\n",
       "       0.        , 0.        ])"
      ]
     },
     "execution_count": 45,
     "metadata": {},
     "output_type": "execute_result"
    }
   ],
   "source": [
    "train_outputs[0][next_index - 2]"
   ]
  },
  {
   "cell_type": "code",
   "execution_count": 46,
   "metadata": {},
   "outputs": [
    {
     "data": {
      "text/plain": [
       "array([[[0, 1],\n",
       "        [0, 0],\n",
       "        [0, 0],\n",
       "        [0, 0],\n",
       "        [0, 0],\n",
       "        [0, 0],\n",
       "        [0, 0],\n",
       "        [1, 0]],\n",
       "\n",
       "       [[1, 0],\n",
       "        [0, 0],\n",
       "        [0, 0],\n",
       "        [0, 0],\n",
       "        [1, 0],\n",
       "        [0, 0],\n",
       "        [0, 0],\n",
       "        [0, 0]],\n",
       "\n",
       "       [[0, 0],\n",
       "        [0, 0],\n",
       "        [0, 0],\n",
       "        [0, 0],\n",
       "        [0, 0],\n",
       "        [0, 0],\n",
       "        [0, 0],\n",
       "        [0, 0]],\n",
       "\n",
       "       [[0, 0],\n",
       "        [0, 0],\n",
       "        [0, 0],\n",
       "        [0, 0],\n",
       "        [0, 0],\n",
       "        [0, 0],\n",
       "        [0, 0],\n",
       "        [0, 0]]])"
      ]
     },
     "execution_count": 46,
     "metadata": {},
     "output_type": "execute_result"
    }
   ],
   "source": [
    "train_inputs[0][next_index - 2]"
   ]
  },
  {
   "cell_type": "code",
   "execution_count": 111,
   "metadata": {},
   "outputs": [],
   "source": [
    "test_model = build_model()"
   ]
  },
  {
   "cell_type": "code",
   "execution_count": 72,
   "metadata": {},
   "outputs": [],
   "source": [
    "K.set_value(test_model.optimizer.lr, 0.0001)"
   ]
  },
  {
   "cell_type": "code",
   "execution_count": 132,
   "metadata": {},
   "outputs": [
    {
     "name": "stdout",
     "output_type": "stream",
     "text": [
      "Epoch 1/10\n",
      "37764/37764 [==============================] - 1s 27us/step - loss: 0.6618 - dense_14_loss: 2.8052e-04 - dense_15_loss: 0.6615 - dense_14_acc: 0.5164 - dense_15_acc: 0.4518\n",
      "Epoch 2/10\n",
      "37764/37764 [==============================] - 1s 24us/step - loss: 0.6619 - dense_14_loss: 2.7928e-04 - dense_15_loss: 0.6616 - dense_14_acc: 0.5180 - dense_15_acc: 0.4519\n",
      "Epoch 3/10\n",
      "37764/37764 [==============================] - 1s 24us/step - loss: 0.6618 - dense_14_loss: 2.7612e-04 - dense_15_loss: 0.6616 - dense_14_acc: 0.5203 - dense_15_acc: 0.4518\n",
      "Epoch 4/10\n",
      "37764/37764 [==============================] - 1s 24us/step - loss: 0.6618 - dense_14_loss: 2.7579e-04 - dense_15_loss: 0.6615 - dense_14_acc: 0.5171 - dense_15_acc: 0.4513\n",
      "Epoch 5/10\n",
      "37764/37764 [==============================] - 1s 25us/step - loss: 0.6618 - dense_14_loss: 2.7352e-04 - dense_15_loss: 0.6615 - dense_14_acc: 0.5153 - dense_15_acc: 0.4513\n",
      "Epoch 6/10\n",
      "37764/37764 [==============================] - 1s 26us/step - loss: 0.6618 - dense_14_loss: 2.7305e-04 - dense_15_loss: 0.6616 - dense_14_acc: 0.5205 - dense_15_acc: 0.4518\n",
      "Epoch 7/10\n",
      "37764/37764 [==============================] - 1s 25us/step - loss: 0.6618 - dense_14_loss: 2.7032e-04 - dense_15_loss: 0.6615 - dense_14_acc: 0.5186 - dense_15_acc: 0.4522\n",
      "Epoch 8/10\n",
      "37764/37764 [==============================] - 1s 27us/step - loss: 0.6618 - dense_14_loss: 2.6888e-04 - dense_15_loss: 0.6615 - dense_14_acc: 0.5183 - dense_15_acc: 0.4515\n",
      "Epoch 9/10\n",
      "37764/37764 [==============================] - 1s 27us/step - loss: 0.6617 - dense_14_loss: 2.6399e-04 - dense_15_loss: 0.6615 - dense_14_acc: 0.5184 - dense_15_acc: 0.4523\n",
      "Epoch 10/10\n",
      "37764/37764 [==============================] - 1s 27us/step - loss: 0.6618 - dense_14_loss: 2.6460e-04 - dense_15_loss: 0.6615 - dense_14_acc: 0.5190 - dense_15_acc: 0.4518\n"
     ]
    },
    {
     "data": {
      "text/plain": [
       "<keras.callbacks.History at 0x7f44962f95f8>"
      ]
     },
     "execution_count": 132,
     "metadata": {},
     "output_type": "execute_result"
    }
   ],
   "source": [
    "test_model.fit([sample_inputs[0][:number_of_samples], sample_inputs[1][:number_of_samples]], [sample_outputs[0][:number_of_samples], sample_outputs[1][:number_of_samples]], epochs=10, batch_size=BATCH_SIZE)  "
   ]
  },
  {
   "cell_type": "code",
   "execution_count": 116,
   "metadata": {},
   "outputs": [
    {
     "data": {
      "text/plain": [
       "[array([0.0053017 , 0.0045248 , 0.00548624, 0.00582314, 0.0070843 ,\n",
       "        0.00583717, 0.00645116, 0.00290738, 0.00513383, 0.0056636 ,\n",
       "        0.331735  , 0.00607965, 0.0053452 , 0.00601907, 0.33392397,\n",
       "        0.0070668 , 0.00368037, 0.01111693, 0.00290891, 0.00334794,\n",
       "        0.00270144, 0.00335149, 0.00295761, 0.00356095, 0.00431994,\n",
       "        0.00539099, 0.00628497, 0.00557014, 0.3452927 , 0.00649954,\n",
       "        0.00652416, 0.00288056], dtype=float32),\n",
       " array([-0.81022185], dtype=float32)]"
      ]
     },
     "execution_count": 116,
     "metadata": {},
     "output_type": "execute_result"
    }
   ],
   "source": [
    "test_model.predict_single([sample_inputs[0][5], sample_inputs[1][5]])"
   ]
  },
  {
   "cell_type": "code",
   "execution_count": 110,
   "metadata": {},
   "outputs": [
    {
     "data": {
      "text/plain": [
       "37764"
      ]
     },
     "execution_count": 110,
     "metadata": {},
     "output_type": "execute_result"
    }
   ],
   "source": [
    "sample_outputs[0][10]"
   ]
  },
  {
   "cell_type": "code",
   "execution_count": 152,
   "metadata": {},
   "outputs": [
    {
     "data": {
      "text/plain": [
       "array([0.        , 0.23038077, 0.        , 0.        , 0.        ,\n",
       "       0.        , 0.        , 0.        , 0.        , 0.        ,\n",
       "       0.        , 0.        , 0.15442885, 0.        , 0.        ,\n",
       "       0.        , 0.        , 0.        , 0.        , 0.23038077,\n",
       "       0.        , 0.        , 0.        , 0.23038077, 0.        ,\n",
       "       0.        , 0.        , 0.        , 0.15442885, 0.        ,\n",
       "       0.        , 0.        ])"
      ]
     },
     "execution_count": 152,
     "metadata": {},
     "output_type": "execute_result"
    }
   ],
   "source": [
    "sample_outputs[0][10638]"
   ]
  },
  {
   "cell_type": "code",
   "execution_count": 97,
   "metadata": {},
   "outputs": [
    {
     "data": {
      "text/plain": [
       "0.127"
      ]
     },
     "execution_count": 97,
     "metadata": {},
     "output_type": "execute_result"
    }
   ],
   "source": [
    "eval(model, eval_cache_input, eval_cache_output)"
   ]
  },
  {
   "cell_type": "code",
   "execution_count": 133,
   "metadata": {},
   "outputs": [
    {
     "data": {
      "text/plain": [
       "0.8743247537337147"
      ]
     },
     "execution_count": 133,
     "metadata": {},
     "output_type": "execute_result"
    }
   ],
   "source": [
    "model_output = test_model.predict([sample_inputs[0][:number_of_samples], sample_inputs[1][:number_of_samples]])[0]\n",
    "a = np.argmax(model_output, axis=-1)\n",
    "k = np.equal(np.take(sample_outputs[0][:number_of_samples], np.argmax(sample_outputs[0][:number_of_samples], axis=-1)), np.take(sample_outputs[0][:number_of_samples], a)).sum()\n",
    "k / number_of_samples"
   ]
  },
  {
   "cell_type": "code",
   "execution_count": 102,
   "metadata": {},
   "outputs": [
    {
     "ename": "AttributeError",
     "evalue": "'LookUp' object has no attribute 'save'",
     "output_type": "error",
     "traceback": [
      "\u001b[0;31m---------------------------------------------------------------------------\u001b[0m",
      "\u001b[0;31mAttributeError\u001b[0m                            Traceback (most recent call last)",
      "\u001b[0;32m<ipython-input-102-51cb5e688689>\u001b[0m in \u001b[0;36m<module>\u001b[0;34m()\u001b[0m\n\u001b[0;32m----> 1\u001b[0;31m \u001b[0mmodel\u001b[0m\u001b[0;34m.\u001b[0m\u001b[0msave\u001b[0m\u001b[0;34m(\u001b[0m\u001b[0;34m'modelDense3.h5'\u001b[0m\u001b[0;34m)\u001b[0m\u001b[0;34m\u001b[0m\u001b[0m\n\u001b[0m",
      "\u001b[0;31mAttributeError\u001b[0m: 'LookUp' object has no attribute 'save'"
     ]
    }
   ],
   "source": [
    "model.save('modelDense3.h5')"
   ]
  },
  {
   "cell_type": "code",
   "execution_count": 82,
   "metadata": {},
   "outputs": [],
   "source": [
    "model.load_weights('modelDense2.h5')"
   ]
  },
  {
   "cell_type": "code",
   "execution_count": 97,
   "metadata": {},
   "outputs": [
    {
     "ename": "IndexError",
     "evalue": "list index out of range",
     "output_type": "error",
     "traceback": [
      "\u001b[0;31m---------------------------------------------------------------------------\u001b[0m",
      "\u001b[0;31mIndexError\u001b[0m                                Traceback (most recent call last)",
      "\u001b[0;32m<ipython-input-97-545214702627>\u001b[0m in \u001b[0;36m<module>\u001b[0;34m()\u001b[0m\n\u001b[0;32m----> 1\u001b[0;31m \u001b[0mcompare_given_games\u001b[0m\u001b[0;34m(\u001b[0m\u001b[0mbest_model\u001b[0m\u001b[0;34m,\u001b[0m \u001b[0mmodels\u001b[0m\u001b[0;34m[\u001b[0m\u001b[0;36m2\u001b[0m\u001b[0;34m]\u001b[0m\u001b[0;34m,\u001b[0m \u001b[0meval_games\u001b[0m\u001b[0;34m)\u001b[0m\u001b[0;34m\u001b[0m\u001b[0m\n\u001b[0m",
      "\u001b[0;31mIndexError\u001b[0m: list index out of range"
     ]
    }
   ],
   "source": [
    "compare_given_games(best_model, models[2], eval_games)"
   ]
  },
  {
   "cell_type": "code",
   "execution_count": 66,
   "metadata": {},
   "outputs": [],
   "source": [
    "models.append(best_model)"
   ]
  },
  {
   "cell_type": "code",
   "execution_count": 57,
   "metadata": {},
   "outputs": [],
   "source": [
    "models = []"
   ]
  },
  {
   "cell_type": "code",
   "execution_count": 274,
   "metadata": {},
   "outputs": [],
   "source": [
    "first_nn_model = model"
   ]
  },
  {
   "cell_type": "code",
   "execution_count": 74,
   "metadata": {},
   "outputs": [
    {
     "data": {
      "text/plain": [
       "0.690327380952381"
      ]
     },
     "execution_count": 74,
     "metadata": {},
     "output_type": "execute_result"
    }
   ],
   "source": [
    "eval(best_model, eval_games)"
   ]
  },
  {
   "cell_type": "code",
   "execution_count": 25,
   "metadata": {},
   "outputs": [
    {
     "name": "stdout",
     "output_type": "stream",
     "text": [
      "__________________________________________________________________________________________________\n",
      "Layer (type)                    Output Shape         Param #     Connected to                     \n",
      "==================================================================================================\n",
      "input_1 (InputLayer)            (None, 4, 8, 2)      0                                            \n",
      "__________________________________________________________________________________________________\n",
      "flatten_1 (Flatten)             (None, 64)           0           input_1[0][0]                    \n",
      "__________________________________________________________________________________________________\n",
      "input_2 (InputLayer)            (None, 4)            0                                            \n",
      "__________________________________________________________________________________________________\n",
      "concatenate_1 (Concatenate)     (None, 68)           0           flatten_1[0][0]                  \n",
      "                                                                 input_2[0][0]                    \n",
      "__________________________________________________________________________________________________\n",
      "dense_1 (Dense)                 (None, 1024)         70656       concatenate_1[0][0]              \n",
      "__________________________________________________________________________________________________\n",
      "concatenate_2 (Concatenate)     (None, 68)           0           flatten_1[0][0]                  \n",
      "                                                                 input_2[0][0]                    \n",
      "__________________________________________________________________________________________________\n",
      "dense_2 (Dense)                 (None, 32)           32800       dense_1[0][0]                    \n",
      "__________________________________________________________________________________________________\n",
      "dense_3 (Dense)                 (None, 1)            69          concatenate_2[0][0]              \n",
      "==================================================================================================\n",
      "Total params: 103,525\n",
      "Trainable params: 103,525\n",
      "Non-trainable params: 0\n",
      "__________________________________________________________________________________________________\n"
     ]
    }
   ],
   "source": [
    "model.summary()"
   ]
  },
  {
   "cell_type": "code",
   "execution_count": null,
   "metadata": {},
   "outputs": [],
   "source": []
  }
 ],
 "metadata": {
  "kernelspec": {
   "display_name": "Python 3",
   "language": "python",
   "name": "python3"
  },
  "language_info": {
   "codemirror_mode": {
    "name": "ipython",
    "version": 3
   },
   "file_extension": ".py",
   "mimetype": "text/x-python",
   "name": "python",
   "nbconvert_exporter": "python",
   "pygments_lexer": "ipython3",
   "version": "3.6.3"
  }
 },
 "nbformat": 4,
 "nbformat_minor": 2
}
