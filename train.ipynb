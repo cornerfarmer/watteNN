{
 "cells": [
  {
   "cell_type": "markdown",
   "metadata": {},
   "source": [
    "# Train"
   ]
  },
  {
   "cell_type": "code",
   "execution_count": 270,
   "metadata": {},
   "outputs": [
    {
     "name": "stderr",
     "output_type": "stream",
     "text": [
      "/usr/local/lib/python3.6/dist-packages/matplotlib/pyplot.py:528: RuntimeWarning: More than 20 figures have been opened. Figures created through the pyplot interface (`matplotlib.pyplot.figure`) are retained until explicitly closed and may consume too much memory. (To control this warning, see the rcParam `figure.max_open_warning`).\n",
      "  max_open_warning, RuntimeWarning)\n"
     ]
    },
    {
     "data": {
      "application/vnd.jupyter.widget-view+json": {
       "model_id": "9ecb8ea2588648a2b3ff31d309a28ae8",
       "version_major": 2,
       "version_minor": 0
      },
      "text/html": [
       "<p>Failed to display Jupyter Widget of type <code>FigureCanvasNbAgg</code>.</p>\n",
       "<p>\n",
       "  If you're reading this message in the Jupyter Notebook or JupyterLab Notebook, it may mean\n",
       "  that the widgets JavaScript is still loading. If this message persists, it\n",
       "  likely means that the widgets JavaScript library is either not installed or\n",
       "  not enabled. See the <a href=\"https://ipywidgets.readthedocs.io/en/stable/user_install.html\">Jupyter\n",
       "  Widgets Documentation</a> for setup instructions.\n",
       "</p>\n",
       "<p>\n",
       "  If you're reading this message in another frontend (for example, a static\n",
       "  rendering on GitHub or <a href=\"https://nbviewer.jupyter.org/\">NBViewer</a>),\n",
       "  it may mean that your frontend doesn't currently support widgets.\n",
       "</p>\n"
      ],
      "text/plain": [
       "FigureCanvasNbAgg()"
      ]
     },
     "metadata": {},
     "output_type": "display_data"
    }
   ],
   "source": [
    "fig, ax = plt.subplots()"
   ]
  },
  {
   "cell_type": "code",
   "execution_count": 393,
   "metadata": {},
   "outputs": [],
   "source": [
    "model = build_model()\n",
    "trained_model = build_model()\n",
    "#trained_model.set_weights(model.get_weights())\n",
    "#model.summary()"
   ]
  },
  {
   "cell_type": "code",
   "execution_count": 394,
   "metadata": {},
   "outputs": [],
   "source": [
    "reset_samples()\n",
    "eval_scores = [eval(trained_model, eval_games)]\n",
    "all_eval_scores = eval_scores[:]\n"
   ]
  },
  {
   "cell_type": "code",
   "execution_count": 405,
   "metadata": {
    "scrolled": true
   },
   "outputs": [
    {
     "name": "stdout",
     "output_type": "stream",
     "text": [
      "Model score: 0.7157738095238099!\n",
      "Last scores: [0.7410714285714289, 0.7291666666666667, 0.7008928571428571, 0.6979166666666666, 0.6934523809523814, 0.6889880952380951, 0.6875000000000002, 0.6845238095238099, 0.6651785714285715, 0.6607142857142856, 0.6592261904761906, 0.6532738095238094, 0.6160714285714282, 0.6116071428571427, 0.5892857142857142, 0.5848214285714287, 0.5669642857142858, 0.505952380952381, 0.39434523809523825, 0.300595238095238, 0.0]!\n"
     ]
    }
   ],
   "source": [
    "from IPython.display import clear_output\n",
    "for i in range(1):  \n",
    "    reset_samples()\n",
    "    mcts_generate()\n",
    "    clear_output()\n",
    "    \n",
    "    #p = np.random.permutation(int(number_of_samples))\n",
    "    #if len(p) > BATCH_SIZE * TRAINING_LOOPS:\n",
    "    #    p = p[:BATCH_SIZE * TRAINING_LOOPS]\n",
    "    #train_outputs = []\n",
    "    #train_inputs = []\n",
    "   #for i in range(len(sample_outputs)):\n",
    "    #    train_outputs.append(sample_outputs[i][p])\n",
    "    #for i in range(len(sample_inputs)):\n",
    "    #    train_inputs.append(sample_inputs[i][p])\n",
    "        \n",
    "    #trained_model.fit(train_inputs, train_outputs, epochs=1, batch_size=BATCH_SIZE)    \n",
    "    \n",
    "    eval_new = eval(model, eval_games)\n",
    "    if eval_new > eval_scores[-1]:\n",
    "        eval_scores.append(eval_new)\n",
    "    print(\"Model score: \" + str(eval_new) + \"!\")\n",
    "       # model.set_weights(trained_model.get_weights())\n",
    "    print(\"Last scores: \" + str(eval_scores[::-1]) + \"!\")\n",
    "    all_eval_scores.append(eval_new)\n",
    "    \n",
    "plt.plot(all_eval_scores, label='6x75')\n",
    "ax.legend(shadow=True)\n",
    "plt.show()"
   ]
  },
  {
   "cell_type": "code",
   "execution_count": 412,
   "metadata": {},
   "outputs": [
    {
     "data": {
      "text/plain": [
       "0.7113095238095241"
      ]
     },
     "execution_count": 412,
     "metadata": {},
     "output_type": "execute_result"
    }
   ],
   "source": [
    "eval(model, eval_games)"
   ]
  },
  {
   "cell_type": "code",
   "execution_count": 397,
   "metadata": {},
   "outputs": [
    {
     "data": {
      "text/plain": [
       "array([[[0, 0],\n",
       "        [0, 0],\n",
       "        [0, 0],\n",
       "        [0, 0],\n",
       "        [0, 0],\n",
       "        [0, 0],\n",
       "        [0, 0],\n",
       "        [1, 0]],\n",
       "\n",
       "       [[0, 0],\n",
       "        [0, 0],\n",
       "        [0, 0],\n",
       "        [0, 0],\n",
       "        [1, 0],\n",
       "        [0, 0],\n",
       "        [0, 0],\n",
       "        [0, 1]],\n",
       "\n",
       "       [[0, 0],\n",
       "        [0, 0],\n",
       "        [0, 0],\n",
       "        [0, 0],\n",
       "        [0, 0],\n",
       "        [0, 0],\n",
       "        [0, 0],\n",
       "        [0, 0]],\n",
       "\n",
       "       [[0, 0],\n",
       "        [0, 0],\n",
       "        [0, 0],\n",
       "        [0, 0],\n",
       "        [0, 0],\n",
       "        [0, 0],\n",
       "        [0, 0],\n",
       "        [0, 0]]])"
      ]
     },
     "execution_count": 397,
     "metadata": {},
     "output_type": "execute_result"
    }
   ],
   "source": [
    "sample_inputs[0][7]"
   ]
  },
  {
   "cell_type": "code",
   "execution_count": 93,
   "metadata": {},
   "outputs": [
    {
     "data": {
      "text/plain": [
       "0.506"
      ]
     },
     "execution_count": 93,
     "metadata": {},
     "output_type": "execute_result"
    }
   ],
   "source": [
    "compare(model, trained_model)"
   ]
  },
  {
   "cell_type": "code",
   "execution_count": 48,
   "metadata": {},
   "outputs": [
    {
     "data": {
      "text/plain": [
       "[array([0.00457216, 0.00180318, 0.01577809, 0.0150674 , 0.01713278,\n",
       "        0.02392219, 0.00085306, 0.00843999, 0.0131199 , 0.00834722,\n",
       "        0.01267777, 0.00257552, 0.01471896, 0.00836668, 0.00711771,\n",
       "        0.00428187, 0.00709269, 0.00517327, 0.00248683, 0.00125713,\n",
       "        0.00509079, 0.00299105, 0.0019958 , 0.00897587, 0.00642106,\n",
       "        0.00954094, 0.003382  , 0.00594872, 0.00948039, 0.00568606,\n",
       "        0.00555057, 0.00598032], dtype=float32),\n",
       " array([-0.6679595], dtype=float32)]"
      ]
     },
     "execution_count": 48,
     "metadata": {},
     "output_type": "execute_result"
    }
   ],
   "source": [
    "model.predict_single([train_inputs[0][next_index - 2], train_inputs[1][next_index - 2]])"
   ]
  },
  {
   "cell_type": "code",
   "execution_count": 45,
   "metadata": {},
   "outputs": [
    {
     "data": {
      "text/plain": [
       "array([0.258651  , 0.        , 0.        , 0.        , 0.        ,\n",
       "       0.        , 0.        , 0.        , 0.        , 0.        ,\n",
       "       0.        , 0.27687292, 0.        , 0.        , 0.        ,\n",
       "       0.46447608, 0.        , 0.        , 0.        , 0.        ,\n",
       "       0.        , 0.        , 0.        , 0.        , 0.        ,\n",
       "       0.        , 0.        , 0.        , 0.        , 0.        ,\n",
       "       0.        , 0.        ])"
      ]
     },
     "execution_count": 45,
     "metadata": {},
     "output_type": "execute_result"
    }
   ],
   "source": [
    "train_outputs[0][next_index - 2]"
   ]
  },
  {
   "cell_type": "code",
   "execution_count": 46,
   "metadata": {},
   "outputs": [
    {
     "data": {
      "text/plain": [
       "array([[[0, 1],\n",
       "        [0, 0],\n",
       "        [0, 0],\n",
       "        [0, 0],\n",
       "        [0, 0],\n",
       "        [0, 0],\n",
       "        [0, 0],\n",
       "        [1, 0]],\n",
       "\n",
       "       [[1, 0],\n",
       "        [0, 0],\n",
       "        [0, 0],\n",
       "        [0, 0],\n",
       "        [1, 0],\n",
       "        [0, 0],\n",
       "        [0, 0],\n",
       "        [0, 0]],\n",
       "\n",
       "       [[0, 0],\n",
       "        [0, 0],\n",
       "        [0, 0],\n",
       "        [0, 0],\n",
       "        [0, 0],\n",
       "        [0, 0],\n",
       "        [0, 0],\n",
       "        [0, 0]],\n",
       "\n",
       "       [[0, 0],\n",
       "        [0, 0],\n",
       "        [0, 0],\n",
       "        [0, 0],\n",
       "        [0, 0],\n",
       "        [0, 0],\n",
       "        [0, 0],\n",
       "        [0, 0]]])"
      ]
     },
     "execution_count": 46,
     "metadata": {},
     "output_type": "execute_result"
    }
   ],
   "source": [
    "train_inputs[0][next_index - 2]"
   ]
  },
  {
   "cell_type": "code",
   "execution_count": 111,
   "metadata": {},
   "outputs": [],
   "source": [
    "test_model = build_model()"
   ]
  },
  {
   "cell_type": "code",
   "execution_count": 72,
   "metadata": {},
   "outputs": [],
   "source": [
    "K.set_value(test_model.optimizer.lr, 0.0001)"
   ]
  },
  {
   "cell_type": "code",
   "execution_count": 132,
   "metadata": {},
   "outputs": [
    {
     "name": "stdout",
     "output_type": "stream",
     "text": [
      "Epoch 1/10\n",
      "37764/37764 [==============================] - 1s 27us/step - loss: 0.6618 - dense_14_loss: 2.8052e-04 - dense_15_loss: 0.6615 - dense_14_acc: 0.5164 - dense_15_acc: 0.4518\n",
      "Epoch 2/10\n",
      "37764/37764 [==============================] - 1s 24us/step - loss: 0.6619 - dense_14_loss: 2.7928e-04 - dense_15_loss: 0.6616 - dense_14_acc: 0.5180 - dense_15_acc: 0.4519\n",
      "Epoch 3/10\n",
      "37764/37764 [==============================] - 1s 24us/step - loss: 0.6618 - dense_14_loss: 2.7612e-04 - dense_15_loss: 0.6616 - dense_14_acc: 0.5203 - dense_15_acc: 0.4518\n",
      "Epoch 4/10\n",
      "37764/37764 [==============================] - 1s 24us/step - loss: 0.6618 - dense_14_loss: 2.7579e-04 - dense_15_loss: 0.6615 - dense_14_acc: 0.5171 - dense_15_acc: 0.4513\n",
      "Epoch 5/10\n",
      "37764/37764 [==============================] - 1s 25us/step - loss: 0.6618 - dense_14_loss: 2.7352e-04 - dense_15_loss: 0.6615 - dense_14_acc: 0.5153 - dense_15_acc: 0.4513\n",
      "Epoch 6/10\n",
      "37764/37764 [==============================] - 1s 26us/step - loss: 0.6618 - dense_14_loss: 2.7305e-04 - dense_15_loss: 0.6616 - dense_14_acc: 0.5205 - dense_15_acc: 0.4518\n",
      "Epoch 7/10\n",
      "37764/37764 [==============================] - 1s 25us/step - loss: 0.6618 - dense_14_loss: 2.7032e-04 - dense_15_loss: 0.6615 - dense_14_acc: 0.5186 - dense_15_acc: 0.4522\n",
      "Epoch 8/10\n",
      "37764/37764 [==============================] - 1s 27us/step - loss: 0.6618 - dense_14_loss: 2.6888e-04 - dense_15_loss: 0.6615 - dense_14_acc: 0.5183 - dense_15_acc: 0.4515\n",
      "Epoch 9/10\n",
      "37764/37764 [==============================] - 1s 27us/step - loss: 0.6617 - dense_14_loss: 2.6399e-04 - dense_15_loss: 0.6615 - dense_14_acc: 0.5184 - dense_15_acc: 0.4523\n",
      "Epoch 10/10\n",
      "37764/37764 [==============================] - 1s 27us/step - loss: 0.6618 - dense_14_loss: 2.6460e-04 - dense_15_loss: 0.6615 - dense_14_acc: 0.5190 - dense_15_acc: 0.4518\n"
     ]
    },
    {
     "data": {
      "text/plain": [
       "<keras.callbacks.History at 0x7f44962f95f8>"
      ]
     },
     "execution_count": 132,
     "metadata": {},
     "output_type": "execute_result"
    }
   ],
   "source": [
    "test_model.fit([sample_inputs[0][:number_of_samples], sample_inputs[1][:number_of_samples]], [sample_outputs[0][:number_of_samples], sample_outputs[1][:number_of_samples]], epochs=10, batch_size=BATCH_SIZE)  "
   ]
  },
  {
   "cell_type": "code",
   "execution_count": 116,
   "metadata": {},
   "outputs": [
    {
     "data": {
      "text/plain": [
       "[array([0.0053017 , 0.0045248 , 0.00548624, 0.00582314, 0.0070843 ,\n",
       "        0.00583717, 0.00645116, 0.00290738, 0.00513383, 0.0056636 ,\n",
       "        0.331735  , 0.00607965, 0.0053452 , 0.00601907, 0.33392397,\n",
       "        0.0070668 , 0.00368037, 0.01111693, 0.00290891, 0.00334794,\n",
       "        0.00270144, 0.00335149, 0.00295761, 0.00356095, 0.00431994,\n",
       "        0.00539099, 0.00628497, 0.00557014, 0.3452927 , 0.00649954,\n",
       "        0.00652416, 0.00288056], dtype=float32),\n",
       " array([-0.81022185], dtype=float32)]"
      ]
     },
     "execution_count": 116,
     "metadata": {},
     "output_type": "execute_result"
    }
   ],
   "source": [
    "test_model.predict_single([sample_inputs[0][5], sample_inputs[1][5]])"
   ]
  },
  {
   "cell_type": "code",
   "execution_count": 110,
   "metadata": {},
   "outputs": [
    {
     "data": {
      "text/plain": [
       "37764"
      ]
     },
     "execution_count": 110,
     "metadata": {},
     "output_type": "execute_result"
    }
   ],
   "source": [
    "sample_outputs[0][10]"
   ]
  },
  {
   "cell_type": "code",
   "execution_count": 152,
   "metadata": {},
   "outputs": [
    {
     "data": {
      "text/plain": [
       "array([0.        , 0.23038077, 0.        , 0.        , 0.        ,\n",
       "       0.        , 0.        , 0.        , 0.        , 0.        ,\n",
       "       0.        , 0.        , 0.15442885, 0.        , 0.        ,\n",
       "       0.        , 0.        , 0.        , 0.        , 0.23038077,\n",
       "       0.        , 0.        , 0.        , 0.23038077, 0.        ,\n",
       "       0.        , 0.        , 0.        , 0.15442885, 0.        ,\n",
       "       0.        , 0.        ])"
      ]
     },
     "execution_count": 152,
     "metadata": {},
     "output_type": "execute_result"
    }
   ],
   "source": [
    "sample_outputs[0][10638]"
   ]
  },
  {
   "cell_type": "code",
   "execution_count": 97,
   "metadata": {},
   "outputs": [
    {
     "data": {
      "text/plain": [
       "0.127"
      ]
     },
     "execution_count": 97,
     "metadata": {},
     "output_type": "execute_result"
    }
   ],
   "source": [
    "eval(model, eval_cache_input, eval_cache_output)"
   ]
  },
  {
   "cell_type": "code",
   "execution_count": 133,
   "metadata": {},
   "outputs": [
    {
     "data": {
      "text/plain": [
       "0.8743247537337147"
      ]
     },
     "execution_count": 133,
     "metadata": {},
     "output_type": "execute_result"
    }
   ],
   "source": [
    "model_output = test_model.predict([sample_inputs[0][:number_of_samples], sample_inputs[1][:number_of_samples]])[0]\n",
    "a = np.argmax(model_output, axis=-1)\n",
    "k = np.equal(np.take(sample_outputs[0][:number_of_samples], np.argmax(sample_outputs[0][:number_of_samples], axis=-1)), np.take(sample_outputs[0][:number_of_samples], a)).sum()\n",
    "k / number_of_samples"
   ]
  },
  {
   "cell_type": "code",
   "execution_count": 252,
   "metadata": {},
   "outputs": [],
   "source": [
    "model.save('modelDense2.h5')"
   ]
  },
  {
   "cell_type": "code",
   "execution_count": 82,
   "metadata": {},
   "outputs": [],
   "source": [
    "model.load_weights('modelDense2.h5')"
   ]
  },
  {
   "cell_type": "code",
   "execution_count": 228,
   "metadata": {},
   "outputs": [
    {
     "data": {
      "text/plain": [
       "0.5128"
      ]
     },
     "execution_count": 228,
     "metadata": {},
     "output_type": "execute_result"
    }
   ],
   "source": [
    "compare(model, first_model)"
   ]
  },
  {
   "cell_type": "code",
   "execution_count": 59,
   "metadata": {},
   "outputs": [
    {
     "data": {
      "text/plain": [
       "1"
      ]
     },
     "execution_count": 59,
     "metadata": {},
     "output_type": "execute_result"
    }
   ],
   "source": [
    "match([model, None])"
   ]
  },
  {
   "cell_type": "code",
   "execution_count": 125,
   "metadata": {},
   "outputs": [],
   "source": [
    "first_model = model"
   ]
  },
  {
   "cell_type": "code",
   "execution_count": null,
   "metadata": {},
   "outputs": [],
   "source": []
  }
 ],
 "metadata": {
  "kernelspec": {
   "display_name": "Python 3",
   "language": "python",
   "name": "python3"
  },
  "language_info": {
   "codemirror_mode": {
    "name": "ipython",
    "version": 3
   },
   "file_extension": ".py",
   "mimetype": "text/x-python",
   "name": "python",
   "nbconvert_exporter": "python",
   "pygments_lexer": "ipython3",
   "version": "3.6.3"
  }
 },
 "nbformat": 4,
 "nbformat_minor": 2
}
