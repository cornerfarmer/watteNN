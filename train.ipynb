{
 "cells": [
  {
   "cell_type": "markdown",
   "metadata": {},
   "source": [
    "# Train"
   ]
  },
  {
   "cell_type": "code",
   "execution_count": 3,
   "metadata": {},
   "outputs": [
    {
     "data": {
      "application/vnd.jupyter.widget-view+json": {
       "model_id": "a6bc219cbbb14f9fae0e0a746dd94b2e",
       "version_major": 2,
       "version_minor": 0
      },
      "text/html": [
       "<p>Failed to display Jupyter Widget of type <code>FigureCanvasNbAgg</code>.</p>\n",
       "<p>\n",
       "  If you're reading this message in the Jupyter Notebook or JupyterLab Notebook, it may mean\n",
       "  that the widgets JavaScript is still loading. If this message persists, it\n",
       "  likely means that the widgets JavaScript library is either not installed or\n",
       "  not enabled. See the <a href=\"https://ipywidgets.readthedocs.io/en/stable/user_install.html\">Jupyter\n",
       "  Widgets Documentation</a> for setup instructions.\n",
       "</p>\n",
       "<p>\n",
       "  If you're reading this message in another frontend (for example, a static\n",
       "  rendering on GitHub or <a href=\"https://nbviewer.jupyter.org/\">NBViewer</a>),\n",
       "  it may mean that your frontend doesn't currently support widgets.\n",
       "</p>\n"
      ],
      "text/plain": [
       "FigureCanvasNbAgg()"
      ]
     },
     "metadata": {},
     "output_type": "display_data"
    }
   ],
   "source": [
    "fig, ax = plt.subplots()"
   ]
  },
  {
   "cell_type": "code",
   "execution_count": 3,
   "metadata": {
    "scrolled": true
   },
   "outputs": [],
   "source": [
    "%%cython -f -I . -L . -L /home/domin/.local/lib/python3.6/site-packages -I /home/domin/.local/lib/python3.6/site-packages  --cplus \n",
    "\n",
    "from src.Storage cimport Storage\n",
    "from src.MCTS cimport MCTS\n",
    "from src.Model cimport Model\n",
    "from src.ModelRating cimport ModelRating\n",
    "from src.Game cimport Game\n",
    "from gym_watten.envs.watten_env cimport WattenEnv\n",
    "from IPython.display import clear_output\n",
    "from libcpp.vector cimport vector\n",
    "import tensorflow as tf\n",
    "from libc.stdlib cimport srand\n",
    "from libc.time cimport time\n",
    "import sys\n",
    "\n",
    "cpdef float train(WattenEnv env, Model model, Model trained_model, Model best_model, Storage storage, MCTS mcts, Game game, ModelRating rating, int train_sample_size, object summary_writer):\n",
    "    cdef int g\n",
    "    cdef vector[float] eval_scores \n",
    "    cdef float rating_value, exploitability\n",
    "    \n",
    "    srand(time(NULL))\n",
    "    \n",
    "    for g in range(300):  \n",
    "        mcts.mcts_generate(env, model, storage)\n",
    "    \n",
    "        trained_model.memorize_storage(storage, train_sample_size == 0, 1, train_sample_size)\n",
    "        #clear_output()\n",
    "        \n",
    "        \n",
    "        \"\"\"if hasattr(model, 'fit'):\n",
    "            p = np.random.permutation(int(number_of_samples))\n",
    "            if len(p) > BATCH_SIZE * TRAINING_LOOPS:\n",
    "                p = p[:BATCH_SIZE * TRAINING_LOOPS]\n",
    "            train_outputs = []\n",
    "            train_inputs = []\n",
    "            for i in range(len(sample_outputs)):\n",
    "                train_outputs.append(sample_outputs[i][p])\n",
    "            for i in range(len(sample_inputs)):\n",
    "                train_inputs.append(sample_inputs[i][p])\n",
    "\n",
    "            trained_model.fit(train_inputs, train_outputs, epochs=1, batch_size=BATCH_SIZE)   \"\"\"\n",
    "\n",
    "        if g % 1 == 0:\n",
    "            model.copy_weights_from(trained_model)     \n",
    "            rating_value = game.compare_given_games(model, best_model, rating)\n",
    "            print(\"Match: \" + str(rating_value))\n",
    "            sys.stdout.flush()\n",
    "            #print(\"Last scores: \" + str(eval_scores) + \"!\")\n",
    "            if rating_value > 0.5:\n",
    "                best_model.copy_weights_from(model)  \n",
    "                s = tf.Summary(value=[tf.Summary.Value(tag=\"exploitability\", simple_value=rating.calc_exploitability(best_model))])\n",
    "                summary_writer.add_summary(s, g)\n",
    "                summary_writer.flush()\n",
    "                #exploitability = rating.calc_exploitability(best_model)\n",
    "                #eval_scores.push_back(exploitability)\n",
    "                #print(\"Model score: \" + str(eval_scores.back()) + \"!\")\n",
    "    \n",
    "    s = tf.Summary(value=[tf.Summary.Value(tag=\"exploitability\", simple_value=rating.calc_exploitability(best_model))])\n",
    "    summary_writer.add_summary(s, g)\n",
    "    summary_writer.flush()\n",
    "    \n",
    "    return rating.calc_exploitability(best_model)\n",
    "    #plt.plot(eval_scores, label='6x75')\n",
    "    #ax.legend(shadow=True)\n",
    "    #plt.show()\n"
   ]
  },
  {
   "cell_type": "code",
   "execution_count": null,
   "metadata": {},
   "outputs": [],
   "source": [
    "for i in range(10):\n",
    "    print(train(env, model, best_model, storage, mcts, game, rating))"
   ]
  },
  {
   "cell_type": "code",
   "execution_count": null,
   "metadata": {},
   "outputs": [],
   "source": [
    "summary_writer = tf.summary.FileWriter(\"./results/\" + str(\"test\"))\n",
    "train(env, model, best_model, storage, mcts, game, rating, summary_writer)"
   ]
  },
  {
   "cell_type": "code",
   "execution_count": 18,
   "metadata": {},
   "outputs": [
    {
     "data": {
      "text/plain": [
       "0.03214285895228386"
      ]
     },
     "execution_count": 18,
     "metadata": {},
     "output_type": "execute_result"
    }
   ],
   "source": [
    "rating.calc_exploitability(model)"
   ]
  },
  {
   "cell_type": "code",
   "execution_count": 284,
   "metadata": {},
   "outputs": [
    {
     "data": {
      "text/plain": [
       "0.5"
      ]
     },
     "execution_count": 284,
     "metadata": {},
     "output_type": "execute_result"
    }
   ],
   "source": [
    "game.compare_given_games(model, best_model, rating)"
   ]
  },
  {
   "cell_type": "code",
   "execution_count": 4,
   "metadata": {},
   "outputs": [],
   "source": [
    "import itertools\n",
    "def create_grid_search(variables):\n",
    "    combinations = itertools.product(*variables.values())\n",
    "    labeled_combinations = []\n",
    "    for combination in combinations:\n",
    "        labeled_combinations.append(dict(zip(variables.keys(), combination)))\n",
    "    return labeled_combinations"
   ]
  },
  {
   "cell_type": "code",
   "execution_count": 5,
   "metadata": {},
   "outputs": [
    {
     "name": "stderr",
     "output_type": "stream",
     "text": [
      "  0%|          | 0/1 [00:00<?, ?it/s]"
     ]
    },
    {
     "name": "stdout",
     "output_type": "stream",
     "text": [
      "WARNING:tensorflow:From /usr/local/lib/python3.6/dist-packages/keras/backend/tensorflow_backend.py:1264: calling reduce_prod (from tensorflow.python.ops.math_ops) with keep_dims is deprecated and will be removed in a future version.\n",
      "Instructions for updating:\n",
      "keep_dims is deprecated, use keepdims instead\n",
      "WARNING:tensorflow:From /usr/local/lib/python3.6/dist-packages/keras/backend/tensorflow_backend.py:1349: calling reduce_mean (from tensorflow.python.ops.math_ops) with keep_dims is deprecated and will be removed in a future version.\n",
      "Instructions for updating:\n",
      "keep_dims is deprecated, use keepdims instead\n",
      "Epoch 1/1\n",
      "324/324 [==============================] - 1s 2ms/step - loss: 0.9646 - dense_10_loss: 0.1498 - dense_12_loss: 0.8148 - dense_10_acc: 0.0833 - dense_12_acc: 0.5556\n",
      "Match: 0.5294643044471741\n",
      "Epoch 1/1\n",
      "668/668 [==============================] - 1s 1ms/step - loss: 0.8348 - dense_10_loss: 0.0268 - dense_12_loss: 0.8080 - dense_10_acc: 0.1886 - dense_12_acc: 0.5928\n",
      "Match: 0.48571428656578064\n",
      "Epoch 1/1\n",
      "1000/1000 [==============================] - 1s 1ms/step - loss: 0.8571 - dense_10_loss: 0.0138 - dense_12_loss: 0.8433 - dense_10_acc: 0.2550 - dense_12_acc: 0.5770\n",
      "Match: 0.4625000059604645\n",
      "Epoch 1/1\n",
      "1000/1000 [==============================] - 2s 2ms/step - loss: 0.8399 - dense_10_loss: 0.0120 - dense_12_loss: 0.8279 - dense_10_acc: 0.3320 - dense_12_acc: 0.6520\n",
      "Match: 0.48750001192092896\n",
      "Epoch 1/1\n",
      "1000/1000 [==============================] - 1s 1ms/step - loss: 0.8606 - dense_10_loss: 0.0111 - dense_12_loss: 0.8495 - dense_10_acc: 0.4140 - dense_12_acc: 0.6560\n",
      "Match: 0.4928571283817291\n",
      "Epoch 1/1\n",
      "1000/1000 [==============================] - 1s 1ms/step - loss: 0.9434 - dense_10_loss: 0.0107 - dense_12_loss: 0.9327 - dense_10_acc: 0.4850 - dense_12_acc: 0.6520\n",
      "Match: 0.4714285731315613\n",
      "Epoch 1/1\n",
      "1000/1000 [==============================] - 2s 2ms/step - loss: 0.9595 - dense_10_loss: 0.0096 - dense_12_loss: 0.9499 - dense_10_acc: 0.4710 - dense_12_acc: 0.6990\n",
      "Match: 0.5098214149475098\n",
      "Epoch 1/1\n",
      "1000/1000 [==============================] - 2s 2ms/step - loss: 1.0273 - dense_10_loss: 0.0090 - dense_12_loss: 1.0184 - dense_10_acc: 0.4750 - dense_12_acc: 0.7110\n",
      "Match: 0.49642857909202576\n",
      "Epoch 1/1\n",
      "1000/1000 [==============================] - 2s 2ms/step - loss: 1.0367 - dense_10_loss: 0.0082 - dense_12_loss: 1.0285 - dense_10_acc: 0.4970 - dense_12_acc: 0.7200\n",
      "Match: 0.5044642686843872\n",
      "Epoch 1/1\n",
      "1000/1000 [==============================] - 1s 1ms/step - loss: 1.2606 - dense_10_loss: 0.0076 - dense_12_loss: 1.2530 - dense_10_acc: 0.4760 - dense_12_acc: 0.6770\n",
      "Match: 0.5107142925262451\n",
      "Epoch 1/1\n",
      "1000/1000 [==============================] - 1s 1ms/step - loss: 1.4136 - dense_10_loss: 0.0068 - dense_12_loss: 1.4068 - dense_10_acc: 0.5120 - dense_12_acc: 0.6410\n",
      "Match: 0.4660714268684387\n",
      "Epoch 1/1\n",
      "1000/1000 [==============================] - 2s 2ms/step - loss: 1.2463 - dense_10_loss: 0.0059 - dense_12_loss: 1.2403 - dense_10_acc: 0.4860 - dense_12_acc: 0.6850\n",
      "Match: 0.49642857909202576\n",
      "Epoch 1/1\n",
      "1000/1000 [==============================] - 1s 1ms/step - loss: 1.2337 - dense_10_loss: 0.0055 - dense_12_loss: 1.2283 - dense_10_acc: 0.5040 - dense_12_acc: 0.6910\n",
      "Match: 0.5053571462631226\n",
      "Epoch 1/1\n",
      "1000/1000 [==============================] - 2s 2ms/step - loss: 1.0962 - dense_10_loss: 0.0050 - dense_12_loss: 1.0912 - dense_10_acc: 0.5170 - dense_12_acc: 0.7210\n",
      "Match: 0.5249999761581421\n",
      "Epoch 1/1\n",
      "1000/1000 [==============================] - 1s 1ms/step - loss: 1.2869 - dense_10_loss: 0.0042 - dense_12_loss: 1.2827 - dense_10_acc: 0.5000 - dense_12_acc: 0.6780\n",
      "Match: 0.4749999940395355\n",
      "Epoch 1/1\n",
      "1000/1000 [==============================] - 1s 1ms/step - loss: 1.2776 - dense_10_loss: 0.0039 - dense_12_loss: 1.2737 - dense_10_acc: 0.5170 - dense_12_acc: 0.6800\n",
      "Match: 0.5303571224212646\n",
      "Epoch 1/1\n",
      "1000/1000 [==============================] - 1s 1ms/step - loss: 1.2326 - dense_10_loss: 0.0036 - dense_12_loss: 1.2290 - dense_10_acc: 0.5290 - dense_12_acc: 0.6890\n",
      "Match: 0.49017858505249023\n",
      "Epoch 1/1\n",
      "1000/1000 [==============================] - 1s 1ms/step - loss: 1.2573 - dense_10_loss: 0.0035 - dense_12_loss: 1.2538 - dense_10_acc: 0.5620 - dense_12_acc: 0.6830\n",
      "Match: 0.5098214149475098\n",
      "Epoch 1/1\n",
      "1000/1000 [==============================] - 1s 1ms/step - loss: 1.3010 - dense_10_loss: 0.0031 - dense_12_loss: 1.2980 - dense_10_acc: 0.5450 - dense_12_acc: 0.6750\n",
      "Match: 0.48750001192092896\n",
      "Epoch 1/1\n",
      "1000/1000 [==============================] - 1s 1ms/step - loss: 1.1696 - dense_10_loss: 0.0028 - dense_12_loss: 1.1668 - dense_10_acc: 0.5310 - dense_12_acc: 0.7080\n",
      "Match: 0.5151785612106323\n",
      "Epoch 1/1\n",
      "1000/1000 [==============================] - 1s 1ms/step - loss: 1.1635 - dense_10_loss: 0.0027 - dense_12_loss: 1.1608 - dense_10_acc: 0.5370 - dense_12_acc: 0.7080\n",
      "Match: 0.4883928596973419\n",
      "Epoch 1/1\n",
      "1000/1000 [==============================] - 1s 1ms/step - loss: 1.4867 - dense_10_loss: 0.0025 - dense_12_loss: 1.4843 - dense_10_acc: 0.5520 - dense_12_acc: 0.6270\n",
      "Match: 0.5089285969734192\n",
      "Epoch 1/1\n",
      "1000/1000 [==============================] - 1s 1ms/step - loss: 1.4082 - dense_10_loss: 0.0024 - dense_12_loss: 1.4058 - dense_10_acc: 0.5510 - dense_12_acc: 0.6470\n",
      "Match: 0.5249999761581421\n",
      "Epoch 1/1\n",
      "1000/1000 [==============================] - 1s 1ms/step - loss: 1.2331 - dense_10_loss: 0.0022 - dense_12_loss: 1.2309 - dense_10_acc: 0.5650 - dense_12_acc: 0.6900\n",
      "Match: 0.4883928596973419\n",
      "Epoch 1/1\n",
      "1000/1000 [==============================] - 1s 1ms/step - loss: 1.2339 - dense_10_loss: 0.0021 - dense_12_loss: 1.2318 - dense_10_acc: 0.5440 - dense_12_acc: 0.6900\n",
      "Match: 0.5089285969734192\n",
      "Epoch 1/1\n",
      "1000/1000 [==============================] - 2s 2ms/step - loss: 1.0318 - dense_10_loss: 0.0019 - dense_12_loss: 1.0299 - dense_10_acc: 0.5510 - dense_12_acc: 0.7400\n",
      "Match: 0.4732142984867096\n",
      "Epoch 1/1\n",
      "1000/1000 [==============================] - 2s 2ms/step - loss: 1.2206 - dense_10_loss: 0.0019 - dense_12_loss: 1.2186 - dense_10_acc: 0.5390 - dense_12_acc: 0.6940\n",
      "Match: 0.5089285969734192\n",
      "Epoch 1/1\n",
      "1000/1000 [==============================] - 2s 2ms/step - loss: 1.1533 - dense_10_loss: 0.0021 - dense_12_loss: 1.1512 - dense_10_acc: 0.5880 - dense_12_acc: 0.7100\n",
      "Match: 0.5089285969734192\n",
      "Epoch 1/1\n",
      "1000/1000 [==============================] - 2s 2ms/step - loss: 1.2195 - dense_10_loss: 0.0020 - dense_12_loss: 1.2176 - dense_10_acc: 0.5950 - dense_12_acc: 0.6940\n",
      "Match: 0.5008928775787354\n",
      "Epoch 1/1\n",
      "1000/1000 [==============================] - 2s 2ms/step - loss: 1.0324 - dense_10_loss: 0.0018 - dense_12_loss: 1.0307 - dense_10_acc: 0.5580 - dense_12_acc: 0.7420\n",
      "Match: 0.49464285373687744\n",
      "Epoch 1/1\n",
      "1000/1000 [==============================] - 2s 2ms/step - loss: 1.2217 - dense_10_loss: 0.0018 - dense_12_loss: 1.2200 - dense_10_acc: 0.5760 - dense_12_acc: 0.6940\n",
      "Match: 0.4955357015132904\n",
      "Epoch 1/1\n",
      "1000/1000 [==============================] - 2s 2ms/step - loss: 1.0478 - dense_10_loss: 0.0017 - dense_12_loss: 1.0460 - dense_10_acc: 0.5720 - dense_12_acc: 0.7370\n",
      "Match: 0.4973214268684387\n",
      "Epoch 1/1\n",
      "1000/1000 [==============================] - 2s 2ms/step - loss: 1.1264 - dense_10_loss: 0.0017 - dense_12_loss: 1.1247 - dense_10_acc: 0.5920 - dense_12_acc: 0.7180\n",
      "Match: 0.49017858505249023\n",
      "Epoch 1/1\n",
      "1000/1000 [==============================] - 2s 2ms/step - loss: 1.1114 - dense_10_loss: 0.0016 - dense_12_loss: 1.1098 - dense_10_acc: 0.5820 - dense_12_acc: 0.7210\n",
      "Match: 0.5133928656578064\n",
      "Epoch 1/1\n",
      "1000/1000 [==============================] - 2s 2ms/step - loss: 1.2436 - dense_10_loss: 0.0015 - dense_12_loss: 1.2421 - dense_10_acc: 0.5190 - dense_12_acc: 0.6870\n",
      "Match: 0.5133928656578064\n",
      "Epoch 1/1\n",
      "1000/1000 [==============================] - 1s 1ms/step - loss: 1.0442 - dense_10_loss: 0.0015 - dense_12_loss: 1.0428 - dense_10_acc: 0.5500 - dense_12_acc: 0.7390\n",
      "Match: 0.4937500059604645\n",
      "Epoch 1/1\n",
      "1000/1000 [==============================] - 1s 1ms/step - loss: 1.1846 - dense_10_loss: 0.0015 - dense_12_loss: 1.1831 - dense_10_acc: 0.5620 - dense_12_acc: 0.7030\n",
      "Match: 0.4839285612106323\n",
      "Epoch 1/1\n",
      "1000/1000 [==============================] - 1s 1ms/step - loss: 1.1954 - dense_10_loss: 0.0014 - dense_12_loss: 1.1939 - dense_10_acc: 0.5830 - dense_12_acc: 0.7010\n",
      "Match: 0.49017858505249023\n",
      "Epoch 1/1\n",
      "1000/1000 [==============================] - 1s 1ms/step - loss: 1.2740 - dense_10_loss: 0.0015 - dense_12_loss: 1.2725 - dense_10_acc: 0.5670 - dense_12_acc: 0.6800\n",
      "Match: 0.5026785731315613\n",
      "Epoch 1/1\n",
      "1000/1000 [==============================] - 2s 2ms/step - loss: 1.2493 - dense_10_loss: 0.0014 - dense_12_loss: 1.2479 - dense_10_acc: 0.5580 - dense_12_acc: 0.6880\n",
      "Match: 0.49910715222358704\n",
      "Epoch 1/1\n",
      "1000/1000 [==============================] - 1s 1ms/step - loss: 1.2567 - dense_10_loss: 0.0015 - dense_12_loss: 1.2552 - dense_10_acc: 0.5790 - dense_12_acc: 0.6860\n",
      "Match: 0.4973214268684387\n",
      "Epoch 1/1\n",
      "1000/1000 [==============================] - 2s 2ms/step - loss: 1.2063 - dense_10_loss: 0.0013 - dense_12_loss: 1.2050 - dense_10_acc: 0.5880 - dense_12_acc: 0.6980\n",
      "Match: 0.4982142746448517\n",
      "Epoch 1/1\n",
      "1000/1000 [==============================] - 2s 2ms/step - loss: 1.1525 - dense_10_loss: 0.0014 - dense_12_loss: 1.1511 - dense_10_acc: 0.5870 - dense_12_acc: 0.7110\n",
      "Match: 0.4910714328289032\n",
      "Epoch 1/1\n",
      "1000/1000 [==============================] - 2s 2ms/step - loss: 1.1563 - dense_10_loss: 0.0014 - dense_12_loss: 1.1549 - dense_10_acc: 0.5960 - dense_12_acc: 0.7110\n",
      "Match: 0.5044642686843872\n",
      "Epoch 1/1\n",
      "1000/1000 [==============================] - 1s 1ms/step - loss: 1.2447 - dense_10_loss: 0.0014 - dense_12_loss: 1.2434 - dense_10_acc: 0.5870 - dense_12_acc: 0.6890\n",
      "Match: 0.4973214268684387\n",
      "Epoch 1/1\n",
      "1000/1000 [==============================] - 2s 2ms/step - loss: 1.1772 - dense_10_loss: 0.0012 - dense_12_loss: 1.1760 - dense_10_acc: 0.5740 - dense_12_acc: 0.7060\n",
      "Match: 0.5035714507102966\n",
      "Epoch 1/1\n",
      "1000/1000 [==============================] - 1s 1ms/step - loss: 1.3685 - dense_10_loss: 0.0013 - dense_12_loss: 1.3672 - dense_10_acc: 0.5570 - dense_12_acc: 0.6580\n",
      "Match: 0.49642857909202576\n",
      "Epoch 1/1\n",
      "1000/1000 [==============================] - 1s 1ms/step - loss: 1.4111 - dense_10_loss: 0.0013 - dense_12_loss: 1.4097 - dense_10_acc: 0.5800 - dense_12_acc: 0.6470\n",
      "Match: 0.4955357015132904\n",
      "Epoch 1/1\n",
      "1000/1000 [==============================] - 2s 2ms/step - loss: 1.2257 - dense_10_loss: 0.0013 - dense_12_loss: 1.2244 - dense_10_acc: 0.5700 - dense_12_acc: 0.6920\n",
      "Match: 0.5116071701049805\n",
      "Epoch 1/1\n",
      "1000/1000 [==============================] - 2s 2ms/step - loss: 1.2270 - dense_10_loss: 0.0013 - dense_12_loss: 1.2257 - dense_10_acc: 0.5980 - dense_12_acc: 0.6930\n",
      "Match: 0.5080357193946838\n",
      "Epoch 1/1\n",
      "1000/1000 [==============================] - 1s 1ms/step - loss: 1.3093 - dense_10_loss: 0.0013 - dense_12_loss: 1.3080 - dense_10_acc: 0.5630 - dense_12_acc: 0.6720\n",
      "Match: 0.48571428656578064\n",
      "Epoch 1/1\n",
      "1000/1000 [==============================] - 2s 2ms/step - loss: 1.2575 - dense_10_loss: 0.0013 - dense_12_loss: 1.2562 - dense_10_acc: 0.6010 - dense_12_acc: 0.6850\n",
      "Match: 0.49910715222358704\n",
      "Epoch 1/1\n",
      "1000/1000 [==============================] - 1s 1ms/step - loss: 1.1692 - dense_10_loss: 0.0012 - dense_12_loss: 1.1680 - dense_10_acc: 0.5720 - dense_12_acc: 0.7080\n",
      "Match: 0.5160714387893677\n",
      "Epoch 1/1\n",
      "1000/1000 [==============================] - 2s 2ms/step - loss: 1.1801 - dense_10_loss: 0.0012 - dense_12_loss: 1.1789 - dense_10_acc: 0.5560 - dense_12_acc: 0.7050\n",
      "Match: 0.5008928775787354\n",
      "Epoch 1/1\n",
      "1000/1000 [==============================] - 1s 1ms/step - loss: 1.2603 - dense_10_loss: 0.0012 - dense_12_loss: 1.2590 - dense_10_acc: 0.6140 - dense_12_acc: 0.6840\n",
      "Match: 0.5\n",
      "Epoch 1/1\n",
      "1000/1000 [==============================] - 1s 1ms/step - loss: 1.1211 - dense_10_loss: 0.0012 - dense_12_loss: 1.1199 - dense_10_acc: 0.5740 - dense_12_acc: 0.7200\n",
      "Match: 0.5008928775787354\n",
      "Epoch 1/1\n",
      "1000/1000 [==============================] - 1s 1ms/step - loss: 1.1924 - dense_10_loss: 0.0012 - dense_12_loss: 1.1912 - dense_10_acc: 0.5800 - dense_12_acc: 0.7020\n",
      "Match: 0.4910714328289032\n",
      "Epoch 1/1\n",
      "1000/1000 [==============================] - 1s 1ms/step - loss: 1.0951 - dense_10_loss: 0.0011 - dense_12_loss: 1.0940 - dense_10_acc: 0.5880 - dense_12_acc: 0.7250\n",
      "Match: 0.4910714328289032\n",
      "Epoch 1/1\n",
      "1000/1000 [==============================] - 2s 2ms/step - loss: 1.0271 - dense_10_loss: 0.0011 - dense_12_loss: 1.0260 - dense_10_acc: 0.5770 - dense_12_acc: 0.7420\n",
      "Match: 0.49017858505249023\n",
      "Epoch 1/1\n",
      "1000/1000 [==============================] - 1s 1ms/step - loss: 1.0940 - dense_10_loss: 0.0011 - dense_12_loss: 1.0929 - dense_10_acc: 0.5850 - dense_12_acc: 0.7260\n",
      "Match: 0.5044642686843872\n",
      "Epoch 1/1\n",
      "1000/1000 [==============================] - 2s 2ms/step - loss: 1.1532 - dense_10_loss: 0.0011 - dense_12_loss: 1.1521 - dense_10_acc: 0.6040 - dense_12_acc: 0.7120\n",
      "Match: 0.5008928775787354\n",
      "Epoch 1/1\n",
      "1000/1000 [==============================] - 2s 2ms/step - loss: 1.2103 - dense_10_loss: 0.0012 - dense_12_loss: 1.2092 - dense_10_acc: 0.5840 - dense_12_acc: 0.6970\n",
      "Match: 0.49910715222358704\n",
      "Epoch 1/1\n",
      "1000/1000 [==============================] - 1s 1ms/step - loss: 1.1290 - dense_10_loss: 0.0011 - dense_12_loss: 1.1279 - dense_10_acc: 0.5820 - dense_12_acc: 0.7180\n",
      "Match: 0.4982142746448517\n",
      "Epoch 1/1\n",
      "1000/1000 [==============================] - 1s 1ms/step - loss: 1.3299 - dense_10_loss: 0.0011 - dense_12_loss: 1.3287 - dense_10_acc: 0.5890 - dense_12_acc: 0.6670\n",
      "Match: 0.4982142746448517\n",
      "Epoch 1/1\n",
      "1000/1000 [==============================] - 1s 1ms/step - loss: 1.1486 - dense_10_loss: 0.0011 - dense_12_loss: 1.1475 - dense_10_acc: 0.6060 - dense_12_acc: 0.7120\n",
      "Match: 0.49017858505249023\n",
      "Epoch 1/1\n",
      "1000/1000 [==============================] - 1s 1ms/step - loss: 1.2201 - dense_10_loss: 0.0011 - dense_12_loss: 1.2190 - dense_10_acc: 0.5930 - dense_12_acc: 0.6950\n",
      "Match: 0.5026785731315613\n",
      "Epoch 1/1\n",
      "1000/1000 [==============================] - 2s 2ms/step - loss: 1.2982 - dense_10_loss: 0.0012 - dense_12_loss: 1.2970 - dense_10_acc: 0.5850 - dense_12_acc: 0.6750\n",
      "Match: 0.5026785731315613\n",
      "Epoch 1/1\n",
      "1000/1000 [==============================] - 1s 1ms/step - loss: 1.1853 - dense_10_loss: 0.0010 - dense_12_loss: 1.1842 - dense_10_acc: 0.5960 - dense_12_acc: 0.7040\n",
      "Match: 0.5089285969734192\n",
      "Epoch 1/1\n",
      "1000/1000 [==============================] - 1s 1ms/step - loss: 1.3011 - dense_10_loss: 0.0011 - dense_12_loss: 1.3000 - dense_10_acc: 0.5640 - dense_12_acc: 0.6750\n",
      "Match: 0.4866071343421936\n",
      "Epoch 1/1\n",
      "1000/1000 [==============================] - 1s 1ms/step - loss: 1.2092 - dense_10_loss: 0.0011 - dense_12_loss: 1.2081 - dense_10_acc: 0.5890 - dense_12_acc: 0.6980\n",
      "Match: 0.49464285373687744\n",
      "Epoch 1/1\n",
      "1000/1000 [==============================] - 1s 1ms/step - loss: 1.2690 - dense_10_loss: 0.0010 - dense_12_loss: 1.2680 - dense_10_acc: 0.6090 - dense_12_acc: 0.6830\n",
      "Match: 0.49196428060531616\n",
      "Epoch 1/1\n",
      "1000/1000 [==============================] - 1s 1ms/step - loss: 1.2554 - dense_10_loss: 0.0010 - dense_12_loss: 1.2544 - dense_10_acc: 0.5590 - dense_12_acc: 0.6860\n",
      "Match: 0.5\n",
      "Epoch 1/1\n",
      "1000/1000 [==============================] - 1s 1ms/step - loss: 1.0770 - dense_10_loss: 0.0010 - dense_12_loss: 1.0760 - dense_10_acc: 0.5860 - dense_12_acc: 0.7310\n",
      "Match: 0.48571428656578064\n",
      "Epoch 1/1\n",
      "1000/1000 [==============================] - 1s 1ms/step - loss: 1.1986 - dense_10_loss: 9.6229e-04 - dense_12_loss: 1.1976 - dense_10_acc: 0.5780 - dense_12_acc: 0.7000\n",
      "Match: 0.4937500059604645\n",
      "Epoch 1/1\n",
      "1000/1000 [==============================] - 1s 1ms/step - loss: 1.2650 - dense_10_loss: 9.8460e-04 - dense_12_loss: 1.2640 - dense_10_acc: 0.5550 - dense_12_acc: 0.6840\n",
      "Match: 0.4892857074737549\n",
      "Epoch 1/1\n",
      "1000/1000 [==============================] - 1s 1ms/step - loss: 1.3852 - dense_10_loss: 0.0011 - dense_12_loss: 1.3841 - dense_10_acc: 0.5970 - dense_12_acc: 0.6540\n",
      "Match: 0.4839285612106323\n",
      "Epoch 1/1\n",
      "1000/1000 [==============================] - 1s 1ms/step - loss: 1.1635 - dense_10_loss: 9.6203e-04 - dense_12_loss: 1.1626 - dense_10_acc: 0.5840 - dense_12_acc: 0.7080\n",
      "Match: 0.4892857074737549\n",
      "Epoch 1/1\n",
      "1000/1000 [==============================] - 1s 1ms/step - loss: 1.1506 - dense_10_loss: 0.0010 - dense_12_loss: 1.1495 - dense_10_acc: 0.6130 - dense_12_acc: 0.7120\n",
      "Match: 0.4848214387893677\n",
      "Epoch 1/1\n",
      "1000/1000 [==============================] - 1s 1ms/step - loss: 1.0556 - dense_10_loss: 9.5667e-04 - dense_12_loss: 1.0547 - dense_10_acc: 0.5930 - dense_12_acc: 0.7360\n",
      "Match: 0.49464285373687744\n",
      "Epoch 1/1\n",
      "1000/1000 [==============================] - 1s 1ms/step - loss: 1.1260 - dense_10_loss: 9.5241e-04 - dense_12_loss: 1.1250 - dense_10_acc: 0.5860 - dense_12_acc: 0.7180\n",
      "Match: 0.4937500059604645\n",
      "Epoch 1/1\n",
      "1000/1000 [==============================] - 1s 1ms/step - loss: 0.9196 - dense_10_loss: 9.1809e-04 - dense_12_loss: 0.9187 - dense_10_acc: 0.6020 - dense_12_acc: 0.7700\n",
      "Match: 0.4955357015132904\n",
      "Epoch 1/1\n",
      "1000/1000 [==============================] - 1s 1ms/step - loss: 1.0729 - dense_10_loss: 9.4764e-04 - dense_12_loss: 1.0720 - dense_10_acc: 0.5960 - dense_12_acc: 0.7320\n",
      "Match: 0.4982142746448517\n",
      "Epoch 1/1\n",
      "1000/1000 [==============================] - 1s 1ms/step - loss: 1.0896 - dense_10_loss: 9.4134e-04 - dense_12_loss: 1.0887 - dense_10_acc: 0.5810 - dense_12_acc: 0.7270\n",
      "Match: 0.4955357015132904\n",
      "Epoch 1/1\n",
      "1000/1000 [==============================] - 1s 1ms/step - loss: 0.9753 - dense_10_loss: 9.3284e-04 - dense_12_loss: 0.9744 - dense_10_acc: 0.6000 - dense_12_acc: 0.7550\n",
      "Match: 0.49017858505249023\n",
      "Epoch 1/1\n",
      "1000/1000 [==============================] - 2s 2ms/step - loss: 1.0398 - dense_10_loss: 9.0000e-04 - dense_12_loss: 1.0389 - dense_10_acc: 0.6310 - dense_12_acc: 0.7400\n",
      "Match: 0.4982142746448517\n",
      "Epoch 1/1\n",
      "1000/1000 [==============================] - 1s 1ms/step - loss: 1.1170 - dense_10_loss: 9.8979e-04 - dense_12_loss: 1.1160 - dense_10_acc: 0.6100 - dense_12_acc: 0.7210\n",
      "Match: 0.5008928775787354\n",
      "Epoch 1/1\n",
      "1000/1000 [==============================] - 1s 1ms/step - loss: 1.1809 - dense_10_loss: 8.9594e-04 - dense_12_loss: 1.1800 - dense_10_acc: 0.5930 - dense_12_acc: 0.7050\n",
      "Match: 0.4928571283817291\n",
      "Epoch 1/1\n",
      "1000/1000 [==============================] - 1s 1ms/step - loss: 1.0928 - dense_10_loss: 8.4649e-04 - dense_12_loss: 1.0920 - dense_10_acc: 0.5850 - dense_12_acc: 0.7270\n",
      "Match: 0.4910714328289032\n",
      "Epoch 1/1\n",
      "1000/1000 [==============================] - 1s 1ms/step - loss: 1.0248 - dense_10_loss: 8.2930e-04 - dense_12_loss: 1.0240 - dense_10_acc: 0.5920 - dense_12_acc: 0.7440\n",
      "Match: 0.4937500059604645\n",
      "Epoch 1/1\n",
      "1000/1000 [==============================] - 2s 2ms/step - loss: 1.0498 - dense_10_loss: 8.9867e-04 - dense_12_loss: 1.0489 - dense_10_acc: 0.5720 - dense_12_acc: 0.7370\n",
      "Match: 0.4973214268684387\n",
      "Epoch 1/1\n",
      "1000/1000 [==============================] - 2s 2ms/step - loss: 1.1969 - dense_10_loss: 8.8842e-04 - dense_12_loss: 1.1960 - dense_10_acc: 0.5900 - dense_12_acc: 0.7010\n",
      "Match: 0.49464285373687744\n",
      "Epoch 1/1\n",
      "1000/1000 [==============================] - 2s 2ms/step - loss: 1.0849 - dense_10_loss: 9.3055e-04 - dense_12_loss: 1.0840 - dense_10_acc: 0.6100 - dense_12_acc: 0.7290\n",
      "Match: 0.4892857074737549\n",
      "Epoch 1/1\n",
      "1000/1000 [==============================] - 1s 1ms/step - loss: 1.1808 - dense_10_loss: 9.5684e-04 - dense_12_loss: 1.1799 - dense_10_acc: 0.6220 - dense_12_acc: 0.7050\n",
      "Match: 0.4848214387893677\n",
      "Epoch 1/1\n",
      "1000/1000 [==============================] - 1s 1ms/step - loss: 0.9730 - dense_10_loss: 8.2158e-04 - dense_12_loss: 0.9722 - dense_10_acc: 0.6270 - dense_12_acc: 0.7560\n",
      "Match: 0.49642857909202576\n",
      "Epoch 1/1\n",
      "1000/1000 [==============================] - 1s 1ms/step - loss: 1.0961 - dense_10_loss: 8.5958e-04 - dense_12_loss: 1.0953 - dense_10_acc: 0.6120 - dense_12_acc: 0.7260\n",
      "Match: 0.4910714328289032\n",
      "Epoch 1/1\n",
      "1000/1000 [==============================] - 1s 1ms/step - loss: 1.1089 - dense_10_loss: 8.7312e-04 - dense_12_loss: 1.1080 - dense_10_acc: 0.5960 - dense_12_acc: 0.7230\n",
      "Match: 0.48303571343421936\n",
      "Epoch 1/1\n",
      "1000/1000 [==============================] - 1s 1ms/step - loss: 1.0804 - dense_10_loss: 7.7724e-04 - dense_12_loss: 1.0796 - dense_10_acc: 0.6080 - dense_12_acc: 0.7300\n",
      "Match: 0.4883928596973419\n",
      "Epoch 1/1\n",
      "1000/1000 [==============================] - 1s 1ms/step - loss: 1.1055 - dense_10_loss: 8.1334e-04 - dense_12_loss: 1.1047 - dense_10_acc: 0.5880 - dense_12_acc: 0.7230\n",
      "Match: 0.4928571283817291\n",
      "Epoch 1/1\n",
      "1000/1000 [==============================] - 1s 1ms/step - loss: 1.0889 - dense_10_loss: 8.7400e-04 - dense_12_loss: 1.0880 - dense_10_acc: 0.6490 - dense_12_acc: 0.7280\n",
      "Match: 0.48571428656578064\n",
      "Epoch 1/1\n",
      "1000/1000 [==============================] - 1s 1ms/step - loss: 1.0254 - dense_10_loss: 8.0691e-04 - dense_12_loss: 1.0246 - dense_10_acc: 0.6110 - dense_12_acc: 0.7430\n",
      "Match: 0.4937500059604645\n",
      "Epoch 1/1\n",
      "1000/1000 [==============================] - 1s 1ms/step - loss: 1.0250 - dense_10_loss: 7.8635e-04 - dense_12_loss: 1.0242 - dense_10_acc: 0.6460 - dense_12_acc: 0.7440\n",
      "Match: 0.4910714328289032\n",
      "Epoch 1/1\n",
      "1000/1000 [==============================] - 2s 2ms/step - loss: 1.0316 - dense_10_loss: 8.2800e-04 - dense_12_loss: 1.0307 - dense_10_acc: 0.6380 - dense_12_acc: 0.7420\n",
      "Match: 0.49196428060531616\n",
      "Epoch 1/1\n",
      "1000/1000 [==============================] - 1s 1ms/step - loss: 1.1134 - dense_10_loss: 8.2620e-04 - dense_12_loss: 1.1126 - dense_10_acc: 0.6180 - dense_12_acc: 0.7210\n",
      "Match: 0.4937500059604645\n",
      "Epoch 1/1\n",
      "1000/1000 [==============================] - 2s 2ms/step - loss: 1.1832 - dense_10_loss: 8.7665e-04 - dense_12_loss: 1.1824 - dense_10_acc: 0.5960 - dense_12_acc: 0.7040\n",
      "Match: 0.4892857074737549\n",
      "Epoch 1/1\n",
      "1000/1000 [==============================] - 1s 1ms/step - loss: 1.2527 - dense_10_loss: 7.7653e-04 - dense_12_loss: 1.2519 - dense_10_acc: 0.6000 - dense_12_acc: 0.6870\n",
      "Match: 0.4973214268684387\n",
      "Epoch 1/1\n",
      "1000/1000 [==============================] - 1s 1ms/step - loss: 1.2928 - dense_10_loss: 8.3641e-04 - dense_12_loss: 1.2920 - dense_10_acc: 0.6460 - dense_12_acc: 0.6770\n",
      "Match: 0.4937500059604645\n",
      "Epoch 1/1\n",
      "1000/1000 [==============================] - 1s 1ms/step - loss: 1.2408 - dense_10_loss: 8.2556e-04 - dense_12_loss: 1.2400 - dense_10_acc: 0.6130 - dense_12_acc: 0.6900\n",
      "Match: 0.4821428656578064\n",
      "Epoch 1/1\n",
      "1000/1000 [==============================] - 1s 1ms/step - loss: 1.2132 - dense_10_loss: 8.5008e-04 - dense_12_loss: 1.2123 - dense_10_acc: 0.6160 - dense_12_acc: 0.6960\n",
      "Match: 0.4821428656578064\n",
      "Epoch 1/1\n",
      "1000/1000 [==============================] - 2s 2ms/step - loss: 1.0208 - dense_10_loss: 7.9526e-04 - dense_12_loss: 1.0200 - dense_10_acc: 0.6380 - dense_12_acc: 0.7450\n",
      "Match: 0.49017858505249023\n",
      "Epoch 1/1\n",
      "1000/1000 [==============================] - 2s 2ms/step - loss: 1.1408 - dense_10_loss: 7.8845e-04 - dense_12_loss: 1.1400 - dense_10_acc: 0.6170 - dense_12_acc: 0.7150\n",
      "Match: 0.49464285373687744\n",
      "Epoch 1/1\n",
      "1000/1000 [==============================] - 1s 1ms/step - loss: 1.0322 - dense_10_loss: 8.4058e-04 - dense_12_loss: 1.0314 - dense_10_acc: 0.6110 - dense_12_acc: 0.7410\n",
      "Match: 0.49910715222358704\n",
      "Epoch 1/1\n",
      "1000/1000 [==============================] - 1s 1ms/step - loss: 1.0805 - dense_10_loss: 8.3943e-04 - dense_12_loss: 1.0797 - dense_10_acc: 0.6170 - dense_12_acc: 0.7300\n",
      "Match: 0.4955357015132904\n",
      "Epoch 1/1\n",
      "1000/1000 [==============================] - 2s 2ms/step - loss: 1.1912 - dense_10_loss: 9.1027e-04 - dense_12_loss: 1.1903 - dense_10_acc: 0.6210 - dense_12_acc: 0.7020\n",
      "Match: 0.5017856955528259\n",
      "Epoch 1/1\n",
      "1000/1000 [==============================] - 1s 1ms/step - loss: 1.0909 - dense_10_loss: 7.7488e-04 - dense_12_loss: 1.0901 - dense_10_acc: 0.6170 - dense_12_acc: 0.7270\n",
      "Match: 0.4892857074737549\n",
      "Epoch 1/1\n",
      "1000/1000 [==============================] - 2s 2ms/step - loss: 1.0648 - dense_10_loss: 7.9144e-04 - dense_12_loss: 1.0640 - dense_10_acc: 0.5880 - dense_12_acc: 0.7340\n",
      "Match: 0.4955357015132904\n",
      "Epoch 1/1\n",
      "1000/1000 [==============================] - 1s 1ms/step - loss: 1.0871 - dense_10_loss: 8.1647e-04 - dense_12_loss: 1.0863 - dense_10_acc: 0.6060 - dense_12_acc: 0.7280\n",
      "Match: 0.4982142746448517\n",
      "Epoch 1/1\n",
      "1000/1000 [==============================] - 1s 1ms/step - loss: 1.1448 - dense_10_loss: 8.4681e-04 - dense_12_loss: 1.1440 - dense_10_acc: 0.6300 - dense_12_acc: 0.7140\n",
      "Match: 0.4928571283817291\n",
      "Epoch 1/1\n",
      "1000/1000 [==============================] - 2s 2ms/step - loss: 1.1369 - dense_10_loss: 9.1537e-04 - dense_12_loss: 1.1360 - dense_10_acc: 0.6090 - dense_12_acc: 0.7160\n",
      "Match: 0.5035714507102966\n",
      "Epoch 1/1\n",
      "1000/1000 [==============================] - 1s 1ms/step - loss: 1.1366 - dense_10_loss: 7.8121e-04 - dense_12_loss: 1.1358 - dense_10_acc: 0.6020 - dense_12_acc: 0.7160\n",
      "Match: 0.4973214268684387\n",
      "Epoch 1/1\n",
      "1000/1000 [==============================] - 1s 1ms/step - loss: 1.0133 - dense_10_loss: 7.6685e-04 - dense_12_loss: 1.0125 - dense_10_acc: 0.5820 - dense_12_acc: 0.7460\n",
      "Match: 0.4982142746448517\n",
      "Epoch 1/1\n",
      "1000/1000 [==============================] - 2s 2ms/step - loss: 1.0688 - dense_10_loss: 7.9949e-04 - dense_12_loss: 1.0680 - dense_10_acc: 0.5670 - dense_12_acc: 0.7330\n",
      "Match: 0.49017858505249023\n",
      "Epoch 1/1\n",
      "1000/1000 [==============================] - 2s 2ms/step - loss: 1.1888 - dense_10_loss: 8.0393e-04 - dense_12_loss: 1.1880 - dense_10_acc: 0.5980 - dense_12_acc: 0.7030\n",
      "Match: 0.49196428060531616\n",
      "Epoch 1/1\n",
      "1000/1000 [==============================] - 2s 2ms/step - loss: 1.1848 - dense_10_loss: 8.4538e-04 - dense_12_loss: 1.1840 - dense_10_acc: 0.6310 - dense_12_acc: 0.7040\n",
      "Match: 0.4928571283817291\n",
      "Epoch 1/1\n",
      "1000/1000 [==============================] - 2s 2ms/step - loss: 1.0526 - dense_10_loss: 7.8656e-04 - dense_12_loss: 1.0518 - dense_10_acc: 0.5470 - dense_12_acc: 0.7370\n",
      "Match: 0.4982142746448517\n",
      "Epoch 1/1\n",
      "1000/1000 [==============================] - 2s 2ms/step - loss: 1.0509 - dense_10_loss: 8.2663e-04 - dense_12_loss: 1.0500 - dense_10_acc: 0.6020 - dense_12_acc: 0.7370\n",
      "Match: 0.4973214268684387\n",
      "Epoch 1/1\n",
      "1000/1000 [==============================] - 2s 2ms/step - loss: 1.0994 - dense_10_loss: 8.3525e-04 - dense_12_loss: 1.0986 - dense_10_acc: 0.5920 - dense_12_acc: 0.7250\n",
      "Match: 0.5\n",
      "Epoch 1/1\n",
      "1000/1000 [==============================] - 1s 1ms/step - loss: 1.0187 - dense_10_loss: 8.2939e-04 - dense_12_loss: 1.0179 - dense_10_acc: 0.5920 - dense_12_acc: 0.7450\n",
      "Match: 0.4937500059604645\n",
      "Epoch 1/1\n",
      "1000/1000 [==============================] - 1s 1ms/step - loss: 0.9688 - dense_10_loss: 8.4180e-04 - dense_12_loss: 0.9680 - dense_10_acc: 0.6210 - dense_12_acc: 0.7580\n",
      "Match: 0.4982142746448517\n",
      "Epoch 1/1\n",
      "1000/1000 [==============================] - 2s 2ms/step - loss: 0.9888 - dense_10_loss: 8.0813e-04 - dense_12_loss: 0.9880 - dense_10_acc: 0.5950 - dense_12_acc: 0.7530\n",
      "Match: 0.4982142746448517\n",
      "Epoch 1/1\n",
      "1000/1000 [==============================] - 2s 2ms/step - loss: 0.9008 - dense_10_loss: 8.2253e-04 - dense_12_loss: 0.9000 - dense_10_acc: 0.6160 - dense_12_acc: 0.7750\n",
      "Match: 0.49464285373687744\n",
      "Epoch 1/1\n",
      "1000/1000 [==============================] - 1s 1ms/step - loss: 1.0249 - dense_10_loss: 8.8561e-04 - dense_12_loss: 1.0240 - dense_10_acc: 0.5850 - dense_12_acc: 0.7440\n",
      "Match: 0.4955357015132904\n",
      "Epoch 1/1\n",
      "1000/1000 [==============================] - 2s 2ms/step - loss: 1.0510 - dense_10_loss: 7.7700e-04 - dense_12_loss: 1.0502 - dense_10_acc: 0.5640 - dense_12_acc: 0.7370\n",
      "Match: 0.4928571283817291\n",
      "Epoch 1/1\n",
      "1000/1000 [==============================] - 2s 2ms/step - loss: 1.0368 - dense_10_loss: 8.4571e-04 - dense_12_loss: 1.0360 - dense_10_acc: 0.5650 - dense_12_acc: 0.7410\n",
      "Match: 0.4928571283817291\n",
      "Epoch 1/1\n",
      "1000/1000 [==============================] - 2s 2ms/step - loss: 1.0448 - dense_10_loss: 7.7287e-04 - dense_12_loss: 1.0440 - dense_10_acc: 0.5780 - dense_12_acc: 0.7390\n",
      "Match: 0.4928571283817291\n",
      "Epoch 1/1\n",
      "1000/1000 [==============================] - 1s 1ms/step - loss: 1.0608 - dense_10_loss: 8.0775e-04 - dense_12_loss: 1.0600 - dense_10_acc: 0.5660 - dense_12_acc: 0.7350\n",
      "Match: 0.49017858505249023\n",
      "Epoch 1/1\n",
      "1000/1000 [==============================] - 2s 2ms/step - loss: 0.9357 - dense_10_loss: 7.2622e-04 - dense_12_loss: 0.9350 - dense_10_acc: 0.5660 - dense_12_acc: 0.7660\n",
      "Match: 0.4973214268684387\n",
      "Epoch 1/1\n",
      "1000/1000 [==============================] - 1s 1ms/step - loss: 1.1445 - dense_10_loss: 7.9950e-04 - dense_12_loss: 1.1437 - dense_10_acc: 0.5440 - dense_12_acc: 0.7140\n",
      "Match: 0.5017856955528259\n",
      "Epoch 1/1\n",
      "1000/1000 [==============================] - 1s 1ms/step - loss: 1.1009 - dense_10_loss: 6.8953e-04 - dense_12_loss: 1.1003 - dense_10_acc: 0.5280 - dense_12_acc: 0.7250\n",
      "Match: 0.4892857074737549\n",
      "Epoch 1/1\n",
      "1000/1000 [==============================] - 1s 1ms/step - loss: 1.1784 - dense_10_loss: 7.8321e-04 - dense_12_loss: 1.1776 - dense_10_acc: 0.5800 - dense_12_acc: 0.7050\n",
      "Match: 0.4973214268684387\n",
      "Epoch 1/1\n",
      "1000/1000 [==============================] - 1s 1ms/step - loss: 1.4288 - dense_10_loss: 8.1416e-04 - dense_12_loss: 1.4280 - dense_10_acc: 0.5700 - dense_12_acc: 0.6430\n",
      "Match: 0.4928571283817291\n",
      "Epoch 1/1\n",
      "1000/1000 [==============================] - 1s 1ms/step - loss: 1.2771 - dense_10_loss: 8.0554e-04 - dense_12_loss: 1.2763 - dense_10_acc: 0.5660 - dense_12_acc: 0.6800\n",
      "Match: 0.49017858505249023\n",
      "Epoch 1/1\n",
      "1000/1000 [==============================] - 1s 1ms/step - loss: 1.2088 - dense_10_loss: 8.0618e-04 - dense_12_loss: 1.2080 - dense_10_acc: 0.5980 - dense_12_acc: 0.6980\n",
      "Match: 0.4892857074737549\n",
      "Epoch 1/1\n",
      "1000/1000 [==============================] - 1s 1ms/step - loss: 1.2088 - dense_10_loss: 7.5509e-04 - dense_12_loss: 1.2080 - dense_10_acc: 0.5740 - dense_12_acc: 0.6980\n",
      "Match: 0.4910714328289032\n",
      "Epoch 1/1\n",
      "1000/1000 [==============================] - 2s 2ms/step - loss: 1.1807 - dense_10_loss: 7.8110e-04 - dense_12_loss: 1.1800 - dense_10_acc: 0.5580 - dense_12_acc: 0.7050\n",
      "Match: 0.4866071343421936\n",
      "Epoch 1/1\n",
      "1000/1000 [==============================] - 2s 2ms/step - loss: 1.1844 - dense_10_loss: 7.7777e-04 - dense_12_loss: 1.1837 - dense_10_acc: 0.5630 - dense_12_acc: 0.7040\n",
      "Match: 0.4955357015132904\n",
      "Epoch 1/1\n",
      "1000/1000 [==============================] - 2s 2ms/step - loss: 1.1247 - dense_10_loss: 7.5624e-04 - dense_12_loss: 1.1239 - dense_10_acc: 0.5580 - dense_12_acc: 0.7190\n",
      "Match: 0.49642857909202576\n",
      "Epoch 1/1\n",
      "1000/1000 [==============================] - 1s 1ms/step - loss: 1.1766 - dense_10_loss: 8.1378e-04 - dense_12_loss: 1.1758 - dense_10_acc: 0.6130 - dense_12_acc: 0.7060\n",
      "Match: 0.4955357015132904\n",
      "Epoch 1/1\n",
      "1000/1000 [==============================] - 2s 2ms/step - loss: 1.1535 - dense_10_loss: 7.6677e-04 - dense_12_loss: 1.1527 - dense_10_acc: 0.5630 - dense_12_acc: 0.7110\n",
      "Match: 0.49642857909202576\n",
      "Epoch 1/1\n",
      "1000/1000 [==============================] - 1s 1ms/step - loss: 1.1168 - dense_10_loss: 7.6519e-04 - dense_12_loss: 1.1160 - dense_10_acc: 0.5220 - dense_12_acc: 0.7210\n",
      "Match: 0.4955357015132904\n",
      "Epoch 1/1\n",
      "1000/1000 [==============================] - 2s 2ms/step - loss: 1.0636 - dense_10_loss: 8.1976e-04 - dense_12_loss: 1.0628 - dense_10_acc: 0.5660 - dense_12_acc: 0.7340\n",
      "Match: 0.49464285373687744\n",
      "Epoch 1/1\n",
      "1000/1000 [==============================] - 2s 2ms/step - loss: 1.1158 - dense_10_loss: 8.1610e-04 - dense_12_loss: 1.1150 - dense_10_acc: 0.5650 - dense_12_acc: 0.7210\n",
      "Match: 0.49464285373687744\n",
      "Epoch 1/1\n",
      "1000/1000 [==============================] - 2s 2ms/step - loss: 1.0328 - dense_10_loss: 7.8143e-04 - dense_12_loss: 1.0320 - dense_10_acc: 0.5560 - dense_12_acc: 0.7420\n",
      "Match: 0.5008928775787354\n",
      "Epoch 1/1\n",
      "1000/1000 [==============================] - 2s 2ms/step - loss: 1.1165 - dense_10_loss: 8.3377e-04 - dense_12_loss: 1.1156 - dense_10_acc: 0.5430 - dense_12_acc: 0.7210\n",
      "Match: 0.49464285373687744\n",
      "Epoch 1/1\n",
      "1000/1000 [==============================] - 1s 1ms/step - loss: 1.1377 - dense_10_loss: 7.5548e-04 - dense_12_loss: 1.1370 - dense_10_acc: 0.5560 - dense_12_acc: 0.7150\n",
      "Match: 0.49196428060531616\n",
      "Epoch 1/1\n",
      "1000/1000 [==============================] - 2s 2ms/step - loss: 1.1546 - dense_10_loss: 7.7890e-04 - dense_12_loss: 1.1538 - dense_10_acc: 0.5610 - dense_12_acc: 0.7110\n",
      "Match: 0.4982142746448517\n",
      "Epoch 1/1\n",
      "1000/1000 [==============================] - 2s 2ms/step - loss: 1.1323 - dense_10_loss: 7.6778e-04 - dense_12_loss: 1.1316 - dense_10_acc: 0.5640 - dense_12_acc: 0.7170\n",
      "Match: 0.4892857074737549\n",
      "Epoch 1/1\n",
      "1000/1000 [==============================] - 1s 1ms/step - loss: 1.0888 - dense_10_loss: 8.1645e-04 - dense_12_loss: 1.0880 - dense_10_acc: 0.5790 - dense_12_acc: 0.7280\n",
      "Match: 0.5008928775787354\n",
      "Epoch 1/1\n",
      "1000/1000 [==============================] - 2s 2ms/step - loss: 1.1688 - dense_10_loss: 8.2779e-04 - dense_12_loss: 1.1679 - dense_10_acc: 0.5780 - dense_12_acc: 0.7080\n",
      "Match: 0.4892857074737549\n",
      "Epoch 1/1\n",
      "1000/1000 [==============================] - 2s 2ms/step - loss: 1.1368 - dense_10_loss: 7.8678e-04 - dense_12_loss: 1.1360 - dense_10_acc: 0.5620 - dense_12_acc: 0.7160\n",
      "Match: 0.4883928596973419\n",
      "Epoch 1/1\n",
      "1000/1000 [==============================] - 2s 2ms/step - loss: 1.1129 - dense_10_loss: 8.5910e-04 - dense_12_loss: 1.1120 - dense_10_acc: 0.5390 - dense_12_acc: 0.7220\n",
      "Match: 0.4928571283817291\n",
      "Epoch 1/1\n",
      "1000/1000 [==============================] - 2s 2ms/step - loss: 1.1408 - dense_10_loss: 8.4427e-04 - dense_12_loss: 1.1400 - dense_10_acc: 0.5580 - dense_12_acc: 0.7150\n",
      "Match: 0.4982142746448517\n",
      "Epoch 1/1\n",
      "1000/1000 [==============================] - 2s 2ms/step - loss: 1.1627 - dense_10_loss: 8.2970e-04 - dense_12_loss: 1.1619 - dense_10_acc: 0.5640 - dense_12_acc: 0.7090\n",
      "Match: 0.4892857074737549\n",
      "Epoch 1/1\n",
      "1000/1000 [==============================] - 2s 2ms/step - loss: 1.1859 - dense_10_loss: 7.6773e-04 - dense_12_loss: 1.1852 - dense_10_acc: 0.5690 - dense_12_acc: 0.7030\n",
      "Match: 0.49017858505249023\n",
      "Epoch 1/1\n",
      "1000/1000 [==============================] - 2s 2ms/step - loss: 1.1289 - dense_10_loss: 8.5676e-04 - dense_12_loss: 1.1280 - dense_10_acc: 0.5680 - dense_12_acc: 0.7180\n",
      "Match: 0.49910715222358704\n",
      "Epoch 1/1\n",
      "1000/1000 [==============================] - 2s 2ms/step - loss: 1.2208 - dense_10_loss: 8.0696e-04 - dense_12_loss: 1.2200 - dense_10_acc: 0.5700 - dense_12_acc: 0.6950\n",
      "Match: 0.4892857074737549\n",
      "Epoch 1/1\n",
      "1000/1000 [==============================] - 1s 1ms/step - loss: 1.1608 - dense_10_loss: 8.0044e-04 - dense_12_loss: 1.1600 - dense_10_acc: 0.5790 - dense_12_acc: 0.7100\n",
      "Match: 0.49910715222358704\n",
      "Epoch 1/1\n",
      "1000/1000 [==============================] - 2s 2ms/step - loss: 1.1242 - dense_10_loss: 7.8503e-04 - dense_12_loss: 1.1234 - dense_10_acc: 0.5700 - dense_12_acc: 0.7190\n",
      "Match: 0.5\n",
      "Epoch 1/1\n",
      "1000/1000 [==============================] - 3s 3ms/step - loss: 1.1283 - dense_10_loss: 7.9886e-04 - dense_12_loss: 1.1275 - dense_10_acc: 0.5620 - dense_12_acc: 0.7180\n",
      "Match: 0.4973214268684387\n",
      "Epoch 1/1\n",
      "1000/1000 [==============================] - 2s 2ms/step - loss: 1.0128 - dense_10_loss: 7.9178e-04 - dense_12_loss: 1.0120 - dense_10_acc: 0.5850 - dense_12_acc: 0.7470\n",
      "Match: 0.4955357015132904\n",
      "Epoch 1/1\n",
      "1000/1000 [==============================] - 2s 2ms/step - loss: 1.0647 - dense_10_loss: 7.1575e-04 - dense_12_loss: 1.0640 - dense_10_acc: 0.5690 - dense_12_acc: 0.7340\n",
      "Match: 0.4973214268684387\n",
      "Epoch 1/1\n",
      "1000/1000 [==============================] - 1s 1ms/step - loss: 1.1526 - dense_10_loss: 8.0980e-04 - dense_12_loss: 1.1518 - dense_10_acc: 0.5860 - dense_12_acc: 0.7120\n",
      "Match: 0.4937500059604645\n",
      "Epoch 1/1\n",
      "1000/1000 [==============================] - 2s 2ms/step - loss: 1.1167 - dense_10_loss: 7.1140e-04 - dense_12_loss: 1.1160 - dense_10_acc: 0.5690 - dense_12_acc: 0.7210\n",
      "Match: 0.49910715222358704\n",
      "Epoch 1/1\n",
      "1000/1000 [==============================] - 2s 2ms/step - loss: 1.1447 - dense_10_loss: 7.0743e-04 - dense_12_loss: 1.1440 - dense_10_acc: 0.5620 - dense_12_acc: 0.7140\n",
      "Match: 0.49910715222358704\n",
      "Epoch 1/1\n",
      "1000/1000 [==============================] - 2s 2ms/step - loss: 1.0367 - dense_10_loss: 6.8565e-04 - dense_12_loss: 1.0360 - dense_10_acc: 0.5860 - dense_12_acc: 0.7410\n",
      "Match: 0.4937500059604645\n",
      "Epoch 1/1\n",
      "1000/1000 [==============================] - 1s 1ms/step - loss: 1.1328 - dense_10_loss: 7.8412e-04 - dense_12_loss: 1.1320 - dense_10_acc: 0.5580 - dense_12_acc: 0.7170\n",
      "Match: 0.4883928596973419\n",
      "Epoch 1/1\n",
      "1000/1000 [==============================] - 2s 2ms/step - loss: 1.0604 - dense_10_loss: 6.5500e-04 - dense_12_loss: 1.0597 - dense_10_acc: 0.5610 - dense_12_acc: 0.7350\n",
      "Match: 0.4973214268684387\n",
      "Epoch 1/1\n",
      "1000/1000 [==============================] - 1s 1ms/step - loss: 0.9087 - dense_10_loss: 6.8426e-04 - dense_12_loss: 0.9080 - dense_10_acc: 0.5530 - dense_12_acc: 0.7730\n",
      "Match: 0.4955357015132904\n",
      "Epoch 1/1\n",
      "1000/1000 [==============================] - 2s 2ms/step - loss: 0.9606 - dense_10_loss: 6.7130e-04 - dense_12_loss: 0.9599 - dense_10_acc: 0.5600 - dense_12_acc: 0.7600\n",
      "Match: 0.4973214268684387\n",
      "Epoch 1/1\n",
      "1000/1000 [==============================] - 1s 1ms/step - loss: 1.1033 - dense_10_loss: 7.3325e-04 - dense_12_loss: 1.1026 - dense_10_acc: 0.5820 - dense_12_acc: 0.7240\n",
      "Match: 0.4910714328289032\n",
      "Epoch 1/1\n",
      "1000/1000 [==============================] - 2s 2ms/step - loss: 1.2094 - dense_10_loss: 6.8399e-04 - dense_12_loss: 1.2088 - dense_10_acc: 0.5930 - dense_12_acc: 0.6970\n",
      "Match: 0.4955357015132904\n",
      "Epoch 1/1\n",
      "1000/1000 [==============================] - 1s 1ms/step - loss: 0.9167 - dense_10_loss: 6.5061e-04 - dense_12_loss: 0.9161 - dense_10_acc: 0.5690 - dense_12_acc: 0.7710\n",
      "Match: 0.49464285373687744\n",
      "Epoch 1/1\n",
      "1000/1000 [==============================] - 2s 2ms/step - loss: 0.9767 - dense_10_loss: 6.7306e-04 - dense_12_loss: 0.9760 - dense_10_acc: 0.5750 - dense_12_acc: 0.7560\n",
      "Match: 0.49464285373687744\n",
      "Epoch 1/1\n",
      "1000/1000 [==============================] - 1s 1ms/step - loss: 0.9646 - dense_10_loss: 6.2309e-04 - dense_12_loss: 0.9640 - dense_10_acc: 0.5860 - dense_12_acc: 0.7590\n",
      "Match: 0.4928571283817291\n",
      "Epoch 1/1\n",
      "1000/1000 [==============================] - 2s 2ms/step - loss: 0.9983 - dense_10_loss: 6.6135e-04 - dense_12_loss: 0.9976 - dense_10_acc: 0.5770 - dense_12_acc: 0.7490\n",
      "Match: 0.5\n",
      "Epoch 1/1\n",
      "1000/1000 [==============================] - 2s 2ms/step - loss: 1.0699 - dense_10_loss: 6.5764e-04 - dense_12_loss: 1.0692 - dense_10_acc: 0.5920 - dense_12_acc: 0.7320\n",
      "Match: 0.49642857909202576\n",
      "Epoch 1/1\n",
      "1000/1000 [==============================] - 2s 2ms/step - loss: 0.9407 - dense_10_loss: 5.9417e-04 - dense_12_loss: 0.9401 - dense_10_acc: 0.5720 - dense_12_acc: 0.7650\n",
      "Match: 0.5008928775787354\n",
      "Epoch 1/1\n",
      "1000/1000 [==============================] - 2s 2ms/step - loss: 1.0606 - dense_10_loss: 6.3696e-04 - dense_12_loss: 1.0600 - dense_10_acc: 0.5740 - dense_12_acc: 0.7350\n",
      "Match: 0.4928571283817291\n",
      "Epoch 1/1\n",
      "1000/1000 [==============================] - 2s 2ms/step - loss: 0.9726 - dense_10_loss: 6.1582e-04 - dense_12_loss: 0.9720 - dense_10_acc: 0.5910 - dense_12_acc: 0.7570\n",
      "Match: 0.4937500059604645\n",
      "Epoch 1/1\n",
      "1000/1000 [==============================] - 1s 1ms/step - loss: 0.8927 - dense_10_loss: 6.5376e-04 - dense_12_loss: 0.8920 - dense_10_acc: 0.5880 - dense_12_acc: 0.7770\n",
      "Match: 0.4937500059604645\n",
      "Epoch 1/1\n",
      "1000/1000 [==============================] - 2s 2ms/step - loss: 0.9565 - dense_10_loss: 6.1748e-04 - dense_12_loss: 0.9559 - dense_10_acc: 0.5910 - dense_12_acc: 0.7610\n",
      "Match: 0.49642857909202576\n",
      "Epoch 1/1\n",
      "1000/1000 [==============================] - 2s 2ms/step - loss: 1.0046 - dense_10_loss: 5.5799e-04 - dense_12_loss: 1.0040 - dense_10_acc: 0.5790 - dense_12_acc: 0.7490\n",
      "Match: 0.49642857909202576\n",
      "Epoch 1/1\n",
      "1000/1000 [==============================] - 1s 1ms/step - loss: 0.9967 - dense_10_loss: 6.6575e-04 - dense_12_loss: 0.9960 - dense_10_acc: 0.5950 - dense_12_acc: 0.7510\n",
      "Match: 0.49642857909202576\n",
      "Epoch 1/1\n",
      "1000/1000 [==============================] - 1s 1ms/step - loss: 0.9886 - dense_10_loss: 6.1166e-04 - dense_12_loss: 0.9880 - dense_10_acc: 0.5740 - dense_12_acc: 0.7530\n",
      "Match: 0.4973214268684387\n",
      "Epoch 1/1\n",
      "1000/1000 [==============================] - 2s 2ms/step - loss: 1.0046 - dense_10_loss: 6.4275e-04 - dense_12_loss: 1.0040 - dense_10_acc: 0.6240 - dense_12_acc: 0.7490\n",
      "Match: 0.49196428060531616\n",
      "Epoch 1/1\n",
      "1000/1000 [==============================] - 2s 2ms/step - loss: 0.9567 - dense_10_loss: 6.4016e-04 - dense_12_loss: 0.9560 - dense_10_acc: 0.5690 - dense_12_acc: 0.7610\n",
      "Match: 0.4937500059604645\n",
      "Epoch 1/1\n",
      "1000/1000 [==============================] - 2s 2ms/step - loss: 0.9923 - dense_10_loss: 6.6229e-04 - dense_12_loss: 0.9916 - dense_10_acc: 0.5830 - dense_12_acc: 0.7520\n",
      "Match: 0.5008928775787354\n",
      "Epoch 1/1\n",
      "1000/1000 [==============================] - 2s 2ms/step - loss: 1.0366 - dense_10_loss: 6.1009e-04 - dense_12_loss: 1.0360 - dense_10_acc: 0.5940 - dense_12_acc: 0.7410\n",
      "Match: 0.49017858505249023\n",
      "Epoch 1/1\n",
      "1000/1000 [==============================] - 1s 1ms/step - loss: 1.0040 - dense_10_loss: 6.6890e-04 - dense_12_loss: 1.0033 - dense_10_acc: 0.5960 - dense_12_acc: 0.7490\n",
      "Match: 0.5017856955528259\n",
      "Epoch 1/1\n",
      "1000/1000 [==============================] - 2s 2ms/step - loss: 1.0967 - dense_10_loss: 6.5109e-04 - dense_12_loss: 1.0960 - dense_10_acc: 0.5960 - dense_12_acc: 0.7260\n",
      "Match: 0.4928571283817291\n",
      "Epoch 1/1\n",
      "1000/1000 [==============================] - 2s 2ms/step - loss: 1.1167 - dense_10_loss: 6.4441e-04 - dense_12_loss: 1.1160 - dense_10_acc: 0.5810 - dense_12_acc: 0.7210\n",
      "Match: 0.49464285373687744\n",
      "Epoch 1/1\n",
      "1000/1000 [==============================] - 2s 2ms/step - loss: 1.1207 - dense_10_loss: 7.3894e-04 - dense_12_loss: 1.1200 - dense_10_acc: 0.6200 - dense_12_acc: 0.7200\n",
      "Match: 0.49642857909202576\n",
      "Epoch 1/1\n",
      "1000/1000 [==============================] - 2s 2ms/step - loss: 1.1087 - dense_10_loss: 6.7604e-04 - dense_12_loss: 1.1080 - dense_10_acc: 0.6200 - dense_12_acc: 0.7230\n",
      "Match: 0.49642857909202576\n",
      "Epoch 1/1\n",
      "1000/1000 [==============================] - 1s 1ms/step - loss: 1.1005 - dense_10_loss: 6.5366e-04 - dense_12_loss: 1.0998 - dense_10_acc: 0.6200 - dense_12_acc: 0.7250\n",
      "Match: 0.4973214268684387\n",
      "Epoch 1/1\n",
      "1000/1000 [==============================] - 2s 2ms/step - loss: 1.0127 - dense_10_loss: 6.9969e-04 - dense_12_loss: 1.0120 - dense_10_acc: 0.5790 - dense_12_acc: 0.7470\n",
      "Match: 0.49642857909202576\n",
      "Epoch 1/1\n",
      "1000/1000 [==============================] - 1s 1ms/step - loss: 1.0367 - dense_10_loss: 6.8131e-04 - dense_12_loss: 1.0360 - dense_10_acc: 0.5870 - dense_12_acc: 0.7410\n",
      "Match: 0.4910714328289032\n",
      "Epoch 1/1\n",
      "1000/1000 [==============================] - 1s 1ms/step - loss: 0.9768 - dense_10_loss: 6.8920e-04 - dense_12_loss: 0.9761 - dense_10_acc: 0.5880 - dense_12_acc: 0.7560\n",
      "Match: 0.4937500059604645\n",
      "Epoch 1/1\n",
      "1000/1000 [==============================] - 2s 2ms/step - loss: 0.9802 - dense_10_loss: 6.7089e-04 - dense_12_loss: 0.9795 - dense_10_acc: 0.5620 - dense_12_acc: 0.7550\n",
      "Match: 0.4982142746448517\n",
      "Epoch 1/1\n",
      "1000/1000 [==============================] - 2s 2ms/step - loss: 0.9726 - dense_10_loss: 6.2886e-04 - dense_12_loss: 0.9720 - dense_10_acc: 0.5750 - dense_12_acc: 0.7570\n",
      "Match: 0.4973214268684387\n",
      "Epoch 1/1\n",
      "1000/1000 [==============================] - 2s 2ms/step - loss: 0.8687 - dense_10_loss: 6.8928e-04 - dense_12_loss: 0.8680 - dense_10_acc: 0.5720 - dense_12_acc: 0.7830\n",
      "Match: 0.49642857909202576\n",
      "Epoch 1/1\n",
      "1000/1000 [==============================] - 2s 2ms/step - loss: 0.8910 - dense_10_loss: 6.7162e-04 - dense_12_loss: 0.8903 - dense_10_acc: 0.6300 - dense_12_acc: 0.7770\n",
      "Match: 0.4973214268684387\n",
      "Epoch 1/1\n",
      "1000/1000 [==============================] - 2s 2ms/step - loss: 1.2475 - dense_10_loss: 7.7769e-04 - dense_12_loss: 1.2467 - dense_10_acc: 0.5700 - dense_12_acc: 0.6880\n",
      "Match: 0.4973214268684387\n",
      "Epoch 1/1\n",
      "1000/1000 [==============================] - 2s 2ms/step - loss: 1.1570 - dense_10_loss: 6.6304e-04 - dense_12_loss: 1.1563 - dense_10_acc: 0.5860 - dense_12_acc: 0.7100\n",
      "Match: 0.4955357015132904\n",
      "Epoch 1/1\n",
      "1000/1000 [==============================] - 1s 1ms/step - loss: 1.1167 - dense_10_loss: 6.5715e-04 - dense_12_loss: 1.1161 - dense_10_acc: 0.5810 - dense_12_acc: 0.7200\n",
      "Match: 0.49642857909202576\n",
      "Epoch 1/1\n",
      "1000/1000 [==============================] - 2s 2ms/step - loss: 1.1607 - dense_10_loss: 7.0329e-04 - dense_12_loss: 1.1600 - dense_10_acc: 0.6160 - dense_12_acc: 0.7100\n",
      "Match: 0.4955357015132904\n",
      "Epoch 1/1\n",
      "1000/1000 [==============================] - 2s 2ms/step - loss: 1.0928 - dense_10_loss: 7.3404e-04 - dense_12_loss: 1.0921 - dense_10_acc: 0.5610 - dense_12_acc: 0.7270\n",
      "Match: 0.49464285373687744\n",
      "Epoch 1/1\n",
      "1000/1000 [==============================] - 1s 1ms/step - loss: 1.1007 - dense_10_loss: 6.5971e-04 - dense_12_loss: 1.1000 - dense_10_acc: 0.5820 - dense_12_acc: 0.7250\n",
      "Match: 0.5026785731315613\n",
      "Epoch 1/1\n",
      "1000/1000 [==============================] - 2s 2ms/step - loss: 1.1006 - dense_10_loss: 5.9547e-04 - dense_12_loss: 1.1000 - dense_10_acc: 0.5660 - dense_12_acc: 0.7250\n",
      "Match: 0.4982142746448517\n",
      "Epoch 1/1\n",
      "1000/1000 [==============================] - 2s 2ms/step - loss: 1.2247 - dense_10_loss: 6.5954e-04 - dense_12_loss: 1.2240 - dense_10_acc: 0.6010 - dense_12_acc: 0.6940\n",
      "Match: 0.49642857909202576\n",
      "Epoch 1/1\n",
      "1000/1000 [==============================] - 2s 2ms/step - loss: 1.1767 - dense_10_loss: 7.2240e-04 - dense_12_loss: 1.1760 - dense_10_acc: 0.6100 - dense_12_acc: 0.7060\n",
      "Match: 0.4982142746448517\n",
      "Epoch 1/1\n",
      "1000/1000 [==============================] - 2s 2ms/step - loss: 1.1167 - dense_10_loss: 7.0448e-04 - dense_12_loss: 1.1160 - dense_10_acc: 0.5790 - dense_12_acc: 0.7210\n",
      "Match: 0.4973214268684387\n",
      "Epoch 1/1\n",
      "1000/1000 [==============================] - 2s 2ms/step - loss: 1.0647 - dense_10_loss: 6.7209e-04 - dense_12_loss: 1.0640 - dense_10_acc: 0.5950 - dense_12_acc: 0.7340\n",
      "Match: 0.4955357015132904\n",
      "Epoch 1/1\n",
      "1000/1000 [==============================] - 2s 2ms/step - loss: 1.1327 - dense_10_loss: 6.6370e-04 - dense_12_loss: 1.1320 - dense_10_acc: 0.6000 - dense_12_acc: 0.7170\n",
      "Match: 0.4973214268684387\n",
      "Epoch 1/1\n",
      "1000/1000 [==============================] - 2s 2ms/step - loss: 1.1527 - dense_10_loss: 6.7993e-04 - dense_12_loss: 1.1520 - dense_10_acc: 0.5520 - dense_12_acc: 0.7120\n",
      "Match: 0.5026785731315613\n",
      "Epoch 1/1\n",
      "1000/1000 [==============================] - 2s 2ms/step - loss: 1.1807 - dense_10_loss: 6.9751e-04 - dense_12_loss: 1.1800 - dense_10_acc: 0.5610 - dense_12_acc: 0.7050\n",
      "Match: 0.4982142746448517\n",
      "Epoch 1/1\n",
      "1000/1000 [==============================] - 2s 2ms/step - loss: 1.1407 - dense_10_loss: 7.2154e-04 - dense_12_loss: 1.1400 - dense_10_acc: 0.5760 - dense_12_acc: 0.7150\n",
      "Match: 0.4928571283817291\n",
      "Epoch 1/1\n",
      "1000/1000 [==============================] - 2s 2ms/step - loss: 1.1246 - dense_10_loss: 6.2014e-04 - dense_12_loss: 1.1240 - dense_10_acc: 0.5630 - dense_12_acc: 0.7190\n",
      "Match: 0.49464285373687744\n",
      "Epoch 1/1\n",
      "1000/1000 [==============================] - 2s 2ms/step - loss: 1.0766 - dense_10_loss: 6.3188e-04 - dense_12_loss: 1.0760 - dense_10_acc: 0.5680 - dense_12_acc: 0.7310\n",
      "Match: 0.4892857074737549\n",
      "Epoch 1/1\n",
      "1000/1000 [==============================] - 2s 2ms/step - loss: 1.0886 - dense_10_loss: 6.3663e-04 - dense_12_loss: 1.0880 - dense_10_acc: 0.5460 - dense_12_acc: 0.7280\n",
      "Match: 0.5\n",
      "Epoch 1/1\n",
      "1000/1000 [==============================] - 2s 2ms/step - loss: 1.0318 - dense_10_loss: 6.4494e-04 - dense_12_loss: 1.0312 - dense_10_acc: 0.5840 - dense_12_acc: 0.7420\n",
      "Match: 0.49642857909202576\n",
      "Epoch 1/1\n",
      "1000/1000 [==============================] - 2s 2ms/step - loss: 1.0646 - dense_10_loss: 6.5545e-04 - dense_12_loss: 1.0640 - dense_10_acc: 0.5550 - dense_12_acc: 0.7340\n",
      "Match: 0.4866071343421936\n",
      "Epoch 1/1\n",
      "1000/1000 [==============================] - 2s 2ms/step - loss: 0.9687 - dense_10_loss: 6.6090e-04 - dense_12_loss: 0.9680 - dense_10_acc: 0.5930 - dense_12_acc: 0.7580\n",
      "Match: 0.49196428060531616\n",
      "Epoch 1/1\n",
      "1000/1000 [==============================] - 2s 2ms/step - loss: 1.0595 - dense_10_loss: 6.1724e-04 - dense_12_loss: 1.0589 - dense_10_acc: 0.5700 - dense_12_acc: 0.7350\n",
      "Match: 0.49642857909202576\n",
      "Epoch 1/1\n",
      "1000/1000 [==============================] - 2s 2ms/step - loss: 1.1766 - dense_10_loss: 6.3224e-04 - dense_12_loss: 1.1760 - dense_10_acc: 0.5680 - dense_12_acc: 0.7060\n",
      "Match: 0.4928571283817291\n",
      "Epoch 1/1\n",
      "1000/1000 [==============================] - 2s 2ms/step - loss: 1.1167 - dense_10_loss: 6.5311e-04 - dense_12_loss: 1.1160 - dense_10_acc: 0.6110 - dense_12_acc: 0.7210\n",
      "Match: 0.49196428060531616\n",
      "Epoch 1/1\n",
      "1000/1000 [==============================] - 2s 2ms/step - loss: 1.1287 - dense_10_loss: 6.9706e-04 - dense_12_loss: 1.1280 - dense_10_acc: 0.5910 - dense_12_acc: 0.7180\n",
      "Match: 0.4928571283817291\n",
      "Epoch 1/1\n",
      "1000/1000 [==============================] - 2s 2ms/step - loss: 1.1326 - dense_10_loss: 6.1466e-04 - dense_12_loss: 1.1320 - dense_10_acc: 0.5810 - dense_12_acc: 0.7170\n",
      "Match: 0.49017858505249023\n",
      "Epoch 1/1\n",
      "1000/1000 [==============================] - 2s 2ms/step - loss: 1.1646 - dense_10_loss: 6.1791e-04 - dense_12_loss: 1.1640 - dense_10_acc: 0.5950 - dense_12_acc: 0.7090\n",
      "Match: 0.49196428060531616\n",
      "Epoch 1/1\n",
      "1000/1000 [==============================] - 2s 2ms/step - loss: 1.1054 - dense_10_loss: 5.7660e-04 - dense_12_loss: 1.1048 - dense_10_acc: 0.5590 - dense_12_acc: 0.7230\n",
      "Match: 0.4883928596973419\n",
      "Epoch 1/1\n",
      "1000/1000 [==============================] - 2s 2ms/step - loss: 0.9726 - dense_10_loss: 6.0345e-04 - dense_12_loss: 0.9720 - dense_10_acc: 0.6150 - dense_12_acc: 0.7570\n",
      "Match: 0.4928571283817291\n",
      "Epoch 1/1\n",
      "1000/1000 [==============================] - 2s 2ms/step - loss: 1.0749 - dense_10_loss: 6.1576e-04 - dense_12_loss: 1.0743 - dense_10_acc: 0.5920 - dense_12_acc: 0.7310\n",
      "Match: 0.49017858505249023\n",
      "Epoch 1/1\n",
      "1000/1000 [==============================] - 2s 2ms/step - loss: 1.0607 - dense_10_loss: 6.1600e-04 - dense_12_loss: 1.0601 - dense_10_acc: 0.6010 - dense_12_acc: 0.7350\n",
      "Match: 0.49464285373687744\n",
      "Epoch 1/1\n",
      "1000/1000 [==============================] - 2s 2ms/step - loss: 1.0040 - dense_10_loss: 5.7916e-04 - dense_12_loss: 1.0034 - dense_10_acc: 0.5990 - dense_12_acc: 0.7490\n",
      "Match: 0.49642857909202576\n",
      "Epoch 1/1\n",
      "1000/1000 [==============================] - 2s 2ms/step - loss: 1.2966 - dense_10_loss: 5.7566e-04 - dense_12_loss: 1.2960 - dense_10_acc: 0.5770 - dense_12_acc: 0.6760\n",
      "Match: 0.49464285373687744\n",
      "Epoch 1/1\n",
      "1000/1000 [==============================] - 2s 2ms/step - loss: 1.2687 - dense_10_loss: 6.6309e-04 - dense_12_loss: 1.2680 - dense_10_acc: 0.5890 - dense_12_acc: 0.6830\n",
      "Match: 0.4928571283817291\n",
      "Epoch 1/1\n",
      "1000/1000 [==============================] - 2s 2ms/step - loss: 0.9930 - dense_10_loss: 5.6064e-04 - dense_12_loss: 0.9924 - dense_10_acc: 0.6030 - dense_12_acc: 0.7510\n",
      "Match: 0.49642857909202576\n",
      "Epoch 1/1\n",
      "1000/1000 [==============================] - 2s 2ms/step - loss: 1.1641 - dense_10_loss: 6.2769e-04 - dense_12_loss: 1.1635 - dense_10_acc: 0.5720 - dense_12_acc: 0.7090\n",
      "Match: 0.4928571283817291\n",
      "Epoch 1/1\n",
      "1000/1000 [==============================] - 2s 2ms/step - loss: 1.1021 - dense_10_loss: 6.4533e-04 - dense_12_loss: 1.1014 - dense_10_acc: 0.5990 - dense_12_acc: 0.7240\n",
      "Match: 0.4883928596973419\n",
      "Epoch 1/1\n",
      "1000/1000 [==============================] - 2s 2ms/step - loss: 1.1366 - dense_10_loss: 5.8676e-04 - dense_12_loss: 1.1360 - dense_10_acc: 0.5920 - dense_12_acc: 0.7160\n",
      "Match: 0.4937500059604645\n",
      "Epoch 1/1\n",
      "1000/1000 [==============================] - 2s 2ms/step - loss: 1.2246 - dense_10_loss: 6.2934e-04 - dense_12_loss: 1.2240 - dense_10_acc: 0.5720 - dense_12_acc: 0.6940\n",
      "Match: 0.4910714328289032\n",
      "Epoch 1/1\n",
      "1000/1000 [==============================] - 2s 2ms/step - loss: 1.1966 - dense_10_loss: 5.8217e-04 - dense_12_loss: 1.1960 - dense_10_acc: 0.5900 - dense_12_acc: 0.7010\n",
      "Match: 0.4883928596973419\n",
      "Epoch 1/1\n",
      "1000/1000 [==============================] - 2s 2ms/step - loss: 1.1206 - dense_10_loss: 5.9032e-04 - dense_12_loss: 1.1200 - dense_10_acc: 0.6170 - dense_12_acc: 0.7200\n",
      "Match: 0.4910714328289032\n",
      "Epoch 1/1\n",
      "1000/1000 [==============================] - 2s 2ms/step - loss: 1.2966 - dense_10_loss: 5.7484e-04 - dense_12_loss: 1.2960 - dense_10_acc: 0.6140 - dense_12_acc: 0.6760\n",
      "Match: 0.4937500059604645\n",
      "Epoch 1/1\n",
      "1000/1000 [==============================] - 2s 2ms/step - loss: 1.1166 - dense_10_loss: 6.1001e-04 - dense_12_loss: 1.1160 - dense_10_acc: 0.6040 - dense_12_acc: 0.7210\n",
      "Match: 0.4892857074737549\n",
      "Epoch 1/1\n",
      "1000/1000 [==============================] - 2s 2ms/step - loss: 1.2046 - dense_10_loss: 6.1832e-04 - dense_12_loss: 1.2040 - dense_10_acc: 0.6230 - dense_12_acc: 0.6990\n",
      "Match: 0.4910714328289032\n",
      "Epoch 1/1\n",
      "1000/1000 [==============================] - 2s 2ms/step - loss: 1.1846 - dense_10_loss: 5.8715e-04 - dense_12_loss: 1.1840 - dense_10_acc: 0.5900 - dense_12_acc: 0.7040\n",
      "Match: 0.4928571283817291\n",
      "Epoch 1/1\n",
      "1000/1000 [==============================] - 2s 2ms/step - loss: 1.1686 - dense_10_loss: 5.8877e-04 - dense_12_loss: 1.1680 - dense_10_acc: 0.5720 - dense_12_acc: 0.7080\n",
      "Match: 0.4928571283817291\n",
      "Epoch 1/1\n",
      "1000/1000 [==============================] - 2s 2ms/step - loss: 1.2325 - dense_10_loss: 5.3807e-04 - dense_12_loss: 1.2320 - dense_10_acc: 0.5900 - dense_12_acc: 0.6920\n",
      "Match: 0.4928571283817291\n",
      "Epoch 1/1\n",
      "1000/1000 [==============================] - 2s 2ms/step - loss: 1.0909 - dense_10_loss: 6.4495e-04 - dense_12_loss: 1.0903 - dense_10_acc: 0.6220 - dense_12_acc: 0.7270\n",
      "Match: 0.4928571283817291\n",
      "Epoch 1/1\n",
      "1000/1000 [==============================] - 2s 2ms/step - loss: 1.1966 - dense_10_loss: 6.0527e-04 - dense_12_loss: 1.1960 - dense_10_acc: 0.5810 - dense_12_acc: 0.7010\n",
      "Match: 0.4937500059604645\n",
      "Epoch 1/1\n",
      "1000/1000 [==============================] - 2s 2ms/step - loss: 1.1245 - dense_10_loss: 5.0763e-04 - dense_12_loss: 1.1240 - dense_10_acc: 0.5830 - dense_12_acc: 0.7190\n",
      "Match: 0.4910714328289032\n",
      "Epoch 1/1\n",
      "1000/1000 [==============================] - 2s 2ms/step - loss: 1.1006 - dense_10_loss: 6.1957e-04 - dense_12_loss: 1.1000 - dense_10_acc: 0.5990 - dense_12_acc: 0.7250\n",
      "Match: 0.4883928596973419\n",
      "Epoch 1/1\n",
      "1000/1000 [==============================] - 2s 2ms/step - loss: 1.0926 - dense_10_loss: 6.3953e-04 - dense_12_loss: 1.0920 - dense_10_acc: 0.5850 - dense_12_acc: 0.7270\n",
      "Match: 0.4910714328289032\n",
      "Epoch 1/1\n",
      "1000/1000 [==============================] - 2s 2ms/step - loss: 1.1765 - dense_10_loss: 5.4916e-04 - dense_12_loss: 1.1760 - dense_10_acc: 0.6320 - dense_12_acc: 0.7060\n",
      "Match: 0.4910714328289032\n",
      "Epoch 1/1\n",
      "1000/1000 [==============================] - 2s 2ms/step - loss: 1.0966 - dense_10_loss: 6.3831e-04 - dense_12_loss: 1.0960 - dense_10_acc: 0.5890 - dense_12_acc: 0.7260\n",
      "Match: 0.4937500059604645\n",
      "Epoch 1/1\n",
      "1000/1000 [==============================] - 2s 2ms/step - loss: 1.0726 - dense_10_loss: 5.8984e-04 - dense_12_loss: 1.0720 - dense_10_acc: 0.6010 - dense_12_acc: 0.7320\n",
      "Match: 0.4883928596973419\n",
      "Epoch 1/1\n",
      "1000/1000 [==============================] - 2s 2ms/step - loss: 0.9886 - dense_10_loss: 5.9117e-04 - dense_12_loss: 0.9880 - dense_10_acc: 0.6400 - dense_12_acc: 0.7530\n",
      "Match: 0.4892857074737549\n",
      "Epoch 1/1\n",
      "1000/1000 [==============================] - 2s 2ms/step - loss: 1.0646 - dense_10_loss: 5.8653e-04 - dense_12_loss: 1.0640 - dense_10_acc: 0.6270 - dense_12_acc: 0.7340\n",
      "Match: 0.49196428060531616\n",
      "Epoch 1/1\n",
      "1000/1000 [==============================] - 2s 2ms/step - loss: 1.0846 - dense_10_loss: 6.0126e-04 - dense_12_loss: 1.0840 - dense_10_acc: 0.6130 - dense_12_acc: 0.7290\n",
      "Match: 0.49017858505249023\n",
      "Epoch 1/1\n",
      "1000/1000 [==============================] - 2s 2ms/step - loss: 1.1126 - dense_10_loss: 5.6022e-04 - dense_12_loss: 1.1120 - dense_10_acc: 0.5990 - dense_12_acc: 0.7220\n",
      "Match: 0.4883928596973419\n",
      "Epoch 1/1\n",
      "1000/1000 [==============================] - 2s 2ms/step - loss: 1.1446 - dense_10_loss: 6.2574e-04 - dense_12_loss: 1.1440 - dense_10_acc: 0.5930 - dense_12_acc: 0.7140\n",
      "Match: 0.4892857074737549\n",
      "Epoch 1/1\n",
      "1000/1000 [==============================] - 2s 2ms/step - loss: 1.0687 - dense_10_loss: 6.7568e-04 - dense_12_loss: 1.0680 - dense_10_acc: 0.6150 - dense_12_acc: 0.7330\n",
      "Match: 0.4883928596973419\n",
      "Epoch 1/1\n",
      "1000/1000 [==============================] - 2s 2ms/step - loss: 1.1893 - dense_10_loss: 5.8041e-04 - dense_12_loss: 1.1887 - dense_10_acc: 0.6270 - dense_12_acc: 0.7020\n",
      "Match: 0.48750001192092896\n",
      "Epoch 1/1\n",
      "1000/1000 [==============================] - 2s 2ms/step - loss: 1.0766 - dense_10_loss: 6.1390e-04 - dense_12_loss: 1.0760 - dense_10_acc: 0.6060 - dense_12_acc: 0.7310\n",
      "Match: 0.49017858505249023\n",
      "Epoch 1/1\n",
      "1000/1000 [==============================] - 2s 2ms/step - loss: 1.1607 - dense_10_loss: 6.8435e-04 - dense_12_loss: 1.1600 - dense_10_acc: 0.5950 - dense_12_acc: 0.7100\n",
      "Match: 0.4928571283817291\n",
      "Epoch 1/1\n",
      "1000/1000 [==============================] - 2s 2ms/step - loss: 1.1846 - dense_10_loss: 5.9706e-04 - dense_12_loss: 1.1840 - dense_10_acc: 0.6330 - dense_12_acc: 0.7040\n",
      "Match: 0.4883928596973419\n",
      "Epoch 1/1\n",
      "1000/1000 [==============================] - 2s 2ms/step - loss: 1.2087 - dense_10_loss: 6.7058e-04 - dense_12_loss: 1.2080 - dense_10_acc: 0.6550 - dense_12_acc: 0.6980\n",
      "Match: 0.49642857909202576\n",
      "Epoch 1/1\n",
      "1000/1000 [==============================] - 2s 2ms/step - loss: 1.1406 - dense_10_loss: 6.2422e-04 - dense_12_loss: 1.1400 - dense_10_acc: 0.6310 - dense_12_acc: 0.7150\n",
      "Match: 0.4910714328289032\n",
      "Epoch 1/1\n",
      "1000/1000 [==============================] - 2s 2ms/step - loss: 1.2406 - dense_10_loss: 6.3681e-04 - dense_12_loss: 1.2400 - dense_10_acc: 0.5950 - dense_12_acc: 0.6900\n",
      "Match: 0.4910714328289032\n",
      "Epoch 1/1\n",
      "1000/1000 [==============================] - 2s 2ms/step - loss: 1.1036 - dense_10_loss: 6.8136e-04 - dense_12_loss: 1.1029 - dense_10_acc: 0.5970 - dense_12_acc: 0.7240\n",
      "Match: 0.49464285373687744\n",
      "Epoch 1/1\n",
      "1000/1000 [==============================] - 2s 2ms/step - loss: 1.1567 - dense_10_loss: 6.7400e-04 - dense_12_loss: 1.1560 - dense_10_acc: 0.5710 - dense_12_acc: 0.7110\n",
      "Match: 0.48571428656578064\n",
      "Epoch 1/1\n",
      "1000/1000 [==============================] - 2s 2ms/step - loss: 1.1168 - dense_10_loss: 6.9563e-04 - dense_12_loss: 1.1161 - dense_10_acc: 0.6210 - dense_12_acc: 0.7210\n",
      "Match: 0.48124998807907104\n",
      "Epoch 1/1\n",
      "1000/1000 [==============================] - 2s 2ms/step - loss: 1.2004 - dense_10_loss: 7.3657e-04 - dense_12_loss: 1.1997 - dense_10_acc: 0.6080 - dense_12_acc: 0.7000\n",
      "Match: 0.4794642925262451\n",
      "Epoch 1/1\n",
      "1000/1000 [==============================] - 2s 2ms/step - loss: 1.0407 - dense_10_loss: 7.3860e-04 - dense_12_loss: 1.0400 - dense_10_acc: 0.6160 - dense_12_acc: 0.7400\n",
      "Match: 0.4839285612106323\n",
      "Epoch 1/1\n",
      "1000/1000 [==============================] - 2s 2ms/step - loss: 1.1046 - dense_10_loss: 6.3131e-04 - dense_12_loss: 1.1040 - dense_10_acc: 0.6100 - dense_12_acc: 0.7240\n",
      "Match: 0.4937500059604645\n",
      "Epoch 1/1\n",
      "1000/1000 [==============================] - 2s 2ms/step - loss: 1.0166 - dense_10_loss: 6.3379e-04 - dense_12_loss: 1.0160 - dense_10_acc: 0.5970 - dense_12_acc: 0.7460\n",
      "Match: 0.48303571343421936\n",
      "Epoch 1/1\n",
      "1000/1000 [==============================] - 2s 2ms/step - loss: 1.0767 - dense_10_loss: 7.2083e-04 - dense_12_loss: 1.0760 - dense_10_acc: 0.6380 - dense_12_acc: 0.7310\n",
      "Match: 0.4749999940395355\n",
      "Epoch 1/1\n",
      "1000/1000 [==============================] - 2s 2ms/step - loss: 1.0962 - dense_10_loss: 7.3553e-04 - dense_12_loss: 1.0955 - dense_10_acc: 0.6230 - dense_12_acc: 0.7260\n",
      "Match: 0.4928571283817291\n",
      "Epoch 1/1\n",
      "1000/1000 [==============================] - 2s 2ms/step - loss: 1.0367 - dense_10_loss: 6.8425e-04 - dense_12_loss: 1.0360 - dense_10_acc: 0.6080 - dense_12_acc: 0.7410\n",
      "Match: 0.49196428060531616\n",
      "Epoch 1/1\n",
      "1000/1000 [==============================] - 2s 2ms/step - loss: 1.0808 - dense_10_loss: 8.1134e-04 - dense_12_loss: 1.0800 - dense_10_acc: 0.6220 - dense_12_acc: 0.7300\n",
      "Match: 0.4892857074737549\n",
      "Epoch 1/1\n",
      "1000/1000 [==============================] - 2s 2ms/step - loss: 1.1565 - dense_10_loss: 7.1281e-04 - dense_12_loss: 1.1558 - dense_10_acc: 0.5970 - dense_12_acc: 0.7110\n",
      "Match: 0.4928571283817291\n",
      "Epoch 1/1\n",
      "1000/1000 [==============================] - 2s 2ms/step - loss: 1.1527 - dense_10_loss: 7.7600e-04 - dense_12_loss: 1.1519 - dense_10_acc: 0.6200 - dense_12_acc: 0.7120\n",
      "Match: 0.49196428060531616\n",
      "Epoch 1/1\n",
      "1000/1000 [==============================] - 2s 2ms/step - loss: 1.1646 - dense_10_loss: 7.0587e-04 - dense_12_loss: 1.1638 - dense_10_acc: 0.6450 - dense_12_acc: 0.7090\n",
      "Match: 0.4848214387893677\n",
      "Epoch 1/1\n",
      "1000/1000 [==============================] - 2s 2ms/step - loss: 1.0087 - dense_10_loss: 7.0828e-04 - dense_12_loss: 1.0080 - dense_10_acc: 0.6290 - dense_12_acc: 0.7480\n",
      "Match: 0.48303571343421936\n",
      "Epoch 1/1\n",
      "1000/1000 [==============================] - 3s 3ms/step - loss: 1.0728 - dense_10_loss: 7.5809e-04 - dense_12_loss: 1.0720 - dense_10_acc: 0.6230 - dense_12_acc: 0.7320\n",
      "Match: 0.4892857074737549\n",
      "Epoch 1/1\n",
      "1000/1000 [==============================] - 2s 2ms/step - loss: 1.1007 - dense_10_loss: 6.7342e-04 - dense_12_loss: 1.1000 - dense_10_acc: 0.6090 - dense_12_acc: 0.7250\n",
      "Match: 0.4758928716182709\n",
      "Epoch 1/1\n",
      "1000/1000 [==============================] - 2s 2ms/step - loss: 1.1127 - dense_10_loss: 6.6857e-04 - dense_12_loss: 1.1120 - dense_10_acc: 0.5870 - dense_12_acc: 0.7220\n",
      "Match: 0.47857141494750977\n",
      "Epoch 1/1\n",
      "1000/1000 [==============================] - 2s 2ms/step - loss: 1.0847 - dense_10_loss: 7.0873e-04 - dense_12_loss: 1.0840 - dense_10_acc: 0.5950 - dense_12_acc: 0.7290\n",
      "Match: 0.47678571939468384\n",
      "Epoch 1/1\n",
      "1000/1000 [==============================] - 2s 2ms/step - loss: 1.1168 - dense_10_loss: 7.5673e-04 - dense_12_loss: 1.1160 - dense_10_acc: 0.6230 - dense_12_acc: 0.7210\n",
      "Match: 0.47857141494750977\n",
      "Epoch 1/1\n",
      "1000/1000 [==============================] - 2s 2ms/step - loss: 1.0727 - dense_10_loss: 7.4872e-04 - dense_12_loss: 1.0720 - dense_10_acc: 0.6240 - dense_12_acc: 0.7320\n",
      "Match: 0.4803571403026581\n",
      "Epoch 1/1\n",
      "1000/1000 [==============================] - 2s 2ms/step - loss: 1.0807 - dense_10_loss: 6.8431e-04 - dense_12_loss: 1.0800 - dense_10_acc: 0.6440 - dense_12_acc: 0.7300\n",
      "Match: 0.4749999940395355\n"
     ]
    },
    {
     "name": "stderr",
     "output_type": "stream",
     "text": [
      "100%|██████████| 1/1 [50:32<00:00, 3032.12s/it]"
     ]
    },
    {
     "name": "stdout",
     "output_type": "stream",
     "text": [
      "{'episodes': 75, 'mcts_sims': 40, 'objective_opponent': False, 'storage_size': 10000, 'sample_size': 1000, 'hidden_neurons': 128, 'model': 'Keras'} 0.04285714402794838\n"
     ]
    },
    {
     "name": "stderr",
     "output_type": "stream",
     "text": [
      "\n"
     ]
    }
   ],
   "source": [
    "variables= {\"episodes\": [75], \"mcts_sims\": [40], \"objective_opponent\": [False], \"storage_size\": [10000], \"sample_size\": [1000], \"hidden_neurons\": [128], \"model\": [\"Keras\"]}\n",
    "\n",
    "results = []\n",
    "n = 1\n",
    "best_models = []\n",
    "\n",
    "for combination in tqdm(create_grid_search(variables)):\n",
    "    summary_writer = tf.summary.FileWriter(\"./results/sgd-e-1-fix1000\" + str(combination) + \" (try 0)\")\n",
    "    score = 0\n",
    "    for i in range(n):\n",
    "        env = WattenEnv()\n",
    "        if combination[\"model\"] is \"Keras\":\n",
    "            model = KerasModel(combination[\"hidden_neurons\"])#LookUp()\n",
    "            best_model = KerasModel(combination[\"hidden_neurons\"])#LookUp()\n",
    "            train_model = KerasModel(combination[\"hidden_neurons\"])#LookUp()\n",
    "        else:\n",
    "            model = TinyDnnModel(combination[\"hidden_neurons\"])#LookUp()\n",
    "            best_model = TinyDnnModel(combination[\"hidden_neurons\"])#LookUp()\n",
    "            train_model = TinyDnnModel(combination[\"hidden_neurons\"])#LookUp()\n",
    "        train_model.copy_weights_from(model)\n",
    "        best_model.copy_weights_from(model)\n",
    "        storage = Storage(combination[\"storage_size\"])\n",
    "        mcts = MCTS(combination[\"episodes\"], combination[\"mcts_sims\"], combination[\"objective_opponent\"])\n",
    "        rating = ModelRating(env)\n",
    "        game = Game(env)\n",
    "        score += train(env, model, train_model, best_model, storage, mcts, game, rating, combination[\"sample_size\"], summary_writer)\n",
    "    results.append([combination, score / n])\n",
    "    best_models.append(best_model)\n",
    "for result in results:\n",
    "    print(result[0], result[1])"
   ]
  },
  {
   "cell_type": "code",
   "execution_count": 14,
   "metadata": {},
   "outputs": [
    {
     "name": "stdout",
     "output_type": "stream",
     "text": [
      "0 4\n",
      "1 1\n",
      "2 8\n",
      "3 13\n",
      "4 9\n",
      "5 20\n",
      "6 10\n",
      "7 17\n",
      "8 1\n",
      "9 1\n",
      "10 11\n",
      "11 10\n",
      "12 11\n",
      "13 19\n",
      "14 12\n",
      "15 19\n",
      "16 0\n",
      "17 5\n",
      "18 12\n",
      "19 17\n",
      "20 12\n",
      "21 21\n",
      "22 6\n",
      "23 23\n"
     ]
    }
   ],
   "source": [
    "for i in range(len(best_models)):\n",
    "    wins = 0\n",
    "    for j in range(len(best_models)):\n",
    "        if game.compare_given_games(best_models[i], best_models[j], rating) > 0.5:\n",
    "            wins += 1\n",
    "    print(i, wins)"
   ]
  },
  {
   "cell_type": "code",
   "execution_count": 10,
   "metadata": {},
   "outputs": [],
   "source": [
    "%%cython -f -I . -L . -L /home/domin/.local/lib/python3.6/site-packages -I /home/domin/.local/lib/python3.6/site-packages  --cplus \n",
    "\n",
    "from src.KerasModel cimport KerasModel\n",
    "\n",
    "cpdef void save(KerasModel m):\n",
    "    m.model.save('modelDenseFinal.h5')"
   ]
  },
  {
   "cell_type": "code",
   "execution_count": 11,
   "metadata": {},
   "outputs": [],
   "source": [
    "save(best_models[0])"
   ]
  },
  {
   "cell_type": "code",
   "execution_count": 11,
   "metadata": {},
   "outputs": [],
   "source": [
    "%%cython -f -I . -L . -L /home/domin/.local/lib/python3.6/site-packages -I /home/domin/.local/lib/python3.6/site-packages  --cplus \n",
    "\n",
    "from src.MCTS cimport MCTS, Storage, MCTSState\n",
    "from src.LookUp cimport LookUp, ModelOutput\n",
    "from src.ModelRating cimport ModelRating\n",
    "from src.Game cimport Game\n",
    "from gym_watten.envs.watten_env cimport WattenEnv, Observation\n",
    "from IPython.display import clear_output\n",
    "from libcpp.vector cimport vector\n",
    "\n",
    "cpdef void show_flaws(WattenEnv env, LookUp model, LookUp better_model, ModelRating rating, int start=0):\n",
    "    cdef Observation obs\n",
    "    cdef ModelOutput output, better_output\n",
    "    cdef int step, better_step\n",
    "    \n",
    "    for g in range(start, rating.eval_games.size()):  \n",
    "        env.reset()\n",
    "        env.set_state(&rating.eval_games[g])\n",
    "        env.regenerate_obs(&obs)\n",
    "    \n",
    "        model.predict_single(&obs, &output)\n",
    "        step = model.valid_step(output.p, &env.players[env.current_player].hand_cards)\n",
    "        \n",
    "        better_model.predict_single(&obs, &better_output)\n",
    "        better_step = better_model.valid_step(better_output.p, &env.players[env.current_player].hand_cards)\n",
    "        \n",
    "        if better_step != step:\n",
    "            env.render('human')\n",
    "            print(g, step, better_step, output.p, better_output.p)\n",
    "            break\n",
    "            \n",
    "cpdef void analyse(WattenEnv env, LookUp model, MCTS mcts, ModelRating rating, int game_id, draw=True):\n",
    "    env.reset()\n",
    "    env.set_state(&rating.eval_games[game_id])\n",
    "    #env.step(0)\n",
    "    #env.step(4)\n",
    "    #env.step(2)\n",
    "    #env.step(1)\n",
    "    env.render('human')\n",
    "    #print(env.is_done())\n",
    "    mcts.objective_opponent = True\n",
    "    \n",
    "    cdef MCTSState root = mcts.create_root_state(env)\n",
    "    cdef vector[float] p\n",
    "    mcts.mcts_game_step(env, &root, model, &p, 40)\n",
    "    print(p)\n",
    "    \n",
    "    if draw:\n",
    "        mcts.draw_tree(&root, 6)\n",
    "\n",
    "cpdef void run(WattenEnv env, LookUp model, ModelRating rating, int game_id):\n",
    "    cdef Observation obs\n",
    "    cdef ModelOutput output\n",
    "    \n",
    "    env.reset()\n",
    "    env.set_state(&rating.eval_games[game_id])\n",
    "    env.regenerate_obs(&obs)\n",
    "    \n",
    "    model.predict_single(&obs, &output)\n",
    "    print(output.p)"
   ]
  },
  {
   "cell_type": "code",
   "execution_count": 32,
   "metadata": {},
   "outputs": [
    {
     "name": "stdout",
     "output_type": "stream",
     "text": [
      "60 3 2 [0.30431854724884033, 0.0, 0.28242039680480957, 0.41326066851615906, 0.0, 0.0, 0.0, 0.0, 0.0, 0.0, 0.0, 0.0, 0.0, 0.0, 0.0, 0.0, 0.0, 0.0, 0.0, 0.0, 0.0, 0.0, 0.0, 0.0, 0.0, 0.0, 0.0, 0.0, 0.0, 0.0, 0.0, 0.0] [0.302650511264801, 0.0, 0.41321861743927, 0.28413063287734985, 0.0, 0.0, 0.0, 0.0, 0.0, 0.0, 0.0, 0.0, 0.0, 0.0, 0.0, 0.0, 0.0, 0.0, 0.0, 0.0, 0.0, 0.0, 0.0, 0.0, 0.0, 0.0, 0.0, 0.0, 0.0, 0.0, 0.0, 0.0]\n"
     ]
    }
   ],
   "source": [
    "show_flaws(env, best_models[10], best_models[11], rating, 20)"
   ]
  },
  {
   "cell_type": "code",
   "execution_count": 12,
   "metadata": {},
   "outputs": [
    {
     "name": "stdout",
     "output_type": "stream",
     "text": [
      "[0.42824968695640564, 0.32129472494125366, 0.2504556179046631]\n",
      "[0.31789714097976685, 0.37508949637413025, 0.3070133626461029]\n",
      "[0.4029049277305603, 0.2813130021095276, 0.3157820701599121]\n",
      "[0.4055160582065582, 0.3133985996246338, 0.281085342168808]\n",
      "[0.3218088448047638, 0.3863930106163025, 0.29179811477661133]\n",
      "[0.40328505635261536, 0.25039905309677124, 0.3463159203529358]\n",
      "[0.40066438913345337, 0.16118615865707397, 0.43814942240715027]\n",
      "[0.4009774327278137, 0.16110198199748993, 0.43792060017585754]\n",
      "[0.24658171832561493, 0.2084484100341797, 0.5449698567390442]\n",
      "[0.22409316897392273, 0.21404504776000977, 0.5618617534637451]\n"
     ]
    }
   ],
   "source": [
    "for i in range(60, 70):\n",
    "    analyse(env, best_models[2], mcts, rating, i, False)"
   ]
  },
  {
   "cell_type": "code",
   "execution_count": 13,
   "metadata": {},
   "outputs": [
    {
     "name": "stdout",
     "output_type": "stream",
     "text": [
      "[0.2822434902191162, 0.4731760025024414, 0.24458058178424835]\n"
     ]
    },
    {
     "data": {
      "application/vnd.jupyter.widget-view+json": {
       "model_id": "a737ef0f2eea46978bea25c27785e7da",
       "version_major": 2,
       "version_minor": 0
      },
      "text/html": [
       "<p>Failed to display Jupyter Widget of type <code>FigureCanvasNbAgg</code>.</p>\n",
       "<p>\n",
       "  If you're reading this message in the Jupyter Notebook or JupyterLab Notebook, it may mean\n",
       "  that the widgets JavaScript is still loading. If this message persists, it\n",
       "  likely means that the widgets JavaScript library is either not installed or\n",
       "  not enabled. See the <a href=\"https://ipywidgets.readthedocs.io/en/stable/user_install.html\">Jupyter\n",
       "  Widgets Documentation</a> for setup instructions.\n",
       "</p>\n",
       "<p>\n",
       "  If you're reading this message in another frontend (for example, a static\n",
       "  rendering on GitHub or <a href=\"https://nbviewer.jupyter.org/\">NBViewer</a>),\n",
       "  it may mean that your frontend doesn't currently support widgets.\n",
       "</p>\n"
      ],
      "text/plain": [
       "FigureCanvasNbAgg()"
      ]
     },
     "metadata": {},
     "output_type": "display_data"
    }
   ],
   "source": [
    "analyse(env, best_models[2], mcts, rating, 61)"
   ]
  },
  {
   "cell_type": "code",
   "execution_count": 23,
   "metadata": {},
   "outputs": [
    {
     "name": "stdout",
     "output_type": "stream",
     "text": [
      "[0.2860535979270935, 0.0, 0.3563016653060913, 0.35764503479003906, 0.0, 0.0, 0.0, 0.0, 0.0, 0.0, 0.0, 0.0, 0.0, 0.0, 0.0, 0.0, 0.0, 0.0, 0.0, 0.0, 0.0, 0.0, 0.0, 0.0, 0.0, 0.0, 0.0, 0.0, 0.0, 0.0, 0.0, 0.0]\n"
     ]
    }
   ],
   "source": [
    "run(env, best_models[7], rating, 69)"
   ]
  },
  {
   "cell_type": "code",
   "execution_count": null,
   "metadata": {},
   "outputs": [],
   "source": [
    "env = WattenEnv()\n",
    "model = LookUp()\n",
    "best_model = LookUp()\n",
    "storage = Storage()\n",
    "mcts = MCTS()\n",
    "rating = ModelRating(env)\n",
    "game = Game(env)\n",
    "\n",
    "mcts.mcts_generate(env, model, storage)\n",
    "model.memorize_storage(storage)\n",
    "game.compare_given_games(model, best_model, rating)\n",
    "rating.calc_exploitability(model)"
   ]
  },
  {
   "cell_type": "code",
   "execution_count": 4,
   "metadata": {},
   "outputs": [
    {
     "ename": "NameError",
     "evalue": "name 'game' is not defined",
     "output_type": "error",
     "traceback": [
      "\u001b[0;31m---------------------------------------------------------------------------\u001b[0m",
      "\u001b[0;31mNameError\u001b[0m                                 Traceback (most recent call last)",
      "\u001b[0;32m<ipython-input-4-7f934aafac6d>\u001b[0m in \u001b[0;36m<module>\u001b[0;34m()\u001b[0m\n\u001b[1;32m      1\u001b[0m \u001b[0;32mfor\u001b[0m \u001b[0mi\u001b[0m \u001b[0;32min\u001b[0m \u001b[0mrange\u001b[0m\u001b[0;34m(\u001b[0m\u001b[0;36m10\u001b[0m\u001b[0;34m)\u001b[0m\u001b[0;34m:\u001b[0m\u001b[0;34m\u001b[0m\u001b[0m\n\u001b[0;32m----> 2\u001b[0;31m     \u001b[0mprint\u001b[0m\u001b[0;34m(\u001b[0m\u001b[0mgame\u001b[0m\u001b[0;34m.\u001b[0m\u001b[0mcompare_given_games\u001b[0m\u001b[0;34m(\u001b[0m\u001b[0mbest_models\u001b[0m\u001b[0;34m[\u001b[0m\u001b[0;36m0\u001b[0m\u001b[0;34m]\u001b[0m\u001b[0;34m,\u001b[0m \u001b[0mbest_models\u001b[0m\u001b[0;34m[\u001b[0m\u001b[0mi\u001b[0m\u001b[0;34m]\u001b[0m\u001b[0;34m,\u001b[0m \u001b[0mrating\u001b[0m\u001b[0;34m)\u001b[0m\u001b[0;34m)\u001b[0m\u001b[0;34m\u001b[0m\u001b[0m\n\u001b[0m",
      "\u001b[0;31mNameError\u001b[0m: name 'game' is not defined"
     ]
    }
   ],
   "source": [
    "for i in range(10):\n",
    "    print(game.compare_given_games(best_models[0], best_models[i], rating, False))"
   ]
  },
  {
   "cell_type": "code",
   "execution_count": 25,
   "metadata": {},
   "outputs": [
    {
     "data": {
      "text/plain": [
       "0.06607142835855484"
      ]
     },
     "execution_count": 25,
     "metadata": {},
     "output_type": "execute_result"
    }
   ],
   "source": [
    "rating.calc_exploitability(best_model)"
   ]
  },
  {
   "cell_type": "code",
   "execution_count": 4,
   "metadata": {},
   "outputs": [
    {
     "data": {
      "text/plain": [
       "Timer unit: 1e-06 s\n",
       "\n",
       "Total time: 0.020369 s\n",
       "File: src/Game.pyx\n",
       "Function: match at line 16\n",
       "\n",
       "Line #      Hits         Time  Per Hit   % Time  Line Contents\n",
       "==============================================================\n",
       "    16                                               cpdef int match(self, LookUp agent1, LookUp agent2, bool render=False, bool reset=True):\n",
       "    17                                                   cdef Observation obs\n",
       "    18                                                   cdef ModelOutput output\n",
       "    19                                                   cdef int a\n",
       "    20      1120        696.0      0.6      3.4          if reset:\n",
       "    21                                                       self.env.reset(&obs)\n",
       "    22                                                   else:\n",
       "    23      1120        623.0      0.6      3.1              self.env.regenerate_obs(&obs)\n",
       "    24                                           \n",
       "    25      1120        560.0      0.5      2.7          while not self.env.is_done():\n",
       "    26      4720       2263.0      0.5     11.1              if self.env.current_player == 0:\n",
       "    27      2360       3927.0      1.7     19.3                  agent1.predict_single(&obs, &output)\n",
       "    28      2360       1308.0      0.6      6.4                  a = agent1.valid_step(output.p, &self.env.players[self.env.current_player].hand_cards)\n",
       "    29                                                       else:\n",
       "    30      2360       4001.0      1.7     19.6                  agent2.predict_single(&obs, &output)\n",
       "    31      2360       1274.0      0.5      6.3                  a = agent2.valid_step(output.p, &self.env.players[self.env.current_player].hand_cards)\n",
       "    32                                           \n",
       "    33      4720       2872.0      0.6     14.1              self.env.step(a, &obs)\n",
       "    34                                           \n",
       "    35      4720       2306.0      0.5     11.3              if render:\n",
       "    36                                                           self.env.render('human')\n",
       "    37                                                           sleep(2)\n",
       "    38                                                      # if env.lastTrick  is not None:\n",
       "    39                                                       #    break\n",
       "    40                                           \n",
       "    41      1120        539.0      0.5      2.6          return self.env.last_winner\n",
       "    42                                           \n",
       "    43                                               \"\"\"cdef float compare(self, LookUp agent1, LookUp agent2):\n",
       "    44                                                   cdef vector[LookUp] agents\n",
       "    45                                                   agents.push_back(agent1)\n",
       "    46                                                   agents.push_back(agent2)\n",
       "    47                                                   first_player_wins = 0\n",
       "    48                                           \n",
       "    49                                                   for i in range(10000):\n",
       "    50                                                       start_player = rand() % 2\n",
       "    51                                                       winner = self.match([agents[start_player], agents[1 - start_player]])\n",
       "    52                                                       first_player_wins += ((winner == 0) == (start_player == 0))\n",
       "    53                                                       #print(start_player, winner)\n",
       "    54                                           \n",
       "    55                                                   return first_player_wins / 10000\"\"\"\n",
       "    56                                           \n",
       "    57                                               cpdef float compare_given_games(self, LookUp agent1, LookUp agent2, ModelRating rating):\n",
       "    58                                                   cdef int i, first_player_wins, winner, start_player\n",
       "    59                                                   first_player_wins = 0\n",
       "    60                                           \n",
       "    61                                                   for i in range(rating.eval_games.size()):\n",
       "    62                                                       for start_player in range(2):\n",
       "    63                                                           self.env.set_state(&rating.eval_games[i])\n",
       "    64                                                           self.env.current_player = start_player\n",
       "    65                                                           winner = self.match(agent1, agent2, render=False, reset=False)\n",
       "    66                                                           first_player_wins += (winner == 0)\n",
       "    67                                           \n",
       "    68                                                   return <float>first_player_wins / (rating.eval_games.size() * 2)\n",
       "    69                                           \n",
       "    70                                               def test(self):\n",
       "    71                                                   pass"
      ]
     },
     "metadata": {},
     "output_type": "display_data"
    }
   ],
   "source": [
    "%lprun -f game.match game.compare_given_games(model, best_model, rating)"
   ]
  },
  {
   "cell_type": "code",
   "execution_count": 4,
   "metadata": {},
   "outputs": [
    {
     "name": "stdout",
     "output_type": "stream",
     "text": [
      "Sat Mar 24 00:38:45 2018    Profile.prof\n",
      "\n",
      "         4 function calls in 0.007 seconds\n",
      "\n",
      "   Random listing order was used\n",
      "\n",
      "   ncalls  tottime  percall  cumtime  percall filename:lineno(function)\n",
      "        1    0.000    0.000    0.007    0.007 {built-in method builtins.exec}\n",
      "        1    0.007    0.007    0.007    0.007 {method 'compare_given_games' of 'src.Game.Game' objects}\n",
      "        1    0.000    0.000    0.000    0.000 {method 'disable' of '_lsprof.Profiler' objects}\n",
      "        1    0.000    0.000    0.007    0.007 <string>:1(<module>)\n",
      "\n",
      "\n"
     ]
    },
    {
     "data": {
      "text/plain": [
       "<pstats.Stats at 0x7f680c15bc88>"
      ]
     },
     "execution_count": 4,
     "metadata": {},
     "output_type": "execute_result"
    }
   ],
   "source": [
    "import pstats, cProfile\n",
    "\n",
    "cProfile.runctx(\"game.compare_given_games(model, best_model, rating)\", globals(), locals(), \"Profile.prof\")\n",
    "\n",
    "s = pstats.Stats(\"Profile.prof\")\n",
    "s.print_stats()"
   ]
  },
  {
   "cell_type": "code",
   "execution_count": 5,
   "metadata": {},
   "outputs": [
    {
     "name": "stderr",
     "output_type": "stream",
     "text": [
      "/usr/local/lib/python3.6/dist-packages/line_profiler.py:321: UserWarning: Could not extract a code object for the object 'mcts.mcts_sample'\n",
      "  profile = LineProfiler(*funcs)\n"
     ]
    },
    {
     "ename": "NameError",
     "evalue": "name 'train' is not defined",
     "output_type": "error",
     "traceback": [
      "\u001b[0;31m---------------------------------------------------------------------------\u001b[0m",
      "\u001b[0;31mNameError\u001b[0m                                 Traceback (most recent call last)",
      "\u001b[0;32m<ipython-input-5-f70d8ba2d533>\u001b[0m in \u001b[0;36m<module>\u001b[0;34m()\u001b[0m\n\u001b[0;32m----> 1\u001b[0;31m \u001b[0mget_ipython\u001b[0m\u001b[0;34m(\u001b[0m\u001b[0;34m)\u001b[0m\u001b[0;34m.\u001b[0m\u001b[0mrun_line_magic\u001b[0m\u001b[0;34m(\u001b[0m\u001b[0;34m'lprun'\u001b[0m\u001b[0;34m,\u001b[0m \u001b[0;34m'-f \"mcts.mcts_sample\" train(env, model, storage, mcts)'\u001b[0m\u001b[0;34m)\u001b[0m\u001b[0;34m\u001b[0m\u001b[0m\n\u001b[0m",
      "\u001b[0;32m/usr/local/lib/python3.6/dist-packages/IPython/core/interactiveshell.py\u001b[0m in \u001b[0;36mrun_line_magic\u001b[0;34m(self, magic_name, line, _stack_depth)\u001b[0m\n\u001b[1;32m   2093\u001b[0m                 \u001b[0mkwargs\u001b[0m\u001b[0;34m[\u001b[0m\u001b[0;34m'local_ns'\u001b[0m\u001b[0;34m]\u001b[0m \u001b[0;34m=\u001b[0m \u001b[0msys\u001b[0m\u001b[0;34m.\u001b[0m\u001b[0m_getframe\u001b[0m\u001b[0;34m(\u001b[0m\u001b[0mstack_depth\u001b[0m\u001b[0;34m)\u001b[0m\u001b[0;34m.\u001b[0m\u001b[0mf_locals\u001b[0m\u001b[0;34m\u001b[0m\u001b[0m\n\u001b[1;32m   2094\u001b[0m             \u001b[0;32mwith\u001b[0m \u001b[0mself\u001b[0m\u001b[0;34m.\u001b[0m\u001b[0mbuiltin_trap\u001b[0m\u001b[0;34m:\u001b[0m\u001b[0;34m\u001b[0m\u001b[0m\n\u001b[0;32m-> 2095\u001b[0;31m                 \u001b[0mresult\u001b[0m \u001b[0;34m=\u001b[0m \u001b[0mfn\u001b[0m\u001b[0;34m(\u001b[0m\u001b[0;34m*\u001b[0m\u001b[0margs\u001b[0m\u001b[0;34m,\u001b[0m\u001b[0;34m**\u001b[0m\u001b[0mkwargs\u001b[0m\u001b[0;34m)\u001b[0m\u001b[0;34m\u001b[0m\u001b[0m\n\u001b[0m\u001b[1;32m   2096\u001b[0m             \u001b[0;32mreturn\u001b[0m \u001b[0mresult\u001b[0m\u001b[0;34m\u001b[0m\u001b[0m\n\u001b[1;32m   2097\u001b[0m \u001b[0;34m\u001b[0m\u001b[0m\n",
      "\u001b[0;32m<decorator-gen-125>\u001b[0m in \u001b[0;36mlprun\u001b[0;34m(self, parameter_s)\u001b[0m\n",
      "\u001b[0;32m/usr/local/lib/python3.6/dist-packages/IPython/core/magic.py\u001b[0m in \u001b[0;36m<lambda>\u001b[0;34m(f, *a, **k)\u001b[0m\n\u001b[1;32m    185\u001b[0m     \u001b[0;31m# but it's overkill for just that one bit of state.\u001b[0m\u001b[0;34m\u001b[0m\u001b[0;34m\u001b[0m\u001b[0m\n\u001b[1;32m    186\u001b[0m     \u001b[0;32mdef\u001b[0m \u001b[0mmagic_deco\u001b[0m\u001b[0;34m(\u001b[0m\u001b[0marg\u001b[0m\u001b[0;34m)\u001b[0m\u001b[0;34m:\u001b[0m\u001b[0;34m\u001b[0m\u001b[0m\n\u001b[0;32m--> 187\u001b[0;31m         \u001b[0mcall\u001b[0m \u001b[0;34m=\u001b[0m \u001b[0;32mlambda\u001b[0m \u001b[0mf\u001b[0m\u001b[0;34m,\u001b[0m \u001b[0;34m*\u001b[0m\u001b[0ma\u001b[0m\u001b[0;34m,\u001b[0m \u001b[0;34m**\u001b[0m\u001b[0mk\u001b[0m\u001b[0;34m:\u001b[0m \u001b[0mf\u001b[0m\u001b[0;34m(\u001b[0m\u001b[0;34m*\u001b[0m\u001b[0ma\u001b[0m\u001b[0;34m,\u001b[0m \u001b[0;34m**\u001b[0m\u001b[0mk\u001b[0m\u001b[0;34m)\u001b[0m\u001b[0;34m\u001b[0m\u001b[0m\n\u001b[0m\u001b[1;32m    188\u001b[0m \u001b[0;34m\u001b[0m\u001b[0m\n\u001b[1;32m    189\u001b[0m         \u001b[0;32mif\u001b[0m \u001b[0mcallable\u001b[0m\u001b[0;34m(\u001b[0m\u001b[0marg\u001b[0m\u001b[0;34m)\u001b[0m\u001b[0;34m:\u001b[0m\u001b[0;34m\u001b[0m\u001b[0m\n",
      "\u001b[0;32m/usr/local/lib/python3.6/dist-packages/line_profiler.py\u001b[0m in \u001b[0;36mlprun\u001b[0;34m(self, parameter_s)\u001b[0m\n\u001b[1;32m    354\u001b[0m         \u001b[0;32mtry\u001b[0m\u001b[0;34m:\u001b[0m\u001b[0;34m\u001b[0m\u001b[0m\n\u001b[1;32m    355\u001b[0m             \u001b[0;32mtry\u001b[0m\u001b[0;34m:\u001b[0m\u001b[0;34m\u001b[0m\u001b[0m\n\u001b[0;32m--> 356\u001b[0;31m                 \u001b[0mprofile\u001b[0m\u001b[0;34m.\u001b[0m\u001b[0mrunctx\u001b[0m\u001b[0;34m(\u001b[0m\u001b[0marg_str\u001b[0m\u001b[0;34m,\u001b[0m \u001b[0mglobal_ns\u001b[0m\u001b[0;34m,\u001b[0m \u001b[0mlocal_ns\u001b[0m\u001b[0;34m)\u001b[0m\u001b[0;34m\u001b[0m\u001b[0m\n\u001b[0m\u001b[1;32m    357\u001b[0m                 \u001b[0mmessage\u001b[0m \u001b[0;34m=\u001b[0m \u001b[0;34m''\u001b[0m\u001b[0;34m\u001b[0m\u001b[0m\n\u001b[1;32m    358\u001b[0m             \u001b[0;32mexcept\u001b[0m \u001b[0mSystemExit\u001b[0m\u001b[0;34m:\u001b[0m\u001b[0;34m\u001b[0m\u001b[0m\n",
      "\u001b[0;32m/usr/local/lib/python3.6/dist-packages/line_profiler.py\u001b[0m in \u001b[0;36mrunctx\u001b[0;34m(self, cmd, globals, locals)\u001b[0m\n\u001b[1;32m    149\u001b[0m         \u001b[0mself\u001b[0m\u001b[0;34m.\u001b[0m\u001b[0menable_by_count\u001b[0m\u001b[0;34m(\u001b[0m\u001b[0;34m)\u001b[0m\u001b[0;34m\u001b[0m\u001b[0m\n\u001b[1;32m    150\u001b[0m         \u001b[0;32mtry\u001b[0m\u001b[0;34m:\u001b[0m\u001b[0;34m\u001b[0m\u001b[0m\n\u001b[0;32m--> 151\u001b[0;31m             \u001b[0mexec_\u001b[0m\u001b[0;34m(\u001b[0m\u001b[0mcmd\u001b[0m\u001b[0;34m,\u001b[0m \u001b[0mglobals\u001b[0m\u001b[0;34m,\u001b[0m \u001b[0mlocals\u001b[0m\u001b[0;34m)\u001b[0m\u001b[0;34m\u001b[0m\u001b[0m\n\u001b[0m\u001b[1;32m    152\u001b[0m         \u001b[0;32mfinally\u001b[0m\u001b[0;34m:\u001b[0m\u001b[0;34m\u001b[0m\u001b[0m\n\u001b[1;32m    153\u001b[0m             \u001b[0mself\u001b[0m\u001b[0;34m.\u001b[0m\u001b[0mdisable_by_count\u001b[0m\u001b[0;34m(\u001b[0m\u001b[0;34m)\u001b[0m\u001b[0;34m\u001b[0m\u001b[0m\n",
      "\u001b[0;32m<string>\u001b[0m in \u001b[0;36m<module>\u001b[0;34m()\u001b[0m\n",
      "\u001b[0;31mNameError\u001b[0m: name 'train' is not defined"
     ]
    }
   ],
   "source": [
    "%lprun -f \"mcts.mcts_sample\" train(env, model, storage, mcts)"
   ]
  },
  {
   "cell_type": "code",
   "execution_count": 62,
   "metadata": {},
   "outputs": [],
   "source": [
    "model.set_weights(trained_model.get_weights())"
   ]
  },
  {
   "cell_type": "code",
   "execution_count": 92,
   "metadata": {},
   "outputs": [
    {
     "data": {
      "text/plain": [
       "0.690327380952381"
      ]
     },
     "execution_count": 92,
     "metadata": {},
     "output_type": "execute_result"
    }
   ],
   "source": [
    "eval(models[1], eval_games)"
   ]
  },
  {
   "cell_type": "code",
   "execution_count": 272,
   "metadata": {},
   "outputs": [
    {
     "data": {
      "text/plain": [
       "[0.02589285714285713]"
      ]
     },
     "execution_count": 272,
     "metadata": {},
     "output_type": "execute_result"
    }
   ],
   "source": [
    "all_eval_scores"
   ]
  },
  {
   "cell_type": "code",
   "execution_count": 251,
   "metadata": {},
   "outputs": [
    {
     "data": {
      "text/plain": [
       "array([1.])"
      ]
     },
     "execution_count": 251,
     "metadata": {},
     "output_type": "execute_result"
    }
   ],
   "source": [
    "sample_outputs[1][9]"
   ]
  },
  {
   "cell_type": "code",
   "execution_count": 209,
   "metadata": {},
   "outputs": [
    {
     "data": {
      "text/plain": [
       "0.5410714285714285"
      ]
     },
     "execution_count": 209,
     "metadata": {},
     "output_type": "execute_result"
    }
   ],
   "source": [
    "compare_given_games(model, first_model, eval_games)"
   ]
  },
  {
   "cell_type": "code",
   "execution_count": 200,
   "metadata": {},
   "outputs": [
    {
     "ename": "NameError",
     "evalue": "name 'train_inputs' is not defined",
     "output_type": "error",
     "traceback": [
      "\u001b[0;31m---------------------------------------------------------------------------\u001b[0m",
      "\u001b[0;31mNameError\u001b[0m                                 Traceback (most recent call last)",
      "\u001b[0;32m<ipython-input-200-aa729d99c6ca>\u001b[0m in \u001b[0;36m<module>\u001b[0;34m()\u001b[0m\n\u001b[0;32m----> 1\u001b[0;31m \u001b[0mmodel\u001b[0m\u001b[0;34m.\u001b[0m\u001b[0mpredict_single\u001b[0m\u001b[0;34m(\u001b[0m\u001b[0;34m[\u001b[0m\u001b[0mtrain_inputs\u001b[0m\u001b[0;34m[\u001b[0m\u001b[0;36m0\u001b[0m\u001b[0;34m]\u001b[0m\u001b[0;34m[\u001b[0m\u001b[0mnext_index\u001b[0m \u001b[0;34m-\u001b[0m \u001b[0;36m2\u001b[0m\u001b[0;34m]\u001b[0m\u001b[0;34m,\u001b[0m \u001b[0mtrain_inputs\u001b[0m\u001b[0;34m[\u001b[0m\u001b[0;36m1\u001b[0m\u001b[0;34m]\u001b[0m\u001b[0;34m[\u001b[0m\u001b[0mnext_index\u001b[0m \u001b[0;34m-\u001b[0m \u001b[0;36m2\u001b[0m\u001b[0;34m]\u001b[0m\u001b[0;34m]\u001b[0m\u001b[0;34m)\u001b[0m\u001b[0;34m\u001b[0m\u001b[0m\n\u001b[0m",
      "\u001b[0;31mNameError\u001b[0m: name 'train_inputs' is not defined"
     ]
    }
   ],
   "source": [
    "model.predict_single([train_inputs[0][next_index - 2], train_inputs[1][next_index - 2]])"
   ]
  },
  {
   "cell_type": "code",
   "execution_count": 45,
   "metadata": {},
   "outputs": [
    {
     "data": {
      "text/plain": [
       "array([0.258651  , 0.        , 0.        , 0.        , 0.        ,\n",
       "       0.        , 0.        , 0.        , 0.        , 0.        ,\n",
       "       0.        , 0.27687292, 0.        , 0.        , 0.        ,\n",
       "       0.46447608, 0.        , 0.        , 0.        , 0.        ,\n",
       "       0.        , 0.        , 0.        , 0.        , 0.        ,\n",
       "       0.        , 0.        , 0.        , 0.        , 0.        ,\n",
       "       0.        , 0.        ])"
      ]
     },
     "execution_count": 45,
     "metadata": {},
     "output_type": "execute_result"
    }
   ],
   "source": [
    "train_outputs[0][next_index - 2]"
   ]
  },
  {
   "cell_type": "code",
   "execution_count": 46,
   "metadata": {},
   "outputs": [
    {
     "data": {
      "text/plain": [
       "array([[[0, 1],\n",
       "        [0, 0],\n",
       "        [0, 0],\n",
       "        [0, 0],\n",
       "        [0, 0],\n",
       "        [0, 0],\n",
       "        [0, 0],\n",
       "        [1, 0]],\n",
       "\n",
       "       [[1, 0],\n",
       "        [0, 0],\n",
       "        [0, 0],\n",
       "        [0, 0],\n",
       "        [1, 0],\n",
       "        [0, 0],\n",
       "        [0, 0],\n",
       "        [0, 0]],\n",
       "\n",
       "       [[0, 0],\n",
       "        [0, 0],\n",
       "        [0, 0],\n",
       "        [0, 0],\n",
       "        [0, 0],\n",
       "        [0, 0],\n",
       "        [0, 0],\n",
       "        [0, 0]],\n",
       "\n",
       "       [[0, 0],\n",
       "        [0, 0],\n",
       "        [0, 0],\n",
       "        [0, 0],\n",
       "        [0, 0],\n",
       "        [0, 0],\n",
       "        [0, 0],\n",
       "        [0, 0]]])"
      ]
     },
     "execution_count": 46,
     "metadata": {},
     "output_type": "execute_result"
    }
   ],
   "source": [
    "train_inputs[0][next_index - 2]"
   ]
  },
  {
   "cell_type": "code",
   "execution_count": 111,
   "metadata": {},
   "outputs": [],
   "source": [
    "test_model = build_model()"
   ]
  },
  {
   "cell_type": "code",
   "execution_count": 72,
   "metadata": {},
   "outputs": [],
   "source": [
    "K.set_value(test_model.optimizer.lr, 0.0001)"
   ]
  },
  {
   "cell_type": "code",
   "execution_count": 132,
   "metadata": {},
   "outputs": [
    {
     "name": "stdout",
     "output_type": "stream",
     "text": [
      "Epoch 1/10\n",
      "37764/37764 [==============================] - 1s 27us/step - loss: 0.6618 - dense_14_loss: 2.8052e-04 - dense_15_loss: 0.6615 - dense_14_acc: 0.5164 - dense_15_acc: 0.4518\n",
      "Epoch 2/10\n",
      "37764/37764 [==============================] - 1s 24us/step - loss: 0.6619 - dense_14_loss: 2.7928e-04 - dense_15_loss: 0.6616 - dense_14_acc: 0.5180 - dense_15_acc: 0.4519\n",
      "Epoch 3/10\n",
      "37764/37764 [==============================] - 1s 24us/step - loss: 0.6618 - dense_14_loss: 2.7612e-04 - dense_15_loss: 0.6616 - dense_14_acc: 0.5203 - dense_15_acc: 0.4518\n",
      "Epoch 4/10\n",
      "37764/37764 [==============================] - 1s 24us/step - loss: 0.6618 - dense_14_loss: 2.7579e-04 - dense_15_loss: 0.6615 - dense_14_acc: 0.5171 - dense_15_acc: 0.4513\n",
      "Epoch 5/10\n",
      "37764/37764 [==============================] - 1s 25us/step - loss: 0.6618 - dense_14_loss: 2.7352e-04 - dense_15_loss: 0.6615 - dense_14_acc: 0.5153 - dense_15_acc: 0.4513\n",
      "Epoch 6/10\n",
      "37764/37764 [==============================] - 1s 26us/step - loss: 0.6618 - dense_14_loss: 2.7305e-04 - dense_15_loss: 0.6616 - dense_14_acc: 0.5205 - dense_15_acc: 0.4518\n",
      "Epoch 7/10\n",
      "37764/37764 [==============================] - 1s 25us/step - loss: 0.6618 - dense_14_loss: 2.7032e-04 - dense_15_loss: 0.6615 - dense_14_acc: 0.5186 - dense_15_acc: 0.4522\n",
      "Epoch 8/10\n",
      "37764/37764 [==============================] - 1s 27us/step - loss: 0.6618 - dense_14_loss: 2.6888e-04 - dense_15_loss: 0.6615 - dense_14_acc: 0.5183 - dense_15_acc: 0.4515\n",
      "Epoch 9/10\n",
      "37764/37764 [==============================] - 1s 27us/step - loss: 0.6617 - dense_14_loss: 2.6399e-04 - dense_15_loss: 0.6615 - dense_14_acc: 0.5184 - dense_15_acc: 0.4523\n",
      "Epoch 10/10\n",
      "37764/37764 [==============================] - 1s 27us/step - loss: 0.6618 - dense_14_loss: 2.6460e-04 - dense_15_loss: 0.6615 - dense_14_acc: 0.5190 - dense_15_acc: 0.4518\n"
     ]
    },
    {
     "data": {
      "text/plain": [
       "<keras.callbacks.History at 0x7f44962f95f8>"
      ]
     },
     "execution_count": 132,
     "metadata": {},
     "output_type": "execute_result"
    }
   ],
   "source": [
    "test_model.fit([sample_inputs[0][:number_of_samples], sample_inputs[1][:number_of_samples]], [sample_outputs[0][:number_of_samples], sample_outputs[1][:number_of_samples]], epochs=10, batch_size=BATCH_SIZE)  "
   ]
  },
  {
   "cell_type": "code",
   "execution_count": 116,
   "metadata": {},
   "outputs": [
    {
     "data": {
      "text/plain": [
       "[array([0.0053017 , 0.0045248 , 0.00548624, 0.00582314, 0.0070843 ,\n",
       "        0.00583717, 0.00645116, 0.00290738, 0.00513383, 0.0056636 ,\n",
       "        0.331735  , 0.00607965, 0.0053452 , 0.00601907, 0.33392397,\n",
       "        0.0070668 , 0.00368037, 0.01111693, 0.00290891, 0.00334794,\n",
       "        0.00270144, 0.00335149, 0.00295761, 0.00356095, 0.00431994,\n",
       "        0.00539099, 0.00628497, 0.00557014, 0.3452927 , 0.00649954,\n",
       "        0.00652416, 0.00288056], dtype=float32),\n",
       " array([-0.81022185], dtype=float32)]"
      ]
     },
     "execution_count": 116,
     "metadata": {},
     "output_type": "execute_result"
    }
   ],
   "source": [
    "test_model.predict_single([sample_inputs[0][5], sample_inputs[1][5]])"
   ]
  },
  {
   "cell_type": "code",
   "execution_count": 110,
   "metadata": {},
   "outputs": [
    {
     "data": {
      "text/plain": [
       "37764"
      ]
     },
     "execution_count": 110,
     "metadata": {},
     "output_type": "execute_result"
    }
   ],
   "source": [
    "sample_outputs[0][10]"
   ]
  },
  {
   "cell_type": "code",
   "execution_count": 152,
   "metadata": {},
   "outputs": [
    {
     "data": {
      "text/plain": [
       "array([0.        , 0.23038077, 0.        , 0.        , 0.        ,\n",
       "       0.        , 0.        , 0.        , 0.        , 0.        ,\n",
       "       0.        , 0.        , 0.15442885, 0.        , 0.        ,\n",
       "       0.        , 0.        , 0.        , 0.        , 0.23038077,\n",
       "       0.        , 0.        , 0.        , 0.23038077, 0.        ,\n",
       "       0.        , 0.        , 0.        , 0.15442885, 0.        ,\n",
       "       0.        , 0.        ])"
      ]
     },
     "execution_count": 152,
     "metadata": {},
     "output_type": "execute_result"
    }
   ],
   "source": [
    "sample_outputs[0][10638]"
   ]
  },
  {
   "cell_type": "code",
   "execution_count": 97,
   "metadata": {},
   "outputs": [
    {
     "data": {
      "text/plain": [
       "0.127"
      ]
     },
     "execution_count": 97,
     "metadata": {},
     "output_type": "execute_result"
    }
   ],
   "source": [
    "eval(model, eval_cache_input, eval_cache_output)"
   ]
  },
  {
   "cell_type": "code",
   "execution_count": 133,
   "metadata": {},
   "outputs": [
    {
     "data": {
      "text/plain": [
       "0.8743247537337147"
      ]
     },
     "execution_count": 133,
     "metadata": {},
     "output_type": "execute_result"
    }
   ],
   "source": [
    "model_output = test_model.predict([sample_inputs[0][:number_of_samples], sample_inputs[1][:number_of_samples]])[0]\n",
    "a = np.argmax(model_output, axis=-1)\n",
    "k = np.equal(np.take(sample_outputs[0][:number_of_samples], np.argmax(sample_outputs[0][:number_of_samples], axis=-1)), np.take(sample_outputs[0][:number_of_samples], a)).sum()\n",
    "k / number_of_samples"
   ]
  },
  {
   "cell_type": "code",
   "execution_count": 102,
   "metadata": {},
   "outputs": [
    {
     "ename": "AttributeError",
     "evalue": "'LookUp' object has no attribute 'save'",
     "output_type": "error",
     "traceback": [
      "\u001b[0;31m---------------------------------------------------------------------------\u001b[0m",
      "\u001b[0;31mAttributeError\u001b[0m                            Traceback (most recent call last)",
      "\u001b[0;32m<ipython-input-102-51cb5e688689>\u001b[0m in \u001b[0;36m<module>\u001b[0;34m()\u001b[0m\n\u001b[0;32m----> 1\u001b[0;31m \u001b[0mmodel\u001b[0m\u001b[0;34m.\u001b[0m\u001b[0msave\u001b[0m\u001b[0;34m(\u001b[0m\u001b[0;34m'modelDense3.h5'\u001b[0m\u001b[0;34m)\u001b[0m\u001b[0;34m\u001b[0m\u001b[0m\n\u001b[0m",
      "\u001b[0;31mAttributeError\u001b[0m: 'LookUp' object has no attribute 'save'"
     ]
    }
   ],
   "source": [
    "model.save('modelDense3.h5')"
   ]
  },
  {
   "cell_type": "code",
   "execution_count": 82,
   "metadata": {},
   "outputs": [],
   "source": [
    "model.load_weights('modelDense2.h5')"
   ]
  },
  {
   "cell_type": "code",
   "execution_count": 97,
   "metadata": {},
   "outputs": [
    {
     "ename": "IndexError",
     "evalue": "list index out of range",
     "output_type": "error",
     "traceback": [
      "\u001b[0;31m---------------------------------------------------------------------------\u001b[0m",
      "\u001b[0;31mIndexError\u001b[0m                                Traceback (most recent call last)",
      "\u001b[0;32m<ipython-input-97-545214702627>\u001b[0m in \u001b[0;36m<module>\u001b[0;34m()\u001b[0m\n\u001b[0;32m----> 1\u001b[0;31m \u001b[0mcompare_given_games\u001b[0m\u001b[0;34m(\u001b[0m\u001b[0mbest_model\u001b[0m\u001b[0;34m,\u001b[0m \u001b[0mmodels\u001b[0m\u001b[0;34m[\u001b[0m\u001b[0;36m2\u001b[0m\u001b[0;34m]\u001b[0m\u001b[0;34m,\u001b[0m \u001b[0meval_games\u001b[0m\u001b[0;34m)\u001b[0m\u001b[0;34m\u001b[0m\u001b[0m\n\u001b[0m",
      "\u001b[0;31mIndexError\u001b[0m: list index out of range"
     ]
    }
   ],
   "source": [
    "compare_given_games(best_model, models[2], eval_games)"
   ]
  },
  {
   "cell_type": "code",
   "execution_count": 66,
   "metadata": {},
   "outputs": [],
   "source": [
    "models.append(best_model)"
   ]
  },
  {
   "cell_type": "code",
   "execution_count": 57,
   "metadata": {},
   "outputs": [],
   "source": [
    "models = []"
   ]
  },
  {
   "cell_type": "code",
   "execution_count": 274,
   "metadata": {},
   "outputs": [],
   "source": [
    "first_nn_model = model"
   ]
  },
  {
   "cell_type": "code",
   "execution_count": 74,
   "metadata": {},
   "outputs": [
    {
     "data": {
      "text/plain": [
       "0.690327380952381"
      ]
     },
     "execution_count": 74,
     "metadata": {},
     "output_type": "execute_result"
    }
   ],
   "source": [
    "eval(best_model, eval_games)"
   ]
  },
  {
   "cell_type": "code",
   "execution_count": 25,
   "metadata": {},
   "outputs": [
    {
     "name": "stdout",
     "output_type": "stream",
     "text": [
      "__________________________________________________________________________________________________\n",
      "Layer (type)                    Output Shape         Param #     Connected to                     \n",
      "==================================================================================================\n",
      "input_1 (InputLayer)            (None, 4, 8, 2)      0                                            \n",
      "__________________________________________________________________________________________________\n",
      "flatten_1 (Flatten)             (None, 64)           0           input_1[0][0]                    \n",
      "__________________________________________________________________________________________________\n",
      "input_2 (InputLayer)            (None, 4)            0                                            \n",
      "__________________________________________________________________________________________________\n",
      "concatenate_1 (Concatenate)     (None, 68)           0           flatten_1[0][0]                  \n",
      "                                                                 input_2[0][0]                    \n",
      "__________________________________________________________________________________________________\n",
      "dense_1 (Dense)                 (None, 1024)         70656       concatenate_1[0][0]              \n",
      "__________________________________________________________________________________________________\n",
      "concatenate_2 (Concatenate)     (None, 68)           0           flatten_1[0][0]                  \n",
      "                                                                 input_2[0][0]                    \n",
      "__________________________________________________________________________________________________\n",
      "dense_2 (Dense)                 (None, 32)           32800       dense_1[0][0]                    \n",
      "__________________________________________________________________________________________________\n",
      "dense_3 (Dense)                 (None, 1)            69          concatenate_2[0][0]              \n",
      "==================================================================================================\n",
      "Total params: 103,525\n",
      "Trainable params: 103,525\n",
      "Non-trainable params: 0\n",
      "__________________________________________________________________________________________________\n"
     ]
    }
   ],
   "source": [
    "model.summary()"
   ]
  },
  {
   "cell_type": "code",
   "execution_count": null,
   "metadata": {},
   "outputs": [],
   "source": []
  }
 ],
 "metadata": {
  "kernelspec": {
   "display_name": "Python 3",
   "language": "python",
   "name": "python3"
  },
  "language_info": {
   "codemirror_mode": {
    "name": "ipython",
    "version": 3
   },
   "file_extension": ".py",
   "mimetype": "text/x-python",
   "name": "python",
   "nbconvert_exporter": "python",
   "pygments_lexer": "ipython3",
   "version": "3.6.3"
  }
 },
 "nbformat": 4,
 "nbformat_minor": 2
}
