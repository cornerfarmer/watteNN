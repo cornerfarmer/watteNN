{
 "cells": [
  {
   "cell_type": "markdown",
   "metadata": {},
   "source": [
    "# Train"
   ]
  },
  {
   "cell_type": "code",
   "execution_count": 3,
   "metadata": {},
   "outputs": [
    {
     "data": {
      "application/vnd.jupyter.widget-view+json": {
       "model_id": "a6bc219cbbb14f9fae0e0a746dd94b2e",
       "version_major": 2,
       "version_minor": 0
      },
      "text/html": [
       "<p>Failed to display Jupyter Widget of type <code>FigureCanvasNbAgg</code>.</p>\n",
       "<p>\n",
       "  If you're reading this message in the Jupyter Notebook or JupyterLab Notebook, it may mean\n",
       "  that the widgets JavaScript is still loading. If this message persists, it\n",
       "  likely means that the widgets JavaScript library is either not installed or\n",
       "  not enabled. See the <a href=\"https://ipywidgets.readthedocs.io/en/stable/user_install.html\">Jupyter\n",
       "  Widgets Documentation</a> for setup instructions.\n",
       "</p>\n",
       "<p>\n",
       "  If you're reading this message in another frontend (for example, a static\n",
       "  rendering on GitHub or <a href=\"https://nbviewer.jupyter.org/\">NBViewer</a>),\n",
       "  it may mean that your frontend doesn't currently support widgets.\n",
       "</p>\n"
      ],
      "text/plain": [
       "FigureCanvasNbAgg()"
      ]
     },
     "metadata": {},
     "output_type": "display_data"
    }
   ],
   "source": [
    "fig, ax = plt.subplots()"
   ]
  },
  {
   "cell_type": "code",
   "execution_count": 3,
   "metadata": {
    "scrolled": true
   },
   "outputs": [],
   "source": [
    "%%cython -f -I . -L . -L /home/domin/.local/lib/python3.6/site-packages -I /home/domin/.local/lib/python3.6/site-packages  --cplus \n",
    "\n",
    "from src.Storage cimport Storage\n",
    "from src.MCTS cimport MCTS\n",
    "from src.Model cimport Model\n",
    "from src.ModelRating cimport ModelRating\n",
    "from src.Game cimport Game\n",
    "from gym_watten.envs.watten_env cimport WattenEnv\n",
    "from IPython.display import clear_output\n",
    "from libcpp.vector cimport vector\n",
    "\n",
    "cpdef float train(WattenEnv env, Model model, Model best_model, Storage storage, MCTS mcts, Game game, ModelRating rating):\n",
    "    cdef int g\n",
    "    cdef vector[float] eval_scores \n",
    "    cdef float rating_value, exploitability\n",
    "    \n",
    "    for g in range(100):  \n",
    "        mcts.mcts_generate(env, model, storage)\n",
    "    \n",
    "        model.memorize_storage(storage)\n",
    "        #clear_output()\n",
    "        \n",
    "        \n",
    "        \"\"\"if hasattr(model, 'fit'):\n",
    "            p = np.random.permutation(int(number_of_samples))\n",
    "            if len(p) > BATCH_SIZE * TRAINING_LOOPS:\n",
    "                p = p[:BATCH_SIZE * TRAINING_LOOPS]\n",
    "            train_outputs = []\n",
    "            train_inputs = []\n",
    "            for i in range(len(sample_outputs)):\n",
    "                train_outputs.append(sample_outputs[i][p])\n",
    "            for i in range(len(sample_inputs)):\n",
    "                train_inputs.append(sample_inputs[i][p])\n",
    "\n",
    "            trained_model.fit(train_inputs, train_outputs, epochs=1, batch_size=BATCH_SIZE)   \"\"\"\n",
    "\n",
    "        #model.set_weights(trained_model.get_weights())     \n",
    "        rating_value = game.compare_given_games(model, best_model, rating)\n",
    "        print(\"Match: \" + str(rating_value))\n",
    "        #print(\"Last scores: \" + str(eval_scores) + \"!\")\n",
    "        if rating_value > 0.5:\n",
    "            best_model.copy_weights_from(model)  \n",
    "            #exploitability = rating.calc_exploitability(best_model)\n",
    "            #eval_scores.push_back(exploitability)\n",
    "            #print(exploitability)\n",
    "            #print(\"Model score: \" + str(eval_scores.back()) + \"!\")\n",
    "    \n",
    "    return rating.calc_exploitability(best_model)\n",
    "    #plt.plot(eval_scores, label='6x75')\n",
    "    #ax.legend(shadow=True)\n",
    "    #plt.show()\n"
   ]
  },
  {
   "cell_type": "code",
   "execution_count": null,
   "metadata": {},
   "outputs": [],
   "source": [
    "for i in range(10):\n",
    "    print(train(env, model, best_model, storage, mcts, game, rating))"
   ]
  },
  {
   "cell_type": "code",
   "execution_count": 7,
   "metadata": {},
   "outputs": [
    {
     "name": "stdout",
     "output_type": "stream",
     "text": [
      "Epoch 1/1\n",
      "342/342 [==============================] - 0s 55us/step - loss: 0.6141 - dense_2_loss: 5.7709e-04 - dense_4_loss: 0.6135 - dense_2_acc: 0.5936 - dense_4_acc: 0.5819\n",
      "Match: 0.49196428060531616\n",
      "Epoch 1/1\n",
      "340/340 [==============================] - 0s 52us/step - loss: 0.5251 - dense_2_loss: 5.1923e-04 - dense_4_loss: 0.5246 - dense_2_acc: 0.6147 - dense_4_acc: 0.5941\n",
      "Match: 0.4892857074737549\n",
      "Epoch 1/1\n",
      "330/330 [==============================] - 0s 51us/step - loss: 0.4180 - dense_2_loss: 4.8188e-04 - dense_4_loss: 0.4175 - dense_2_acc: 0.6182 - dense_4_acc: 0.6667\n",
      "Match: 0.4883928596973419\n",
      "Epoch 1/1\n",
      "336/336 [==============================] - 0s 49us/step - loss: 0.4402 - dense_2_loss: 5.1872e-04 - dense_4_loss: 0.4397 - dense_2_acc: 0.6042 - dense_4_acc: 0.6518\n",
      "Match: 0.49464285373687744\n",
      "Epoch 1/1\n",
      "348/348 [==============================] - 0s 53us/step - loss: 0.5185 - dense_2_loss: 5.2512e-04 - dense_4_loss: 0.5180 - dense_2_acc: 0.6293 - dense_4_acc: 0.6034\n",
      "Match: 0.4973214268684387\n",
      "Epoch 1/1\n",
      "342/342 [==============================] - 0s 72us/step - loss: 0.5118 - dense_2_loss: 4.7417e-04 - dense_4_loss: 0.5113 - dense_2_acc: 0.6374 - dense_4_acc: 0.6082\n",
      "Match: 0.48571428656578064\n",
      "Epoch 1/1\n",
      "336/336 [==============================] - 0s 50us/step - loss: 0.5693 - dense_2_loss: 5.2868e-04 - dense_4_loss: 0.5688 - dense_2_acc: 0.6458 - dense_4_acc: 0.6250\n",
      "Match: 0.4928571283817291\n",
      "Epoch 1/1\n",
      "346/346 [==============================] - 0s 47us/step - loss: 0.4580 - dense_2_loss: 5.0108e-04 - dense_4_loss: 0.4575 - dense_2_acc: 0.6763 - dense_4_acc: 0.6358\n",
      "Match: 0.4928571283817291\n",
      "Epoch 1/1\n",
      "336/336 [==============================] - 0s 51us/step - loss: 0.4744 - dense_2_loss: 4.5606e-04 - dense_4_loss: 0.4740 - dense_2_acc: 0.6964 - dense_4_acc: 0.5952\n",
      "Match: 0.49464285373687744\n",
      "Epoch 1/1\n",
      "350/350 [==============================] - 0s 65us/step - loss: 0.5173 - dense_2_loss: 5.1132e-04 - dense_4_loss: 0.5168 - dense_2_acc: 0.6571 - dense_4_acc: 0.5800\n",
      "Match: 0.4937500059604645\n",
      "Epoch 1/1\n",
      "342/342 [==============================] - 0s 48us/step - loss: 0.5467 - dense_2_loss: 5.4329e-04 - dense_4_loss: 0.5462 - dense_2_acc: 0.6579 - dense_4_acc: 0.5936\n",
      "Match: 0.49017858505249023\n",
      "Epoch 1/1\n",
      "344/344 [==============================] - 0s 52us/step - loss: 0.4034 - dense_2_loss: 4.6635e-04 - dense_4_loss: 0.4029 - dense_2_acc: 0.6570 - dense_4_acc: 0.6308\n",
      "Match: 0.49464285373687744\n",
      "Epoch 1/1\n",
      "354/354 [==============================] - 0s 46us/step - loss: 0.6054 - dense_2_loss: 5.1108e-04 - dense_4_loss: 0.6049 - dense_2_acc: 0.6864 - dense_4_acc: 0.5763\n",
      "Match: 0.4883928596973419\n",
      "Epoch 1/1\n",
      "344/344 [==============================] - 0s 52us/step - loss: 0.4879 - dense_2_loss: 5.8302e-04 - dense_4_loss: 0.4874 - dense_2_acc: 0.6628 - dense_4_acc: 0.6221\n",
      "Match: 0.49196428060531616\n",
      "Epoch 1/1\n",
      "336/336 [==============================] - 0s 49us/step - loss: 0.4253 - dense_2_loss: 4.8477e-04 - dense_4_loss: 0.4248 - dense_2_acc: 0.6488 - dense_4_acc: 0.6161\n",
      "Match: 0.4910714328289032\n",
      "Epoch 1/1\n",
      "336/336 [==============================] - 0s 52us/step - loss: 0.4882 - dense_2_loss: 4.9054e-04 - dense_4_loss: 0.4877 - dense_2_acc: 0.5893 - dense_4_acc: 0.6161\n",
      "Match: 0.4973214268684387\n",
      "Epoch 1/1\n",
      "342/342 [==============================] - 0s 66us/step - loss: 0.4892 - dense_2_loss: 5.2173e-04 - dense_4_loss: 0.4887 - dense_2_acc: 0.6287 - dense_4_acc: 0.5965\n",
      "Match: 0.4910714328289032\n",
      "Epoch 1/1\n",
      "338/338 [==============================] - 0s 75us/step - loss: 0.4147 - dense_2_loss: 4.7614e-04 - dense_4_loss: 0.4142 - dense_2_acc: 0.6361 - dense_4_acc: 0.6479\n",
      "Match: 0.47410714626312256\n",
      "Epoch 1/1\n",
      "342/342 [==============================] - 0s 61us/step - loss: 0.5450 - dense_2_loss: 5.0108e-04 - dense_4_loss: 0.5445 - dense_2_acc: 0.6257 - dense_4_acc: 0.5673\n",
      "Match: 0.48571428656578064\n",
      "Epoch 1/1\n",
      "348/348 [==============================] - 0s 58us/step - loss: 0.5364 - dense_2_loss: 5.2371e-04 - dense_4_loss: 0.5358 - dense_2_acc: 0.6437 - dense_4_acc: 0.5948\n",
      "Match: 0.4955357015132904\n",
      "Epoch 1/1\n",
      "330/330 [==============================] - 0s 61us/step - loss: 0.5176 - dense_2_loss: 4.7839e-04 - dense_4_loss: 0.5171 - dense_2_acc: 0.6273 - dense_4_acc: 0.6394\n",
      "Match: 0.4937500059604645\n",
      "Epoch 1/1\n",
      "346/346 [==============================] - 0s 57us/step - loss: 0.4950 - dense_2_loss: 4.5209e-04 - dense_4_loss: 0.4945 - dense_2_acc: 0.6532 - dense_4_acc: 0.6358\n",
      "Match: 0.4928571283817291\n",
      "Epoch 1/1\n",
      "328/328 [==============================] - 0s 71us/step - loss: 0.4891 - dense_2_loss: 4.6210e-04 - dense_4_loss: 0.4887 - dense_2_acc: 0.6341 - dense_4_acc: 0.6189\n",
      "Match: 0.49196428060531616\n",
      "Epoch 1/1\n",
      "348/348 [==============================] - 0s 58us/step - loss: 0.5834 - dense_2_loss: 5.0182e-04 - dense_4_loss: 0.5829 - dense_2_acc: 0.6466 - dense_4_acc: 0.5661\n",
      "Match: 0.4955357015132904\n",
      "Epoch 1/1\n",
      "350/350 [==============================] - 0s 86us/step - loss: 0.5481 - dense_2_loss: 4.7815e-04 - dense_4_loss: 0.5476 - dense_2_acc: 0.6714 - dense_4_acc: 0.5829\n",
      "Match: 0.49196428060531616\n",
      "Epoch 1/1\n",
      "328/328 [==============================] - 0s 50us/step - loss: 0.4242 - dense_2_loss: 4.6595e-04 - dense_4_loss: 0.4238 - dense_2_acc: 0.6311 - dense_4_acc: 0.6555\n",
      "Match: 0.49910715222358704\n",
      "Epoch 1/1\n",
      "340/340 [==============================] - 0s 47us/step - loss: 0.4947 - dense_2_loss: 4.7281e-04 - dense_4_loss: 0.4942 - dense_2_acc: 0.6500 - dense_4_acc: 0.6265\n",
      "Match: 0.5035714507102966\n",
      "Epoch 1/1\n",
      "332/332 [==============================] - 0s 53us/step - loss: 0.4495 - dense_2_loss: 4.6975e-04 - dense_4_loss: 0.4491 - dense_2_acc: 0.6627 - dense_4_acc: 0.5813\n",
      "Match: 0.4955357015132904\n",
      "Epoch 1/1\n",
      "338/338 [==============================] - 0s 49us/step - loss: 0.4371 - dense_2_loss: 4.7212e-04 - dense_4_loss: 0.4367 - dense_2_acc: 0.6331 - dense_4_acc: 0.6657\n",
      "Match: 0.4910714328289032\n",
      "Epoch 1/1\n",
      "344/344 [==============================] - 0s 48us/step - loss: 0.4238 - dense_2_loss: 4.6034e-04 - dense_4_loss: 0.4234 - dense_2_acc: 0.6192 - dense_4_acc: 0.6308\n",
      "Match: 0.4794642925262451\n",
      "Epoch 1/1\n",
      "320/320 [==============================] - 0s 59us/step - loss: 0.3851 - dense_2_loss: 4.2465e-04 - dense_4_loss: 0.3846 - dense_2_acc: 0.6250 - dense_4_acc: 0.6844\n",
      "Match: 0.49464285373687744\n",
      "Epoch 1/1\n",
      "348/348 [==============================] - 0s 50us/step - loss: 0.4782 - dense_2_loss: 5.0788e-04 - dense_4_loss: 0.4777 - dense_2_acc: 0.6466 - dense_4_acc: 0.6121\n",
      "Match: 0.49642857909202576\n",
      "Epoch 1/1\n",
      "348/348 [==============================] - 0s 50us/step - loss: 0.4510 - dense_2_loss: 5.4394e-04 - dense_4_loss: 0.4504 - dense_2_acc: 0.6494 - dense_4_acc: 0.6207\n",
      "Match: 0.48571428656578064\n",
      "Epoch 1/1\n",
      "352/352 [==============================] - 0s 72us/step - loss: 0.4866 - dense_2_loss: 5.3913e-04 - dense_4_loss: 0.4860 - dense_2_acc: 0.6449 - dense_4_acc: 0.6136\n",
      "Match: 0.4973214268684387\n",
      "Epoch 1/1\n",
      "344/344 [==============================] - 0s 63us/step - loss: 0.5172 - dense_2_loss: 5.0533e-04 - dense_4_loss: 0.5167 - dense_2_acc: 0.6483 - dense_4_acc: 0.6192\n",
      "Match: 0.49910715222358704\n",
      "Epoch 1/1\n",
      "342/342 [==============================] - 0s 52us/step - loss: 0.5991 - dense_2_loss: 4.9173e-04 - dense_4_loss: 0.5986 - dense_2_acc: 0.6462 - dense_4_acc: 0.5965\n",
      "Match: 0.49464285373687744\n",
      "Epoch 1/1\n",
      "342/342 [==============================] - 0s 50us/step - loss: 0.3914 - dense_2_loss: 4.4597e-04 - dense_4_loss: 0.3909 - dense_2_acc: 0.5906 - dense_4_acc: 0.6374\n",
      "Match: 0.48750001192092896\n",
      "Epoch 1/1\n",
      "340/340 [==============================] - 0s 48us/step - loss: 0.4883 - dense_2_loss: 4.8038e-04 - dense_4_loss: 0.4878 - dense_2_acc: 0.6265 - dense_4_acc: 0.6294\n",
      "Match: 0.49464285373687744\n",
      "Epoch 1/1\n",
      "338/338 [==============================] - 0s 54us/step - loss: 0.4305 - dense_2_loss: 5.0101e-04 - dense_4_loss: 0.4300 - dense_2_acc: 0.6775 - dense_4_acc: 0.6361\n",
      "Match: 0.49196428060531616\n",
      "Epoch 1/1\n",
      "334/334 [==============================] - 0s 55us/step - loss: 0.4957 - dense_2_loss: 4.5527e-04 - dense_4_loss: 0.4952 - dense_2_acc: 0.6317 - dense_4_acc: 0.6228\n",
      "Match: 0.49017858505249023\n",
      "Epoch 1/1\n",
      "334/334 [==============================] - 0s 53us/step - loss: 0.4825 - dense_2_loss: 4.8886e-04 - dense_4_loss: 0.4820 - dense_2_acc: 0.6317 - dense_4_acc: 0.6198\n",
      "Match: 0.4866071343421936\n",
      "Epoch 1/1\n",
      "326/326 [==============================] - 0s 48us/step - loss: 0.5130 - dense_2_loss: 4.6011e-04 - dense_4_loss: 0.5126 - dense_2_acc: 0.6319 - dense_4_acc: 0.6442\n",
      "Match: 0.4839285612106323\n",
      "Epoch 1/1\n",
      "338/338 [==============================] - 0s 68us/step - loss: 0.5479 - dense_2_loss: 4.1565e-04 - dense_4_loss: 0.5475 - dense_2_acc: 0.6272 - dense_4_acc: 0.5828\n",
      "Match: 0.4866071343421936\n",
      "Epoch 1/1\n",
      "344/344 [==============================] - 0s 60us/step - loss: 0.3888 - dense_2_loss: 4.9364e-04 - dense_4_loss: 0.3883 - dense_2_acc: 0.6279 - dense_4_acc: 0.6657\n",
      "Match: 0.4866071343421936\n",
      "Epoch 1/1\n",
      "344/344 [==============================] - 0s 48us/step - loss: 0.4388 - dense_2_loss: 4.4307e-04 - dense_4_loss: 0.4383 - dense_2_acc: 0.6483 - dense_4_acc: 0.6366\n",
      "Match: 0.4892857074737549\n",
      "Epoch 1/1\n",
      "346/346 [==============================] - 0s 59us/step - loss: 0.4998 - dense_2_loss: 4.8866e-04 - dense_4_loss: 0.4993 - dense_2_acc: 0.6676 - dense_4_acc: 0.5983\n",
      "Match: 0.49196428060531616\n",
      "Epoch 1/1\n",
      "342/342 [==============================] - 0s 110us/step - loss: 0.5064 - dense_2_loss: 4.8635e-04 - dense_4_loss: 0.5059 - dense_2_acc: 0.6287 - dense_4_acc: 0.6199\n",
      "Match: 0.4892857074737549\n",
      "Epoch 1/1\n",
      "342/342 [==============================] - 0s 58us/step - loss: 0.5146 - dense_2_loss: 5.1653e-04 - dense_4_loss: 0.5141 - dense_2_acc: 0.6404 - dense_4_acc: 0.5673\n",
      "Match: 0.48750001192092896\n",
      "Epoch 1/1\n",
      "336/336 [==============================] - 0s 61us/step - loss: 0.4635 - dense_2_loss: 5.1895e-04 - dense_4_loss: 0.4630 - dense_2_acc: 0.6220 - dense_4_acc: 0.6607\n",
      "Match: 0.49642857909202576\n",
      "Epoch 1/1\n",
      "334/334 [==============================] - 0s 63us/step - loss: 0.5055 - dense_2_loss: 4.5989e-04 - dense_4_loss: 0.5050 - dense_2_acc: 0.6377 - dense_4_acc: 0.6287\n",
      "Match: 0.4910714328289032\n",
      "Epoch 1/1\n",
      "338/338 [==============================] - 0s 74us/step - loss: 0.4762 - dense_2_loss: 5.0047e-04 - dense_4_loss: 0.4757 - dense_2_acc: 0.6361 - dense_4_acc: 0.6124\n",
      "Match: 0.4955357015132904\n",
      "Epoch 1/1\n",
      "322/322 [==============================] - 0s 54us/step - loss: 0.4578 - dense_2_loss: 4.9738e-04 - dense_4_loss: 0.4573 - dense_2_acc: 0.6335 - dense_4_acc: 0.6335\n",
      "Match: 0.4758928716182709\n",
      "Epoch 1/1\n",
      "336/336 [==============================] - 0s 55us/step - loss: 0.5022 - dense_2_loss: 5.7394e-04 - dense_4_loss: 0.5016 - dense_2_acc: 0.5952 - dense_4_acc: 0.6339\n",
      "Match: 0.4669642746448517\n",
      "Epoch 1/1\n",
      "348/348 [==============================] - 0s 47us/step - loss: 0.5130 - dense_2_loss: 5.0938e-04 - dense_4_loss: 0.5125 - dense_2_acc: 0.6006 - dense_4_acc: 0.5891\n",
      "Match: 0.49464285373687744\n",
      "Epoch 1/1\n",
      "332/332 [==============================] - 0s 54us/step - loss: 0.5110 - dense_2_loss: 5.4239e-04 - dense_4_loss: 0.5105 - dense_2_acc: 0.5783 - dense_4_acc: 0.6175\n",
      "Match: 0.4892857074737549\n",
      "Epoch 1/1\n",
      "340/340 [==============================] - 0s 56us/step - loss: 0.4852 - dense_2_loss: 4.8020e-04 - dense_4_loss: 0.4848 - dense_2_acc: 0.6412 - dense_4_acc: 0.6471\n",
      "Match: 0.48303571343421936\n",
      "Epoch 1/1\n",
      "344/344 [==============================] - 0s 51us/step - loss: 0.4437 - dense_2_loss: 5.1908e-04 - dense_4_loss: 0.4432 - dense_2_acc: 0.6192 - dense_4_acc: 0.6570\n",
      "Match: 0.4883928596973419\n",
      "Epoch 1/1\n",
      "330/330 [==============================] - 0s 56us/step - loss: 0.4154 - dense_2_loss: 4.6173e-04 - dense_4_loss: 0.4150 - dense_2_acc: 0.6121 - dense_4_acc: 0.6636\n",
      "Match: 0.49642857909202576\n",
      "Epoch 1/1\n",
      "330/330 [==============================] - 0s 58us/step - loss: 0.4226 - dense_2_loss: 4.6750e-04 - dense_4_loss: 0.4221 - dense_2_acc: 0.5970 - dense_4_acc: 0.6576\n",
      "Match: 0.48303571343421936\n",
      "Epoch 1/1\n",
      "344/344 [==============================] - 0s 59us/step - loss: 0.4534 - dense_2_loss: 5.0954e-04 - dense_4_loss: 0.4528 - dense_2_acc: 0.6017 - dense_4_acc: 0.6134\n",
      "Match: 0.49464285373687744\n",
      "Epoch 1/1\n",
      "340/340 [==============================] - 0s 54us/step - loss: 0.3933 - dense_2_loss: 4.7173e-04 - dense_4_loss: 0.3928 - dense_2_acc: 0.6382 - dense_4_acc: 0.6853\n",
      "Match: 0.49196428060531616\n",
      "Epoch 1/1\n",
      "344/344 [==============================] - 0s 103us/step - loss: 0.4500 - dense_2_loss: 4.7907e-04 - dense_4_loss: 0.4495 - dense_2_acc: 0.7180 - dense_4_acc: 0.6453\n",
      "Match: 0.4848214387893677\n",
      "Epoch 1/1\n",
      "334/334 [==============================] - 0s 49us/step - loss: 0.3772 - dense_2_loss: 4.3253e-04 - dense_4_loss: 0.3768 - dense_2_acc: 0.6377 - dense_4_acc: 0.7036\n",
      "Match: 0.49642857909202576\n",
      "Epoch 1/1\n",
      "342/342 [==============================] - 0s 56us/step - loss: 0.6407 - dense_2_loss: 5.2170e-04 - dense_4_loss: 0.6402 - dense_2_acc: 0.6374 - dense_4_acc: 0.5877\n",
      "Match: 0.4883928596973419\n",
      "Epoch 1/1\n",
      "346/346 [==============================] - 0s 51us/step - loss: 0.5205 - dense_2_loss: 5.2775e-04 - dense_4_loss: 0.5200 - dense_2_acc: 0.6040 - dense_4_acc: 0.5780\n",
      "Match: 0.49642857909202576\n",
      "Epoch 1/1\n",
      "352/352 [==============================] - 0s 48us/step - loss: 0.4729 - dense_2_loss: 5.4177e-04 - dense_4_loss: 0.4724 - dense_2_acc: 0.6534 - dense_4_acc: 0.6136\n",
      "Match: 0.4892857074737549\n",
      "Epoch 1/1\n",
      "338/338 [==============================] - 0s 50us/step - loss: 0.4996 - dense_2_loss: 5.0378e-04 - dense_4_loss: 0.4991 - dense_2_acc: 0.6627 - dense_4_acc: 0.6124\n",
      "Match: 0.49017858505249023\n",
      "Epoch 1/1\n",
      "350/350 [==============================] - 0s 52us/step - loss: 0.5597 - dense_2_loss: 4.7564e-04 - dense_4_loss: 0.5592 - dense_2_acc: 0.6771 - dense_4_acc: 0.5743\n",
      "Match: 0.48750001192092896\n",
      "Epoch 1/1\n",
      "340/340 [==============================] - 0s 55us/step - loss: 0.4563 - dense_2_loss: 5.0240e-04 - dense_4_loss: 0.4558 - dense_2_acc: 0.5971 - dense_4_acc: 0.6353\n",
      "Match: 0.49910715222358704\n",
      "Epoch 1/1\n",
      "336/336 [==============================] - 0s 58us/step - loss: 0.4142 - dense_2_loss: 4.7792e-04 - dense_4_loss: 0.4137 - dense_2_acc: 0.6607 - dense_4_acc: 0.6637\n",
      "Match: 0.4973214268684387\n",
      "Epoch 1/1\n",
      "342/342 [==============================] - 0s 55us/step - loss: 0.5015 - dense_2_loss: 4.8094e-04 - dense_4_loss: 0.5010 - dense_2_acc: 0.6725 - dense_4_acc: 0.6257\n",
      "Match: 0.49464285373687744\n",
      "Epoch 1/1\n",
      "346/346 [==============================] - 0s 62us/step - loss: 0.4872 - dense_2_loss: 4.9162e-04 - dense_4_loss: 0.4867 - dense_2_acc: 0.5954 - dense_4_acc: 0.6098\n",
      "Match: 0.4928571283817291\n",
      "Epoch 1/1\n",
      "336/336 [==============================] - 0s 62us/step - loss: 0.5195 - dense_2_loss: 4.5676e-04 - dense_4_loss: 0.5191 - dense_2_acc: 0.6190 - dense_4_acc: 0.6667\n",
      "Match: 0.4955357015132904\n",
      "Epoch 1/1\n",
      "354/354 [==============================] - 0s 48us/step - loss: 0.4956 - dense_2_loss: 4.4299e-04 - dense_4_loss: 0.4952 - dense_2_acc: 0.6469 - dense_4_acc: 0.6130\n",
      "Match: 0.4955357015132904\n",
      "Epoch 1/1\n",
      "334/334 [==============================] - 0s 52us/step - loss: 0.4251 - dense_2_loss: 4.7730e-04 - dense_4_loss: 0.4247 - dense_2_acc: 0.6377 - dense_4_acc: 0.6198\n",
      "Match: 0.48750001192092896\n",
      "Epoch 1/1\n",
      "344/344 [==============================] - 0s 48us/step - loss: 0.4979 - dense_2_loss: 4.6915e-04 - dense_4_loss: 0.4975 - dense_2_acc: 0.6221 - dense_4_acc: 0.6047\n",
      "Match: 0.48571428656578064\n",
      "Epoch 1/1\n",
      "328/328 [==============================] - 0s 54us/step - loss: 0.4210 - dense_2_loss: 4.6779e-04 - dense_4_loss: 0.4205 - dense_2_acc: 0.6524 - dense_4_acc: 0.6768\n",
      "Match: 0.4821428656578064\n",
      "Epoch 1/1\n",
      "338/338 [==============================] - 0s 74us/step - loss: 0.4640 - dense_2_loss: 4.7669e-04 - dense_4_loss: 0.4635 - dense_2_acc: 0.6006 - dense_4_acc: 0.6243\n",
      "Match: 0.4883928596973419\n",
      "Epoch 1/1\n",
      "362/362 [==============================] - 0s 57us/step - loss: 0.5890 - dense_2_loss: 5.0257e-04 - dense_4_loss: 0.5885 - dense_2_acc: 0.6713 - dense_4_acc: 0.5773\n",
      "Match: 0.48571428656578064\n",
      "Epoch 1/1\n",
      "336/336 [==============================] - 0s 48us/step - loss: 0.4971 - dense_2_loss: 4.7347e-04 - dense_4_loss: 0.4966 - dense_2_acc: 0.6429 - dense_4_acc: 0.6220\n",
      "Match: 0.4937500059604645\n",
      "Epoch 1/1\n",
      "336/336 [==============================] - 0s 49us/step - loss: 0.4954 - dense_2_loss: 5.2334e-04 - dense_4_loss: 0.4949 - dense_2_acc: 0.6488 - dense_4_acc: 0.6310\n",
      "Match: 0.48750001192092896\n",
      "Epoch 1/1\n",
      "338/338 [==============================] - 0s 53us/step - loss: 0.5352 - dense_2_loss: 4.7497e-04 - dense_4_loss: 0.5347 - dense_2_acc: 0.6450 - dense_4_acc: 0.5888\n",
      "Match: 0.4910714328289032\n",
      "Epoch 1/1\n",
      "340/340 [==============================] - 0s 63us/step - loss: 0.4343 - dense_2_loss: 4.3707e-04 - dense_4_loss: 0.4339 - dense_2_acc: 0.6500 - dense_4_acc: 0.6471\n",
      "Match: 0.48571428656578064\n",
      "Epoch 1/1\n",
      "354/354 [==============================] - 0s 66us/step - loss: 0.4953 - dense_2_loss: 5.2077e-04 - dense_4_loss: 0.4948 - dense_2_acc: 0.6328 - dense_4_acc: 0.6356\n",
      "Match: 0.49017858505249023\n",
      "Epoch 1/1\n",
      "342/342 [==============================] - 0s 48us/step - loss: 0.4306 - dense_2_loss: 4.2017e-04 - dense_4_loss: 0.4302 - dense_2_acc: 0.6520 - dense_4_acc: 0.6257\n",
      "Match: 0.4937500059604645\n",
      "Epoch 1/1\n",
      "350/350 [==============================] - 0s 49us/step - loss: 0.4163 - dense_2_loss: 4.0140e-04 - dense_4_loss: 0.4159 - dense_2_acc: 0.6314 - dense_4_acc: 0.6514\n",
      "Match: 0.4848214387893677\n",
      "Epoch 1/1\n",
      "344/344 [==============================] - 0s 49us/step - loss: 0.5636 - dense_2_loss: 5.4975e-04 - dense_4_loss: 0.5631 - dense_2_acc: 0.5610 - dense_4_acc: 0.5843\n",
      "Match: 0.4892857074737549\n",
      "Epoch 1/1\n",
      "342/342 [==============================] - 0s 51us/step - loss: 0.4808 - dense_2_loss: 4.4337e-04 - dense_4_loss: 0.4804 - dense_2_acc: 0.6725 - dense_4_acc: 0.6199\n",
      "Match: 0.5\n",
      "Epoch 1/1\n",
      "344/344 [==============================] - 0s 48us/step - loss: 0.4486 - dense_2_loss: 4.2656e-04 - dense_4_loss: 0.4482 - dense_2_acc: 0.6628 - dense_4_acc: 0.6628\n",
      "Match: 0.4982142746448517\n",
      "Epoch 1/1\n",
      "332/332 [==============================] - 0s 85us/step - loss: 0.5264 - dense_2_loss: 4.6009e-04 - dense_4_loss: 0.5260 - dense_2_acc: 0.6054 - dense_4_acc: 0.5964\n",
      "Match: 0.4928571283817291\n",
      "Epoch 1/1\n",
      "336/336 [==============================] - 0s 47us/step - loss: 0.4015 - dense_2_loss: 4.4936e-04 - dense_4_loss: 0.4010 - dense_2_acc: 0.6131 - dense_4_acc: 0.6667\n",
      "Match: 0.49642857909202576\n",
      "Epoch 1/1\n",
      "350/350 [==============================] - 0s 77us/step - loss: 0.4710 - dense_2_loss: 4.3456e-04 - dense_4_loss: 0.4706 - dense_2_acc: 0.6543 - dense_4_acc: 0.5971\n",
      "Match: 0.4973214268684387\n",
      "Epoch 1/1\n",
      "338/338 [==============================] - 0s 57us/step - loss: 0.5726 - dense_2_loss: 4.9088e-04 - dense_4_loss: 0.5721 - dense_2_acc: 0.6361 - dense_4_acc: 0.5828\n",
      "Match: 0.4955357015132904\n",
      "Epoch 1/1\n",
      "334/334 [==============================] - 0s 50us/step - loss: 0.3973 - dense_2_loss: 3.8660e-04 - dense_4_loss: 0.3969 - dense_2_acc: 0.5629 - dense_4_acc: 0.6916\n",
      "Match: 0.5\n",
      "Epoch 1/1\n",
      "340/340 [==============================] - 0s 55us/step - loss: 0.5604 - dense_2_loss: 5.0599e-04 - dense_4_loss: 0.5599 - dense_2_acc: 0.6235 - dense_4_acc: 0.5912\n",
      "Match: 0.5008928775787354\n",
      "Epoch 1/1\n",
      "346/346 [==============================] - 0s 56us/step - loss: 0.4951 - dense_2_loss: 4.0648e-04 - dense_4_loss: 0.4947 - dense_2_acc: 0.6705 - dense_4_acc: 0.6156\n",
      "Match: 0.5\n",
      "Epoch 1/1\n",
      "342/342 [==============================] - 0s 55us/step - loss: 0.5247 - dense_2_loss: 4.4619e-04 - dense_4_loss: 0.5243 - dense_2_acc: 0.6608 - dense_4_acc: 0.5848\n",
      "Match: 0.49017858505249023\n",
      "Epoch 1/1\n",
      "338/338 [==============================] - 0s 54us/step - loss: 0.4935 - dense_2_loss: 4.3359e-04 - dense_4_loss: 0.4931 - dense_2_acc: 0.6154 - dense_4_acc: 0.5947\n",
      "Match: 0.4973214268684387\n",
      "Epoch 1/1\n",
      "344/344 [==============================] - 0s 48us/step - loss: 0.5266 - dense_2_loss: 5.0343e-04 - dense_4_loss: 0.5261 - dense_2_acc: 0.5988 - dense_4_acc: 0.6047\n",
      "Match: 0.5035714507102966\n",
      "Epoch 1/1\n",
      "344/344 [==============================] - 0s 52us/step - loss: 0.6471 - dense_2_loss: 4.9403e-04 - dense_4_loss: 0.6466 - dense_2_acc: 0.6512 - dense_4_acc: 0.5291\n",
      "Match: 0.49464285373687744\n"
     ]
    },
    {
     "data": {
      "text/plain": [
       "0.02678571455180645"
      ]
     },
     "execution_count": 7,
     "metadata": {},
     "output_type": "execute_result"
    }
   ],
   "source": [
    "train(env, model, best_model, storage, mcts, game, rating)"
   ]
  },
  {
   "cell_type": "code",
   "execution_count": 9,
   "metadata": {},
   "outputs": [
    {
     "data": {
      "text/plain": [
       "0.03214285895228386"
      ]
     },
     "execution_count": 9,
     "metadata": {},
     "output_type": "execute_result"
    }
   ],
   "source": [
    "rating.calc_exploitability(best_model)"
   ]
  },
  {
   "cell_type": "code",
   "execution_count": 7,
   "metadata": {},
   "outputs": [],
   "source": [
    "storage = Storage()"
   ]
  },
  {
   "cell_type": "code",
   "execution_count": 284,
   "metadata": {},
   "outputs": [
    {
     "data": {
      "text/plain": [
       "0.5"
      ]
     },
     "execution_count": 284,
     "metadata": {},
     "output_type": "execute_result"
    }
   ],
   "source": [
    "game.compare_given_games(model, best_model, rating)"
   ]
  },
  {
   "cell_type": "code",
   "execution_count": 4,
   "metadata": {},
   "outputs": [],
   "source": [
    "import itertools\n",
    "def create_grid_search(variables):\n",
    "    combinations = itertools.product(*variables.values())\n",
    "    labeled_combinations = []\n",
    "    for combination in combinations:\n",
    "        labeled_combinations.append(dict(zip(variables.keys(), combination)))\n",
    "    return labeled_combinations"
   ]
  },
  {
   "cell_type": "code",
   "execution_count": 5,
   "metadata": {},
   "outputs": [
    {
     "name": "stderr",
     "output_type": "stream",
     "text": [
      "100%|██████████| 24/24 [28:19<00:00, 70.80s/it]"
     ]
    },
    {
     "name": "stdout",
     "output_type": "stream",
     "text": [
      "{'episodes': 50, 'mcts_sims': 10, 'objective_opponent': True} 0.06071428582072258\n",
      "{'episodes': 50, 'mcts_sims': 10, 'objective_opponent': False} 0.05892857164144516\n",
      "{'episodes': 50, 'mcts_sims': 20, 'objective_opponent': True} 0.03928571566939354\n",
      "{'episodes': 50, 'mcts_sims': 20, 'objective_opponent': False} 0.02321428619325161\n",
      "{'episodes': 50, 'mcts_sims': 30, 'objective_opponent': True} 0.03750000149011612\n",
      "{'episodes': 50, 'mcts_sims': 30, 'objective_opponent': False} 0.012500000186264515\n",
      "{'episodes': 50, 'mcts_sims': 40, 'objective_opponent': True} 0.03035714291036129\n",
      "{'episodes': 50, 'mcts_sims': 40, 'objective_opponent': False} 0.01607142947614193\n",
      "{'episodes': 75, 'mcts_sims': 10, 'objective_opponent': True} 0.05892857164144516\n",
      "{'episodes': 75, 'mcts_sims': 10, 'objective_opponent': False} 0.05535714328289032\n",
      "{'episodes': 75, 'mcts_sims': 20, 'objective_opponent': True} 0.0357142873108387\n",
      "{'episodes': 75, 'mcts_sims': 20, 'objective_opponent': False} 0.02500000037252903\n",
      "{'episodes': 75, 'mcts_sims': 30, 'objective_opponent': True} 0.0357142873108387\n",
      "{'episodes': 75, 'mcts_sims': 30, 'objective_opponent': False} 0.01607142947614193\n",
      "{'episodes': 75, 'mcts_sims': 40, 'objective_opponent': True} 0.02678571455180645\n",
      "{'episodes': 75, 'mcts_sims': 40, 'objective_opponent': False} 0.012500000186264515\n",
      "{'episodes': 100, 'mcts_sims': 10, 'objective_opponent': True} 0.07678571343421936\n",
      "{'episodes': 100, 'mcts_sims': 10, 'objective_opponent': False} 0.03214285895228386\n",
      "{'episodes': 100, 'mcts_sims': 20, 'objective_opponent': True} 0.03214285895228386\n",
      "{'episodes': 100, 'mcts_sims': 20, 'objective_opponent': False} 0.02142857201397419\n",
      "{'episodes': 100, 'mcts_sims': 30, 'objective_opponent': True} 0.02857142873108387\n",
      "{'episodes': 100, 'mcts_sims': 30, 'objective_opponent': False} 0.012500000186264515\n",
      "{'episodes': 100, 'mcts_sims': 40, 'objective_opponent': True} 0.0357142873108387\n",
      "{'episodes': 100, 'mcts_sims': 40, 'objective_opponent': False} 0.010714286006987095\n"
     ]
    },
    {
     "name": "stderr",
     "output_type": "stream",
     "text": [
      "\n"
     ]
    }
   ],
   "source": [
    "variables= {\"episodes\": [50, 75, 100], \"mcts_sims\": [10, 20, 30, 40], \"objective_opponent\": [True, False]}\n",
    "\n",
    "results = []\n",
    "n = 1\n",
    "best_models = []\n",
    "\n",
    "for combination in tqdm(create_grid_search(variables)):\n",
    "    score = 0\n",
    "    for i in range(n):\n",
    "        env = WattenEnv()\n",
    "        model = LookUp()\n",
    "        best_model = LookUp()\n",
    "        storage = Storage()\n",
    "        mcts = MCTS(combination[\"episodes\"], combination[\"mcts_sims\"], combination[\"objective_opponent\"])\n",
    "        rating = ModelRating(env)\n",
    "        game = Game(env)\n",
    "        score += train(env, model, best_model, storage, mcts, game, rating)\n",
    "    results.append([combination, score / n])\n",
    "    best_models.append(best_model)\n",
    "for result in results:\n",
    "    print(result[0], result[1])"
   ]
  },
  {
   "cell_type": "code",
   "execution_count": 14,
   "metadata": {},
   "outputs": [
    {
     "name": "stdout",
     "output_type": "stream",
     "text": [
      "0 4\n",
      "1 1\n",
      "2 8\n",
      "3 13\n",
      "4 9\n",
      "5 20\n",
      "6 10\n",
      "7 17\n",
      "8 1\n",
      "9 1\n",
      "10 11\n",
      "11 10\n",
      "12 11\n",
      "13 19\n",
      "14 12\n",
      "15 19\n",
      "16 0\n",
      "17 5\n",
      "18 12\n",
      "19 17\n",
      "20 12\n",
      "21 21\n",
      "22 6\n",
      "23 23\n"
     ]
    }
   ],
   "source": [
    "for i in range(len(best_models)):\n",
    "    wins = 0\n",
    "    for j in range(len(best_models)):\n",
    "        if game.compare_given_games(best_models[i], best_models[j], rating) > 0.5:\n",
    "            wins += 1\n",
    "    print(i, wins)"
   ]
  },
  {
   "cell_type": "code",
   "execution_count": 11,
   "metadata": {},
   "outputs": [],
   "source": [
    "%%cython -f -I . -L . -L /home/domin/.local/lib/python3.6/site-packages -I /home/domin/.local/lib/python3.6/site-packages  --cplus \n",
    "\n",
    "from src.MCTS cimport MCTS, Storage, MCTSState\n",
    "from src.LookUp cimport LookUp, ModelOutput\n",
    "from src.ModelRating cimport ModelRating\n",
    "from src.Game cimport Game\n",
    "from gym_watten.envs.watten_env cimport WattenEnv, Observation\n",
    "from IPython.display import clear_output\n",
    "from libcpp.vector cimport vector\n",
    "\n",
    "cpdef void show_flaws(WattenEnv env, LookUp model, LookUp better_model, ModelRating rating, int start=0):\n",
    "    cdef Observation obs\n",
    "    cdef ModelOutput output, better_output\n",
    "    cdef int step, better_step\n",
    "    \n",
    "    for g in range(start, rating.eval_games.size()):  \n",
    "        env.reset()\n",
    "        env.set_state(&rating.eval_games[g])\n",
    "        env.regenerate_obs(&obs)\n",
    "    \n",
    "        model.predict_single(&obs, &output)\n",
    "        step = model.valid_step(output.p, &env.players[env.current_player].hand_cards)\n",
    "        \n",
    "        better_model.predict_single(&obs, &better_output)\n",
    "        better_step = better_model.valid_step(better_output.p, &env.players[env.current_player].hand_cards)\n",
    "        \n",
    "        if better_step != step:\n",
    "            env.render('human')\n",
    "            print(g, step, better_step, output.p, better_output.p)\n",
    "            break\n",
    "            \n",
    "cpdef void analyse(WattenEnv env, LookUp model, MCTS mcts, ModelRating rating, int game_id, draw=True):\n",
    "    env.reset()\n",
    "    env.set_state(&rating.eval_games[game_id])\n",
    "    #env.step(0)\n",
    "    #env.step(4)\n",
    "    #env.step(2)\n",
    "    #env.step(1)\n",
    "    env.render('human')\n",
    "    #print(env.is_done())\n",
    "    mcts.objective_opponent = True\n",
    "    \n",
    "    cdef MCTSState root = mcts.create_root_state(env)\n",
    "    cdef vector[float] p\n",
    "    mcts.mcts_game_step(env, &root, model, &p, 40)\n",
    "    print(p)\n",
    "    \n",
    "    if draw:\n",
    "        mcts.draw_tree(&root, 6)\n",
    "\n",
    "cpdef void run(WattenEnv env, LookUp model, ModelRating rating, int game_id):\n",
    "    cdef Observation obs\n",
    "    cdef ModelOutput output\n",
    "    \n",
    "    env.reset()\n",
    "    env.set_state(&rating.eval_games[game_id])\n",
    "    env.regenerate_obs(&obs)\n",
    "    \n",
    "    model.predict_single(&obs, &output)\n",
    "    print(output.p)"
   ]
  },
  {
   "cell_type": "code",
   "execution_count": 32,
   "metadata": {},
   "outputs": [
    {
     "name": "stdout",
     "output_type": "stream",
     "text": [
      "60 3 2 [0.30431854724884033, 0.0, 0.28242039680480957, 0.41326066851615906, 0.0, 0.0, 0.0, 0.0, 0.0, 0.0, 0.0, 0.0, 0.0, 0.0, 0.0, 0.0, 0.0, 0.0, 0.0, 0.0, 0.0, 0.0, 0.0, 0.0, 0.0, 0.0, 0.0, 0.0, 0.0, 0.0, 0.0, 0.0] [0.302650511264801, 0.0, 0.41321861743927, 0.28413063287734985, 0.0, 0.0, 0.0, 0.0, 0.0, 0.0, 0.0, 0.0, 0.0, 0.0, 0.0, 0.0, 0.0, 0.0, 0.0, 0.0, 0.0, 0.0, 0.0, 0.0, 0.0, 0.0, 0.0, 0.0, 0.0, 0.0, 0.0, 0.0]\n"
     ]
    }
   ],
   "source": [
    "show_flaws(env, best_models[10], best_models[11], rating, 20)"
   ]
  },
  {
   "cell_type": "code",
   "execution_count": 12,
   "metadata": {},
   "outputs": [
    {
     "name": "stdout",
     "output_type": "stream",
     "text": [
      "[0.42824968695640564, 0.32129472494125366, 0.2504556179046631]\n",
      "[0.31789714097976685, 0.37508949637413025, 0.3070133626461029]\n",
      "[0.4029049277305603, 0.2813130021095276, 0.3157820701599121]\n",
      "[0.4055160582065582, 0.3133985996246338, 0.281085342168808]\n",
      "[0.3218088448047638, 0.3863930106163025, 0.29179811477661133]\n",
      "[0.40328505635261536, 0.25039905309677124, 0.3463159203529358]\n",
      "[0.40066438913345337, 0.16118615865707397, 0.43814942240715027]\n",
      "[0.4009774327278137, 0.16110198199748993, 0.43792060017585754]\n",
      "[0.24658171832561493, 0.2084484100341797, 0.5449698567390442]\n",
      "[0.22409316897392273, 0.21404504776000977, 0.5618617534637451]\n"
     ]
    }
   ],
   "source": [
    "for i in range(60, 70):\n",
    "    analyse(env, best_models[2], mcts, rating, i, False)"
   ]
  },
  {
   "cell_type": "code",
   "execution_count": 13,
   "metadata": {},
   "outputs": [
    {
     "name": "stdout",
     "output_type": "stream",
     "text": [
      "[0.2822434902191162, 0.4731760025024414, 0.24458058178424835]\n"
     ]
    },
    {
     "data": {
      "application/vnd.jupyter.widget-view+json": {
       "model_id": "a737ef0f2eea46978bea25c27785e7da",
       "version_major": 2,
       "version_minor": 0
      },
      "text/html": [
       "<p>Failed to display Jupyter Widget of type <code>FigureCanvasNbAgg</code>.</p>\n",
       "<p>\n",
       "  If you're reading this message in the Jupyter Notebook or JupyterLab Notebook, it may mean\n",
       "  that the widgets JavaScript is still loading. If this message persists, it\n",
       "  likely means that the widgets JavaScript library is either not installed or\n",
       "  not enabled. See the <a href=\"https://ipywidgets.readthedocs.io/en/stable/user_install.html\">Jupyter\n",
       "  Widgets Documentation</a> for setup instructions.\n",
       "</p>\n",
       "<p>\n",
       "  If you're reading this message in another frontend (for example, a static\n",
       "  rendering on GitHub or <a href=\"https://nbviewer.jupyter.org/\">NBViewer</a>),\n",
       "  it may mean that your frontend doesn't currently support widgets.\n",
       "</p>\n"
      ],
      "text/plain": [
       "FigureCanvasNbAgg()"
      ]
     },
     "metadata": {},
     "output_type": "display_data"
    }
   ],
   "source": [
    "analyse(env, best_models[2], mcts, rating, 61)"
   ]
  },
  {
   "cell_type": "code",
   "execution_count": 23,
   "metadata": {},
   "outputs": [
    {
     "name": "stdout",
     "output_type": "stream",
     "text": [
      "[0.2860535979270935, 0.0, 0.3563016653060913, 0.35764503479003906, 0.0, 0.0, 0.0, 0.0, 0.0, 0.0, 0.0, 0.0, 0.0, 0.0, 0.0, 0.0, 0.0, 0.0, 0.0, 0.0, 0.0, 0.0, 0.0, 0.0, 0.0, 0.0, 0.0, 0.0, 0.0, 0.0, 0.0, 0.0]\n"
     ]
    }
   ],
   "source": [
    "run(env, best_models[7], rating, 69)"
   ]
  },
  {
   "cell_type": "code",
   "execution_count": null,
   "metadata": {},
   "outputs": [],
   "source": [
    "env = WattenEnv()\n",
    "model = LookUp()\n",
    "best_model = LookUp()\n",
    "storage = Storage()\n",
    "mcts = MCTS()\n",
    "rating = ModelRating(env)\n",
    "game = Game(env)\n",
    "\n",
    "mcts.mcts_generate(env, model, storage)\n",
    "model.memorize_storage(storage)\n",
    "game.compare_given_games(model, best_model, rating)\n",
    "rating.calc_exploitability(model)"
   ]
  },
  {
   "cell_type": "code",
   "execution_count": 4,
   "metadata": {},
   "outputs": [
    {
     "ename": "NameError",
     "evalue": "name 'game' is not defined",
     "output_type": "error",
     "traceback": [
      "\u001b[0;31m---------------------------------------------------------------------------\u001b[0m",
      "\u001b[0;31mNameError\u001b[0m                                 Traceback (most recent call last)",
      "\u001b[0;32m<ipython-input-4-7f934aafac6d>\u001b[0m in \u001b[0;36m<module>\u001b[0;34m()\u001b[0m\n\u001b[1;32m      1\u001b[0m \u001b[0;32mfor\u001b[0m \u001b[0mi\u001b[0m \u001b[0;32min\u001b[0m \u001b[0mrange\u001b[0m\u001b[0;34m(\u001b[0m\u001b[0;36m10\u001b[0m\u001b[0;34m)\u001b[0m\u001b[0;34m:\u001b[0m\u001b[0;34m\u001b[0m\u001b[0m\n\u001b[0;32m----> 2\u001b[0;31m     \u001b[0mprint\u001b[0m\u001b[0;34m(\u001b[0m\u001b[0mgame\u001b[0m\u001b[0;34m.\u001b[0m\u001b[0mcompare_given_games\u001b[0m\u001b[0;34m(\u001b[0m\u001b[0mbest_models\u001b[0m\u001b[0;34m[\u001b[0m\u001b[0;36m0\u001b[0m\u001b[0;34m]\u001b[0m\u001b[0;34m,\u001b[0m \u001b[0mbest_models\u001b[0m\u001b[0;34m[\u001b[0m\u001b[0mi\u001b[0m\u001b[0;34m]\u001b[0m\u001b[0;34m,\u001b[0m \u001b[0mrating\u001b[0m\u001b[0;34m)\u001b[0m\u001b[0;34m)\u001b[0m\u001b[0;34m\u001b[0m\u001b[0m\n\u001b[0m",
      "\u001b[0;31mNameError\u001b[0m: name 'game' is not defined"
     ]
    }
   ],
   "source": [
    "for i in range(10):\n",
    "    print(game.compare_given_games(best_models[0], best_models[i], rating, False))"
   ]
  },
  {
   "cell_type": "code",
   "execution_count": 25,
   "metadata": {},
   "outputs": [
    {
     "data": {
      "text/plain": [
       "0.06607142835855484"
      ]
     },
     "execution_count": 25,
     "metadata": {},
     "output_type": "execute_result"
    }
   ],
   "source": [
    "rating.calc_exploitability(best_model)"
   ]
  },
  {
   "cell_type": "code",
   "execution_count": 4,
   "metadata": {},
   "outputs": [
    {
     "data": {
      "text/plain": [
       "Timer unit: 1e-06 s\n",
       "\n",
       "Total time: 0.020369 s\n",
       "File: src/Game.pyx\n",
       "Function: match at line 16\n",
       "\n",
       "Line #      Hits         Time  Per Hit   % Time  Line Contents\n",
       "==============================================================\n",
       "    16                                               cpdef int match(self, LookUp agent1, LookUp agent2, bool render=False, bool reset=True):\n",
       "    17                                                   cdef Observation obs\n",
       "    18                                                   cdef ModelOutput output\n",
       "    19                                                   cdef int a\n",
       "    20      1120        696.0      0.6      3.4          if reset:\n",
       "    21                                                       self.env.reset(&obs)\n",
       "    22                                                   else:\n",
       "    23      1120        623.0      0.6      3.1              self.env.regenerate_obs(&obs)\n",
       "    24                                           \n",
       "    25      1120        560.0      0.5      2.7          while not self.env.is_done():\n",
       "    26      4720       2263.0      0.5     11.1              if self.env.current_player == 0:\n",
       "    27      2360       3927.0      1.7     19.3                  agent1.predict_single(&obs, &output)\n",
       "    28      2360       1308.0      0.6      6.4                  a = agent1.valid_step(output.p, &self.env.players[self.env.current_player].hand_cards)\n",
       "    29                                                       else:\n",
       "    30      2360       4001.0      1.7     19.6                  agent2.predict_single(&obs, &output)\n",
       "    31      2360       1274.0      0.5      6.3                  a = agent2.valid_step(output.p, &self.env.players[self.env.current_player].hand_cards)\n",
       "    32                                           \n",
       "    33      4720       2872.0      0.6     14.1              self.env.step(a, &obs)\n",
       "    34                                           \n",
       "    35      4720       2306.0      0.5     11.3              if render:\n",
       "    36                                                           self.env.render('human')\n",
       "    37                                                           sleep(2)\n",
       "    38                                                      # if env.lastTrick  is not None:\n",
       "    39                                                       #    break\n",
       "    40                                           \n",
       "    41      1120        539.0      0.5      2.6          return self.env.last_winner\n",
       "    42                                           \n",
       "    43                                               \"\"\"cdef float compare(self, LookUp agent1, LookUp agent2):\n",
       "    44                                                   cdef vector[LookUp] agents\n",
       "    45                                                   agents.push_back(agent1)\n",
       "    46                                                   agents.push_back(agent2)\n",
       "    47                                                   first_player_wins = 0\n",
       "    48                                           \n",
       "    49                                                   for i in range(10000):\n",
       "    50                                                       start_player = rand() % 2\n",
       "    51                                                       winner = self.match([agents[start_player], agents[1 - start_player]])\n",
       "    52                                                       first_player_wins += ((winner == 0) == (start_player == 0))\n",
       "    53                                                       #print(start_player, winner)\n",
       "    54                                           \n",
       "    55                                                   return first_player_wins / 10000\"\"\"\n",
       "    56                                           \n",
       "    57                                               cpdef float compare_given_games(self, LookUp agent1, LookUp agent2, ModelRating rating):\n",
       "    58                                                   cdef int i, first_player_wins, winner, start_player\n",
       "    59                                                   first_player_wins = 0\n",
       "    60                                           \n",
       "    61                                                   for i in range(rating.eval_games.size()):\n",
       "    62                                                       for start_player in range(2):\n",
       "    63                                                           self.env.set_state(&rating.eval_games[i])\n",
       "    64                                                           self.env.current_player = start_player\n",
       "    65                                                           winner = self.match(agent1, agent2, render=False, reset=False)\n",
       "    66                                                           first_player_wins += (winner == 0)\n",
       "    67                                           \n",
       "    68                                                   return <float>first_player_wins / (rating.eval_games.size() * 2)\n",
       "    69                                           \n",
       "    70                                               def test(self):\n",
       "    71                                                   pass"
      ]
     },
     "metadata": {},
     "output_type": "display_data"
    }
   ],
   "source": [
    "%lprun -f game.match game.compare_given_games(model, best_model, rating)"
   ]
  },
  {
   "cell_type": "code",
   "execution_count": 4,
   "metadata": {},
   "outputs": [
    {
     "name": "stdout",
     "output_type": "stream",
     "text": [
      "Sat Mar 24 00:38:45 2018    Profile.prof\n",
      "\n",
      "         4 function calls in 0.007 seconds\n",
      "\n",
      "   Random listing order was used\n",
      "\n",
      "   ncalls  tottime  percall  cumtime  percall filename:lineno(function)\n",
      "        1    0.000    0.000    0.007    0.007 {built-in method builtins.exec}\n",
      "        1    0.007    0.007    0.007    0.007 {method 'compare_given_games' of 'src.Game.Game' objects}\n",
      "        1    0.000    0.000    0.000    0.000 {method 'disable' of '_lsprof.Profiler' objects}\n",
      "        1    0.000    0.000    0.007    0.007 <string>:1(<module>)\n",
      "\n",
      "\n"
     ]
    },
    {
     "data": {
      "text/plain": [
       "<pstats.Stats at 0x7f680c15bc88>"
      ]
     },
     "execution_count": 4,
     "metadata": {},
     "output_type": "execute_result"
    }
   ],
   "source": [
    "import pstats, cProfile\n",
    "\n",
    "cProfile.runctx(\"game.compare_given_games(model, best_model, rating)\", globals(), locals(), \"Profile.prof\")\n",
    "\n",
    "s = pstats.Stats(\"Profile.prof\")\n",
    "s.print_stats()"
   ]
  },
  {
   "cell_type": "code",
   "execution_count": 5,
   "metadata": {},
   "outputs": [
    {
     "name": "stderr",
     "output_type": "stream",
     "text": [
      "/usr/local/lib/python3.6/dist-packages/line_profiler.py:321: UserWarning: Could not extract a code object for the object 'mcts.mcts_sample'\n",
      "  profile = LineProfiler(*funcs)\n"
     ]
    },
    {
     "ename": "NameError",
     "evalue": "name 'train' is not defined",
     "output_type": "error",
     "traceback": [
      "\u001b[0;31m---------------------------------------------------------------------------\u001b[0m",
      "\u001b[0;31mNameError\u001b[0m                                 Traceback (most recent call last)",
      "\u001b[0;32m<ipython-input-5-f70d8ba2d533>\u001b[0m in \u001b[0;36m<module>\u001b[0;34m()\u001b[0m\n\u001b[0;32m----> 1\u001b[0;31m \u001b[0mget_ipython\u001b[0m\u001b[0;34m(\u001b[0m\u001b[0;34m)\u001b[0m\u001b[0;34m.\u001b[0m\u001b[0mrun_line_magic\u001b[0m\u001b[0;34m(\u001b[0m\u001b[0;34m'lprun'\u001b[0m\u001b[0;34m,\u001b[0m \u001b[0;34m'-f \"mcts.mcts_sample\" train(env, model, storage, mcts)'\u001b[0m\u001b[0;34m)\u001b[0m\u001b[0;34m\u001b[0m\u001b[0m\n\u001b[0m",
      "\u001b[0;32m/usr/local/lib/python3.6/dist-packages/IPython/core/interactiveshell.py\u001b[0m in \u001b[0;36mrun_line_magic\u001b[0;34m(self, magic_name, line, _stack_depth)\u001b[0m\n\u001b[1;32m   2093\u001b[0m                 \u001b[0mkwargs\u001b[0m\u001b[0;34m[\u001b[0m\u001b[0;34m'local_ns'\u001b[0m\u001b[0;34m]\u001b[0m \u001b[0;34m=\u001b[0m \u001b[0msys\u001b[0m\u001b[0;34m.\u001b[0m\u001b[0m_getframe\u001b[0m\u001b[0;34m(\u001b[0m\u001b[0mstack_depth\u001b[0m\u001b[0;34m)\u001b[0m\u001b[0;34m.\u001b[0m\u001b[0mf_locals\u001b[0m\u001b[0;34m\u001b[0m\u001b[0m\n\u001b[1;32m   2094\u001b[0m             \u001b[0;32mwith\u001b[0m \u001b[0mself\u001b[0m\u001b[0;34m.\u001b[0m\u001b[0mbuiltin_trap\u001b[0m\u001b[0;34m:\u001b[0m\u001b[0;34m\u001b[0m\u001b[0m\n\u001b[0;32m-> 2095\u001b[0;31m                 \u001b[0mresult\u001b[0m \u001b[0;34m=\u001b[0m \u001b[0mfn\u001b[0m\u001b[0;34m(\u001b[0m\u001b[0;34m*\u001b[0m\u001b[0margs\u001b[0m\u001b[0;34m,\u001b[0m\u001b[0;34m**\u001b[0m\u001b[0mkwargs\u001b[0m\u001b[0;34m)\u001b[0m\u001b[0;34m\u001b[0m\u001b[0m\n\u001b[0m\u001b[1;32m   2096\u001b[0m             \u001b[0;32mreturn\u001b[0m \u001b[0mresult\u001b[0m\u001b[0;34m\u001b[0m\u001b[0m\n\u001b[1;32m   2097\u001b[0m \u001b[0;34m\u001b[0m\u001b[0m\n",
      "\u001b[0;32m<decorator-gen-125>\u001b[0m in \u001b[0;36mlprun\u001b[0;34m(self, parameter_s)\u001b[0m\n",
      "\u001b[0;32m/usr/local/lib/python3.6/dist-packages/IPython/core/magic.py\u001b[0m in \u001b[0;36m<lambda>\u001b[0;34m(f, *a, **k)\u001b[0m\n\u001b[1;32m    185\u001b[0m     \u001b[0;31m# but it's overkill for just that one bit of state.\u001b[0m\u001b[0;34m\u001b[0m\u001b[0;34m\u001b[0m\u001b[0m\n\u001b[1;32m    186\u001b[0m     \u001b[0;32mdef\u001b[0m \u001b[0mmagic_deco\u001b[0m\u001b[0;34m(\u001b[0m\u001b[0marg\u001b[0m\u001b[0;34m)\u001b[0m\u001b[0;34m:\u001b[0m\u001b[0;34m\u001b[0m\u001b[0m\n\u001b[0;32m--> 187\u001b[0;31m         \u001b[0mcall\u001b[0m \u001b[0;34m=\u001b[0m \u001b[0;32mlambda\u001b[0m \u001b[0mf\u001b[0m\u001b[0;34m,\u001b[0m \u001b[0;34m*\u001b[0m\u001b[0ma\u001b[0m\u001b[0;34m,\u001b[0m \u001b[0;34m**\u001b[0m\u001b[0mk\u001b[0m\u001b[0;34m:\u001b[0m \u001b[0mf\u001b[0m\u001b[0;34m(\u001b[0m\u001b[0;34m*\u001b[0m\u001b[0ma\u001b[0m\u001b[0;34m,\u001b[0m \u001b[0;34m**\u001b[0m\u001b[0mk\u001b[0m\u001b[0;34m)\u001b[0m\u001b[0;34m\u001b[0m\u001b[0m\n\u001b[0m\u001b[1;32m    188\u001b[0m \u001b[0;34m\u001b[0m\u001b[0m\n\u001b[1;32m    189\u001b[0m         \u001b[0;32mif\u001b[0m \u001b[0mcallable\u001b[0m\u001b[0;34m(\u001b[0m\u001b[0marg\u001b[0m\u001b[0;34m)\u001b[0m\u001b[0;34m:\u001b[0m\u001b[0;34m\u001b[0m\u001b[0m\n",
      "\u001b[0;32m/usr/local/lib/python3.6/dist-packages/line_profiler.py\u001b[0m in \u001b[0;36mlprun\u001b[0;34m(self, parameter_s)\u001b[0m\n\u001b[1;32m    354\u001b[0m         \u001b[0;32mtry\u001b[0m\u001b[0;34m:\u001b[0m\u001b[0;34m\u001b[0m\u001b[0m\n\u001b[1;32m    355\u001b[0m             \u001b[0;32mtry\u001b[0m\u001b[0;34m:\u001b[0m\u001b[0;34m\u001b[0m\u001b[0m\n\u001b[0;32m--> 356\u001b[0;31m                 \u001b[0mprofile\u001b[0m\u001b[0;34m.\u001b[0m\u001b[0mrunctx\u001b[0m\u001b[0;34m(\u001b[0m\u001b[0marg_str\u001b[0m\u001b[0;34m,\u001b[0m \u001b[0mglobal_ns\u001b[0m\u001b[0;34m,\u001b[0m \u001b[0mlocal_ns\u001b[0m\u001b[0;34m)\u001b[0m\u001b[0;34m\u001b[0m\u001b[0m\n\u001b[0m\u001b[1;32m    357\u001b[0m                 \u001b[0mmessage\u001b[0m \u001b[0;34m=\u001b[0m \u001b[0;34m''\u001b[0m\u001b[0;34m\u001b[0m\u001b[0m\n\u001b[1;32m    358\u001b[0m             \u001b[0;32mexcept\u001b[0m \u001b[0mSystemExit\u001b[0m\u001b[0;34m:\u001b[0m\u001b[0;34m\u001b[0m\u001b[0m\n",
      "\u001b[0;32m/usr/local/lib/python3.6/dist-packages/line_profiler.py\u001b[0m in \u001b[0;36mrunctx\u001b[0;34m(self, cmd, globals, locals)\u001b[0m\n\u001b[1;32m    149\u001b[0m         \u001b[0mself\u001b[0m\u001b[0;34m.\u001b[0m\u001b[0menable_by_count\u001b[0m\u001b[0;34m(\u001b[0m\u001b[0;34m)\u001b[0m\u001b[0;34m\u001b[0m\u001b[0m\n\u001b[1;32m    150\u001b[0m         \u001b[0;32mtry\u001b[0m\u001b[0;34m:\u001b[0m\u001b[0;34m\u001b[0m\u001b[0m\n\u001b[0;32m--> 151\u001b[0;31m             \u001b[0mexec_\u001b[0m\u001b[0;34m(\u001b[0m\u001b[0mcmd\u001b[0m\u001b[0;34m,\u001b[0m \u001b[0mglobals\u001b[0m\u001b[0;34m,\u001b[0m \u001b[0mlocals\u001b[0m\u001b[0;34m)\u001b[0m\u001b[0;34m\u001b[0m\u001b[0m\n\u001b[0m\u001b[1;32m    152\u001b[0m         \u001b[0;32mfinally\u001b[0m\u001b[0;34m:\u001b[0m\u001b[0;34m\u001b[0m\u001b[0m\n\u001b[1;32m    153\u001b[0m             \u001b[0mself\u001b[0m\u001b[0;34m.\u001b[0m\u001b[0mdisable_by_count\u001b[0m\u001b[0;34m(\u001b[0m\u001b[0;34m)\u001b[0m\u001b[0;34m\u001b[0m\u001b[0m\n",
      "\u001b[0;32m<string>\u001b[0m in \u001b[0;36m<module>\u001b[0;34m()\u001b[0m\n",
      "\u001b[0;31mNameError\u001b[0m: name 'train' is not defined"
     ]
    }
   ],
   "source": [
    "%lprun -f \"mcts.mcts_sample\" train(env, model, storage, mcts)"
   ]
  },
  {
   "cell_type": "code",
   "execution_count": 62,
   "metadata": {},
   "outputs": [],
   "source": [
    "model.set_weights(trained_model.get_weights())"
   ]
  },
  {
   "cell_type": "code",
   "execution_count": 92,
   "metadata": {},
   "outputs": [
    {
     "data": {
      "text/plain": [
       "0.690327380952381"
      ]
     },
     "execution_count": 92,
     "metadata": {},
     "output_type": "execute_result"
    }
   ],
   "source": [
    "eval(models[1], eval_games)"
   ]
  },
  {
   "cell_type": "code",
   "execution_count": 272,
   "metadata": {},
   "outputs": [
    {
     "data": {
      "text/plain": [
       "[0.02589285714285713]"
      ]
     },
     "execution_count": 272,
     "metadata": {},
     "output_type": "execute_result"
    }
   ],
   "source": [
    "all_eval_scores"
   ]
  },
  {
   "cell_type": "code",
   "execution_count": 251,
   "metadata": {},
   "outputs": [
    {
     "data": {
      "text/plain": [
       "array([1.])"
      ]
     },
     "execution_count": 251,
     "metadata": {},
     "output_type": "execute_result"
    }
   ],
   "source": [
    "sample_outputs[1][9]"
   ]
  },
  {
   "cell_type": "code",
   "execution_count": 209,
   "metadata": {},
   "outputs": [
    {
     "data": {
      "text/plain": [
       "0.5410714285714285"
      ]
     },
     "execution_count": 209,
     "metadata": {},
     "output_type": "execute_result"
    }
   ],
   "source": [
    "compare_given_games(model, first_model, eval_games)"
   ]
  },
  {
   "cell_type": "code",
   "execution_count": 200,
   "metadata": {},
   "outputs": [
    {
     "ename": "NameError",
     "evalue": "name 'train_inputs' is not defined",
     "output_type": "error",
     "traceback": [
      "\u001b[0;31m---------------------------------------------------------------------------\u001b[0m",
      "\u001b[0;31mNameError\u001b[0m                                 Traceback (most recent call last)",
      "\u001b[0;32m<ipython-input-200-aa729d99c6ca>\u001b[0m in \u001b[0;36m<module>\u001b[0;34m()\u001b[0m\n\u001b[0;32m----> 1\u001b[0;31m \u001b[0mmodel\u001b[0m\u001b[0;34m.\u001b[0m\u001b[0mpredict_single\u001b[0m\u001b[0;34m(\u001b[0m\u001b[0;34m[\u001b[0m\u001b[0mtrain_inputs\u001b[0m\u001b[0;34m[\u001b[0m\u001b[0;36m0\u001b[0m\u001b[0;34m]\u001b[0m\u001b[0;34m[\u001b[0m\u001b[0mnext_index\u001b[0m \u001b[0;34m-\u001b[0m \u001b[0;36m2\u001b[0m\u001b[0;34m]\u001b[0m\u001b[0;34m,\u001b[0m \u001b[0mtrain_inputs\u001b[0m\u001b[0;34m[\u001b[0m\u001b[0;36m1\u001b[0m\u001b[0;34m]\u001b[0m\u001b[0;34m[\u001b[0m\u001b[0mnext_index\u001b[0m \u001b[0;34m-\u001b[0m \u001b[0;36m2\u001b[0m\u001b[0;34m]\u001b[0m\u001b[0;34m]\u001b[0m\u001b[0;34m)\u001b[0m\u001b[0;34m\u001b[0m\u001b[0m\n\u001b[0m",
      "\u001b[0;31mNameError\u001b[0m: name 'train_inputs' is not defined"
     ]
    }
   ],
   "source": [
    "model.predict_single([train_inputs[0][next_index - 2], train_inputs[1][next_index - 2]])"
   ]
  },
  {
   "cell_type": "code",
   "execution_count": 45,
   "metadata": {},
   "outputs": [
    {
     "data": {
      "text/plain": [
       "array([0.258651  , 0.        , 0.        , 0.        , 0.        ,\n",
       "       0.        , 0.        , 0.        , 0.        , 0.        ,\n",
       "       0.        , 0.27687292, 0.        , 0.        , 0.        ,\n",
       "       0.46447608, 0.        , 0.        , 0.        , 0.        ,\n",
       "       0.        , 0.        , 0.        , 0.        , 0.        ,\n",
       "       0.        , 0.        , 0.        , 0.        , 0.        ,\n",
       "       0.        , 0.        ])"
      ]
     },
     "execution_count": 45,
     "metadata": {},
     "output_type": "execute_result"
    }
   ],
   "source": [
    "train_outputs[0][next_index - 2]"
   ]
  },
  {
   "cell_type": "code",
   "execution_count": 46,
   "metadata": {},
   "outputs": [
    {
     "data": {
      "text/plain": [
       "array([[[0, 1],\n",
       "        [0, 0],\n",
       "        [0, 0],\n",
       "        [0, 0],\n",
       "        [0, 0],\n",
       "        [0, 0],\n",
       "        [0, 0],\n",
       "        [1, 0]],\n",
       "\n",
       "       [[1, 0],\n",
       "        [0, 0],\n",
       "        [0, 0],\n",
       "        [0, 0],\n",
       "        [1, 0],\n",
       "        [0, 0],\n",
       "        [0, 0],\n",
       "        [0, 0]],\n",
       "\n",
       "       [[0, 0],\n",
       "        [0, 0],\n",
       "        [0, 0],\n",
       "        [0, 0],\n",
       "        [0, 0],\n",
       "        [0, 0],\n",
       "        [0, 0],\n",
       "        [0, 0]],\n",
       "\n",
       "       [[0, 0],\n",
       "        [0, 0],\n",
       "        [0, 0],\n",
       "        [0, 0],\n",
       "        [0, 0],\n",
       "        [0, 0],\n",
       "        [0, 0],\n",
       "        [0, 0]]])"
      ]
     },
     "execution_count": 46,
     "metadata": {},
     "output_type": "execute_result"
    }
   ],
   "source": [
    "train_inputs[0][next_index - 2]"
   ]
  },
  {
   "cell_type": "code",
   "execution_count": 111,
   "metadata": {},
   "outputs": [],
   "source": [
    "test_model = build_model()"
   ]
  },
  {
   "cell_type": "code",
   "execution_count": 72,
   "metadata": {},
   "outputs": [],
   "source": [
    "K.set_value(test_model.optimizer.lr, 0.0001)"
   ]
  },
  {
   "cell_type": "code",
   "execution_count": 132,
   "metadata": {},
   "outputs": [
    {
     "name": "stdout",
     "output_type": "stream",
     "text": [
      "Epoch 1/10\n",
      "37764/37764 [==============================] - 1s 27us/step - loss: 0.6618 - dense_14_loss: 2.8052e-04 - dense_15_loss: 0.6615 - dense_14_acc: 0.5164 - dense_15_acc: 0.4518\n",
      "Epoch 2/10\n",
      "37764/37764 [==============================] - 1s 24us/step - loss: 0.6619 - dense_14_loss: 2.7928e-04 - dense_15_loss: 0.6616 - dense_14_acc: 0.5180 - dense_15_acc: 0.4519\n",
      "Epoch 3/10\n",
      "37764/37764 [==============================] - 1s 24us/step - loss: 0.6618 - dense_14_loss: 2.7612e-04 - dense_15_loss: 0.6616 - dense_14_acc: 0.5203 - dense_15_acc: 0.4518\n",
      "Epoch 4/10\n",
      "37764/37764 [==============================] - 1s 24us/step - loss: 0.6618 - dense_14_loss: 2.7579e-04 - dense_15_loss: 0.6615 - dense_14_acc: 0.5171 - dense_15_acc: 0.4513\n",
      "Epoch 5/10\n",
      "37764/37764 [==============================] - 1s 25us/step - loss: 0.6618 - dense_14_loss: 2.7352e-04 - dense_15_loss: 0.6615 - dense_14_acc: 0.5153 - dense_15_acc: 0.4513\n",
      "Epoch 6/10\n",
      "37764/37764 [==============================] - 1s 26us/step - loss: 0.6618 - dense_14_loss: 2.7305e-04 - dense_15_loss: 0.6616 - dense_14_acc: 0.5205 - dense_15_acc: 0.4518\n",
      "Epoch 7/10\n",
      "37764/37764 [==============================] - 1s 25us/step - loss: 0.6618 - dense_14_loss: 2.7032e-04 - dense_15_loss: 0.6615 - dense_14_acc: 0.5186 - dense_15_acc: 0.4522\n",
      "Epoch 8/10\n",
      "37764/37764 [==============================] - 1s 27us/step - loss: 0.6618 - dense_14_loss: 2.6888e-04 - dense_15_loss: 0.6615 - dense_14_acc: 0.5183 - dense_15_acc: 0.4515\n",
      "Epoch 9/10\n",
      "37764/37764 [==============================] - 1s 27us/step - loss: 0.6617 - dense_14_loss: 2.6399e-04 - dense_15_loss: 0.6615 - dense_14_acc: 0.5184 - dense_15_acc: 0.4523\n",
      "Epoch 10/10\n",
      "37764/37764 [==============================] - 1s 27us/step - loss: 0.6618 - dense_14_loss: 2.6460e-04 - dense_15_loss: 0.6615 - dense_14_acc: 0.5190 - dense_15_acc: 0.4518\n"
     ]
    },
    {
     "data": {
      "text/plain": [
       "<keras.callbacks.History at 0x7f44962f95f8>"
      ]
     },
     "execution_count": 132,
     "metadata": {},
     "output_type": "execute_result"
    }
   ],
   "source": [
    "test_model.fit([sample_inputs[0][:number_of_samples], sample_inputs[1][:number_of_samples]], [sample_outputs[0][:number_of_samples], sample_outputs[1][:number_of_samples]], epochs=10, batch_size=BATCH_SIZE)  "
   ]
  },
  {
   "cell_type": "code",
   "execution_count": 116,
   "metadata": {},
   "outputs": [
    {
     "data": {
      "text/plain": [
       "[array([0.0053017 , 0.0045248 , 0.00548624, 0.00582314, 0.0070843 ,\n",
       "        0.00583717, 0.00645116, 0.00290738, 0.00513383, 0.0056636 ,\n",
       "        0.331735  , 0.00607965, 0.0053452 , 0.00601907, 0.33392397,\n",
       "        0.0070668 , 0.00368037, 0.01111693, 0.00290891, 0.00334794,\n",
       "        0.00270144, 0.00335149, 0.00295761, 0.00356095, 0.00431994,\n",
       "        0.00539099, 0.00628497, 0.00557014, 0.3452927 , 0.00649954,\n",
       "        0.00652416, 0.00288056], dtype=float32),\n",
       " array([-0.81022185], dtype=float32)]"
      ]
     },
     "execution_count": 116,
     "metadata": {},
     "output_type": "execute_result"
    }
   ],
   "source": [
    "test_model.predict_single([sample_inputs[0][5], sample_inputs[1][5]])"
   ]
  },
  {
   "cell_type": "code",
   "execution_count": 110,
   "metadata": {},
   "outputs": [
    {
     "data": {
      "text/plain": [
       "37764"
      ]
     },
     "execution_count": 110,
     "metadata": {},
     "output_type": "execute_result"
    }
   ],
   "source": [
    "sample_outputs[0][10]"
   ]
  },
  {
   "cell_type": "code",
   "execution_count": 152,
   "metadata": {},
   "outputs": [
    {
     "data": {
      "text/plain": [
       "array([0.        , 0.23038077, 0.        , 0.        , 0.        ,\n",
       "       0.        , 0.        , 0.        , 0.        , 0.        ,\n",
       "       0.        , 0.        , 0.15442885, 0.        , 0.        ,\n",
       "       0.        , 0.        , 0.        , 0.        , 0.23038077,\n",
       "       0.        , 0.        , 0.        , 0.23038077, 0.        ,\n",
       "       0.        , 0.        , 0.        , 0.15442885, 0.        ,\n",
       "       0.        , 0.        ])"
      ]
     },
     "execution_count": 152,
     "metadata": {},
     "output_type": "execute_result"
    }
   ],
   "source": [
    "sample_outputs[0][10638]"
   ]
  },
  {
   "cell_type": "code",
   "execution_count": 97,
   "metadata": {},
   "outputs": [
    {
     "data": {
      "text/plain": [
       "0.127"
      ]
     },
     "execution_count": 97,
     "metadata": {},
     "output_type": "execute_result"
    }
   ],
   "source": [
    "eval(model, eval_cache_input, eval_cache_output)"
   ]
  },
  {
   "cell_type": "code",
   "execution_count": 133,
   "metadata": {},
   "outputs": [
    {
     "data": {
      "text/plain": [
       "0.8743247537337147"
      ]
     },
     "execution_count": 133,
     "metadata": {},
     "output_type": "execute_result"
    }
   ],
   "source": [
    "model_output = test_model.predict([sample_inputs[0][:number_of_samples], sample_inputs[1][:number_of_samples]])[0]\n",
    "a = np.argmax(model_output, axis=-1)\n",
    "k = np.equal(np.take(sample_outputs[0][:number_of_samples], np.argmax(sample_outputs[0][:number_of_samples], axis=-1)), np.take(sample_outputs[0][:number_of_samples], a)).sum()\n",
    "k / number_of_samples"
   ]
  },
  {
   "cell_type": "code",
   "execution_count": 102,
   "metadata": {},
   "outputs": [
    {
     "ename": "AttributeError",
     "evalue": "'LookUp' object has no attribute 'save'",
     "output_type": "error",
     "traceback": [
      "\u001b[0;31m---------------------------------------------------------------------------\u001b[0m",
      "\u001b[0;31mAttributeError\u001b[0m                            Traceback (most recent call last)",
      "\u001b[0;32m<ipython-input-102-51cb5e688689>\u001b[0m in \u001b[0;36m<module>\u001b[0;34m()\u001b[0m\n\u001b[0;32m----> 1\u001b[0;31m \u001b[0mmodel\u001b[0m\u001b[0;34m.\u001b[0m\u001b[0msave\u001b[0m\u001b[0;34m(\u001b[0m\u001b[0;34m'modelDense3.h5'\u001b[0m\u001b[0;34m)\u001b[0m\u001b[0;34m\u001b[0m\u001b[0m\n\u001b[0m",
      "\u001b[0;31mAttributeError\u001b[0m: 'LookUp' object has no attribute 'save'"
     ]
    }
   ],
   "source": [
    "model.save('modelDense3.h5')"
   ]
  },
  {
   "cell_type": "code",
   "execution_count": 82,
   "metadata": {},
   "outputs": [],
   "source": [
    "model.load_weights('modelDense2.h5')"
   ]
  },
  {
   "cell_type": "code",
   "execution_count": 97,
   "metadata": {},
   "outputs": [
    {
     "ename": "IndexError",
     "evalue": "list index out of range",
     "output_type": "error",
     "traceback": [
      "\u001b[0;31m---------------------------------------------------------------------------\u001b[0m",
      "\u001b[0;31mIndexError\u001b[0m                                Traceback (most recent call last)",
      "\u001b[0;32m<ipython-input-97-545214702627>\u001b[0m in \u001b[0;36m<module>\u001b[0;34m()\u001b[0m\n\u001b[0;32m----> 1\u001b[0;31m \u001b[0mcompare_given_games\u001b[0m\u001b[0;34m(\u001b[0m\u001b[0mbest_model\u001b[0m\u001b[0;34m,\u001b[0m \u001b[0mmodels\u001b[0m\u001b[0;34m[\u001b[0m\u001b[0;36m2\u001b[0m\u001b[0;34m]\u001b[0m\u001b[0;34m,\u001b[0m \u001b[0meval_games\u001b[0m\u001b[0;34m)\u001b[0m\u001b[0;34m\u001b[0m\u001b[0m\n\u001b[0m",
      "\u001b[0;31mIndexError\u001b[0m: list index out of range"
     ]
    }
   ],
   "source": [
    "compare_given_games(best_model, models[2], eval_games)"
   ]
  },
  {
   "cell_type": "code",
   "execution_count": 66,
   "metadata": {},
   "outputs": [],
   "source": [
    "models.append(best_model)"
   ]
  },
  {
   "cell_type": "code",
   "execution_count": 57,
   "metadata": {},
   "outputs": [],
   "source": [
    "models = []"
   ]
  },
  {
   "cell_type": "code",
   "execution_count": 274,
   "metadata": {},
   "outputs": [],
   "source": [
    "first_nn_model = model"
   ]
  },
  {
   "cell_type": "code",
   "execution_count": 74,
   "metadata": {},
   "outputs": [
    {
     "data": {
      "text/plain": [
       "0.690327380952381"
      ]
     },
     "execution_count": 74,
     "metadata": {},
     "output_type": "execute_result"
    }
   ],
   "source": [
    "eval(best_model, eval_games)"
   ]
  },
  {
   "cell_type": "code",
   "execution_count": 25,
   "metadata": {},
   "outputs": [
    {
     "name": "stdout",
     "output_type": "stream",
     "text": [
      "__________________________________________________________________________________________________\n",
      "Layer (type)                    Output Shape         Param #     Connected to                     \n",
      "==================================================================================================\n",
      "input_1 (InputLayer)            (None, 4, 8, 2)      0                                            \n",
      "__________________________________________________________________________________________________\n",
      "flatten_1 (Flatten)             (None, 64)           0           input_1[0][0]                    \n",
      "__________________________________________________________________________________________________\n",
      "input_2 (InputLayer)            (None, 4)            0                                            \n",
      "__________________________________________________________________________________________________\n",
      "concatenate_1 (Concatenate)     (None, 68)           0           flatten_1[0][0]                  \n",
      "                                                                 input_2[0][0]                    \n",
      "__________________________________________________________________________________________________\n",
      "dense_1 (Dense)                 (None, 1024)         70656       concatenate_1[0][0]              \n",
      "__________________________________________________________________________________________________\n",
      "concatenate_2 (Concatenate)     (None, 68)           0           flatten_1[0][0]                  \n",
      "                                                                 input_2[0][0]                    \n",
      "__________________________________________________________________________________________________\n",
      "dense_2 (Dense)                 (None, 32)           32800       dense_1[0][0]                    \n",
      "__________________________________________________________________________________________________\n",
      "dense_3 (Dense)                 (None, 1)            69          concatenate_2[0][0]              \n",
      "==================================================================================================\n",
      "Total params: 103,525\n",
      "Trainable params: 103,525\n",
      "Non-trainable params: 0\n",
      "__________________________________________________________________________________________________\n"
     ]
    }
   ],
   "source": [
    "model.summary()"
   ]
  },
  {
   "cell_type": "code",
   "execution_count": null,
   "metadata": {},
   "outputs": [],
   "source": []
  }
 ],
 "metadata": {
  "kernelspec": {
   "display_name": "Python 3",
   "language": "python",
   "name": "python3"
  },
  "language_info": {
   "codemirror_mode": {
    "name": "ipython",
    "version": 3
   },
   "file_extension": ".py",
   "mimetype": "text/x-python",
   "name": "python",
   "nbconvert_exporter": "python",
   "pygments_lexer": "ipython3",
   "version": "3.6.3"
  }
 },
 "nbformat": 4,
 "nbformat_minor": 2
}
