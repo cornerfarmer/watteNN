{
 "cells": [
  {
   "cell_type": "markdown",
   "metadata": {},
   "source": [
    "# Train"
   ]
  },
  {
   "cell_type": "code",
   "execution_count": 16,
   "metadata": {},
   "outputs": [
    {
     "data": {
      "application/vnd.jupyter.widget-view+json": {
       "model_id": "b0c9a832fcb7444a979c33a3e702cdf2",
       "version_major": 2,
       "version_minor": 0
      },
      "text/html": [
       "<p>Failed to display Jupyter Widget of type <code>FigureCanvasNbAgg</code>.</p>\n",
       "<p>\n",
       "  If you're reading this message in the Jupyter Notebook or JupyterLab Notebook, it may mean\n",
       "  that the widgets JavaScript is still loading. If this message persists, it\n",
       "  likely means that the widgets JavaScript library is either not installed or\n",
       "  not enabled. See the <a href=\"https://ipywidgets.readthedocs.io/en/stable/user_install.html\">Jupyter\n",
       "  Widgets Documentation</a> for setup instructions.\n",
       "</p>\n",
       "<p>\n",
       "  If you're reading this message in another frontend (for example, a static\n",
       "  rendering on GitHub or <a href=\"https://nbviewer.jupyter.org/\">NBViewer</a>),\n",
       "  it may mean that your frontend doesn't currently support widgets.\n",
       "</p>\n"
      ],
      "text/plain": [
       "FigureCanvasNbAgg()"
      ]
     },
     "metadata": {},
     "output_type": "display_data"
    }
   ],
   "source": [
    "fig, ax = plt.subplots()"
   ]
  },
  {
   "cell_type": "code",
   "execution_count": 17,
   "metadata": {},
   "outputs": [],
   "source": [
    "model = build_model()\n",
    "trained_model = build_model()\n",
    "trained_model.set_weights(model.get_weights())\n",
    "#model.summary()"
   ]
  },
  {
   "cell_type": "code",
   "execution_count": 20,
   "metadata": {},
   "outputs": [],
   "source": [
    "trained_model.set_weights(model.get_weights())"
   ]
  },
  {
   "cell_type": "code",
   "execution_count": 77,
   "metadata": {},
   "outputs": [],
   "source": [
    "reset_samples()\n",
    "eval_scores = [eval(trained_model, eval_cache_input, eval_cache_output)]\n",
    "all_eval_scores = eval_scores[:]\n"
   ]
  },
  {
   "cell_type": "code",
   "execution_count": 78,
   "metadata": {
    "scrolled": true
   },
   "outputs": [
    {
     "name": "stdout",
     "output_type": "stream",
     "text": [
      "Epoch 1/1\n",
      "12180/12180 [==============================] - 0s 31us/step - loss: 0.1374 - dense_12_loss: 0.0021 - dense_16_loss: 0.1353 - dense_12_acc: 0.7847 - dense_16_acc: 0.9456\n",
      "Last scores: [0.989, 0.988, 0.987, 0.986, 0.984, 0.981, 0.979, 0.978, 0.975]!\n"
     ]
    }
   ],
   "source": [
    "for i in range(20):  \n",
    "    mcts_generate()\n",
    "    clear_output()\n",
    "    \n",
    "    p = np.random.permutation(int(number_of_samples))\n",
    "    if len(p) > BATCH_SIZE * TRAINING_LOOPS:\n",
    "        p = p[:BATCH_SIZE * TRAINING_LOOPS]\n",
    "    train_outputs = []\n",
    "    train_inputs = []\n",
    "    for i in range(len(sample_outputs)):\n",
    "        train_outputs.append(sample_outputs[i][p])\n",
    "    for i in range(len(sample_inputs)):\n",
    "        train_inputs.append(sample_inputs[i][p])\n",
    "        \n",
    "    trained_model.fit(train_inputs, train_outputs, epochs=1, batch_size=BATCH_SIZE)    \n",
    "    \n",
    "    eval_new = eval(trained_model, eval_cache_input, eval_cache_output)\n",
    "    if eval_new > eval_scores[-1]:\n",
    "        eval_scores.append(eval_new)\n",
    "        print(\"New model score: \" + str(eval_scores[-1]) + \"!\")\n",
    "        model.set_weights(trained_model.get_weights())\n",
    "    print(\"Last scores: \" + str(eval_scores[::-1]) + \"!\")\n",
    "    all_eval_scores.append(eval_new)\n",
    "    \n",
    "plt.plot(all_eval_scores, label='6x75')\n",
    "ax.legend(shadow=True)\n",
    "plt.show()"
   ]
  },
  {
   "cell_type": "code",
   "execution_count": 61,
   "metadata": {},
   "outputs": [],
   "source": [
    "model.set_weights(trained_model.get_weights())"
   ]
  },
  {
   "cell_type": "code",
   "execution_count": 59,
   "metadata": {},
   "outputs": [
    {
     "name": "stdout",
     "output_type": "stream",
     "text": [
      "Epoch 1/1\n",
      "300000/300000 [==============================] - 10s 32us/step - loss: 0.0921 - dense_12_loss: 9.4333e-04 - dense_16_loss: 0.0911 - dense_12_acc: 0.3069 - dense_16_acc: 0.9478\n",
      "0.85\n",
      "Epoch 1/1\n",
      "300000/300000 [==============================] - 10s 34us/step - loss: 0.0907 - dense_12_loss: 9.4048e-04 - dense_16_loss: 0.0898 - dense_12_acc: 0.3075 - dense_16_acc: 0.9481\n",
      "0.85\n",
      "Epoch 1/1\n",
      "300000/300000 [==============================] - 12s 39us/step - loss: 0.0910 - dense_12_loss: 9.3987e-04 - dense_16_loss: 0.0901 - dense_12_acc: 0.3068 - dense_16_acc: 0.9482\n",
      "0.8\n"
     ]
    }
   ],
   "source": [
    "for i in range(3):\n",
    "    trained_model.fit(sample_inputs, sample_outputs, epochs=1, batch_size=BATCH_SIZE)  \n",
    "    print(eval(trained_model, eval_cache_input, eval_cache_output))"
   ]
  },
  {
   "cell_type": "code",
   "execution_count": 62,
   "metadata": {},
   "outputs": [
    {
     "data": {
      "text/plain": [
       "0.8"
      ]
     },
     "execution_count": 62,
     "metadata": {},
     "output_type": "execute_result"
    }
   ],
   "source": [
    "eval(trained_model, eval_cache_input, eval_cache_output)"
   ]
  },
  {
   "cell_type": "code",
   "execution_count": 61,
   "metadata": {},
   "outputs": [
    {
     "data": {
      "text/plain": [
       "0.9862666666666666"
      ]
     },
     "execution_count": 61,
     "metadata": {},
     "output_type": "execute_result"
    }
   ],
   "source": [
    "model_output = model.predict([sample_inputs[0], sample_inputs[1]])[0]\n",
    "a = np.argmax(model_output, axis=-1)\n",
    "k = np.equal(np.take(sample_outputs[0], np.argmax(sample_outputs[0], axis=-1)), np.take(sample_outputs[0], a)).sum()\n",
    "k / len(sample_outputs[0])"
   ]
  },
  {
   "cell_type": "code",
   "execution_count": 53,
   "metadata": {},
   "outputs": [],
   "source": [
    "model.save('model.h5')"
   ]
  },
  {
   "cell_type": "code",
   "execution_count": 63,
   "metadata": {},
   "outputs": [],
   "source": [
    "model.load_weights('modelDense.h5')"
   ]
  },
  {
   "cell_type": "code",
   "execution_count": 62,
   "metadata": {},
   "outputs": [
    {
     "data": {
      "text/plain": [
       "0.35"
      ]
     },
     "execution_count": 62,
     "metadata": {},
     "output_type": "execute_result"
    }
   ],
   "source": [
    "compare(model, None)"
   ]
  },
  {
   "cell_type": "code",
   "execution_count": 59,
   "metadata": {},
   "outputs": [
    {
     "data": {
      "text/plain": [
       "1"
      ]
     },
     "execution_count": 59,
     "metadata": {},
     "output_type": "execute_result"
    }
   ],
   "source": [
    "match([model, None])"
   ]
  },
  {
   "cell_type": "code",
   "execution_count": null,
   "metadata": {},
   "outputs": [],
   "source": []
  }
 ],
 "metadata": {
  "kernelspec": {
   "display_name": "Python 3",
   "language": "python",
   "name": "python3"
  },
  "language_info": {
   "codemirror_mode": {
    "name": "ipython",
    "version": 3
   },
   "file_extension": ".py",
   "mimetype": "text/x-python",
   "name": "python",
   "nbconvert_exporter": "python",
   "pygments_lexer": "ipython3",
   "version": "3.6.3"
  }
 },
 "nbformat": 4,
 "nbformat_minor": 2
}
