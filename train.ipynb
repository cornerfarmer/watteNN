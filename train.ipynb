{
 "cells": [
  {
   "cell_type": "markdown",
   "metadata": {},
   "source": [
    "# Train"
   ]
  },
  {
   "cell_type": "code",
   "execution_count": 236,
   "metadata": {},
   "outputs": [
    {
     "name": "stderr",
     "output_type": "stream",
     "text": [
      "/usr/local/lib/python3.6/dist-packages/matplotlib/pyplot.py:528: RuntimeWarning: More than 20 figures have been opened. Figures created through the pyplot interface (`matplotlib.pyplot.figure`) are retained until explicitly closed and may consume too much memory. (To control this warning, see the rcParam `figure.max_open_warning`).\n",
      "  max_open_warning, RuntimeWarning)\n"
     ]
    },
    {
     "data": {
      "application/vnd.jupyter.widget-view+json": {
       "model_id": "89e19106d086499fa47f1c24d9281128",
       "version_major": 2,
       "version_minor": 0
      },
      "text/html": [
       "<p>Failed to display Jupyter Widget of type <code>FigureCanvasNbAgg</code>.</p>\n",
       "<p>\n",
       "  If you're reading this message in the Jupyter Notebook or JupyterLab Notebook, it may mean\n",
       "  that the widgets JavaScript is still loading. If this message persists, it\n",
       "  likely means that the widgets JavaScript library is either not installed or\n",
       "  not enabled. See the <a href=\"https://ipywidgets.readthedocs.io/en/stable/user_install.html\">Jupyter\n",
       "  Widgets Documentation</a> for setup instructions.\n",
       "</p>\n",
       "<p>\n",
       "  If you're reading this message in another frontend (for example, a static\n",
       "  rendering on GitHub or <a href=\"https://nbviewer.jupyter.org/\">NBViewer</a>),\n",
       "  it may mean that your frontend doesn't currently support widgets.\n",
       "</p>\n"
      ],
      "text/plain": [
       "FigureCanvasNbAgg()"
      ]
     },
     "metadata": {},
     "output_type": "display_data"
    }
   ],
   "source": [
    "fig, ax = plt.subplots()"
   ]
  },
  {
   "cell_type": "code",
   "execution_count": 231,
   "metadata": {},
   "outputs": [],
   "source": [
    "model = build_model()\n",
    "trained_model = build_model()\n",
    "trained_model.set_weights(model.get_weights())\n",
    "#model.summary()"
   ]
  },
  {
   "cell_type": "code",
   "execution_count": 254,
   "metadata": {},
   "outputs": [],
   "source": [
    "trained_model.set_weights(model.get_weights())"
   ]
  },
  {
   "cell_type": "code",
   "execution_count": 232,
   "metadata": {},
   "outputs": [
    {
     "name": "stdout",
     "output_type": "stream",
     "text": [
      "0 0.0 0.12\n",
      "1 0.0 0.07\n",
      "2 0.0 0.59\n",
      "3 0.0 0.59\n",
      "4 0.0 0.41\n",
      "6 0.0 0.39\n",
      "7 0.0 0.95\n",
      "8 0.0 0.07\n",
      "9 0.26 0.77\n",
      "10 0.0 0.67\n",
      "11 0.0 0.98\n",
      "12 0.0 0.76\n",
      "13 0.0 0.57\n",
      "14 0.0 0.39\n",
      "15 0.0 0.9\n",
      "16 0.0 0.96\n",
      "17 0.0 1.0\n",
      "18 0.0 0.75\n",
      "19 0.0 1.0\n",
      "20 0.0 0.11\n",
      "23 0.0 1.0\n",
      "24 0.0 0.58\n",
      "26 0.0 0.69\n",
      "27 0.0 0.4\n",
      "28 0.0 0.44\n",
      "29 0.0 1.0\n",
      "30 0.0 0.83\n",
      "31 0.0 0.16\n",
      "32 0.0 0.86\n",
      "33 0.0 0.33\n",
      "35 0.0 0.77\n",
      "36 0.0 1.0\n",
      "37 0.0 0.92\n",
      "38 0.0 0.87\n",
      "39 0.0 0.06\n",
      "40 0.0 0.44\n",
      "41 0.0 0.69\n",
      "43 0.0 1.0\n",
      "44 0.0 0.54\n",
      "45 0.0 1.0\n",
      "46 0.0 0.24\n",
      "47 0.0 1.0\n",
      "48 0.0 0.15\n",
      "49 0.0 0.63\n",
      "50 0.0 0.12\n",
      "51 0.0 1.0\n",
      "52 0.0 0.09\n",
      "54 0.0 0.38\n",
      "56 0.0 1.0\n",
      "57 0.0 0.85\n",
      "58 0.0 0.93\n",
      "59 0.0 0.25\n",
      "60 0.98 1.0\n",
      "61 0.0 0.32\n",
      "62 0.0 0.33\n",
      "63 0.0 0.3\n",
      "64 0.0 1.0\n",
      "65 0.0 0.42\n",
      "66 0.0 0.13\n",
      "68 0.0 0.66\n",
      "69 0.0 0.31\n",
      "70 0.0 0.38\n",
      "71 0.0 0.36\n",
      "72 0.0 0.18\n",
      "74 0.0 1.0\n",
      "75 0.0 0.55\n",
      "77 0.0 0.99\n",
      "78 0.0 0.95\n",
      "79 0.0 0.19\n",
      "80 0.0 0.37\n",
      "81 0.0 0.71\n",
      "82 0.69 0.81\n",
      "83 0.0 1.0\n",
      "84 0.0 0.18\n",
      "87 0.0 0.9\n",
      "88 0.0 0.93\n",
      "89 0.0 0.97\n",
      "90 0.0 0.97\n",
      "91 0.0 0.98\n",
      "92 0.0 0.45\n",
      "93 0.0 0.48\n",
      "94 0.0 0.82\n",
      "95 0.0 0.87\n",
      "96 0.3 0.69\n",
      "97 0.0 0.02\n",
      "98 0.0 0.83\n"
     ]
    }
   ],
   "source": [
    "reset_samples()\n",
    "eval_scores = [eval(trained_model, eval_cache_input, eval_cache_output)]\n",
    "all_eval_scores = eval_scores[:]\n"
   ]
  },
  {
   "cell_type": "code",
   "execution_count": 248,
   "metadata": {},
   "outputs": [],
   "source": [
    "reset_samples()"
   ]
  },
  {
   "cell_type": "code",
   "execution_count": 260,
   "metadata": {
    "scrolled": true
   },
   "outputs": [
    {
     "name": "stdout",
     "output_type": "stream",
     "text": [
      "Epoch 1/1\n",
      "19712/25600 [======================>.......] - ETA: 0s - loss: 0.0773 - dense_76_loss: 2.0104e-04 - dense_80_loss: 0.0771 - dense_76_acc: 0.6166 - dense_80_acc: 0.4655"
     ]
    },
    {
     "ename": "KeyboardInterrupt",
     "evalue": "",
     "output_type": "error",
     "traceback": [
      "\u001b[0;31m---------------------------------------------------------------------------\u001b[0m",
      "\u001b[0;31mKeyboardInterrupt\u001b[0m                         Traceback (most recent call last)",
      "\u001b[0;32m<ipython-input-260-81df8e2975e5>\u001b[0m in \u001b[0;36m<module>\u001b[0;34m()\u001b[0m\n\u001b[1;32m     13\u001b[0m         \u001b[0mtrain_inputs\u001b[0m\u001b[0;34m.\u001b[0m\u001b[0mappend\u001b[0m\u001b[0;34m(\u001b[0m\u001b[0msample_inputs\u001b[0m\u001b[0;34m[\u001b[0m\u001b[0mi\u001b[0m\u001b[0;34m]\u001b[0m\u001b[0;34m[\u001b[0m\u001b[0mp\u001b[0m\u001b[0;34m]\u001b[0m\u001b[0;34m)\u001b[0m\u001b[0;34m\u001b[0m\u001b[0m\n\u001b[1;32m     14\u001b[0m \u001b[0;34m\u001b[0m\u001b[0m\n\u001b[0;32m---> 15\u001b[0;31m     \u001b[0mtrained_model\u001b[0m\u001b[0;34m.\u001b[0m\u001b[0mfit\u001b[0m\u001b[0;34m(\u001b[0m\u001b[0mtrain_inputs\u001b[0m\u001b[0;34m,\u001b[0m \u001b[0mtrain_outputs\u001b[0m\u001b[0;34m,\u001b[0m \u001b[0mepochs\u001b[0m\u001b[0;34m=\u001b[0m\u001b[0;36m1\u001b[0m\u001b[0;34m,\u001b[0m \u001b[0mbatch_size\u001b[0m\u001b[0;34m=\u001b[0m\u001b[0mBATCH_SIZE\u001b[0m\u001b[0;34m)\u001b[0m\u001b[0;34m\u001b[0m\u001b[0m\n\u001b[0m\u001b[1;32m     16\u001b[0m \u001b[0;34m\u001b[0m\u001b[0m\n\u001b[1;32m     17\u001b[0m     \u001b[0meval_new\u001b[0m \u001b[0;34m=\u001b[0m \u001b[0meval\u001b[0m\u001b[0;34m(\u001b[0m\u001b[0mtrained_model\u001b[0m\u001b[0;34m,\u001b[0m \u001b[0meval_cache_input\u001b[0m\u001b[0;34m,\u001b[0m \u001b[0meval_cache_output\u001b[0m\u001b[0;34m)\u001b[0m\u001b[0;34m\u001b[0m\u001b[0m\n",
      "\u001b[0;32m/usr/local/lib/python3.6/dist-packages/keras/engine/training.py\u001b[0m in \u001b[0;36mfit\u001b[0;34m(self, x, y, batch_size, epochs, verbose, callbacks, validation_split, validation_data, shuffle, class_weight, sample_weight, initial_epoch, steps_per_epoch, validation_steps, **kwargs)\u001b[0m\n\u001b[1;32m   1667\u001b[0m                               \u001b[0minitial_epoch\u001b[0m\u001b[0;34m=\u001b[0m\u001b[0minitial_epoch\u001b[0m\u001b[0;34m,\u001b[0m\u001b[0;34m\u001b[0m\u001b[0m\n\u001b[1;32m   1668\u001b[0m                               \u001b[0msteps_per_epoch\u001b[0m\u001b[0;34m=\u001b[0m\u001b[0msteps_per_epoch\u001b[0m\u001b[0;34m,\u001b[0m\u001b[0;34m\u001b[0m\u001b[0m\n\u001b[0;32m-> 1669\u001b[0;31m                               validation_steps=validation_steps)\n\u001b[0m\u001b[1;32m   1670\u001b[0m \u001b[0;34m\u001b[0m\u001b[0m\n\u001b[1;32m   1671\u001b[0m     def evaluate(self, x=None, y=None,\n",
      "\u001b[0;32m/usr/local/lib/python3.6/dist-packages/keras/engine/training.py\u001b[0m in \u001b[0;36m_fit_loop\u001b[0;34m(self, f, ins, out_labels, batch_size, epochs, verbose, callbacks, val_f, val_ins, shuffle, callback_metrics, initial_epoch, steps_per_epoch, validation_steps)\u001b[0m\n\u001b[1;32m   1204\u001b[0m                         \u001b[0mins_batch\u001b[0m\u001b[0;34m[\u001b[0m\u001b[0mi\u001b[0m\u001b[0;34m]\u001b[0m \u001b[0;34m=\u001b[0m \u001b[0mins_batch\u001b[0m\u001b[0;34m[\u001b[0m\u001b[0mi\u001b[0m\u001b[0;34m]\u001b[0m\u001b[0;34m.\u001b[0m\u001b[0mtoarray\u001b[0m\u001b[0;34m(\u001b[0m\u001b[0;34m)\u001b[0m\u001b[0;34m\u001b[0m\u001b[0m\n\u001b[1;32m   1205\u001b[0m \u001b[0;34m\u001b[0m\u001b[0m\n\u001b[0;32m-> 1206\u001b[0;31m                     \u001b[0mouts\u001b[0m \u001b[0;34m=\u001b[0m \u001b[0mf\u001b[0m\u001b[0;34m(\u001b[0m\u001b[0mins_batch\u001b[0m\u001b[0;34m)\u001b[0m\u001b[0;34m\u001b[0m\u001b[0m\n\u001b[0m\u001b[1;32m   1207\u001b[0m                     \u001b[0;32mif\u001b[0m \u001b[0;32mnot\u001b[0m \u001b[0misinstance\u001b[0m\u001b[0;34m(\u001b[0m\u001b[0mouts\u001b[0m\u001b[0;34m,\u001b[0m \u001b[0mlist\u001b[0m\u001b[0;34m)\u001b[0m\u001b[0;34m:\u001b[0m\u001b[0;34m\u001b[0m\u001b[0m\n\u001b[1;32m   1208\u001b[0m                         \u001b[0mouts\u001b[0m \u001b[0;34m=\u001b[0m \u001b[0;34m[\u001b[0m\u001b[0mouts\u001b[0m\u001b[0;34m]\u001b[0m\u001b[0;34m\u001b[0m\u001b[0m\n",
      "\u001b[0;32m/usr/local/lib/python3.6/dist-packages/keras/backend/tensorflow_backend.py\u001b[0m in \u001b[0;36m__call__\u001b[0;34m(self, inputs)\u001b[0m\n\u001b[1;32m   2473\u001b[0m         \u001b[0msession\u001b[0m \u001b[0;34m=\u001b[0m \u001b[0mget_session\u001b[0m\u001b[0;34m(\u001b[0m\u001b[0;34m)\u001b[0m\u001b[0;34m\u001b[0m\u001b[0m\n\u001b[1;32m   2474\u001b[0m         updated = session.run(fetches=fetches, feed_dict=feed_dict,\n\u001b[0;32m-> 2475\u001b[0;31m                               **self.session_kwargs)\n\u001b[0m\u001b[1;32m   2476\u001b[0m         \u001b[0;32mreturn\u001b[0m \u001b[0mupdated\u001b[0m\u001b[0;34m[\u001b[0m\u001b[0;34m:\u001b[0m\u001b[0mlen\u001b[0m\u001b[0;34m(\u001b[0m\u001b[0mself\u001b[0m\u001b[0;34m.\u001b[0m\u001b[0moutputs\u001b[0m\u001b[0;34m)\u001b[0m\u001b[0;34m]\u001b[0m\u001b[0;34m\u001b[0m\u001b[0m\n\u001b[1;32m   2477\u001b[0m \u001b[0;34m\u001b[0m\u001b[0m\n",
      "\u001b[0;32m/usr/local/lib/python3.6/dist-packages/tensorflow/python/client/session.py\u001b[0m in \u001b[0;36mrun\u001b[0;34m(self, fetches, feed_dict, options, run_metadata)\u001b[0m\n\u001b[1;32m    893\u001b[0m     \u001b[0;32mtry\u001b[0m\u001b[0;34m:\u001b[0m\u001b[0;34m\u001b[0m\u001b[0m\n\u001b[1;32m    894\u001b[0m       result = self._run(None, fetches, feed_dict, options_ptr,\n\u001b[0;32m--> 895\u001b[0;31m                          run_metadata_ptr)\n\u001b[0m\u001b[1;32m    896\u001b[0m       \u001b[0;32mif\u001b[0m \u001b[0mrun_metadata\u001b[0m\u001b[0;34m:\u001b[0m\u001b[0;34m\u001b[0m\u001b[0m\n\u001b[1;32m    897\u001b[0m         \u001b[0mproto_data\u001b[0m \u001b[0;34m=\u001b[0m \u001b[0mtf_session\u001b[0m\u001b[0;34m.\u001b[0m\u001b[0mTF_GetBuffer\u001b[0m\u001b[0;34m(\u001b[0m\u001b[0mrun_metadata_ptr\u001b[0m\u001b[0;34m)\u001b[0m\u001b[0;34m\u001b[0m\u001b[0m\n",
      "\u001b[0;32m/usr/local/lib/python3.6/dist-packages/tensorflow/python/client/session.py\u001b[0m in \u001b[0;36m_run\u001b[0;34m(self, handle, fetches, feed_dict, options, run_metadata)\u001b[0m\n\u001b[1;32m   1126\u001b[0m     \u001b[0;32mif\u001b[0m \u001b[0mfinal_fetches\u001b[0m \u001b[0;32mor\u001b[0m \u001b[0mfinal_targets\u001b[0m \u001b[0;32mor\u001b[0m \u001b[0;34m(\u001b[0m\u001b[0mhandle\u001b[0m \u001b[0;32mand\u001b[0m \u001b[0mfeed_dict_tensor\u001b[0m\u001b[0;34m)\u001b[0m\u001b[0;34m:\u001b[0m\u001b[0;34m\u001b[0m\u001b[0m\n\u001b[1;32m   1127\u001b[0m       results = self._do_run(handle, final_targets, final_fetches,\n\u001b[0;32m-> 1128\u001b[0;31m                              feed_dict_tensor, options, run_metadata)\n\u001b[0m\u001b[1;32m   1129\u001b[0m     \u001b[0;32melse\u001b[0m\u001b[0;34m:\u001b[0m\u001b[0;34m\u001b[0m\u001b[0m\n\u001b[1;32m   1130\u001b[0m       \u001b[0mresults\u001b[0m \u001b[0;34m=\u001b[0m \u001b[0;34m[\u001b[0m\u001b[0;34m]\u001b[0m\u001b[0;34m\u001b[0m\u001b[0m\n",
      "\u001b[0;32m/usr/local/lib/python3.6/dist-packages/tensorflow/python/client/session.py\u001b[0m in \u001b[0;36m_do_run\u001b[0;34m(self, handle, target_list, fetch_list, feed_dict, options, run_metadata)\u001b[0m\n\u001b[1;32m   1342\u001b[0m     \u001b[0;32mif\u001b[0m \u001b[0mhandle\u001b[0m \u001b[0;32mis\u001b[0m \u001b[0;32mNone\u001b[0m\u001b[0;34m:\u001b[0m\u001b[0;34m\u001b[0m\u001b[0m\n\u001b[1;32m   1343\u001b[0m       return self._do_call(_run_fn, self._session, feeds, fetches, targets,\n\u001b[0;32m-> 1344\u001b[0;31m                            options, run_metadata)\n\u001b[0m\u001b[1;32m   1345\u001b[0m     \u001b[0;32melse\u001b[0m\u001b[0;34m:\u001b[0m\u001b[0;34m\u001b[0m\u001b[0m\n\u001b[1;32m   1346\u001b[0m       \u001b[0;32mreturn\u001b[0m \u001b[0mself\u001b[0m\u001b[0;34m.\u001b[0m\u001b[0m_do_call\u001b[0m\u001b[0;34m(\u001b[0m\u001b[0m_prun_fn\u001b[0m\u001b[0;34m,\u001b[0m \u001b[0mself\u001b[0m\u001b[0;34m.\u001b[0m\u001b[0m_session\u001b[0m\u001b[0;34m,\u001b[0m \u001b[0mhandle\u001b[0m\u001b[0;34m,\u001b[0m \u001b[0mfeeds\u001b[0m\u001b[0;34m,\u001b[0m \u001b[0mfetches\u001b[0m\u001b[0;34m)\u001b[0m\u001b[0;34m\u001b[0m\u001b[0m\n",
      "\u001b[0;32m/usr/local/lib/python3.6/dist-packages/tensorflow/python/client/session.py\u001b[0m in \u001b[0;36m_do_call\u001b[0;34m(self, fn, *args)\u001b[0m\n\u001b[1;32m   1348\u001b[0m   \u001b[0;32mdef\u001b[0m \u001b[0m_do_call\u001b[0m\u001b[0;34m(\u001b[0m\u001b[0mself\u001b[0m\u001b[0;34m,\u001b[0m \u001b[0mfn\u001b[0m\u001b[0;34m,\u001b[0m \u001b[0;34m*\u001b[0m\u001b[0margs\u001b[0m\u001b[0;34m)\u001b[0m\u001b[0;34m:\u001b[0m\u001b[0;34m\u001b[0m\u001b[0m\n\u001b[1;32m   1349\u001b[0m     \u001b[0;32mtry\u001b[0m\u001b[0;34m:\u001b[0m\u001b[0;34m\u001b[0m\u001b[0m\n\u001b[0;32m-> 1350\u001b[0;31m       \u001b[0;32mreturn\u001b[0m \u001b[0mfn\u001b[0m\u001b[0;34m(\u001b[0m\u001b[0;34m*\u001b[0m\u001b[0margs\u001b[0m\u001b[0;34m)\u001b[0m\u001b[0;34m\u001b[0m\u001b[0m\n\u001b[0m\u001b[1;32m   1351\u001b[0m     \u001b[0;32mexcept\u001b[0m \u001b[0merrors\u001b[0m\u001b[0;34m.\u001b[0m\u001b[0mOpError\u001b[0m \u001b[0;32mas\u001b[0m \u001b[0me\u001b[0m\u001b[0;34m:\u001b[0m\u001b[0;34m\u001b[0m\u001b[0m\n\u001b[1;32m   1352\u001b[0m       \u001b[0mmessage\u001b[0m \u001b[0;34m=\u001b[0m \u001b[0mcompat\u001b[0m\u001b[0;34m.\u001b[0m\u001b[0mas_text\u001b[0m\u001b[0;34m(\u001b[0m\u001b[0me\u001b[0m\u001b[0;34m.\u001b[0m\u001b[0mmessage\u001b[0m\u001b[0;34m)\u001b[0m\u001b[0;34m\u001b[0m\u001b[0m\n",
      "\u001b[0;32m/usr/local/lib/python3.6/dist-packages/tensorflow/python/client/session.py\u001b[0m in \u001b[0;36m_run_fn\u001b[0;34m(session, feed_dict, fetch_list, target_list, options, run_metadata)\u001b[0m\n\u001b[1;32m   1327\u001b[0m           return tf_session.TF_Run(session, options,\n\u001b[1;32m   1328\u001b[0m                                    \u001b[0mfeed_dict\u001b[0m\u001b[0;34m,\u001b[0m \u001b[0mfetch_list\u001b[0m\u001b[0;34m,\u001b[0m \u001b[0mtarget_list\u001b[0m\u001b[0;34m,\u001b[0m\u001b[0;34m\u001b[0m\u001b[0m\n\u001b[0;32m-> 1329\u001b[0;31m                                    status, run_metadata)\n\u001b[0m\u001b[1;32m   1330\u001b[0m \u001b[0;34m\u001b[0m\u001b[0m\n\u001b[1;32m   1331\u001b[0m     \u001b[0;32mdef\u001b[0m \u001b[0m_prun_fn\u001b[0m\u001b[0;34m(\u001b[0m\u001b[0msession\u001b[0m\u001b[0;34m,\u001b[0m \u001b[0mhandle\u001b[0m\u001b[0;34m,\u001b[0m \u001b[0mfeed_dict\u001b[0m\u001b[0;34m,\u001b[0m \u001b[0mfetch_list\u001b[0m\u001b[0;34m)\u001b[0m\u001b[0;34m:\u001b[0m\u001b[0;34m\u001b[0m\u001b[0m\n",
      "\u001b[0;31mKeyboardInterrupt\u001b[0m: "
     ]
    }
   ],
   "source": [
    "for i in range(100):  \n",
    "    mcts_generate()\n",
    "    clear_output()\n",
    "    \n",
    "    p = np.random.permutation(int(number_of_samples))\n",
    "    if len(p) > BATCH_SIZE * TRAINING_LOOPS:\n",
    "        p = p[:BATCH_SIZE * TRAINING_LOOPS]\n",
    "    train_outputs = []\n",
    "    train_inputs = []\n",
    "    for i in range(len(sample_outputs)):\n",
    "        train_outputs.append(sample_outputs[i][p])\n",
    "    for i in range(len(sample_inputs)):\n",
    "        train_inputs.append(sample_inputs[i][p])\n",
    "        \n",
    "    trained_model.fit(train_inputs, train_outputs, epochs=1, batch_size=BATCH_SIZE)    \n",
    "    \n",
    "    eval_new = eval(trained_model, eval_cache_input, eval_cache_output)\n",
    "    if eval_new > eval_scores[-1]:\n",
    "        eval_scores.append(eval_new)\n",
    "        print(\"New model score: \" + str(eval_scores[-1]) + \"!\")\n",
    "        model.set_weights(trained_model.get_weights())\n",
    "    print(\"Last scores: \" + str(eval_scores[::-1]) + \"!\")\n",
    "    all_eval_scores.append(eval_new)\n",
    "    \n",
    "plt.plot(all_eval_scores, label='6x75')\n",
    "ax.legend(shadow=True)\n",
    "plt.show()"
   ]
  },
  {
   "cell_type": "code",
   "execution_count": 251,
   "metadata": {},
   "outputs": [
    {
     "data": {
      "text/plain": [
       "[0.14,\n",
       " 0.1,\n",
       " 0.11,\n",
       " 0.14,\n",
       " 0.14,\n",
       " 0.14,\n",
       " 0.15,\n",
       " 0.13,\n",
       " 0.16,\n",
       " 0.17,\n",
       " 0.17,\n",
       " 0.17,\n",
       " 0.17,\n",
       " 0.16,\n",
       " 0.15,\n",
       " 0.16,\n",
       " 0.16,\n",
       " 0.09,\n",
       " 0.08,\n",
       " 0.19,\n",
       " 0.17,\n",
       " 0.3,\n",
       " 0.35,\n",
       " 0.39,\n",
       " 0.51,\n",
       " 0.54,\n",
       " 0.57,\n",
       " 0.61,\n",
       " 0.65,\n",
       " 0.69,\n",
       " 0.68,\n",
       " 0.67,\n",
       " 0.68,\n",
       " 0.66,\n",
       " 0.67,\n",
       " 0.66,\n",
       " 0.7,\n",
       " 0.73,\n",
       " 0.74,\n",
       " 0.75,\n",
       " 0.78,\n",
       " 0.73,\n",
       " 0.72,\n",
       " 0.75,\n",
       " 0.77,\n",
       " 0.78,\n",
       " 0.76,\n",
       " 0.74,\n",
       " 0.73,\n",
       " 0.76,\n",
       " 0.81,\n",
       " 0.78,\n",
       " 0.71,\n",
       " 0.75,\n",
       " 0.74,\n",
       " 0.76,\n",
       " 0.76,\n",
       " 0.76,\n",
       " 0.77,\n",
       " 0.8,\n",
       " 0.8,\n",
       " 0.76,\n",
       " 0.76,\n",
       " 0.76,\n",
       " 0.84,\n",
       " 0.77,\n",
       " 0.83,\n",
       " 0.77,\n",
       " 0.77,\n",
       " 0.75,\n",
       " 0.76,\n",
       " 0.78,\n",
       " 0.74,\n",
       " 0.79,\n",
       " 0.78,\n",
       " 0.78,\n",
       " 0.81,\n",
       " 0.8,\n",
       " 0.81,\n",
       " 0.78,\n",
       " 0.81,\n",
       " 0.83,\n",
       " 0.79,\n",
       " 0.81,\n",
       " 0.81,\n",
       " 0.79,\n",
       " 0.79,\n",
       " 0.78,\n",
       " 0.78,\n",
       " 0.82,\n",
       " 0.8,\n",
       " 0.78,\n",
       " 0.82,\n",
       " 0.81,\n",
       " 0.82,\n",
       " 0.8,\n",
       " 0.82,\n",
       " 0.84,\n",
       " 0.81,\n",
       " 0.82,\n",
       " 0.8,\n",
       " 0.83,\n",
       " 0.82,\n",
       " 0.83,\n",
       " 0.83,\n",
       " 0.83,\n",
       " 0.83,\n",
       " 0.83,\n",
       " 0.85,\n",
       " 0.84,\n",
       " 0.86,\n",
       " 0.82,\n",
       " 0.88,\n",
       " 0.82,\n",
       " 0.88,\n",
       " 0.86,\n",
       " 0.88,\n",
       " 0.89,\n",
       " 0.87,\n",
       " 0.88,\n",
       " 0.85,\n",
       " 0.9,\n",
       " 0.85,\n",
       " 0.84,\n",
       " 0.93,\n",
       " 0.85,\n",
       " 0.87,\n",
       " 0.85,\n",
       " 0.82]"
      ]
     },
     "execution_count": 251,
     "metadata": {},
     "output_type": "execute_result"
    }
   ],
   "source": [
    "all_eval_scores"
   ]
  },
  {
   "cell_type": "code",
   "execution_count": 370,
   "metadata": {},
   "outputs": [
    {
     "data": {
      "text/plain": [
       "array([[[0, 0],\n",
       "        [1, 0],\n",
       "        [0, 0],\n",
       "        [0, 0],\n",
       "        [0, 0],\n",
       "        [0, 0],\n",
       "        [0, 0],\n",
       "        [0, 0]],\n",
       "\n",
       "       [[0, 0],\n",
       "        [0, 0],\n",
       "        [0, 1],\n",
       "        [0, 0],\n",
       "        [0, 0],\n",
       "        [0, 0],\n",
       "        [1, 0],\n",
       "        [0, 0]],\n",
       "\n",
       "       [[0, 0],\n",
       "        [0, 0],\n",
       "        [1, 0],\n",
       "        [0, 0],\n",
       "        [0, 0],\n",
       "        [0, 0],\n",
       "        [0, 0],\n",
       "        [0, 0]],\n",
       "\n",
       "       [[1, 0],\n",
       "        [0, 0],\n",
       "        [0, 0],\n",
       "        [0, 0],\n",
       "        [0, 0],\n",
       "        [0, 0],\n",
       "        [0, 0],\n",
       "        [0, 0]]])"
      ]
     },
     "execution_count": 370,
     "metadata": {},
     "output_type": "execute_result"
    }
   ],
   "source": [
    "sample_inputs[0][57]"
   ]
  },
  {
   "cell_type": "code",
   "execution_count": 48,
   "metadata": {},
   "outputs": [
    {
     "data": {
      "text/plain": [
       "[array([0.00457216, 0.00180318, 0.01577809, 0.0150674 , 0.01713278,\n",
       "        0.02392219, 0.00085306, 0.00843999, 0.0131199 , 0.00834722,\n",
       "        0.01267777, 0.00257552, 0.01471896, 0.00836668, 0.00711771,\n",
       "        0.00428187, 0.00709269, 0.00517327, 0.00248683, 0.00125713,\n",
       "        0.00509079, 0.00299105, 0.0019958 , 0.00897587, 0.00642106,\n",
       "        0.00954094, 0.003382  , 0.00594872, 0.00948039, 0.00568606,\n",
       "        0.00555057, 0.00598032], dtype=float32),\n",
       " array([-0.6679595], dtype=float32)]"
      ]
     },
     "execution_count": 48,
     "metadata": {},
     "output_type": "execute_result"
    }
   ],
   "source": [
    "model.predict_single([train_inputs[0][next_index - 2], train_inputs[1][next_index - 2]])"
   ]
  },
  {
   "cell_type": "code",
   "execution_count": 45,
   "metadata": {},
   "outputs": [
    {
     "data": {
      "text/plain": [
       "array([0.258651  , 0.        , 0.        , 0.        , 0.        ,\n",
       "       0.        , 0.        , 0.        , 0.        , 0.        ,\n",
       "       0.        , 0.27687292, 0.        , 0.        , 0.        ,\n",
       "       0.46447608, 0.        , 0.        , 0.        , 0.        ,\n",
       "       0.        , 0.        , 0.        , 0.        , 0.        ,\n",
       "       0.        , 0.        , 0.        , 0.        , 0.        ,\n",
       "       0.        , 0.        ])"
      ]
     },
     "execution_count": 45,
     "metadata": {},
     "output_type": "execute_result"
    }
   ],
   "source": [
    "train_outputs[0][next_index - 2]"
   ]
  },
  {
   "cell_type": "code",
   "execution_count": 46,
   "metadata": {},
   "outputs": [
    {
     "data": {
      "text/plain": [
       "array([[[0, 1],\n",
       "        [0, 0],\n",
       "        [0, 0],\n",
       "        [0, 0],\n",
       "        [0, 0],\n",
       "        [0, 0],\n",
       "        [0, 0],\n",
       "        [1, 0]],\n",
       "\n",
       "       [[1, 0],\n",
       "        [0, 0],\n",
       "        [0, 0],\n",
       "        [0, 0],\n",
       "        [1, 0],\n",
       "        [0, 0],\n",
       "        [0, 0],\n",
       "        [0, 0]],\n",
       "\n",
       "       [[0, 0],\n",
       "        [0, 0],\n",
       "        [0, 0],\n",
       "        [0, 0],\n",
       "        [0, 0],\n",
       "        [0, 0],\n",
       "        [0, 0],\n",
       "        [0, 0]],\n",
       "\n",
       "       [[0, 0],\n",
       "        [0, 0],\n",
       "        [0, 0],\n",
       "        [0, 0],\n",
       "        [0, 0],\n",
       "        [0, 0],\n",
       "        [0, 0],\n",
       "        [0, 0]]])"
      ]
     },
     "execution_count": 46,
     "metadata": {},
     "output_type": "execute_result"
    }
   ],
   "source": [
    "train_inputs[0][next_index - 2]"
   ]
  },
  {
   "cell_type": "code",
   "execution_count": 116,
   "metadata": {},
   "outputs": [],
   "source": [
    "model.set_weights(trained_model.get_weights())"
   ]
  },
  {
   "cell_type": "code",
   "execution_count": 253,
   "metadata": {},
   "outputs": [
    {
     "name": "stdout",
     "output_type": "stream",
     "text": [
      "Epoch 1/1\n",
      "300000/300000 [==============================] - 9s 31us/step - loss: 0.0034 - dense_76_loss: 6.1776e-04 - dense_80_loss: 0.0028 - dense_76_acc: 0.0108 - dense_80_acc: 0.9770\n",
      "0 0.0 0.12\n",
      "1 0.0 0.07\n",
      "2 0.0 0.59\n",
      "4 0.0 0.41\n",
      "10 0.58 0.67\n",
      "14 0.21 0.39\n",
      "15 0.0 0.9\n",
      "16 0.71 0.96\n",
      "17 0.0 1.0\n",
      "18 0.65 0.75\n",
      "19 0.65 1.0\n",
      "21 0.0 0.45\n",
      "24 0.47 0.58\n",
      "26 0.36 0.69\n",
      "27 0.37 0.4\n",
      "30 0.56 0.83\n",
      "32 0.24 0.86\n",
      "33 0.0 0.33\n",
      "35 0.5 0.77\n",
      "40 0.24 0.44\n",
      "45 0.99 1.0\n",
      "48 0.0 0.15\n",
      "52 0.0 0.09\n",
      "54 0.17 0.38\n",
      "56 0.0 1.0\n",
      "58 0.0 0.93\n",
      "59 0.0 0.25\n",
      "62 0.19 0.33\n",
      "64 0.94 1.0\n",
      "65 0.0 0.42\n",
      "69 0.0 0.31\n",
      "70 0.0 0.38\n",
      "71 0.0 0.36\n",
      "72 0.0 0.18\n",
      "77 0.0 0.99\n",
      "78 0.0 0.95\n",
      "82 0.7 0.81\n",
      "86 0.09 0.39\n",
      "87 0.85 0.9\n",
      "88 0.92 0.93\n",
      "90 0.0 0.97\n",
      "92 0.2 0.45\n",
      "94 0.0 0.82\n",
      "95 0.86 0.87\n",
      "96 0.13 0.69\n",
      "97 0.01 0.02\n",
      "99 0.0 0.33\n",
      "0.53\n",
      "Epoch 1/1\n",
      "300000/300000 [==============================] - 11s 36us/step - loss: 0.0032 - dense_76_loss: 5.6959e-04 - dense_80_loss: 0.0027 - dense_76_acc: 0.0106 - dense_80_acc: 0.9770\n",
      "0 0.0 0.12\n",
      "1 0.0 0.07\n",
      "2 0.0 0.59\n",
      "4 0.0 0.41\n",
      "10 0.58 0.67\n",
      "14 0.21 0.39\n",
      "15 0.0 0.9\n",
      "16 0.71 0.96\n",
      "17 0.0 1.0\n",
      "18 0.65 0.75\n",
      "19 0.65 1.0\n",
      "21 0.0 0.45\n",
      "24 0.47 0.58\n",
      "26 0.36 0.69\n",
      "27 0.37 0.4\n",
      "30 0.56 0.83\n",
      "32 0.24 0.86\n",
      "33 0.0 0.33\n",
      "35 0.5 0.77\n",
      "40 0.24 0.44\n",
      "45 0.99 1.0\n",
      "48 0.0 0.15\n",
      "52 0.0 0.09\n",
      "54 0.17 0.38\n",
      "56 0.0 1.0\n",
      "58 0.0 0.93\n",
      "59 0.0 0.25\n",
      "62 0.19 0.33\n",
      "64 0.94 1.0\n",
      "65 0.0 0.42\n",
      "69 0.0 0.31\n",
      "70 0.0 0.38\n",
      "71 0.0 0.36\n",
      "72 0.0 0.18\n",
      "77 0.0 0.99\n",
      "78 0.0 0.95\n",
      "82 0.7 0.81\n",
      "86 0.09 0.39\n",
      "87 0.85 0.9\n",
      "88 0.92 0.93\n",
      "90 0.0 0.97\n",
      "92 0.2 0.45\n",
      "94 0.0 0.82\n",
      "95 0.86 0.87\n",
      "96 0.13 0.69\n",
      "97 0.01 0.02\n",
      "99 0.0 0.33\n",
      "0.53\n",
      "Epoch 1/1\n",
      "300000/300000 [==============================] - 13s 44us/step - loss: 0.0032 - dense_76_loss: 5.6959e-04 - dense_80_loss: 0.0026 - dense_76_acc: 0.0106 - dense_80_acc: 0.9770 \n",
      "0 0.0 0.12\n",
      "1 0.0 0.07\n",
      "2 0.0 0.59\n",
      "4 0.0 0.41\n",
      "10 0.58 0.67\n",
      "14 0.21 0.39\n",
      "15 0.0 0.9\n",
      "16 0.71 0.96\n",
      "17 0.0 1.0\n",
      "18 0.65 0.75\n",
      "19 0.65 1.0\n",
      "21 0.0 0.45\n",
      "24 0.47 0.58\n",
      "26 0.36 0.69\n",
      "27 0.37 0.4\n",
      "30 0.56 0.83\n",
      "32 0.24 0.86\n",
      "33 0.0 0.33\n",
      "35 0.5 0.77\n",
      "40 0.24 0.44\n",
      "45 0.99 1.0\n",
      "48 0.0 0.15\n",
      "52 0.0 0.09\n",
      "54 0.17 0.38\n",
      "56 0.0 1.0\n",
      "58 0.0 0.93\n",
      "59 0.0 0.25\n",
      "62 0.19 0.33\n",
      "64 0.94 1.0\n",
      "65 0.0 0.42\n",
      "69 0.0 0.31\n",
      "70 0.0 0.38\n",
      "71 0.0 0.36\n",
      "72 0.0 0.18\n",
      "77 0.0 0.99\n",
      "78 0.0 0.95\n",
      "82 0.7 0.81\n",
      "86 0.09 0.39\n",
      "87 0.85 0.9\n",
      "88 0.92 0.93\n",
      "90 0.0 0.97\n",
      "92 0.2 0.45\n",
      "94 0.0 0.82\n",
      "95 0.86 0.87\n",
      "96 0.13 0.69\n",
      "97 0.01 0.02\n",
      "99 0.0 0.33\n",
      "0.53\n"
     ]
    }
   ],
   "source": [
    "for i in range(3):\n",
    "    trained_model.fit(sample_inputs, sample_outputs, epochs=1, batch_size=BATCH_SIZE)  \n",
    "    print(eval(trained_model, eval_cache_input, eval_cache_output))"
   ]
  },
  {
   "cell_type": "code",
   "execution_count": 333,
   "metadata": {},
   "outputs": [
    {
     "data": {
      "text/plain": [
       "0.83"
      ]
     },
     "execution_count": 333,
     "metadata": {},
     "output_type": "execute_result"
    }
   ],
   "source": [
    "eval(trained_model, eval_cache_input, eval_cache_output)"
   ]
  },
  {
   "cell_type": "code",
   "execution_count": 61,
   "metadata": {},
   "outputs": [
    {
     "data": {
      "text/plain": [
       "0.9862666666666666"
      ]
     },
     "execution_count": 61,
     "metadata": {},
     "output_type": "execute_result"
    }
   ],
   "source": [
    "model_output = model.predict([sample_inputs[0], sample_inputs[1]])[0]\n",
    "a = np.argmax(model_output, axis=-1)\n",
    "k = np.equal(np.take(sample_outputs[0], np.argmax(sample_outputs[0], axis=-1)), np.take(sample_outputs[0], a)).sum()\n",
    "k / len(sample_outputs[0])"
   ]
  },
  {
   "cell_type": "code",
   "execution_count": 252,
   "metadata": {},
   "outputs": [],
   "source": [
    "model.save('modelDense2.h5')"
   ]
  },
  {
   "cell_type": "code",
   "execution_count": 16,
   "metadata": {},
   "outputs": [],
   "source": [
    "model.load_weights('modelDense.h5')"
   ]
  },
  {
   "cell_type": "code",
   "execution_count": 62,
   "metadata": {},
   "outputs": [
    {
     "data": {
      "text/plain": [
       "0.35"
      ]
     },
     "execution_count": 62,
     "metadata": {},
     "output_type": "execute_result"
    }
   ],
   "source": [
    "compare(model, None)"
   ]
  },
  {
   "cell_type": "code",
   "execution_count": 59,
   "metadata": {},
   "outputs": [
    {
     "data": {
      "text/plain": [
       "1"
      ]
     },
     "execution_count": 59,
     "metadata": {},
     "output_type": "execute_result"
    }
   ],
   "source": [
    "match([model, None])"
   ]
  },
  {
   "cell_type": "code",
   "execution_count": null,
   "metadata": {},
   "outputs": [],
   "source": []
  }
 ],
 "metadata": {
  "kernelspec": {
   "display_name": "Python 3",
   "language": "python",
   "name": "python3"
  },
  "language_info": {
   "codemirror_mode": {
    "name": "ipython",
    "version": 3
   },
   "file_extension": ".py",
   "mimetype": "text/x-python",
   "name": "python",
   "nbconvert_exporter": "python",
   "pygments_lexer": "ipython3",
   "version": "3.6.3"
  }
 },
 "nbformat": 4,
 "nbformat_minor": 2
}
