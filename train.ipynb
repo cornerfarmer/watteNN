{
 "cells": [
  {
   "cell_type": "markdown",
   "metadata": {},
   "source": [
    "# Train"
   ]
  },
  {
   "cell_type": "code",
   "execution_count": 3,
   "metadata": {},
   "outputs": [
    {
     "data": {
      "application/vnd.jupyter.widget-view+json": {
       "model_id": "a6bc219cbbb14f9fae0e0a746dd94b2e",
       "version_major": 2,
       "version_minor": 0
      },
      "text/html": [
       "<p>Failed to display Jupyter Widget of type <code>FigureCanvasNbAgg</code>.</p>\n",
       "<p>\n",
       "  If you're reading this message in the Jupyter Notebook or JupyterLab Notebook, it may mean\n",
       "  that the widgets JavaScript is still loading. If this message persists, it\n",
       "  likely means that the widgets JavaScript library is either not installed or\n",
       "  not enabled. See the <a href=\"https://ipywidgets.readthedocs.io/en/stable/user_install.html\">Jupyter\n",
       "  Widgets Documentation</a> for setup instructions.\n",
       "</p>\n",
       "<p>\n",
       "  If you're reading this message in another frontend (for example, a static\n",
       "  rendering on GitHub or <a href=\"https://nbviewer.jupyter.org/\">NBViewer</a>),\n",
       "  it may mean that your frontend doesn't currently support widgets.\n",
       "</p>\n"
      ],
      "text/plain": [
       "FigureCanvasNbAgg()"
      ]
     },
     "metadata": {},
     "output_type": "display_data"
    }
   ],
   "source": [
    "fig, ax = plt.subplots()"
   ]
  },
  {
   "cell_type": "code",
   "execution_count": 2,
   "metadata": {
    "scrolled": true
   },
   "outputs": [],
   "source": [
    "%%cython -f -I . -L . -L /home/domin/.local/lib/python3.6/site-packages -I /home/domin/.local/lib/python3.6/site-packages  --cplus \n",
    "\n",
    "from src.Storage cimport Storage\n",
    "from src.MCTS cimport MCTS\n",
    "from src.Model cimport Model\n",
    "from src.ModelRating cimport ModelRating\n",
    "from src.Game cimport Game\n",
    "from gym_watten.envs.watten_env cimport WattenEnv\n",
    "from IPython.display import clear_output\n",
    "from libcpp.vector cimport vector\n",
    "import tensorflow as tf\n",
    "from libc.stdlib cimport srand\n",
    "from libc.time cimport time\n",
    "import sys\n",
    "\n",
    "cpdef float train(WattenEnv env, Model model, Model trained_model, Model best_model, Storage storage, MCTS mcts, Game game, ModelRating rating, int train_sample_size, object summary_writer):\n",
    "    cdef int g\n",
    "    cdef vector[float] eval_scores \n",
    "    cdef float rating_value, exploitability\n",
    "    \n",
    "    srand(time(NULL))\n",
    "    \n",
    "    for g in range(300):  \n",
    "        mcts.mcts_generate(env, model, storage)\n",
    "    \n",
    "        trained_model.memorize_storage(storage, train_sample_size == 0, 1, train_sample_size)\n",
    "        #clear_output()\n",
    "        \n",
    "        \n",
    "        \"\"\"if hasattr(model, 'fit'):\n",
    "            p = np.random.permutation(int(number_of_samples))\n",
    "            if len(p) > BATCH_SIZE * TRAINING_LOOPS:\n",
    "                p = p[:BATCH_SIZE * TRAINING_LOOPS]\n",
    "            train_outputs = []\n",
    "            train_inputs = []\n",
    "            for i in range(len(sample_outputs)):\n",
    "                train_outputs.append(sample_outputs[i][p])\n",
    "            for i in range(len(sample_inputs)):\n",
    "                train_inputs.append(sample_inputs[i][p])\n",
    "\n",
    "            trained_model.fit(train_inputs, train_outputs, epochs=1, batch_size=BATCH_SIZE)   \"\"\"\n",
    "\n",
    "        if g % 1 == 0:\n",
    "            model.copy_weights_from(trained_model)     \n",
    "            rating_value = game.compare_given_games(model, best_model, rating)\n",
    "            print(\"Match: \" + str(rating_value))\n",
    "            sys.stdout.flush()\n",
    "            #print(\"Last scores: \" + str(eval_scores) + \"!\")\n",
    "            if rating_value > 0.5:\n",
    "                best_model.copy_weights_from(model)  \n",
    "                s = tf.Summary(value=[tf.Summary.Value(tag=\"exploitability\", simple_value=rating.calc_exploitability(best_model))])\n",
    "                summary_writer.add_summary(s, g)\n",
    "                summary_writer.flush()\n",
    "                #exploitability = rating.calc_exploitability(best_model)\n",
    "                #eval_scores.push_back(exploitability)\n",
    "                #print(\"Model score: \" + str(eval_scores.back()) + \"!\")\n",
    "    \n",
    "    s = tf.Summary(value=[tf.Summary.Value(tag=\"exploitability\", simple_value=rating.calc_exploitability(best_model))])\n",
    "    summary_writer.add_summary(s, g)\n",
    "    summary_writer.flush()\n",
    "    \n",
    "    return rating.calc_exploitability(best_model)\n",
    "    #plt.plot(eval_scores, label='6x75')\n",
    "    #ax.legend(shadow=True)\n",
    "    #plt.show()\n"
   ]
  },
  {
   "cell_type": "code",
   "execution_count": null,
   "metadata": {},
   "outputs": [],
   "source": [
    "for i in range(10):\n",
    "    print(train(env, model, best_model, storage, mcts, game, rating))"
   ]
  },
  {
   "cell_type": "code",
   "execution_count": null,
   "metadata": {},
   "outputs": [],
   "source": [
    "summary_writer = tf.summary.FileWriter(\"./results/\" + str(\"test\"))\n",
    "train(env, model, best_model, storage, mcts, game, rating, summary_writer)"
   ]
  },
  {
   "cell_type": "code",
   "execution_count": 18,
   "metadata": {},
   "outputs": [
    {
     "data": {
      "text/plain": [
       "0.03214285895228386"
      ]
     },
     "execution_count": 18,
     "metadata": {},
     "output_type": "execute_result"
    }
   ],
   "source": [
    "rating.calc_exploitability(model)"
   ]
  },
  {
   "cell_type": "code",
   "execution_count": 284,
   "metadata": {},
   "outputs": [
    {
     "data": {
      "text/plain": [
       "0.5"
      ]
     },
     "execution_count": 284,
     "metadata": {},
     "output_type": "execute_result"
    }
   ],
   "source": [
    "game.compare_given_games(model, best_model, rating)"
   ]
  },
  {
   "cell_type": "code",
   "execution_count": 3,
   "metadata": {},
   "outputs": [],
   "source": [
    "import itertools\n",
    "def create_grid_search(variables):\n",
    "    combinations = itertools.product(*variables.values())\n",
    "    labeled_combinations = []\n",
    "    for combination in combinations:\n",
    "        labeled_combinations.append(dict(zip(variables.keys(), combination)))\n",
    "    return labeled_combinations"
   ]
  },
  {
   "cell_type": "code",
   "execution_count": 4,
   "metadata": {},
   "outputs": [
    {
     "name": "stderr",
     "output_type": "stream",
     "text": [
      "  0%|          | 0/1 [00:00<?, ?it/s]"
     ]
    },
    {
     "name": "stdout",
     "output_type": "stream",
     "text": [
      "WARNING:tensorflow:From /usr/local/lib/python3.6/dist-packages/keras/backend/tensorflow_backend.py:1264: calling reduce_prod (from tensorflow.python.ops.math_ops) with keep_dims is deprecated and will be removed in a future version.\n",
      "Instructions for updating:\n",
      "keep_dims is deprecated, use keepdims instead\n",
      "WARNING:tensorflow:From /usr/local/lib/python3.6/dist-packages/keras/backend/tensorflow_backend.py:1349: calling reduce_mean (from tensorflow.python.ops.math_ops) with keep_dims is deprecated and will be removed in a future version.\n",
      "Instructions for updating:\n",
      "keep_dims is deprecated, use keepdims instead\n",
      "Epoch 1/1\n",
      "344/344 [==============================] - 0s 470us/step - loss: 1.1332 - dense_10_loss: 0.2333 - dense_12_loss: 0.9000 - dense_10_acc: 0.0494 - dense_12_acc: 0.0000e+00\n",
      "Match: 0.4526785612106323\n",
      "Epoch 1/1\n",
      "330/330 [==============================] - 0s 37us/step - loss: 1.0569 - dense_10_loss: 0.2312 - dense_12_loss: 0.8257 - dense_10_acc: 0.0515 - dense_12_acc: 0.0030\n",
      "Match: 0.4571428596973419\n",
      "Epoch 1/1\n",
      "332/332 [==============================] - 0s 78us/step - loss: 1.0111 - dense_10_loss: 0.2293 - dense_12_loss: 0.7819 - dense_10_acc: 0.0572 - dense_12_acc: 0.0873\n",
      "Match: 0.45892858505249023\n",
      "Epoch 1/1\n",
      "346/346 [==============================] - 0s 38us/step - loss: 0.9622 - dense_10_loss: 0.2277 - dense_12_loss: 0.7345 - dense_10_acc: 0.0549 - dense_12_acc: 0.2139\n",
      "Match: 0.4580357074737549\n",
      "Epoch 1/1\n",
      "344/344 [==============================] - 0s 61us/step - loss: 0.8718 - dense_10_loss: 0.2244 - dense_12_loss: 0.6473 - dense_10_acc: 0.0785 - dense_12_acc: 0.3052\n",
      "Match: 0.4625000059604645\n",
      "Epoch 1/1\n",
      "338/338 [==============================] - 0s 79us/step - loss: 0.8152 - dense_10_loss: 0.2219 - dense_12_loss: 0.5934 - dense_10_acc: 0.0414 - dense_12_acc: 0.4260\n",
      "Match: 0.4616071283817291\n",
      "Epoch 1/1\n",
      "336/336 [==============================] - 0s 44us/step - loss: 0.7875 - dense_10_loss: 0.2191 - dense_12_loss: 0.5684 - dense_10_acc: 0.0565 - dense_12_acc: 0.4464\n",
      "Match: 0.4642857015132904\n",
      "Epoch 1/1\n",
      "346/346 [==============================] - 0s 40us/step - loss: 0.7770 - dense_10_loss: 0.2160 - dense_12_loss: 0.5610 - dense_10_acc: 0.0376 - dense_12_acc: 0.4942\n",
      "Match: 0.46875\n",
      "Epoch 1/1\n",
      "340/340 [==============================] - 0s 39us/step - loss: 0.9297 - dense_10_loss: 0.2127 - dense_12_loss: 0.7169 - dense_10_acc: 0.0618 - dense_12_acc: 0.4441\n",
      "Match: 0.46964284777641296\n",
      "Epoch 1/1\n",
      "340/340 [==============================] - 0s 39us/step - loss: 0.8651 - dense_10_loss: 0.2107 - dense_12_loss: 0.6543 - dense_10_acc: 0.0647 - dense_12_acc: 0.4941\n",
      "Match: 0.4732142984867096\n",
      "Epoch 1/1\n",
      "342/342 [==============================] - 0s 106us/step - loss: 0.8187 - dense_10_loss: 0.2077 - dense_12_loss: 0.6110 - dense_10_acc: 0.0643 - dense_12_acc: 0.5117\n",
      "Match: 0.47232142090797424\n",
      "Epoch 1/1\n",
      "340/340 [==============================] - 0s 40us/step - loss: 0.8568 - dense_10_loss: 0.2053 - dense_12_loss: 0.6515 - dense_10_acc: 0.0735 - dense_12_acc: 0.4412\n",
      "Match: 0.46964284777641296\n",
      "Epoch 1/1\n",
      "344/344 [==============================] - 0s 35us/step - loss: 0.9378 - dense_10_loss: 0.2024 - dense_12_loss: 0.7355 - dense_10_acc: 0.0843 - dense_12_acc: 0.4448\n",
      "Match: 0.46964284777641296\n",
      "Epoch 1/1\n",
      "332/332 [==============================] - 0s 65us/step - loss: 0.7935 - dense_10_loss: 0.1987 - dense_12_loss: 0.5948 - dense_10_acc: 0.0572 - dense_12_acc: 0.4970\n",
      "Match: 0.46964284777641296\n",
      "Epoch 1/1\n",
      "338/338 [==============================] - 0s 34us/step - loss: 0.8005 - dense_10_loss: 0.1961 - dense_12_loss: 0.6044 - dense_10_acc: 0.0621 - dense_12_acc: 0.5148\n",
      "Match: 0.4732142984867096\n",
      "Epoch 1/1\n",
      "338/338 [==============================] - 0s 36us/step - loss: 0.8639 - dense_10_loss: 0.1930 - dense_12_loss: 0.6708 - dense_10_acc: 0.0533 - dense_12_acc: 0.4704\n",
      "Match: 0.4732142984867096\n",
      "Epoch 1/1\n",
      "342/342 [==============================] - 0s 50us/step - loss: 0.8315 - dense_10_loss: 0.1898 - dense_12_loss: 0.6417 - dense_10_acc: 0.0585 - dense_12_acc: 0.4737\n",
      "Match: 0.4732142984867096\n",
      "Epoch 1/1\n",
      "342/342 [==============================] - 0s 35us/step - loss: 0.8459 - dense_10_loss: 0.1872 - dense_12_loss: 0.6587 - dense_10_acc: 0.0673 - dense_12_acc: 0.4708\n",
      "Match: 0.47678571939468384\n",
      "Epoch 1/1\n",
      "340/340 [==============================] - 0s 43us/step - loss: 0.8597 - dense_10_loss: 0.1837 - dense_12_loss: 0.6760 - dense_10_acc: 0.0794 - dense_12_acc: 0.4441\n",
      "Match: 0.4839285612106323\n",
      "Epoch 1/1\n",
      "336/336 [==============================] - 0s 56us/step - loss: 0.7586 - dense_10_loss: 0.1802 - dense_12_loss: 0.5783 - dense_10_acc: 0.0774 - dense_12_acc: 0.5387\n",
      "Match: 0.4821428656578064\n",
      "Epoch 1/1\n",
      "342/342 [==============================] - 0s 37us/step - loss: 0.7911 - dense_10_loss: 0.1781 - dense_12_loss: 0.6130 - dense_10_acc: 0.0965 - dense_12_acc: 0.4561\n",
      "Match: 0.4821428656578064\n",
      "Epoch 1/1\n",
      "326/326 [==============================] - 0s 38us/step - loss: 0.7044 - dense_10_loss: 0.1734 - dense_12_loss: 0.5310 - dense_10_acc: 0.0859 - dense_12_acc: 0.5245\n",
      "Match: 0.4821428656578064\n",
      "Epoch 1/1\n",
      "344/344 [==============================] - 0s 34us/step - loss: 0.7278 - dense_10_loss: 0.1708 - dense_12_loss: 0.5570 - dense_10_acc: 0.0756 - dense_12_acc: 0.5698\n",
      "Match: 0.4866071343421936\n",
      "Epoch 1/1\n",
      "330/330 [==============================] - 0s 39us/step - loss: 0.7123 - dense_10_loss: 0.1672 - dense_12_loss: 0.5451 - dense_10_acc: 0.0788 - dense_12_acc: 0.5394\n",
      "Match: 0.4803571403026581\n",
      "Epoch 1/1\n",
      "344/344 [==============================] - 0s 36us/step - loss: 0.7531 - dense_10_loss: 0.1645 - dense_12_loss: 0.5886 - dense_10_acc: 0.0669 - dense_12_acc: 0.5145\n",
      "Match: 0.4794642925262451\n",
      "Epoch 1/1\n",
      "340/340 [==============================] - 0s 45us/step - loss: 0.8438 - dense_10_loss: 0.1607 - dense_12_loss: 0.6832 - dense_10_acc: 0.0824 - dense_12_acc: 0.5206\n",
      "Match: 0.47857141494750977\n",
      "Epoch 1/1\n",
      "334/334 [==============================] - 0s 35us/step - loss: 0.7089 - dense_10_loss: 0.1574 - dense_12_loss: 0.5515 - dense_10_acc: 0.0808 - dense_12_acc: 0.5419\n",
      "Match: 0.48303571343421936\n",
      "Epoch 1/1\n",
      "330/330 [==============================] - 0s 48us/step - loss: 0.7516 - dense_10_loss: 0.1541 - dense_12_loss: 0.5976 - dense_10_acc: 0.0788 - dense_12_acc: 0.5061\n",
      "Match: 0.48303571343421936\n",
      "Epoch 1/1\n",
      "344/344 [==============================] - 0s 53us/step - loss: 0.8613 - dense_10_loss: 0.1511 - dense_12_loss: 0.7102 - dense_10_acc: 0.0727 - dense_12_acc: 0.4767\n",
      "Match: 0.48750001192092896\n",
      "Epoch 1/1\n",
      "340/340 [==============================] - 0s 36us/step - loss: 0.7688 - dense_10_loss: 0.1468 - dense_12_loss: 0.6221 - dense_10_acc: 0.0647 - dense_12_acc: 0.5324\n",
      "Match: 0.49017858505249023\n",
      "Epoch 1/1\n",
      "332/332 [==============================] - 0s 34us/step - loss: 0.7701 - dense_10_loss: 0.1432 - dense_12_loss: 0.6269 - dense_10_acc: 0.0873 - dense_12_acc: 0.5301\n",
      "Match: 0.49017858505249023\n",
      "Epoch 1/1\n",
      "322/322 [==============================] - 0s 67us/step - loss: 0.5975 - dense_10_loss: 0.1399 - dense_12_loss: 0.4577 - dense_10_acc: 0.0932 - dense_12_acc: 0.5963\n",
      "Match: 0.4910714328289032\n",
      "Epoch 1/1\n",
      "338/338 [==============================] - 0s 45us/step - loss: 0.6893 - dense_10_loss: 0.1369 - dense_12_loss: 0.5524 - dense_10_acc: 0.1036 - dense_12_acc: 0.5089\n",
      "Match: 0.49196428060531616\n",
      "Epoch 1/1\n",
      "340/340 [==============================] - 0s 40us/step - loss: 0.7416 - dense_10_loss: 0.1326 - dense_12_loss: 0.6089 - dense_10_acc: 0.0941 - dense_12_acc: 0.4971\n",
      "Match: 0.49642857909202576\n",
      "Epoch 1/1\n",
      "332/332 [==============================] - 0s 33us/step - loss: 0.7047 - dense_10_loss: 0.1294 - dense_12_loss: 0.5754 - dense_10_acc: 0.1175 - dense_12_acc: 0.5271\n",
      "Match: 0.49642857909202576\n",
      "Epoch 1/1\n",
      "326/326 [==============================] - 0s 36us/step - loss: 0.6307 - dense_10_loss: 0.1255 - dense_12_loss: 0.5052 - dense_10_acc: 0.0798 - dense_12_acc: 0.5583\n",
      "Match: 0.4982142746448517\n",
      "Epoch 1/1\n",
      "344/344 [==============================] - 0s 33us/step - loss: 0.7071 - dense_10_loss: 0.1230 - dense_12_loss: 0.5842 - dense_10_acc: 0.0988 - dense_12_acc: 0.5378\n",
      "Match: 0.5044642686843872\n",
      "Epoch 1/1\n",
      "340/340 [==============================] - 0s 39us/step - loss: 0.6632 - dense_10_loss: 0.1189 - dense_12_loss: 0.5443 - dense_10_acc: 0.0882 - dense_12_acc: 0.5500\n",
      "Match: 0.5008928775787354\n",
      "Epoch 1/1\n",
      "346/346 [==============================] - 0s 54us/step - loss: 0.7811 - dense_10_loss: 0.1158 - dense_12_loss: 0.6653 - dense_10_acc: 0.1301 - dense_12_acc: 0.4566\n",
      "Match: 0.5\n",
      "Epoch 1/1\n",
      "350/350 [==============================] - 0s 34us/step - loss: 0.6423 - dense_10_loss: 0.1120 - dense_12_loss: 0.5303 - dense_10_acc: 0.0943 - dense_12_acc: 0.5514\n",
      "Match: 0.49910715222358704\n",
      "Epoch 1/1\n",
      "344/344 [==============================] - 0s 47us/step - loss: 0.7366 - dense_10_loss: 0.1091 - dense_12_loss: 0.6275 - dense_10_acc: 0.1047 - dense_12_acc: 0.4855\n",
      "Match: 0.49910715222358704\n",
      "Epoch 1/1\n",
      "340/340 [==============================] - 0s 39us/step - loss: 0.7037 - dense_10_loss: 0.1055 - dense_12_loss: 0.5983 - dense_10_acc: 0.0794 - dense_12_acc: 0.5441\n",
      "Match: 0.49910715222358704\n",
      "Epoch 1/1\n",
      "326/326 [==============================] - 0s 34us/step - loss: 0.6245 - dense_10_loss: 0.1018 - dense_12_loss: 0.5227 - dense_10_acc: 0.1043 - dense_12_acc: 0.5890\n",
      "Match: 0.49642857909202576\n",
      "Epoch 1/1\n",
      "332/332 [==============================] - 0s 53us/step - loss: 0.6539 - dense_10_loss: 0.0988 - dense_12_loss: 0.5551 - dense_10_acc: 0.1145 - dense_12_acc: 0.5602\n",
      "Match: 0.5017856955528259\n",
      "Epoch 1/1\n",
      "338/338 [==============================] - 0s 38us/step - loss: 0.7163 - dense_10_loss: 0.0961 - dense_12_loss: 0.6202 - dense_10_acc: 0.1213 - dense_12_acc: 0.5059\n",
      "Match: 0.49910715222358704\n",
      "Epoch 1/1\n",
      "322/322 [==============================] - 0s 34us/step - loss: 0.6208 - dense_10_loss: 0.0923 - dense_12_loss: 0.5285 - dense_10_acc: 0.1304 - dense_12_acc: 0.5714\n",
      "Match: 0.49910715222358704\n",
      "Epoch 1/1\n",
      "342/342 [==============================] - 0s 34us/step - loss: 0.6380 - dense_10_loss: 0.0897 - dense_12_loss: 0.5483 - dense_10_acc: 0.1082 - dense_12_acc: 0.5351\n",
      "Match: 0.49910715222358704\n",
      "Epoch 1/1\n",
      "346/346 [==============================] - 0s 34us/step - loss: 0.7279 - dense_10_loss: 0.0874 - dense_12_loss: 0.6406 - dense_10_acc: 0.1445 - dense_12_acc: 0.5087\n",
      "Match: 0.49910715222358704\n",
      "Epoch 1/1\n",
      "358/358 [==============================] - 0s 38us/step - loss: 0.7483 - dense_10_loss: 0.0849 - dense_12_loss: 0.6634 - dense_10_acc: 0.1425 - dense_12_acc: 0.4581\n",
      "Match: 0.49910715222358704\n",
      "Epoch 1/1\n",
      "330/330 [==============================] - 0s 33us/step - loss: 0.6112 - dense_10_loss: 0.0817 - dense_12_loss: 0.5295 - dense_10_acc: 0.1394 - dense_12_acc: 0.5303\n",
      "Match: 0.49910715222358704\n",
      "Epoch 1/1\n",
      "354/354 [==============================] - 0s 32us/step - loss: 0.5948 - dense_10_loss: 0.0786 - dense_12_loss: 0.5162 - dense_10_acc: 0.1017 - dense_12_acc: 0.5508\n",
      "Match: 0.49910715222358704\n",
      "Epoch 1/1\n",
      "336/336 [==============================] - 0s 34us/step - loss: 0.7306 - dense_10_loss: 0.0765 - dense_12_loss: 0.6541 - dense_10_acc: 0.1250 - dense_12_acc: 0.4762\n",
      "Match: 0.49910715222358704\n",
      "Epoch 1/1\n",
      "342/342 [==============================] - 0s 39us/step - loss: 0.6369 - dense_10_loss: 0.0742 - dense_12_loss: 0.5627 - dense_10_acc: 0.1228 - dense_12_acc: 0.5526\n",
      "Match: 0.49910715222358704\n",
      "Epoch 1/1\n",
      "328/328 [==============================] - 0s 44us/step - loss: 0.5728 - dense_10_loss: 0.0710 - dense_12_loss: 0.5019 - dense_10_acc: 0.1220 - dense_12_acc: 0.5732\n",
      "Match: 0.49910715222358704\n",
      "Epoch 1/1\n",
      "318/318 [==============================] - 0s 38us/step - loss: 0.4739 - dense_10_loss: 0.0683 - dense_12_loss: 0.4056 - dense_10_acc: 0.1447 - dense_12_acc: 0.6509\n",
      "Match: 0.49910715222358704\n",
      "Epoch 1/1\n",
      "342/342 [==============================] - 0s 33us/step - loss: 0.5794 - dense_10_loss: 0.0670 - dense_12_loss: 0.5124 - dense_10_acc: 0.1316 - dense_12_acc: 0.5906\n",
      "Match: 0.49910715222358704\n",
      "Epoch 1/1\n",
      "340/340 [==============================] - 0s 51us/step - loss: 0.5788 - dense_10_loss: 0.0647 - dense_12_loss: 0.5141 - dense_10_acc: 0.1471 - dense_12_acc: 0.6000\n",
      "Match: 0.49910715222358704\n",
      "Epoch 1/1\n",
      "344/344 [==============================] - 0s 33us/step - loss: 0.6879 - dense_10_loss: 0.0628 - dense_12_loss: 0.6250 - dense_10_acc: 0.1279 - dense_12_acc: 0.5087\n",
      "Match: 0.49910715222358704\n",
      "Epoch 1/1\n",
      "346/346 [==============================] - 0s 48us/step - loss: 0.6941 - dense_10_loss: 0.0606 - dense_12_loss: 0.6336 - dense_10_acc: 0.1503 - dense_12_acc: 0.5607\n",
      "Match: 0.4982142746448517\n",
      "Epoch 1/1\n",
      "328/328 [==============================] - 0s 37us/step - loss: 0.5404 - dense_10_loss: 0.0583 - dense_12_loss: 0.4821 - dense_10_acc: 0.1982 - dense_12_acc: 0.5884\n",
      "Match: 0.4982142746448517\n",
      "Epoch 1/1\n",
      "346/346 [==============================] - 0s 47us/step - loss: 0.6360 - dense_10_loss: 0.0568 - dense_12_loss: 0.5792 - dense_10_acc: 0.1590 - dense_12_acc: 0.5520\n",
      "Match: 0.4982142746448517\n",
      "Epoch 1/1\n",
      "332/332 [==============================] - 0s 42us/step - loss: 0.6224 - dense_10_loss: 0.0547 - dense_12_loss: 0.5677 - dense_10_acc: 0.1837 - dense_12_acc: 0.5753\n",
      "Match: 0.4973214268684387\n",
      "Epoch 1/1\n",
      "342/342 [==============================] - 0s 38us/step - loss: 0.5793 - dense_10_loss: 0.0534 - dense_12_loss: 0.5259 - dense_10_acc: 0.1608 - dense_12_acc: 0.5526\n",
      "Match: 0.4973214268684387\n",
      "Epoch 1/1\n",
      "346/346 [==============================] - 0s 61us/step - loss: 0.6216 - dense_10_loss: 0.0518 - dense_12_loss: 0.5698 - dense_10_acc: 0.1936 - dense_12_acc: 0.5289\n",
      "Match: 0.4973214268684387\n",
      "Epoch 1/1\n",
      "338/338 [==============================] - 0s 37us/step - loss: 0.5530 - dense_10_loss: 0.0496 - dense_12_loss: 0.5034 - dense_10_acc: 0.1775 - dense_12_acc: 0.5651\n",
      "Match: 0.4982142746448517\n",
      "Epoch 1/1\n",
      "344/344 [==============================] - 0s 45us/step - loss: 0.6708 - dense_10_loss: 0.0490 - dense_12_loss: 0.6218 - dense_10_acc: 0.1570 - dense_12_acc: 0.4709\n",
      "Match: 0.4982142746448517\n",
      "Epoch 1/1\n",
      "330/330 [==============================] - 0s 41us/step - loss: 0.5374 - dense_10_loss: 0.0466 - dense_12_loss: 0.4908 - dense_10_acc: 0.1909 - dense_12_acc: 0.5515\n",
      "Match: 0.4982142746448517\n",
      "Epoch 1/1\n",
      "342/342 [==============================] - 0s 35us/step - loss: 0.7178 - dense_10_loss: 0.0459 - dense_12_loss: 0.6718 - dense_10_acc: 0.2427 - dense_12_acc: 0.4766\n",
      "Match: 0.49910715222358704\n",
      "Epoch 1/1\n",
      "342/342 [==============================] - 0s 36us/step - loss: 0.6303 - dense_10_loss: 0.0445 - dense_12_loss: 0.5858 - dense_10_acc: 0.1754 - dense_12_acc: 0.5380\n",
      "Match: 0.49910715222358704\n",
      "Epoch 1/1\n",
      "338/338 [==============================] - 0s 33us/step - loss: 0.5529 - dense_10_loss: 0.0429 - dense_12_loss: 0.5100 - dense_10_acc: 0.1598 - dense_12_acc: 0.5769\n",
      "Match: 0.49910715222358704\n",
      "Epoch 1/1\n",
      "328/328 [==============================] - 0s 51us/step - loss: 0.6267 - dense_10_loss: 0.0416 - dense_12_loss: 0.5851 - dense_10_acc: 0.1921 - dense_12_acc: 0.5274\n",
      "Match: 0.49910715222358704\n",
      "Epoch 1/1\n",
      "338/338 [==============================] - 0s 36us/step - loss: 0.5949 - dense_10_loss: 0.0408 - dense_12_loss: 0.5542 - dense_10_acc: 0.1805 - dense_12_acc: 0.5562\n",
      "Match: 0.5008928775787354\n",
      "Epoch 1/1\n",
      "352/352 [==============================] - 0s 38us/step - loss: 0.6364 - dense_10_loss: 0.0407 - dense_12_loss: 0.5957 - dense_10_acc: 0.1449 - dense_12_acc: 0.5085\n",
      "Match: 0.5\n",
      "Epoch 1/1\n",
      "338/338 [==============================] - 0s 40us/step - loss: 0.5359 - dense_10_loss: 0.0389 - dense_12_loss: 0.4970 - dense_10_acc: 0.1686 - dense_12_acc: 0.5710\n",
      "Match: 0.49910715222358704\n",
      "Epoch 1/1\n",
      "334/334 [==============================] - 0s 38us/step - loss: 0.6137 - dense_10_loss: 0.0376 - dense_12_loss: 0.5761 - dense_10_acc: 0.1707 - dense_12_acc: 0.5479\n",
      "Match: 0.49910715222358704\n",
      "Epoch 1/1\n",
      "352/352 [==============================] - 0s 36us/step - loss: 0.6539 - dense_10_loss: 0.0375 - dense_12_loss: 0.6164 - dense_10_acc: 0.1477 - dense_12_acc: 0.4773\n",
      "Match: 0.49910715222358704\n",
      "Epoch 1/1\n",
      "346/346 [==============================] - 0s 34us/step - loss: 0.6966 - dense_10_loss: 0.0364 - dense_12_loss: 0.6602 - dense_10_acc: 0.1561 - dense_12_acc: 0.5173\n",
      "Match: 0.49910715222358704\n",
      "Epoch 1/1\n",
      "336/336 [==============================] - 0s 34us/step - loss: 0.5706 - dense_10_loss: 0.0352 - dense_12_loss: 0.5354 - dense_10_acc: 0.1994 - dense_12_acc: 0.5357\n",
      "Match: 0.5008928775787354\n",
      "Epoch 1/1\n",
      "346/346 [==============================] - 0s 35us/step - loss: 0.6830 - dense_10_loss: 0.0347 - dense_12_loss: 0.6483 - dense_10_acc: 0.1908 - dense_12_acc: 0.4682\n",
      "Match: 0.4982142746448517\n",
      "Epoch 1/1\n",
      "344/344 [==============================] - 0s 42us/step - loss: 0.5593 - dense_10_loss: 0.0339 - dense_12_loss: 0.5254 - dense_10_acc: 0.1831 - dense_12_acc: 0.5116\n",
      "Match: 0.4982142746448517\n",
      "Epoch 1/1\n",
      "346/346 [==============================] - 0s 34us/step - loss: 0.6620 - dense_10_loss: 0.0333 - dense_12_loss: 0.6287 - dense_10_acc: 0.1994 - dense_12_acc: 0.5145\n",
      "Match: 0.49642857909202576\n",
      "Epoch 1/1\n",
      "334/334 [==============================] - 0s 43us/step - loss: 0.5590 - dense_10_loss: 0.0321 - dense_12_loss: 0.5269 - dense_10_acc: 0.1856 - dense_12_acc: 0.5659\n",
      "Match: 0.49642857909202576\n",
      "Epoch 1/1\n",
      "352/352 [==============================] - 0s 45us/step - loss: 0.7229 - dense_10_loss: 0.0327 - dense_12_loss: 0.6902 - dense_10_acc: 0.1562 - dense_12_acc: 0.4915\n",
      "Match: 0.49196428060531616\n",
      "Epoch 1/1\n",
      "336/336 [==============================] - 0s 36us/step - loss: 0.5153 - dense_10_loss: 0.0306 - dense_12_loss: 0.4847 - dense_10_acc: 0.2024 - dense_12_acc: 0.5804\n",
      "Match: 0.49017858505249023\n",
      "Epoch 1/1\n",
      "348/348 [==============================] - 0s 40us/step - loss: 0.6249 - dense_10_loss: 0.0305 - dense_12_loss: 0.5943 - dense_10_acc: 0.1954 - dense_12_acc: 0.5230\n",
      "Match: 0.49017858505249023\n",
      "Epoch 1/1\n",
      "346/346 [==============================] - 0s 42us/step - loss: 0.6645 - dense_10_loss: 0.0297 - dense_12_loss: 0.6348 - dense_10_acc: 0.2139 - dense_12_acc: 0.5087\n",
      "Match: 0.49017858505249023\n",
      "Epoch 1/1\n",
      "334/334 [==============================] - 0s 39us/step - loss: 0.5518 - dense_10_loss: 0.0289 - dense_12_loss: 0.5229 - dense_10_acc: 0.1916 - dense_12_acc: 0.5359\n",
      "Match: 0.49017858505249023\n",
      "Epoch 1/1\n",
      "334/334 [==============================] - 0s 36us/step - loss: 0.6543 - dense_10_loss: 0.0285 - dense_12_loss: 0.6258 - dense_10_acc: 0.2156 - dense_12_acc: 0.5180\n",
      "Match: 0.49017858505249023\n",
      "Epoch 1/1\n",
      "356/356 [==============================] - 0s 34us/step - loss: 0.7062 - dense_10_loss: 0.0287 - dense_12_loss: 0.6775 - dense_10_acc: 0.2022 - dense_12_acc: 0.4719\n",
      "Match: 0.49017858505249023\n",
      "Epoch 1/1\n",
      "342/342 [==============================] - 0s 35us/step - loss: 0.5600 - dense_10_loss: 0.0275 - dense_12_loss: 0.5326 - dense_10_acc: 0.1813 - dense_12_acc: 0.5409\n",
      "Match: 0.49017858505249023\n",
      "Epoch 1/1\n",
      "340/340 [==============================] - 0s 45us/step - loss: 0.6996 - dense_10_loss: 0.0272 - dense_12_loss: 0.6723 - dense_10_acc: 0.2294 - dense_12_acc: 0.4588\n",
      "Match: 0.4892857074737549\n",
      "Epoch 1/1\n",
      "344/344 [==============================] - 0s 34us/step - loss: 0.6148 - dense_10_loss: 0.0271 - dense_12_loss: 0.5876 - dense_10_acc: 0.1541 - dense_12_acc: 0.4971\n",
      "Match: 0.48750001192092896\n",
      "Epoch 1/1\n",
      "348/348 [==============================] - 0s 36us/step - loss: 0.5850 - dense_10_loss: 0.0264 - dense_12_loss: 0.5585 - dense_10_acc: 0.2011 - dense_12_acc: 0.5230\n",
      "Match: 0.48571428656578064\n",
      "Epoch 1/1\n",
      "352/352 [==============================] - 0s 45us/step - loss: 0.6078 - dense_10_loss: 0.0267 - dense_12_loss: 0.5811 - dense_10_acc: 0.2244 - dense_12_acc: 0.4716\n",
      "Match: 0.48571428656578064\n",
      "Epoch 1/1\n",
      "346/346 [==============================] - 0s 46us/step - loss: 0.5902 - dense_10_loss: 0.0256 - dense_12_loss: 0.5646 - dense_10_acc: 0.2225 - dense_12_acc: 0.5202\n",
      "Match: 0.4883928596973419\n",
      "Epoch 1/1\n",
      "334/334 [==============================] - 0s 35us/step - loss: 0.6185 - dense_10_loss: 0.0251 - dense_12_loss: 0.5933 - dense_10_acc: 0.2186 - dense_12_acc: 0.4551\n",
      "Match: 0.4883928596973419\n",
      "Epoch 1/1\n",
      "348/348 [==============================] - 0s 34us/step - loss: 0.6099 - dense_10_loss: 0.0254 - dense_12_loss: 0.5845 - dense_10_acc: 0.2241 - dense_12_acc: 0.5144\n",
      "Match: 0.4883928596973419\n",
      "Epoch 1/1\n",
      "334/334 [==============================] - 0s 34us/step - loss: 0.5988 - dense_10_loss: 0.0241 - dense_12_loss: 0.5747 - dense_10_acc: 0.1826 - dense_12_acc: 0.5210\n",
      "Match: 0.4883928596973419\n",
      "Epoch 1/1\n",
      "340/340 [==============================] - 0s 36us/step - loss: 0.5384 - dense_10_loss: 0.0244 - dense_12_loss: 0.5140 - dense_10_acc: 0.1912 - dense_12_acc: 0.5588\n",
      "Match: 0.4883928596973419\n",
      "Epoch 1/1\n",
      "340/340 [==============================] - 0s 34us/step - loss: 0.6410 - dense_10_loss: 0.0239 - dense_12_loss: 0.6171 - dense_10_acc: 0.1882 - dense_12_acc: 0.5000\n",
      "Match: 0.4883928596973419\n",
      "Epoch 1/1\n",
      "328/328 [==============================] - 0s 42us/step - loss: 0.5489 - dense_10_loss: 0.0230 - dense_12_loss: 0.5260 - dense_10_acc: 0.1890 - dense_12_acc: 0.5610\n",
      "Match: 0.48750001192092896\n",
      "Epoch 1/1\n",
      "336/336 [==============================] - 0s 47us/step - loss: 0.6050 - dense_10_loss: 0.0231 - dense_12_loss: 0.5819 - dense_10_acc: 0.1994 - dense_12_acc: 0.5417\n",
      "Match: 0.4866071343421936\n",
      "Epoch 1/1\n",
      "348/348 [==============================] - 0s 36us/step - loss: 0.6342 - dense_10_loss: 0.0233 - dense_12_loss: 0.6110 - dense_10_acc: 0.1983 - dense_12_acc: 0.4741\n",
      "Match: 0.4848214387893677\n",
      "Epoch 1/1\n",
      "330/330 [==============================] - 0s 39us/step - loss: 0.5234 - dense_10_loss: 0.0223 - dense_12_loss: 0.5011 - dense_10_acc: 0.2212 - dense_12_acc: 0.5152\n",
      "Match: 0.48571428656578064\n",
      "Epoch 1/1\n",
      "342/342 [==============================] - 0s 73us/step - loss: 0.6000 - dense_10_loss: 0.0226 - dense_12_loss: 0.5774 - dense_10_acc: 0.2339 - dense_12_acc: 0.5322\n",
      "Match: 0.4866071343421936\n",
      "Epoch 1/1\n",
      "334/334 [==============================] - 0s 40us/step - loss: 0.5441 - dense_10_loss: 0.0218 - dense_12_loss: 0.5223 - dense_10_acc: 0.2066 - dense_12_acc: 0.5659\n",
      "Match: 0.48750001192092896\n",
      "Epoch 1/1\n",
      "340/340 [==============================] - 0s 54us/step - loss: 0.5708 - dense_10_loss: 0.0219 - dense_12_loss: 0.5489 - dense_10_acc: 0.2294 - dense_12_acc: 0.5088\n",
      "Match: 0.4866071343421936\n",
      "Epoch 1/1\n",
      "346/346 [==============================] - 0s 59us/step - loss: 0.6251 - dense_10_loss: 0.0220 - dense_12_loss: 0.6032 - dense_10_acc: 0.2139 - dense_12_acc: 0.5058\n",
      "Match: 0.4866071343421936\n",
      "Epoch 1/1\n",
      "354/354 [==============================] - 0s 35us/step - loss: 0.6374 - dense_10_loss: 0.0221 - dense_12_loss: 0.6153 - dense_10_acc: 0.2401 - dense_12_acc: 0.5056\n",
      "Match: 0.48571428656578064\n",
      "Epoch 1/1\n",
      "350/350 [==============================] - 0s 44us/step - loss: 0.5902 - dense_10_loss: 0.0219 - dense_12_loss: 0.5683 - dense_10_acc: 0.2143 - dense_12_acc: 0.4771\n",
      "Match: 0.4866071343421936\n",
      "Epoch 1/1\n",
      "342/342 [==============================] - 0s 35us/step - loss: 0.5292 - dense_10_loss: 0.0210 - dense_12_loss: 0.5082 - dense_10_acc: 0.2047 - dense_12_acc: 0.5760\n",
      "Match: 0.4866071343421936\n",
      "Epoch 1/1\n",
      "334/334 [==============================] - 0s 47us/step - loss: 0.5284 - dense_10_loss: 0.0203 - dense_12_loss: 0.5080 - dense_10_acc: 0.2186 - dense_12_acc: 0.5838\n",
      "Match: 0.4866071343421936\n",
      "Epoch 1/1\n",
      "346/346 [==============================] - 0s 48us/step - loss: 0.5588 - dense_10_loss: 0.0209 - dense_12_loss: 0.5379 - dense_10_acc: 0.2197 - dense_12_acc: 0.5145\n",
      "Match: 0.4866071343421936\n",
      "Epoch 1/1\n",
      "350/350 [==============================] - 0s 34us/step - loss: 0.5683 - dense_10_loss: 0.0210 - dense_12_loss: 0.5474 - dense_10_acc: 0.2143 - dense_12_acc: 0.5314\n",
      "Match: 0.4892857074737549\n",
      "Epoch 1/1\n",
      "334/334 [==============================] - 0s 36us/step - loss: 0.4961 - dense_10_loss: 0.0200 - dense_12_loss: 0.4761 - dense_10_acc: 0.2305 - dense_12_acc: 0.6078\n",
      "Match: 0.4883928596973419\n",
      "Epoch 1/1\n",
      "324/324 [==============================] - 0s 43us/step - loss: 0.4238 - dense_10_loss: 0.0194 - dense_12_loss: 0.4044 - dense_10_acc: 0.2531 - dense_12_acc: 0.6265\n",
      "Match: 0.4883928596973419\n",
      "Epoch 1/1\n",
      "344/344 [==============================] - 0s 35us/step - loss: 0.6757 - dense_10_loss: 0.0201 - dense_12_loss: 0.6556 - dense_10_acc: 0.2442 - dense_12_acc: 0.5087\n",
      "Match: 0.4866071343421936\n",
      "Epoch 1/1\n",
      "328/328 [==============================] - 0s 72us/step - loss: 0.5645 - dense_10_loss: 0.0191 - dense_12_loss: 0.5454 - dense_10_acc: 0.2104 - dense_12_acc: 0.5762\n",
      "Match: 0.4839285612106323\n",
      "Epoch 1/1\n",
      "334/334 [==============================] - 0s 35us/step - loss: 0.5402 - dense_10_loss: 0.0196 - dense_12_loss: 0.5206 - dense_10_acc: 0.1946 - dense_12_acc: 0.5808\n",
      "Match: 0.4839285612106323\n",
      "Epoch 1/1\n",
      "336/336 [==============================] - 0s 45us/step - loss: 0.5894 - dense_10_loss: 0.0193 - dense_12_loss: 0.5702 - dense_10_acc: 0.2202 - dense_12_acc: 0.5863\n",
      "Match: 0.4839285612106323\n",
      "Epoch 1/1\n",
      "344/344 [==============================] - 0s 38us/step - loss: 0.6162 - dense_10_loss: 0.0197 - dense_12_loss: 0.5966 - dense_10_acc: 0.2180 - dense_12_acc: 0.5407\n",
      "Match: 0.4839285612106323\n",
      "Epoch 1/1\n",
      "344/344 [==============================] - 0s 75us/step - loss: 0.4911 - dense_10_loss: 0.0192 - dense_12_loss: 0.4719 - dense_10_acc: 0.2413 - dense_12_acc: 0.5930\n",
      "Match: 0.48303571343421936\n",
      "Epoch 1/1\n",
      "342/342 [==============================] - 0s 39us/step - loss: 0.6257 - dense_10_loss: 0.0191 - dense_12_loss: 0.6066 - dense_10_acc: 0.2310 - dense_12_acc: 0.5117\n",
      "Match: 0.48303571343421936\n",
      "Epoch 1/1\n",
      "352/352 [==============================] - 0s 50us/step - loss: 0.6283 - dense_10_loss: 0.0195 - dense_12_loss: 0.6087 - dense_10_acc: 0.2273 - dense_12_acc: 0.4830\n",
      "Match: 0.48303571343421936\n",
      "Epoch 1/1\n",
      "334/334 [==============================] - 0s 67us/step - loss: 0.5114 - dense_10_loss: 0.0185 - dense_12_loss: 0.4930 - dense_10_acc: 0.2096 - dense_12_acc: 0.6317\n",
      "Match: 0.48303571343421936\n",
      "Epoch 1/1\n",
      "344/344 [==============================] - 0s 41us/step - loss: 0.5928 - dense_10_loss: 0.0189 - dense_12_loss: 0.5739 - dense_10_acc: 0.2326 - dense_12_acc: 0.5349\n",
      "Match: 0.48303571343421936\n",
      "Epoch 1/1\n",
      "350/350 [==============================] - 0s 32us/step - loss: 0.5605 - dense_10_loss: 0.0191 - dense_12_loss: 0.5414 - dense_10_acc: 0.1914 - dense_12_acc: 0.5343\n",
      "Match: 0.4821428656578064\n",
      "Epoch 1/1\n",
      "340/340 [==============================] - 0s 36us/step - loss: 0.6271 - dense_10_loss: 0.0186 - dense_12_loss: 0.6085 - dense_10_acc: 0.1735 - dense_12_acc: 0.5353\n",
      "Match: 0.4803571403026581\n",
      "Epoch 1/1\n",
      "338/338 [==============================] - 0s 37us/step - loss: 0.4270 - dense_10_loss: 0.0180 - dense_12_loss: 0.4090 - dense_10_acc: 0.2574 - dense_12_acc: 0.6154\n",
      "Match: 0.4839285612106323\n",
      "Epoch 1/1\n",
      "340/340 [==============================] - 0s 69us/step - loss: 0.5103 - dense_10_loss: 0.0181 - dense_12_loss: 0.4923 - dense_10_acc: 0.2353 - dense_12_acc: 0.5676\n",
      "Match: 0.4839285612106323\n",
      "Epoch 1/1\n",
      "336/336 [==============================] - 0s 38us/step - loss: 0.5600 - dense_10_loss: 0.0181 - dense_12_loss: 0.5418 - dense_10_acc: 0.2411 - dense_12_acc: 0.5357\n",
      "Match: 0.48571428656578064\n",
      "Epoch 1/1\n",
      "338/338 [==============================] - 0s 77us/step - loss: 0.4945 - dense_10_loss: 0.0179 - dense_12_loss: 0.4766 - dense_10_acc: 0.2367 - dense_12_acc: 0.6095\n",
      "Match: 0.48571428656578064\n",
      "Epoch 1/1\n",
      "348/348 [==============================] - 0s 45us/step - loss: 0.6490 - dense_10_loss: 0.0185 - dense_12_loss: 0.6306 - dense_10_acc: 0.2414 - dense_12_acc: 0.5632\n",
      "Match: 0.48571428656578064\n",
      "Epoch 1/1\n",
      "324/324 [==============================] - 0s 38us/step - loss: 0.4492 - dense_10_loss: 0.0169 - dense_12_loss: 0.4323 - dense_10_acc: 0.2253 - dense_12_acc: 0.6667\n",
      "Match: 0.48571428656578064\n",
      "Epoch 1/1\n",
      "332/332 [==============================] - 0s 35us/step - loss: 0.4752 - dense_10_loss: 0.0174 - dense_12_loss: 0.4578 - dense_10_acc: 0.2410 - dense_12_acc: 0.6265\n",
      "Match: 0.4866071343421936\n",
      "Epoch 1/1\n",
      "336/336 [==============================] - 0s 46us/step - loss: 0.6823 - dense_10_loss: 0.0176 - dense_12_loss: 0.6647 - dense_10_acc: 0.2679 - dense_12_acc: 0.5089\n",
      "Match: 0.48571428656578064\n",
      "Epoch 1/1\n",
      "342/342 [==============================] - 0s 47us/step - loss: 0.6240 - dense_10_loss: 0.0176 - dense_12_loss: 0.6064 - dense_10_acc: 0.2368 - dense_12_acc: 0.5234\n",
      "Match: 0.48571428656578064\n",
      "Epoch 1/1\n",
      "338/338 [==============================] - 0s 45us/step - loss: 0.5640 - dense_10_loss: 0.0173 - dense_12_loss: 0.5467 - dense_10_acc: 0.2367 - dense_12_acc: 0.5828\n",
      "Match: 0.4866071343421936\n",
      "Epoch 1/1\n",
      "350/350 [==============================] - 0s 44us/step - loss: 0.6248 - dense_10_loss: 0.0179 - dense_12_loss: 0.6069 - dense_10_acc: 0.2114 - dense_12_acc: 0.5514\n",
      "Match: 0.4866071343421936\n",
      "Epoch 1/1\n",
      "354/354 [==============================] - 0s 39us/step - loss: 0.5595 - dense_10_loss: 0.0179 - dense_12_loss: 0.5417 - dense_10_acc: 0.2486 - dense_12_acc: 0.5339\n",
      "Match: 0.4866071343421936\n",
      "Epoch 1/1\n",
      "342/342 [==============================] - 0s 39us/step - loss: 0.5010 - dense_10_loss: 0.0173 - dense_12_loss: 0.4837 - dense_10_acc: 0.2690 - dense_12_acc: 0.5760\n",
      "Match: 0.4866071343421936\n",
      "Epoch 1/1\n",
      "340/340 [==============================] - 0s 42us/step - loss: 0.5010 - dense_10_loss: 0.0170 - dense_12_loss: 0.4840 - dense_10_acc: 0.2618 - dense_12_acc: 0.5588\n",
      "Match: 0.4883928596973419\n",
      "Epoch 1/1\n",
      "344/344 [==============================] - 0s 45us/step - loss: 0.5061 - dense_10_loss: 0.0173 - dense_12_loss: 0.4888 - dense_10_acc: 0.2500 - dense_12_acc: 0.5930\n",
      "Match: 0.4892857074737549\n",
      "Epoch 1/1\n",
      "338/338 [==============================] - 0s 41us/step - loss: 0.5996 - dense_10_loss: 0.0168 - dense_12_loss: 0.5828 - dense_10_acc: 0.2574 - dense_12_acc: 0.5562\n",
      "Match: 0.4892857074737549\n",
      "Epoch 1/1\n",
      "334/334 [==============================] - 0s 36us/step - loss: 0.4295 - dense_10_loss: 0.0166 - dense_12_loss: 0.4129 - dense_10_acc: 0.2455 - dense_12_acc: 0.6467\n",
      "Match: 0.4892857074737549\n",
      "Epoch 1/1\n",
      "350/350 [==============================] - 0s 47us/step - loss: 0.5453 - dense_10_loss: 0.0173 - dense_12_loss: 0.5280 - dense_10_acc: 0.2371 - dense_12_acc: 0.5457\n",
      "Match: 0.4892857074737549\n",
      "Epoch 1/1\n",
      "350/350 [==============================] - 0s 54us/step - loss: 0.5574 - dense_10_loss: 0.0172 - dense_12_loss: 0.5402 - dense_10_acc: 0.2571 - dense_12_acc: 0.5829\n",
      "Match: 0.4892857074737549\n",
      "Epoch 1/1\n",
      "348/348 [==============================] - 0s 40us/step - loss: 0.5340 - dense_10_loss: 0.0171 - dense_12_loss: 0.5169 - dense_10_acc: 0.2069 - dense_12_acc: 0.5891\n",
      "Match: 0.4892857074737549\n",
      "Epoch 1/1\n",
      "346/346 [==============================] - 0s 37us/step - loss: 0.6262 - dense_10_loss: 0.0169 - dense_12_loss: 0.6093 - dense_10_acc: 0.2688 - dense_12_acc: 0.5462\n",
      "Match: 0.4892857074737549\n",
      "Epoch 1/1\n",
      "326/326 [==============================] - 0s 44us/step - loss: 0.4028 - dense_10_loss: 0.0157 - dense_12_loss: 0.3870 - dense_10_acc: 0.2546 - dense_12_acc: 0.6288\n",
      "Match: 0.4892857074737549\n",
      "Epoch 1/1\n",
      "338/338 [==============================] - 0s 33us/step - loss: 0.5101 - dense_10_loss: 0.0164 - dense_12_loss: 0.4937 - dense_10_acc: 0.2249 - dense_12_acc: 0.6213\n",
      "Match: 0.4892857074737549\n",
      "Epoch 1/1\n",
      "340/340 [==============================] - 0s 38us/step - loss: 0.4717 - dense_10_loss: 0.0163 - dense_12_loss: 0.4553 - dense_10_acc: 0.2647 - dense_12_acc: 0.6529\n",
      "Match: 0.4892857074737549\n",
      "Epoch 1/1\n",
      "344/344 [==============================] - 0s 35us/step - loss: 0.5543 - dense_10_loss: 0.0164 - dense_12_loss: 0.5379 - dense_10_acc: 0.2587 - dense_12_acc: 0.5785\n",
      "Match: 0.4892857074737549\n",
      "Epoch 1/1\n",
      "344/344 [==============================] - 0s 35us/step - loss: 0.5494 - dense_10_loss: 0.0165 - dense_12_loss: 0.5329 - dense_10_acc: 0.2674 - dense_12_acc: 0.5552\n",
      "Match: 0.48750001192092896\n",
      "Epoch 1/1\n",
      "342/342 [==============================] - 0s 85us/step - loss: 0.4845 - dense_10_loss: 0.0164 - dense_12_loss: 0.4681 - dense_10_acc: 0.2368 - dense_12_acc: 0.6316\n",
      "Match: 0.48750001192092896\n",
      "Epoch 1/1\n",
      "354/354 [==============================] - 0s 36us/step - loss: 0.5102 - dense_10_loss: 0.0167 - dense_12_loss: 0.4934 - dense_10_acc: 0.2345 - dense_12_acc: 0.5904\n",
      "Match: 0.48750001192092896\n",
      "Epoch 1/1\n",
      "338/338 [==============================] - 0s 86us/step - loss: 0.6319 - dense_10_loss: 0.0162 - dense_12_loss: 0.6158 - dense_10_acc: 0.2101 - dense_12_acc: 0.5533\n",
      "Match: 0.48750001192092896\n",
      "Epoch 1/1\n",
      "346/346 [==============================] - 0s 34us/step - loss: 0.4758 - dense_10_loss: 0.0162 - dense_12_loss: 0.4596 - dense_10_acc: 0.2457 - dense_12_acc: 0.6069\n",
      "Match: 0.48750001192092896\n",
      "Epoch 1/1\n",
      "344/344 [==============================] - 0s 38us/step - loss: 0.5851 - dense_10_loss: 0.0163 - dense_12_loss: 0.5688 - dense_10_acc: 0.2326 - dense_12_acc: 0.5669\n",
      "Match: 0.48750001192092896\n",
      "Epoch 1/1\n",
      "340/340 [==============================] - 0s 35us/step - loss: 0.6987 - dense_10_loss: 0.0161 - dense_12_loss: 0.6826 - dense_10_acc: 0.2471 - dense_12_acc: 0.5324\n",
      "Match: 0.48750001192092896\n",
      "Epoch 1/1\n",
      "332/332 [==============================] - 0s 38us/step - loss: 0.5630 - dense_10_loss: 0.0155 - dense_12_loss: 0.5475 - dense_10_acc: 0.3163 - dense_12_acc: 0.5572\n",
      "Match: 0.48750001192092896\n",
      "Epoch 1/1\n",
      "342/342 [==============================] - 0s 40us/step - loss: 0.5596 - dense_10_loss: 0.0160 - dense_12_loss: 0.5436 - dense_10_acc: 0.2193 - dense_12_acc: 0.5526\n",
      "Match: 0.48750001192092896\n",
      "Epoch 1/1\n",
      "348/348 [==============================] - 0s 42us/step - loss: 0.5954 - dense_10_loss: 0.0163 - dense_12_loss: 0.5791 - dense_10_acc: 0.2644 - dense_12_acc: 0.5287\n",
      "Match: 0.4866071343421936\n",
      "Epoch 1/1\n",
      "342/342 [==============================] - 0s 35us/step - loss: 0.5211 - dense_10_loss: 0.0157 - dense_12_loss: 0.5054 - dense_10_acc: 0.2427 - dense_12_acc: 0.5702\n",
      "Match: 0.4866071343421936\n",
      "Epoch 1/1\n",
      "344/344 [==============================] - 0s 39us/step - loss: 0.5780 - dense_10_loss: 0.0159 - dense_12_loss: 0.5621 - dense_10_acc: 0.2733 - dense_12_acc: 0.5378\n",
      "Match: 0.4839285612106323\n",
      "Epoch 1/1\n",
      "338/338 [==============================] - 0s 45us/step - loss: 0.4990 - dense_10_loss: 0.0155 - dense_12_loss: 0.4835 - dense_10_acc: 0.2515 - dense_12_acc: 0.6006\n",
      "Match: 0.4839285612106323\n",
      "Epoch 1/1\n",
      "338/338 [==============================] - 0s 38us/step - loss: 0.5354 - dense_10_loss: 0.0154 - dense_12_loss: 0.5200 - dense_10_acc: 0.2367 - dense_12_acc: 0.5769\n",
      "Match: 0.4839285612106323\n",
      "Epoch 1/1\n",
      "336/336 [==============================] - 0s 35us/step - loss: 0.4959 - dense_10_loss: 0.0154 - dense_12_loss: 0.4805 - dense_10_acc: 0.2619 - dense_12_acc: 0.6042\n",
      "Match: 0.4839285612106323\n",
      "Epoch 1/1\n",
      "340/340 [==============================] - 0s 43us/step - loss: 0.5585 - dense_10_loss: 0.0155 - dense_12_loss: 0.5430 - dense_10_acc: 0.2471 - dense_12_acc: 0.5647\n",
      "Match: 0.4839285612106323\n",
      "Epoch 1/1\n",
      "340/340 [==============================] - 0s 36us/step - loss: 0.5748 - dense_10_loss: 0.0155 - dense_12_loss: 0.5593 - dense_10_acc: 0.2441 - dense_12_acc: 0.5559\n",
      "Match: 0.4848214387893677\n",
      "Epoch 1/1\n",
      "334/334 [==============================] - 0s 36us/step - loss: 0.6231 - dense_10_loss: 0.0151 - dense_12_loss: 0.6080 - dense_10_acc: 0.2575 - dense_12_acc: 0.5449\n",
      "Match: 0.4848214387893677\n",
      "Epoch 1/1\n",
      "346/346 [==============================] - 0s 34us/step - loss: 0.5012 - dense_10_loss: 0.0156 - dense_12_loss: 0.4856 - dense_10_acc: 0.2572 - dense_12_acc: 0.5983\n",
      "Match: 0.4848214387893677\n",
      "Epoch 1/1\n",
      "338/338 [==============================] - 0s 41us/step - loss: 0.5555 - dense_10_loss: 0.0153 - dense_12_loss: 0.5402 - dense_10_acc: 0.2485 - dense_12_acc: 0.5858\n",
      "Match: 0.4866071343421936\n",
      "Epoch 1/1\n",
      "350/350 [==============================] - 0s 46us/step - loss: 0.5252 - dense_10_loss: 0.0158 - dense_12_loss: 0.5094 - dense_10_acc: 0.2600 - dense_12_acc: 0.5886\n",
      "Match: 0.4866071343421936\n",
      "Epoch 1/1\n",
      "342/342 [==============================] - 0s 54us/step - loss: 0.5203 - dense_10_loss: 0.0155 - dense_12_loss: 0.5049 - dense_10_acc: 0.2398 - dense_12_acc: 0.5585\n",
      "Match: 0.4866071343421936\n",
      "Epoch 1/1\n",
      "334/334 [==============================] - 0s 36us/step - loss: 0.5627 - dense_10_loss: 0.0150 - dense_12_loss: 0.5477 - dense_10_acc: 0.2545 - dense_12_acc: 0.5898\n",
      "Match: 0.48750001192092896\n",
      "Epoch 1/1\n",
      "336/336 [==============================] - 0s 48us/step - loss: 0.4280 - dense_10_loss: 0.0149 - dense_12_loss: 0.4131 - dense_10_acc: 0.2976 - dense_12_acc: 0.6071\n",
      "Match: 0.48750001192092896\n",
      "Epoch 1/1\n",
      "340/340 [==============================] - 0s 49us/step - loss: 0.5371 - dense_10_loss: 0.0151 - dense_12_loss: 0.5220 - dense_10_acc: 0.2353 - dense_12_acc: 0.5941\n",
      "Match: 0.48750001192092896\n",
      "Epoch 1/1\n",
      "336/336 [==============================] - 0s 73us/step - loss: 0.4469 - dense_10_loss: 0.0149 - dense_12_loss: 0.4320 - dense_10_acc: 0.2679 - dense_12_acc: 0.6458\n",
      "Match: 0.48750001192092896\n",
      "Epoch 1/1\n",
      "346/346 [==============================] - 0s 52us/step - loss: 0.4468 - dense_10_loss: 0.0153 - dense_12_loss: 0.4315 - dense_10_acc: 0.2543 - dense_12_acc: 0.6879\n",
      "Match: 0.48750001192092896\n",
      "Epoch 1/1\n",
      "362/362 [==============================] - 0s 35us/step - loss: 0.6484 - dense_10_loss: 0.0160 - dense_12_loss: 0.6324 - dense_10_acc: 0.2983 - dense_12_acc: 0.5608\n",
      "Match: 0.48750001192092896\n",
      "Epoch 1/1\n",
      "330/330 [==============================] - 0s 71us/step - loss: 0.4047 - dense_10_loss: 0.0145 - dense_12_loss: 0.3903 - dense_10_acc: 0.3061 - dense_12_acc: 0.6606\n",
      "Match: 0.48750001192092896\n",
      "Epoch 1/1\n",
      "336/336 [==============================] - 0s 38us/step - loss: 0.4506 - dense_10_loss: 0.0147 - dense_12_loss: 0.4359 - dense_10_acc: 0.2946 - dense_12_acc: 0.6488\n",
      "Match: 0.4883928596973419\n",
      "Epoch 1/1\n",
      "350/350 [==============================] - 0s 34us/step - loss: 0.6702 - dense_10_loss: 0.0153 - dense_12_loss: 0.6548 - dense_10_acc: 0.3057 - dense_12_acc: 0.5629\n",
      "Match: 0.4883928596973419\n",
      "Epoch 1/1\n",
      "334/334 [==============================] - 0s 40us/step - loss: 0.4937 - dense_10_loss: 0.0147 - dense_12_loss: 0.4791 - dense_10_acc: 0.2605 - dense_12_acc: 0.5898\n",
      "Match: 0.4883928596973419\n",
      "Epoch 1/1\n",
      "340/340 [==============================] - 0s 40us/step - loss: 0.5125 - dense_10_loss: 0.0150 - dense_12_loss: 0.4975 - dense_10_acc: 0.2794 - dense_12_acc: 0.6147\n",
      "Match: 0.48750001192092896\n",
      "Epoch 1/1\n",
      "336/336 [==============================] - 0s 47us/step - loss: 0.4226 - dense_10_loss: 0.0146 - dense_12_loss: 0.4080 - dense_10_acc: 0.2530 - dense_12_acc: 0.6458\n",
      "Match: 0.4866071343421936\n",
      "Epoch 1/1\n",
      "334/334 [==============================] - 0s 38us/step - loss: 0.4322 - dense_10_loss: 0.0145 - dense_12_loss: 0.4177 - dense_10_acc: 0.2186 - dense_12_acc: 0.6707\n",
      "Match: 0.4848214387893677\n",
      "Epoch 1/1\n",
      "340/340 [==============================] - 0s 35us/step - loss: 0.5568 - dense_10_loss: 0.0148 - dense_12_loss: 0.5420 - dense_10_acc: 0.2382 - dense_12_acc: 0.5882\n",
      "Match: 0.48571428656578064\n",
      "Epoch 1/1\n",
      "340/340 [==============================] - 0s 37us/step - loss: 0.5857 - dense_10_loss: 0.0148 - dense_12_loss: 0.5710 - dense_10_acc: 0.3029 - dense_12_acc: 0.5559\n",
      "Match: 0.48571428656578064\n",
      "Epoch 1/1\n",
      "336/336 [==============================] - 0s 36us/step - loss: 0.6735 - dense_10_loss: 0.0145 - dense_12_loss: 0.6590 - dense_10_acc: 0.2857 - dense_12_acc: 0.5298\n",
      "Match: 0.4848214387893677\n",
      "Epoch 1/1\n",
      "324/324 [==============================] - 0s 59us/step - loss: 0.4385 - dense_10_loss: 0.0137 - dense_12_loss: 0.4247 - dense_10_acc: 0.2809 - dense_12_acc: 0.6605\n",
      "Match: 0.4848214387893677\n",
      "Epoch 1/1\n",
      "328/328 [==============================] - 0s 50us/step - loss: 0.3713 - dense_10_loss: 0.0140 - dense_12_loss: 0.3573 - dense_10_acc: 0.2774 - dense_12_acc: 0.6921\n",
      "Match: 0.4848214387893677\n",
      "Epoch 1/1\n",
      "334/334 [==============================] - 0s 62us/step - loss: 0.5277 - dense_10_loss: 0.0142 - dense_12_loss: 0.5135 - dense_10_acc: 0.2994 - dense_12_acc: 0.6108\n",
      "Match: 0.4848214387893677\n",
      "Epoch 1/1\n",
      "346/346 [==============================] - 0s 49us/step - loss: 0.5550 - dense_10_loss: 0.0150 - dense_12_loss: 0.5400 - dense_10_acc: 0.2688 - dense_12_acc: 0.6069\n",
      "Match: 0.4848214387893677\n",
      "Epoch 1/1\n",
      "324/324 [==============================] - 0s 41us/step - loss: 0.4214 - dense_10_loss: 0.0137 - dense_12_loss: 0.4077 - dense_10_acc: 0.3179 - dense_12_acc: 0.6667\n",
      "Match: 0.4848214387893677\n",
      "Epoch 1/1\n",
      "334/334 [==============================] - 0s 56us/step - loss: 0.5500 - dense_10_loss: 0.0144 - dense_12_loss: 0.5357 - dense_10_acc: 0.2844 - dense_12_acc: 0.5749\n",
      "Match: 0.4848214387893677\n",
      "Epoch 1/1\n",
      "334/334 [==============================] - 0s 40us/step - loss: 0.4583 - dense_10_loss: 0.0142 - dense_12_loss: 0.4441 - dense_10_acc: 0.3084 - dense_12_acc: 0.6527\n",
      "Match: 0.4848214387893677\n",
      "Epoch 1/1\n",
      "344/344 [==============================] - 0s 45us/step - loss: 0.5760 - dense_10_loss: 0.0147 - dense_12_loss: 0.5613 - dense_10_acc: 0.2936 - dense_12_acc: 0.5465\n",
      "Match: 0.4848214387893677\n",
      "Epoch 1/1\n",
      "356/356 [==============================] - 0s 45us/step - loss: 0.5773 - dense_10_loss: 0.0152 - dense_12_loss: 0.5620 - dense_10_acc: 0.2781 - dense_12_acc: 0.5730\n",
      "Match: 0.4839285612106323\n",
      "Epoch 1/1\n",
      "334/334 [==============================] - 0s 45us/step - loss: 0.4501 - dense_10_loss: 0.0140 - dense_12_loss: 0.4362 - dense_10_acc: 0.2964 - dense_12_acc: 0.6737\n",
      "Match: 0.4839285612106323\n",
      "Epoch 1/1\n",
      "342/342 [==============================] - 0s 34us/step - loss: 0.5769 - dense_10_loss: 0.0145 - dense_12_loss: 0.5624 - dense_10_acc: 0.2865 - dense_12_acc: 0.5526\n",
      "Match: 0.4839285612106323\n",
      "Epoch 1/1\n",
      "332/332 [==============================] - 0s 47us/step - loss: 0.5544 - dense_10_loss: 0.0140 - dense_12_loss: 0.5404 - dense_10_acc: 0.2892 - dense_12_acc: 0.5783\n",
      "Match: 0.4848214387893677\n",
      "Epoch 1/1\n",
      "348/348 [==============================] - 0s 40us/step - loss: 0.5698 - dense_10_loss: 0.0148 - dense_12_loss: 0.5550 - dense_10_acc: 0.2529 - dense_12_acc: 0.5603\n",
      "Match: 0.4866071343421936\n",
      "Epoch 1/1\n",
      "336/336 [==============================] - 0s 38us/step - loss: 0.4380 - dense_10_loss: 0.0141 - dense_12_loss: 0.4239 - dense_10_acc: 0.2887 - dense_12_acc: 0.6042\n",
      "Match: 0.48750001192092896\n",
      "Epoch 1/1\n",
      "354/354 [==============================] - 0s 36us/step - loss: 0.6140 - dense_10_loss: 0.0151 - dense_12_loss: 0.5988 - dense_10_acc: 0.2938 - dense_12_acc: 0.5565\n",
      "Match: 0.48750001192092896\n",
      "Epoch 1/1\n",
      "328/328 [==============================] - 0s 55us/step - loss: 0.4641 - dense_10_loss: 0.0137 - dense_12_loss: 0.4503 - dense_10_acc: 0.3140 - dense_12_acc: 0.6494\n",
      "Match: 0.4892857074737549\n",
      "Epoch 1/1\n",
      "342/342 [==============================] - 0s 34us/step - loss: 0.4949 - dense_10_loss: 0.0142 - dense_12_loss: 0.4807 - dense_10_acc: 0.2778 - dense_12_acc: 0.5819\n",
      "Match: 0.4883928596973419\n",
      "Epoch 1/1\n",
      "334/334 [==============================] - 0s 42us/step - loss: 0.4110 - dense_10_loss: 0.0139 - dense_12_loss: 0.3972 - dense_10_acc: 0.2904 - dense_12_acc: 0.6168\n",
      "Match: 0.48750001192092896\n",
      "Epoch 1/1\n",
      "342/342 [==============================] - 0s 36us/step - loss: 0.4482 - dense_10_loss: 0.0144 - dense_12_loss: 0.4338 - dense_10_acc: 0.2456 - dense_12_acc: 0.6374\n",
      "Match: 0.4866071343421936\n",
      "Epoch 1/1\n",
      "346/346 [==============================] - 0s 35us/step - loss: 0.5939 - dense_10_loss: 0.0145 - dense_12_loss: 0.5794 - dense_10_acc: 0.3006 - dense_12_acc: 0.5434\n",
      "Match: 0.4883928596973419\n",
      "Epoch 1/1\n",
      "330/330 [==============================] - 0s 45us/step - loss: 0.4732 - dense_10_loss: 0.0137 - dense_12_loss: 0.4595 - dense_10_acc: 0.2848 - dense_12_acc: 0.6182\n",
      "Match: 0.4883928596973419\n",
      "Epoch 1/1\n",
      "332/332 [==============================] - 0s 91us/step - loss: 0.5130 - dense_10_loss: 0.0138 - dense_12_loss: 0.4992 - dense_10_acc: 0.3373 - dense_12_acc: 0.5723\n",
      "Match: 0.48750001192092896\n",
      "Epoch 1/1\n",
      "338/338 [==============================] - 0s 41us/step - loss: 0.5454 - dense_10_loss: 0.0140 - dense_12_loss: 0.5314 - dense_10_acc: 0.3402 - dense_12_acc: 0.5828\n",
      "Match: 0.48750001192092896\n",
      "Epoch 1/1\n",
      "344/344 [==============================] - 0s 38us/step - loss: 0.5625 - dense_10_loss: 0.0142 - dense_12_loss: 0.5483 - dense_10_acc: 0.2907 - dense_12_acc: 0.5494\n",
      "Match: 0.48750001192092896\n",
      "Epoch 1/1\n",
      "348/348 [==============================] - 0s 39us/step - loss: 0.4802 - dense_10_loss: 0.0145 - dense_12_loss: 0.4657 - dense_10_acc: 0.3247 - dense_12_acc: 0.5920\n",
      "Match: 0.4883928596973419\n",
      "Epoch 1/1\n",
      "340/340 [==============================] - 0s 44us/step - loss: 0.5418 - dense_10_loss: 0.0141 - dense_12_loss: 0.5278 - dense_10_acc: 0.2853 - dense_12_acc: 0.5794\n",
      "Match: 0.48571428656578064\n",
      "Epoch 1/1\n",
      "350/350 [==============================] - 0s 46us/step - loss: 0.5284 - dense_10_loss: 0.0146 - dense_12_loss: 0.5138 - dense_10_acc: 0.3171 - dense_12_acc: 0.5714\n",
      "Match: 0.48571428656578064\n",
      "Epoch 1/1\n",
      "346/346 [==============================] - 0s 44us/step - loss: 0.5239 - dense_10_loss: 0.0144 - dense_12_loss: 0.5095 - dense_10_acc: 0.3035 - dense_12_acc: 0.5751\n",
      "Match: 0.48303571343421936\n",
      "Epoch 1/1\n",
      "338/338 [==============================] - 0s 35us/step - loss: 0.5508 - dense_10_loss: 0.0139 - dense_12_loss: 0.5369 - dense_10_acc: 0.2959 - dense_12_acc: 0.6331\n",
      "Match: 0.4749999940395355\n",
      "Epoch 1/1\n",
      "348/348 [==============================] - 0s 43us/step - loss: 0.5521 - dense_10_loss: 0.0144 - dense_12_loss: 0.5378 - dense_10_acc: 0.3161 - dense_12_acc: 0.6063\n",
      "Match: 0.4749999940395355\n",
      "Epoch 1/1\n",
      "346/346 [==============================] - 0s 33us/step - loss: 0.5871 - dense_10_loss: 0.0144 - dense_12_loss: 0.5728 - dense_10_acc: 0.2977 - dense_12_acc: 0.5520\n",
      "Match: 0.4732142984867096\n",
      "Epoch 1/1\n",
      "334/334 [==============================] - 0s 45us/step - loss: 0.5585 - dense_10_loss: 0.0137 - dense_12_loss: 0.5448 - dense_10_acc: 0.2934 - dense_12_acc: 0.6078\n",
      "Match: 0.47410714626312256\n",
      "Epoch 1/1\n",
      "338/338 [==============================] - 0s 48us/step - loss: 0.5364 - dense_10_loss: 0.0138 - dense_12_loss: 0.5226 - dense_10_acc: 0.2870 - dense_12_acc: 0.5858\n",
      "Match: 0.47410714626312256\n",
      "Epoch 1/1\n",
      "330/330 [==============================] - 0s 35us/step - loss: 0.4598 - dense_10_loss: 0.0134 - dense_12_loss: 0.4464 - dense_10_acc: 0.2939 - dense_12_acc: 0.5909\n",
      "Match: 0.47410714626312256\n",
      "Epoch 1/1\n",
      "332/332 [==============================] - 0s 48us/step - loss: 0.5053 - dense_10_loss: 0.0135 - dense_12_loss: 0.4917 - dense_10_acc: 0.2831 - dense_12_acc: 0.5994\n",
      "Match: 0.4749999940395355\n",
      "Epoch 1/1\n",
      "352/352 [==============================] - 0s 38us/step - loss: 0.5618 - dense_10_loss: 0.0145 - dense_12_loss: 0.5473 - dense_10_acc: 0.3125 - dense_12_acc: 0.5483\n",
      "Match: 0.4714285731315613\n",
      "Epoch 1/1\n",
      "336/336 [==============================] - 0s 52us/step - loss: 0.4986 - dense_10_loss: 0.0136 - dense_12_loss: 0.4850 - dense_10_acc: 0.2857 - dense_12_acc: 0.5685\n",
      "Match: 0.4714285731315613\n",
      "Epoch 1/1\n",
      "326/326 [==============================] - 0s 36us/step - loss: 0.4217 - dense_10_loss: 0.0130 - dense_12_loss: 0.4088 - dense_10_acc: 0.3098 - dense_12_acc: 0.6319\n",
      "Match: 0.4705357253551483\n",
      "Epoch 1/1\n",
      "344/344 [==============================] - 0s 35us/step - loss: 0.5029 - dense_10_loss: 0.0141 - dense_12_loss: 0.4888 - dense_10_acc: 0.3110 - dense_12_acc: 0.5610\n",
      "Match: 0.4705357253551483\n",
      "Epoch 1/1\n",
      "338/338 [==============================] - 0s 36us/step - loss: 0.4940 - dense_10_loss: 0.0136 - dense_12_loss: 0.4804 - dense_10_acc: 0.2959 - dense_12_acc: 0.5976\n",
      "Match: 0.4705357253551483\n",
      "Epoch 1/1\n",
      "340/340 [==============================] - 0s 41us/step - loss: 0.4814 - dense_10_loss: 0.0138 - dense_12_loss: 0.4676 - dense_10_acc: 0.2824 - dense_12_acc: 0.5853\n",
      "Match: 0.4714285731315613\n",
      "Epoch 1/1\n",
      "328/328 [==============================] - 0s 66us/step - loss: 0.4915 - dense_10_loss: 0.0133 - dense_12_loss: 0.4782 - dense_10_acc: 0.3323 - dense_12_acc: 0.6280\n",
      "Match: 0.4705357253551483\n",
      "Epoch 1/1\n",
      "334/334 [==============================] - 0s 36us/step - loss: 0.6227 - dense_10_loss: 0.0134 - dense_12_loss: 0.6093 - dense_10_acc: 0.2754 - dense_12_acc: 0.5749\n",
      "Match: 0.4732142984867096\n",
      "Epoch 1/1\n",
      "350/350 [==============================] - 0s 36us/step - loss: 0.5370 - dense_10_loss: 0.0143 - dense_12_loss: 0.5227 - dense_10_acc: 0.2829 - dense_12_acc: 0.5971\n",
      "Match: 0.4732142984867096\n",
      "Epoch 1/1\n",
      "338/338 [==============================] - 0s 38us/step - loss: 0.5509 - dense_10_loss: 0.0136 - dense_12_loss: 0.5373 - dense_10_acc: 0.3284 - dense_12_acc: 0.6154\n",
      "Match: 0.4732142984867096\n",
      "Epoch 1/1\n",
      "342/342 [==============================] - 0s 33us/step - loss: 0.4418 - dense_10_loss: 0.0138 - dense_12_loss: 0.4280 - dense_10_acc: 0.2807 - dense_12_acc: 0.6550\n",
      "Match: 0.47232142090797424\n",
      "Epoch 1/1\n",
      "338/338 [==============================] - 0s 35us/step - loss: 0.4812 - dense_10_loss: 0.0137 - dense_12_loss: 0.4675 - dense_10_acc: 0.2899 - dense_12_acc: 0.6272\n",
      "Match: 0.4732142984867096\n",
      "Epoch 1/1\n",
      "346/346 [==============================] - 0s 57us/step - loss: 0.5009 - dense_10_loss: 0.0141 - dense_12_loss: 0.4868 - dense_10_acc: 0.2775 - dense_12_acc: 0.6040\n",
      "Match: 0.4732142984867096\n",
      "Epoch 1/1\n",
      "332/332 [==============================] - 0s 41us/step - loss: 0.4477 - dense_10_loss: 0.0132 - dense_12_loss: 0.4345 - dense_10_acc: 0.2711 - dense_12_acc: 0.6416\n",
      "Match: 0.47232142090797424\n",
      "Epoch 1/1\n",
      "336/336 [==============================] - 0s 53us/step - loss: 0.4288 - dense_10_loss: 0.0135 - dense_12_loss: 0.4153 - dense_10_acc: 0.3155 - dense_12_acc: 0.6667\n",
      "Match: 0.47232142090797424\n",
      "Epoch 1/1\n",
      "344/344 [==============================] - 0s 36us/step - loss: 0.4893 - dense_10_loss: 0.0137 - dense_12_loss: 0.4757 - dense_10_acc: 0.3285 - dense_12_acc: 0.6163\n",
      "Match: 0.47232142090797424\n",
      "Epoch 1/1\n",
      "352/352 [==============================] - 0s 32us/step - loss: 0.5170 - dense_10_loss: 0.0144 - dense_12_loss: 0.5026 - dense_10_acc: 0.2869 - dense_12_acc: 0.6335\n",
      "Match: 0.47232142090797424\n",
      "Epoch 1/1\n",
      "332/332 [==============================] - 0s 58us/step - loss: 0.4424 - dense_10_loss: 0.0132 - dense_12_loss: 0.4292 - dense_10_acc: 0.2620 - dense_12_acc: 0.6506\n",
      "Match: 0.4732142984867096\n",
      "Epoch 1/1\n",
      "340/340 [==============================] - 0s 44us/step - loss: 0.5072 - dense_10_loss: 0.0136 - dense_12_loss: 0.4937 - dense_10_acc: 0.3088 - dense_12_acc: 0.6118\n",
      "Match: 0.4732142984867096\n",
      "Epoch 1/1\n",
      "334/334 [==============================] - 0s 41us/step - loss: 0.3861 - dense_10_loss: 0.0133 - dense_12_loss: 0.3728 - dense_10_acc: 0.3174 - dense_12_acc: 0.7186\n",
      "Match: 0.4732142984867096\n",
      "Epoch 1/1\n",
      "338/338 [==============================] - 0s 47us/step - loss: 0.5222 - dense_10_loss: 0.0133 - dense_12_loss: 0.5089 - dense_10_acc: 0.3669 - dense_12_acc: 0.6213\n",
      "Match: 0.4732142984867096\n",
      "Epoch 1/1\n",
      "346/346 [==============================] - 0s 37us/step - loss: 0.5177 - dense_10_loss: 0.0139 - dense_12_loss: 0.5038 - dense_10_acc: 0.3092 - dense_12_acc: 0.6127\n",
      "Match: 0.47232142090797424\n",
      "Epoch 1/1\n",
      "344/344 [==============================] - 0s 44us/step - loss: 0.6709 - dense_10_loss: 0.0138 - dense_12_loss: 0.6571 - dense_10_acc: 0.2674 - dense_12_acc: 0.5843\n",
      "Match: 0.4749999940395355\n",
      "Epoch 1/1\n",
      "358/358 [==============================] - 0s 45us/step - loss: 0.4961 - dense_10_loss: 0.0144 - dense_12_loss: 0.4817 - dense_10_acc: 0.3268 - dense_12_acc: 0.6201\n",
      "Match: 0.4749999940395355\n",
      "Epoch 1/1\n",
      "342/342 [==============================] - 0s 38us/step - loss: 0.5325 - dense_10_loss: 0.0136 - dense_12_loss: 0.5190 - dense_10_acc: 0.3158 - dense_12_acc: 0.5848\n",
      "Match: 0.4758928716182709\n",
      "Epoch 1/1\n",
      "342/342 [==============================] - 0s 41us/step - loss: 0.5463 - dense_10_loss: 0.0137 - dense_12_loss: 0.5326 - dense_10_acc: 0.3216 - dense_12_acc: 0.6140\n",
      "Match: 0.4749999940395355\n",
      "Epoch 1/1\n",
      "340/340 [==============================] - 0s 37us/step - loss: 0.4985 - dense_10_loss: 0.0136 - dense_12_loss: 0.4849 - dense_10_acc: 0.3324 - dense_12_acc: 0.6471\n",
      "Match: 0.4749999940395355\n",
      "Epoch 1/1\n",
      "336/336 [==============================] - 0s 40us/step - loss: 0.4878 - dense_10_loss: 0.0131 - dense_12_loss: 0.4747 - dense_10_acc: 0.3363 - dense_12_acc: 0.6637\n",
      "Match: 0.47678571939468384\n",
      "Epoch 1/1\n",
      "338/338 [==============================] - 0s 39us/step - loss: 0.5151 - dense_10_loss: 0.0134 - dense_12_loss: 0.5017 - dense_10_acc: 0.2929 - dense_12_acc: 0.6243\n",
      "Match: 0.4758928716182709\n",
      "Epoch 1/1\n",
      "326/326 [==============================] - 0s 49us/step - loss: 0.4201 - dense_10_loss: 0.0126 - dense_12_loss: 0.4075 - dense_10_acc: 0.3466 - dense_12_acc: 0.6411\n",
      "Match: 0.4758928716182709\n",
      "Epoch 1/1\n",
      "334/334 [==============================] - 0s 59us/step - loss: 0.4740 - dense_10_loss: 0.0131 - dense_12_loss: 0.4609 - dense_10_acc: 0.3024 - dense_12_acc: 0.6257\n",
      "Match: 0.47678571939468384\n",
      "Epoch 1/1\n",
      "346/346 [==============================] - 0s 38us/step - loss: 0.6221 - dense_10_loss: 0.0138 - dense_12_loss: 0.6083 - dense_10_acc: 0.3237 - dense_12_acc: 0.5491\n",
      "Match: 0.4758928716182709\n",
      "Epoch 1/1\n",
      "352/352 [==============================] - 0s 42us/step - loss: 0.5589 - dense_10_loss: 0.0140 - dense_12_loss: 0.5449 - dense_10_acc: 0.2784 - dense_12_acc: 0.5994\n",
      "Match: 0.4758928716182709\n",
      "Epoch 1/1\n",
      "330/330 [==============================] - 0s 53us/step - loss: 0.4838 - dense_10_loss: 0.0130 - dense_12_loss: 0.4708 - dense_10_acc: 0.3121 - dense_12_acc: 0.6364\n",
      "Match: 0.47410714626312256\n",
      "Epoch 1/1\n",
      "340/340 [==============================] - 0s 46us/step - loss: 0.5301 - dense_10_loss: 0.0132 - dense_12_loss: 0.5169 - dense_10_acc: 0.3294 - dense_12_acc: 0.5471\n",
      "Match: 0.47410714626312256\n",
      "Epoch 1/1\n",
      "342/342 [==============================] - 0s 39us/step - loss: 0.5000 - dense_10_loss: 0.0134 - dense_12_loss: 0.4866 - dense_10_acc: 0.3772 - dense_12_acc: 0.5877\n",
      "Match: 0.4758928716182709\n",
      "Epoch 1/1\n",
      "338/338 [==============================] - 0s 45us/step - loss: 0.5435 - dense_10_loss: 0.0133 - dense_12_loss: 0.5301 - dense_10_acc: 0.3018 - dense_12_acc: 0.5888\n",
      "Match: 0.47678571939468384\n",
      "Epoch 1/1\n",
      "330/330 [==============================] - 0s 45us/step - loss: 0.4853 - dense_10_loss: 0.0127 - dense_12_loss: 0.4726 - dense_10_acc: 0.3273 - dense_12_acc: 0.6515\n",
      "Match: 0.47678571939468384\n",
      "Epoch 1/1\n",
      "342/342 [==============================] - 0s 43us/step - loss: 0.4780 - dense_10_loss: 0.0134 - dense_12_loss: 0.4646 - dense_10_acc: 0.3012 - dense_12_acc: 0.6404\n",
      "Match: 0.47410714626312256\n",
      "Epoch 1/1\n",
      "338/338 [==============================] - 0s 40us/step - loss: 0.5400 - dense_10_loss: 0.0133 - dense_12_loss: 0.5268 - dense_10_acc: 0.3402 - dense_12_acc: 0.5917\n",
      "Match: 0.47410714626312256\n",
      "Epoch 1/1\n",
      "336/336 [==============================] - 0s 52us/step - loss: 0.5322 - dense_10_loss: 0.0131 - dense_12_loss: 0.5191 - dense_10_acc: 0.3333 - dense_12_acc: 0.6071\n",
      "Match: 0.47410714626312256\n",
      "Epoch 1/1\n",
      "338/338 [==============================] - 0s 35us/step - loss: 0.5323 - dense_10_loss: 0.0131 - dense_12_loss: 0.5192 - dense_10_acc: 0.3195 - dense_12_acc: 0.6154\n",
      "Match: 0.47410714626312256\n",
      "Epoch 1/1\n",
      "340/340 [==============================] - 0s 33us/step - loss: 0.5877 - dense_10_loss: 0.0132 - dense_12_loss: 0.5745 - dense_10_acc: 0.3618 - dense_12_acc: 0.5559\n",
      "Match: 0.47410714626312256\n",
      "Epoch 1/1\n",
      "336/336 [==============================] - 0s 68us/step - loss: 0.5188 - dense_10_loss: 0.0131 - dense_12_loss: 0.5057 - dense_10_acc: 0.2708 - dense_12_acc: 0.5685\n",
      "Match: 0.4732142984867096\n",
      "Epoch 1/1\n",
      "354/354 [==============================] - 0s 45us/step - loss: 0.5700 - dense_10_loss: 0.0140 - dense_12_loss: 0.5559 - dense_10_acc: 0.3023 - dense_12_acc: 0.5198\n",
      "Match: 0.4732142984867096\n",
      "Epoch 1/1\n",
      "352/352 [==============================] - 0s 38us/step - loss: 0.5028 - dense_10_loss: 0.0138 - dense_12_loss: 0.4890 - dense_10_acc: 0.3750 - dense_12_acc: 0.5625\n",
      "Match: 0.4732142984867096\n",
      "Epoch 1/1\n",
      "344/344 [==============================] - 0s 37us/step - loss: 0.5061 - dense_10_loss: 0.0134 - dense_12_loss: 0.4927 - dense_10_acc: 0.3517 - dense_12_acc: 0.5872\n",
      "Match: 0.4732142984867096\n",
      "Epoch 1/1\n",
      "346/346 [==============================] - 0s 37us/step - loss: 0.5586 - dense_10_loss: 0.0135 - dense_12_loss: 0.5451 - dense_10_acc: 0.3555 - dense_12_acc: 0.5665\n",
      "Match: 0.4732142984867096\n",
      "Epoch 1/1\n",
      "336/336 [==============================] - 0s 47us/step - loss: 0.5301 - dense_10_loss: 0.0131 - dense_12_loss: 0.5170 - dense_10_acc: 0.3393 - dense_12_acc: 0.5923\n",
      "Match: 0.4732142984867096\n",
      "Epoch 1/1\n",
      "324/324 [==============================] - 0s 54us/step - loss: 0.4293 - dense_10_loss: 0.0123 - dense_12_loss: 0.4170 - dense_10_acc: 0.2778 - dense_12_acc: 0.6667\n",
      "Match: 0.4732142984867096\n",
      "Epoch 1/1\n",
      "334/334 [==============================] - 0s 38us/step - loss: 0.5067 - dense_10_loss: 0.0129 - dense_12_loss: 0.4938 - dense_10_acc: 0.3114 - dense_12_acc: 0.5659\n",
      "Match: 0.47410714626312256\n",
      "Epoch 1/1\n",
      "352/352 [==============================] - 0s 41us/step - loss: 0.5064 - dense_10_loss: 0.0137 - dense_12_loss: 0.4927 - dense_10_acc: 0.3210 - dense_12_acc: 0.5824\n",
      "Match: 0.47410714626312256\n",
      "Epoch 1/1\n",
      "336/336 [==============================] - 0s 39us/step - loss: 0.5439 - dense_10_loss: 0.0129 - dense_12_loss: 0.5310 - dense_10_acc: 0.3214 - dense_12_acc: 0.5923\n",
      "Match: 0.47410714626312256\n",
      "Epoch 1/1\n",
      "346/346 [==============================] - 0s 36us/step - loss: 0.6634 - dense_10_loss: 0.0134 - dense_12_loss: 0.6500 - dense_10_acc: 0.3382 - dense_12_acc: 0.5173\n",
      "Match: 0.4732142984867096\n",
      "Epoch 1/1\n",
      "352/352 [==============================] - 0s 58us/step - loss: 0.6126 - dense_10_loss: 0.0138 - dense_12_loss: 0.5988 - dense_10_acc: 0.2898 - dense_12_acc: 0.5256\n",
      "Match: 0.47232142090797424\n",
      "Epoch 1/1\n",
      "336/336 [==============================] - 0s 55us/step - loss: 0.5474 - dense_10_loss: 0.0129 - dense_12_loss: 0.5345 - dense_10_acc: 0.3571 - dense_12_acc: 0.5744\n",
      "Match: 0.47232142090797424\n",
      "Epoch 1/1\n",
      "332/332 [==============================] - 0s 38us/step - loss: 0.5440 - dense_10_loss: 0.0127 - dense_12_loss: 0.5313 - dense_10_acc: 0.3012 - dense_12_acc: 0.6114\n",
      "Match: 0.46964284777641296\n",
      "Epoch 1/1\n",
      "336/336 [==============================] - 0s 42us/step - loss: 0.5101 - dense_10_loss: 0.0128 - dense_12_loss: 0.4974 - dense_10_acc: 0.3214 - dense_12_acc: 0.6071\n",
      "Match: 0.46964284777641296\n",
      "Epoch 1/1\n",
      "344/344 [==============================] - 0s 40us/step - loss: 0.5080 - dense_10_loss: 0.0133 - dense_12_loss: 0.4947 - dense_10_acc: 0.2645 - dense_12_acc: 0.5814\n",
      "Match: 0.46964284777641296\n",
      "Epoch 1/1\n",
      "358/358 [==============================] - 0s 64us/step - loss: 0.5871 - dense_10_loss: 0.0139 - dense_12_loss: 0.5732 - dense_10_acc: 0.3101 - dense_12_acc: 0.5084\n",
      "Match: 0.46964284777641296\n",
      "Epoch 1/1\n",
      "338/338 [==============================] - 0s 53us/step - loss: 0.4779 - dense_10_loss: 0.0128 - dense_12_loss: 0.4651 - dense_10_acc: 0.3284 - dense_12_acc: 0.6006\n",
      "Match: 0.46964284777641296\n",
      "Epoch 1/1\n",
      "350/350 [==============================] - 0s 34us/step - loss: 0.6015 - dense_10_loss: 0.0137 - dense_12_loss: 0.5879 - dense_10_acc: 0.2943 - dense_12_acc: 0.5771\n",
      "Match: 0.46964284777641296\n",
      "Epoch 1/1\n",
      "342/342 [==============================] - 0s 37us/step - loss: 0.5211 - dense_10_loss: 0.0131 - dense_12_loss: 0.5080 - dense_10_acc: 0.3596 - dense_12_acc: 0.6023\n",
      "Match: 0.46964284777641296\n",
      "Epoch 1/1\n",
      "328/328 [==============================] - 0s 50us/step - loss: 0.4312 - dense_10_loss: 0.0124 - dense_12_loss: 0.4189 - dense_10_acc: 0.2957 - dense_12_acc: 0.6463\n",
      "Match: 0.4732142984867096\n",
      "Epoch 1/1\n",
      "346/346 [==============================] - 0s 42us/step - loss: 0.4359 - dense_10_loss: 0.0132 - dense_12_loss: 0.4227 - dense_10_acc: 0.3324 - dense_12_acc: 0.6272\n",
      "Match: 0.4705357253551483\n",
      "Epoch 1/1\n",
      "346/346 [==============================] - 0s 36us/step - loss: 0.5952 - dense_10_loss: 0.0133 - dense_12_loss: 0.5818 - dense_10_acc: 0.3266 - dense_12_acc: 0.5405\n",
      "Match: 0.4732142984867096\n",
      "Epoch 1/1\n",
      "336/336 [==============================] - 0s 58us/step - loss: 0.4476 - dense_10_loss: 0.0128 - dense_12_loss: 0.4348 - dense_10_acc: 0.3423 - dense_12_acc: 0.6250\n",
      "Match: 0.4705357253551483\n",
      "Epoch 1/1\n",
      "334/334 [==============================] - 0s 35us/step - loss: 0.5184 - dense_10_loss: 0.0126 - dense_12_loss: 0.5057 - dense_10_acc: 0.3353 - dense_12_acc: 0.6168\n",
      "Match: 0.4705357253551483\n",
      "Epoch 1/1\n",
      "336/336 [==============================] - 0s 35us/step - loss: 0.4690 - dense_10_loss: 0.0127 - dense_12_loss: 0.4563 - dense_10_acc: 0.3036 - dense_12_acc: 0.6190\n",
      "Match: 0.4705357253551483\n",
      "Epoch 1/1\n",
      "344/344 [==============================] - 0s 55us/step - loss: 0.5643 - dense_10_loss: 0.0132 - dense_12_loss: 0.5511 - dense_10_acc: 0.3285 - dense_12_acc: 0.5727\n",
      "Match: 0.46964284777641296\n",
      "Epoch 1/1\n",
      "334/334 [==============================] - 0s 41us/step - loss: 0.4678 - dense_10_loss: 0.0125 - dense_12_loss: 0.4553 - dense_10_acc: 0.3533 - dense_12_acc: 0.6287\n",
      "Match: 0.46964284777641296\n",
      "Epoch 1/1\n",
      "332/332 [==============================] - 0s 44us/step - loss: 0.4311 - dense_10_loss: 0.0125 - dense_12_loss: 0.4186 - dense_10_acc: 0.3102 - dense_12_acc: 0.6596\n",
      "Match: 0.4705357253551483\n",
      "Epoch 1/1\n",
      "350/350 [==============================] - 0s 40us/step - loss: 0.5740 - dense_10_loss: 0.0136 - dense_12_loss: 0.5605 - dense_10_acc: 0.3286 - dense_12_acc: 0.5800\n",
      "Match: 0.46964284777641296\n",
      "Epoch 1/1\n",
      "340/340 [==============================] - 0s 44us/step - loss: 0.5752 - dense_10_loss: 0.0128 - dense_12_loss: 0.5624 - dense_10_acc: 0.3235 - dense_12_acc: 0.5676\n",
      "Match: 0.46964284777641296\n"
     ]
    },
    {
     "name": "stderr",
     "output_type": "stream",
     "text": [
      "100%|██████████| 1/1 [21:33<00:00, 1293.75s/it]"
     ]
    },
    {
     "name": "stdout",
     "output_type": "stream",
     "text": [
      "{'episodes': 75, 'mcts_sims': 40, 'objective_opponent': False, 'storage_size': 0, 'sample_size': 0, 'hidden_neurons': 128, 'model': 'Keras'} 0.512499988079071\n"
     ]
    },
    {
     "name": "stderr",
     "output_type": "stream",
     "text": [
      "\n"
     ]
    }
   ],
   "source": [
    "variables= {\"episodes\": [75], \"mcts_sims\": [40], \"objective_opponent\": [False], \"storage_size\": [0], \"sample_size\": [0], \"hidden_neurons\": [128], \"model\": [\"Keras\"]}\n",
    "\n",
    "results = []\n",
    "n = 1\n",
    "best_models = []\n",
    "\n",
    "for combination in tqdm(create_grid_search(variables)):\n",
    "    summary_writer = tf.summary.FileWriter(\"./results/nn-keras-\" + str(combination) + \" (try 0)\")\n",
    "    score = 0\n",
    "    for i in range(n):\n",
    "        env = WattenEnv()\n",
    "        if combination[\"model\"] is \"Keras\":\n",
    "            model = KerasModel(combination[\"hidden_neurons\"])#LookUp()\n",
    "            best_model = KerasModel(combination[\"hidden_neurons\"])#LookUp()\n",
    "            train_model = KerasModel(combination[\"hidden_neurons\"])#LookUp()\n",
    "        else:\n",
    "            model = TinyDnnModel(combination[\"hidden_neurons\"])#LookUp()\n",
    "            best_model = TinyDnnModel(combination[\"hidden_neurons\"])#LookUp()\n",
    "            train_model = TinyDnnModel(combination[\"hidden_neurons\"])#LookUp()\n",
    "        storage = Storage(combination[\"storage_size\"])\n",
    "        mcts = MCTS(combination[\"episodes\"], combination[\"mcts_sims\"], combination[\"objective_opponent\"])\n",
    "        rating = ModelRating(env)\n",
    "        game = Game(env)\n",
    "        score += train(env, model, train_model, best_model, storage, mcts, game, rating, combination[\"sample_size\"], summary_writer)\n",
    "    results.append([combination, score / n])\n",
    "    best_models.append(best_model)\n",
    "for result in results:\n",
    "    print(result[0], result[1])"
   ]
  },
  {
   "cell_type": "code",
   "execution_count": 14,
   "metadata": {},
   "outputs": [
    {
     "name": "stdout",
     "output_type": "stream",
     "text": [
      "0 4\n",
      "1 1\n",
      "2 8\n",
      "3 13\n",
      "4 9\n",
      "5 20\n",
      "6 10\n",
      "7 17\n",
      "8 1\n",
      "9 1\n",
      "10 11\n",
      "11 10\n",
      "12 11\n",
      "13 19\n",
      "14 12\n",
      "15 19\n",
      "16 0\n",
      "17 5\n",
      "18 12\n",
      "19 17\n",
      "20 12\n",
      "21 21\n",
      "22 6\n",
      "23 23\n"
     ]
    }
   ],
   "source": [
    "for i in range(len(best_models)):\n",
    "    wins = 0\n",
    "    for j in range(len(best_models)):\n",
    "        if game.compare_given_games(best_models[i], best_models[j], rating) > 0.5:\n",
    "            wins += 1\n",
    "    print(i, wins)"
   ]
  },
  {
   "cell_type": "code",
   "execution_count": 11,
   "metadata": {},
   "outputs": [],
   "source": [
    "%%cython -f -I . -L . -L /home/domin/.local/lib/python3.6/site-packages -I /home/domin/.local/lib/python3.6/site-packages  --cplus \n",
    "\n",
    "from src.MCTS cimport MCTS, Storage, MCTSState\n",
    "from src.LookUp cimport LookUp, ModelOutput\n",
    "from src.ModelRating cimport ModelRating\n",
    "from src.Game cimport Game\n",
    "from gym_watten.envs.watten_env cimport WattenEnv, Observation\n",
    "from IPython.display import clear_output\n",
    "from libcpp.vector cimport vector\n",
    "\n",
    "cpdef void show_flaws(WattenEnv env, LookUp model, LookUp better_model, ModelRating rating, int start=0):\n",
    "    cdef Observation obs\n",
    "    cdef ModelOutput output, better_output\n",
    "    cdef int step, better_step\n",
    "    \n",
    "    for g in range(start, rating.eval_games.size()):  \n",
    "        env.reset()\n",
    "        env.set_state(&rating.eval_games[g])\n",
    "        env.regenerate_obs(&obs)\n",
    "    \n",
    "        model.predict_single(&obs, &output)\n",
    "        step = model.valid_step(output.p, &env.players[env.current_player].hand_cards)\n",
    "        \n",
    "        better_model.predict_single(&obs, &better_output)\n",
    "        better_step = better_model.valid_step(better_output.p, &env.players[env.current_player].hand_cards)\n",
    "        \n",
    "        if better_step != step:\n",
    "            env.render('human')\n",
    "            print(g, step, better_step, output.p, better_output.p)\n",
    "            break\n",
    "            \n",
    "cpdef void analyse(WattenEnv env, LookUp model, MCTS mcts, ModelRating rating, int game_id, draw=True):\n",
    "    env.reset()\n",
    "    env.set_state(&rating.eval_games[game_id])\n",
    "    #env.step(0)\n",
    "    #env.step(4)\n",
    "    #env.step(2)\n",
    "    #env.step(1)\n",
    "    env.render('human')\n",
    "    #print(env.is_done())\n",
    "    mcts.objective_opponent = True\n",
    "    \n",
    "    cdef MCTSState root = mcts.create_root_state(env)\n",
    "    cdef vector[float] p\n",
    "    mcts.mcts_game_step(env, &root, model, &p, 40)\n",
    "    print(p)\n",
    "    \n",
    "    if draw:\n",
    "        mcts.draw_tree(&root, 6)\n",
    "\n",
    "cpdef void run(WattenEnv env, LookUp model, ModelRating rating, int game_id):\n",
    "    cdef Observation obs\n",
    "    cdef ModelOutput output\n",
    "    \n",
    "    env.reset()\n",
    "    env.set_state(&rating.eval_games[game_id])\n",
    "    env.regenerate_obs(&obs)\n",
    "    \n",
    "    model.predict_single(&obs, &output)\n",
    "    print(output.p)"
   ]
  },
  {
   "cell_type": "code",
   "execution_count": 32,
   "metadata": {},
   "outputs": [
    {
     "name": "stdout",
     "output_type": "stream",
     "text": [
      "60 3 2 [0.30431854724884033, 0.0, 0.28242039680480957, 0.41326066851615906, 0.0, 0.0, 0.0, 0.0, 0.0, 0.0, 0.0, 0.0, 0.0, 0.0, 0.0, 0.0, 0.0, 0.0, 0.0, 0.0, 0.0, 0.0, 0.0, 0.0, 0.0, 0.0, 0.0, 0.0, 0.0, 0.0, 0.0, 0.0] [0.302650511264801, 0.0, 0.41321861743927, 0.28413063287734985, 0.0, 0.0, 0.0, 0.0, 0.0, 0.0, 0.0, 0.0, 0.0, 0.0, 0.0, 0.0, 0.0, 0.0, 0.0, 0.0, 0.0, 0.0, 0.0, 0.0, 0.0, 0.0, 0.0, 0.0, 0.0, 0.0, 0.0, 0.0]\n"
     ]
    }
   ],
   "source": [
    "show_flaws(env, best_models[10], best_models[11], rating, 20)"
   ]
  },
  {
   "cell_type": "code",
   "execution_count": 12,
   "metadata": {},
   "outputs": [
    {
     "name": "stdout",
     "output_type": "stream",
     "text": [
      "[0.42824968695640564, 0.32129472494125366, 0.2504556179046631]\n",
      "[0.31789714097976685, 0.37508949637413025, 0.3070133626461029]\n",
      "[0.4029049277305603, 0.2813130021095276, 0.3157820701599121]\n",
      "[0.4055160582065582, 0.3133985996246338, 0.281085342168808]\n",
      "[0.3218088448047638, 0.3863930106163025, 0.29179811477661133]\n",
      "[0.40328505635261536, 0.25039905309677124, 0.3463159203529358]\n",
      "[0.40066438913345337, 0.16118615865707397, 0.43814942240715027]\n",
      "[0.4009774327278137, 0.16110198199748993, 0.43792060017585754]\n",
      "[0.24658171832561493, 0.2084484100341797, 0.5449698567390442]\n",
      "[0.22409316897392273, 0.21404504776000977, 0.5618617534637451]\n"
     ]
    }
   ],
   "source": [
    "for i in range(60, 70):\n",
    "    analyse(env, best_models[2], mcts, rating, i, False)"
   ]
  },
  {
   "cell_type": "code",
   "execution_count": 13,
   "metadata": {},
   "outputs": [
    {
     "name": "stdout",
     "output_type": "stream",
     "text": [
      "[0.2822434902191162, 0.4731760025024414, 0.24458058178424835]\n"
     ]
    },
    {
     "data": {
      "application/vnd.jupyter.widget-view+json": {
       "model_id": "a737ef0f2eea46978bea25c27785e7da",
       "version_major": 2,
       "version_minor": 0
      },
      "text/html": [
       "<p>Failed to display Jupyter Widget of type <code>FigureCanvasNbAgg</code>.</p>\n",
       "<p>\n",
       "  If you're reading this message in the Jupyter Notebook or JupyterLab Notebook, it may mean\n",
       "  that the widgets JavaScript is still loading. If this message persists, it\n",
       "  likely means that the widgets JavaScript library is either not installed or\n",
       "  not enabled. See the <a href=\"https://ipywidgets.readthedocs.io/en/stable/user_install.html\">Jupyter\n",
       "  Widgets Documentation</a> for setup instructions.\n",
       "</p>\n",
       "<p>\n",
       "  If you're reading this message in another frontend (for example, a static\n",
       "  rendering on GitHub or <a href=\"https://nbviewer.jupyter.org/\">NBViewer</a>),\n",
       "  it may mean that your frontend doesn't currently support widgets.\n",
       "</p>\n"
      ],
      "text/plain": [
       "FigureCanvasNbAgg()"
      ]
     },
     "metadata": {},
     "output_type": "display_data"
    }
   ],
   "source": [
    "analyse(env, best_models[2], mcts, rating, 61)"
   ]
  },
  {
   "cell_type": "code",
   "execution_count": 23,
   "metadata": {},
   "outputs": [
    {
     "name": "stdout",
     "output_type": "stream",
     "text": [
      "[0.2860535979270935, 0.0, 0.3563016653060913, 0.35764503479003906, 0.0, 0.0, 0.0, 0.0, 0.0, 0.0, 0.0, 0.0, 0.0, 0.0, 0.0, 0.0, 0.0, 0.0, 0.0, 0.0, 0.0, 0.0, 0.0, 0.0, 0.0, 0.0, 0.0, 0.0, 0.0, 0.0, 0.0, 0.0]\n"
     ]
    }
   ],
   "source": [
    "run(env, best_models[7], rating, 69)"
   ]
  },
  {
   "cell_type": "code",
   "execution_count": null,
   "metadata": {},
   "outputs": [],
   "source": [
    "env = WattenEnv()\n",
    "model = LookUp()\n",
    "best_model = LookUp()\n",
    "storage = Storage()\n",
    "mcts = MCTS()\n",
    "rating = ModelRating(env)\n",
    "game = Game(env)\n",
    "\n",
    "mcts.mcts_generate(env, model, storage)\n",
    "model.memorize_storage(storage)\n",
    "game.compare_given_games(model, best_model, rating)\n",
    "rating.calc_exploitability(model)"
   ]
  },
  {
   "cell_type": "code",
   "execution_count": 4,
   "metadata": {},
   "outputs": [
    {
     "ename": "NameError",
     "evalue": "name 'game' is not defined",
     "output_type": "error",
     "traceback": [
      "\u001b[0;31m---------------------------------------------------------------------------\u001b[0m",
      "\u001b[0;31mNameError\u001b[0m                                 Traceback (most recent call last)",
      "\u001b[0;32m<ipython-input-4-7f934aafac6d>\u001b[0m in \u001b[0;36m<module>\u001b[0;34m()\u001b[0m\n\u001b[1;32m      1\u001b[0m \u001b[0;32mfor\u001b[0m \u001b[0mi\u001b[0m \u001b[0;32min\u001b[0m \u001b[0mrange\u001b[0m\u001b[0;34m(\u001b[0m\u001b[0;36m10\u001b[0m\u001b[0;34m)\u001b[0m\u001b[0;34m:\u001b[0m\u001b[0;34m\u001b[0m\u001b[0m\n\u001b[0;32m----> 2\u001b[0;31m     \u001b[0mprint\u001b[0m\u001b[0;34m(\u001b[0m\u001b[0mgame\u001b[0m\u001b[0;34m.\u001b[0m\u001b[0mcompare_given_games\u001b[0m\u001b[0;34m(\u001b[0m\u001b[0mbest_models\u001b[0m\u001b[0;34m[\u001b[0m\u001b[0;36m0\u001b[0m\u001b[0;34m]\u001b[0m\u001b[0;34m,\u001b[0m \u001b[0mbest_models\u001b[0m\u001b[0;34m[\u001b[0m\u001b[0mi\u001b[0m\u001b[0;34m]\u001b[0m\u001b[0;34m,\u001b[0m \u001b[0mrating\u001b[0m\u001b[0;34m)\u001b[0m\u001b[0;34m)\u001b[0m\u001b[0;34m\u001b[0m\u001b[0m\n\u001b[0m",
      "\u001b[0;31mNameError\u001b[0m: name 'game' is not defined"
     ]
    }
   ],
   "source": [
    "for i in range(10):\n",
    "    print(game.compare_given_games(best_models[0], best_models[i], rating, False))"
   ]
  },
  {
   "cell_type": "code",
   "execution_count": 25,
   "metadata": {},
   "outputs": [
    {
     "data": {
      "text/plain": [
       "0.06607142835855484"
      ]
     },
     "execution_count": 25,
     "metadata": {},
     "output_type": "execute_result"
    }
   ],
   "source": [
    "rating.calc_exploitability(best_model)"
   ]
  },
  {
   "cell_type": "code",
   "execution_count": 4,
   "metadata": {},
   "outputs": [
    {
     "data": {
      "text/plain": [
       "Timer unit: 1e-06 s\n",
       "\n",
       "Total time: 0.020369 s\n",
       "File: src/Game.pyx\n",
       "Function: match at line 16\n",
       "\n",
       "Line #      Hits         Time  Per Hit   % Time  Line Contents\n",
       "==============================================================\n",
       "    16                                               cpdef int match(self, LookUp agent1, LookUp agent2, bool render=False, bool reset=True):\n",
       "    17                                                   cdef Observation obs\n",
       "    18                                                   cdef ModelOutput output\n",
       "    19                                                   cdef int a\n",
       "    20      1120        696.0      0.6      3.4          if reset:\n",
       "    21                                                       self.env.reset(&obs)\n",
       "    22                                                   else:\n",
       "    23      1120        623.0      0.6      3.1              self.env.regenerate_obs(&obs)\n",
       "    24                                           \n",
       "    25      1120        560.0      0.5      2.7          while not self.env.is_done():\n",
       "    26      4720       2263.0      0.5     11.1              if self.env.current_player == 0:\n",
       "    27      2360       3927.0      1.7     19.3                  agent1.predict_single(&obs, &output)\n",
       "    28      2360       1308.0      0.6      6.4                  a = agent1.valid_step(output.p, &self.env.players[self.env.current_player].hand_cards)\n",
       "    29                                                       else:\n",
       "    30      2360       4001.0      1.7     19.6                  agent2.predict_single(&obs, &output)\n",
       "    31      2360       1274.0      0.5      6.3                  a = agent2.valid_step(output.p, &self.env.players[self.env.current_player].hand_cards)\n",
       "    32                                           \n",
       "    33      4720       2872.0      0.6     14.1              self.env.step(a, &obs)\n",
       "    34                                           \n",
       "    35      4720       2306.0      0.5     11.3              if render:\n",
       "    36                                                           self.env.render('human')\n",
       "    37                                                           sleep(2)\n",
       "    38                                                      # if env.lastTrick  is not None:\n",
       "    39                                                       #    break\n",
       "    40                                           \n",
       "    41      1120        539.0      0.5      2.6          return self.env.last_winner\n",
       "    42                                           \n",
       "    43                                               \"\"\"cdef float compare(self, LookUp agent1, LookUp agent2):\n",
       "    44                                                   cdef vector[LookUp] agents\n",
       "    45                                                   agents.push_back(agent1)\n",
       "    46                                                   agents.push_back(agent2)\n",
       "    47                                                   first_player_wins = 0\n",
       "    48                                           \n",
       "    49                                                   for i in range(10000):\n",
       "    50                                                       start_player = rand() % 2\n",
       "    51                                                       winner = self.match([agents[start_player], agents[1 - start_player]])\n",
       "    52                                                       first_player_wins += ((winner == 0) == (start_player == 0))\n",
       "    53                                                       #print(start_player, winner)\n",
       "    54                                           \n",
       "    55                                                   return first_player_wins / 10000\"\"\"\n",
       "    56                                           \n",
       "    57                                               cpdef float compare_given_games(self, LookUp agent1, LookUp agent2, ModelRating rating):\n",
       "    58                                                   cdef int i, first_player_wins, winner, start_player\n",
       "    59                                                   first_player_wins = 0\n",
       "    60                                           \n",
       "    61                                                   for i in range(rating.eval_games.size()):\n",
       "    62                                                       for start_player in range(2):\n",
       "    63                                                           self.env.set_state(&rating.eval_games[i])\n",
       "    64                                                           self.env.current_player = start_player\n",
       "    65                                                           winner = self.match(agent1, agent2, render=False, reset=False)\n",
       "    66                                                           first_player_wins += (winner == 0)\n",
       "    67                                           \n",
       "    68                                                   return <float>first_player_wins / (rating.eval_games.size() * 2)\n",
       "    69                                           \n",
       "    70                                               def test(self):\n",
       "    71                                                   pass"
      ]
     },
     "metadata": {},
     "output_type": "display_data"
    }
   ],
   "source": [
    "%lprun -f game.match game.compare_given_games(model, best_model, rating)"
   ]
  },
  {
   "cell_type": "code",
   "execution_count": 4,
   "metadata": {},
   "outputs": [
    {
     "name": "stdout",
     "output_type": "stream",
     "text": [
      "Sat Mar 24 00:38:45 2018    Profile.prof\n",
      "\n",
      "         4 function calls in 0.007 seconds\n",
      "\n",
      "   Random listing order was used\n",
      "\n",
      "   ncalls  tottime  percall  cumtime  percall filename:lineno(function)\n",
      "        1    0.000    0.000    0.007    0.007 {built-in method builtins.exec}\n",
      "        1    0.007    0.007    0.007    0.007 {method 'compare_given_games' of 'src.Game.Game' objects}\n",
      "        1    0.000    0.000    0.000    0.000 {method 'disable' of '_lsprof.Profiler' objects}\n",
      "        1    0.000    0.000    0.007    0.007 <string>:1(<module>)\n",
      "\n",
      "\n"
     ]
    },
    {
     "data": {
      "text/plain": [
       "<pstats.Stats at 0x7f680c15bc88>"
      ]
     },
     "execution_count": 4,
     "metadata": {},
     "output_type": "execute_result"
    }
   ],
   "source": [
    "import pstats, cProfile\n",
    "\n",
    "cProfile.runctx(\"game.compare_given_games(model, best_model, rating)\", globals(), locals(), \"Profile.prof\")\n",
    "\n",
    "s = pstats.Stats(\"Profile.prof\")\n",
    "s.print_stats()"
   ]
  },
  {
   "cell_type": "code",
   "execution_count": 5,
   "metadata": {},
   "outputs": [
    {
     "name": "stderr",
     "output_type": "stream",
     "text": [
      "/usr/local/lib/python3.6/dist-packages/line_profiler.py:321: UserWarning: Could not extract a code object for the object 'mcts.mcts_sample'\n",
      "  profile = LineProfiler(*funcs)\n"
     ]
    },
    {
     "ename": "NameError",
     "evalue": "name 'train' is not defined",
     "output_type": "error",
     "traceback": [
      "\u001b[0;31m---------------------------------------------------------------------------\u001b[0m",
      "\u001b[0;31mNameError\u001b[0m                                 Traceback (most recent call last)",
      "\u001b[0;32m<ipython-input-5-f70d8ba2d533>\u001b[0m in \u001b[0;36m<module>\u001b[0;34m()\u001b[0m\n\u001b[0;32m----> 1\u001b[0;31m \u001b[0mget_ipython\u001b[0m\u001b[0;34m(\u001b[0m\u001b[0;34m)\u001b[0m\u001b[0;34m.\u001b[0m\u001b[0mrun_line_magic\u001b[0m\u001b[0;34m(\u001b[0m\u001b[0;34m'lprun'\u001b[0m\u001b[0;34m,\u001b[0m \u001b[0;34m'-f \"mcts.mcts_sample\" train(env, model, storage, mcts)'\u001b[0m\u001b[0;34m)\u001b[0m\u001b[0;34m\u001b[0m\u001b[0m\n\u001b[0m",
      "\u001b[0;32m/usr/local/lib/python3.6/dist-packages/IPython/core/interactiveshell.py\u001b[0m in \u001b[0;36mrun_line_magic\u001b[0;34m(self, magic_name, line, _stack_depth)\u001b[0m\n\u001b[1;32m   2093\u001b[0m                 \u001b[0mkwargs\u001b[0m\u001b[0;34m[\u001b[0m\u001b[0;34m'local_ns'\u001b[0m\u001b[0;34m]\u001b[0m \u001b[0;34m=\u001b[0m \u001b[0msys\u001b[0m\u001b[0;34m.\u001b[0m\u001b[0m_getframe\u001b[0m\u001b[0;34m(\u001b[0m\u001b[0mstack_depth\u001b[0m\u001b[0;34m)\u001b[0m\u001b[0;34m.\u001b[0m\u001b[0mf_locals\u001b[0m\u001b[0;34m\u001b[0m\u001b[0m\n\u001b[1;32m   2094\u001b[0m             \u001b[0;32mwith\u001b[0m \u001b[0mself\u001b[0m\u001b[0;34m.\u001b[0m\u001b[0mbuiltin_trap\u001b[0m\u001b[0;34m:\u001b[0m\u001b[0;34m\u001b[0m\u001b[0m\n\u001b[0;32m-> 2095\u001b[0;31m                 \u001b[0mresult\u001b[0m \u001b[0;34m=\u001b[0m \u001b[0mfn\u001b[0m\u001b[0;34m(\u001b[0m\u001b[0;34m*\u001b[0m\u001b[0margs\u001b[0m\u001b[0;34m,\u001b[0m\u001b[0;34m**\u001b[0m\u001b[0mkwargs\u001b[0m\u001b[0;34m)\u001b[0m\u001b[0;34m\u001b[0m\u001b[0m\n\u001b[0m\u001b[1;32m   2096\u001b[0m             \u001b[0;32mreturn\u001b[0m \u001b[0mresult\u001b[0m\u001b[0;34m\u001b[0m\u001b[0m\n\u001b[1;32m   2097\u001b[0m \u001b[0;34m\u001b[0m\u001b[0m\n",
      "\u001b[0;32m<decorator-gen-125>\u001b[0m in \u001b[0;36mlprun\u001b[0;34m(self, parameter_s)\u001b[0m\n",
      "\u001b[0;32m/usr/local/lib/python3.6/dist-packages/IPython/core/magic.py\u001b[0m in \u001b[0;36m<lambda>\u001b[0;34m(f, *a, **k)\u001b[0m\n\u001b[1;32m    185\u001b[0m     \u001b[0;31m# but it's overkill for just that one bit of state.\u001b[0m\u001b[0;34m\u001b[0m\u001b[0;34m\u001b[0m\u001b[0m\n\u001b[1;32m    186\u001b[0m     \u001b[0;32mdef\u001b[0m \u001b[0mmagic_deco\u001b[0m\u001b[0;34m(\u001b[0m\u001b[0marg\u001b[0m\u001b[0;34m)\u001b[0m\u001b[0;34m:\u001b[0m\u001b[0;34m\u001b[0m\u001b[0m\n\u001b[0;32m--> 187\u001b[0;31m         \u001b[0mcall\u001b[0m \u001b[0;34m=\u001b[0m \u001b[0;32mlambda\u001b[0m \u001b[0mf\u001b[0m\u001b[0;34m,\u001b[0m \u001b[0;34m*\u001b[0m\u001b[0ma\u001b[0m\u001b[0;34m,\u001b[0m \u001b[0;34m**\u001b[0m\u001b[0mk\u001b[0m\u001b[0;34m:\u001b[0m \u001b[0mf\u001b[0m\u001b[0;34m(\u001b[0m\u001b[0;34m*\u001b[0m\u001b[0ma\u001b[0m\u001b[0;34m,\u001b[0m \u001b[0;34m**\u001b[0m\u001b[0mk\u001b[0m\u001b[0;34m)\u001b[0m\u001b[0;34m\u001b[0m\u001b[0m\n\u001b[0m\u001b[1;32m    188\u001b[0m \u001b[0;34m\u001b[0m\u001b[0m\n\u001b[1;32m    189\u001b[0m         \u001b[0;32mif\u001b[0m \u001b[0mcallable\u001b[0m\u001b[0;34m(\u001b[0m\u001b[0marg\u001b[0m\u001b[0;34m)\u001b[0m\u001b[0;34m:\u001b[0m\u001b[0;34m\u001b[0m\u001b[0m\n",
      "\u001b[0;32m/usr/local/lib/python3.6/dist-packages/line_profiler.py\u001b[0m in \u001b[0;36mlprun\u001b[0;34m(self, parameter_s)\u001b[0m\n\u001b[1;32m    354\u001b[0m         \u001b[0;32mtry\u001b[0m\u001b[0;34m:\u001b[0m\u001b[0;34m\u001b[0m\u001b[0m\n\u001b[1;32m    355\u001b[0m             \u001b[0;32mtry\u001b[0m\u001b[0;34m:\u001b[0m\u001b[0;34m\u001b[0m\u001b[0m\n\u001b[0;32m--> 356\u001b[0;31m                 \u001b[0mprofile\u001b[0m\u001b[0;34m.\u001b[0m\u001b[0mrunctx\u001b[0m\u001b[0;34m(\u001b[0m\u001b[0marg_str\u001b[0m\u001b[0;34m,\u001b[0m \u001b[0mglobal_ns\u001b[0m\u001b[0;34m,\u001b[0m \u001b[0mlocal_ns\u001b[0m\u001b[0;34m)\u001b[0m\u001b[0;34m\u001b[0m\u001b[0m\n\u001b[0m\u001b[1;32m    357\u001b[0m                 \u001b[0mmessage\u001b[0m \u001b[0;34m=\u001b[0m \u001b[0;34m''\u001b[0m\u001b[0;34m\u001b[0m\u001b[0m\n\u001b[1;32m    358\u001b[0m             \u001b[0;32mexcept\u001b[0m \u001b[0mSystemExit\u001b[0m\u001b[0;34m:\u001b[0m\u001b[0;34m\u001b[0m\u001b[0m\n",
      "\u001b[0;32m/usr/local/lib/python3.6/dist-packages/line_profiler.py\u001b[0m in \u001b[0;36mrunctx\u001b[0;34m(self, cmd, globals, locals)\u001b[0m\n\u001b[1;32m    149\u001b[0m         \u001b[0mself\u001b[0m\u001b[0;34m.\u001b[0m\u001b[0menable_by_count\u001b[0m\u001b[0;34m(\u001b[0m\u001b[0;34m)\u001b[0m\u001b[0;34m\u001b[0m\u001b[0m\n\u001b[1;32m    150\u001b[0m         \u001b[0;32mtry\u001b[0m\u001b[0;34m:\u001b[0m\u001b[0;34m\u001b[0m\u001b[0m\n\u001b[0;32m--> 151\u001b[0;31m             \u001b[0mexec_\u001b[0m\u001b[0;34m(\u001b[0m\u001b[0mcmd\u001b[0m\u001b[0;34m,\u001b[0m \u001b[0mglobals\u001b[0m\u001b[0;34m,\u001b[0m \u001b[0mlocals\u001b[0m\u001b[0;34m)\u001b[0m\u001b[0;34m\u001b[0m\u001b[0m\n\u001b[0m\u001b[1;32m    152\u001b[0m         \u001b[0;32mfinally\u001b[0m\u001b[0;34m:\u001b[0m\u001b[0;34m\u001b[0m\u001b[0m\n\u001b[1;32m    153\u001b[0m             \u001b[0mself\u001b[0m\u001b[0;34m.\u001b[0m\u001b[0mdisable_by_count\u001b[0m\u001b[0;34m(\u001b[0m\u001b[0;34m)\u001b[0m\u001b[0;34m\u001b[0m\u001b[0m\n",
      "\u001b[0;32m<string>\u001b[0m in \u001b[0;36m<module>\u001b[0;34m()\u001b[0m\n",
      "\u001b[0;31mNameError\u001b[0m: name 'train' is not defined"
     ]
    }
   ],
   "source": [
    "%lprun -f \"mcts.mcts_sample\" train(env, model, storage, mcts)"
   ]
  },
  {
   "cell_type": "code",
   "execution_count": 62,
   "metadata": {},
   "outputs": [],
   "source": [
    "model.set_weights(trained_model.get_weights())"
   ]
  },
  {
   "cell_type": "code",
   "execution_count": 92,
   "metadata": {},
   "outputs": [
    {
     "data": {
      "text/plain": [
       "0.690327380952381"
      ]
     },
     "execution_count": 92,
     "metadata": {},
     "output_type": "execute_result"
    }
   ],
   "source": [
    "eval(models[1], eval_games)"
   ]
  },
  {
   "cell_type": "code",
   "execution_count": 272,
   "metadata": {},
   "outputs": [
    {
     "data": {
      "text/plain": [
       "[0.02589285714285713]"
      ]
     },
     "execution_count": 272,
     "metadata": {},
     "output_type": "execute_result"
    }
   ],
   "source": [
    "all_eval_scores"
   ]
  },
  {
   "cell_type": "code",
   "execution_count": 251,
   "metadata": {},
   "outputs": [
    {
     "data": {
      "text/plain": [
       "array([1.])"
      ]
     },
     "execution_count": 251,
     "metadata": {},
     "output_type": "execute_result"
    }
   ],
   "source": [
    "sample_outputs[1][9]"
   ]
  },
  {
   "cell_type": "code",
   "execution_count": 209,
   "metadata": {},
   "outputs": [
    {
     "data": {
      "text/plain": [
       "0.5410714285714285"
      ]
     },
     "execution_count": 209,
     "metadata": {},
     "output_type": "execute_result"
    }
   ],
   "source": [
    "compare_given_games(model, first_model, eval_games)"
   ]
  },
  {
   "cell_type": "code",
   "execution_count": 200,
   "metadata": {},
   "outputs": [
    {
     "ename": "NameError",
     "evalue": "name 'train_inputs' is not defined",
     "output_type": "error",
     "traceback": [
      "\u001b[0;31m---------------------------------------------------------------------------\u001b[0m",
      "\u001b[0;31mNameError\u001b[0m                                 Traceback (most recent call last)",
      "\u001b[0;32m<ipython-input-200-aa729d99c6ca>\u001b[0m in \u001b[0;36m<module>\u001b[0;34m()\u001b[0m\n\u001b[0;32m----> 1\u001b[0;31m \u001b[0mmodel\u001b[0m\u001b[0;34m.\u001b[0m\u001b[0mpredict_single\u001b[0m\u001b[0;34m(\u001b[0m\u001b[0;34m[\u001b[0m\u001b[0mtrain_inputs\u001b[0m\u001b[0;34m[\u001b[0m\u001b[0;36m0\u001b[0m\u001b[0;34m]\u001b[0m\u001b[0;34m[\u001b[0m\u001b[0mnext_index\u001b[0m \u001b[0;34m-\u001b[0m \u001b[0;36m2\u001b[0m\u001b[0;34m]\u001b[0m\u001b[0;34m,\u001b[0m \u001b[0mtrain_inputs\u001b[0m\u001b[0;34m[\u001b[0m\u001b[0;36m1\u001b[0m\u001b[0;34m]\u001b[0m\u001b[0;34m[\u001b[0m\u001b[0mnext_index\u001b[0m \u001b[0;34m-\u001b[0m \u001b[0;36m2\u001b[0m\u001b[0;34m]\u001b[0m\u001b[0;34m]\u001b[0m\u001b[0;34m)\u001b[0m\u001b[0;34m\u001b[0m\u001b[0m\n\u001b[0m",
      "\u001b[0;31mNameError\u001b[0m: name 'train_inputs' is not defined"
     ]
    }
   ],
   "source": [
    "model.predict_single([train_inputs[0][next_index - 2], train_inputs[1][next_index - 2]])"
   ]
  },
  {
   "cell_type": "code",
   "execution_count": 45,
   "metadata": {},
   "outputs": [
    {
     "data": {
      "text/plain": [
       "array([0.258651  , 0.        , 0.        , 0.        , 0.        ,\n",
       "       0.        , 0.        , 0.        , 0.        , 0.        ,\n",
       "       0.        , 0.27687292, 0.        , 0.        , 0.        ,\n",
       "       0.46447608, 0.        , 0.        , 0.        , 0.        ,\n",
       "       0.        , 0.        , 0.        , 0.        , 0.        ,\n",
       "       0.        , 0.        , 0.        , 0.        , 0.        ,\n",
       "       0.        , 0.        ])"
      ]
     },
     "execution_count": 45,
     "metadata": {},
     "output_type": "execute_result"
    }
   ],
   "source": [
    "train_outputs[0][next_index - 2]"
   ]
  },
  {
   "cell_type": "code",
   "execution_count": 46,
   "metadata": {},
   "outputs": [
    {
     "data": {
      "text/plain": [
       "array([[[0, 1],\n",
       "        [0, 0],\n",
       "        [0, 0],\n",
       "        [0, 0],\n",
       "        [0, 0],\n",
       "        [0, 0],\n",
       "        [0, 0],\n",
       "        [1, 0]],\n",
       "\n",
       "       [[1, 0],\n",
       "        [0, 0],\n",
       "        [0, 0],\n",
       "        [0, 0],\n",
       "        [1, 0],\n",
       "        [0, 0],\n",
       "        [0, 0],\n",
       "        [0, 0]],\n",
       "\n",
       "       [[0, 0],\n",
       "        [0, 0],\n",
       "        [0, 0],\n",
       "        [0, 0],\n",
       "        [0, 0],\n",
       "        [0, 0],\n",
       "        [0, 0],\n",
       "        [0, 0]],\n",
       "\n",
       "       [[0, 0],\n",
       "        [0, 0],\n",
       "        [0, 0],\n",
       "        [0, 0],\n",
       "        [0, 0],\n",
       "        [0, 0],\n",
       "        [0, 0],\n",
       "        [0, 0]]])"
      ]
     },
     "execution_count": 46,
     "metadata": {},
     "output_type": "execute_result"
    }
   ],
   "source": [
    "train_inputs[0][next_index - 2]"
   ]
  },
  {
   "cell_type": "code",
   "execution_count": 111,
   "metadata": {},
   "outputs": [],
   "source": [
    "test_model = build_model()"
   ]
  },
  {
   "cell_type": "code",
   "execution_count": 72,
   "metadata": {},
   "outputs": [],
   "source": [
    "K.set_value(test_model.optimizer.lr, 0.0001)"
   ]
  },
  {
   "cell_type": "code",
   "execution_count": 132,
   "metadata": {},
   "outputs": [
    {
     "name": "stdout",
     "output_type": "stream",
     "text": [
      "Epoch 1/10\n",
      "37764/37764 [==============================] - 1s 27us/step - loss: 0.6618 - dense_14_loss: 2.8052e-04 - dense_15_loss: 0.6615 - dense_14_acc: 0.5164 - dense_15_acc: 0.4518\n",
      "Epoch 2/10\n",
      "37764/37764 [==============================] - 1s 24us/step - loss: 0.6619 - dense_14_loss: 2.7928e-04 - dense_15_loss: 0.6616 - dense_14_acc: 0.5180 - dense_15_acc: 0.4519\n",
      "Epoch 3/10\n",
      "37764/37764 [==============================] - 1s 24us/step - loss: 0.6618 - dense_14_loss: 2.7612e-04 - dense_15_loss: 0.6616 - dense_14_acc: 0.5203 - dense_15_acc: 0.4518\n",
      "Epoch 4/10\n",
      "37764/37764 [==============================] - 1s 24us/step - loss: 0.6618 - dense_14_loss: 2.7579e-04 - dense_15_loss: 0.6615 - dense_14_acc: 0.5171 - dense_15_acc: 0.4513\n",
      "Epoch 5/10\n",
      "37764/37764 [==============================] - 1s 25us/step - loss: 0.6618 - dense_14_loss: 2.7352e-04 - dense_15_loss: 0.6615 - dense_14_acc: 0.5153 - dense_15_acc: 0.4513\n",
      "Epoch 6/10\n",
      "37764/37764 [==============================] - 1s 26us/step - loss: 0.6618 - dense_14_loss: 2.7305e-04 - dense_15_loss: 0.6616 - dense_14_acc: 0.5205 - dense_15_acc: 0.4518\n",
      "Epoch 7/10\n",
      "37764/37764 [==============================] - 1s 25us/step - loss: 0.6618 - dense_14_loss: 2.7032e-04 - dense_15_loss: 0.6615 - dense_14_acc: 0.5186 - dense_15_acc: 0.4522\n",
      "Epoch 8/10\n",
      "37764/37764 [==============================] - 1s 27us/step - loss: 0.6618 - dense_14_loss: 2.6888e-04 - dense_15_loss: 0.6615 - dense_14_acc: 0.5183 - dense_15_acc: 0.4515\n",
      "Epoch 9/10\n",
      "37764/37764 [==============================] - 1s 27us/step - loss: 0.6617 - dense_14_loss: 2.6399e-04 - dense_15_loss: 0.6615 - dense_14_acc: 0.5184 - dense_15_acc: 0.4523\n",
      "Epoch 10/10\n",
      "37764/37764 [==============================] - 1s 27us/step - loss: 0.6618 - dense_14_loss: 2.6460e-04 - dense_15_loss: 0.6615 - dense_14_acc: 0.5190 - dense_15_acc: 0.4518\n"
     ]
    },
    {
     "data": {
      "text/plain": [
       "<keras.callbacks.History at 0x7f44962f95f8>"
      ]
     },
     "execution_count": 132,
     "metadata": {},
     "output_type": "execute_result"
    }
   ],
   "source": [
    "test_model.fit([sample_inputs[0][:number_of_samples], sample_inputs[1][:number_of_samples]], [sample_outputs[0][:number_of_samples], sample_outputs[1][:number_of_samples]], epochs=10, batch_size=BATCH_SIZE)  "
   ]
  },
  {
   "cell_type": "code",
   "execution_count": 116,
   "metadata": {},
   "outputs": [
    {
     "data": {
      "text/plain": [
       "[array([0.0053017 , 0.0045248 , 0.00548624, 0.00582314, 0.0070843 ,\n",
       "        0.00583717, 0.00645116, 0.00290738, 0.00513383, 0.0056636 ,\n",
       "        0.331735  , 0.00607965, 0.0053452 , 0.00601907, 0.33392397,\n",
       "        0.0070668 , 0.00368037, 0.01111693, 0.00290891, 0.00334794,\n",
       "        0.00270144, 0.00335149, 0.00295761, 0.00356095, 0.00431994,\n",
       "        0.00539099, 0.00628497, 0.00557014, 0.3452927 , 0.00649954,\n",
       "        0.00652416, 0.00288056], dtype=float32),\n",
       " array([-0.81022185], dtype=float32)]"
      ]
     },
     "execution_count": 116,
     "metadata": {},
     "output_type": "execute_result"
    }
   ],
   "source": [
    "test_model.predict_single([sample_inputs[0][5], sample_inputs[1][5]])"
   ]
  },
  {
   "cell_type": "code",
   "execution_count": 110,
   "metadata": {},
   "outputs": [
    {
     "data": {
      "text/plain": [
       "37764"
      ]
     },
     "execution_count": 110,
     "metadata": {},
     "output_type": "execute_result"
    }
   ],
   "source": [
    "sample_outputs[0][10]"
   ]
  },
  {
   "cell_type": "code",
   "execution_count": 152,
   "metadata": {},
   "outputs": [
    {
     "data": {
      "text/plain": [
       "array([0.        , 0.23038077, 0.        , 0.        , 0.        ,\n",
       "       0.        , 0.        , 0.        , 0.        , 0.        ,\n",
       "       0.        , 0.        , 0.15442885, 0.        , 0.        ,\n",
       "       0.        , 0.        , 0.        , 0.        , 0.23038077,\n",
       "       0.        , 0.        , 0.        , 0.23038077, 0.        ,\n",
       "       0.        , 0.        , 0.        , 0.15442885, 0.        ,\n",
       "       0.        , 0.        ])"
      ]
     },
     "execution_count": 152,
     "metadata": {},
     "output_type": "execute_result"
    }
   ],
   "source": [
    "sample_outputs[0][10638]"
   ]
  },
  {
   "cell_type": "code",
   "execution_count": 97,
   "metadata": {},
   "outputs": [
    {
     "data": {
      "text/plain": [
       "0.127"
      ]
     },
     "execution_count": 97,
     "metadata": {},
     "output_type": "execute_result"
    }
   ],
   "source": [
    "eval(model, eval_cache_input, eval_cache_output)"
   ]
  },
  {
   "cell_type": "code",
   "execution_count": 133,
   "metadata": {},
   "outputs": [
    {
     "data": {
      "text/plain": [
       "0.8743247537337147"
      ]
     },
     "execution_count": 133,
     "metadata": {},
     "output_type": "execute_result"
    }
   ],
   "source": [
    "model_output = test_model.predict([sample_inputs[0][:number_of_samples], sample_inputs[1][:number_of_samples]])[0]\n",
    "a = np.argmax(model_output, axis=-1)\n",
    "k = np.equal(np.take(sample_outputs[0][:number_of_samples], np.argmax(sample_outputs[0][:number_of_samples], axis=-1)), np.take(sample_outputs[0][:number_of_samples], a)).sum()\n",
    "k / number_of_samples"
   ]
  },
  {
   "cell_type": "code",
   "execution_count": 102,
   "metadata": {},
   "outputs": [
    {
     "ename": "AttributeError",
     "evalue": "'LookUp' object has no attribute 'save'",
     "output_type": "error",
     "traceback": [
      "\u001b[0;31m---------------------------------------------------------------------------\u001b[0m",
      "\u001b[0;31mAttributeError\u001b[0m                            Traceback (most recent call last)",
      "\u001b[0;32m<ipython-input-102-51cb5e688689>\u001b[0m in \u001b[0;36m<module>\u001b[0;34m()\u001b[0m\n\u001b[0;32m----> 1\u001b[0;31m \u001b[0mmodel\u001b[0m\u001b[0;34m.\u001b[0m\u001b[0msave\u001b[0m\u001b[0;34m(\u001b[0m\u001b[0;34m'modelDense3.h5'\u001b[0m\u001b[0;34m)\u001b[0m\u001b[0;34m\u001b[0m\u001b[0m\n\u001b[0m",
      "\u001b[0;31mAttributeError\u001b[0m: 'LookUp' object has no attribute 'save'"
     ]
    }
   ],
   "source": [
    "model.save('modelDense3.h5')"
   ]
  },
  {
   "cell_type": "code",
   "execution_count": 82,
   "metadata": {},
   "outputs": [],
   "source": [
    "model.load_weights('modelDense2.h5')"
   ]
  },
  {
   "cell_type": "code",
   "execution_count": 97,
   "metadata": {},
   "outputs": [
    {
     "ename": "IndexError",
     "evalue": "list index out of range",
     "output_type": "error",
     "traceback": [
      "\u001b[0;31m---------------------------------------------------------------------------\u001b[0m",
      "\u001b[0;31mIndexError\u001b[0m                                Traceback (most recent call last)",
      "\u001b[0;32m<ipython-input-97-545214702627>\u001b[0m in \u001b[0;36m<module>\u001b[0;34m()\u001b[0m\n\u001b[0;32m----> 1\u001b[0;31m \u001b[0mcompare_given_games\u001b[0m\u001b[0;34m(\u001b[0m\u001b[0mbest_model\u001b[0m\u001b[0;34m,\u001b[0m \u001b[0mmodels\u001b[0m\u001b[0;34m[\u001b[0m\u001b[0;36m2\u001b[0m\u001b[0;34m]\u001b[0m\u001b[0;34m,\u001b[0m \u001b[0meval_games\u001b[0m\u001b[0;34m)\u001b[0m\u001b[0;34m\u001b[0m\u001b[0m\n\u001b[0m",
      "\u001b[0;31mIndexError\u001b[0m: list index out of range"
     ]
    }
   ],
   "source": [
    "compare_given_games(best_model, models[2], eval_games)"
   ]
  },
  {
   "cell_type": "code",
   "execution_count": 66,
   "metadata": {},
   "outputs": [],
   "source": [
    "models.append(best_model)"
   ]
  },
  {
   "cell_type": "code",
   "execution_count": 57,
   "metadata": {},
   "outputs": [],
   "source": [
    "models = []"
   ]
  },
  {
   "cell_type": "code",
   "execution_count": 274,
   "metadata": {},
   "outputs": [],
   "source": [
    "first_nn_model = model"
   ]
  },
  {
   "cell_type": "code",
   "execution_count": 74,
   "metadata": {},
   "outputs": [
    {
     "data": {
      "text/plain": [
       "0.690327380952381"
      ]
     },
     "execution_count": 74,
     "metadata": {},
     "output_type": "execute_result"
    }
   ],
   "source": [
    "eval(best_model, eval_games)"
   ]
  },
  {
   "cell_type": "code",
   "execution_count": 25,
   "metadata": {},
   "outputs": [
    {
     "name": "stdout",
     "output_type": "stream",
     "text": [
      "__________________________________________________________________________________________________\n",
      "Layer (type)                    Output Shape         Param #     Connected to                     \n",
      "==================================================================================================\n",
      "input_1 (InputLayer)            (None, 4, 8, 2)      0                                            \n",
      "__________________________________________________________________________________________________\n",
      "flatten_1 (Flatten)             (None, 64)           0           input_1[0][0]                    \n",
      "__________________________________________________________________________________________________\n",
      "input_2 (InputLayer)            (None, 4)            0                                            \n",
      "__________________________________________________________________________________________________\n",
      "concatenate_1 (Concatenate)     (None, 68)           0           flatten_1[0][0]                  \n",
      "                                                                 input_2[0][0]                    \n",
      "__________________________________________________________________________________________________\n",
      "dense_1 (Dense)                 (None, 1024)         70656       concatenate_1[0][0]              \n",
      "__________________________________________________________________________________________________\n",
      "concatenate_2 (Concatenate)     (None, 68)           0           flatten_1[0][0]                  \n",
      "                                                                 input_2[0][0]                    \n",
      "__________________________________________________________________________________________________\n",
      "dense_2 (Dense)                 (None, 32)           32800       dense_1[0][0]                    \n",
      "__________________________________________________________________________________________________\n",
      "dense_3 (Dense)                 (None, 1)            69          concatenate_2[0][0]              \n",
      "==================================================================================================\n",
      "Total params: 103,525\n",
      "Trainable params: 103,525\n",
      "Non-trainable params: 0\n",
      "__________________________________________________________________________________________________\n"
     ]
    }
   ],
   "source": [
    "model.summary()"
   ]
  },
  {
   "cell_type": "code",
   "execution_count": null,
   "metadata": {},
   "outputs": [],
   "source": []
  }
 ],
 "metadata": {
  "kernelspec": {
   "display_name": "Python 3",
   "language": "python",
   "name": "python3"
  },
  "language_info": {
   "codemirror_mode": {
    "name": "ipython",
    "version": 3
   },
   "file_extension": ".py",
   "mimetype": "text/x-python",
   "name": "python",
   "nbconvert_exporter": "python",
   "pygments_lexer": "ipython3",
   "version": "3.6.3"
  }
 },
 "nbformat": 4,
 "nbformat_minor": 2
}
